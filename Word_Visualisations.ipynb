{
  "cells": [
    {
      "cell_type": "code",
      "execution_count": 1,
      "metadata": {
        "id": "r24x8FoqPCIs"
      },
      "outputs": [],
      "source": [
        "import numpy as np\n",
        "import pandas as pd\n",
        "import matplotlib.pyplot as plt\n",
        "import seaborn as sns\n",
        "import urllib\n",
        "import re\n",
        "from nltk.corpus import stopwords\n",
        "import os \n",
        "%matplotlib inline"
      ]
    },
    {
      "cell_type": "code",
      "execution_count": 2,
      "metadata": {},
      "outputs": [
        {
          "name": "stdout",
          "output_type": "stream",
          "text": [
            "<class 'pandas.core.frame.DataFrame'>\n",
            "RangeIndex: 377 entries, 0 to 376\n",
            "Data columns (total 1 columns):\n",
            " #   Column  Non-Null Count  Dtype \n",
            "---  ------  --------------  ----- \n",
            " 0   text    377 non-null    object\n",
            "dtypes: object(1)\n",
            "memory usage: 3.1+ KB\n",
            "None\n"
          ]
        },
        {
          "data": {
            "text/html": [
              "<div>\n",
              "<style scoped>\n",
              "    .dataframe tbody tr th:only-of-type {\n",
              "        vertical-align: middle;\n",
              "    }\n",
              "\n",
              "    .dataframe tbody tr th {\n",
              "        vertical-align: top;\n",
              "    }\n",
              "\n",
              "    .dataframe thead th {\n",
              "        text-align: right;\n",
              "    }\n",
              "</style>\n",
              "<table border=\"1\" class=\"dataframe\">\n",
              "  <thead>\n",
              "    <tr style=\"text-align: right;\">\n",
              "      <th></th>\n",
              "      <th>text</th>\n",
              "    </tr>\n",
              "  </thead>\n",
              "  <tbody>\n",
              "    <tr>\n",
              "      <th>0</th>\n",
              "      <td>the colours made patterns when i had my eyes c...</td>\n",
              "    </tr>\n",
              "    <tr>\n",
              "      <th>1</th>\n",
              "      <td>Intense chaos. And then my mind checked out an...</td>\n",
              "    </tr>\n",
              "    <tr>\n",
              "      <th>2</th>\n",
              "      <td>good stuff.\\n</td>\n",
              "    </tr>\n",
              "    <tr>\n",
              "      <th>3</th>\n",
              "      <td>a pattern of red and white lights thatflashed ...</td>\n",
              "    </tr>\n",
              "    <tr>\n",
              "      <th>4</th>\n",
              "      <td>i wentback to many hard and mostly beautiful m...</td>\n",
              "    </tr>\n",
              "  </tbody>\n",
              "</table>\n",
              "</div>"
            ],
            "text/plain": [
              "                                                text\n",
              "0  the colours made patterns when i had my eyes c...\n",
              "1  Intense chaos. And then my mind checked out an...\n",
              "2                                      good stuff.\\n\n",
              "3  a pattern of red and white lights thatflashed ...\n",
              "4  i wentback to many hard and mostly beautiful m..."
            ]
          },
          "execution_count": 2,
          "metadata": {},
          "output_type": "execute_result"
        }
      ],
      "source": [
        "from pathlib import Path\n",
        "\n",
        "condition = \"Dreamachine\"\n",
        "\n",
        "metaproject_name = 'TopicModelling_META'\n",
        "subproject_name = 'TopMod_pipeline'\n",
        "dataset_name = f'{condition}_dataset.csv'\n",
        "\n",
        "PROJDIR = os.path.expanduser(f\"~/projects/{metaproject_name}\")\n",
        "DATADIR = os.path.join(PROJDIR,f'DATA/{dataset_name}')\n",
        "CODEDIR = os.path.join(PROJDIR,f'{subproject_name}')\n",
        "\n",
        "\n",
        "reports = pd.read_csv(DATADIR,usecols=['text'])\n",
        "print(reports.info())\n",
        "reports.head()"
      ]
    },
    {
      "attachments": {},
      "cell_type": "markdown",
      "metadata": {},
      "source": [
        "### Text preprocessing : removing stopwords and punctuation"
      ]
    },
    {
      "cell_type": "code",
      "execution_count": 3,
      "metadata": {
        "colab": {
          "base_uri": "https://localhost:8080/"
        },
        "id": "vZ2bsNdIQfTf",
        "outputId": "3386bc07-5c80-441b-b8ff-f33148d3eb11"
      },
      "outputs": [],
      "source": [
        "import re \n",
        "\n",
        "# Remove punctuation\n",
        "def process_text(x):\n",
        "    if isinstance(x, str):  # check if x is of type string\n",
        "        x = re.sub('[-;,\\'.!?:]', '', x)  # if it is, do the replacement\n",
        "        x = re.sub('^[0-9]+', '', x)  # remove initial numbers\n",
        "        return x.lower()\n",
        "    else:\n",
        "        return \"\"  # otherwise, return an empty string or you can convert it to string by using `return str(x)`\n",
        "\n",
        "reports['text_processed'] = reports['text'].map(process_text)\n",
        "\n",
        "# Convert the titles to lowercase\n",
        "reports['text_processed'] = reports['text_processed'].map(lambda x: x.lower())\n",
        "\n",
        "# Print out the first rows of papers\n",
        "reports['text_processed'].head()\n",
        "all_reports_list = ' '.join(reports['text_processed'].tolist()).replace('\\n', '') #creates one big list concatanating all reports in one str\n",
        "\n",
        "\n",
        "\n",
        "#Creation stopwords\n",
        "#dreamachine_stop_words = ['experience','experiences','felt','closed','eyes','experienced','like','many','also','end','one','eg','another','thanks','fell','feels','alot','charlie','keep','made','almost','feel','really','something','would','never','back','lot','things','much','could','see','saw','sometimes','thoughts','bit','nd','sense','devtest','light','lights','thought','well','way','away','get','coming','came','take','though']\n",
        "dreamachine_stop_words_list1 = ['less','mean','pause','[pause]','[laughs]','dont','quite','eh','hm','moment','[pasue]','yes','kind','looking','say','sort','sure','look','makes','pasue','distance','always','think','know','literally','describe','descriptives','differently','let','depending','CR','okay','mm','Okay','yeah','thing','stop','erm','pause','experience','experiences','felt','closed','eyes','experienced','like','many','also','end','one','eg','another','thanks','fell','feels','alot','charlie','keep','made','almost','feel','really','something','would','never','back','lot','things','much','could','see','saw','sometimes','thoughts','bit','nd','sense','devtest','light','lights','thought','well','way','away','get','coming','came','take','though']\n",
        "dreamachine_stop_words_list2 = ['yes','kind','looking','say','sort','sure','look','makes','pasue','distance','always','think','know','literally','describe','descriptives','differently','let','depending','CR','okay','mm','Okay','yeah','thing','stop','erm','pause','experience','experiences','felt','closed','eyes','experienced','like','many','also','end','one','eg','another','thanks','fell','feels','alot','charlie','keep','made','almost','feel','really','something','would','never','back','lot','things','much','could','see','saw','sometimes','thoughts','bit','nd','sense','devtest','light','lights','thought','well','way','away','get','coming','came','take','though']\n",
        "new_stop_words = ['found','think','didnt','across','even','front','go','kept','took','wasnt','looking','trying','thinking','ive','point','lots','couldnt','next','got','first']\n",
        "general_stop_words = ['from']\n",
        "stop_words_eng = stopwords.words('english')\n",
        "stop_words_list = stop_words_eng + dreamachine_stop_words_list1 + dreamachine_stop_words_list2 + general_stop_words+new_stop_words\n",
        "# print(stop_words_list)\n"
      ]
    },
    {
      "cell_type": "code",
      "execution_count": 4,
      "metadata": {
        "colab": {
          "base_uri": "https://localhost:8080/",
          "height": 363
        },
        "id": "Knsh4IySPYEl",
        "outputId": "6cad216a-9289-4807-98df-6ab83f3e1e64"
      },
      "outputs": [
        {
          "data": {
            "text/html": [
              "<div>\n",
              "<style scoped>\n",
              "    .dataframe tbody tr th:only-of-type {\n",
              "        vertical-align: middle;\n",
              "    }\n",
              "\n",
              "    .dataframe tbody tr th {\n",
              "        vertical-align: top;\n",
              "    }\n",
              "\n",
              "    .dataframe thead th {\n",
              "        text-align: right;\n",
              "    }\n",
              "</style>\n",
              "<table border=\"1\" class=\"dataframe\">\n",
              "  <thead>\n",
              "    <tr style=\"text-align: right;\">\n",
              "      <th></th>\n",
              "      <th>words</th>\n",
              "      <th>count</th>\n",
              "    </tr>\n",
              "  </thead>\n",
              "  <tbody>\n",
              "    <tr>\n",
              "      <th>0</th>\n",
              "      <td>colours</td>\n",
              "      <td>34</td>\n",
              "    </tr>\n",
              "    <tr>\n",
              "      <th>1</th>\n",
              "      <td>time</td>\n",
              "      <td>32</td>\n",
              "    </tr>\n",
              "    <tr>\n",
              "      <th>2</th>\n",
              "      <td>music</td>\n",
              "      <td>27</td>\n",
              "    </tr>\n",
              "    <tr>\n",
              "      <th>3</th>\n",
              "      <td>space</td>\n",
              "      <td>25</td>\n",
              "    </tr>\n",
              "    <tr>\n",
              "      <th>4</th>\n",
              "      <td>patterns</td>\n",
              "      <td>23</td>\n",
              "    </tr>\n",
              "    <tr>\n",
              "      <th>5</th>\n",
              "      <td>body</td>\n",
              "      <td>22</td>\n",
              "    </tr>\n",
              "    <tr>\n",
              "      <th>6</th>\n",
              "      <td>moving</td>\n",
              "      <td>22</td>\n",
              "    </tr>\n",
              "    <tr>\n",
              "      <th>7</th>\n",
              "      <td>shapes</td>\n",
              "      <td>20</td>\n",
              "    </tr>\n",
              "    <tr>\n",
              "      <th>8</th>\n",
              "      <td>mind</td>\n",
              "      <td>18</td>\n",
              "    </tr>\n",
              "    <tr>\n",
              "      <th>9</th>\n",
              "      <td>towards</td>\n",
              "      <td>17</td>\n",
              "    </tr>\n",
              "  </tbody>\n",
              "</table>\n",
              "</div>"
            ],
            "text/plain": [
              "      words  count\n",
              "0   colours     34\n",
              "1      time     32\n",
              "2     music     27\n",
              "3     space     25\n",
              "4  patterns     23\n",
              "5      body     22\n",
              "6    moving     22\n",
              "7    shapes     20\n",
              "8      mind     18\n",
              "9   towards     17"
            ]
          },
          "execution_count": 4,
          "metadata": {},
          "output_type": "execute_result"
        }
      ],
      "source": [
        "\n",
        "\n",
        "#create function to get a DataFrame\n",
        "def get_df(input_text):\n",
        "    list_words = input_text.split(' ')\n",
        "    set_words_full = list(set(list_words))\n",
        "    \n",
        "    #remove stop words\n",
        "    set_words = [i for i in set_words_full if i not in stop_words_list and i != '']\n",
        "    \n",
        "    #count each word\n",
        "    count_words = [list_words.count(i) for i in set_words]\n",
        "    \n",
        "    #create DataFrame\n",
        "    df = pd.DataFrame(zip(set_words, count_words), columns=['words','count'])\n",
        "    df.sort_values('count', ascending=False, inplace=True)\n",
        "    df.reset_index(drop=True, inplace=True)\n",
        "    return df\n",
        "\n",
        "#create function to get a color dictionary\n",
        "def get_colordict(palette,number,start):\n",
        "    pal = list(sns.color_palette(palette=palette, n_colors=number).as_hex())\n",
        "    color_d = dict(enumerate(pal, start=start))\n",
        "    return color_d\n",
        "\n",
        "\n",
        "df_words = get_df(all_reports_list)\n",
        "df_words.head(10)"
      ]
    },
    {
      "cell_type": "code",
      "execution_count": 5,
      "metadata": {
        "colab": {
          "base_uri": "https://localhost:8080/",
          "height": 706
        },
        "id": "2EW_-mneVxnZ",
        "outputId": "cd3cd09a-4aa9-4887-ad26-fde2f88f8d8f"
      },
      "outputs": [
        {
          "data": {
            "image/png": "[encoded data removed]",
            "text/plain": [
              "<Figure size 1300x700 with 5 Axes>"
            ]
          },
          "metadata": {},
          "output_type": "display_data"
        }
      ],
      "source": [
        "#create index list for slicing\n",
        "index_list = [[i[0],i[-1]+1] for i in np.array_split(range(50), 5)]\n",
        "\n",
        "n = df_words['count'].max()\n",
        "color_dict = get_colordict('viridis', n, 1)\n",
        "\n",
        "fig, axs = plt.subplots(1, 5, figsize=(13,7), facecolor='white', squeeze=False)\n",
        "for col, idx in zip(range(0,5), index_list):\n",
        "    df = df_words[idx[0]:idx[-1]]\n",
        "    label = [w + ': ' + str(n) for w,n in zip(df['words'],df['count'])]\n",
        "    color_l = [color_dict.get(i) for i in df['count']]\n",
        "    x = list(df['count'])\n",
        "    y = list(range(0,10))\n",
        "    \n",
        "    sns.barplot(x = x, y = y, data=df, alpha=0.9, orient = 'h',\n",
        "                ax = axs[0][col], palette = color_l)\n",
        "    axs[0][col].set_xlim(0,n+1)                     #set X axis range max\n",
        "    axs[0][col].set_yticklabels(label, fontsize=12)\n",
        "    axs[0][col].spines['bottom'].set_color('white')\n",
        "    axs[0][col].spines['right'].set_color('white')\n",
        "    axs[0][col].spines['top'].set_color('white')\n",
        "    axs[0][col].spines['left'].set_color('white')\n",
        "            \n",
        "plt.tight_layout()    \n",
        "plt.show()"
      ]
    },
    {
      "cell_type": "code",
      "execution_count": 6,
      "metadata": {
        "colab": {
          "base_uri": "https://localhost:8080/",
          "height": 617
        },
        "id": "vmwzWjgMXn_2",
        "outputId": "99b83ff0-3711-4ba0-d535-cc783d3e2c00"
      },
      "outputs": [
        {
          "data": {
            "application/vnd.plotly.v1+json": {
              "config": {
                "plotlyServerURL": "https://plot.ly"
              },
              "data": [
                {
                  "domain": {
                    "x": [
                      0,
                      1
                    ],
                    "y": [
                      0,
                      1
                    ]
                  },
                  "hole": 0.6,
                  "hoverinfo": "label+percent+name",
                  "hovertemplate": "words=%{label}<br>count=%{value}<extra></extra>",
                  "labels": [
                    "colours",
                    "time",
                    "music",
                    "space",
                    "patterns",
                    "body",
                    "moving",
                    "shapes",
                    "mind",
                    "towards",
                    "deep",
                    "colour",
                    "blue",
                    "different",
                    "intense",
                    "images",
                    "people",
                    "peace",
                    "feeling",
                    "calm",
                    "relaxed",
                    "journey",
                    "memories",
                    "amazing",
                    "sound",
                    "brain",
                    "room",
                    "past",
                    "water",
                    "geometric"
                  ],
                  "legendgroup": "",
                  "name": "",
                  "showlegend": true,
                  "textinfo": "percent+label",
                  "textposition": "outside",
                  "type": "pie",
                  "values": [
                    34,
                    32,
                    27,
                    25,
                    23,
                    22,
                    22,
                    20,
                    18,
                    17,
                    16,
                    16,
                    16,
                    15,
                    15,
                    14,
                    14,
                    13,
                    13,
                    13,
                    12,
                    11,
                    10,
                    10,
                    10,
                    10,
                    10,
                    10,
                    10,
                    10
                  ]
                }
              ],
              "layout": {
                "height": 600,
                "legend": {
                  "tracegroupgap": 0
                },
                "margin": {
                  "b": 0,
                  "l": 0,
                  "r": 0,
                  "t": 0
                },
                "piecolorway": [
                  "#71020e",
                  "#7a0510",
                  "#840711",
                  "#8e0912",
                  "#980c13",
                  "#a10e15",
                  "#a91016",
                  "#af1117",
                  "#b51318",
                  "#bb141a",
                  "#c1161b",
                  "#c7171c",
                  "#cc191e",
                  "#d21f20",
                  "#d82422",
                  "#dd2a25",
                  "#e32f27",
                  "#e93529",
                  "#ee3a2c",
                  "#f14130",
                  "#f34935",
                  "#f4503a",
                  "#f6583e",
                  "#f85f43",
                  "#fa6648",
                  "#fb6d4d",
                  "#fb7353",
                  "#fb7a5a",
                  "#fc8060",
                  "#fc8666",
                  "#fc8d6d",
                  "#fc9373",
                  "#fc997a",
                  "#fca082",
                  "#fca689",
                  "#fcad90",
                  "#fcb398",
                  "#fcb99f",
                  "#fcbfa7",
                  "#fdc5ae",
                  "#fdcbb6",
                  "#fdd1be",
                  "#fdd7c6",
                  "#fedccd",
                  "#fee1d4",
                  "#fee5d8",
                  "#fee8dd",
                  "#ffebe2",
                  "#ffeee7",
                  "#fff2eb"
                ],
                "template": {
                  "data": {
                    "bar": [
                      {
                        "error_x": {
                          "color": "#2a3f5f"
                        },
                        "error_y": {
                          "color": "#2a3f5f"
                        },
                        "marker": {
                          "line": {
                            "color": "#E5ECF6",
                            "width": 0.5
                          },
                          "pattern": {
                            "fillmode": "overlay",
                            "size": 10,
                            "solidity": 0.2
                          }
                        },
                        "type": "bar"
                      }
                    ],
                    "barpolar": [
                      {
                        "marker": {
                          "line": {
                            "color": "#E5ECF6",
                            "width": 0.5
                          },
                          "pattern": {
                            "fillmode": "overlay",
                            "size": 10,
                            "solidity": 0.2
                          }
                        },
                        "type": "barpolar"
                      }
                    ],
                    "carpet": [
                      {
                        "aaxis": {
                          "endlinecolor": "#2a3f5f",
                          "gridcolor": "white",
                          "linecolor": "white",
                          "minorgridcolor": "white",
                          "startlinecolor": "#2a3f5f"
                        },
                        "baxis": {
                          "endlinecolor": "#2a3f5f",
                          "gridcolor": "white",
                          "linecolor": "white",
                          "minorgridcolor": "white",
                          "startlinecolor": "#2a3f5f"
                        },
                        "type": "carpet"
                      }
                    ],
                    "choropleth": [
                      {
                        "colorbar": {
                          "outlinewidth": 0,
                          "ticks": ""
                        },
                        "type": "choropleth"
                      }
                    ],
                    "contour": [
                      {
                        "colorbar": {
                          "outlinewidth": 0,
                          "ticks": ""
                        },
                        "colorscale": [
                          [
                            0,
                            "#0d0887"
                          ],
                          [
                            0.1111111111111111,
                            "#46039f"
                          ],
                          [
                            0.2222222222222222,
                            "#7201a8"
                          ],
                          [
                            0.3333333333333333,
                            "#9c179e"
                          ],
                          [
                            0.4444444444444444,
                            "#bd3786"
                          ],
                          [
                            0.5555555555555556,
                            "#d8576b"
                          ],
                          [
                            0.6666666666666666,
                            "#ed7953"
                          ],
                          [
                            0.7777777777777778,
                            "#fb9f3a"
                          ],
                          [
                            0.8888888888888888,
                            "#fdca26"
                          ],
                          [
                            1,
                            "#f0f921"
                          ]
                        ],
                        "type": "contour"
                      }
                    ],
                    "contourcarpet": [
                      {
                        "colorbar": {
                          "outlinewidth": 0,
                          "ticks": ""
                        },
                        "type": "contourcarpet"
                      }
                    ],
                    "heatmap": [
                      {
                        "colorbar": {
                          "outlinewidth": 0,
                          "ticks": ""
                        },
                        "colorscale": [
                          [
                            0,
                            "#0d0887"
                          ],
                          [
                            0.1111111111111111,
                            "#46039f"
                          ],
                          [
                            0.2222222222222222,
                            "#7201a8"
                          ],
                          [
                            0.3333333333333333,
                            "#9c179e"
                          ],
                          [
                            0.4444444444444444,
                            "#bd3786"
                          ],
                          [
                            0.5555555555555556,
                            "#d8576b"
                          ],
                          [
                            0.6666666666666666,
                            "#ed7953"
                          ],
                          [
                            0.7777777777777778,
                            "#fb9f3a"
                          ],
                          [
                            0.8888888888888888,
                            "#fdca26"
                          ],
                          [
                            1,
                            "#f0f921"
                          ]
                        ],
                        "type": "heatmap"
                      }
                    ],
                    "heatmapgl": [
                      {
                        "colorbar": {
                          "outlinewidth": 0,
                          "ticks": ""
                        },
                        "colorscale": [
                          [
                            0,
                            "#0d0887"
                          ],
                          [
                            0.1111111111111111,
                            "#46039f"
                          ],
                          [
                            0.2222222222222222,
                            "#7201a8"
                          ],
                          [
                            0.3333333333333333,
                            "#9c179e"
                          ],
                          [
                            0.4444444444444444,
                            "#bd3786"
                          ],
                          [
                            0.5555555555555556,
                            "#d8576b"
                          ],
                          [
                            0.6666666666666666,
                            "#ed7953"
                          ],
                          [
                            0.7777777777777778,
                            "#fb9f3a"
                          ],
                          [
                            0.8888888888888888,
                            "#fdca26"
                          ],
                          [
                            1,
                            "#f0f921"
                          ]
                        ],
                        "type": "heatmapgl"
                      }
                    ],
                    "histogram": [
                      {
                        "marker": {
                          "pattern": {
                            "fillmode": "overlay",
                            "size": 10,
                            "solidity": 0.2
                          }
                        },
                        "type": "histogram"
                      }
                    ],
                    "histogram2d": [
                      {
                        "colorbar": {
                          "outlinewidth": 0,
                          "ticks": ""
                        },
                        "colorscale": [
                          [
                            0,
                            "#0d0887"
                          ],
                          [
                            0.1111111111111111,
                            "#46039f"
                          ],
                          [
                            0.2222222222222222,
                            "#7201a8"
                          ],
                          [
                            0.3333333333333333,
                            "#9c179e"
                          ],
                          [
                            0.4444444444444444,
                            "#bd3786"
                          ],
                          [
                            0.5555555555555556,
                            "#d8576b"
                          ],
                          [
                            0.6666666666666666,
                            "#ed7953"
                          ],
                          [
                            0.7777777777777778,
                            "#fb9f3a"
                          ],
                          [
                            0.8888888888888888,
                            "#fdca26"
                          ],
                          [
                            1,
                            "#f0f921"
                          ]
                        ],
                        "type": "histogram2d"
                      }
                    ],
                    "histogram2dcontour": [
                      {
                        "colorbar": {
                          "outlinewidth": 0,
                          "ticks": ""
                        },
                        "colorscale": [
                          [
                            0,
                            "#0d0887"
                          ],
                          [
                            0.1111111111111111,
                            "#46039f"
                          ],
                          [
                            0.2222222222222222,
                            "#7201a8"
                          ],
                          [
                            0.3333333333333333,
                            "#9c179e"
                          ],
                          [
                            0.4444444444444444,
                            "#bd3786"
                          ],
                          [
                            0.5555555555555556,
                            "#d8576b"
                          ],
                          [
                            0.6666666666666666,
                            "#ed7953"
                          ],
                          [
                            0.7777777777777778,
                            "#fb9f3a"
                          ],
                          [
                            0.8888888888888888,
                            "#fdca26"
                          ],
                          [
                            1,
                            "#f0f921"
                          ]
                        ],
                        "type": "histogram2dcontour"
                      }
                    ],
                    "mesh3d": [
                      {
                        "colorbar": {
                          "outlinewidth": 0,
                          "ticks": ""
                        },
                        "type": "mesh3d"
                      }
                    ],
                    "parcoords": [
                      {
                        "line": {
                          "colorbar": {
                            "outlinewidth": 0,
                            "ticks": ""
                          }
                        },
                        "type": "parcoords"
                      }
                    ],
                    "pie": [
                      {
                        "automargin": true,
                        "type": "pie"
                      }
                    ],
                    "scatter": [
                      {
                        "fillpattern": {
                          "fillmode": "overlay",
                          "size": 10,
                          "solidity": 0.2
                        },
                        "type": "scatter"
                      }
                    ],
                    "scatter3d": [
                      {
                        "line": {
                          "colorbar": {
                            "outlinewidth": 0,
                            "ticks": ""
                          }
                        },
                        "marker": {
                          "colorbar": {
                            "outlinewidth": 0,
                            "ticks": ""
                          }
                        },
                        "type": "scatter3d"
                      }
                    ],
                    "scattercarpet": [
                      {
                        "marker": {
                          "colorbar": {
                            "outlinewidth": 0,
                            "ticks": ""
                          }
                        },
                        "type": "scattercarpet"
                      }
                    ],
                    "scattergeo": [
                      {
                        "marker": {
                          "colorbar": {
                            "outlinewidth": 0,
                            "ticks": ""
                          }
                        },
                        "type": "scattergeo"
                      }
                    ],
                    "scattergl": [
                      {
                        "marker": {
                          "colorbar": {
                            "outlinewidth": 0,
                            "ticks": ""
                          }
                        },
                        "type": "scattergl"
                      }
                    ],
                    "scattermapbox": [
                      {
                        "marker": {
                          "colorbar": {
                            "outlinewidth": 0,
                            "ticks": ""
                          }
                        },
                        "type": "scattermapbox"
                      }
                    ],
                    "scatterpolar": [
                      {
                        "marker": {
                          "colorbar": {
                            "outlinewidth": 0,
                            "ticks": ""
                          }
                        },
                        "type": "scatterpolar"
                      }
                    ],
                    "scatterpolargl": [
                      {
                        "marker": {
                          "colorbar": {
                            "outlinewidth": 0,
                            "ticks": ""
                          }
                        },
                        "type": "scatterpolargl"
                      }
                    ],
                    "scatterternary": [
                      {
                        "marker": {
                          "colorbar": {
                            "outlinewidth": 0,
                            "ticks": ""
                          }
                        },
                        "type": "scatterternary"
                      }
                    ],
                    "surface": [
                      {
                        "colorbar": {
                          "outlinewidth": 0,
                          "ticks": ""
                        },
                        "colorscale": [
                          [
                            0,
                            "#0d0887"
                          ],
                          [
                            0.1111111111111111,
                            "#46039f"
                          ],
                          [
                            0.2222222222222222,
                            "#7201a8"
                          ],
                          [
                            0.3333333333333333,
                            "#9c179e"
                          ],
                          [
                            0.4444444444444444,
                            "#bd3786"
                          ],
                          [
                            0.5555555555555556,
                            "#d8576b"
                          ],
                          [
                            0.6666666666666666,
                            "#ed7953"
                          ],
                          [
                            0.7777777777777778,
                            "#fb9f3a"
                          ],
                          [
                            0.8888888888888888,
                            "#fdca26"
                          ],
                          [
                            1,
                            "#f0f921"
                          ]
                        ],
                        "type": "surface"
                      }
                    ],
                    "table": [
                      {
                        "cells": {
                          "fill": {
                            "color": "#EBF0F8"
                          },
                          "line": {
                            "color": "white"
                          }
                        },
                        "header": {
                          "fill": {
                            "color": "#C8D4E3"
                          },
                          "line": {
                            "color": "white"
                          }
                        },
                        "type": "table"
                      }
                    ]
                  },
                  "layout": {
                    "annotationdefaults": {
                      "arrowcolor": "#2a3f5f",
                      "arrowhead": 0,
                      "arrowwidth": 1
                    },
                    "autotypenumbers": "strict",
                    "coloraxis": {
                      "colorbar": {
                        "outlinewidth": 0,
                        "ticks": ""
                      }
                    },
                    "colorscale": {
                      "diverging": [
                        [
                          0,
                          "#8e0152"
                        ],
                        [
                          0.1,
                          "#c51b7d"
                        ],
                        [
                          0.2,
                          "#de77ae"
                        ],
                        [
                          0.3,
                          "#f1b6da"
                        ],
                        [
                          0.4,
                          "#fde0ef"
                        ],
                        [
                          0.5,
                          "#f7f7f7"
                        ],
                        [
                          0.6,
                          "#e6f5d0"
                        ],
                        [
                          0.7,
                          "#b8e186"
                        ],
                        [
                          0.8,
                          "#7fbc41"
                        ],
                        [
                          0.9,
                          "#4d9221"
                        ],
                        [
                          1,
                          "#276419"
                        ]
                      ],
                      "sequential": [
                        [
                          0,
                          "#0d0887"
                        ],
                        [
                          0.1111111111111111,
                          "#46039f"
                        ],
                        [
                          0.2222222222222222,
                          "#7201a8"
                        ],
                        [
                          0.3333333333333333,
                          "#9c179e"
                        ],
                        [
                          0.4444444444444444,
                          "#bd3786"
                        ],
                        [
                          0.5555555555555556,
                          "#d8576b"
                        ],
                        [
                          0.6666666666666666,
                          "#ed7953"
                        ],
                        [
                          0.7777777777777778,
                          "#fb9f3a"
                        ],
                        [
                          0.8888888888888888,
                          "#fdca26"
                        ],
                        [
                          1,
                          "#f0f921"
                        ]
                      ],
                      "sequentialminus": [
                        [
                          0,
                          "#0d0887"
                        ],
                        [
                          0.1111111111111111,
                          "#46039f"
                        ],
                        [
                          0.2222222222222222,
                          "#7201a8"
                        ],
                        [
                          0.3333333333333333,
                          "#9c179e"
                        ],
                        [
                          0.4444444444444444,
                          "#bd3786"
                        ],
                        [
                          0.5555555555555556,
                          "#d8576b"
                        ],
                        [
                          0.6666666666666666,
                          "#ed7953"
                        ],
                        [
                          0.7777777777777778,
                          "#fb9f3a"
                        ],
                        [
                          0.8888888888888888,
                          "#fdca26"
                        ],
                        [
                          1,
                          "#f0f921"
                        ]
                      ]
                    },
                    "colorway": [
                      "#636efa",
                      "#EF553B",
                      "#00cc96",
                      "#ab63fa",
                      "#FFA15A",
                      "#19d3f3",
                      "#FF6692",
                      "#B6E880",
                      "#FF97FF",
                      "#FECB52"
                    ],
                    "font": {
                      "color": "#2a3f5f"
                    },
                    "geo": {
                      "bgcolor": "white",
                      "lakecolor": "white",
                      "landcolor": "#E5ECF6",
                      "showlakes": true,
                      "showland": true,
                      "subunitcolor": "white"
                    },
                    "hoverlabel": {
                      "align": "left"
                    },
                    "hovermode": "closest",
                    "mapbox": {
                      "style": "light"
                    },
                    "paper_bgcolor": "white",
                    "plot_bgcolor": "#E5ECF6",
                    "polar": {
                      "angularaxis": {
                        "gridcolor": "white",
                        "linecolor": "white",
                        "ticks": ""
                      },
                      "bgcolor": "#E5ECF6",
                      "radialaxis": {
                        "gridcolor": "white",
                        "linecolor": "white",
                        "ticks": ""
                      }
                    },
                    "scene": {
                      "xaxis": {
                        "backgroundcolor": "#E5ECF6",
                        "gridcolor": "white",
                        "gridwidth": 2,
                        "linecolor": "white",
                        "showbackground": true,
                        "ticks": "",
                        "zerolinecolor": "white"
                      },
                      "yaxis": {
                        "backgroundcolor": "#E5ECF6",
                        "gridcolor": "white",
                        "gridwidth": 2,
                        "linecolor": "white",
                        "showbackground": true,
                        "ticks": "",
                        "zerolinecolor": "white"
                      },
                      "zaxis": {
                        "backgroundcolor": "#E5ECF6",
                        "gridcolor": "white",
                        "gridwidth": 2,
                        "linecolor": "white",
                        "showbackground": true,
                        "ticks": "",
                        "zerolinecolor": "white"
                      }
                    },
                    "shapedefaults": {
                      "line": {
                        "color": "#2a3f5f"
                      }
                    },
                    "ternary": {
                      "aaxis": {
                        "gridcolor": "white",
                        "linecolor": "white",
                        "ticks": ""
                      },
                      "baxis": {
                        "gridcolor": "white",
                        "linecolor": "white",
                        "ticks": ""
                      },
                      "bgcolor": "#E5ECF6",
                      "caxis": {
                        "gridcolor": "white",
                        "linecolor": "white",
                        "ticks": ""
                      }
                    },
                    "title": {
                      "x": 0.05
                    },
                    "xaxis": {
                      "automargin": true,
                      "gridcolor": "white",
                      "linecolor": "white",
                      "ticks": "",
                      "title": {
                        "standoff": 15
                      },
                      "zerolinecolor": "white",
                      "zerolinewidth": 2
                    },
                    "yaxis": {
                      "automargin": true,
                      "gridcolor": "white",
                      "linecolor": "white",
                      "ticks": "",
                      "title": {
                        "standoff": 15
                      },
                      "zerolinecolor": "white",
                      "zerolinewidth": 2
                    }
                  }
                },
                "width": 800
              }
            }
          },
          "metadata": {},
          "output_type": "display_data"
        }
      ],
      "source": [
        "\n",
        "n = 50\n",
        "pal = list(sns.color_palette(palette='Reds_r', n_colors=n).as_hex())\n",
        "\n",
        "import plotly.express as px\n",
        "fig = px.pie(df_words[0:30], values='count', names='words',\n",
        "             color_discrete_sequence=pal)\n",
        "\n",
        "fig.update_traces(textposition='outside', textinfo='percent+label', \n",
        "                  hole=.6, hoverinfo=\"label+percent+name\")\n",
        "\n",
        "fig.update_layout(width = 800, height = 600,\n",
        "                  margin = dict(t=0, l=0, r=0, b=0))\n",
        "fig.show()"
      ]
    },
    {
      "cell_type": "code",
      "execution_count": 7,
      "metadata": {
        "colab": {
          "base_uri": "https://localhost:8080/",
          "height": 542
        },
        "id": "1nFru7DQZkG6",
        "outputId": "55d46f6b-92c1-4835-9183-93b8f7e86e36"
      },
      "outputs": [
        {
          "data": {
            "application/vnd.plotly.v1+json": {
              "config": {
                "plotlyServerURL": "https://plot.ly"
              },
              "data": [
                {
                  "branchvalues": "total",
                  "customdata": [
                    [
                      5
                    ],
                    [
                      10
                    ],
                    [
                      9
                    ],
                    [
                      6
                    ],
                    [
                      8
                    ],
                    [
                      5
                    ],
                    [
                      16
                    ],
                    [
                      22
                    ],
                    [
                      10
                    ],
                    [
                      13
                    ],
                    [
                      6
                    ],
                    [
                      7
                    ],
                    [
                      16
                    ],
                    [
                      34
                    ],
                    [
                      5
                    ],
                    [
                      7
                    ],
                    [
                      6
                    ],
                    [
                      16
                    ],
                    [
                      15
                    ],
                    [
                      7
                    ],
                    [
                      6
                    ],
                    [
                      6
                    ],
                    [
                      5
                    ],
                    [
                      8
                    ],
                    [
                      9
                    ],
                    [
                      13
                    ],
                    [
                      9
                    ],
                    [
                      6
                    ],
                    [
                      10
                    ],
                    [
                      6
                    ],
                    [
                      9
                    ],
                    [
                      14
                    ],
                    [
                      5
                    ],
                    [
                      5
                    ],
                    [
                      15
                    ],
                    [
                      7
                    ],
                    [
                      11
                    ],
                    [
                      7
                    ],
                    [
                      9
                    ],
                    [
                      5
                    ],
                    [
                      9
                    ],
                    [
                      5
                    ],
                    [
                      10
                    ],
                    [
                      18
                    ],
                    [
                      5
                    ],
                    [
                      22
                    ],
                    [
                      27
                    ],
                    [
                      6
                    ],
                    [
                      6
                    ],
                    [
                      5
                    ],
                    [
                      8
                    ],
                    [
                      6
                    ],
                    [
                      5
                    ],
                    [
                      6
                    ],
                    [
                      5
                    ],
                    [
                      10
                    ],
                    [
                      23
                    ],
                    [
                      13
                    ],
                    [
                      8
                    ],
                    [
                      14
                    ],
                    [
                      9
                    ],
                    [
                      6
                    ],
                    [
                      5
                    ],
                    [
                      8
                    ],
                    [
                      7
                    ],
                    [
                      12
                    ],
                    [
                      6
                    ],
                    [
                      10
                    ],
                    [
                      8
                    ],
                    [
                      6
                    ],
                    [
                      20
                    ],
                    [
                      6
                    ],
                    [
                      6
                    ],
                    [
                      6
                    ],
                    [
                      10
                    ],
                    [
                      6
                    ],
                    [
                      25
                    ],
                    [
                      8
                    ],
                    [
                      7
                    ],
                    [
                      9
                    ],
                    [
                      9
                    ],
                    [
                      5
                    ],
                    [
                      5
                    ],
                    [
                      32
                    ],
                    [
                      6
                    ],
                    [
                      6
                    ],
                    [
                      17
                    ],
                    [
                      7
                    ],
                    [
                      7
                    ],
                    [
                      8
                    ],
                    [
                      5
                    ],
                    [
                      7
                    ],
                    [
                      9
                    ],
                    [
                      9
                    ],
                    [
                      6
                    ],
                    [
                      10
                    ],
                    [
                      7
                    ],
                    [
                      6
                    ],
                    [
                      5
                    ],
                    [
                      7
                    ],
                    [
                      13.0609243697479
                    ]
                  ],
                  "domain": {
                    "x": [
                      0,
                      1
                    ],
                    "y": [
                      0,
                      1
                    ]
                  },
                  "hovertemplate": "labels=%{label}<br>count_sum=%{value}<br>parent=%{parent}<br>id=%{id}<br>count=%{color}<extra></extra>",
                  "ids": [
                    "dreamachine open reports/able",
                    "dreamachine open reports/amazing",
                    "dreamachine open reports/around",
                    "dreamachine open reports/asleep",
                    "dreamachine open reports/beautiful",
                    "dreamachine open reports/became",
                    "dreamachine open reports/blue",
                    "dreamachine open reports/body",
                    "dreamachine open reports/brain",
                    "dreamachine open reports/calm",
                    "dreamachine open reports/centre",
                    "dreamachine open reports/changing",
                    "dreamachine open reports/colour",
                    "dreamachine open reports/colours",
                    "dreamachine open reports/connected",
                    "dreamachine open reports/connection",
                    "dreamachine open reports/death",
                    "dreamachine open reports/deep",
                    "dreamachine open reports/different",
                    "dreamachine open reports/dream",
                    "dreamachine open reports/emotions",
                    "dreamachine open reports/euphoric",
                    "dreamachine open reports/everyone",
                    "dreamachine open reports/everything",
                    "dreamachine open reports/falling",
                    "dreamachine open reports/feeling",
                    "dreamachine open reports/floating",
                    "dreamachine open reports/flying",
                    "dreamachine open reports/geometric",
                    "dreamachine open reports/good",
                    "dreamachine open reports/green",
                    "dreamachine open reports/images",
                    "dreamachine open reports/incredible",
                    "dreamachine open reports/inside",
                    "dreamachine open reports/intense",
                    "dreamachine open reports/interesting",
                    "dreamachine open reports/journey",
                    "dreamachine open reports/kaleidoscope",
                    "dreamachine open reports/life",
                    "dreamachine open reports/little",
                    "dreamachine open reports/love",
                    "dreamachine open reports/make",
                    "dreamachine open reports/memories",
                    "dreamachine open reports/mind",
                    "dreamachine open reports/moved",
                    "dreamachine open reports/moving",
                    "dreamachine open reports/music",
                    "dreamachine open reports/near",
                    "dreamachine open reports/new",
                    "dreamachine open reports/normal",
                    "dreamachine open reports/ocean",
                    "dreamachine open reports/old",
                    "dreamachine open reports/others",
                    "dreamachine open reports/overwhelming",
                    "dreamachine open reports/part",
                    "dreamachine open reports/past",
                    "dreamachine open reports/patterns",
                    "dreamachine open reports/peace",
                    "dreamachine open reports/peaceful",
                    "dreamachine open reports/people",
                    "dreamachine open reports/place",
                    "dreamachine open reports/points",
                    "dreamachine open reports/random",
                    "dreamachine open reports/red",
                    "dreamachine open reports/relaxation",
                    "dreamachine open reports/relaxed",
                    "dreamachine open reports/relaxing",
                    "dreamachine open reports/room",
                    "dreamachine open reports/seeing",
                    "dreamachine open reports/sensation",
                    "dreamachine open reports/shapes",
                    "dreamachine open reports/sky",
                    "dreamachine open reports/sleep",
                    "dreamachine open reports/someone",
                    "dreamachine open reports/sound",
                    "dreamachine open reports/sounds",
                    "dreamachine open reports/space",
                    "dreamachine open reports/speed",
                    "dreamachine open reports/spinning",
                    "dreamachine open reports/stars",
                    "dreamachine open reports/started",
                    "dreamachine open reports/state",
                    "dreamachine open reports/still",
                    "dreamachine open reports/time",
                    "dreamachine open reports/times",
                    "dreamachine open reports/totally",
                    "dreamachine open reports/towards",
                    "dreamachine open reports/travelling",
                    "dreamachine open reports/tunnel",
                    "dreamachine open reports/universe",
                    "dreamachine open reports/various",
                    "dreamachine open reports/vision",
                    "dreamachine open reports/visual",
                    "dreamachine open reports/visuals",
                    "dreamachine open reports/wanted",
                    "dreamachine open reports/water",
                    "dreamachine open reports/white",
                    "dreamachine open reports/whole",
                    "dreamachine open reports/without",
                    "dreamachine open reports/world",
                    "dreamachine open reports"
                  ],
                  "labels": [
                    "able",
                    "amazing",
                    "around",
                    "asleep",
                    "beautiful",
                    "became",
                    "blue",
                    "body",
                    "brain",
                    "calm",
                    "centre",
                    "changing",
                    "colour",
                    "colours",
                    "connected",
                    "connection",
                    "death",
                    "deep",
                    "different",
                    "dream",
                    "emotions",
                    "euphoric",
                    "everyone",
                    "everything",
                    "falling",
                    "feeling",
                    "floating",
                    "flying",
                    "geometric",
                    "good",
                    "green",
                    "images",
                    "incredible",
                    "inside",
                    "intense",
                    "interesting",
                    "journey",
                    "kaleidoscope",
                    "life",
                    "little",
                    "love",
                    "make",
                    "memories",
                    "mind",
                    "moved",
                    "moving",
                    "music",
                    "near",
                    "new",
                    "normal",
                    "ocean",
                    "old",
                    "others",
                    "overwhelming",
                    "part",
                    "past",
                    "patterns",
                    "peace",
                    "peaceful",
                    "people",
                    "place",
                    "points",
                    "random",
                    "red",
                    "relaxation",
                    "relaxed",
                    "relaxing",
                    "room",
                    "seeing",
                    "sensation",
                    "shapes",
                    "sky",
                    "sleep",
                    "someone",
                    "sound",
                    "sounds",
                    "space",
                    "speed",
                    "spinning",
                    "stars",
                    "started",
                    "state",
                    "still",
                    "time",
                    "times",
                    "totally",
                    "towards",
                    "travelling",
                    "tunnel",
                    "universe",
                    "various",
                    "vision",
                    "visual",
                    "visuals",
                    "wanted",
                    "water",
                    "white",
                    "whole",
                    "without",
                    "world",
                    "dreamachine open reports"
                  ],
                  "marker": {
                    "coloraxis": "coloraxis",
                    "colors": [
                      5,
                      10,
                      9,
                      6,
                      8,
                      5,
                      16,
                      22,
                      10,
                      13,
                      6,
                      7,
                      16,
                      34,
                      5,
                      7,
                      6,
                      16,
                      15,
                      7,
                      6,
                      6,
                      5,
                      8,
                      9,
                      13,
                      9,
                      6,
                      10,
                      6,
                      9,
                      14,
                      5,
                      5,
                      15,
                      7,
                      11,
                      7,
                      9,
                      5,
                      9,
                      5,
                      10,
                      18,
                      5,
                      22,
                      27,
                      6,
                      6,
                      5,
                      8,
                      6,
                      5,
                      6,
                      5,
                      10,
                      23,
                      13,
                      8,
                      14,
                      9,
                      6,
                      5,
                      8,
                      7,
                      12,
                      6,
                      10,
                      8,
                      6,
                      20,
                      6,
                      6,
                      6,
                      10,
                      6,
                      25,
                      8,
                      7,
                      9,
                      9,
                      5,
                      5,
                      32,
                      6,
                      6,
                      17,
                      7,
                      7,
                      8,
                      5,
                      7,
                      9,
                      9,
                      6,
                      10,
                      7,
                      6,
                      5,
                      7,
                      13.0609243697479
                    ]
                  },
                  "name": "",
                  "parents": [
                    "dreamachine open reports",
                    "dreamachine open reports",
                    "dreamachine open reports",
                    "dreamachine open reports",
                    "dreamachine open reports",
                    "dreamachine open reports",
                    "dreamachine open reports",
                    "dreamachine open reports",
                    "dreamachine open reports",
                    "dreamachine open reports",
                    "dreamachine open reports",
                    "dreamachine open reports",
                    "dreamachine open reports",
                    "dreamachine open reports",
                    "dreamachine open reports",
                    "dreamachine open reports",
                    "dreamachine open reports",
                    "dreamachine open reports",
                    "dreamachine open reports",
                    "dreamachine open reports",
                    "dreamachine open reports",
                    "dreamachine open reports",
                    "dreamachine open reports",
                    "dreamachine open reports",
                    "dreamachine open reports",
                    "dreamachine open reports",
                    "dreamachine open reports",
                    "dreamachine open reports",
                    "dreamachine open reports",
                    "dreamachine open reports",
                    "dreamachine open reports",
                    "dreamachine open reports",
                    "dreamachine open reports",
                    "dreamachine open reports",
                    "dreamachine open reports",
                    "dreamachine open reports",
                    "dreamachine open reports",
                    "dreamachine open reports",
                    "dreamachine open reports",
                    "dreamachine open reports",
                    "dreamachine open reports",
                    "dreamachine open reports",
                    "dreamachine open reports",
                    "dreamachine open reports",
                    "dreamachine open reports",
                    "dreamachine open reports",
                    "dreamachine open reports",
                    "dreamachine open reports",
                    "dreamachine open reports",
                    "dreamachine open reports",
                    "dreamachine open reports",
                    "dreamachine open reports",
                    "dreamachine open reports",
                    "dreamachine open reports",
                    "dreamachine open reports",
                    "dreamachine open reports",
                    "dreamachine open reports",
                    "dreamachine open reports",
                    "dreamachine open reports",
                    "dreamachine open reports",
                    "dreamachine open reports",
                    "dreamachine open reports",
                    "dreamachine open reports",
                    "dreamachine open reports",
                    "dreamachine open reports",
                    "dreamachine open reports",
                    "dreamachine open reports",
                    "dreamachine open reports",
                    "dreamachine open reports",
                    "dreamachine open reports",
                    "dreamachine open reports",
                    "dreamachine open reports",
                    "dreamachine open reports",
                    "dreamachine open reports",
                    "dreamachine open reports",
                    "dreamachine open reports",
                    "dreamachine open reports",
                    "dreamachine open reports",
                    "dreamachine open reports",
                    "dreamachine open reports",
                    "dreamachine open reports",
                    "dreamachine open reports",
                    "dreamachine open reports",
                    "dreamachine open reports",
                    "dreamachine open reports",
                    "dreamachine open reports",
                    "dreamachine open reports",
                    "dreamachine open reports",
                    "dreamachine open reports",
                    "dreamachine open reports",
                    "dreamachine open reports",
                    "dreamachine open reports",
                    "dreamachine open reports",
                    "dreamachine open reports",
                    "dreamachine open reports",
                    "dreamachine open reports",
                    "dreamachine open reports",
                    "dreamachine open reports",
                    "dreamachine open reports",
                    "dreamachine open reports",
                    ""
                  ],
                  "type": "treemap",
                  "values": [
                    5,
                    10,
                    9,
                    6,
                    8,
                    5,
                    16,
                    22,
                    10,
                    13,
                    6,
                    7,
                    16,
                    34,
                    5,
                    7,
                    6,
                    16,
                    15,
                    7,
                    6,
                    6,
                    5,
                    8,
                    9,
                    13,
                    9,
                    6,
                    10,
                    6,
                    9,
                    14,
                    5,
                    5,
                    15,
                    7,
                    11,
                    7,
                    9,
                    5,
                    9,
                    5,
                    10,
                    18,
                    5,
                    22,
                    27,
                    6,
                    6,
                    5,
                    8,
                    6,
                    5,
                    6,
                    5,
                    10,
                    23,
                    13,
                    8,
                    14,
                    9,
                    6,
                    5,
                    8,
                    7,
                    12,
                    6,
                    10,
                    8,
                    6,
                    20,
                    6,
                    6,
                    6,
                    10,
                    6,
                    25,
                    8,
                    7,
                    9,
                    9,
                    5,
                    5,
                    32,
                    6,
                    6,
                    17,
                    7,
                    7,
                    8,
                    5,
                    7,
                    9,
                    9,
                    6,
                    10,
                    7,
                    6,
                    5,
                    7,
                    952
                  ]
                }
              ],
              "layout": {
                "coloraxis": {
                  "cmid": 1.8315621679064824,
                  "colorbar": {
                    "title": {
                      "text": "count"
                    }
                  },
                  "colorscale": [
                    [
                      0,
                      "#440154"
                    ],
                    [
                      0.1111111111111111,
                      "#482878"
                    ],
                    [
                      0.2222222222222222,
                      "#3e4989"
                    ],
                    [
                      0.3333333333333333,
                      "#31688e"
                    ],
                    [
                      0.4444444444444444,
                      "#26828e"
                    ],
                    [
                      0.5555555555555556,
                      "#1f9e89"
                    ],
                    [
                      0.6666666666666666,
                      "#35b779"
                    ],
                    [
                      0.7777777777777778,
                      "#6ece58"
                    ],
                    [
                      0.8888888888888888,
                      "#b5de2b"
                    ],
                    [
                      1,
                      "#fde725"
                    ]
                  ]
                },
                "legend": {
                  "tracegroupgap": 0
                },
                "margin": {
                  "b": 25,
                  "l": 25,
                  "r": 25,
                  "t": 50
                },
                "template": {
                  "data": {
                    "bar": [
                      {
                        "error_x": {
                          "color": "#2a3f5f"
                        },
                        "error_y": {
                          "color": "#2a3f5f"
                        },
                        "marker": {
                          "line": {
                            "color": "#E5ECF6",
                            "width": 0.5
                          },
                          "pattern": {
                            "fillmode": "overlay",
                            "size": 10,
                            "solidity": 0.2
                          }
                        },
                        "type": "bar"
                      }
                    ],
                    "barpolar": [
                      {
                        "marker": {
                          "line": {
                            "color": "#E5ECF6",
                            "width": 0.5
                          },
                          "pattern": {
                            "fillmode": "overlay",
                            "size": 10,
                            "solidity": 0.2
                          }
                        },
                        "type": "barpolar"
                      }
                    ],
                    "carpet": [
                      {
                        "aaxis": {
                          "endlinecolor": "#2a3f5f",
                          "gridcolor": "white",
                          "linecolor": "white",
                          "minorgridcolor": "white",
                          "startlinecolor": "#2a3f5f"
                        },
                        "baxis": {
                          "endlinecolor": "#2a3f5f",
                          "gridcolor": "white",
                          "linecolor": "white",
                          "minorgridcolor": "white",
                          "startlinecolor": "#2a3f5f"
                        },
                        "type": "carpet"
                      }
                    ],
                    "choropleth": [
                      {
                        "colorbar": {
                          "outlinewidth": 0,
                          "ticks": ""
                        },
                        "type": "choropleth"
                      }
                    ],
                    "contour": [
                      {
                        "colorbar": {
                          "outlinewidth": 0,
                          "ticks": ""
                        },
                        "colorscale": [
                          [
                            0,
                            "#0d0887"
                          ],
                          [
                            0.1111111111111111,
                            "#46039f"
                          ],
                          [
                            0.2222222222222222,
                            "#7201a8"
                          ],
                          [
                            0.3333333333333333,
                            "#9c179e"
                          ],
                          [
                            0.4444444444444444,
                            "#bd3786"
                          ],
                          [
                            0.5555555555555556,
                            "#d8576b"
                          ],
                          [
                            0.6666666666666666,
                            "#ed7953"
                          ],
                          [
                            0.7777777777777778,
                            "#fb9f3a"
                          ],
                          [
                            0.8888888888888888,
                            "#fdca26"
                          ],
                          [
                            1,
                            "#f0f921"
                          ]
                        ],
                        "type": "contour"
                      }
                    ],
                    "contourcarpet": [
                      {
                        "colorbar": {
                          "outlinewidth": 0,
                          "ticks": ""
                        },
                        "type": "contourcarpet"
                      }
                    ],
                    "heatmap": [
                      {
                        "colorbar": {
                          "outlinewidth": 0,
                          "ticks": ""
                        },
                        "colorscale": [
                          [
                            0,
                            "#0d0887"
                          ],
                          [
                            0.1111111111111111,
                            "#46039f"
                          ],
                          [
                            0.2222222222222222,
                            "#7201a8"
                          ],
                          [
                            0.3333333333333333,
                            "#9c179e"
                          ],
                          [
                            0.4444444444444444,
                            "#bd3786"
                          ],
                          [
                            0.5555555555555556,
                            "#d8576b"
                          ],
                          [
                            0.6666666666666666,
                            "#ed7953"
                          ],
                          [
                            0.7777777777777778,
                            "#fb9f3a"
                          ],
                          [
                            0.8888888888888888,
                            "#fdca26"
                          ],
                          [
                            1,
                            "#f0f921"
                          ]
                        ],
                        "type": "heatmap"
                      }
                    ],
                    "heatmapgl": [
                      {
                        "colorbar": {
                          "outlinewidth": 0,
                          "ticks": ""
                        },
                        "colorscale": [
                          [
                            0,
                            "#0d0887"
                          ],
                          [
                            0.1111111111111111,
                            "#46039f"
                          ],
                          [
                            0.2222222222222222,
                            "#7201a8"
                          ],
                          [
                            0.3333333333333333,
                            "#9c179e"
                          ],
                          [
                            0.4444444444444444,
                            "#bd3786"
                          ],
                          [
                            0.5555555555555556,
                            "#d8576b"
                          ],
                          [
                            0.6666666666666666,
                            "#ed7953"
                          ],
                          [
                            0.7777777777777778,
                            "#fb9f3a"
                          ],
                          [
                            0.8888888888888888,
                            "#fdca26"
                          ],
                          [
                            1,
                            "#f0f921"
                          ]
                        ],
                        "type": "heatmapgl"
                      }
                    ],
                    "histogram": [
                      {
                        "marker": {
                          "pattern": {
                            "fillmode": "overlay",
                            "size": 10,
                            "solidity": 0.2
                          }
                        },
                        "type": "histogram"
                      }
                    ],
                    "histogram2d": [
                      {
                        "colorbar": {
                          "outlinewidth": 0,
                          "ticks": ""
                        },
                        "colorscale": [
                          [
                            0,
                            "#0d0887"
                          ],
                          [
                            0.1111111111111111,
                            "#46039f"
                          ],
                          [
                            0.2222222222222222,
                            "#7201a8"
                          ],
                          [
                            0.3333333333333333,
                            "#9c179e"
                          ],
                          [
                            0.4444444444444444,
                            "#bd3786"
                          ],
                          [
                            0.5555555555555556,
                            "#d8576b"
                          ],
                          [
                            0.6666666666666666,
                            "#ed7953"
                          ],
                          [
                            0.7777777777777778,
                            "#fb9f3a"
                          ],
                          [
                            0.8888888888888888,
                            "#fdca26"
                          ],
                          [
                            1,
                            "#f0f921"
                          ]
                        ],
                        "type": "histogram2d"
                      }
                    ],
                    "histogram2dcontour": [
                      {
                        "colorbar": {
                          "outlinewidth": 0,
                          "ticks": ""
                        },
                        "colorscale": [
                          [
                            0,
                            "#0d0887"
                          ],
                          [
                            0.1111111111111111,
                            "#46039f"
                          ],
                          [
                            0.2222222222222222,
                            "#7201a8"
                          ],
                          [
                            0.3333333333333333,
                            "#9c179e"
                          ],
                          [
                            0.4444444444444444,
                            "#bd3786"
                          ],
                          [
                            0.5555555555555556,
                            "#d8576b"
                          ],
                          [
                            0.6666666666666666,
                            "#ed7953"
                          ],
                          [
                            0.7777777777777778,
                            "#fb9f3a"
                          ],
                          [
                            0.8888888888888888,
                            "#fdca26"
                          ],
                          [
                            1,
                            "#f0f921"
                          ]
                        ],
                        "type": "histogram2dcontour"
                      }
                    ],
                    "mesh3d": [
                      {
                        "colorbar": {
                          "outlinewidth": 0,
                          "ticks": ""
                        },
                        "type": "mesh3d"
                      }
                    ],
                    "parcoords": [
                      {
                        "line": {
                          "colorbar": {
                            "outlinewidth": 0,
                            "ticks": ""
                          }
                        },
                        "type": "parcoords"
                      }
                    ],
                    "pie": [
                      {
                        "automargin": true,
                        "type": "pie"
                      }
                    ],
                    "scatter": [
                      {
                        "fillpattern": {
                          "fillmode": "overlay",
                          "size": 10,
                          "solidity": 0.2
                        },
                        "type": "scatter"
                      }
                    ],
                    "scatter3d": [
                      {
                        "line": {
                          "colorbar": {
                            "outlinewidth": 0,
                            "ticks": ""
                          }
                        },
                        "marker": {
                          "colorbar": {
                            "outlinewidth": 0,
                            "ticks": ""
                          }
                        },
                        "type": "scatter3d"
                      }
                    ],
                    "scattercarpet": [
                      {
                        "marker": {
                          "colorbar": {
                            "outlinewidth": 0,
                            "ticks": ""
                          }
                        },
                        "type": "scattercarpet"
                      }
                    ],
                    "scattergeo": [
                      {
                        "marker": {
                          "colorbar": {
                            "outlinewidth": 0,
                            "ticks": ""
                          }
                        },
                        "type": "scattergeo"
                      }
                    ],
                    "scattergl": [
                      {
                        "marker": {
                          "colorbar": {
                            "outlinewidth": 0,
                            "ticks": ""
                          }
                        },
                        "type": "scattergl"
                      }
                    ],
                    "scattermapbox": [
                      {
                        "marker": {
                          "colorbar": {
                            "outlinewidth": 0,
                            "ticks": ""
                          }
                        },
                        "type": "scattermapbox"
                      }
                    ],
                    "scatterpolar": [
                      {
                        "marker": {
                          "colorbar": {
                            "outlinewidth": 0,
                            "ticks": ""
                          }
                        },
                        "type": "scatterpolar"
                      }
                    ],
                    "scatterpolargl": [
                      {
                        "marker": {
                          "colorbar": {
                            "outlinewidth": 0,
                            "ticks": ""
                          }
                        },
                        "type": "scatterpolargl"
                      }
                    ],
                    "scatterternary": [
                      {
                        "marker": {
                          "colorbar": {
                            "outlinewidth": 0,
                            "ticks": ""
                          }
                        },
                        "type": "scatterternary"
                      }
                    ],
                    "surface": [
                      {
                        "colorbar": {
                          "outlinewidth": 0,
                          "ticks": ""
                        },
                        "colorscale": [
                          [
                            0,
                            "#0d0887"
                          ],
                          [
                            0.1111111111111111,
                            "#46039f"
                          ],
                          [
                            0.2222222222222222,
                            "#7201a8"
                          ],
                          [
                            0.3333333333333333,
                            "#9c179e"
                          ],
                          [
                            0.4444444444444444,
                            "#bd3786"
                          ],
                          [
                            0.5555555555555556,
                            "#d8576b"
                          ],
                          [
                            0.6666666666666666,
                            "#ed7953"
                          ],
                          [
                            0.7777777777777778,
                            "#fb9f3a"
                          ],
                          [
                            0.8888888888888888,
                            "#fdca26"
                          ],
                          [
                            1,
                            "#f0f921"
                          ]
                        ],
                        "type": "surface"
                      }
                    ],
                    "table": [
                      {
                        "cells": {
                          "fill": {
                            "color": "#EBF0F8"
                          },
                          "line": {
                            "color": "white"
                          }
                        },
                        "header": {
                          "fill": {
                            "color": "#C8D4E3"
                          },
                          "line": {
                            "color": "white"
                          }
                        },
                        "type": "table"
                      }
                    ]
                  },
                  "layout": {
                    "annotationdefaults": {
                      "arrowcolor": "#2a3f5f",
                      "arrowhead": 0,
                      "arrowwidth": 1
                    },
                    "autotypenumbers": "strict",
                    "coloraxis": {
                      "colorbar": {
                        "outlinewidth": 0,
                        "ticks": ""
                      }
                    },
                    "colorscale": {
                      "diverging": [
                        [
                          0,
                          "#8e0152"
                        ],
                        [
                          0.1,
                          "#c51b7d"
                        ],
                        [
                          0.2,
                          "#de77ae"
                        ],
                        [
                          0.3,
                          "#f1b6da"
                        ],
                        [
                          0.4,
                          "#fde0ef"
                        ],
                        [
                          0.5,
                          "#f7f7f7"
                        ],
                        [
                          0.6,
                          "#e6f5d0"
                        ],
                        [
                          0.7,
                          "#b8e186"
                        ],
                        [
                          0.8,
                          "#7fbc41"
                        ],
                        [
                          0.9,
                          "#4d9221"
                        ],
                        [
                          1,
                          "#276419"
                        ]
                      ],
                      "sequential": [
                        [
                          0,
                          "#0d0887"
                        ],
                        [
                          0.1111111111111111,
                          "#46039f"
                        ],
                        [
                          0.2222222222222222,
                          "#7201a8"
                        ],
                        [
                          0.3333333333333333,
                          "#9c179e"
                        ],
                        [
                          0.4444444444444444,
                          "#bd3786"
                        ],
                        [
                          0.5555555555555556,
                          "#d8576b"
                        ],
                        [
                          0.6666666666666666,
                          "#ed7953"
                        ],
                        [
                          0.7777777777777778,
                          "#fb9f3a"
                        ],
                        [
                          0.8888888888888888,
                          "#fdca26"
                        ],
                        [
                          1,
                          "#f0f921"
                        ]
                      ],
                      "sequentialminus": [
                        [
                          0,
                          "#0d0887"
                        ],
                        [
                          0.1111111111111111,
                          "#46039f"
                        ],
                        [
                          0.2222222222222222,
                          "#7201a8"
                        ],
                        [
                          0.3333333333333333,
                          "#9c179e"
                        ],
                        [
                          0.4444444444444444,
                          "#bd3786"
                        ],
                        [
                          0.5555555555555556,
                          "#d8576b"
                        ],
                        [
                          0.6666666666666666,
                          "#ed7953"
                        ],
                        [
                          0.7777777777777778,
                          "#fb9f3a"
                        ],
                        [
                          0.8888888888888888,
                          "#fdca26"
                        ],
                        [
                          1,
                          "#f0f921"
                        ]
                      ]
                    },
                    "colorway": [
                      "#636efa",
                      "#EF553B",
                      "#00cc96",
                      "#ab63fa",
                      "#FFA15A",
                      "#19d3f3",
                      "#FF6692",
                      "#B6E880",
                      "#FF97FF",
                      "#FECB52"
                    ],
                    "font": {
                      "color": "#2a3f5f"
                    },
                    "geo": {
                      "bgcolor": "white",
                      "lakecolor": "white",
                      "landcolor": "#E5ECF6",
                      "showlakes": true,
                      "showland": true,
                      "subunitcolor": "white"
                    },
                    "hoverlabel": {
                      "align": "left"
                    },
                    "hovermode": "closest",
                    "mapbox": {
                      "style": "light"
                    },
                    "paper_bgcolor": "white",
                    "plot_bgcolor": "#E5ECF6",
                    "polar": {
                      "angularaxis": {
                        "gridcolor": "white",
                        "linecolor": "white",
                        "ticks": ""
                      },
                      "bgcolor": "#E5ECF6",
                      "radialaxis": {
                        "gridcolor": "white",
                        "linecolor": "white",
                        "ticks": ""
                      }
                    },
                    "scene": {
                      "xaxis": {
                        "backgroundcolor": "#E5ECF6",
                        "gridcolor": "white",
                        "gridwidth": 2,
                        "linecolor": "white",
                        "showbackground": true,
                        "ticks": "",
                        "zerolinecolor": "white"
                      },
                      "yaxis": {
                        "backgroundcolor": "#E5ECF6",
                        "gridcolor": "white",
                        "gridwidth": 2,
                        "linecolor": "white",
                        "showbackground": true,
                        "ticks": "",
                        "zerolinecolor": "white"
                      },
                      "zaxis": {
                        "backgroundcolor": "#E5ECF6",
                        "gridcolor": "white",
                        "gridwidth": 2,
                        "linecolor": "white",
                        "showbackground": true,
                        "ticks": "",
                        "zerolinecolor": "white"
                      }
                    },
                    "shapedefaults": {
                      "line": {
                        "color": "#2a3f5f"
                      }
                    },
                    "ternary": {
                      "aaxis": {
                        "gridcolor": "white",
                        "linecolor": "white",
                        "ticks": ""
                      },
                      "baxis": {
                        "gridcolor": "white",
                        "linecolor": "white",
                        "ticks": ""
                      },
                      "bgcolor": "#E5ECF6",
                      "caxis": {
                        "gridcolor": "white",
                        "linecolor": "white",
                        "ticks": ""
                      }
                    },
                    "title": {
                      "x": 0.05
                    },
                    "xaxis": {
                      "automargin": true,
                      "gridcolor": "white",
                      "linecolor": "white",
                      "ticks": "",
                      "title": {
                        "standoff": 15
                      },
                      "zerolinecolor": "white",
                      "zerolinewidth": 2
                    },
                    "yaxis": {
                      "automargin": true,
                      "gridcolor": "white",
                      "linecolor": "white",
                      "ticks": "",
                      "title": {
                        "standoff": 15
                      },
                      "zerolinecolor": "white",
                      "zerolinewidth": 2
                    }
                  }
                }
              }
            }
          },
          "metadata": {},
          "output_type": "display_data"
        }
      ],
      "source": [
        "import plotly.express as px\n",
        "fig = px.treemap(df_words[0:100], path=[px.Constant(\"dreamachine open reports\"), 'words'],\n",
        "                 values='count',\n",
        "                 color='count',\n",
        "                 color_continuous_scale='viridis',\n",
        "                 color_continuous_midpoint=np.average(df_words['count'])\n",
        "                )\n",
        "fig.update_layout(margin = dict(t=50, l=25, r=25, b=25))\n",
        "fig.show()"
      ]
    },
    {
      "attachments": {},
      "cell_type": "markdown",
      "metadata": {
        "id": "qjyuyX3-Z38T"
      },
      "source": [
        "NB : this visualisation can help us indentify and define more stop words\n",
        "\n",
        "new_stop_words = ['found','think','didnt','across','even','front','go','kept','took','wasnt','looking','trying','thinking']"
      ]
    },
    {
      "cell_type": "code",
      "execution_count": 8,
      "metadata": {
        "colab": {
          "base_uri": "https://localhost:8080/"
        },
        "id": "SnpgR7oGZnYB",
        "outputId": "a8d1d187-3993-49c4-feca-7f9c4a803b27"
      },
      "outputs": [],
      "source": [
        "import circlify\n",
        "# compute circle positions:\n",
        "circles = circlify.circlify(df_words['count'][0:30].tolist(), \n",
        "                            show_enclosure=False, \n",
        "                            target_enclosure=circlify.Circle(x=0, y=0)\n",
        "                           )\n",
        "n = df_words['count'][0:30].max()\n",
        "color_dict = get_colordict('RdYlBu_r',n ,1)"
      ]
    },
    {
      "cell_type": "code",
      "execution_count": 9,
      "metadata": {
        "colab": {
          "base_uri": "https://localhost:8080/",
          "height": 730
        },
        "id": "TWIc3S-dbMt9",
        "outputId": "d71d9db2-2583-472c-99ba-f60865e13167"
      },
      "outputs": [
        {
          "data": {
            "image/png": "[encoded data removed]",
            "text/plain": [
              "<Figure size 900x900 with 1 Axes>"
            ]
          },
          "metadata": {},
          "output_type": "display_data"
        }
      ],
      "source": [
        "\n",
        "fig, ax = plt.subplots(figsize=(9,9), facecolor='white')\n",
        "ax.axis('off')\n",
        "lim = max(max(abs(circle.x)+circle.r, abs(circle.y)+circle.r,) for circle in circles)\n",
        "plt.xlim(-lim, lim)\n",
        "plt.ylim(-lim, lim)\n",
        "\n",
        "# list of labels\n",
        "labels = list(df_words['words'][0:30])\n",
        "counts = list(df_words['count'][0:30])\n",
        "labels.reverse()\n",
        "counts.reverse()\n",
        "\n",
        "# print circles\n",
        "for circle, label, count in zip(circles, labels, counts):\n",
        "    x, y, r = circle\n",
        "    ax.add_patch(plt.Circle((x, y), r, alpha=0.9, color = color_dict.get(count)))\n",
        "    plt.annotate(label +'\\n'+ str(count), (x,y), size=12, va='center', ha='center')\n",
        "plt.xticks([])\n",
        "plt.yticks([])\n",
        "plt.show()"
      ]
    }
  ],
  "metadata": {
    "colab": {
      "provenance": []
    },
    "kernelspec": {
      "display_name": "Python 3",
      "name": "python3"
    },
    "language_info": {
      "codemirror_mode": {
        "name": "ipython",
        "version": 3
      },
      "file_extension": ".py",
      "mimetype": "text/x-python",
      "name": "python",
      "nbconvert_exporter": "python",
      "pygments_lexer": "ipython3",
      "version": "3.11.3"
    }
  },
  "nbformat": 4,
  "nbformat_minor": 0
}
