{
 "cells": [
  {
   "cell_type": "code",
   "execution_count": 17,
   "metadata": {},
   "outputs": [
    {
     "data": {
      "text/html": [
       "<div>\n",
       "<style scoped>\n",
       "    .dataframe tbody tr th:only-of-type {\n",
       "        vertical-align: middle;\n",
       "    }\n",
       "\n",
       "    .dataframe tbody tr th {\n",
       "        vertical-align: top;\n",
       "    }\n",
       "\n",
       "    .dataframe thead th {\n",
       "        text-align: right;\n",
       "    }\n",
       "</style>\n",
       "<table border=\"1\" class=\"dataframe\">\n",
       "  <thead>\n",
       "    <tr style=\"text-align: right;\">\n",
       "      <th></th>\n",
       "      <th>text</th>\n",
       "    </tr>\n",
       "  </thead>\n",
       "  <tbody>\n",
       "    <tr>\n",
       "      <th>0</th>\n",
       "      <td>the colours made patterns when i had my eyes c...</td>\n",
       "    </tr>\n",
       "    <tr>\n",
       "      <th>1</th>\n",
       "      <td>Intense chaos. And then my mind checked out an...</td>\n",
       "    </tr>\n",
       "    <tr>\n",
       "      <th>2</th>\n",
       "      <td>good stuff.\\r\\n</td>\n",
       "    </tr>\n",
       "    <tr>\n",
       "      <th>3</th>\n",
       "      <td>a pattern of red and white lights thatflashed ...</td>\n",
       "    </tr>\n",
       "    <tr>\n",
       "      <th>4</th>\n",
       "      <td>i wentback to many hard and mostly beautiful m...</td>\n",
       "    </tr>\n",
       "  </tbody>\n",
       "</table>\n",
       "</div>"
      ],
      "text/plain": [
       "                                                text\n",
       "0  the colours made patterns when i had my eyes c...\n",
       "1  Intense chaos. And then my mind checked out an...\n",
       "2                                    good stuff.\\r\\n\n",
       "3  a pattern of red and white lights thatflashed ...\n",
       "4  i wentback to many hard and mostly beautiful m..."
      ]
     },
     "execution_count": 17,
     "metadata": {},
     "output_type": "execute_result"
    }
   ],
   "source": [
    "import pandas as pd\n",
    "import os \n",
    "from pathlib import Path\n",
    "from bertopic import BERTopic\n",
    "import re \n",
    "from nltk.corpus import stopwords\n",
    "import matplotlib.pyplot as plt\n",
    "import seaborn as sns\n",
    "from IPython.display import Image, display\n",
    "\n",
    "\n",
    "\n",
    "\n",
    "condition = \"Dreamachine\"\n",
    "remove_stopwords = True\n",
    "extended_stopwords = True\n",
    "\n",
    "metaproject_name = 'TopicModelling_META'\n",
    "subproject_name = 'TopMod_pipeline'\n",
    "dataset_name = f'{condition}_dataset.csv'\n",
    "\n",
    "\n",
    "PROJDIR = os.path.expanduser(f\"~/projects/{metaproject_name}\")\n",
    "DATADIR = os.path.join(PROJDIR,f'DATA/{dataset_name}')\n",
    "CODEDIR = os.path.join(PROJDIR,f'{subproject_name}')\n",
    "\n",
    "reports = pd.read_csv(DATADIR,usecols=['text']).dropna()\n",
    "reports.head()\n",
    "\n",
    "\n",
    "# %matplotlib inline"
   ]
  },
  {
   "cell_type": "code",
   "execution_count": 18,
   "metadata": {},
   "outputs": [
    {
     "name": "stdout",
     "output_type": "stream",
     "text": [
      "0    the colours made patterns when i had my eyes c...\n",
      "1    intense chaos and then my mind checked out and...\n",
      "2                                       good stuff\\r\\n\n",
      "3    a pattern of red and white lights thatflashed ...\n",
      "4    i wentback to many hard and mostly beautiful m...\n",
      "Name: text_processed, dtype: object\n",
      "N = 377 reports\n"
     ]
    }
   ],
   "source": [
    "# Remove punctuation\n",
    "def process_text(x):\n",
    "    if isinstance(x, str):  # check if x is of type string\n",
    "        x = re.sub('[,\\.!?;]', '', x)  # if it is, do the replacement\n",
    "        x = re.sub('^[0-9]+', '', x)  # remove initial numbers\n",
    "        return x.lower()\n",
    "    else:\n",
    "        return \"\"  # otherwise, return an empty string or you can convert it to string by using `return str(x)`\n",
    "\n",
    "reports['text_processed'] = reports['text'].map(process_text)\n",
    "\n",
    "# Convert the titles to lowercase\n",
    "reports['text_processed'] = reports['text_processed'].map(lambda x: x.lower())\n",
    "\n",
    "# Print out the first rows of papers\n",
    "print(reports['text_processed'].head())\n",
    "\n",
    "print('N = {} reports'.format(len(reports)))"
   ]
  },
  {
   "cell_type": "code",
   "execution_count": 19,
   "metadata": {},
   "outputs": [
    {
     "name": "stdout",
     "output_type": "stream",
     "text": [
      "Removing extended list of stopwords (N = 8 extended stopwords) ...\n",
      "Removing stopwords (N=187 stopwords) ...\n"
     ]
    }
   ],
   "source": [
    "\n",
    "stop_words = stopwords.words('english')\n",
    "# print(len(stop_words))\n",
    "\n",
    "extended_stopwords_list = ['dreamachine','machine','end','felt','experience','like','first','anxiety']\n",
    "if extended_stopwords:\n",
    "    stop_words.extend(extended_stopwords_list)\n",
    "    print('Removing extended list of stopwords (N = {} extended stopwords) ...'.format(len(extended_stopwords_list)))\n",
    "\n",
    "reports['text_without_stopwords'] = reports['text_processed'].apply(lambda x: ' '.join([word for word in x.split() if word not in (stop_words)]))\n",
    "\n",
    "if remove_stopwords:\n",
    "    print('Removing stopwords (N={} stopwords) ...'.format(len(stop_words)))\n",
    "    reports['text_processed'] = reports['text_without_stopwords']"
   ]
  },
  {
   "cell_type": "code",
   "execution_count": 20,
   "metadata": {},
   "outputs": [
    {
     "name": "stdout",
     "output_type": "stream",
     "text": [
      "count    377.000000\n",
      "mean      11.021220\n",
      "std       10.453777\n",
      "min        1.000000\n",
      "25%        4.000000\n",
      "50%        8.000000\n",
      "75%       15.000000\n",
      "max       67.000000\n",
      "Name: report_length, dtype: float64\n",
      "The mean report length is 11 words.\n",
      "The longest report has 67 words.\n"
     ]
    },
    {
     "data": {
      "image/png": "[encoded data removed]",
      "text/plain": [
       "<Figure size 640x480 with 1 Axes>"
      ]
     },
     "metadata": {},
     "output_type": "display_data"
    }
   ],
   "source": [
    "reports[\"report_length\"] = reports[\"text_processed\"].apply(lambda x: len(x.split(\" \")))   # count words in each report\n",
    "\n",
    "#Visualize the distribution of report lengths\n",
    "sns.set_style('whitegrid')\n",
    "# get_ipython().run_line_magic('matplotlib', 'inline')\n",
    "sns.distplot(reports['report_length'], kde=False, color='blue', bins=100)\n",
    "\n",
    "print(reports['report_length'].describe())\n",
    "print(\"The mean report length is {} words.\".format(round(reports['report_length'].mean())))\n",
    "print(\"The longest report has {} words.\".format(max(reports['report_length'])))"
   ]
  },
  {
   "attachments": {},
   "cell_type": "markdown",
   "metadata": {},
   "source": [
    "## BERTopic\n",
    "\n",
    "https://miro.medium.com/v2/resize:fit:4800/format:webp/0*DxAqCqx6dzg0KQlg.png"
   ]
  },
  {
   "attachments": {},
   "cell_type": "markdown",
   "metadata": {},
   "source": [
    "### Training the BERT model"
   ]
  },
  {
   "cell_type": "code",
   "execution_count": 21,
   "metadata": {},
   "outputs": [
    {
     "data": {
      "application/vnd.jupyter.widget-view+json": {
       "model_id": "f66d9122621d4ed1b9f17b1050003587",
       "version_major": 2,
       "version_minor": 0
      },
      "text/plain": [
       "Batches:   0%|          | 0/12 [00:00<?, ?it/s]"
      ]
     },
     "metadata": {},
     "output_type": "display_data"
    },
    {
     "name": "stderr",
     "output_type": "stream",
     "text": [
      "2023-08-11 11:48:05,294 - BERTopic - Transformed documents to Embeddings\n",
      "2023-08-11 11:48:06,300 - BERTopic - Reduced dimensionality\n",
      "2023-08-11 11:48:06,310 - BERTopic - Clustered reduced embeddings\n"
     ]
    },
    {
     "data": {
      "application/vnd.plotly.v1+json": {
       "config": {
        "plotlyServerURL": "https://plot.ly"
       },
       "data": [
        {
         "customdata": [
          [
           0,
           "saw | colours | shapes | moving | space",
           139
          ],
          [
           1,
           "music | journey | time | mind | really",
           41
          ],
          [
           2,
           "thoughts | brain | dreaming | thought | mind",
           29
          ],
          [
           3,
           "interesting | curiosity | relaxation | relaxed | calm",
           24
          ],
          [
           4,
           "peace | calm | peaceful | sense | mentally",
           15
          ]
         ],
         "hovertemplate": "<b>Topic %{customdata[0]}</b><br>%{customdata[1]}<br>Size: %{customdata[2]}",
         "legendgroup": "",
         "marker": {
          "color": "#B0BEC5",
          "line": {
           "color": "DarkSlateGrey",
           "width": 2
          },
          "size": [
           139,
           41,
           29,
           24,
           15
          ],
          "sizemode": "area",
          "sizeref": 0.086875,
          "symbol": "circle"
         },
         "mode": "markers",
         "name": "",
         "orientation": "v",
         "showlegend": false,
         "type": "scatter",
         "x": [
          -3.323821544647217,
          -3.40151309967041,
          -2.9502785205841064,
          10.018904685974121,
          9.667895317077637
         ],
         "xaxis": "x",
         "y": [
          15.415011405944824,
          14.226860046386719,
          14.78475284576416,
          -1.6118366718292236,
          -1.2608264684677124
         ],
         "yaxis": "y"
        }
       ],
       "layout": {
        "annotations": [
         {
          "showarrow": false,
          "text": "D1",
          "x": -3.9117400646209717,
          "y": 7.936825472116469,
          "yshift": 10
         },
         {
          "showarrow": false,
          "text": "D2",
          "x": 3.8050001621246334,
          "xshift": 10,
          "y": 17.727263116836546
         }
        ],
        "height": 650,
        "hoverlabel": {
         "bgcolor": "white",
         "font": {
          "family": "Rockwell",
          "size": 16
         }
        },
        "legend": {
         "itemsizing": "constant",
         "tracegroupgap": 0
        },
        "margin": {
         "t": 60
        },
        "shapes": [
         {
          "line": {
           "color": "#CFD8DC",
           "width": 2
          },
          "type": "line",
          "x0": 3.8050001621246334,
          "x1": 3.8050001621246334,
          "y0": -1.8536121726036072,
          "y1": 17.727263116836546
         },
         {
          "line": {
           "color": "#9E9E9E",
           "width": 2
          },
          "type": "line",
          "x0": -3.9117400646209717,
          "x1": 11.521740388870239,
          "y0": 7.936825472116469,
          "y1": 7.936825472116469
         }
        ],
        "sliders": [
         {
          "active": 0,
          "pad": {
           "t": 50
          },
          "steps": [
           {
            "args": [
             {
              "marker.color": [
               [
                "red",
                "#B0BEC5",
                "#B0BEC5",
                "#B0BEC5",
                "#B0BEC5"
               ]
              ]
             }
            ],
            "label": "Topic 0",
            "method": "update"
           },
           {
            "args": [
             {
              "marker.color": [
               [
                "#B0BEC5",
                "red",
                "#B0BEC5",
                "#B0BEC5",
                "#B0BEC5"
               ]
              ]
             }
            ],
            "label": "Topic 1",
            "method": "update"
           },
           {
            "args": [
             {
              "marker.color": [
               [
                "#B0BEC5",
                "#B0BEC5",
                "red",
                "#B0BEC5",
                "#B0BEC5"
               ]
              ]
             }
            ],
            "label": "Topic 2",
            "method": "update"
           },
           {
            "args": [
             {
              "marker.color": [
               [
                "#B0BEC5",
                "#B0BEC5",
                "#B0BEC5",
                "red",
                "#B0BEC5"
               ]
              ]
             }
            ],
            "label": "Topic 3",
            "method": "update"
           },
           {
            "args": [
             {
              "marker.color": [
               [
                "#B0BEC5",
                "#B0BEC5",
                "#B0BEC5",
                "#B0BEC5",
                "red"
               ]
              ]
             }
            ],
            "label": "Topic 4",
            "method": "update"
           }
          ]
         }
        ],
        "template": {
         "data": {
          "bar": [
           {
            "error_x": {
             "color": "rgb(36,36,36)"
            },
            "error_y": {
             "color": "rgb(36,36,36)"
            },
            "marker": {
             "line": {
              "color": "white",
              "width": 0.5
             },
             "pattern": {
              "fillmode": "overlay",
              "size": 10,
              "solidity": 0.2
             }
            },
            "type": "bar"
           }
          ],
          "barpolar": [
           {
            "marker": {
             "line": {
              "color": "white",
              "width": 0.5
             },
             "pattern": {
              "fillmode": "overlay",
              "size": 10,
              "solidity": 0.2
             }
            },
            "type": "barpolar"
           }
          ],
          "carpet": [
           {
            "aaxis": {
             "endlinecolor": "rgb(36,36,36)",
             "gridcolor": "white",
             "linecolor": "white",
             "minorgridcolor": "white",
             "startlinecolor": "rgb(36,36,36)"
            },
            "baxis": {
             "endlinecolor": "rgb(36,36,36)",
             "gridcolor": "white",
             "linecolor": "white",
             "minorgridcolor": "white",
             "startlinecolor": "rgb(36,36,36)"
            },
            "type": "carpet"
           }
          ],
          "choropleth": [
           {
            "colorbar": {
             "outlinewidth": 1,
             "tickcolor": "rgb(36,36,36)",
             "ticks": "outside"
            },
            "type": "choropleth"
           }
          ],
          "contour": [
           {
            "colorbar": {
             "outlinewidth": 1,
             "tickcolor": "rgb(36,36,36)",
             "ticks": "outside"
            },
            "colorscale": [
             [
              0,
              "#440154"
             ],
             [
              0.1111111111111111,
              "#482878"
             ],
             [
              0.2222222222222222,
              "#3e4989"
             ],
             [
              0.3333333333333333,
              "#31688e"
             ],
             [
              0.4444444444444444,
              "#26828e"
             ],
             [
              0.5555555555555556,
              "#1f9e89"
             ],
             [
              0.6666666666666666,
              "#35b779"
             ],
             [
              0.7777777777777778,
              "#6ece58"
             ],
             [
              0.8888888888888888,
              "#b5de2b"
             ],
             [
              1,
              "#fde725"
             ]
            ],
            "type": "contour"
           }
          ],
          "contourcarpet": [
           {
            "colorbar": {
             "outlinewidth": 1,
             "tickcolor": "rgb(36,36,36)",
             "ticks": "outside"
            },
            "type": "contourcarpet"
           }
          ],
          "heatmap": [
           {
            "colorbar": {
             "outlinewidth": 1,
             "tickcolor": "rgb(36,36,36)",
             "ticks": "outside"
            },
            "colorscale": [
             [
              0,
              "#440154"
             ],
             [
              0.1111111111111111,
              "#482878"
             ],
             [
              0.2222222222222222,
              "#3e4989"
             ],
             [
              0.3333333333333333,
              "#31688e"
             ],
             [
              0.4444444444444444,
              "#26828e"
             ],
             [
              0.5555555555555556,
              "#1f9e89"
             ],
             [
              0.6666666666666666,
              "#35b779"
             ],
             [
              0.7777777777777778,
              "#6ece58"
             ],
             [
              0.8888888888888888,
              "#b5de2b"
             ],
             [
              1,
              "#fde725"
             ]
            ],
            "type": "heatmap"
           }
          ],
          "heatmapgl": [
           {
            "colorbar": {
             "outlinewidth": 1,
             "tickcolor": "rgb(36,36,36)",
             "ticks": "outside"
            },
            "colorscale": [
             [
              0,
              "#440154"
             ],
             [
              0.1111111111111111,
              "#482878"
             ],
             [
              0.2222222222222222,
              "#3e4989"
             ],
             [
              0.3333333333333333,
              "#31688e"
             ],
             [
              0.4444444444444444,
              "#26828e"
             ],
             [
              0.5555555555555556,
              "#1f9e89"
             ],
             [
              0.6666666666666666,
              "#35b779"
             ],
             [
              0.7777777777777778,
              "#6ece58"
             ],
             [
              0.8888888888888888,
              "#b5de2b"
             ],
             [
              1,
              "#fde725"
             ]
            ],
            "type": "heatmapgl"
           }
          ],
          "histogram": [
           {
            "marker": {
             "line": {
              "color": "white",
              "width": 0.6
             }
            },
            "type": "histogram"
           }
          ],
          "histogram2d": [
           {
            "colorbar": {
             "outlinewidth": 1,
             "tickcolor": "rgb(36,36,36)",
             "ticks": "outside"
            },
            "colorscale": [
             [
              0,
              "#440154"
             ],
             [
              0.1111111111111111,
              "#482878"
             ],
             [
              0.2222222222222222,
              "#3e4989"
             ],
             [
              0.3333333333333333,
              "#31688e"
             ],
             [
              0.4444444444444444,
              "#26828e"
             ],
             [
              0.5555555555555556,
              "#1f9e89"
             ],
             [
              0.6666666666666666,
              "#35b779"
             ],
             [
              0.7777777777777778,
              "#6ece58"
             ],
             [
              0.8888888888888888,
              "#b5de2b"
             ],
             [
              1,
              "#fde725"
             ]
            ],
            "type": "histogram2d"
           }
          ],
          "histogram2dcontour": [
           {
            "colorbar": {
             "outlinewidth": 1,
             "tickcolor": "rgb(36,36,36)",
             "ticks": "outside"
            },
            "colorscale": [
             [
              0,
              "#440154"
             ],
             [
              0.1111111111111111,
              "#482878"
             ],
             [
              0.2222222222222222,
              "#3e4989"
             ],
             [
              0.3333333333333333,
              "#31688e"
             ],
             [
              0.4444444444444444,
              "#26828e"
             ],
             [
              0.5555555555555556,
              "#1f9e89"
             ],
             [
              0.6666666666666666,
              "#35b779"
             ],
             [
              0.7777777777777778,
              "#6ece58"
             ],
             [
              0.8888888888888888,
              "#b5de2b"
             ],
             [
              1,
              "#fde725"
             ]
            ],
            "type": "histogram2dcontour"
           }
          ],
          "mesh3d": [
           {
            "colorbar": {
             "outlinewidth": 1,
             "tickcolor": "rgb(36,36,36)",
             "ticks": "outside"
            },
            "type": "mesh3d"
           }
          ],
          "parcoords": [
           {
            "line": {
             "colorbar": {
              "outlinewidth": 1,
              "tickcolor": "rgb(36,36,36)",
              "ticks": "outside"
             }
            },
            "type": "parcoords"
           }
          ],
          "pie": [
           {
            "automargin": true,
            "type": "pie"
           }
          ],
          "scatter": [
           {
            "fillpattern": {
             "fillmode": "overlay",
             "size": 10,
             "solidity": 0.2
            },
            "type": "scatter"
           }
          ],
          "scatter3d": [
           {
            "line": {
             "colorbar": {
              "outlinewidth": 1,
              "tickcolor": "rgb(36,36,36)",
              "ticks": "outside"
             }
            },
            "marker": {
             "colorbar": {
              "outlinewidth": 1,
              "tickcolor": "rgb(36,36,36)",
              "ticks": "outside"
             }
            },
            "type": "scatter3d"
           }
          ],
          "scattercarpet": [
           {
            "marker": {
             "colorbar": {
              "outlinewidth": 1,
              "tickcolor": "rgb(36,36,36)",
              "ticks": "outside"
             }
            },
            "type": "scattercarpet"
           }
          ],
          "scattergeo": [
           {
            "marker": {
             "colorbar": {
              "outlinewidth": 1,
              "tickcolor": "rgb(36,36,36)",
              "ticks": "outside"
             }
            },
            "type": "scattergeo"
           }
          ],
          "scattergl": [
           {
            "marker": {
             "colorbar": {
              "outlinewidth": 1,
              "tickcolor": "rgb(36,36,36)",
              "ticks": "outside"
             }
            },
            "type": "scattergl"
           }
          ],
          "scattermapbox": [
           {
            "marker": {
             "colorbar": {
              "outlinewidth": 1,
              "tickcolor": "rgb(36,36,36)",
              "ticks": "outside"
             }
            },
            "type": "scattermapbox"
           }
          ],
          "scatterpolar": [
           {
            "marker": {
             "colorbar": {
              "outlinewidth": 1,
              "tickcolor": "rgb(36,36,36)",
              "ticks": "outside"
             }
            },
            "type": "scatterpolar"
           }
          ],
          "scatterpolargl": [
           {
            "marker": {
             "colorbar": {
              "outlinewidth": 1,
              "tickcolor": "rgb(36,36,36)",
              "ticks": "outside"
             }
            },
            "type": "scatterpolargl"
           }
          ],
          "scatterternary": [
           {
            "marker": {
             "colorbar": {
              "outlinewidth": 1,
              "tickcolor": "rgb(36,36,36)",
              "ticks": "outside"
             }
            },
            "type": "scatterternary"
           }
          ],
          "surface": [
           {
            "colorbar": {
             "outlinewidth": 1,
             "tickcolor": "rgb(36,36,36)",
             "ticks": "outside"
            },
            "colorscale": [
             [
              0,
              "#440154"
             ],
             [
              0.1111111111111111,
              "#482878"
             ],
             [
              0.2222222222222222,
              "#3e4989"
             ],
             [
              0.3333333333333333,
              "#31688e"
             ],
             [
              0.4444444444444444,
              "#26828e"
             ],
             [
              0.5555555555555556,
              "#1f9e89"
             ],
             [
              0.6666666666666666,
              "#35b779"
             ],
             [
              0.7777777777777778,
              "#6ece58"
             ],
             [
              0.8888888888888888,
              "#b5de2b"
             ],
             [
              1,
              "#fde725"
             ]
            ],
            "type": "surface"
           }
          ],
          "table": [
           {
            "cells": {
             "fill": {
              "color": "rgb(237,237,237)"
             },
             "line": {
              "color": "white"
             }
            },
            "header": {
             "fill": {
              "color": "rgb(217,217,217)"
             },
             "line": {
              "color": "white"
             }
            },
            "type": "table"
           }
          ]
         },
         "layout": {
          "annotationdefaults": {
           "arrowhead": 0,
           "arrowwidth": 1
          },
          "autotypenumbers": "strict",
          "coloraxis": {
           "colorbar": {
            "outlinewidth": 1,
            "tickcolor": "rgb(36,36,36)",
            "ticks": "outside"
           }
          },
          "colorscale": {
           "diverging": [
            [
             0,
             "rgb(103,0,31)"
            ],
            [
             0.1,
             "rgb(178,24,43)"
            ],
            [
             0.2,
             "rgb(214,96,77)"
            ],
            [
             0.3,
             "rgb(244,165,130)"
            ],
            [
             0.4,
             "rgb(253,219,199)"
            ],
            [
             0.5,
             "rgb(247,247,247)"
            ],
            [
             0.6,
             "rgb(209,229,240)"
            ],
            [
             0.7,
             "rgb(146,197,222)"
            ],
            [
             0.8,
             "rgb(67,147,195)"
            ],
            [
             0.9,
             "rgb(33,102,172)"
            ],
            [
             1,
             "rgb(5,48,97)"
            ]
           ],
           "sequential": [
            [
             0,
             "#440154"
            ],
            [
             0.1111111111111111,
             "#482878"
            ],
            [
             0.2222222222222222,
             "#3e4989"
            ],
            [
             0.3333333333333333,
             "#31688e"
            ],
            [
             0.4444444444444444,
             "#26828e"
            ],
            [
             0.5555555555555556,
             "#1f9e89"
            ],
            [
             0.6666666666666666,
             "#35b779"
            ],
            [
             0.7777777777777778,
             "#6ece58"
            ],
            [
             0.8888888888888888,
             "#b5de2b"
            ],
            [
             1,
             "#fde725"
            ]
           ],
           "sequentialminus": [
            [
             0,
             "#440154"
            ],
            [
             0.1111111111111111,
             "#482878"
            ],
            [
             0.2222222222222222,
             "#3e4989"
            ],
            [
             0.3333333333333333,
             "#31688e"
            ],
            [
             0.4444444444444444,
             "#26828e"
            ],
            [
             0.5555555555555556,
             "#1f9e89"
            ],
            [
             0.6666666666666666,
             "#35b779"
            ],
            [
             0.7777777777777778,
             "#6ece58"
            ],
            [
             0.8888888888888888,
             "#b5de2b"
            ],
            [
             1,
             "#fde725"
            ]
           ]
          },
          "colorway": [
           "#1F77B4",
           "#FF7F0E",
           "#2CA02C",
           "#D62728",
           "#9467BD",
           "#8C564B",
           "#E377C2",
           "#7F7F7F",
           "#BCBD22",
           "#17BECF"
          ],
          "font": {
           "color": "rgb(36,36,36)"
          },
          "geo": {
           "bgcolor": "white",
           "lakecolor": "white",
           "landcolor": "white",
           "showlakes": true,
           "showland": true,
           "subunitcolor": "white"
          },
          "hoverlabel": {
           "align": "left"
          },
          "hovermode": "closest",
          "mapbox": {
           "style": "light"
          },
          "paper_bgcolor": "white",
          "plot_bgcolor": "white",
          "polar": {
           "angularaxis": {
            "gridcolor": "rgb(232,232,232)",
            "linecolor": "rgb(36,36,36)",
            "showgrid": false,
            "showline": true,
            "ticks": "outside"
           },
           "bgcolor": "white",
           "radialaxis": {
            "gridcolor": "rgb(232,232,232)",
            "linecolor": "rgb(36,36,36)",
            "showgrid": false,
            "showline": true,
            "ticks": "outside"
           }
          },
          "scene": {
           "xaxis": {
            "backgroundcolor": "white",
            "gridcolor": "rgb(232,232,232)",
            "gridwidth": 2,
            "linecolor": "rgb(36,36,36)",
            "showbackground": true,
            "showgrid": false,
            "showline": true,
            "ticks": "outside",
            "zeroline": false,
            "zerolinecolor": "rgb(36,36,36)"
           },
           "yaxis": {
            "backgroundcolor": "white",
            "gridcolor": "rgb(232,232,232)",
            "gridwidth": 2,
            "linecolor": "rgb(36,36,36)",
            "showbackground": true,
            "showgrid": false,
            "showline": true,
            "ticks": "outside",
            "zeroline": false,
            "zerolinecolor": "rgb(36,36,36)"
           },
           "zaxis": {
            "backgroundcolor": "white",
            "gridcolor": "rgb(232,232,232)",
            "gridwidth": 2,
            "linecolor": "rgb(36,36,36)",
            "showbackground": true,
            "showgrid": false,
            "showline": true,
            "ticks": "outside",
            "zeroline": false,
            "zerolinecolor": "rgb(36,36,36)"
           }
          },
          "shapedefaults": {
           "fillcolor": "black",
           "line": {
            "width": 0
           },
           "opacity": 0.3
          },
          "ternary": {
           "aaxis": {
            "gridcolor": "rgb(232,232,232)",
            "linecolor": "rgb(36,36,36)",
            "showgrid": false,
            "showline": true,
            "ticks": "outside"
           },
           "baxis": {
            "gridcolor": "rgb(232,232,232)",
            "linecolor": "rgb(36,36,36)",
            "showgrid": false,
            "showline": true,
            "ticks": "outside"
           },
           "bgcolor": "white",
           "caxis": {
            "gridcolor": "rgb(232,232,232)",
            "linecolor": "rgb(36,36,36)",
            "showgrid": false,
            "showline": true,
            "ticks": "outside"
           }
          },
          "title": {
           "x": 0.05
          },
          "xaxis": {
           "automargin": true,
           "gridcolor": "rgb(232,232,232)",
           "linecolor": "rgb(36,36,36)",
           "showgrid": false,
           "showline": true,
           "ticks": "outside",
           "title": {
            "standoff": 15
           },
           "zeroline": false,
           "zerolinecolor": "rgb(36,36,36)"
          },
          "yaxis": {
           "automargin": true,
           "gridcolor": "rgb(232,232,232)",
           "linecolor": "rgb(36,36,36)",
           "showgrid": false,
           "showline": true,
           "ticks": "outside",
           "title": {
            "standoff": 15
           },
           "zeroline": false,
           "zerolinecolor": "rgb(36,36,36)"
          }
         }
        },
        "title": {
         "font": {
          "color": "Black",
          "size": 22
         },
         "text": "<b>Intertopic Distance Map</b>",
         "x": 0.5,
         "xanchor": "center",
         "y": 0.95,
         "yanchor": "top"
        },
        "width": 650,
        "xaxis": {
         "anchor": "y",
         "domain": [
          0,
          1
         ],
         "range": [
          -3.9117400646209717,
          11.521740388870239
         ],
         "title": {
          "text": ""
         },
         "visible": false
        },
        "yaxis": {
         "anchor": "x",
         "domain": [
          0,
          1
         ],
         "range": [
          -1.8536121726036072,
          17.727263116836546
         ],
         "title": {
          "text": ""
         },
         "visible": false
        }
       }
      }
     },
     "metadata": {},
     "output_type": "display_data"
    }
   ],
   "source": [
    "from bertopic import BERTopic\n",
    "\n",
    "model = BERTopic(language=\"english\", calculate_probabilities=True, verbose=True,embedding_model=\"all-MiniLM-L6-v2\",min_topic_size=11) #The higher the value of min_topic_size, the more specific the topics will be\n",
    "topics, probs = model.fit_transform(reports['text_processed']) #Fit model to data : topics are the topic labels for each document, probs are the probabilities of each topic for each document\n",
    "model.visualize_topics() #Visualize topics"
   ]
  },
  {
   "attachments": {},
   "cell_type": "markdown",
   "metadata": {},
   "source": [
    "### Topic extraction and representation"
   ]
  },
  {
   "cell_type": "code",
   "execution_count": 22,
   "metadata": {},
   "outputs": [
    {
     "name": "stdout",
     "output_type": "stream",
     "text": [
      "N number of topics:  6\n",
      "   Topic  Count                                        Name  \\\n",
      "0     -1    129                    -1_body_time_would_sense   \n",
      "1      0    139                 0_saw_colours_shapes_moving   \n",
      "2      1     41                   1_music_journey_time_mind   \n",
      "3      2     29           2_thoughts_brain_dreaming_thought   \n",
      "4      3     24  3_interesting_curiosity_relaxation_relaxed   \n",
      "\n",
      "                                      Representation  \\\n",
      "0  [body, time, would, sense, could, memories, so...   \n",
      "1  [saw, colours, shapes, moving, space, light, p...   \n",
      "2  [music, journey, time, mind, really, bit, amaz...   \n",
      "3  [thoughts, brain, dreaming, thought, mind, asl...   \n",
      "4  [interesting, curiosity, relaxation, relaxed, ...   \n",
      "\n",
      "                                 Representative_Docs  \n",
      "0  [dream movie one even mind flying lot shape li...  \n",
      "1  [thought universe moving moving centre drawn s...  \n",
      "2  [thought fluffy speech writtenhealth safetyasp...  \n",
      "3  [brief - thinking death could look decided ass...  \n",
      "4  [interesting relaxed, sparked much curiosity r...  \n"
     ]
    }
   ],
   "source": [
    "topic_freq = model.get_topic_freq().head() #Get the frequency of each topic\n",
    "freq = model.get_topic_info() #Get the frequency of each topic\n",
    "print(\"N number of topics: \",len(freq))\n",
    "print(freq.head())\n"
   ]
  },
  {
   "cell_type": "code",
   "execution_count": 23,
   "metadata": {},
   "outputs": [
    {
     "data": {
      "text/plain": [
       "[('saw', 0.05107616271170069),\n",
       " ('colours', 0.04503435839818229),\n",
       " ('shapes', 0.03792819341350486),\n",
       " ('moving', 0.03558536357183829),\n",
       " ('space', 0.03435750112556984),\n",
       " ('light', 0.032920797336151594),\n",
       " ('patterns', 0.02960719721453301),\n",
       " ('one', 0.028932632526795652),\n",
       " ('eyes', 0.028815500181293977),\n",
       " ('blue', 0.02643274998025583)]"
      ]
     },
     "execution_count": 23,
     "metadata": {},
     "output_type": "execute_result"
    }
   ],
   "source": [
    "model.get_topic(0) #Get the most frequent words of the first topic (the words and their probabilities, ie TF-IDF scores)"
   ]
  },
  {
   "attachments": {},
   "cell_type": "markdown",
   "metadata": {},
   "source": [
    "## Prileminary visualisation"
   ]
  },
  {
   "cell_type": "code",
   "execution_count": 24,
   "metadata": {},
   "outputs": [
    {
     "data": {
      "application/vnd.plotly.v1+json": {
       "config": {
        "plotlyServerURL": "https://plot.ly"
       },
       "data": [
        {
         "marker": {
          "color": "#D55E00"
         },
         "orientation": "h",
         "type": "bar",
         "x": [
          0.03435750112556984,
          0.03558536357183829,
          0.03792819341350486,
          0.04503435839818229,
          0.05107616271170069
         ],
         "xaxis": "x",
         "y": [
          "space  ",
          "moving  ",
          "shapes  ",
          "colours  ",
          "saw  "
         ],
         "yaxis": "y"
        },
        {
         "marker": {
          "color": "#0072B2"
         },
         "orientation": "h",
         "type": "bar",
         "x": [
          0.027233371135016057,
          0.027629845478893654,
          0.027868658817636765,
          0.03751586267562144,
          0.133228965769008
         ],
         "xaxis": "x2",
         "y": [
          "really  ",
          "mind  ",
          "time  ",
          "journey  ",
          "music  "
         ],
         "yaxis": "y2"
        },
        {
         "marker": {
          "color": "#CC79A7"
         },
         "orientation": "h",
         "type": "bar",
         "x": [
          0.04229675480803547,
          0.05211227214308548,
          0.05684832376663749,
          0.06117628256150326,
          0.13086534757066035
         ],
         "xaxis": "x3",
         "y": [
          "mind  ",
          "thought  ",
          "dreaming  ",
          "brain  ",
          "thoughts  "
         ],
         "yaxis": "y3"
        },
        {
         "marker": {
          "color": "#E69F00"
         },
         "orientation": "h",
         "type": "bar",
         "x": [
          0.1864226702100263,
          0.19362731834549543,
          0.21895246173854657,
          0.25902512071902667,
          0.318993437046756
         ],
         "xaxis": "x4",
         "y": [
          "calm  ",
          "relaxed  ",
          "relaxation  ",
          "curiosity  ",
          "interesting  "
         ],
         "yaxis": "y4"
        },
        {
         "marker": {
          "color": "#56B4E9"
         },
         "orientation": "h",
         "type": "bar",
         "x": [
          0.15560098264318234,
          0.2366276017370073,
          0.318993437046756,
          0.46605667552506574,
          0.5592680106300789
         ],
         "xaxis": "x5",
         "y": [
          "mentally  ",
          "sense  ",
          "peaceful  ",
          "calm  ",
          "peace  "
         ],
         "yaxis": "y5"
        }
       ],
       "layout": {
        "annotations": [
         {
          "font": {
           "size": 16
          },
          "showarrow": false,
          "text": "Topic 0",
          "x": 0.0875,
          "xanchor": "center",
          "xref": "paper",
          "y": 1,
          "yanchor": "bottom",
          "yref": "paper"
         },
         {
          "font": {
           "size": 16
          },
          "showarrow": false,
          "text": "Topic 1",
          "x": 0.36250000000000004,
          "xanchor": "center",
          "xref": "paper",
          "y": 1,
          "yanchor": "bottom",
          "yref": "paper"
         },
         {
          "font": {
           "size": 16
          },
          "showarrow": false,
          "text": "Topic 2",
          "x": 0.6375000000000001,
          "xanchor": "center",
          "xref": "paper",
          "y": 1,
          "yanchor": "bottom",
          "yref": "paper"
         },
         {
          "font": {
           "size": 16
          },
          "showarrow": false,
          "text": "Topic 3",
          "x": 0.9125,
          "xanchor": "center",
          "xref": "paper",
          "y": 1,
          "yanchor": "bottom",
          "yref": "paper"
         },
         {
          "font": {
           "size": 16
          },
          "showarrow": false,
          "text": "Topic 4",
          "x": 0.0875,
          "xanchor": "center",
          "xref": "paper",
          "y": 0.4,
          "yanchor": "bottom",
          "yref": "paper"
         }
        ],
        "height": 500,
        "hoverlabel": {
         "bgcolor": "white",
         "font": {
          "family": "Rockwell",
          "size": 16
         }
        },
        "showlegend": false,
        "template": {
         "data": {
          "bar": [
           {
            "error_x": {
             "color": "#2a3f5f"
            },
            "error_y": {
             "color": "#2a3f5f"
            },
            "marker": {
             "line": {
              "color": "white",
              "width": 0.5
             },
             "pattern": {
              "fillmode": "overlay",
              "size": 10,
              "solidity": 0.2
             }
            },
            "type": "bar"
           }
          ],
          "barpolar": [
           {
            "marker": {
             "line": {
              "color": "white",
              "width": 0.5
             },
             "pattern": {
              "fillmode": "overlay",
              "size": 10,
              "solidity": 0.2
             }
            },
            "type": "barpolar"
           }
          ],
          "carpet": [
           {
            "aaxis": {
             "endlinecolor": "#2a3f5f",
             "gridcolor": "#C8D4E3",
             "linecolor": "#C8D4E3",
             "minorgridcolor": "#C8D4E3",
             "startlinecolor": "#2a3f5f"
            },
            "baxis": {
             "endlinecolor": "#2a3f5f",
             "gridcolor": "#C8D4E3",
             "linecolor": "#C8D4E3",
             "minorgridcolor": "#C8D4E3",
             "startlinecolor": "#2a3f5f"
            },
            "type": "carpet"
           }
          ],
          "choropleth": [
           {
            "colorbar": {
             "outlinewidth": 0,
             "ticks": ""
            },
            "type": "choropleth"
           }
          ],
          "contour": [
           {
            "colorbar": {
             "outlinewidth": 0,
             "ticks": ""
            },
            "colorscale": [
             [
              0,
              "#0d0887"
             ],
             [
              0.1111111111111111,
              "#46039f"
             ],
             [
              0.2222222222222222,
              "#7201a8"
             ],
             [
              0.3333333333333333,
              "#9c179e"
             ],
             [
              0.4444444444444444,
              "#bd3786"
             ],
             [
              0.5555555555555556,
              "#d8576b"
             ],
             [
              0.6666666666666666,
              "#ed7953"
             ],
             [
              0.7777777777777778,
              "#fb9f3a"
             ],
             [
              0.8888888888888888,
              "#fdca26"
             ],
             [
              1,
              "#f0f921"
             ]
            ],
            "type": "contour"
           }
          ],
          "contourcarpet": [
           {
            "colorbar": {
             "outlinewidth": 0,
             "ticks": ""
            },
            "type": "contourcarpet"
           }
          ],
          "heatmap": [
           {
            "colorbar": {
             "outlinewidth": 0,
             "ticks": ""
            },
            "colorscale": [
             [
              0,
              "#0d0887"
             ],
             [
              0.1111111111111111,
              "#46039f"
             ],
             [
              0.2222222222222222,
              "#7201a8"
             ],
             [
              0.3333333333333333,
              "#9c179e"
             ],
             [
              0.4444444444444444,
              "#bd3786"
             ],
             [
              0.5555555555555556,
              "#d8576b"
             ],
             [
              0.6666666666666666,
              "#ed7953"
             ],
             [
              0.7777777777777778,
              "#fb9f3a"
             ],
             [
              0.8888888888888888,
              "#fdca26"
             ],
             [
              1,
              "#f0f921"
             ]
            ],
            "type": "heatmap"
           }
          ],
          "heatmapgl": [
           {
            "colorbar": {
             "outlinewidth": 0,
             "ticks": ""
            },
            "colorscale": [
             [
              0,
              "#0d0887"
             ],
             [
              0.1111111111111111,
              "#46039f"
             ],
             [
              0.2222222222222222,
              "#7201a8"
             ],
             [
              0.3333333333333333,
              "#9c179e"
             ],
             [
              0.4444444444444444,
              "#bd3786"
             ],
             [
              0.5555555555555556,
              "#d8576b"
             ],
             [
              0.6666666666666666,
              "#ed7953"
             ],
             [
              0.7777777777777778,
              "#fb9f3a"
             ],
             [
              0.8888888888888888,
              "#fdca26"
             ],
             [
              1,
              "#f0f921"
             ]
            ],
            "type": "heatmapgl"
           }
          ],
          "histogram": [
           {
            "marker": {
             "pattern": {
              "fillmode": "overlay",
              "size": 10,
              "solidity": 0.2
             }
            },
            "type": "histogram"
           }
          ],
          "histogram2d": [
           {
            "colorbar": {
             "outlinewidth": 0,
             "ticks": ""
            },
            "colorscale": [
             [
              0,
              "#0d0887"
             ],
             [
              0.1111111111111111,
              "#46039f"
             ],
             [
              0.2222222222222222,
              "#7201a8"
             ],
             [
              0.3333333333333333,
              "#9c179e"
             ],
             [
              0.4444444444444444,
              "#bd3786"
             ],
             [
              0.5555555555555556,
              "#d8576b"
             ],
             [
              0.6666666666666666,
              "#ed7953"
             ],
             [
              0.7777777777777778,
              "#fb9f3a"
             ],
             [
              0.8888888888888888,
              "#fdca26"
             ],
             [
              1,
              "#f0f921"
             ]
            ],
            "type": "histogram2d"
           }
          ],
          "histogram2dcontour": [
           {
            "colorbar": {
             "outlinewidth": 0,
             "ticks": ""
            },
            "colorscale": [
             [
              0,
              "#0d0887"
             ],
             [
              0.1111111111111111,
              "#46039f"
             ],
             [
              0.2222222222222222,
              "#7201a8"
             ],
             [
              0.3333333333333333,
              "#9c179e"
             ],
             [
              0.4444444444444444,
              "#bd3786"
             ],
             [
              0.5555555555555556,
              "#d8576b"
             ],
             [
              0.6666666666666666,
              "#ed7953"
             ],
             [
              0.7777777777777778,
              "#fb9f3a"
             ],
             [
              0.8888888888888888,
              "#fdca26"
             ],
             [
              1,
              "#f0f921"
             ]
            ],
            "type": "histogram2dcontour"
           }
          ],
          "mesh3d": [
           {
            "colorbar": {
             "outlinewidth": 0,
             "ticks": ""
            },
            "type": "mesh3d"
           }
          ],
          "parcoords": [
           {
            "line": {
             "colorbar": {
              "outlinewidth": 0,
              "ticks": ""
             }
            },
            "type": "parcoords"
           }
          ],
          "pie": [
           {
            "automargin": true,
            "type": "pie"
           }
          ],
          "scatter": [
           {
            "fillpattern": {
             "fillmode": "overlay",
             "size": 10,
             "solidity": 0.2
            },
            "type": "scatter"
           }
          ],
          "scatter3d": [
           {
            "line": {
             "colorbar": {
              "outlinewidth": 0,
              "ticks": ""
             }
            },
            "marker": {
             "colorbar": {
              "outlinewidth": 0,
              "ticks": ""
             }
            },
            "type": "scatter3d"
           }
          ],
          "scattercarpet": [
           {
            "marker": {
             "colorbar": {
              "outlinewidth": 0,
              "ticks": ""
             }
            },
            "type": "scattercarpet"
           }
          ],
          "scattergeo": [
           {
            "marker": {
             "colorbar": {
              "outlinewidth": 0,
              "ticks": ""
             }
            },
            "type": "scattergeo"
           }
          ],
          "scattergl": [
           {
            "marker": {
             "colorbar": {
              "outlinewidth": 0,
              "ticks": ""
             }
            },
            "type": "scattergl"
           }
          ],
          "scattermapbox": [
           {
            "marker": {
             "colorbar": {
              "outlinewidth": 0,
              "ticks": ""
             }
            },
            "type": "scattermapbox"
           }
          ],
          "scatterpolar": [
           {
            "marker": {
             "colorbar": {
              "outlinewidth": 0,
              "ticks": ""
             }
            },
            "type": "scatterpolar"
           }
          ],
          "scatterpolargl": [
           {
            "marker": {
             "colorbar": {
              "outlinewidth": 0,
              "ticks": ""
             }
            },
            "type": "scatterpolargl"
           }
          ],
          "scatterternary": [
           {
            "marker": {
             "colorbar": {
              "outlinewidth": 0,
              "ticks": ""
             }
            },
            "type": "scatterternary"
           }
          ],
          "surface": [
           {
            "colorbar": {
             "outlinewidth": 0,
             "ticks": ""
            },
            "colorscale": [
             [
              0,
              "#0d0887"
             ],
             [
              0.1111111111111111,
              "#46039f"
             ],
             [
              0.2222222222222222,
              "#7201a8"
             ],
             [
              0.3333333333333333,
              "#9c179e"
             ],
             [
              0.4444444444444444,
              "#bd3786"
             ],
             [
              0.5555555555555556,
              "#d8576b"
             ],
             [
              0.6666666666666666,
              "#ed7953"
             ],
             [
              0.7777777777777778,
              "#fb9f3a"
             ],
             [
              0.8888888888888888,
              "#fdca26"
             ],
             [
              1,
              "#f0f921"
             ]
            ],
            "type": "surface"
           }
          ],
          "table": [
           {
            "cells": {
             "fill": {
              "color": "#EBF0F8"
             },
             "line": {
              "color": "white"
             }
            },
            "header": {
             "fill": {
              "color": "#C8D4E3"
             },
             "line": {
              "color": "white"
             }
            },
            "type": "table"
           }
          ]
         },
         "layout": {
          "annotationdefaults": {
           "arrowcolor": "#2a3f5f",
           "arrowhead": 0,
           "arrowwidth": 1
          },
          "autotypenumbers": "strict",
          "coloraxis": {
           "colorbar": {
            "outlinewidth": 0,
            "ticks": ""
           }
          },
          "colorscale": {
           "diverging": [
            [
             0,
             "#8e0152"
            ],
            [
             0.1,
             "#c51b7d"
            ],
            [
             0.2,
             "#de77ae"
            ],
            [
             0.3,
             "#f1b6da"
            ],
            [
             0.4,
             "#fde0ef"
            ],
            [
             0.5,
             "#f7f7f7"
            ],
            [
             0.6,
             "#e6f5d0"
            ],
            [
             0.7,
             "#b8e186"
            ],
            [
             0.8,
             "#7fbc41"
            ],
            [
             0.9,
             "#4d9221"
            ],
            [
             1,
             "#276419"
            ]
           ],
           "sequential": [
            [
             0,
             "#0d0887"
            ],
            [
             0.1111111111111111,
             "#46039f"
            ],
            [
             0.2222222222222222,
             "#7201a8"
            ],
            [
             0.3333333333333333,
             "#9c179e"
            ],
            [
             0.4444444444444444,
             "#bd3786"
            ],
            [
             0.5555555555555556,
             "#d8576b"
            ],
            [
             0.6666666666666666,
             "#ed7953"
            ],
            [
             0.7777777777777778,
             "#fb9f3a"
            ],
            [
             0.8888888888888888,
             "#fdca26"
            ],
            [
             1,
             "#f0f921"
            ]
           ],
           "sequentialminus": [
            [
             0,
             "#0d0887"
            ],
            [
             0.1111111111111111,
             "#46039f"
            ],
            [
             0.2222222222222222,
             "#7201a8"
            ],
            [
             0.3333333333333333,
             "#9c179e"
            ],
            [
             0.4444444444444444,
             "#bd3786"
            ],
            [
             0.5555555555555556,
             "#d8576b"
            ],
            [
             0.6666666666666666,
             "#ed7953"
            ],
            [
             0.7777777777777778,
             "#fb9f3a"
            ],
            [
             0.8888888888888888,
             "#fdca26"
            ],
            [
             1,
             "#f0f921"
            ]
           ]
          },
          "colorway": [
           "#636efa",
           "#EF553B",
           "#00cc96",
           "#ab63fa",
           "#FFA15A",
           "#19d3f3",
           "#FF6692",
           "#B6E880",
           "#FF97FF",
           "#FECB52"
          ],
          "font": {
           "color": "#2a3f5f"
          },
          "geo": {
           "bgcolor": "white",
           "lakecolor": "white",
           "landcolor": "white",
           "showlakes": true,
           "showland": true,
           "subunitcolor": "#C8D4E3"
          },
          "hoverlabel": {
           "align": "left"
          },
          "hovermode": "closest",
          "mapbox": {
           "style": "light"
          },
          "paper_bgcolor": "white",
          "plot_bgcolor": "white",
          "polar": {
           "angularaxis": {
            "gridcolor": "#EBF0F8",
            "linecolor": "#EBF0F8",
            "ticks": ""
           },
           "bgcolor": "white",
           "radialaxis": {
            "gridcolor": "#EBF0F8",
            "linecolor": "#EBF0F8",
            "ticks": ""
           }
          },
          "scene": {
           "xaxis": {
            "backgroundcolor": "white",
            "gridcolor": "#DFE8F3",
            "gridwidth": 2,
            "linecolor": "#EBF0F8",
            "showbackground": true,
            "ticks": "",
            "zerolinecolor": "#EBF0F8"
           },
           "yaxis": {
            "backgroundcolor": "white",
            "gridcolor": "#DFE8F3",
            "gridwidth": 2,
            "linecolor": "#EBF0F8",
            "showbackground": true,
            "ticks": "",
            "zerolinecolor": "#EBF0F8"
           },
           "zaxis": {
            "backgroundcolor": "white",
            "gridcolor": "#DFE8F3",
            "gridwidth": 2,
            "linecolor": "#EBF0F8",
            "showbackground": true,
            "ticks": "",
            "zerolinecolor": "#EBF0F8"
           }
          },
          "shapedefaults": {
           "line": {
            "color": "#2a3f5f"
           }
          },
          "ternary": {
           "aaxis": {
            "gridcolor": "#DFE8F3",
            "linecolor": "#A2B1C6",
            "ticks": ""
           },
           "baxis": {
            "gridcolor": "#DFE8F3",
            "linecolor": "#A2B1C6",
            "ticks": ""
           },
           "bgcolor": "white",
           "caxis": {
            "gridcolor": "#DFE8F3",
            "linecolor": "#A2B1C6",
            "ticks": ""
           }
          },
          "title": {
           "x": 0.05
          },
          "xaxis": {
           "automargin": true,
           "gridcolor": "#EBF0F8",
           "linecolor": "#EBF0F8",
           "ticks": "",
           "title": {
            "standoff": 15
           },
           "zerolinecolor": "#EBF0F8",
           "zerolinewidth": 2
          },
          "yaxis": {
           "automargin": true,
           "gridcolor": "#EBF0F8",
           "linecolor": "#EBF0F8",
           "ticks": "",
           "title": {
            "standoff": 15
           },
           "zerolinecolor": "#EBF0F8",
           "zerolinewidth": 2
          }
         }
        },
        "title": {
         "font": {
          "color": "Black",
          "size": 22
         },
         "text": "Topic Word Scores",
         "x": 0.5,
         "xanchor": "center",
         "yanchor": "top"
        },
        "width": 1000,
        "xaxis": {
         "anchor": "y",
         "domain": [
          0,
          0.175
         ],
         "showgrid": true
        },
        "xaxis2": {
         "anchor": "y2",
         "domain": [
          0.275,
          0.45
         ],
         "showgrid": true
        },
        "xaxis3": {
         "anchor": "y3",
         "domain": [
          0.55,
          0.7250000000000001
         ],
         "showgrid": true
        },
        "xaxis4": {
         "anchor": "y4",
         "domain": [
          0.825,
          1
         ],
         "showgrid": true
        },
        "xaxis5": {
         "anchor": "y5",
         "domain": [
          0,
          0.175
         ],
         "showgrid": true
        },
        "xaxis6": {
         "anchor": "y6",
         "domain": [
          0.275,
          0.45
         ],
         "showgrid": true
        },
        "xaxis7": {
         "anchor": "y7",
         "domain": [
          0.55,
          0.7250000000000001
         ],
         "showgrid": true
        },
        "xaxis8": {
         "anchor": "y8",
         "domain": [
          0.825,
          1
         ],
         "showgrid": true
        },
        "yaxis": {
         "anchor": "x",
         "domain": [
          0.6000000000000001,
          1
         ],
         "showgrid": true
        },
        "yaxis2": {
         "anchor": "x2",
         "domain": [
          0.6000000000000001,
          1
         ],
         "showgrid": true
        },
        "yaxis3": {
         "anchor": "x3",
         "domain": [
          0.6000000000000001,
          1
         ],
         "showgrid": true
        },
        "yaxis4": {
         "anchor": "x4",
         "domain": [
          0.6000000000000001,
          1
         ],
         "showgrid": true
        },
        "yaxis5": {
         "anchor": "x5",
         "domain": [
          0,
          0.4
         ],
         "showgrid": true
        },
        "yaxis6": {
         "anchor": "x6",
         "domain": [
          0,
          0.4
         ],
         "showgrid": true
        },
        "yaxis7": {
         "anchor": "x7",
         "domain": [
          0,
          0.4
         ],
         "showgrid": true
        },
        "yaxis8": {
         "anchor": "x8",
         "domain": [
          0,
          0.4
         ],
         "showgrid": true
        }
       }
      }
     },
     "metadata": {},
     "output_type": "display_data"
    }
   ],
   "source": [
    "model.visualize_barchart(top_n_topics=10) #Visualize the top 10 topics"
   ]
  },
  {
   "cell_type": "code",
   "execution_count": 25,
   "metadata": {},
   "outputs": [
    {
     "data": {
      "application/vnd.plotly.v1+json": {
       "config": {
        "plotlyServerURL": "https://plot.ly"
       },
       "data": [
        {
         "hoverinfo": "text",
         "hovertext": [
          "sensory rollercoaster",
          "euphoric",
          "incredible sensory huge feeling calm peace times l back womb",
          "loss sense time images images feeling transported moving",
          "acid",
          "2nd time 1st one better coz relaxed got ideas time someone kept coughing disrupted thought process feel anything ban people cough",
          "awake whole time could relax switch",
          "devtest trevor onsite 2",
          "immense comfort even much frantic towards saw deep blue snow incredibly peaceful",
          "direct infinite creativity much beauty vivid colours patterns travelling dimensions imagine would go similar journey transition realms",
          "happiness joy adventure",
          "wentback many hard mostly beautiful memories without prompting",
          "alot memories",
          "good stuff",
          "hope that's death feels x",
          "submission fun mild euphoric moments",
          "began violent falling away darkness",
          "breathing hard",
          "would next make artwork",
          "taking hallucinogenic drugs younger",
          "saw map london walked new york floating space star angel floating past memories forgiving ever sad numb",
          "thought throughout visualising body specifically head",
          "possible generate full images demand - elephant made upwards flowing oil rivulets",
          "resistance gone bliss saw colourful mandalas keeping pace beats perfect synchronicity amazed never experienced something equal beyond words",
          "exactly rember lsd without scary parts",
          "got many vivid visions saw lots colours bedroom old tv shows videogames cities",
          "euphoric healing",
          "quite honest think fell asleep dont really rememberwhat saw",
          "life retired",
          "overwhelming sense euphoria love everyone room journeying together hopeful",
          "something wonderful",
          "breathing exercize: would help staff could show us could copy way delivered fast long rythm found eye mask uncomfortable forehead took would prefer use hands shield light abit cold especially moving quite echoy could hear someone snoring staff openin & shutting thedoor near beginning might idea box tissues reflection room",
          "various flashing images memories random events people life kept popping nothing lingered lots individual things happened memories also numb tingly throughout different points body light fuzzy wasnt sitting anything",
          "sense time",
          "yourefrom university sussex need stand reality believe souls gendered ogherwise",
          "blue bird flying coming closer calm peace baby smiling relative thought working dream another place",
          "thus available everyone time",
          "visual abit flat sa focused eyes head much would rather engage body work somatic aspect dropped body feel flat survace lie canvas face painting images appeared beautiful thanks",
          "similar stuff normally",
          "healing part realise decayed entirely",
          "new form art individual host unique",
          "collection keyholes could see paintingthrough animals merpeople morphing intoeach wireframe structures 'up' (the animated movie)-style montage future",
          "devtest trev site",
          "want one home",
          "hope colour",
          "sound created visuals created pattern energy movement across body",
          "range emotions patterns colour movement sense really beingbinside head",
          "detachment though body one box mind another anxjety came thst lack control",
          "zeen",
          "trying remember patterns",
          "psychedelic colours",
          "wild ride",
          "loved would try couple hours",
          "entry another univerise",
          "fabulous didnt wantit eyesopen throughoutand yet totally enveloped sound",
          "unique teach us simple could recconnect primitive way feel emotions trough sounds colours",
          "euphoric",
          "brains neurons veins elephants",
          "falling snow peaceful lost cornfield staring tunnel scared",
          "seeing hearing deceased relatives smiled could hear distinctive voices",
          "incredible technicolour",
          "ajourney relaxedand abit worried iknewi would safe",
          "wish george created",
          "joy",
          "deep relaxation deep tissue massage mind safe healthy groovy drug-free trip long last afterwards deepest deepest sleep worried might give headache didnt great peace soothed tired",
          "something ever experienced something wish could week",
          "something familiar soul experienced several emotions numb",
          "pleasant seeim something unexpected",
          "time place seem happened yet come",
          "geometrical rythmic pulsating cosmos front eyes infinently varied beutiful return time without help dream",
          "moment i'll die want feel",
          "warm cold sensations hands one point relaxed sleepy found flashing lights little intense eye mask worked well times overall enjoyable relaxing",
          "times concern would soon",
          "saw past experiences reflected choices saw new scenes reflected opportunities",
          "coming home",
          "profihnd sense 9f relaxation neved experienced came pure connectivity body slight floating sensation",
          "interesting definitely easy moment reminded used get bored school assemblies press eyes watch patterns unfold visuals kaleidoscopic although saw moroccan landscape dolphin swimming away cave various points",
          "riding willie wonka's boat crazy tunnels charlie chocolate factory",
          "devtest",
          "noxtalgia andpdace optimism escapism ive visited three timesand different wearing contacts geometric last timei saw lot white geomtricforms mixed smoke times saw hyperspace style visuals red blue",
          "closest thing i'll ever drugs",
          "experienc time travelling imagine",
          "doorway",
          "spoke 8 year old self 80 year old self happy",
          "boat charlie chocolate factory",
          "good loads ket still decent",
          "dreamt harbinger new planet shaping world life equity wish belong someone really loved missed",
          "incredibly small weight exsistence heavy blanket rather negative relief comforted",
          "intense connection body surroundings",
          "wish could remindedme child",
          "euphoria",
          "dream movie one even mind flying lot shape light space moment feel draw back body environment thought somewhere one cant realise long quick dont feel time",
          "complete relaxationpeace mind ready face whatever happens",
          "busy airport waiting area landing egypt",
          "varying journey speed awareness times rapid though thr body brain able process moments calm soothing desire retain recall shapes colours andfeelings envoked strong understanding may lost coming",
          "wondered would die calm serene frightening isaw lots warmcolours black crosses-no green",
          "scary pointy laughing clown face test period came later able control turned pecking bird zooming space someone wanted show planet far away flew cities deserts one point wasflyingclose ground herd elephants met god one eye middle theirforehead great sense ofadventure wellbeing traveller welcome ontheir peaceful world",
          "physical discomfort amazing patterns intense colours yearning desire see questions",
          "deep memories emotive reflections images ive seen",
          "people talking made see people walking towards really creepy",
          "past memories people really life anymore",
          "relaxing reflective worries stopped / put porportion",
          "rollercoaster sun make get",
          "amazing sense harmony balance oneness visually moving mandala",
          "anotherworld",
          "sen se comfort connection anin inner peace clam safe",
          "complete journey closest sober (and honest better) psychedelics",
          "pleasure & intrigue",
          "parents house figure room old house (shared ex) walking daily comute towards old front door walking dog normal experiences usually time everything scary people things surroundings closing sides made jump grab chest",
          "perfectly cromulent",
          "helicopter busy mind rest relentless stuck",
          "looking across universe beyond realm deep connection humankind overwhelming sense peace left feeling profoundly moved tearful",
          "life death rebirth",
          "woman next sniffing move difficult get back",
          "intensity connectionvastnessspaciousnesslovi ngawareness",
          "many different things little afraid thinking gas chambers overwheming feeling love connection everyone room became white egret dream last week flew around room touching everyone heart expanded opened wings hold room typeof death decended underworld felyt go layers earth moss land abeing call eveleryn things changed became pink clouds met long blue much defined form told francis assisi asked husband told important work destiny became mantaray drifted",
          "acid dmt safer everyone try",
          "experienced calmness almost nothingness relaxed peacefull soothing almost womb",
          "earth falling sun least nineties rave visuals cycle death rebirth envisaged eighties d&d summer meadow lot diamond ripples",
          "confusing sense place familiar place grandmother's basement train station place sensation strong struggled find memory matched feeling knew strong pull familiar place beyond remembering sure glad drugs",
          "atei feel really relaxed would j try meditate beforehand still racing thoughts interrupting couldnt totally immersed suffer tinnitus matter always distraction",
          "outerspace experiencing transition death comforting whilst small insignificant also free powerful",
          "sound inside body",
          "absolutely tripped away good came n experienced u set",
          "calm serenity flashback emotions",
          "good vibes",
          "sense expansion moving towards something forward motion motivation progress purposes",
          "calming sounds rising elation curiosity connection acceptance stressful time self jubilation inspiration",
          "deep relaxation close falling asleep",
          null
         ],
         "marker": {
          "color": "#CFD8DC",
          "opacity": 0.5,
          "size": 5
         },
         "mode": "markers+text",
         "name": "other",
         "showlegend": false,
         "type": "scattergl",
         "x": [
          8.68976879119873,
          4.989554405212402,
          5.50205659866333,
          7.476303577423096,
          5.668806552886963,
          5.803005218505859,
          5.324095249176025,
          5.3505048751831055,
          5.42440938949585,
          8.603846549987793,
          4.999827861785889,
          7.8502421379089355,
          7.889090538024902,
          4.2452006340026855,
          6.128081321716309,
          5.032076835632324,
          8.516819953918457,
          5.65342903137207,
          8.390846252441406,
          6.010494709014893,
          7.9905805587768555,
          7.608636379241943,
          8.230084419250488,
          7.425933837890625,
          6.076505184173584,
          8.864898681640625,
          5.076794624328613,
          7.7929792404174805,
          6.266506195068359,
          4.943934917449951,
          4.5432353019714355,
          5.831976413726807,
          8.38420581817627,
          7.396833419799805,
          5.970881462097168,
          9.463762283325195,
          7.25676965713501,
          7.701977252960205,
          4.216062068939209,
          5.2363972663879395,
          8.44641399383545,
          8.521505355834961,
          5.3384857177734375,
          4.139225482940674,
          8.842123031616211,
          7.637854099273682,
          8.335854530334473,
          6.408257484436035,
          3.621246337890625,
          7.883622646331787,
          8.49789810180664,
          9.09221363067627,
          7.1413655281066895,
          5.98342227935791,
          6.748302459716797,
          8.364082336425781,
          5.0053019523620605,
          7.841679096221924,
          8.545413970947266,
          7.307441234588623,
          4.496586799621582,
          5.049477577209473,
          6.567830562591553,
          4.7945356369018555,
          5.238119602203369,
          6.6895751953125,
          6.391969203948975,
          5.195775032043457,
          7.323258399963379,
          10.422163963317871,
          5.911511421203613,
          5.181389331817627,
          7.311124801635742,
          7.925527095794678,
          4.282492160797119,
          7.881561279296875,
          8.451794624328613,
          8.568357467651367,
          5.288957595825195,
          8.364522933959961,
          5.969955921173096,
          7.392889976501465,
          4.987937927246094,
          5.017989158630371,
          8.589174270629883,
          4.3473334312438965,
          6.604642391204834,
          5.400195598602295,
          7.952791690826416,
          6.563638210296631,
          4.980175018310547,
          7.373098850250244,
          5.328219890594482,
          7.179934024810791,
          7.6373515129089355,
          8.61909294128418,
          8.402154922485352,
          8.432387351989746,
          7.931009292602539,
          6.374135971069336,
          7.79037618637085,
          5.20862340927124,
          8.930335998535156,
          7.435563564300537,
          6.731956481933594,
          4.977409362792969,
          6.046911239624023,
          4.880002975463867,
          5.9519853591918945,
          4.408322811126709,
          6.775656700134277,
          6.756893157958984,
          6.323976039886475,
          5.73675537109375,
          7.901694297790527,
          6.943089962005615,
          5.796336650848389,
          5.330691337585449,
          9.28589153289795,
          6.690608978271484,
          5.341508388519287,
          6.878996849060059,
          7.613508224487305,
          8.78031063079834,
          5.791447162628174,
          4.334949016571045,
          7.452210426330566,
          5.586263179779053,
          5.253519535064697,
          6.6735310554504395
         ],
         "y": [
          8.609099388122559,
          11.022408485412598,
          9.785083770751953,
          8.457767486572266,
          11.04137134552002,
          9.178420066833496,
          8.908066749572754,
          7.558424472808838,
          9.892711639404297,
          9.071797370910645,
          9.968376159667969,
          8.029166221618652,
          8.151633262634277,
          8.79316234588623,
          8.487652778625488,
          10.998940467834473,
          7.445385932922363,
          9.32614803314209,
          9.081277847290039,
          10.94080924987793,
          7.790424346923828,
          9.377776145935059,
          9.136791229248047,
          10.662887573242188,
          10.869580268859863,
          9.349586486816406,
          11.024340629577637,
          7.977787017822266,
          8.041747093200684,
          10.904940605163574,
          10.21172046661377,
          9.201959609985352,
          9.88793659210205,
          8.347047805786133,
          7.810983180999756,
          7.448296546936035,
          8.326857566833496,
          9.332406044006348,
          8.87811279296875,
          10.904943466186523,
          9.119563102722168,
          8.770072937011719,
          7.5640106201171875,
          9.060257911682129,
          9.797786712646484,
          10.905409812927246,
          10.075201034545898,
          9.189939498901367,
          9.170149803161621,
          8.582313537597656,
          9.736186027526855,
          8.681227684020996,
          8.370925903320312,
          7.786866188049316,
          9.955939292907715,
          10.040050506591797,
          11.016096115112305,
          9.327540397644043,
          7.53481388092041,
          10.252284049987793,
          8.896685600280762,
          9.384987831115723,
          7.8802971839904785,
          9.911327362060547,
          9.089768409729004,
          9.300856590270996,
          9.756494522094727,
          10.38139820098877,
          8.309060096740723,
          8.182733535766602,
          8.489864349365234,
          9.141413688659668,
          8.344173431396484,
          8.168149948120117,
          9.060195922851562,
          10.34791374206543,
          8.384228706359863,
          7.913075923919678,
          7.6187849044799805,
          9.62829875946045,
          10.96058177947998,
          8.308015823364258,
          8.731891632080078,
          9.959993362426758,
          7.9279279708862305,
          8.640840530395508,
          7.800910472869873,
          9.80933666229248,
          10.48613452911377,
          7.90091609954834,
          11.025666236877441,
          8.0712890625,
          9.185470581054688,
          8.338113784790039,
          9.849660873413086,
          9.96975040435791,
          8.334335327148438,
          9.80307674407959,
          8.21944522857666,
          9.151857376098633,
          7.986499309539795,
          9.075277328491211,
          8.612701416015625,
          10.691351890563965,
          7.7006611824035645,
          9.631162643432617,
          10.890552520751953,
          9.909294128417969,
          9.139263153076172,
          10.143860816955566,
          8.662759780883789,
          7.693253993988037,
          8.141170501708984,
          9.287842750549316,
          10.457221031188965,
          10.182472229003906,
          10.98347282409668,
          9.77105712890625,
          8.654172897338867,
          9.754546165466309,
          9.213583946228027,
          7.703667640686035,
          10.891800880432129,
          10.415772438049316,
          9.671175003051758,
          8.750295639038086,
          8.495759010314941,
          9.95488166809082,
          9.113760948181152,
          9.204765319824219
         ]
        },
        {
         "hoverinfo": "text",
         "hovertext": [
          "pulled vortex time waiting awake different dimension",
          "colours made patterns eyes closed - almost weave colours woollen fabric",
          "thoughts mundane everyday things work mainly relaxed ansd able float dreamlike place visuals ofspace deep ocean",
          "land (not anywhere earth) another plannet animals usual colours - yellow elephant blue gorilla started gently running towards sea turned mermaid watched land swam away turtles fishes beautiful love peace harmony togetherness freedom much love",
          "mass moving shapes vivid colours continually changing evolving enveloping",
          "lights colours sense calm joy",
          "mind jellyfish suspended space",
          "geometric paterns 2 colour mainly sometimes white dots moved rapidly direcion shape centre sometimes moved opposite direction towards centre point calledoscope linear helicopter sound could see 2 rotors geometrical shapes one front eye",
          "stop thinking process trying memorise visuals trying disconnect wish meditated point started experimenting trying recall images liked successful 50% time reminded 2001: space odyssey",
          "spirals pulsing",
          "body kept sinking dropping another level seat",
          "towardsthe maybe quarter started really intense visual ripples looking tower",
          "kaleidoscope light patterns",
          "told atthe start could keep eyes open lot thought light show didnt get whole idea impact impact flickering lights closed eyes",
          "huge 3d landscapes flashing backgrounds undulating foreground quuckly becoming new perspective",
          "varirtyof lights colours movinginward outwards",
          "points intense chaos broke clear defined counter clockwise spiralling tunnel two small semi circles centre going opposite way",
          "bright blue skies waterfall flowing backwards flock birds universe",
          "ajourney space riding kaleidoscope body occasion spinning sensastion could see glaxies star clusters around invisibke kaleidsospascecraft body lifted tracvelling theuniverse profound throughout calm exalted",
          "saw many shapes colours usually swirling falling around moving vortex tunnel often red orange sometimes bluey green underwater",
          "one point saw someone leave room (like dream) also lifted spiralled waltzer saw many kinds patterns sparks geometric shapes contrarotating spirals feet feel bit floaty",
          "moved wild tide atomic energy converging around us",
          "st time seperate front vision 2nd time around vast difference happen bigger profound akmost intense",
          "particles star emiting light space",
          "clouds holding breath",
          "portal moving towards away fractaling everything",
          "saw vertical tree branches green leaves towards though moving sleep state point",
          "hurtling space time speed determine experienced big bang everything since really hard put finger shedding different layers connected life forms much energy pulsating body",
          "visuals trees heatsun likeexperience",
          "red red shapes travel tbrough time",
          "initially spiral spool old film running projector figures standing though dance starfields reminiscent 2001 stargate oddly robbie williams",
          "outside kelidoscope colour rotating universe stars beyond everything one point looking buildings white curved modernist futuristic city",
          "saw concave convex thehot orange os cillating insice avolcano",
          "thatgod's light shone upon going back beginning universe big bang andseeing creatures microcosm - cellular level- well planets stars also depths ocean",
          "colour fields varying colours changed rapidly moving patterns sometimes patterns appeared move downwards front eyes sometimes across vision sometimes towards point infinity",
          "v�sarely flying brain space warm sunset",
          "sense moving portal transported 2001 viewed kaleidoscope wearing kaleidogoggles immense",
          "changing temperature body lights changes intensity focussed compared light across whole peripheral vision",
          "thought universe moving moving centre drawn saw honeycomb shapes thought bees saw blocks colour red yellow dramatic",
          "mostly saw grey geometric shapes",
          "wild could stayed day complete disconnection body strong desire turn intensity explore visual phases kaleidoscope swirls geometric patterns oranges reds blues green suddenly black/white phases feeling motion floating looking sky looking beneath flying forwards backwards tunnel",
          "everywhere saw partner's nose eyes glasses everything molecule air given eyes saw everything universe multiverse time emerged someone's sleeve everything packed tiny insignificant thing",
          "bizarre lots observing others giant bubble people coming protected others control dome",
          "numerous random shapes sometimes geometric sometimes dots feeling things comings sense travelling along galaxy highway towards",
          "dissolved light",
          "lots colors",
          "remembered beautiful joyful memories moments family asif waswith beach",
          "moving tunnel branches green see green start finish",
          "saw incredible kaleidescopes patterns made solid stripes colour edges kaleidescopes started see corridors gardens though doorways imagined world inside patterns one moment darker saw deep mass blue green sparks pulsed almost jelly fish wanted stay space see worlds",
          "saw serene beach scene people text subtitled movie set south france",
          "swivelling vortex sound loneliness moon jacuzzi lightness",
          "near impossible keep eyes open",
          "peacefull contemplation vivid mandelbrot type kaladescopic patterns",
          "deep ocean dark also brilliant blue drowning instead that's meant sense place akin home almost calling draw submerged away world space could float simply exist without interruptions",
          "lot kaleidoscope flowers falling blossoms snow flakes ripples rain drops water",
          "totally immersive inside kaleidescope saw bright yellow thesun took myhappy place",
          "light shapes emerging receding patterns folding ofeash kaleidescope effects wasalso interesting image stabilised scan field vision side fo side explore periphery",
          "vertigo",
          "though experiencing formation solar system eartha place warmth light arising dust spinning chaos suspended infinite void",
          "kaleidascopic 'be guest' beauty & beast kept seeing happy spinning teapots",
          "saw insideof eyelids whole new way",
          "struggled let go though amazing mind make colours shapes images tried think living fear live",
          "intense geometric shapes spiralling deep ocean blue circle vivid memories dad carrying shoulders young girl back short dream unforgettable magical life-affirming",
          "wasmy second time experance black white cold bluues grids fractials previous pink tones vortexes sensation flyingin wormhole",
          "colours lines spheres twirls",
          "jouney forward maybe backwards slow fast really fast really sloooow many fractals colours",
          "saw flaring whirling water air becoming one withwhat floated",
          "eyes shut time aware colours changing",
          "saw starry night blue warm water blue butterfly",
          "geometric kaleidescope shapes overlayed moving cosmos/night sky slow exposure different pulling directions moving portal time space",
          "strange lights sense relaxation interested see would happen next",
          "incredible colours patterns tended shift focusing sound colours difficult hold equally present",
          "perception various geometric constructs dyson speheres mobius strips rippling water etc",
          "journey cosmos travelling speed light galaxies wizz past",
          "interested different darkness different colours projected",
          "saw lot animals ones used rreptiles time liked seemed adorable also dreaming random objects started create stories dreamingit drug trip points also inside ocean",
          "would love continual stimulation without breaks see images evolve",
          "changing colours interlocking diamond triangles faintly distinct light appear grow shrink",
          "fractals intense colours sometimes mix memories single short scenes beautiful situations past",
          "lots pulsating spiralling images take specific forms",
          "desert figures moving across dunes underwater among whales viewing london sky line one point followed helicopter saw lot orange blue bubbly patterns",
          "pattern red white lights thatflashed andbecame intensewhen lights flashed intensely alsofelt sleep abit thinkingof partner could visualise",
          "kalsczscope colours",
          "saw different colour lights centre closed eyes",
          "one central heart shape kept returning every colour rainbow one point sky immersed skydiving went space saw galaxies stars lots kaleidoscope shapes",
          "one point light darkened vision shifted field blue - one recognised deep shade derek jarman's film",
          "thought drifting space quite enjoyed opened eyesbut thought centrelights mild impressive colors sawwhen eyes shut brief fleeting hues nebulous specific patterns",
          "began see source light come connection everything could see little sensory machines moving relm bumping sounds colours emotions colours behind closed eyes swapped opposite colour colour spectrum screen",
          "bit weird know mybrain trying create something different things based colour",
          "floating air travelling universe flowers blooming",
          "unsettling lights flashing kalediscope front eyes even thouh eyes closed didnt feel control wondered would positive found could shut wanted able relax -almost falling asleep times colours changed patterns sometimes sunrise othertimes something science fiction blue backgrounds white linked rectangles",
          "thousansds fluttering butterfly wings flying space incredible speed phosporescence water welsh blanket mothers blue handmade patchwork quilt tesselations hexagons overwhelming beauty spinning planet childhood memory staring glittering eyelashes rainbow bright sun",
          "llama intro credit scene monty python holy grail points",
          "places waves animal",
          "visual doesnt look anything whst saw much geometric kaledoscopic sky",
          "floating space",
          "saw shapes waves azulejo tiles patchwork blurry landscapes vague outlines animals shapes stag running saw past love wedding dress another swimming ocean",
          "body - fact planet earth - took trip space",
          "towards washing spin going helicopter moving different possitions",
          "intro red spiralsalmost cyclone",
          "intense visual clarity \"hyper-resolution\" extremely rich 3d",
          "many different visuals experiences one ocean house grass fields near cliffs next ocean approaching heaven one last ones walworth road",
          "saw kaleidoscope childhood toy abstract space dunes sunshine",
          "saw different landscapes",
          "towards slowly floating upwards",
          "can't recognise color actually feel light dimming",
          "kept seeing images og peope",
          "water womb birth light world also point bees panel",
          "almost transformative lights started gradually built moved states mindfullness distracted everyday thoughts sometimes wrestling two crescendoed cacophony sound light reached state full awareness arms weightless parts body distant unrecognisable",
          "intense fast movement sound shapes colour aand light 100% immersive anticipated",
          "aware started follow train thought maybe going deeoer didnt see much imagery whdn concentratingon colours shapes spent lot timethunjing aboutthe way world sesoriky whether 'normal' compaired people",
          "brain oscar worthy director",
          "fun fare spinning ride two next spinning opposite directions light lot mottled reds greens",
          "surprised time (4th high sensory) seeing peripheral live structures - pyramidal shapes another thing found strange seeing clearly pentagram centre spiral - normal one well reversed rotating",
          "travelling space",
          "saw hexagons blue tunnel thought bees generativity pure full electricity",
          "saw x3 distinct images: 1 staircase/escalator 2 treasure chests (x2 opening x1 closed/locked 3 bookmark symbol",
          "often connected space floating weightless surrounded millions stars travelling great speed time sometimes looked wormholes elated completely peaceful found smiling broadly moments",
          "towards went space take intense scary floating peacefully orbit glow earth could see stars",
          "flying coourful vortex overwhelming vast spaceand insignificant",
          "sea 0f green stars moving oil water wading fading glimspe something disappearing shifting sharp angled reds bold lines intersectoring gate black swirling spheres orange turning spiral sense happening seems arrive vision virbates sense leaves",
          "space even ive never physically",
          "saw film strips sons lips giant wooshing manga dragon focussed grass slate little windows stained glass",
          "hard focus single pattern wanted focus one would become less focused let pass would able see clearer",
          "blue red cross initially dots various colours one point got quite animated bounced around fair bit dozed",
          "l flower slowly unfurling sunlight trippy mickey mouse 1940s disney animation seen kalaidescope",
          "relaxed also stimulated brightness frequency flickering attacked yet never scared weak",
          "web gold dark universe saw energy connection things domed tower full stars mountains arches appeared surrendered geometry falling lifted tunnels ascending warmth sun saw waters moving face earth covering deepness outside time close religious profoundly moving elating",
          "whole spectrum colors shapes colors never seen moving many directions pircing thorough body mind ecstatic wished would never home deep sense warm loving embrace mothers wumb",
          "col0urs shapes stars ac inecoce",
          "saw vasarely artworks motion sense time weird really short bright light bit hurting overall amazing",
          "colours testcard lightly muted called pink mind saw wash deep pink also saw text almost ancient runes one point iwas flying remembered difficult experiences afterwards euphoric",
          "though moving tunnel towards darkness wrapped metal strips",
          "saw lot imagery colours especially images water ripples water snowscapes drops water falling also abstract forms pink red colours",
          "colourful patterns",
          "vca fuzz patterns",
          "thought alot rands journey rhudian experiencing history aiel eyes ancestors",
          "found thoughts developing stories images eyes closed vast colours brain generated impressive art gallerty",
          "riding ray sort flying barren icelandic desert spinning universe",
          null
         ],
         "marker": {
          "opacity": 0.5,
          "size": 5
         },
         "mode": "markers+text",
         "name": "0_saw_colours_shapes",
         "text": [
          "",
          "",
          "",
          "",
          "",
          "",
          "",
          "",
          "",
          "",
          "",
          "",
          "",
          "",
          "",
          "",
          "",
          "",
          "",
          "",
          "",
          "",
          "",
          "",
          "",
          "",
          "",
          "",
          "",
          "",
          "",
          "",
          "",
          "",
          "",
          "",
          "",
          "",
          "",
          "",
          "",
          "",
          "",
          "",
          "",
          "",
          "",
          "",
          "",
          "",
          "",
          "",
          "",
          "",
          "",
          "",
          "",
          "",
          "",
          "",
          "",
          "",
          "",
          "",
          "",
          "",
          "",
          "",
          "",
          "",
          "",
          "",
          "",
          "",
          "",
          "",
          "",
          "",
          "",
          "",
          "",
          "",
          "",
          "",
          "",
          "",
          "",
          "",
          "",
          "",
          "",
          "",
          "",
          "",
          "",
          "",
          "",
          "",
          "",
          "",
          "",
          "",
          "",
          "",
          "",
          "",
          "",
          "",
          "",
          "",
          "",
          "",
          "",
          "",
          "",
          "",
          "",
          "",
          "",
          "",
          "",
          "",
          "",
          "",
          "",
          "",
          "",
          "",
          "",
          "",
          "",
          "",
          "",
          "",
          "",
          "",
          "",
          "",
          "",
          "0_saw_colours_shapes"
         ],
         "textfont": {
          "size": 12
         },
         "type": "scattergl",
         "x": [
          10.550175666809082,
          9.322761535644531,
          8.706572532653809,
          8.914544105529785,
          9.77515697479248,
          8.770310401916504,
          9.720593452453613,
          9.975883483886719,
          7.797585964202881,
          9.551966667175293,
          9.680705070495605,
          10.241386413574219,
          10.505712509155273,
          9.027490615844727,
          10.487825393676758,
          9.92086124420166,
          9.626708030700684,
          9.629030227661133,
          10.055413246154785,
          9.92105484008789,
          9.531424522399902,
          9.411730766296387,
          10.560757637023926,
          10.246211051940918,
          9.835186958312988,
          10.588666915893555,
          9.539283752441406,
          9.472869873046875,
          9.53526496887207,
          9.985557556152344,
          9.004294395446777,
          10.20121955871582,
          10.426998138427734,
          9.480487823486328,
          9.864519119262695,
          9.883305549621582,
          10.576141357421875,
          9.590781211853027,
          9.762044906616211,
          9.306492805480957,
          9.472149848937988,
          9.700926780700684,
          10.252330780029297,
          10.117487907409668,
          9.068872451782227,
          9.040777206420898,
          8.122766494750977,
          9.579034805297852,
          9.783617973327637,
          8.303715705871582,
          10.05900764465332,
          9.034873962402344,
          10.159183502197266,
          8.927895545959473,
          10.062338829040527,
          10.404911041259766,
          10.5699462890625,
          8.950918197631836,
          10.019883155822754,
          10.06722640991211,
          9.176899909973145,
          8.112592697143555,
          8.772135734558105,
          9.500809669494629,
          10.08224868774414,
          9.71849536895752,
          9.922944068908691,
          9.610255241394043,
          9.693951606750488,
          10.634737014770508,
          8.937087059020996,
          9.713746070861816,
          9.44176959991455,
          9.534745216369629,
          9.2819242477417,
          8.746292114257812,
          8.088103294372559,
          9.663376808166504,
          9.28154182434082,
          9.491143226623535,
          9.879908561706543,
          8.99260425567627,
          10.216364860534668,
          9.394674301147461,
          9.895454406738281,
          9.507081985473633,
          9.02996826171875,
          9.318660736083984,
          8.98854923248291,
          10.057440757751465,
          8.673654556274414,
          9.716015815734863,
          8.491179466247559,
          8.951616287231445,
          10.539424896240234,
          9.62205982208252,
          9.205111503601074,
          9.550128936767578,
          9.752351760864258,
          9.711283683776855,
          10.551472663879395,
          8.877574920654297,
          10.184149742126465,
          9.03407096862793,
          9.726814270019531,
          9.350764274597168,
          8.034795761108398,
          9.683728218078613,
          7.203530311584473,
          9.808998107910156,
          7.7967610359191895,
          7.731091499328613,
          9.472771644592285,
          9.76700210571289,
          9.539178848266602,
          9.673369407653809,
          9.252192497253418,
          9.633155822753906,
          9.929513931274414,
          10.398205757141113,
          9.847466468811035,
          9.540111541748047,
          9.21967601776123,
          9.696717262268066,
          10.085156440734863,
          10.06975269317627,
          8.83985424041748,
          9.459451675415039,
          8.486288070678711,
          10.248421669006348,
          8.945746421813965,
          8.537874221801758,
          9.594528198242188,
          9.808032035827637,
          9.263507843017578,
          9.627951622009277,
          7.856868267059326,
          8.049867630004883,
          10.345052719116211,
          9.50181770324707
         ],
         "y": [
          8.012768745422363,
          10.066217422485352,
          8.12932300567627,
          7.948142051696777,
          9.75158977508545,
          10.008580207824707,
          7.203213214874268,
          9.297652244567871,
          8.738738059997559,
          9.027932167053223,
          6.975409507751465,
          9.31997299194336,
          8.591062545776367,
          10.440652847290039,
          9.141438484191895,
          9.883597373962402,
          8.934722900390625,
          7.418238639831543,
          7.937095642089844,
          9.41724967956543,
          8.708261489868164,
          7.54351806640625,
          8.71139144897461,
          7.445445537567139,
          7.472153663635254,
          8.364714622497559,
          8.287370681762695,
          6.926994323730469,
          8.475518226623535,
          9.529733657836914,
          8.665447235107422,
          7.7411885261535645,
          8.519242286682129,
          7.589119911193848,
          9.66594123840332,
          7.50656270980835,
          8.41190242767334,
          10.214469909667969,
          7.9975409507751465,
          8.019147872924805,
          8.609284400939941,
          7.899332046508789,
          9.204030990600586,
          8.765706062316895,
          10.249755859375,
          9.700639724731445,
          7.861897945404053,
          8.190932273864746,
          8.26169490814209,
          7.832859039306641,
          9.640217781066895,
          10.46395206451416,
          8.345372200012207,
          7.884988307952881,
          8.142768859863281,
          8.457433700561523,
          8.631197929382324,
          8.892741203308105,
          7.441329479217529,
          8.05350112915039,
          10.37769889831543,
          9.374693870544434,
          8.180965423583984,
          9.19206428527832,
          9.815774917602539,
          9.575225830078125,
          7.269184112548828,
          10.275984764099121,
          8.523926734924316,
          8.350313186645508,
          10.25035285949707,
          9.98557186126709,
          8.122099876403809,
          6.940359115600586,
          9.785090446472168,
          8.235006332397461,
          9.447150230407715,
          10.217020034790039,
          9.599333763122559,
          9.054197311401367,
          8.756818771362305,
          10.113113403320312,
          9.159262657165527,
          10.278180122375488,
          7.899765491485596,
          10.31338882446289,
          10.070412635803223,
          10.161321640014648,
          9.734087944030762,
          7.628039836883545,
          9.990714073181152,
          8.303662300109863,
          8.029522895812988,
          7.870213031768799,
          8.598581314086914,
          6.906881809234619,
          7.9564666748046875,
          6.855066776275635,
          9.253908157348633,
          9.018144607543945,
          9.106587409973145,
          7.918173789978027,
          8.397810935974121,
          7.920141696929932,
          7.0365142822265625,
          10.234053611755371,
          9.271780967712402,
          8.062481880187988,
          9.524519920349121,
          9.80715274810791,
          9.695677757263184,
          9.350902557373047,
          8.838687896728516,
          9.208924293518066,
          6.837116718292236,
          8.126569747924805,
          7.639325141906738,
          7.168706893920898,
          7.401895999908447,
          7.784761905670166,
          8.776376724243164,
          6.85310697555542,
          7.986812114715576,
          9.994166374206543,
          9.550453186035156,
          8.078853607177734,
          10.345842361450195,
          7.678341388702393,
          9.757708549499512,
          7.742030143737793,
          10.30917739868164,
          9.72464656829834,
          8.168828010559082,
          8.965662002563477,
          9.668214797973633,
          9.465731620788574,
          9.606632232666016,
          9.26459789276123,
          7.884559631347656,
          8.727999687194824
         ]
        },
        {
         "hoverinfo": "text",
         "hovertext": [
          "memories meditationswimming weightlessnessspace",
          "feel amazed saw afriend past free field green hill made weep joy saw poverty forebears loved thanked",
          "vibration visuals centered body aware sounds mind realty quietened",
          "awesome much expected diolch yn fawr tess calming",
          "aware music tgroughout changing rythms tones",
          "windows busy life flashes past seeing lovely mum partner dad sister niece nephew friends punctuated audio heightened loud point i'd left body - fully immersed sound light",
          "relaxing patterened music",
          "hearing gongs saw sammi ling's buddhist retreat ans imagined totally relaxing peace music pace volume increased saw horses galloping increasing speed zt point horse pace gathefed train speed ing tgrough countryside time space muic reach climax found returning world countryside gradually getting back normal everyday life sense tge grating sounds towards exceot colour turquoise gradualky turned black nothingness",
          "sure puroose except muxic certainly inuced sleep dream state bpm high otherwise interesting co fusing much visions either think lights sy c go music well",
          "starting fee lfar significant/interesting emotions stopped",
          "relaxed sleep music colour chqnged",
          "physically music especially percussion bass still feeling",
          "heard various music patterns different speeds high low notes music seemed build crescendo near session move slower calming sequence enhanced patterns made feel journey",
          "feeling freedom time space watched room rise fall music weight people room connected",
          "journey unknown beautiful quest oblivion",
          "saw stars hexagons tesselating twisting zooming left right reds blues greens galactic bacground wanted engage annoyed started ands topped brain developing themes louder music better would liked slight difusion light something keep eyes shut intensity demanding open eyes concious mind thinking stopping thinking funny couldnt help thinking would happen drum beat maybe allow non euro music much love john hopkins",
          "put quite strange amazing mood want catch still sensitizing feeling one afterglow wonderful seeing deep textures powdery lights arise vision best bit taking feelingss music gliding morphing visions according feel music memory childhood spending lots time staring windows media player audio visualiser listening songs liked seemed amazing time made think synesthetic experiences they're precious worth seeking appreciating - music visual thing",
          "good surprise sensation play mind emotions thanks",
          "awesome expected sometimes verging oppressive never scary well lead",
          "thought fluffy speech writtenhealth safetyaspect broke sense adventure departure really ecessary meditive part nice perhaps take intro time brief overview histiry pursuits aybea bit science lose faux hand holding lovely overall",
          "really pleasant relaxing sensation erotic make think sex sense struck enjoyable could sexual (alone others) conjunction sensation also wanted intenlse - much louder music intense part lighting pattern repeated longer",
          "music",
          "pareidolia unnerving sometimes amazing though",
          "musicis calming surreal sensory overwhelming powerful scared ar calmed feels sympolism acceptance self fear life isvan unique wont forget",
          "emptiness mind consumed power music filled mind",
          "unease",
          "initially interested others reacting around began relax changing colours made feel safe happy music conjured images buddists spiritual people",
          "sharp music connected sound helicopters smell burning associated war majority experienced heart shapes cosmic lights galaxies",
          "visual expirence would change lot music became relaxed music progressed journey",
          "really enjoyed music zen",
          "thought fluffy speech writtenhealth safetyaspect broke sense adventure departure really ecessary meditive part nice perhaps take intro time brief overview histiry pursuits aybea bit science lose faux hand holding lovely overall",
          "thouhht really intense went phases rush taking journey colour beautiful calmingor rigid uncomfortable ididnt know look sudden disembodied huge wave eurphoria took totally free itsthe comfort ive ever magical",
          "loneliness inner chikd screaming love screeching intensely anxious bit suffocated also knowing i've got embraced inner child allowed sulk scream cry coming mix intense feelings knowing could handle music took whole journey completrly surrounded music space space thick hot air saturated soundwaves inhaling drowning sound learning swim enjoy heal",
          "music gentle powerful",
          "helped meditation journey",
          "many psychecik lic experiences many years tame interezted potential taki g co mbining substzncex",
          "relaxed peaceful beats music",
          "good beats leading helpful positive ambient sounds",
          "love feling amazing would come back fell aslep wake fresh mindset",
          "confusion difficult make note seeing i've never experienced also happy smiledat certain points quite weird",
          "stimulation relaxation within music light",
          null
         ],
         "marker": {
          "opacity": 0.5,
          "size": 5
         },
         "mode": "markers+text",
         "name": "1_music_journey_time",
         "text": [
          "",
          "",
          "",
          "",
          "",
          "",
          "",
          "",
          "",
          "",
          "",
          "",
          "",
          "",
          "",
          "",
          "",
          "",
          "",
          "",
          "",
          "",
          "",
          "",
          "",
          "",
          "",
          "",
          "",
          "",
          "",
          "",
          "",
          "",
          "",
          "",
          "",
          "",
          "",
          "",
          "",
          "1_music_journey_time"
         ],
         "textfont": {
          "size": 12
         },
         "type": "scattergl",
         "x": [
          7.015443801879883,
          6.793619632720947,
          7.57555627822876,
          6.180188179016113,
          7.082912921905518,
          7.3694987297058105,
          6.977548599243164,
          7.070466995239258,
          6.765765190124512,
          6.395281791687012,
          7.053055763244629,
          6.975893497467041,
          7.0591840744018555,
          6.952517032623291,
          6.203098773956299,
          7.008522033691406,
          6.860508441925049,
          6.291163921356201,
          5.797725677490234,
          6.70998477935791,
          6.986505031585693,
          6.86781120300293,
          6.124022483825684,
          6.348680019378662,
          6.8283257484436035,
          6.194786071777344,
          6.63477897644043,
          7.237471103668213,
          6.92965841293335,
          6.781350612640381,
          6.703943729400635,
          6.432614803314209,
          6.620433807373047,
          6.9929304122924805,
          6.0058979988098145,
          6.76765251159668,
          6.999641418457031,
          7.026178359985352,
          6.72784423828125,
          5.661075115203857,
          7.094576835632324,
          6.734246253967285
         ],
         "y": [
          10.233501434326172,
          10.120370864868164,
          10.905416488647461,
          10.27023983001709,
          10.993284225463867,
          10.432079315185547,
          11.305994033813477,
          10.60075569152832,
          10.836379051208496,
          10.057119369506836,
          11.19611644744873,
          11.339354515075684,
          10.817763328552246,
          10.415722846984863,
          10.627623558044434,
          10.574979782104492,
          10.579951286315918,
          10.017074584960938,
          10.38239860534668,
          10.293451309204102,
          10.775894165039062,
          11.34408950805664,
          10.39194393157959,
          10.414580345153809,
          11.027392387390137,
          10.21601676940918,
          10.536684036254883,
          10.56421947479248,
          10.877052307128906,
          11.22200870513916,
          10.267563819885254,
          10.278056144714355,
          10.604969024658203,
          11.305753707885742,
          10.268680572509766,
          10.556206703186035,
          11.321734428405762,
          11.340864181518555,
          10.001029014587402,
          10.038463592529297,
          11.162595748901367,
          10.646717071533203
         ]
        },
        {
         "hoverinfo": "text",
         "hovertext": [
          "different thoughts perception light manner human descernment develops towards something",
          "tried hard immerse dreamstate failed see anything except flickering lights think ought see changes",
          "found lost thought near stopped aware visual thought stuff similar stuff normally think wonder work tall chair",
          "really thoughts day things need forgotten",
          "thoughts connecting others",
          "kept thinking game football played tuesdayand hyper aware eyes something something might pull awzy",
          "dreaming awake- flashes random places maybe dead",
          "thought feeling people around made feel vulnrable",
          "dreaming dreamingly",
          "intense chaos mind checked subconscious took started talking imagine looking back life die",
          "struggling mind would go back stringof thoughts andtoget take avery deep breath went past blank set thoughts occured thrice andiinhaled really deep get past",
          "saw grey pulsing heart float across mind",
          "similar mri also unsuccesfully trying fall asleep insomnia period",
          "put dreamlike semiconcious state sensation quite asleep coming wakefulness dreaming real things conversations",
          "mind began wander reflect dreams goals relaxed way whereas usually anxious",
          "peace tranquility joy stimulation arousal swirling patterns geometricshapes shifting changing got lost body disappeared cam eback short dreams",
          "86 billion neurons wonder psychedelic experiences complexity brain produce limitless spectrum depression enlightenment thought anyway dream",
          "dreaming dream little",
          "wanting thoughts overtake",
          "thoughts safe fun gives odd feeling wanting keep feeling types thing",
          "thought god",
          "sleepy bit anxious times due speed flashing lights profound thoughts rather almost fell asleep dreamlike way",
          "also experienced ghost people purifferal verison sometimes fleeting walkjng around room whispy milky apperence also dyslexic itwasinteresting experence nuero divergent brained person",
          "constant thoughts coming towards batted away sky",
          "brain massaged sometimes overwhelming think became overwhelming brain would cut normal thoughts eg need buy tge shop dinner sometimes would see clips eg film interdespersed everyniw",
          "brief - thinking death could look decided assume go near ddath check thoughts could build smth thzn visual thing cannot say totally useless expecting",
          "someone sleep paralysis regularly quite interesting brain automatically reached details prove \"real\" much present meditate either even though tried visuals pretty fun though",
          "experienced lot physical sensations stomach face inside head still feel brain massaged",
          "random thoughts connected people close others events journeys",
          null
         ],
         "marker": {
          "opacity": 0.5,
          "size": 5
         },
         "mode": "markers+text",
         "name": "2_thoughts_brain_dreaming",
         "text": [
          "",
          "",
          "",
          "",
          "",
          "",
          "",
          "",
          "",
          "",
          "",
          "",
          "",
          "",
          "",
          "",
          "",
          "",
          "",
          "",
          "",
          "",
          "",
          "",
          "",
          "",
          "",
          "",
          "",
          "2_thoughts_brain_dreaming"
         ],
         "textfont": {
          "size": 12
         },
         "type": "scattergl",
         "x": [
          6.924782752990723,
          6.195202350616455,
          6.784024238586426,
          6.853227615356445,
          6.722926139831543,
          6.7883429527282715,
          6.148807525634766,
          6.591639518737793,
          6.2534685134887695,
          6.204221248626709,
          6.447230339050293,
          6.31450080871582,
          5.646817684173584,
          6.169108867645264,
          6.384567737579346,
          6.259637355804443,
          6.227197647094727,
          6.450005531311035,
          6.652364253997803,
          6.540163993835449,
          6.633979797363281,
          6.331598281860352,
          6.268807411193848,
          6.758678913116455,
          6.481766700744629,
          6.434630393981934,
          6.123094081878662,
          7.034758567810059,
          6.70197868347168,
          6.459569931030273
         ],
         "y": [
          9.270511627197266,
          8.185850143432617,
          9.188913345336914,
          9.13268756866455,
          9.099137306213379,
          8.884727478027344,
          8.202547073364258,
          9.371756553649902,
          8.20995044708252,
          8.765305519104004,
          8.981026649475098,
          9.684246063232422,
          8.821259498596191,
          8.400213241577148,
          8.675816535949707,
          8.521215438842773,
          8.704405784606934,
          7.9736480712890625,
          9.02522087097168,
          9.376190185546875,
          9.128175735473633,
          8.577795028686523,
          9.095928192138672,
          8.855376243591309,
          9.228864669799805,
          8.529541015625,
          8.731937408447266,
          9.542706489562988,
          9.031503677368164,
          8.868843078613281
         ]
        },
        {
         "hoverinfo": "text",
         "hovertext": [
          "part something bigger",
          "bliss",
          "x",
          "being: immersed calm thrilled",
          "want fo",
          "interesting",
          "relaxation calm curiosity",
          "nice snooze thank",
          "relaxing",
          "nothing",
          "interesting relaxed",
          "sparked much curiosity really understand",
          "joy relaxation",
          "warm",
          "insane",
          "intrigued excited",
          "much",
          "nothingness complete",
          "relaxed comfortable",
          "interesting one",
          "",
          "overall amazing",
          "everything",
          "",
          null
         ],
         "marker": {
          "opacity": 0.5,
          "size": 5
         },
         "mode": "markers+text",
         "name": "3_interesting_curiosity_relaxation",
         "text": [
          "",
          "",
          "",
          "",
          "",
          "",
          "",
          "",
          "",
          "",
          "",
          "",
          "",
          "",
          "",
          "",
          "",
          "",
          "",
          "",
          "",
          "",
          "",
          "",
          "3_interesting_curiosity_relaxation"
         ],
         "textfont": {
          "size": 12
         },
         "type": "scattergl",
         "x": [
          3.947978973388672,
          4.675792217254639,
          3.669614553451538,
          4.931407928466797,
          3.9660990238189697,
          4.156188011169434,
          5.148674964904785,
          4.369342803955078,
          4.905088901519775,
          3.849149465560913,
          4.792604446411133,
          4.423464298248291,
          4.943262577056885,
          4.624859809875488,
          3.7059805393218994,
          4.431210041046143,
          3.7355055809020996,
          4.007091045379639,
          4.962014675140381,
          4.139283657073975,
          3.6717100143432617,
          4.284876346588135,
          3.910297393798828,
          3.6969847679138184,
          4.289519786834717
         ],
         "y": [
          9.444473266601562,
          10.004406929016113,
          9.207462310791016,
          9.813763618469238,
          9.043231010437012,
          9.195799827575684,
          9.475775718688965,
          8.832768440246582,
          9.271714210510254,
          9.455161094665527,
          9.289162635803223,
          9.547480583190918,
          9.913081169128418,
          9.29665756225586,
          9.352042198181152,
          9.439717292785645,
          9.276052474975586,
          9.466330528259277,
          9.328133583068848,
          9.214491844177246,
          9.215021133422852,
          8.756621360778809,
          9.429932594299316,
          9.255110740661621,
          9.355183601379395
         ]
        },
        {
         "hoverinfo": "text",
         "hovertext": [
          "wonderfull peacefull",
          "calm peaceful state blissful even vastness poetic beautiful",
          "calm",
          "peacefulness guidance",
          "calm",
          "peaceful",
          "peace contentment",
          "scope mentally acceptance peace",
          "utter peace happiness",
          "amazing sense peace positivity",
          "feeling peace tranquillity",
          "great sense calm belonging",
          "peace",
          "peaceful euphoric sense wonder awe",
          "calm",
          null
         ],
         "marker": {
          "opacity": 0.5,
          "size": 5
         },
         "mode": "markers+text",
         "name": "4_peace_calm_peaceful",
         "text": [
          "",
          "",
          "",
          "",
          "",
          "",
          "",
          "",
          "",
          "",
          "",
          "",
          "",
          "",
          "",
          "4_peace_calm_peaceful"
         ],
         "textfont": {
          "size": 12
         },
         "type": "scattergl",
         "x": [
          4.141592979431152,
          4.420792579650879,
          3.8278822898864746,
          4.017019271850586,
          3.8132104873657227,
          3.9229695796966553,
          4.114724159240723,
          4.0784173011779785,
          4.159563064575195,
          4.188797473907471,
          4.207687854766846,
          4.17151403427124,
          4.107579231262207,
          4.479036331176758,
          3.8323564529418945,
          4.098875522613525
         ],
         "y": [
          10.340154647827148,
          10.401007652282715,
          9.983820915222168,
          10.441180229187012,
          9.992717742919922,
          10.193323135375977,
          10.35703182220459,
          10.405628204345703,
          10.36567497253418,
          10.401042938232422,
          10.384827613830566,
          10.161978721618652,
          10.36732292175293,
          10.543784141540527,
          10.008519172668457,
          10.28986644744873
         ]
        }
       ],
       "layout": {
        "annotations": [
         {
          "showarrow": false,
          "text": "D1",
          "x": 3.0780593872070314,
          "y": 9.428626072406768,
          "yshift": 10
         },
         {
          "showarrow": false,
          "text": "D2",
          "x": 7.654003477096557,
          "xshift": 10,
          "y": 13.045702934265137
         }
        ],
        "height": 750,
        "shapes": [
         {
          "line": {
           "color": "#CFD8DC",
           "width": 2
          },
          "type": "line",
          "x0": 7.654003477096557,
          "x1": 7.654003477096557,
          "y0": 5.811549210548401,
          "y1": 13.045702934265137
         },
         {
          "line": {
           "color": "#9E9E9E",
           "width": 2
          },
          "type": "line",
          "x0": 3.0780593872070314,
          "x1": 12.229947566986084,
          "y0": 9.428626072406768,
          "y1": 9.428626072406768
         }
        ],
        "template": {
         "data": {
          "bar": [
           {
            "error_x": {
             "color": "rgb(36,36,36)"
            },
            "error_y": {
             "color": "rgb(36,36,36)"
            },
            "marker": {
             "line": {
              "color": "white",
              "width": 0.5
             },
             "pattern": {
              "fillmode": "overlay",
              "size": 10,
              "solidity": 0.2
             }
            },
            "type": "bar"
           }
          ],
          "barpolar": [
           {
            "marker": {
             "line": {
              "color": "white",
              "width": 0.5
             },
             "pattern": {
              "fillmode": "overlay",
              "size": 10,
              "solidity": 0.2
             }
            },
            "type": "barpolar"
           }
          ],
          "carpet": [
           {
            "aaxis": {
             "endlinecolor": "rgb(36,36,36)",
             "gridcolor": "white",
             "linecolor": "white",
             "minorgridcolor": "white",
             "startlinecolor": "rgb(36,36,36)"
            },
            "baxis": {
             "endlinecolor": "rgb(36,36,36)",
             "gridcolor": "white",
             "linecolor": "white",
             "minorgridcolor": "white",
             "startlinecolor": "rgb(36,36,36)"
            },
            "type": "carpet"
           }
          ],
          "choropleth": [
           {
            "colorbar": {
             "outlinewidth": 1,
             "tickcolor": "rgb(36,36,36)",
             "ticks": "outside"
            },
            "type": "choropleth"
           }
          ],
          "contour": [
           {
            "colorbar": {
             "outlinewidth": 1,
             "tickcolor": "rgb(36,36,36)",
             "ticks": "outside"
            },
            "colorscale": [
             [
              0,
              "#440154"
             ],
             [
              0.1111111111111111,
              "#482878"
             ],
             [
              0.2222222222222222,
              "#3e4989"
             ],
             [
              0.3333333333333333,
              "#31688e"
             ],
             [
              0.4444444444444444,
              "#26828e"
             ],
             [
              0.5555555555555556,
              "#1f9e89"
             ],
             [
              0.6666666666666666,
              "#35b779"
             ],
             [
              0.7777777777777778,
              "#6ece58"
             ],
             [
              0.8888888888888888,
              "#b5de2b"
             ],
             [
              1,
              "#fde725"
             ]
            ],
            "type": "contour"
           }
          ],
          "contourcarpet": [
           {
            "colorbar": {
             "outlinewidth": 1,
             "tickcolor": "rgb(36,36,36)",
             "ticks": "outside"
            },
            "type": "contourcarpet"
           }
          ],
          "heatmap": [
           {
            "colorbar": {
             "outlinewidth": 1,
             "tickcolor": "rgb(36,36,36)",
             "ticks": "outside"
            },
            "colorscale": [
             [
              0,
              "#440154"
             ],
             [
              0.1111111111111111,
              "#482878"
             ],
             [
              0.2222222222222222,
              "#3e4989"
             ],
             [
              0.3333333333333333,
              "#31688e"
             ],
             [
              0.4444444444444444,
              "#26828e"
             ],
             [
              0.5555555555555556,
              "#1f9e89"
             ],
             [
              0.6666666666666666,
              "#35b779"
             ],
             [
              0.7777777777777778,
              "#6ece58"
             ],
             [
              0.8888888888888888,
              "#b5de2b"
             ],
             [
              1,
              "#fde725"
             ]
            ],
            "type": "heatmap"
           }
          ],
          "heatmapgl": [
           {
            "colorbar": {
             "outlinewidth": 1,
             "tickcolor": "rgb(36,36,36)",
             "ticks": "outside"
            },
            "colorscale": [
             [
              0,
              "#440154"
             ],
             [
              0.1111111111111111,
              "#482878"
             ],
             [
              0.2222222222222222,
              "#3e4989"
             ],
             [
              0.3333333333333333,
              "#31688e"
             ],
             [
              0.4444444444444444,
              "#26828e"
             ],
             [
              0.5555555555555556,
              "#1f9e89"
             ],
             [
              0.6666666666666666,
              "#35b779"
             ],
             [
              0.7777777777777778,
              "#6ece58"
             ],
             [
              0.8888888888888888,
              "#b5de2b"
             ],
             [
              1,
              "#fde725"
             ]
            ],
            "type": "heatmapgl"
           }
          ],
          "histogram": [
           {
            "marker": {
             "line": {
              "color": "white",
              "width": 0.6
             }
            },
            "type": "histogram"
           }
          ],
          "histogram2d": [
           {
            "colorbar": {
             "outlinewidth": 1,
             "tickcolor": "rgb(36,36,36)",
             "ticks": "outside"
            },
            "colorscale": [
             [
              0,
              "#440154"
             ],
             [
              0.1111111111111111,
              "#482878"
             ],
             [
              0.2222222222222222,
              "#3e4989"
             ],
             [
              0.3333333333333333,
              "#31688e"
             ],
             [
              0.4444444444444444,
              "#26828e"
             ],
             [
              0.5555555555555556,
              "#1f9e89"
             ],
             [
              0.6666666666666666,
              "#35b779"
             ],
             [
              0.7777777777777778,
              "#6ece58"
             ],
             [
              0.8888888888888888,
              "#b5de2b"
             ],
             [
              1,
              "#fde725"
             ]
            ],
            "type": "histogram2d"
           }
          ],
          "histogram2dcontour": [
           {
            "colorbar": {
             "outlinewidth": 1,
             "tickcolor": "rgb(36,36,36)",
             "ticks": "outside"
            },
            "colorscale": [
             [
              0,
              "#440154"
             ],
             [
              0.1111111111111111,
              "#482878"
             ],
             [
              0.2222222222222222,
              "#3e4989"
             ],
             [
              0.3333333333333333,
              "#31688e"
             ],
             [
              0.4444444444444444,
              "#26828e"
             ],
             [
              0.5555555555555556,
              "#1f9e89"
             ],
             [
              0.6666666666666666,
              "#35b779"
             ],
             [
              0.7777777777777778,
              "#6ece58"
             ],
             [
              0.8888888888888888,
              "#b5de2b"
             ],
             [
              1,
              "#fde725"
             ]
            ],
            "type": "histogram2dcontour"
           }
          ],
          "mesh3d": [
           {
            "colorbar": {
             "outlinewidth": 1,
             "tickcolor": "rgb(36,36,36)",
             "ticks": "outside"
            },
            "type": "mesh3d"
           }
          ],
          "parcoords": [
           {
            "line": {
             "colorbar": {
              "outlinewidth": 1,
              "tickcolor": "rgb(36,36,36)",
              "ticks": "outside"
             }
            },
            "type": "parcoords"
           }
          ],
          "pie": [
           {
            "automargin": true,
            "type": "pie"
           }
          ],
          "scatter": [
           {
            "fillpattern": {
             "fillmode": "overlay",
             "size": 10,
             "solidity": 0.2
            },
            "type": "scatter"
           }
          ],
          "scatter3d": [
           {
            "line": {
             "colorbar": {
              "outlinewidth": 1,
              "tickcolor": "rgb(36,36,36)",
              "ticks": "outside"
             }
            },
            "marker": {
             "colorbar": {
              "outlinewidth": 1,
              "tickcolor": "rgb(36,36,36)",
              "ticks": "outside"
             }
            },
            "type": "scatter3d"
           }
          ],
          "scattercarpet": [
           {
            "marker": {
             "colorbar": {
              "outlinewidth": 1,
              "tickcolor": "rgb(36,36,36)",
              "ticks": "outside"
             }
            },
            "type": "scattercarpet"
           }
          ],
          "scattergeo": [
           {
            "marker": {
             "colorbar": {
              "outlinewidth": 1,
              "tickcolor": "rgb(36,36,36)",
              "ticks": "outside"
             }
            },
            "type": "scattergeo"
           }
          ],
          "scattergl": [
           {
            "marker": {
             "colorbar": {
              "outlinewidth": 1,
              "tickcolor": "rgb(36,36,36)",
              "ticks": "outside"
             }
            },
            "type": "scattergl"
           }
          ],
          "scattermapbox": [
           {
            "marker": {
             "colorbar": {
              "outlinewidth": 1,
              "tickcolor": "rgb(36,36,36)",
              "ticks": "outside"
             }
            },
            "type": "scattermapbox"
           }
          ],
          "scatterpolar": [
           {
            "marker": {
             "colorbar": {
              "outlinewidth": 1,
              "tickcolor": "rgb(36,36,36)",
              "ticks": "outside"
             }
            },
            "type": "scatterpolar"
           }
          ],
          "scatterpolargl": [
           {
            "marker": {
             "colorbar": {
              "outlinewidth": 1,
              "tickcolor": "rgb(36,36,36)",
              "ticks": "outside"
             }
            },
            "type": "scatterpolargl"
           }
          ],
          "scatterternary": [
           {
            "marker": {
             "colorbar": {
              "outlinewidth": 1,
              "tickcolor": "rgb(36,36,36)",
              "ticks": "outside"
             }
            },
            "type": "scatterternary"
           }
          ],
          "surface": [
           {
            "colorbar": {
             "outlinewidth": 1,
             "tickcolor": "rgb(36,36,36)",
             "ticks": "outside"
            },
            "colorscale": [
             [
              0,
              "#440154"
             ],
             [
              0.1111111111111111,
              "#482878"
             ],
             [
              0.2222222222222222,
              "#3e4989"
             ],
             [
              0.3333333333333333,
              "#31688e"
             ],
             [
              0.4444444444444444,
              "#26828e"
             ],
             [
              0.5555555555555556,
              "#1f9e89"
             ],
             [
              0.6666666666666666,
              "#35b779"
             ],
             [
              0.7777777777777778,
              "#6ece58"
             ],
             [
              0.8888888888888888,
              "#b5de2b"
             ],
             [
              1,
              "#fde725"
             ]
            ],
            "type": "surface"
           }
          ],
          "table": [
           {
            "cells": {
             "fill": {
              "color": "rgb(237,237,237)"
             },
             "line": {
              "color": "white"
             }
            },
            "header": {
             "fill": {
              "color": "rgb(217,217,217)"
             },
             "line": {
              "color": "white"
             }
            },
            "type": "table"
           }
          ]
         },
         "layout": {
          "annotationdefaults": {
           "arrowhead": 0,
           "arrowwidth": 1
          },
          "autotypenumbers": "strict",
          "coloraxis": {
           "colorbar": {
            "outlinewidth": 1,
            "tickcolor": "rgb(36,36,36)",
            "ticks": "outside"
           }
          },
          "colorscale": {
           "diverging": [
            [
             0,
             "rgb(103,0,31)"
            ],
            [
             0.1,
             "rgb(178,24,43)"
            ],
            [
             0.2,
             "rgb(214,96,77)"
            ],
            [
             0.3,
             "rgb(244,165,130)"
            ],
            [
             0.4,
             "rgb(253,219,199)"
            ],
            [
             0.5,
             "rgb(247,247,247)"
            ],
            [
             0.6,
             "rgb(209,229,240)"
            ],
            [
             0.7,
             "rgb(146,197,222)"
            ],
            [
             0.8,
             "rgb(67,147,195)"
            ],
            [
             0.9,
             "rgb(33,102,172)"
            ],
            [
             1,
             "rgb(5,48,97)"
            ]
           ],
           "sequential": [
            [
             0,
             "#440154"
            ],
            [
             0.1111111111111111,
             "#482878"
            ],
            [
             0.2222222222222222,
             "#3e4989"
            ],
            [
             0.3333333333333333,
             "#31688e"
            ],
            [
             0.4444444444444444,
             "#26828e"
            ],
            [
             0.5555555555555556,
             "#1f9e89"
            ],
            [
             0.6666666666666666,
             "#35b779"
            ],
            [
             0.7777777777777778,
             "#6ece58"
            ],
            [
             0.8888888888888888,
             "#b5de2b"
            ],
            [
             1,
             "#fde725"
            ]
           ],
           "sequentialminus": [
            [
             0,
             "#440154"
            ],
            [
             0.1111111111111111,
             "#482878"
            ],
            [
             0.2222222222222222,
             "#3e4989"
            ],
            [
             0.3333333333333333,
             "#31688e"
            ],
            [
             0.4444444444444444,
             "#26828e"
            ],
            [
             0.5555555555555556,
             "#1f9e89"
            ],
            [
             0.6666666666666666,
             "#35b779"
            ],
            [
             0.7777777777777778,
             "#6ece58"
            ],
            [
             0.8888888888888888,
             "#b5de2b"
            ],
            [
             1,
             "#fde725"
            ]
           ]
          },
          "colorway": [
           "#1F77B4",
           "#FF7F0E",
           "#2CA02C",
           "#D62728",
           "#9467BD",
           "#8C564B",
           "#E377C2",
           "#7F7F7F",
           "#BCBD22",
           "#17BECF"
          ],
          "font": {
           "color": "rgb(36,36,36)"
          },
          "geo": {
           "bgcolor": "white",
           "lakecolor": "white",
           "landcolor": "white",
           "showlakes": true,
           "showland": true,
           "subunitcolor": "white"
          },
          "hoverlabel": {
           "align": "left"
          },
          "hovermode": "closest",
          "mapbox": {
           "style": "light"
          },
          "paper_bgcolor": "white",
          "plot_bgcolor": "white",
          "polar": {
           "angularaxis": {
            "gridcolor": "rgb(232,232,232)",
            "linecolor": "rgb(36,36,36)",
            "showgrid": false,
            "showline": true,
            "ticks": "outside"
           },
           "bgcolor": "white",
           "radialaxis": {
            "gridcolor": "rgb(232,232,232)",
            "linecolor": "rgb(36,36,36)",
            "showgrid": false,
            "showline": true,
            "ticks": "outside"
           }
          },
          "scene": {
           "xaxis": {
            "backgroundcolor": "white",
            "gridcolor": "rgb(232,232,232)",
            "gridwidth": 2,
            "linecolor": "rgb(36,36,36)",
            "showbackground": true,
            "showgrid": false,
            "showline": true,
            "ticks": "outside",
            "zeroline": false,
            "zerolinecolor": "rgb(36,36,36)"
           },
           "yaxis": {
            "backgroundcolor": "white",
            "gridcolor": "rgb(232,232,232)",
            "gridwidth": 2,
            "linecolor": "rgb(36,36,36)",
            "showbackground": true,
            "showgrid": false,
            "showline": true,
            "ticks": "outside",
            "zeroline": false,
            "zerolinecolor": "rgb(36,36,36)"
           },
           "zaxis": {
            "backgroundcolor": "white",
            "gridcolor": "rgb(232,232,232)",
            "gridwidth": 2,
            "linecolor": "rgb(36,36,36)",
            "showbackground": true,
            "showgrid": false,
            "showline": true,
            "ticks": "outside",
            "zeroline": false,
            "zerolinecolor": "rgb(36,36,36)"
           }
          },
          "shapedefaults": {
           "fillcolor": "black",
           "line": {
            "width": 0
           },
           "opacity": 0.3
          },
          "ternary": {
           "aaxis": {
            "gridcolor": "rgb(232,232,232)",
            "linecolor": "rgb(36,36,36)",
            "showgrid": false,
            "showline": true,
            "ticks": "outside"
           },
           "baxis": {
            "gridcolor": "rgb(232,232,232)",
            "linecolor": "rgb(36,36,36)",
            "showgrid": false,
            "showline": true,
            "ticks": "outside"
           },
           "bgcolor": "white",
           "caxis": {
            "gridcolor": "rgb(232,232,232)",
            "linecolor": "rgb(36,36,36)",
            "showgrid": false,
            "showline": true,
            "ticks": "outside"
           }
          },
          "title": {
           "x": 0.05
          },
          "xaxis": {
           "automargin": true,
           "gridcolor": "rgb(232,232,232)",
           "linecolor": "rgb(36,36,36)",
           "showgrid": false,
           "showline": true,
           "ticks": "outside",
           "title": {
            "standoff": 15
           },
           "zeroline": false,
           "zerolinecolor": "rgb(36,36,36)"
          },
          "yaxis": {
           "automargin": true,
           "gridcolor": "rgb(232,232,232)",
           "linecolor": "rgb(36,36,36)",
           "showgrid": false,
           "showline": true,
           "ticks": "outside",
           "title": {
            "standoff": 15
           },
           "zeroline": false,
           "zerolinecolor": "rgb(36,36,36)"
          }
         }
        },
        "title": {
         "font": {
          "color": "Black",
          "size": 22
         },
         "text": "<b>Documents and Topics</b>",
         "x": 0.5,
         "xanchor": "center",
         "yanchor": "top"
        },
        "width": 1200,
        "xaxis": {
         "visible": false
        },
        "yaxis": {
         "visible": false
        }
       }
      }
     },
     "metadata": {},
     "output_type": "display_data"
    }
   ],
   "source": [
    "model.visualize_documents(reports['text_processed'])"
   ]
  },
  {
   "cell_type": "code",
   "execution_count": 26,
   "metadata": {},
   "outputs": [
    {
     "data": {
      "application/vnd.plotly.v1+json": {
       "config": {
        "plotlyServerURL": "https://plot.ly"
       },
       "data": [
        {
         "coloraxis": "coloraxis",
         "hovertemplate": "x: %{x}<br>y: %{y}<br>Similarity Score: %{z}<extra></extra>",
         "name": "0",
         "type": "heatmap",
         "x": [
          "0_saw_colours_shapes",
          "1_music_journey_time",
          "2_thoughts_brain_dreaming",
          "3_interesting_curiosity_rel...",
          "4_peace_calm_peaceful"
         ],
         "xaxis": "x",
         "y": [
          "0_saw_colours_shapes",
          "1_music_journey_time",
          "2_thoughts_brain_dreaming",
          "3_interesting_curiosity_rel...",
          "4_peace_calm_peaceful"
         ],
         "yaxis": "y",
         "z": [
          [
           1.0000001192092896,
           0.5653896331787109,
           0.6041069626808167,
           0.4136773347854614,
           0.2762755751609802
          ],
          [
           0.5653896331787109,
           0.9999997615814209,
           0.6715034246444702,
           0.5501063466072083,
           0.5258528590202332
          ],
          [
           0.6041069626808167,
           0.6715034246444702,
           0.9999999403953552,
           0.46777379512786865,
           0.3933776915073395
          ],
          [
           0.4136773347854614,
           0.5501063466072083,
           0.46777379512786865,
           0.9999997615814209,
           0.6030047535896301
          ],
          [
           0.2762755751609802,
           0.5258528590202332,
           0.3933776915073395,
           0.6030047535896301,
           1.000000238418579
          ]
         ]
        }
       ],
       "layout": {
        "coloraxis": {
         "colorbar": {
          "title": {
           "text": "Similarity Score"
          }
         },
         "colorscale": [
          [
           0,
           "rgb(247,252,240)"
          ],
          [
           0.125,
           "rgb(224,243,219)"
          ],
          [
           0.25,
           "rgb(204,235,197)"
          ],
          [
           0.375,
           "rgb(168,221,181)"
          ],
          [
           0.5,
           "rgb(123,204,196)"
          ],
          [
           0.625,
           "rgb(78,179,211)"
          ],
          [
           0.75,
           "rgb(43,140,190)"
          ],
          [
           0.875,
           "rgb(8,104,172)"
          ],
          [
           1,
           "rgb(8,64,129)"
          ]
         ]
        },
        "height": 800,
        "hoverlabel": {
         "bgcolor": "white",
         "font": {
          "family": "Rockwell",
          "size": 16
         }
        },
        "legend": {
         "title": {
          "text": "Trend"
         }
        },
        "margin": {
         "t": 60
        },
        "showlegend": true,
        "template": {
         "data": {
          "bar": [
           {
            "error_x": {
             "color": "#2a3f5f"
            },
            "error_y": {
             "color": "#2a3f5f"
            },
            "marker": {
             "line": {
              "color": "#E5ECF6",
              "width": 0.5
             },
             "pattern": {
              "fillmode": "overlay",
              "size": 10,
              "solidity": 0.2
             }
            },
            "type": "bar"
           }
          ],
          "barpolar": [
           {
            "marker": {
             "line": {
              "color": "#E5ECF6",
              "width": 0.5
             },
             "pattern": {
              "fillmode": "overlay",
              "size": 10,
              "solidity": 0.2
             }
            },
            "type": "barpolar"
           }
          ],
          "carpet": [
           {
            "aaxis": {
             "endlinecolor": "#2a3f5f",
             "gridcolor": "white",
             "linecolor": "white",
             "minorgridcolor": "white",
             "startlinecolor": "#2a3f5f"
            },
            "baxis": {
             "endlinecolor": "#2a3f5f",
             "gridcolor": "white",
             "linecolor": "white",
             "minorgridcolor": "white",
             "startlinecolor": "#2a3f5f"
            },
            "type": "carpet"
           }
          ],
          "choropleth": [
           {
            "colorbar": {
             "outlinewidth": 0,
             "ticks": ""
            },
            "type": "choropleth"
           }
          ],
          "contour": [
           {
            "colorbar": {
             "outlinewidth": 0,
             "ticks": ""
            },
            "colorscale": [
             [
              0,
              "#0d0887"
             ],
             [
              0.1111111111111111,
              "#46039f"
             ],
             [
              0.2222222222222222,
              "#7201a8"
             ],
             [
              0.3333333333333333,
              "#9c179e"
             ],
             [
              0.4444444444444444,
              "#bd3786"
             ],
             [
              0.5555555555555556,
              "#d8576b"
             ],
             [
              0.6666666666666666,
              "#ed7953"
             ],
             [
              0.7777777777777778,
              "#fb9f3a"
             ],
             [
              0.8888888888888888,
              "#fdca26"
             ],
             [
              1,
              "#f0f921"
             ]
            ],
            "type": "contour"
           }
          ],
          "contourcarpet": [
           {
            "colorbar": {
             "outlinewidth": 0,
             "ticks": ""
            },
            "type": "contourcarpet"
           }
          ],
          "heatmap": [
           {
            "colorbar": {
             "outlinewidth": 0,
             "ticks": ""
            },
            "colorscale": [
             [
              0,
              "#0d0887"
             ],
             [
              0.1111111111111111,
              "#46039f"
             ],
             [
              0.2222222222222222,
              "#7201a8"
             ],
             [
              0.3333333333333333,
              "#9c179e"
             ],
             [
              0.4444444444444444,
              "#bd3786"
             ],
             [
              0.5555555555555556,
              "#d8576b"
             ],
             [
              0.6666666666666666,
              "#ed7953"
             ],
             [
              0.7777777777777778,
              "#fb9f3a"
             ],
             [
              0.8888888888888888,
              "#fdca26"
             ],
             [
              1,
              "#f0f921"
             ]
            ],
            "type": "heatmap"
           }
          ],
          "heatmapgl": [
           {
            "colorbar": {
             "outlinewidth": 0,
             "ticks": ""
            },
            "colorscale": [
             [
              0,
              "#0d0887"
             ],
             [
              0.1111111111111111,
              "#46039f"
             ],
             [
              0.2222222222222222,
              "#7201a8"
             ],
             [
              0.3333333333333333,
              "#9c179e"
             ],
             [
              0.4444444444444444,
              "#bd3786"
             ],
             [
              0.5555555555555556,
              "#d8576b"
             ],
             [
              0.6666666666666666,
              "#ed7953"
             ],
             [
              0.7777777777777778,
              "#fb9f3a"
             ],
             [
              0.8888888888888888,
              "#fdca26"
             ],
             [
              1,
              "#f0f921"
             ]
            ],
            "type": "heatmapgl"
           }
          ],
          "histogram": [
           {
            "marker": {
             "pattern": {
              "fillmode": "overlay",
              "size": 10,
              "solidity": 0.2
             }
            },
            "type": "histogram"
           }
          ],
          "histogram2d": [
           {
            "colorbar": {
             "outlinewidth": 0,
             "ticks": ""
            },
            "colorscale": [
             [
              0,
              "#0d0887"
             ],
             [
              0.1111111111111111,
              "#46039f"
             ],
             [
              0.2222222222222222,
              "#7201a8"
             ],
             [
              0.3333333333333333,
              "#9c179e"
             ],
             [
              0.4444444444444444,
              "#bd3786"
             ],
             [
              0.5555555555555556,
              "#d8576b"
             ],
             [
              0.6666666666666666,
              "#ed7953"
             ],
             [
              0.7777777777777778,
              "#fb9f3a"
             ],
             [
              0.8888888888888888,
              "#fdca26"
             ],
             [
              1,
              "#f0f921"
             ]
            ],
            "type": "histogram2d"
           }
          ],
          "histogram2dcontour": [
           {
            "colorbar": {
             "outlinewidth": 0,
             "ticks": ""
            },
            "colorscale": [
             [
              0,
              "#0d0887"
             ],
             [
              0.1111111111111111,
              "#46039f"
             ],
             [
              0.2222222222222222,
              "#7201a8"
             ],
             [
              0.3333333333333333,
              "#9c179e"
             ],
             [
              0.4444444444444444,
              "#bd3786"
             ],
             [
              0.5555555555555556,
              "#d8576b"
             ],
             [
              0.6666666666666666,
              "#ed7953"
             ],
             [
              0.7777777777777778,
              "#fb9f3a"
             ],
             [
              0.8888888888888888,
              "#fdca26"
             ],
             [
              1,
              "#f0f921"
             ]
            ],
            "type": "histogram2dcontour"
           }
          ],
          "mesh3d": [
           {
            "colorbar": {
             "outlinewidth": 0,
             "ticks": ""
            },
            "type": "mesh3d"
           }
          ],
          "parcoords": [
           {
            "line": {
             "colorbar": {
              "outlinewidth": 0,
              "ticks": ""
             }
            },
            "type": "parcoords"
           }
          ],
          "pie": [
           {
            "automargin": true,
            "type": "pie"
           }
          ],
          "scatter": [
           {
            "fillpattern": {
             "fillmode": "overlay",
             "size": 10,
             "solidity": 0.2
            },
            "type": "scatter"
           }
          ],
          "scatter3d": [
           {
            "line": {
             "colorbar": {
              "outlinewidth": 0,
              "ticks": ""
             }
            },
            "marker": {
             "colorbar": {
              "outlinewidth": 0,
              "ticks": ""
             }
            },
            "type": "scatter3d"
           }
          ],
          "scattercarpet": [
           {
            "marker": {
             "colorbar": {
              "outlinewidth": 0,
              "ticks": ""
             }
            },
            "type": "scattercarpet"
           }
          ],
          "scattergeo": [
           {
            "marker": {
             "colorbar": {
              "outlinewidth": 0,
              "ticks": ""
             }
            },
            "type": "scattergeo"
           }
          ],
          "scattergl": [
           {
            "marker": {
             "colorbar": {
              "outlinewidth": 0,
              "ticks": ""
             }
            },
            "type": "scattergl"
           }
          ],
          "scattermapbox": [
           {
            "marker": {
             "colorbar": {
              "outlinewidth": 0,
              "ticks": ""
             }
            },
            "type": "scattermapbox"
           }
          ],
          "scatterpolar": [
           {
            "marker": {
             "colorbar": {
              "outlinewidth": 0,
              "ticks": ""
             }
            },
            "type": "scatterpolar"
           }
          ],
          "scatterpolargl": [
           {
            "marker": {
             "colorbar": {
              "outlinewidth": 0,
              "ticks": ""
             }
            },
            "type": "scatterpolargl"
           }
          ],
          "scatterternary": [
           {
            "marker": {
             "colorbar": {
              "outlinewidth": 0,
              "ticks": ""
             }
            },
            "type": "scatterternary"
           }
          ],
          "surface": [
           {
            "colorbar": {
             "outlinewidth": 0,
             "ticks": ""
            },
            "colorscale": [
             [
              0,
              "#0d0887"
             ],
             [
              0.1111111111111111,
              "#46039f"
             ],
             [
              0.2222222222222222,
              "#7201a8"
             ],
             [
              0.3333333333333333,
              "#9c179e"
             ],
             [
              0.4444444444444444,
              "#bd3786"
             ],
             [
              0.5555555555555556,
              "#d8576b"
             ],
             [
              0.6666666666666666,
              "#ed7953"
             ],
             [
              0.7777777777777778,
              "#fb9f3a"
             ],
             [
              0.8888888888888888,
              "#fdca26"
             ],
             [
              1,
              "#f0f921"
             ]
            ],
            "type": "surface"
           }
          ],
          "table": [
           {
            "cells": {
             "fill": {
              "color": "#EBF0F8"
             },
             "line": {
              "color": "white"
             }
            },
            "header": {
             "fill": {
              "color": "#C8D4E3"
             },
             "line": {
              "color": "white"
             }
            },
            "type": "table"
           }
          ]
         },
         "layout": {
          "annotationdefaults": {
           "arrowcolor": "#2a3f5f",
           "arrowhead": 0,
           "arrowwidth": 1
          },
          "autotypenumbers": "strict",
          "coloraxis": {
           "colorbar": {
            "outlinewidth": 0,
            "ticks": ""
           }
          },
          "colorscale": {
           "diverging": [
            [
             0,
             "#8e0152"
            ],
            [
             0.1,
             "#c51b7d"
            ],
            [
             0.2,
             "#de77ae"
            ],
            [
             0.3,
             "#f1b6da"
            ],
            [
             0.4,
             "#fde0ef"
            ],
            [
             0.5,
             "#f7f7f7"
            ],
            [
             0.6,
             "#e6f5d0"
            ],
            [
             0.7,
             "#b8e186"
            ],
            [
             0.8,
             "#7fbc41"
            ],
            [
             0.9,
             "#4d9221"
            ],
            [
             1,
             "#276419"
            ]
           ],
           "sequential": [
            [
             0,
             "#0d0887"
            ],
            [
             0.1111111111111111,
             "#46039f"
            ],
            [
             0.2222222222222222,
             "#7201a8"
            ],
            [
             0.3333333333333333,
             "#9c179e"
            ],
            [
             0.4444444444444444,
             "#bd3786"
            ],
            [
             0.5555555555555556,
             "#d8576b"
            ],
            [
             0.6666666666666666,
             "#ed7953"
            ],
            [
             0.7777777777777778,
             "#fb9f3a"
            ],
            [
             0.8888888888888888,
             "#fdca26"
            ],
            [
             1,
             "#f0f921"
            ]
           ],
           "sequentialminus": [
            [
             0,
             "#0d0887"
            ],
            [
             0.1111111111111111,
             "#46039f"
            ],
            [
             0.2222222222222222,
             "#7201a8"
            ],
            [
             0.3333333333333333,
             "#9c179e"
            ],
            [
             0.4444444444444444,
             "#bd3786"
            ],
            [
             0.5555555555555556,
             "#d8576b"
            ],
            [
             0.6666666666666666,
             "#ed7953"
            ],
            [
             0.7777777777777778,
             "#fb9f3a"
            ],
            [
             0.8888888888888888,
             "#fdca26"
            ],
            [
             1,
             "#f0f921"
            ]
           ]
          },
          "colorway": [
           "#636efa",
           "#EF553B",
           "#00cc96",
           "#ab63fa",
           "#FFA15A",
           "#19d3f3",
           "#FF6692",
           "#B6E880",
           "#FF97FF",
           "#FECB52"
          ],
          "font": {
           "color": "#2a3f5f"
          },
          "geo": {
           "bgcolor": "white",
           "lakecolor": "white",
           "landcolor": "#E5ECF6",
           "showlakes": true,
           "showland": true,
           "subunitcolor": "white"
          },
          "hoverlabel": {
           "align": "left"
          },
          "hovermode": "closest",
          "mapbox": {
           "style": "light"
          },
          "paper_bgcolor": "white",
          "plot_bgcolor": "#E5ECF6",
          "polar": {
           "angularaxis": {
            "gridcolor": "white",
            "linecolor": "white",
            "ticks": ""
           },
           "bgcolor": "#E5ECF6",
           "radialaxis": {
            "gridcolor": "white",
            "linecolor": "white",
            "ticks": ""
           }
          },
          "scene": {
           "xaxis": {
            "backgroundcolor": "#E5ECF6",
            "gridcolor": "white",
            "gridwidth": 2,
            "linecolor": "white",
            "showbackground": true,
            "ticks": "",
            "zerolinecolor": "white"
           },
           "yaxis": {
            "backgroundcolor": "#E5ECF6",
            "gridcolor": "white",
            "gridwidth": 2,
            "linecolor": "white",
            "showbackground": true,
            "ticks": "",
            "zerolinecolor": "white"
           },
           "zaxis": {
            "backgroundcolor": "#E5ECF6",
            "gridcolor": "white",
            "gridwidth": 2,
            "linecolor": "white",
            "showbackground": true,
            "ticks": "",
            "zerolinecolor": "white"
           }
          },
          "shapedefaults": {
           "line": {
            "color": "#2a3f5f"
           }
          },
          "ternary": {
           "aaxis": {
            "gridcolor": "white",
            "linecolor": "white",
            "ticks": ""
           },
           "baxis": {
            "gridcolor": "white",
            "linecolor": "white",
            "ticks": ""
           },
           "bgcolor": "#E5ECF6",
           "caxis": {
            "gridcolor": "white",
            "linecolor": "white",
            "ticks": ""
           }
          },
          "title": {
           "x": 0.05
          },
          "xaxis": {
           "automargin": true,
           "gridcolor": "white",
           "linecolor": "white",
           "ticks": "",
           "title": {
            "standoff": 15
           },
           "zerolinecolor": "white",
           "zerolinewidth": 2
          },
          "yaxis": {
           "automargin": true,
           "gridcolor": "white",
           "linecolor": "white",
           "ticks": "",
           "title": {
            "standoff": 15
           },
           "zerolinecolor": "white",
           "zerolinewidth": 2
          }
         }
        },
        "title": {
         "font": {
          "color": "Black",
          "size": 22
         },
         "text": "<b>Similarity Matrix</b>",
         "x": 0.55,
         "xanchor": "center",
         "y": 0.95,
         "yanchor": "top"
        },
        "width": 800,
        "xaxis": {
         "anchor": "y",
         "constrain": "domain",
         "domain": [
          0,
          1
         ],
         "scaleanchor": "y"
        },
        "yaxis": {
         "anchor": "x",
         "autorange": "reversed",
         "constrain": "domain",
         "domain": [
          0,
          1
         ]
        }
       }
      }
     },
     "metadata": {},
     "output_type": "display_data"
    }
   ],
   "source": [
    "model.visualize_heatmap(top_n_topics=10) #Visualize the top 10 topics as a heatmap"
   ]
  },
  {
   "cell_type": "code",
   "execution_count": 27,
   "metadata": {},
   "outputs": [
    {
     "data": {
      "application/vnd.plotly.v1+json": {
       "config": {
        "plotlyServerURL": "https://plot.ly"
       },
       "data": [
        {
         "customdata": [
          [
           0,
           "saw | colours | shapes | moving | space",
           139
          ],
          [
           1,
           "music | journey | time | mind | really",
           41
          ],
          [
           2,
           "thoughts | brain | dreaming | thought | mind",
           29
          ],
          [
           3,
           "interesting | curiosity | relaxation | relaxed | calm",
           24
          ],
          [
           4,
           "peace | calm | peaceful | sense | mentally",
           15
          ]
         ],
         "hovertemplate": "<b>Topic %{customdata[0]}</b><br>%{customdata[1]}<br>Size: %{customdata[2]}",
         "legendgroup": "",
         "marker": {
          "color": "#B0BEC5",
          "line": {
           "color": "DarkSlateGrey",
           "width": 2
          },
          "size": [
           139,
           41,
           29,
           24,
           15
          ],
          "sizemode": "area",
          "sizeref": 0.086875,
          "symbol": "circle"
         },
         "mode": "markers",
         "name": "",
         "orientation": "v",
         "showlegend": false,
         "type": "scatter",
         "x": [
          -3.323821544647217,
          -3.40151309967041,
          -2.9502785205841064,
          10.018904685974121,
          9.667895317077637
         ],
         "xaxis": "x",
         "y": [
          15.415011405944824,
          14.226860046386719,
          14.78475284576416,
          -1.6118366718292236,
          -1.2608264684677124
         ],
         "yaxis": "y"
        }
       ],
       "layout": {
        "annotations": [
         {
          "showarrow": false,
          "text": "D1",
          "x": -3.9117400646209717,
          "y": 7.936825472116469,
          "yshift": 10
         },
         {
          "showarrow": false,
          "text": "D2",
          "x": 3.8050001621246334,
          "xshift": 10,
          "y": 17.727263116836546
         }
        ],
        "height": 650,
        "hoverlabel": {
         "bgcolor": "white",
         "font": {
          "family": "Rockwell",
          "size": 16
         }
        },
        "legend": {
         "itemsizing": "constant",
         "tracegroupgap": 0
        },
        "margin": {
         "t": 60
        },
        "shapes": [
         {
          "line": {
           "color": "#CFD8DC",
           "width": 2
          },
          "type": "line",
          "x0": 3.8050001621246334,
          "x1": 3.8050001621246334,
          "y0": -1.8536121726036072,
          "y1": 17.727263116836546
         },
         {
          "line": {
           "color": "#9E9E9E",
           "width": 2
          },
          "type": "line",
          "x0": -3.9117400646209717,
          "x1": 11.521740388870239,
          "y0": 7.936825472116469,
          "y1": 7.936825472116469
         }
        ],
        "sliders": [
         {
          "active": 0,
          "pad": {
           "t": 50
          },
          "steps": [
           {
            "args": [
             {
              "marker.color": [
               [
                "red",
                "#B0BEC5",
                "#B0BEC5",
                "#B0BEC5",
                "#B0BEC5"
               ]
              ]
             }
            ],
            "label": "Topic 0",
            "method": "update"
           },
           {
            "args": [
             {
              "marker.color": [
               [
                "#B0BEC5",
                "red",
                "#B0BEC5",
                "#B0BEC5",
                "#B0BEC5"
               ]
              ]
             }
            ],
            "label": "Topic 1",
            "method": "update"
           },
           {
            "args": [
             {
              "marker.color": [
               [
                "#B0BEC5",
                "#B0BEC5",
                "red",
                "#B0BEC5",
                "#B0BEC5"
               ]
              ]
             }
            ],
            "label": "Topic 2",
            "method": "update"
           },
           {
            "args": [
             {
              "marker.color": [
               [
                "#B0BEC5",
                "#B0BEC5",
                "#B0BEC5",
                "red",
                "#B0BEC5"
               ]
              ]
             }
            ],
            "label": "Topic 3",
            "method": "update"
           },
           {
            "args": [
             {
              "marker.color": [
               [
                "#B0BEC5",
                "#B0BEC5",
                "#B0BEC5",
                "#B0BEC5",
                "red"
               ]
              ]
             }
            ],
            "label": "Topic 4",
            "method": "update"
           }
          ]
         }
        ],
        "template": {
         "data": {
          "bar": [
           {
            "error_x": {
             "color": "rgb(36,36,36)"
            },
            "error_y": {
             "color": "rgb(36,36,36)"
            },
            "marker": {
             "line": {
              "color": "white",
              "width": 0.5
             },
             "pattern": {
              "fillmode": "overlay",
              "size": 10,
              "solidity": 0.2
             }
            },
            "type": "bar"
           }
          ],
          "barpolar": [
           {
            "marker": {
             "line": {
              "color": "white",
              "width": 0.5
             },
             "pattern": {
              "fillmode": "overlay",
              "size": 10,
              "solidity": 0.2
             }
            },
            "type": "barpolar"
           }
          ],
          "carpet": [
           {
            "aaxis": {
             "endlinecolor": "rgb(36,36,36)",
             "gridcolor": "white",
             "linecolor": "white",
             "minorgridcolor": "white",
             "startlinecolor": "rgb(36,36,36)"
            },
            "baxis": {
             "endlinecolor": "rgb(36,36,36)",
             "gridcolor": "white",
             "linecolor": "white",
             "minorgridcolor": "white",
             "startlinecolor": "rgb(36,36,36)"
            },
            "type": "carpet"
           }
          ],
          "choropleth": [
           {
            "colorbar": {
             "outlinewidth": 1,
             "tickcolor": "rgb(36,36,36)",
             "ticks": "outside"
            },
            "type": "choropleth"
           }
          ],
          "contour": [
           {
            "colorbar": {
             "outlinewidth": 1,
             "tickcolor": "rgb(36,36,36)",
             "ticks": "outside"
            },
            "colorscale": [
             [
              0,
              "#440154"
             ],
             [
              0.1111111111111111,
              "#482878"
             ],
             [
              0.2222222222222222,
              "#3e4989"
             ],
             [
              0.3333333333333333,
              "#31688e"
             ],
             [
              0.4444444444444444,
              "#26828e"
             ],
             [
              0.5555555555555556,
              "#1f9e89"
             ],
             [
              0.6666666666666666,
              "#35b779"
             ],
             [
              0.7777777777777778,
              "#6ece58"
             ],
             [
              0.8888888888888888,
              "#b5de2b"
             ],
             [
              1,
              "#fde725"
             ]
            ],
            "type": "contour"
           }
          ],
          "contourcarpet": [
           {
            "colorbar": {
             "outlinewidth": 1,
             "tickcolor": "rgb(36,36,36)",
             "ticks": "outside"
            },
            "type": "contourcarpet"
           }
          ],
          "heatmap": [
           {
            "colorbar": {
             "outlinewidth": 1,
             "tickcolor": "rgb(36,36,36)",
             "ticks": "outside"
            },
            "colorscale": [
             [
              0,
              "#440154"
             ],
             [
              0.1111111111111111,
              "#482878"
             ],
             [
              0.2222222222222222,
              "#3e4989"
             ],
             [
              0.3333333333333333,
              "#31688e"
             ],
             [
              0.4444444444444444,
              "#26828e"
             ],
             [
              0.5555555555555556,
              "#1f9e89"
             ],
             [
              0.6666666666666666,
              "#35b779"
             ],
             [
              0.7777777777777778,
              "#6ece58"
             ],
             [
              0.8888888888888888,
              "#b5de2b"
             ],
             [
              1,
              "#fde725"
             ]
            ],
            "type": "heatmap"
           }
          ],
          "heatmapgl": [
           {
            "colorbar": {
             "outlinewidth": 1,
             "tickcolor": "rgb(36,36,36)",
             "ticks": "outside"
            },
            "colorscale": [
             [
              0,
              "#440154"
             ],
             [
              0.1111111111111111,
              "#482878"
             ],
             [
              0.2222222222222222,
              "#3e4989"
             ],
             [
              0.3333333333333333,
              "#31688e"
             ],
             [
              0.4444444444444444,
              "#26828e"
             ],
             [
              0.5555555555555556,
              "#1f9e89"
             ],
             [
              0.6666666666666666,
              "#35b779"
             ],
             [
              0.7777777777777778,
              "#6ece58"
             ],
             [
              0.8888888888888888,
              "#b5de2b"
             ],
             [
              1,
              "#fde725"
             ]
            ],
            "type": "heatmapgl"
           }
          ],
          "histogram": [
           {
            "marker": {
             "line": {
              "color": "white",
              "width": 0.6
             }
            },
            "type": "histogram"
           }
          ],
          "histogram2d": [
           {
            "colorbar": {
             "outlinewidth": 1,
             "tickcolor": "rgb(36,36,36)",
             "ticks": "outside"
            },
            "colorscale": [
             [
              0,
              "#440154"
             ],
             [
              0.1111111111111111,
              "#482878"
             ],
             [
              0.2222222222222222,
              "#3e4989"
             ],
             [
              0.3333333333333333,
              "#31688e"
             ],
             [
              0.4444444444444444,
              "#26828e"
             ],
             [
              0.5555555555555556,
              "#1f9e89"
             ],
             [
              0.6666666666666666,
              "#35b779"
             ],
             [
              0.7777777777777778,
              "#6ece58"
             ],
             [
              0.8888888888888888,
              "#b5de2b"
             ],
             [
              1,
              "#fde725"
             ]
            ],
            "type": "histogram2d"
           }
          ],
          "histogram2dcontour": [
           {
            "colorbar": {
             "outlinewidth": 1,
             "tickcolor": "rgb(36,36,36)",
             "ticks": "outside"
            },
            "colorscale": [
             [
              0,
              "#440154"
             ],
             [
              0.1111111111111111,
              "#482878"
             ],
             [
              0.2222222222222222,
              "#3e4989"
             ],
             [
              0.3333333333333333,
              "#31688e"
             ],
             [
              0.4444444444444444,
              "#26828e"
             ],
             [
              0.5555555555555556,
              "#1f9e89"
             ],
             [
              0.6666666666666666,
              "#35b779"
             ],
             [
              0.7777777777777778,
              "#6ece58"
             ],
             [
              0.8888888888888888,
              "#b5de2b"
             ],
             [
              1,
              "#fde725"
             ]
            ],
            "type": "histogram2dcontour"
           }
          ],
          "mesh3d": [
           {
            "colorbar": {
             "outlinewidth": 1,
             "tickcolor": "rgb(36,36,36)",
             "ticks": "outside"
            },
            "type": "mesh3d"
           }
          ],
          "parcoords": [
           {
            "line": {
             "colorbar": {
              "outlinewidth": 1,
              "tickcolor": "rgb(36,36,36)",
              "ticks": "outside"
             }
            },
            "type": "parcoords"
           }
          ],
          "pie": [
           {
            "automargin": true,
            "type": "pie"
           }
          ],
          "scatter": [
           {
            "fillpattern": {
             "fillmode": "overlay",
             "size": 10,
             "solidity": 0.2
            },
            "type": "scatter"
           }
          ],
          "scatter3d": [
           {
            "line": {
             "colorbar": {
              "outlinewidth": 1,
              "tickcolor": "rgb(36,36,36)",
              "ticks": "outside"
             }
            },
            "marker": {
             "colorbar": {
              "outlinewidth": 1,
              "tickcolor": "rgb(36,36,36)",
              "ticks": "outside"
             }
            },
            "type": "scatter3d"
           }
          ],
          "scattercarpet": [
           {
            "marker": {
             "colorbar": {
              "outlinewidth": 1,
              "tickcolor": "rgb(36,36,36)",
              "ticks": "outside"
             }
            },
            "type": "scattercarpet"
           }
          ],
          "scattergeo": [
           {
            "marker": {
             "colorbar": {
              "outlinewidth": 1,
              "tickcolor": "rgb(36,36,36)",
              "ticks": "outside"
             }
            },
            "type": "scattergeo"
           }
          ],
          "scattergl": [
           {
            "marker": {
             "colorbar": {
              "outlinewidth": 1,
              "tickcolor": "rgb(36,36,36)",
              "ticks": "outside"
             }
            },
            "type": "scattergl"
           }
          ],
          "scattermapbox": [
           {
            "marker": {
             "colorbar": {
              "outlinewidth": 1,
              "tickcolor": "rgb(36,36,36)",
              "ticks": "outside"
             }
            },
            "type": "scattermapbox"
           }
          ],
          "scatterpolar": [
           {
            "marker": {
             "colorbar": {
              "outlinewidth": 1,
              "tickcolor": "rgb(36,36,36)",
              "ticks": "outside"
             }
            },
            "type": "scatterpolar"
           }
          ],
          "scatterpolargl": [
           {
            "marker": {
             "colorbar": {
              "outlinewidth": 1,
              "tickcolor": "rgb(36,36,36)",
              "ticks": "outside"
             }
            },
            "type": "scatterpolargl"
           }
          ],
          "scatterternary": [
           {
            "marker": {
             "colorbar": {
              "outlinewidth": 1,
              "tickcolor": "rgb(36,36,36)",
              "ticks": "outside"
             }
            },
            "type": "scatterternary"
           }
          ],
          "surface": [
           {
            "colorbar": {
             "outlinewidth": 1,
             "tickcolor": "rgb(36,36,36)",
             "ticks": "outside"
            },
            "colorscale": [
             [
              0,
              "#440154"
             ],
             [
              0.1111111111111111,
              "#482878"
             ],
             [
              0.2222222222222222,
              "#3e4989"
             ],
             [
              0.3333333333333333,
              "#31688e"
             ],
             [
              0.4444444444444444,
              "#26828e"
             ],
             [
              0.5555555555555556,
              "#1f9e89"
             ],
             [
              0.6666666666666666,
              "#35b779"
             ],
             [
              0.7777777777777778,
              "#6ece58"
             ],
             [
              0.8888888888888888,
              "#b5de2b"
             ],
             [
              1,
              "#fde725"
             ]
            ],
            "type": "surface"
           }
          ],
          "table": [
           {
            "cells": {
             "fill": {
              "color": "rgb(237,237,237)"
             },
             "line": {
              "color": "white"
             }
            },
            "header": {
             "fill": {
              "color": "rgb(217,217,217)"
             },
             "line": {
              "color": "white"
             }
            },
            "type": "table"
           }
          ]
         },
         "layout": {
          "annotationdefaults": {
           "arrowhead": 0,
           "arrowwidth": 1
          },
          "autotypenumbers": "strict",
          "coloraxis": {
           "colorbar": {
            "outlinewidth": 1,
            "tickcolor": "rgb(36,36,36)",
            "ticks": "outside"
           }
          },
          "colorscale": {
           "diverging": [
            [
             0,
             "rgb(103,0,31)"
            ],
            [
             0.1,
             "rgb(178,24,43)"
            ],
            [
             0.2,
             "rgb(214,96,77)"
            ],
            [
             0.3,
             "rgb(244,165,130)"
            ],
            [
             0.4,
             "rgb(253,219,199)"
            ],
            [
             0.5,
             "rgb(247,247,247)"
            ],
            [
             0.6,
             "rgb(209,229,240)"
            ],
            [
             0.7,
             "rgb(146,197,222)"
            ],
            [
             0.8,
             "rgb(67,147,195)"
            ],
            [
             0.9,
             "rgb(33,102,172)"
            ],
            [
             1,
             "rgb(5,48,97)"
            ]
           ],
           "sequential": [
            [
             0,
             "#440154"
            ],
            [
             0.1111111111111111,
             "#482878"
            ],
            [
             0.2222222222222222,
             "#3e4989"
            ],
            [
             0.3333333333333333,
             "#31688e"
            ],
            [
             0.4444444444444444,
             "#26828e"
            ],
            [
             0.5555555555555556,
             "#1f9e89"
            ],
            [
             0.6666666666666666,
             "#35b779"
            ],
            [
             0.7777777777777778,
             "#6ece58"
            ],
            [
             0.8888888888888888,
             "#b5de2b"
            ],
            [
             1,
             "#fde725"
            ]
           ],
           "sequentialminus": [
            [
             0,
             "#440154"
            ],
            [
             0.1111111111111111,
             "#482878"
            ],
            [
             0.2222222222222222,
             "#3e4989"
            ],
            [
             0.3333333333333333,
             "#31688e"
            ],
            [
             0.4444444444444444,
             "#26828e"
            ],
            [
             0.5555555555555556,
             "#1f9e89"
            ],
            [
             0.6666666666666666,
             "#35b779"
            ],
            [
             0.7777777777777778,
             "#6ece58"
            ],
            [
             0.8888888888888888,
             "#b5de2b"
            ],
            [
             1,
             "#fde725"
            ]
           ]
          },
          "colorway": [
           "#1F77B4",
           "#FF7F0E",
           "#2CA02C",
           "#D62728",
           "#9467BD",
           "#8C564B",
           "#E377C2",
           "#7F7F7F",
           "#BCBD22",
           "#17BECF"
          ],
          "font": {
           "color": "rgb(36,36,36)"
          },
          "geo": {
           "bgcolor": "white",
           "lakecolor": "white",
           "landcolor": "white",
           "showlakes": true,
           "showland": true,
           "subunitcolor": "white"
          },
          "hoverlabel": {
           "align": "left"
          },
          "hovermode": "closest",
          "mapbox": {
           "style": "light"
          },
          "paper_bgcolor": "white",
          "plot_bgcolor": "white",
          "polar": {
           "angularaxis": {
            "gridcolor": "rgb(232,232,232)",
            "linecolor": "rgb(36,36,36)",
            "showgrid": false,
            "showline": true,
            "ticks": "outside"
           },
           "bgcolor": "white",
           "radialaxis": {
            "gridcolor": "rgb(232,232,232)",
            "linecolor": "rgb(36,36,36)",
            "showgrid": false,
            "showline": true,
            "ticks": "outside"
           }
          },
          "scene": {
           "xaxis": {
            "backgroundcolor": "white",
            "gridcolor": "rgb(232,232,232)",
            "gridwidth": 2,
            "linecolor": "rgb(36,36,36)",
            "showbackground": true,
            "showgrid": false,
            "showline": true,
            "ticks": "outside",
            "zeroline": false,
            "zerolinecolor": "rgb(36,36,36)"
           },
           "yaxis": {
            "backgroundcolor": "white",
            "gridcolor": "rgb(232,232,232)",
            "gridwidth": 2,
            "linecolor": "rgb(36,36,36)",
            "showbackground": true,
            "showgrid": false,
            "showline": true,
            "ticks": "outside",
            "zeroline": false,
            "zerolinecolor": "rgb(36,36,36)"
           },
           "zaxis": {
            "backgroundcolor": "white",
            "gridcolor": "rgb(232,232,232)",
            "gridwidth": 2,
            "linecolor": "rgb(36,36,36)",
            "showbackground": true,
            "showgrid": false,
            "showline": true,
            "ticks": "outside",
            "zeroline": false,
            "zerolinecolor": "rgb(36,36,36)"
           }
          },
          "shapedefaults": {
           "fillcolor": "black",
           "line": {
            "width": 0
           },
           "opacity": 0.3
          },
          "ternary": {
           "aaxis": {
            "gridcolor": "rgb(232,232,232)",
            "linecolor": "rgb(36,36,36)",
            "showgrid": false,
            "showline": true,
            "ticks": "outside"
           },
           "baxis": {
            "gridcolor": "rgb(232,232,232)",
            "linecolor": "rgb(36,36,36)",
            "showgrid": false,
            "showline": true,
            "ticks": "outside"
           },
           "bgcolor": "white",
           "caxis": {
            "gridcolor": "rgb(232,232,232)",
            "linecolor": "rgb(36,36,36)",
            "showgrid": false,
            "showline": true,
            "ticks": "outside"
           }
          },
          "title": {
           "x": 0.05
          },
          "xaxis": {
           "automargin": true,
           "gridcolor": "rgb(232,232,232)",
           "linecolor": "rgb(36,36,36)",
           "showgrid": false,
           "showline": true,
           "ticks": "outside",
           "title": {
            "standoff": 15
           },
           "zeroline": false,
           "zerolinecolor": "rgb(36,36,36)"
          },
          "yaxis": {
           "automargin": true,
           "gridcolor": "rgb(232,232,232)",
           "linecolor": "rgb(36,36,36)",
           "showgrid": false,
           "showline": true,
           "ticks": "outside",
           "title": {
            "standoff": 15
           },
           "zeroline": false,
           "zerolinecolor": "rgb(36,36,36)"
          }
         }
        },
        "title": {
         "font": {
          "color": "Black",
          "size": 22
         },
         "text": "<b>Intertopic Distance Map</b>",
         "x": 0.5,
         "xanchor": "center",
         "y": 0.95,
         "yanchor": "top"
        },
        "width": 650,
        "xaxis": {
         "anchor": "y",
         "domain": [
          0,
          1
         ],
         "range": [
          -3.9117400646209717,
          11.521740388870239
         ],
         "title": {
          "text": ""
         },
         "visible": false
        },
        "yaxis": {
         "anchor": "x",
         "domain": [
          0,
          1
         ],
         "range": [
          -1.8536121726036072,
          17.727263116836546
         ],
         "title": {
          "text": ""
         },
         "visible": false
        }
       }
      }
     },
     "metadata": {},
     "output_type": "display_data"
    }
   ],
   "source": [
    "model.visualize_topics() #Visualize topics (similar to LDA visualization representation)"
   ]
  },
  {
   "cell_type": "code",
   "execution_count": 28,
   "metadata": {},
   "outputs": [
    {
     "data": {
      "application/vnd.plotly.v1+json": {
       "config": {
        "plotlyServerURL": "https://plot.ly"
       },
       "data": [
        {
         "hoverinfo": "text",
         "marker": {
          "color": "rgb(61,153,112)"
         },
         "mode": "lines",
         "type": "scatter",
         "x": [
          0,
          0.7354711555475212,
          0.7354711555475212,
          0
         ],
         "xaxis": "x",
         "y": [
          -15,
          -15,
          -25,
          -25
         ],
         "yaxis": "y"
        },
        {
         "hoverinfo": "text",
         "marker": {
          "color": "rgb(61,153,112)"
         },
         "mode": "lines",
         "type": "scatter",
         "x": [
          0,
          0.7983578475895684,
          0.7983578475895684,
          0.7354711555475212
         ],
         "xaxis": "x",
         "y": [
          -5,
          -5,
          -20,
          -20
         ],
         "yaxis": "y"
        },
        {
         "hoverinfo": "text",
         "marker": {
          "color": "rgb(255,65,54)"
         },
         "mode": "lines",
         "type": "scatter",
         "x": [
          0,
          0.9019706871707918,
          0.9019706871707918,
          0
         ],
         "xaxis": "x",
         "y": [
          -35,
          -35,
          -45,
          -45
         ],
         "yaxis": "y"
        },
        {
         "hoverinfo": "text",
         "marker": {
          "color": "rgb(0,116,217)"
         },
         "mode": "lines",
         "type": "scatter",
         "x": [
          0.7983578475895684,
          1.0691772865808575,
          1.0691772865808575,
          0.9019706871707918
         ],
         "xaxis": "x",
         "y": [
          -12.5,
          -12.5,
          -40,
          -40
         ],
         "yaxis": "y"
        }
       ],
       "layout": {
        "autosize": false,
        "height": 275,
        "hoverlabel": {
         "bgcolor": "white",
         "font": {
          "family": "Rockwell",
          "size": 16
         }
        },
        "hovermode": "closest",
        "plot_bgcolor": "#ECEFF1",
        "showlegend": false,
        "template": {
         "data": {
          "bar": [
           {
            "error_x": {
             "color": "#2a3f5f"
            },
            "error_y": {
             "color": "#2a3f5f"
            },
            "marker": {
             "line": {
              "color": "white",
              "width": 0.5
             },
             "pattern": {
              "fillmode": "overlay",
              "size": 10,
              "solidity": 0.2
             }
            },
            "type": "bar"
           }
          ],
          "barpolar": [
           {
            "marker": {
             "line": {
              "color": "white",
              "width": 0.5
             },
             "pattern": {
              "fillmode": "overlay",
              "size": 10,
              "solidity": 0.2
             }
            },
            "type": "barpolar"
           }
          ],
          "carpet": [
           {
            "aaxis": {
             "endlinecolor": "#2a3f5f",
             "gridcolor": "#C8D4E3",
             "linecolor": "#C8D4E3",
             "minorgridcolor": "#C8D4E3",
             "startlinecolor": "#2a3f5f"
            },
            "baxis": {
             "endlinecolor": "#2a3f5f",
             "gridcolor": "#C8D4E3",
             "linecolor": "#C8D4E3",
             "minorgridcolor": "#C8D4E3",
             "startlinecolor": "#2a3f5f"
            },
            "type": "carpet"
           }
          ],
          "choropleth": [
           {
            "colorbar": {
             "outlinewidth": 0,
             "ticks": ""
            },
            "type": "choropleth"
           }
          ],
          "contour": [
           {
            "colorbar": {
             "outlinewidth": 0,
             "ticks": ""
            },
            "colorscale": [
             [
              0,
              "#0d0887"
             ],
             [
              0.1111111111111111,
              "#46039f"
             ],
             [
              0.2222222222222222,
              "#7201a8"
             ],
             [
              0.3333333333333333,
              "#9c179e"
             ],
             [
              0.4444444444444444,
              "#bd3786"
             ],
             [
              0.5555555555555556,
              "#d8576b"
             ],
             [
              0.6666666666666666,
              "#ed7953"
             ],
             [
              0.7777777777777778,
              "#fb9f3a"
             ],
             [
              0.8888888888888888,
              "#fdca26"
             ],
             [
              1,
              "#f0f921"
             ]
            ],
            "type": "contour"
           }
          ],
          "contourcarpet": [
           {
            "colorbar": {
             "outlinewidth": 0,
             "ticks": ""
            },
            "type": "contourcarpet"
           }
          ],
          "heatmap": [
           {
            "colorbar": {
             "outlinewidth": 0,
             "ticks": ""
            },
            "colorscale": [
             [
              0,
              "#0d0887"
             ],
             [
              0.1111111111111111,
              "#46039f"
             ],
             [
              0.2222222222222222,
              "#7201a8"
             ],
             [
              0.3333333333333333,
              "#9c179e"
             ],
             [
              0.4444444444444444,
              "#bd3786"
             ],
             [
              0.5555555555555556,
              "#d8576b"
             ],
             [
              0.6666666666666666,
              "#ed7953"
             ],
             [
              0.7777777777777778,
              "#fb9f3a"
             ],
             [
              0.8888888888888888,
              "#fdca26"
             ],
             [
              1,
              "#f0f921"
             ]
            ],
            "type": "heatmap"
           }
          ],
          "heatmapgl": [
           {
            "colorbar": {
             "outlinewidth": 0,
             "ticks": ""
            },
            "colorscale": [
             [
              0,
              "#0d0887"
             ],
             [
              0.1111111111111111,
              "#46039f"
             ],
             [
              0.2222222222222222,
              "#7201a8"
             ],
             [
              0.3333333333333333,
              "#9c179e"
             ],
             [
              0.4444444444444444,
              "#bd3786"
             ],
             [
              0.5555555555555556,
              "#d8576b"
             ],
             [
              0.6666666666666666,
              "#ed7953"
             ],
             [
              0.7777777777777778,
              "#fb9f3a"
             ],
             [
              0.8888888888888888,
              "#fdca26"
             ],
             [
              1,
              "#f0f921"
             ]
            ],
            "type": "heatmapgl"
           }
          ],
          "histogram": [
           {
            "marker": {
             "pattern": {
              "fillmode": "overlay",
              "size": 10,
              "solidity": 0.2
             }
            },
            "type": "histogram"
           }
          ],
          "histogram2d": [
           {
            "colorbar": {
             "outlinewidth": 0,
             "ticks": ""
            },
            "colorscale": [
             [
              0,
              "#0d0887"
             ],
             [
              0.1111111111111111,
              "#46039f"
             ],
             [
              0.2222222222222222,
              "#7201a8"
             ],
             [
              0.3333333333333333,
              "#9c179e"
             ],
             [
              0.4444444444444444,
              "#bd3786"
             ],
             [
              0.5555555555555556,
              "#d8576b"
             ],
             [
              0.6666666666666666,
              "#ed7953"
             ],
             [
              0.7777777777777778,
              "#fb9f3a"
             ],
             [
              0.8888888888888888,
              "#fdca26"
             ],
             [
              1,
              "#f0f921"
             ]
            ],
            "type": "histogram2d"
           }
          ],
          "histogram2dcontour": [
           {
            "colorbar": {
             "outlinewidth": 0,
             "ticks": ""
            },
            "colorscale": [
             [
              0,
              "#0d0887"
             ],
             [
              0.1111111111111111,
              "#46039f"
             ],
             [
              0.2222222222222222,
              "#7201a8"
             ],
             [
              0.3333333333333333,
              "#9c179e"
             ],
             [
              0.4444444444444444,
              "#bd3786"
             ],
             [
              0.5555555555555556,
              "#d8576b"
             ],
             [
              0.6666666666666666,
              "#ed7953"
             ],
             [
              0.7777777777777778,
              "#fb9f3a"
             ],
             [
              0.8888888888888888,
              "#fdca26"
             ],
             [
              1,
              "#f0f921"
             ]
            ],
            "type": "histogram2dcontour"
           }
          ],
          "mesh3d": [
           {
            "colorbar": {
             "outlinewidth": 0,
             "ticks": ""
            },
            "type": "mesh3d"
           }
          ],
          "parcoords": [
           {
            "line": {
             "colorbar": {
              "outlinewidth": 0,
              "ticks": ""
             }
            },
            "type": "parcoords"
           }
          ],
          "pie": [
           {
            "automargin": true,
            "type": "pie"
           }
          ],
          "scatter": [
           {
            "fillpattern": {
             "fillmode": "overlay",
             "size": 10,
             "solidity": 0.2
            },
            "type": "scatter"
           }
          ],
          "scatter3d": [
           {
            "line": {
             "colorbar": {
              "outlinewidth": 0,
              "ticks": ""
             }
            },
            "marker": {
             "colorbar": {
              "outlinewidth": 0,
              "ticks": ""
             }
            },
            "type": "scatter3d"
           }
          ],
          "scattercarpet": [
           {
            "marker": {
             "colorbar": {
              "outlinewidth": 0,
              "ticks": ""
             }
            },
            "type": "scattercarpet"
           }
          ],
          "scattergeo": [
           {
            "marker": {
             "colorbar": {
              "outlinewidth": 0,
              "ticks": ""
             }
            },
            "type": "scattergeo"
           }
          ],
          "scattergl": [
           {
            "marker": {
             "colorbar": {
              "outlinewidth": 0,
              "ticks": ""
             }
            },
            "type": "scattergl"
           }
          ],
          "scattermapbox": [
           {
            "marker": {
             "colorbar": {
              "outlinewidth": 0,
              "ticks": ""
             }
            },
            "type": "scattermapbox"
           }
          ],
          "scatterpolar": [
           {
            "marker": {
             "colorbar": {
              "outlinewidth": 0,
              "ticks": ""
             }
            },
            "type": "scatterpolar"
           }
          ],
          "scatterpolargl": [
           {
            "marker": {
             "colorbar": {
              "outlinewidth": 0,
              "ticks": ""
             }
            },
            "type": "scatterpolargl"
           }
          ],
          "scatterternary": [
           {
            "marker": {
             "colorbar": {
              "outlinewidth": 0,
              "ticks": ""
             }
            },
            "type": "scatterternary"
           }
          ],
          "surface": [
           {
            "colorbar": {
             "outlinewidth": 0,
             "ticks": ""
            },
            "colorscale": [
             [
              0,
              "#0d0887"
             ],
             [
              0.1111111111111111,
              "#46039f"
             ],
             [
              0.2222222222222222,
              "#7201a8"
             ],
             [
              0.3333333333333333,
              "#9c179e"
             ],
             [
              0.4444444444444444,
              "#bd3786"
             ],
             [
              0.5555555555555556,
              "#d8576b"
             ],
             [
              0.6666666666666666,
              "#ed7953"
             ],
             [
              0.7777777777777778,
              "#fb9f3a"
             ],
             [
              0.8888888888888888,
              "#fdca26"
             ],
             [
              1,
              "#f0f921"
             ]
            ],
            "type": "surface"
           }
          ],
          "table": [
           {
            "cells": {
             "fill": {
              "color": "#EBF0F8"
             },
             "line": {
              "color": "white"
             }
            },
            "header": {
             "fill": {
              "color": "#C8D4E3"
             },
             "line": {
              "color": "white"
             }
            },
            "type": "table"
           }
          ]
         },
         "layout": {
          "annotationdefaults": {
           "arrowcolor": "#2a3f5f",
           "arrowhead": 0,
           "arrowwidth": 1
          },
          "autotypenumbers": "strict",
          "coloraxis": {
           "colorbar": {
            "outlinewidth": 0,
            "ticks": ""
           }
          },
          "colorscale": {
           "diverging": [
            [
             0,
             "#8e0152"
            ],
            [
             0.1,
             "#c51b7d"
            ],
            [
             0.2,
             "#de77ae"
            ],
            [
             0.3,
             "#f1b6da"
            ],
            [
             0.4,
             "#fde0ef"
            ],
            [
             0.5,
             "#f7f7f7"
            ],
            [
             0.6,
             "#e6f5d0"
            ],
            [
             0.7,
             "#b8e186"
            ],
            [
             0.8,
             "#7fbc41"
            ],
            [
             0.9,
             "#4d9221"
            ],
            [
             1,
             "#276419"
            ]
           ],
           "sequential": [
            [
             0,
             "#0d0887"
            ],
            [
             0.1111111111111111,
             "#46039f"
            ],
            [
             0.2222222222222222,
             "#7201a8"
            ],
            [
             0.3333333333333333,
             "#9c179e"
            ],
            [
             0.4444444444444444,
             "#bd3786"
            ],
            [
             0.5555555555555556,
             "#d8576b"
            ],
            [
             0.6666666666666666,
             "#ed7953"
            ],
            [
             0.7777777777777778,
             "#fb9f3a"
            ],
            [
             0.8888888888888888,
             "#fdca26"
            ],
            [
             1,
             "#f0f921"
            ]
           ],
           "sequentialminus": [
            [
             0,
             "#0d0887"
            ],
            [
             0.1111111111111111,
             "#46039f"
            ],
            [
             0.2222222222222222,
             "#7201a8"
            ],
            [
             0.3333333333333333,
             "#9c179e"
            ],
            [
             0.4444444444444444,
             "#bd3786"
            ],
            [
             0.5555555555555556,
             "#d8576b"
            ],
            [
             0.6666666666666666,
             "#ed7953"
            ],
            [
             0.7777777777777778,
             "#fb9f3a"
            ],
            [
             0.8888888888888888,
             "#fdca26"
            ],
            [
             1,
             "#f0f921"
            ]
           ]
          },
          "colorway": [
           "#636efa",
           "#EF553B",
           "#00cc96",
           "#ab63fa",
           "#FFA15A",
           "#19d3f3",
           "#FF6692",
           "#B6E880",
           "#FF97FF",
           "#FECB52"
          ],
          "font": {
           "color": "#2a3f5f"
          },
          "geo": {
           "bgcolor": "white",
           "lakecolor": "white",
           "landcolor": "white",
           "showlakes": true,
           "showland": true,
           "subunitcolor": "#C8D4E3"
          },
          "hoverlabel": {
           "align": "left"
          },
          "hovermode": "closest",
          "mapbox": {
           "style": "light"
          },
          "paper_bgcolor": "white",
          "plot_bgcolor": "white",
          "polar": {
           "angularaxis": {
            "gridcolor": "#EBF0F8",
            "linecolor": "#EBF0F8",
            "ticks": ""
           },
           "bgcolor": "white",
           "radialaxis": {
            "gridcolor": "#EBF0F8",
            "linecolor": "#EBF0F8",
            "ticks": ""
           }
          },
          "scene": {
           "xaxis": {
            "backgroundcolor": "white",
            "gridcolor": "#DFE8F3",
            "gridwidth": 2,
            "linecolor": "#EBF0F8",
            "showbackground": true,
            "ticks": "",
            "zerolinecolor": "#EBF0F8"
           },
           "yaxis": {
            "backgroundcolor": "white",
            "gridcolor": "#DFE8F3",
            "gridwidth": 2,
            "linecolor": "#EBF0F8",
            "showbackground": true,
            "ticks": "",
            "zerolinecolor": "#EBF0F8"
           },
           "zaxis": {
            "backgroundcolor": "white",
            "gridcolor": "#DFE8F3",
            "gridwidth": 2,
            "linecolor": "#EBF0F8",
            "showbackground": true,
            "ticks": "",
            "zerolinecolor": "#EBF0F8"
           }
          },
          "shapedefaults": {
           "line": {
            "color": "#2a3f5f"
           }
          },
          "ternary": {
           "aaxis": {
            "gridcolor": "#DFE8F3",
            "linecolor": "#A2B1C6",
            "ticks": ""
           },
           "baxis": {
            "gridcolor": "#DFE8F3",
            "linecolor": "#A2B1C6",
            "ticks": ""
           },
           "bgcolor": "white",
           "caxis": {
            "gridcolor": "#DFE8F3",
            "linecolor": "#A2B1C6",
            "ticks": ""
           }
          },
          "title": {
           "x": 0.05
          },
          "xaxis": {
           "automargin": true,
           "gridcolor": "#EBF0F8",
           "linecolor": "#EBF0F8",
           "ticks": "",
           "title": {
            "standoff": 15
           },
           "zerolinecolor": "#EBF0F8",
           "zerolinewidth": 2
          },
          "yaxis": {
           "automargin": true,
           "gridcolor": "#EBF0F8",
           "linecolor": "#EBF0F8",
           "ticks": "",
           "title": {
            "standoff": 15
           },
           "zerolinecolor": "#EBF0F8",
           "zerolinewidth": 2
          }
         }
        },
        "title": {
         "font": {
          "color": "Black",
          "size": 22
         },
         "text": "<b>Hierarchical Clustering</b>",
         "x": 0.5,
         "xanchor": "center",
         "yanchor": "top"
        },
        "width": 1000,
        "xaxis": {
         "mirror": "allticks",
         "rangemode": "tozero",
         "showgrid": false,
         "showline": true,
         "showticklabels": true,
         "ticks": "outside",
         "type": "linear",
         "zeroline": false
        },
        "yaxis": {
         "mirror": "allticks",
         "range": [
          -50,
          0
         ],
         "rangemode": "tozero",
         "showgrid": false,
         "showline": true,
         "showticklabels": true,
         "tickmode": "array",
         "ticks": "outside",
         "ticktext": [
          "2_thoughts_brain_dreaming",
          "0_saw_colours_shapes",
          "1_music_journey_time",
          "3_interesting_curiosity_rel...",
          "4_peace_calm_peaceful"
         ],
         "tickvals": [
          -5,
          -15,
          -25,
          -35,
          -45
         ],
         "type": "linear",
         "zeroline": false
        }
       }
      }
     },
     "metadata": {},
     "output_type": "display_data"
    }
   ],
   "source": [
    "model.visualize_hierarchy(top_n_topics=10)"
   ]
  },
  {
   "attachments": {},
   "cell_type": "markdown",
   "metadata": {},
   "source": [
    "### Get the top 3 topics"
   ]
  },
  {
   "cell_type": "code",
   "execution_count": 29,
   "metadata": {},
   "outputs": [
    {
     "data": {
      "text/plain": [
       "([-1, 1, 3, 2, 0], [0.44262207, 0.40199786, 0.3815064, 0.34179544, 0.28037578])"
      ]
     },
     "execution_count": 29,
     "metadata": {},
     "output_type": "execute_result"
    }
   ],
   "source": [
    "similarities = model.find_topics(\"lsd\") #Find topics similar to the word \"lsd\"\n",
    "similarities"
   ]
  },
  {
   "cell_type": "code",
   "execution_count": 30,
   "metadata": {},
   "outputs": [
    {
     "name": "stdout",
     "output_type": "stream",
     "text": [
      "[2, -1, 0]\n",
      "2\n",
      "Similarity score:  0.5000627\n",
      "Most similar topic:  [('thoughts', 0.13086534757066035), ('brain', 0.06117628256150326), ('dreaming', 0.05684832376663749), ('thought', 0.05211227214308548), ('mind', 0.04229675480803547), ('asleep', 0.041072442287712535), ('think', 0.03861015664542868), ('people', 0.03384619084504801), ('feeling', 0.03384619084504801), ('real', 0.03368037127971965)]\n"
     ]
    }
   ],
   "source": [
    "# Select the 3 most similar topics\n",
    "similar_topics, similarity = model.find_topics(\"hallucination\", top_n=3) #Find the 5 most similar topics to the word \"lsd\"\n",
    "print(similar_topics) #Print the 3 most similar topics : index from the most similar to the least similar\n",
    "\n",
    "\n",
    "most_similar_topics = similar_topics[0] #Get the most similar topic\n",
    "print(most_similar_topics) #Print the most similar topic\n",
    "print(\"Similarity score: \", similarity[0]) #Print the similarity score\n",
    "print(\"Most similar topic: \", model.get_topic(most_similar_topics)) #Print the most similar topic"
   ]
  },
  {
   "cell_type": "code",
   "execution_count": 31,
   "metadata": {},
   "outputs": [],
   "source": [
    "# %%bash\n",
    "# mkdir -p ~/projects/TopicModelling_META/TopMod_pipeline/BERT_outputs"
   ]
  },
  {
   "cell_type": "code",
   "execution_count": 32,
   "metadata": {},
   "outputs": [],
   "source": [
    "\n",
    "\n",
    "# BERT_model_name = f\"BERT_model_{condition}\"\n",
    "# model.save(os.path.join(\"BERT_outputs\",BERT_model_name)) #Save model\n",
    "\n",
    "# BERT_model = BERTopic.load(BERT_model_name)\n",
    "# BERT_model"
   ]
  }
 ],
 "metadata": {
  "kernelspec": {
   "display_name": "topmodvenv",
   "language": "python",
   "name": "python3"
  },
  "language_info": {
   "codemirror_mode": {
    "name": "ipython",
    "version": 3
   },
   "file_extension": ".py",
   "mimetype": "text/x-python",
   "name": "python",
   "nbconvert_exporter": "python",
   "pygments_lexer": "ipython3",
   "version": "3.11.3"
  },
  "orig_nbformat": 4
 },
 "nbformat": 4,
 "nbformat_minor": 2
}
