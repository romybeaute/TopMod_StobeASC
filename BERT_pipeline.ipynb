{
 "cells": [
  {
   "cell_type": "code",
   "execution_count": 131,
   "metadata": {},
   "outputs": [
    {
     "data": {
      "text/html": [
       "<div>\n",
       "<style scoped>\n",
       "    .dataframe tbody tr th:only-of-type {\n",
       "        vertical-align: middle;\n",
       "    }\n",
       "\n",
       "    .dataframe tbody tr th {\n",
       "        vertical-align: top;\n",
       "    }\n",
       "\n",
       "    .dataframe thead th {\n",
       "        text-align: right;\n",
       "    }\n",
       "</style>\n",
       "<table border=\"1\" class=\"dataframe\">\n",
       "  <thead>\n",
       "    <tr style=\"text-align: right;\">\n",
       "      <th></th>\n",
       "      <th>text</th>\n",
       "    </tr>\n",
       "  </thead>\n",
       "  <tbody>\n",
       "    <tr>\n",
       "      <th>0</th>\n",
       "      <td>the colours made patterns when i had my eyes c...</td>\n",
       "    </tr>\n",
       "    <tr>\n",
       "      <th>1</th>\n",
       "      <td>Intense chaos. And then my mind checked out an...</td>\n",
       "    </tr>\n",
       "    <tr>\n",
       "      <th>2</th>\n",
       "      <td>good stuff.\\r\\n</td>\n",
       "    </tr>\n",
       "    <tr>\n",
       "      <th>3</th>\n",
       "      <td>a pattern of red and white lights thatflashed ...</td>\n",
       "    </tr>\n",
       "    <tr>\n",
       "      <th>4</th>\n",
       "      <td>i wentback to many hard and mostly beautiful m...</td>\n",
       "    </tr>\n",
       "  </tbody>\n",
       "</table>\n",
       "</div>"
      ],
      "text/plain": [
       "                                                text\n",
       "0  the colours made patterns when i had my eyes c...\n",
       "1  Intense chaos. And then my mind checked out an...\n",
       "2                                    good stuff.\\r\\n\n",
       "3  a pattern of red and white lights thatflashed ...\n",
       "4  i wentback to many hard and mostly beautiful m..."
      ]
     },
     "execution_count": 131,
     "metadata": {},
     "output_type": "execute_result"
    }
   ],
   "source": [
    "import pandas as pd\n",
    "import os \n",
    "from pathlib import Path\n",
    "from bertopic import BERTopic\n",
    "import re \n",
    "from nltk.corpus import stopwords\n",
    "\n",
    "\n",
    "\n",
    "# 1. Load data\n",
    "condition = \"Dreamachine\"\n",
    "remove_stopwords = True\n",
    "extended_stopwords = True\n",
    "\n",
    "metaproject_name = 'TopicModelling_META'\n",
    "subproject_name = 'TopMod_pipeline'\n",
    "dataset_name = f'{condition}_dataset.csv'\n",
    "\n",
    "\n",
    "PROJDIR = os.path.expanduser(f\"~/projects/{metaproject_name}\")\n",
    "DATADIR = os.path.join(PROJDIR,f'DATA/{dataset_name}')\n",
    "CODEDIR = os.path.join(PROJDIR,f'{subproject_name}')\n",
    "\n",
    "reports = pd.read_csv(DATADIR,usecols=['text']).dropna()\n",
    "reports.head()\n"
   ]
  },
  {
   "cell_type": "code",
   "execution_count": 132,
   "metadata": {},
   "outputs": [
    {
     "data": {
      "text/plain": [
       "377"
      ]
     },
     "execution_count": 132,
     "metadata": {},
     "output_type": "execute_result"
    }
   ],
   "source": [
    "len(reports)"
   ]
  },
  {
   "cell_type": "code",
   "execution_count": 133,
   "metadata": {},
   "outputs": [
    {
     "data": {
      "text/plain": [
       "0    the colours made patterns when i had my eyes c...\n",
       "1    intense chaos and then my mind checked out and...\n",
       "2                                       good stuff\\r\\n\n",
       "3    a pattern of red and white lights thatflashed ...\n",
       "4    i wentback to many hard and mostly beautiful m...\n",
       "Name: text_processed, dtype: object"
      ]
     },
     "execution_count": 133,
     "metadata": {},
     "output_type": "execute_result"
    }
   ],
   "source": [
    "# Remove punctuation\n",
    "def process_text(x):\n",
    "    if isinstance(x, str):  # check if x is of type string\n",
    "        x = re.sub('[,\\.!?;]', '', x)  # if it is, do the replacement\n",
    "        x = re.sub('^[0-9]+', '', x)  # remove initial numbers\n",
    "        return x.lower()\n",
    "    else:\n",
    "        return \"\"  # otherwise, return an empty string or you can convert it to string by using `return str(x)`\n",
    "\n",
    "reports['text_processed'] = reports['text'].map(process_text)\n",
    "\n",
    "# Convert the titles to lowercase\n",
    "reports['text_processed'] = reports['text_processed'].map(lambda x: x.lower())\n",
    "\n",
    "# Print out the first rows of papers\n",
    "reports['text_processed'].head()"
   ]
  },
  {
   "cell_type": "code",
   "execution_count": 177,
   "metadata": {},
   "outputs": [
    {
     "name": "stdout",
     "output_type": "stream",
     "text": [
      "179\n",
      "187\n",
      "Removing stopwords\n"
     ]
    }
   ],
   "source": [
    "from nltk.corpus import stopwords\n",
    "stop_words = stopwords.words('english')\n",
    "print(len(stop_words))\n",
    "\n",
    "extended_stopwords_list = ['dreamachine','machine','end','felt','experience','like','first','anxiety']\n",
    "if extended_stopwords:\n",
    "    stop_words.extend(extended_stopwords_list)\n",
    "    print(len(stop_words))\n",
    "\n",
    "reports['text_without_stopwords'] = reports['text_processed'].apply(lambda x: ' '.join([word for word in x.split() if word not in (stop_words)]))\n",
    "\n",
    "if remove_stopwords:\n",
    "    print('Removing stopwords')\n",
    "    reports['text_processed'] = reports['text_without_stopwords']"
   ]
  },
  {
   "cell_type": "code",
   "execution_count": 178,
   "metadata": {},
   "outputs": [
    {
     "name": "stdout",
     "output_type": "stream",
     "text": [
      "count    377.000000\n",
      "mean      11.021220\n",
      "std       10.453777\n",
      "min        1.000000\n",
      "25%        4.000000\n",
      "50%        8.000000\n",
      "75%       15.000000\n",
      "max       67.000000\n",
      "Name: report_length, dtype: float64\n",
      "The mean report length is 11 words.\n",
      "The longest report has 67 words.\n"
     ]
    },
    {
     "data": {
      "image/png": "[encoded data removed]",
      "text/plain": [
       "<Figure size 640x480 with 1 Axes>"
      ]
     },
     "metadata": {},
     "output_type": "display_data"
    }
   ],
   "source": [
    "reports[\"report_length\"] = reports[\"text_processed\"].apply(lambda x: len(x.split(\" \")))   # count words in each report\n",
    "\n",
    "#Visualize the distribution of report lengths\n",
    "import matplotlib.pyplot as plt\n",
    "import seaborn as sns\n",
    "sns.set_style('whitegrid')\n",
    "get_ipython().run_line_magic('matplotlib', 'inline')\n",
    "sns.distplot(reports['report_length'], kde=False, color='blue', bins=100)\n",
    "\n",
    "print(reports['report_length'].describe())\n",
    "print(\"The mean report length is {} words.\".format(round(reports['report_length'].mean())))\n",
    "print(\"The longest report has {} words.\".format(max(reports['report_length'])))"
   ]
  },
  {
   "attachments": {},
   "cell_type": "markdown",
   "metadata": {},
   "source": [
    "## BERTopic\n",
    "\n",
    "https://miro.medium.com/v2/resize:fit:4800/format:webp/0*DxAqCqx6dzg0KQlg.png"
   ]
  },
  {
   "attachments": {},
   "cell_type": "markdown",
   "metadata": {},
   "source": [
    "### Training the BERT model"
   ]
  },
  {
   "cell_type": "code",
   "execution_count": 179,
   "metadata": {},
   "outputs": [
    {
     "data": {
      "application/vnd.jupyter.widget-view+json": {
       "model_id": "a4422088ea884027bbcbcdcff8d588d8",
       "version_major": 2,
       "version_minor": 0
      },
      "text/plain": [
       "Batches:   0%|          | 0/12 [00:00<?, ?it/s]"
      ]
     },
     "metadata": {},
     "output_type": "display_data"
    },
    {
     "name": "stderr",
     "output_type": "stream",
     "text": [
      "2023-07-16 16:58:32,534 - BERTopic - Transformed documents to Embeddings\n",
      "2023-07-16 16:58:33,683 - BERTopic - Reduced dimensionality\n",
      "2023-07-16 16:58:33,692 - BERTopic - Clustered reduced embeddings\n"
     ]
    },
    {
     "data": {
      "application/vnd.plotly.v1+json": {
       "config": {
        "plotlyServerURL": "https://plot.ly"
       },
       "data": [
        {
         "customdata": [
          [
           0,
           "saw | colours | shapes | moving | space",
           127
          ],
          [
           1,
           "calm | peace | relaxed | joy | relaxing",
           55
          ],
          [
           2,
           "music | journey | time | much | calming",
           34
          ],
          [
           3,
           "thoughts | people | mind | thought | brain",
           30
          ]
         ],
         "hovertemplate": "<b>Topic %{customdata[0]}</b><br>%{customdata[1]}<br>Size: %{customdata[2]}",
         "legendgroup": "",
         "marker": {
          "color": "#B0BEC5",
          "line": {
           "color": "DarkSlateGrey",
           "width": 2
          },
          "size": [
           127,
           55,
           34,
           30
          ],
          "sizemode": "area",
          "sizeref": 0.079375,
          "symbol": "circle"
         },
         "mode": "markers",
         "name": "",
         "orientation": "v",
         "showlegend": false,
         "type": "scatter",
         "x": [
          10.343957901000977,
          9.118440628051758,
          8.967367172241211,
          9.512979507446289
         ],
         "xaxis": "x",
         "y": [
          15.577096939086914,
          17.183073043823242,
          16.373056411743164,
          15.556392669677734
         ],
         "yaxis": "y"
        }
       ],
       "layout": {
        "annotations": [
         {
          "showarrow": false,
          "text": "D1",
          "x": 7.622262096405029,
          "y": 16.491733884811403,
          "yshift": 10
         },
         {
          "showarrow": false,
          "text": "D2",
          "x": 9.758906841278076,
          "xshift": 10,
          "y": 19.760534000396728
         }
        ],
        "height": 650,
        "hoverlabel": {
         "bgcolor": "white",
         "font": {
          "family": "Rockwell",
          "size": 16
         }
        },
        "legend": {
         "itemsizing": "constant",
         "tracegroupgap": 0
        },
        "margin": {
         "t": 60
        },
        "shapes": [
         {
          "line": {
           "color": "#CFD8DC",
           "width": 2
          },
          "type": "line",
          "x0": 9.758906841278076,
          "x1": 9.758906841278076,
          "y0": 13.222933769226074,
          "y1": 19.760534000396728
         },
         {
          "line": {
           "color": "#9E9E9E",
           "width": 2
          },
          "type": "line",
          "x0": 7.622262096405029,
          "x1": 11.895551586151123,
          "y0": 16.491733884811403,
          "y1": 16.491733884811403
         }
        ],
        "sliders": [
         {
          "active": 0,
          "pad": {
           "t": 50
          },
          "steps": [
           {
            "args": [
             {
              "marker.color": [
               [
                "red",
                "#B0BEC5",
                "#B0BEC5",
                "#B0BEC5"
               ]
              ]
             }
            ],
            "label": "Topic 0",
            "method": "update"
           },
           {
            "args": [
             {
              "marker.color": [
               [
                "#B0BEC5",
                "red",
                "#B0BEC5",
                "#B0BEC5"
               ]
              ]
             }
            ],
            "label": "Topic 1",
            "method": "update"
           },
           {
            "args": [
             {
              "marker.color": [
               [
                "#B0BEC5",
                "#B0BEC5",
                "red",
                "#B0BEC5"
               ]
              ]
             }
            ],
            "label": "Topic 2",
            "method": "update"
           },
           {
            "args": [
             {
              "marker.color": [
               [
                "#B0BEC5",
                "#B0BEC5",
                "#B0BEC5",
                "red"
               ]
              ]
             }
            ],
            "label": "Topic 3",
            "method": "update"
           }
          ]
         }
        ],
        "template": {
         "data": {
          "bar": [
           {
            "error_x": {
             "color": "rgb(36,36,36)"
            },
            "error_y": {
             "color": "rgb(36,36,36)"
            },
            "marker": {
             "line": {
              "color": "white",
              "width": 0.5
             },
             "pattern": {
              "fillmode": "overlay",
              "size": 10,
              "solidity": 0.2
             }
            },
            "type": "bar"
           }
          ],
          "barpolar": [
           {
            "marker": {
             "line": {
              "color": "white",
              "width": 0.5
             },
             "pattern": {
              "fillmode": "overlay",
              "size": 10,
              "solidity": 0.2
             }
            },
            "type": "barpolar"
           }
          ],
          "carpet": [
           {
            "aaxis": {
             "endlinecolor": "rgb(36,36,36)",
             "gridcolor": "white",
             "linecolor": "white",
             "minorgridcolor": "white",
             "startlinecolor": "rgb(36,36,36)"
            },
            "baxis": {
             "endlinecolor": "rgb(36,36,36)",
             "gridcolor": "white",
             "linecolor": "white",
             "minorgridcolor": "white",
             "startlinecolor": "rgb(36,36,36)"
            },
            "type": "carpet"
           }
          ],
          "choropleth": [
           {
            "colorbar": {
             "outlinewidth": 1,
             "tickcolor": "rgb(36,36,36)",
             "ticks": "outside"
            },
            "type": "choropleth"
           }
          ],
          "contour": [
           {
            "colorbar": {
             "outlinewidth": 1,
             "tickcolor": "rgb(36,36,36)",
             "ticks": "outside"
            },
            "colorscale": [
             [
              0,
              "#440154"
             ],
             [
              0.1111111111111111,
              "#482878"
             ],
             [
              0.2222222222222222,
              "#3e4989"
             ],
             [
              0.3333333333333333,
              "#31688e"
             ],
             [
              0.4444444444444444,
              "#26828e"
             ],
             [
              0.5555555555555556,
              "#1f9e89"
             ],
             [
              0.6666666666666666,
              "#35b779"
             ],
             [
              0.7777777777777778,
              "#6ece58"
             ],
             [
              0.8888888888888888,
              "#b5de2b"
             ],
             [
              1,
              "#fde725"
             ]
            ],
            "type": "contour"
           }
          ],
          "contourcarpet": [
           {
            "colorbar": {
             "outlinewidth": 1,
             "tickcolor": "rgb(36,36,36)",
             "ticks": "outside"
            },
            "type": "contourcarpet"
           }
          ],
          "heatmap": [
           {
            "colorbar": {
             "outlinewidth": 1,
             "tickcolor": "rgb(36,36,36)",
             "ticks": "outside"
            },
            "colorscale": [
             [
              0,
              "#440154"
             ],
             [
              0.1111111111111111,
              "#482878"
             ],
             [
              0.2222222222222222,
              "#3e4989"
             ],
             [
              0.3333333333333333,
              "#31688e"
             ],
             [
              0.4444444444444444,
              "#26828e"
             ],
             [
              0.5555555555555556,
              "#1f9e89"
             ],
             [
              0.6666666666666666,
              "#35b779"
             ],
             [
              0.7777777777777778,
              "#6ece58"
             ],
             [
              0.8888888888888888,
              "#b5de2b"
             ],
             [
              1,
              "#fde725"
             ]
            ],
            "type": "heatmap"
           }
          ],
          "heatmapgl": [
           {
            "colorbar": {
             "outlinewidth": 1,
             "tickcolor": "rgb(36,36,36)",
             "ticks": "outside"
            },
            "colorscale": [
             [
              0,
              "#440154"
             ],
             [
              0.1111111111111111,
              "#482878"
             ],
             [
              0.2222222222222222,
              "#3e4989"
             ],
             [
              0.3333333333333333,
              "#31688e"
             ],
             [
              0.4444444444444444,
              "#26828e"
             ],
             [
              0.5555555555555556,
              "#1f9e89"
             ],
             [
              0.6666666666666666,
              "#35b779"
             ],
             [
              0.7777777777777778,
              "#6ece58"
             ],
             [
              0.8888888888888888,
              "#b5de2b"
             ],
             [
              1,
              "#fde725"
             ]
            ],
            "type": "heatmapgl"
           }
          ],
          "histogram": [
           {
            "marker": {
             "line": {
              "color": "white",
              "width": 0.6
             }
            },
            "type": "histogram"
           }
          ],
          "histogram2d": [
           {
            "colorbar": {
             "outlinewidth": 1,
             "tickcolor": "rgb(36,36,36)",
             "ticks": "outside"
            },
            "colorscale": [
             [
              0,
              "#440154"
             ],
             [
              0.1111111111111111,
              "#482878"
             ],
             [
              0.2222222222222222,
              "#3e4989"
             ],
             [
              0.3333333333333333,
              "#31688e"
             ],
             [
              0.4444444444444444,
              "#26828e"
             ],
             [
              0.5555555555555556,
              "#1f9e89"
             ],
             [
              0.6666666666666666,
              "#35b779"
             ],
             [
              0.7777777777777778,
              "#6ece58"
             ],
             [
              0.8888888888888888,
              "#b5de2b"
             ],
             [
              1,
              "#fde725"
             ]
            ],
            "type": "histogram2d"
           }
          ],
          "histogram2dcontour": [
           {
            "colorbar": {
             "outlinewidth": 1,
             "tickcolor": "rgb(36,36,36)",
             "ticks": "outside"
            },
            "colorscale": [
             [
              0,
              "#440154"
             ],
             [
              0.1111111111111111,
              "#482878"
             ],
             [
              0.2222222222222222,
              "#3e4989"
             ],
             [
              0.3333333333333333,
              "#31688e"
             ],
             [
              0.4444444444444444,
              "#26828e"
             ],
             [
              0.5555555555555556,
              "#1f9e89"
             ],
             [
              0.6666666666666666,
              "#35b779"
             ],
             [
              0.7777777777777778,
              "#6ece58"
             ],
             [
              0.8888888888888888,
              "#b5de2b"
             ],
             [
              1,
              "#fde725"
             ]
            ],
            "type": "histogram2dcontour"
           }
          ],
          "mesh3d": [
           {
            "colorbar": {
             "outlinewidth": 1,
             "tickcolor": "rgb(36,36,36)",
             "ticks": "outside"
            },
            "type": "mesh3d"
           }
          ],
          "parcoords": [
           {
            "line": {
             "colorbar": {
              "outlinewidth": 1,
              "tickcolor": "rgb(36,36,36)",
              "ticks": "outside"
             }
            },
            "type": "parcoords"
           }
          ],
          "pie": [
           {
            "automargin": true,
            "type": "pie"
           }
          ],
          "scatter": [
           {
            "fillpattern": {
             "fillmode": "overlay",
             "size": 10,
             "solidity": 0.2
            },
            "type": "scatter"
           }
          ],
          "scatter3d": [
           {
            "line": {
             "colorbar": {
              "outlinewidth": 1,
              "tickcolor": "rgb(36,36,36)",
              "ticks": "outside"
             }
            },
            "marker": {
             "colorbar": {
              "outlinewidth": 1,
              "tickcolor": "rgb(36,36,36)",
              "ticks": "outside"
             }
            },
            "type": "scatter3d"
           }
          ],
          "scattercarpet": [
           {
            "marker": {
             "colorbar": {
              "outlinewidth": 1,
              "tickcolor": "rgb(36,36,36)",
              "ticks": "outside"
             }
            },
            "type": "scattercarpet"
           }
          ],
          "scattergeo": [
           {
            "marker": {
             "colorbar": {
              "outlinewidth": 1,
              "tickcolor": "rgb(36,36,36)",
              "ticks": "outside"
             }
            },
            "type": "scattergeo"
           }
          ],
          "scattergl": [
           {
            "marker": {
             "colorbar": {
              "outlinewidth": 1,
              "tickcolor": "rgb(36,36,36)",
              "ticks": "outside"
             }
            },
            "type": "scattergl"
           }
          ],
          "scattermapbox": [
           {
            "marker": {
             "colorbar": {
              "outlinewidth": 1,
              "tickcolor": "rgb(36,36,36)",
              "ticks": "outside"
             }
            },
            "type": "scattermapbox"
           }
          ],
          "scatterpolar": [
           {
            "marker": {
             "colorbar": {
              "outlinewidth": 1,
              "tickcolor": "rgb(36,36,36)",
              "ticks": "outside"
             }
            },
            "type": "scatterpolar"
           }
          ],
          "scatterpolargl": [
           {
            "marker": {
             "colorbar": {
              "outlinewidth": 1,
              "tickcolor": "rgb(36,36,36)",
              "ticks": "outside"
             }
            },
            "type": "scatterpolargl"
           }
          ],
          "scatterternary": [
           {
            "marker": {
             "colorbar": {
              "outlinewidth": 1,
              "tickcolor": "rgb(36,36,36)",
              "ticks": "outside"
             }
            },
            "type": "scatterternary"
           }
          ],
          "surface": [
           {
            "colorbar": {
             "outlinewidth": 1,
             "tickcolor": "rgb(36,36,36)",
             "ticks": "outside"
            },
            "colorscale": [
             [
              0,
              "#440154"
             ],
             [
              0.1111111111111111,
              "#482878"
             ],
             [
              0.2222222222222222,
              "#3e4989"
             ],
             [
              0.3333333333333333,
              "#31688e"
             ],
             [
              0.4444444444444444,
              "#26828e"
             ],
             [
              0.5555555555555556,
              "#1f9e89"
             ],
             [
              0.6666666666666666,
              "#35b779"
             ],
             [
              0.7777777777777778,
              "#6ece58"
             ],
             [
              0.8888888888888888,
              "#b5de2b"
             ],
             [
              1,
              "#fde725"
             ]
            ],
            "type": "surface"
           }
          ],
          "table": [
           {
            "cells": {
             "fill": {
              "color": "rgb(237,237,237)"
             },
             "line": {
              "color": "white"
             }
            },
            "header": {
             "fill": {
              "color": "rgb(217,217,217)"
             },
             "line": {
              "color": "white"
             }
            },
            "type": "table"
           }
          ]
         },
         "layout": {
          "annotationdefaults": {
           "arrowhead": 0,
           "arrowwidth": 1
          },
          "autotypenumbers": "strict",
          "coloraxis": {
           "colorbar": {
            "outlinewidth": 1,
            "tickcolor": "rgb(36,36,36)",
            "ticks": "outside"
           }
          },
          "colorscale": {
           "diverging": [
            [
             0,
             "rgb(103,0,31)"
            ],
            [
             0.1,
             "rgb(178,24,43)"
            ],
            [
             0.2,
             "rgb(214,96,77)"
            ],
            [
             0.3,
             "rgb(244,165,130)"
            ],
            [
             0.4,
             "rgb(253,219,199)"
            ],
            [
             0.5,
             "rgb(247,247,247)"
            ],
            [
             0.6,
             "rgb(209,229,240)"
            ],
            [
             0.7,
             "rgb(146,197,222)"
            ],
            [
             0.8,
             "rgb(67,147,195)"
            ],
            [
             0.9,
             "rgb(33,102,172)"
            ],
            [
             1,
             "rgb(5,48,97)"
            ]
           ],
           "sequential": [
            [
             0,
             "#440154"
            ],
            [
             0.1111111111111111,
             "#482878"
            ],
            [
             0.2222222222222222,
             "#3e4989"
            ],
            [
             0.3333333333333333,
             "#31688e"
            ],
            [
             0.4444444444444444,
             "#26828e"
            ],
            [
             0.5555555555555556,
             "#1f9e89"
            ],
            [
             0.6666666666666666,
             "#35b779"
            ],
            [
             0.7777777777777778,
             "#6ece58"
            ],
            [
             0.8888888888888888,
             "#b5de2b"
            ],
            [
             1,
             "#fde725"
            ]
           ],
           "sequentialminus": [
            [
             0,
             "#440154"
            ],
            [
             0.1111111111111111,
             "#482878"
            ],
            [
             0.2222222222222222,
             "#3e4989"
            ],
            [
             0.3333333333333333,
             "#31688e"
            ],
            [
             0.4444444444444444,
             "#26828e"
            ],
            [
             0.5555555555555556,
             "#1f9e89"
            ],
            [
             0.6666666666666666,
             "#35b779"
            ],
            [
             0.7777777777777778,
             "#6ece58"
            ],
            [
             0.8888888888888888,
             "#b5de2b"
            ],
            [
             1,
             "#fde725"
            ]
           ]
          },
          "colorway": [
           "#1F77B4",
           "#FF7F0E",
           "#2CA02C",
           "#D62728",
           "#9467BD",
           "#8C564B",
           "#E377C2",
           "#7F7F7F",
           "#BCBD22",
           "#17BECF"
          ],
          "font": {
           "color": "rgb(36,36,36)"
          },
          "geo": {
           "bgcolor": "white",
           "lakecolor": "white",
           "landcolor": "white",
           "showlakes": true,
           "showland": true,
           "subunitcolor": "white"
          },
          "hoverlabel": {
           "align": "left"
          },
          "hovermode": "closest",
          "mapbox": {
           "style": "light"
          },
          "paper_bgcolor": "white",
          "plot_bgcolor": "white",
          "polar": {
           "angularaxis": {
            "gridcolor": "rgb(232,232,232)",
            "linecolor": "rgb(36,36,36)",
            "showgrid": false,
            "showline": true,
            "ticks": "outside"
           },
           "bgcolor": "white",
           "radialaxis": {
            "gridcolor": "rgb(232,232,232)",
            "linecolor": "rgb(36,36,36)",
            "showgrid": false,
            "showline": true,
            "ticks": "outside"
           }
          },
          "scene": {
           "xaxis": {
            "backgroundcolor": "white",
            "gridcolor": "rgb(232,232,232)",
            "gridwidth": 2,
            "linecolor": "rgb(36,36,36)",
            "showbackground": true,
            "showgrid": false,
            "showline": true,
            "ticks": "outside",
            "zeroline": false,
            "zerolinecolor": "rgb(36,36,36)"
           },
           "yaxis": {
            "backgroundcolor": "white",
            "gridcolor": "rgb(232,232,232)",
            "gridwidth": 2,
            "linecolor": "rgb(36,36,36)",
            "showbackground": true,
            "showgrid": false,
            "showline": true,
            "ticks": "outside",
            "zeroline": false,
            "zerolinecolor": "rgb(36,36,36)"
           },
           "zaxis": {
            "backgroundcolor": "white",
            "gridcolor": "rgb(232,232,232)",
            "gridwidth": 2,
            "linecolor": "rgb(36,36,36)",
            "showbackground": true,
            "showgrid": false,
            "showline": true,
            "ticks": "outside",
            "zeroline": false,
            "zerolinecolor": "rgb(36,36,36)"
           }
          },
          "shapedefaults": {
           "fillcolor": "black",
           "line": {
            "width": 0
           },
           "opacity": 0.3
          },
          "ternary": {
           "aaxis": {
            "gridcolor": "rgb(232,232,232)",
            "linecolor": "rgb(36,36,36)",
            "showgrid": false,
            "showline": true,
            "ticks": "outside"
           },
           "baxis": {
            "gridcolor": "rgb(232,232,232)",
            "linecolor": "rgb(36,36,36)",
            "showgrid": false,
            "showline": true,
            "ticks": "outside"
           },
           "bgcolor": "white",
           "caxis": {
            "gridcolor": "rgb(232,232,232)",
            "linecolor": "rgb(36,36,36)",
            "showgrid": false,
            "showline": true,
            "ticks": "outside"
           }
          },
          "title": {
           "x": 0.05
          },
          "xaxis": {
           "automargin": true,
           "gridcolor": "rgb(232,232,232)",
           "linecolor": "rgb(36,36,36)",
           "showgrid": false,
           "showline": true,
           "ticks": "outside",
           "title": {
            "standoff": 15
           },
           "zeroline": false,
           "zerolinecolor": "rgb(36,36,36)"
          },
          "yaxis": {
           "automargin": true,
           "gridcolor": "rgb(232,232,232)",
           "linecolor": "rgb(36,36,36)",
           "showgrid": false,
           "showline": true,
           "ticks": "outside",
           "title": {
            "standoff": 15
           },
           "zeroline": false,
           "zerolinecolor": "rgb(36,36,36)"
          }
         }
        },
        "title": {
         "font": {
          "color": "Black",
          "size": 22
         },
         "text": "<b>Intertopic Distance Map</b>",
         "x": 0.5,
         "xanchor": "center",
         "y": 0.95,
         "yanchor": "top"
        },
        "width": 650,
        "xaxis": {
         "anchor": "y",
         "domain": [
          0,
          1
         ],
         "range": [
          7.622262096405029,
          11.895551586151123
         ],
         "title": {
          "text": ""
         },
         "visible": false
        },
        "yaxis": {
         "anchor": "x",
         "domain": [
          0,
          1
         ],
         "range": [
          13.222933769226074,
          19.760534000396728
         ],
         "title": {
          "text": ""
         },
         "visible": false
        }
       }
      }
     },
     "metadata": {},
     "output_type": "display_data"
    }
   ],
   "source": [
    "from bertopic import BERTopic\n",
    "\n",
    "model = BERTopic(language=\"english\", calculate_probabilities=True, verbose=True,embedding_model=\"all-MiniLM-L6-v2\",min_topic_size=11) #The higher the value of min_topic_size, the more specific the topics will be\n",
    "topics, probs = model.fit_transform(reports['text_processed']) #Fit model to data : topics are the topic labels for each document, probs are the probabilities of each topic for each document\n",
    "model.visualize_topics() #Visualize topics"
   ]
  },
  {
   "attachments": {},
   "cell_type": "markdown",
   "metadata": {},
   "source": [
    "### Topic extraction and representation"
   ]
  },
  {
   "cell_type": "code",
   "execution_count": 180,
   "metadata": {},
   "outputs": [
    {
     "name": "stdout",
     "output_type": "stream",
     "text": [
      "N number of topics:  5\n",
      "   Topic  Count                            Name  \\\n",
      "0     -1    131       -1_time_images_body_sense   \n",
      "1      0    127     0_saw_colours_shapes_moving   \n",
      "2      1     55        1_calm_peace_relaxed_joy   \n",
      "3      2     34       2_music_journey_time_much   \n",
      "4      3     30  3_thoughts_people_mind_thought   \n",
      "\n",
      "                                      Representation  \\\n",
      "0  [time, images, body, sense, would, memories, s...   \n",
      "1  [saw, colours, shapes, moving, space, light, p...   \n",
      "2  [calm, peace, relaxed, joy, relaxing, peaceful...   \n",
      "3  [music, journey, time, much, calming, mind, re...   \n",
      "4  [thoughts, people, mind, thought, brain, walki...   \n",
      "\n",
      "                                 Representative_Docs  \n",
      "0  [various flashing images memories random event...  \n",
      "1  [colour fields varying colours changed rapidly...  \n",
      "2                                 [calm, calm, calm]  \n",
      "3  [saw stars hexagons tesselating twisting zoomi...  \n",
      "4  [struggling mind would go back stringof though...  \n"
     ]
    }
   ],
   "source": [
    "topic_freq = model.get_topic_freq().head() #Get the frequency of each topic\n",
    "freq = model.get_topic_info() #Get the frequency of each topic\n",
    "print(\"N number of topics: \",len(freq))\n",
    "print(freq.head())\n"
   ]
  },
  {
   "cell_type": "code",
   "execution_count": 174,
   "metadata": {},
   "outputs": [
    {
     "data": {
      "text/plain": [
       "[('saw', 0.05455968510779055),\n",
       " ('colours', 0.043028394574206076),\n",
       " ('space', 0.037181566209992904),\n",
       " ('shapes', 0.03696586332777738),\n",
       " ('moving', 0.036527828682611486),\n",
       " ('light', 0.03382826503286794),\n",
       " ('patterns', 0.03230799298099045),\n",
       " ('one', 0.03160433127849396),\n",
       " ('eyes', 0.031515637778826905),\n",
       " ('blue', 0.027037185392271342)]"
      ]
     },
     "execution_count": 174,
     "metadata": {},
     "output_type": "execute_result"
    }
   ],
   "source": [
    "model.get_topic(0) #Get the most frequent words of the first topic (the words and their probabilities, ie TF-IDF scores)"
   ]
  },
  {
   "attachments": {},
   "cell_type": "markdown",
   "metadata": {},
   "source": [
    "## Prileminary visualisation"
   ]
  },
  {
   "cell_type": "code",
   "execution_count": 181,
   "metadata": {},
   "outputs": [
    {
     "data": {
      "application/vnd.plotly.v1+json": {
       "config": {
        "plotlyServerURL": "https://plot.ly"
       },
       "data": [
        {
         "marker": {
          "color": "#D55E00"
         },
         "orientation": "h",
         "type": "bar",
         "x": [
          0.03721972770002019,
          0.04062853703461311,
          0.041115890091630726,
          0.04977155799144662,
          0.058994615315603016
         ],
         "xaxis": "x",
         "y": [
          "space  ",
          "moving  ",
          "shapes  ",
          "colours  ",
          "saw  "
         ],
         "yaxis": "y"
        },
        {
         "marker": {
          "color": "#0072B2"
         },
         "orientation": "h",
         "type": "bar",
         "x": [
          0.0808339397643835,
          0.0808339397643835,
          0.11598135029239001,
          0.15656870840417286,
          0.17893566674762615
         ],
         "xaxis": "x2",
         "y": [
          "relaxing  ",
          "joy  ",
          "relaxed  ",
          "peace  ",
          "calm  "
         ],
         "yaxis": "y2"
        },
        {
         "marker": {
          "color": "#CC79A7"
         },
         "orientation": "h",
         "type": "bar",
         "x": [
          0.0280241285149671,
          0.02819861079324098,
          0.02852974201419862,
          0.03792235849637768,
          0.1632175846624775
         ],
         "xaxis": "x3",
         "y": [
          "calming  ",
          "much  ",
          "time  ",
          "journey  ",
          "music  "
         ],
         "yaxis": "y3"
        },
        {
         "marker": {
          "color": "#E69F00"
         },
         "orientation": "h",
         "type": "bar",
         "x": [
          0.04573484890808072,
          0.049014386504257317,
          0.05963713488535955,
          0.06345974227677438,
          0.12285280427079587
         ],
         "xaxis": "x4",
         "y": [
          "brain  ",
          "thought  ",
          "mind  ",
          "people  ",
          "thoughts  "
         ],
         "yaxis": "y4"
        }
       ],
       "layout": {
        "annotations": [
         {
          "font": {
           "size": 16
          },
          "showarrow": false,
          "text": "Topic 0",
          "x": 0.0875,
          "xanchor": "center",
          "xref": "paper",
          "y": 1,
          "yanchor": "bottom",
          "yref": "paper"
         },
         {
          "font": {
           "size": 16
          },
          "showarrow": false,
          "text": "Topic 1",
          "x": 0.36250000000000004,
          "xanchor": "center",
          "xref": "paper",
          "y": 1,
          "yanchor": "bottom",
          "yref": "paper"
         },
         {
          "font": {
           "size": 16
          },
          "showarrow": false,
          "text": "Topic 2",
          "x": 0.6375000000000001,
          "xanchor": "center",
          "xref": "paper",
          "y": 1,
          "yanchor": "bottom",
          "yref": "paper"
         },
         {
          "font": {
           "size": 16
          },
          "showarrow": false,
          "text": "Topic 3",
          "x": 0.9125,
          "xanchor": "center",
          "xref": "paper",
          "y": 1,
          "yanchor": "bottom",
          "yref": "paper"
         }
        ],
        "height": 325,
        "hoverlabel": {
         "bgcolor": "white",
         "font": {
          "family": "Rockwell",
          "size": 16
         }
        },
        "showlegend": false,
        "template": {
         "data": {
          "bar": [
           {
            "error_x": {
             "color": "#2a3f5f"
            },
            "error_y": {
             "color": "#2a3f5f"
            },
            "marker": {
             "line": {
              "color": "white",
              "width": 0.5
             },
             "pattern": {
              "fillmode": "overlay",
              "size": 10,
              "solidity": 0.2
             }
            },
            "type": "bar"
           }
          ],
          "barpolar": [
           {
            "marker": {
             "line": {
              "color": "white",
              "width": 0.5
             },
             "pattern": {
              "fillmode": "overlay",
              "size": 10,
              "solidity": 0.2
             }
            },
            "type": "barpolar"
           }
          ],
          "carpet": [
           {
            "aaxis": {
             "endlinecolor": "#2a3f5f",
             "gridcolor": "#C8D4E3",
             "linecolor": "#C8D4E3",
             "minorgridcolor": "#C8D4E3",
             "startlinecolor": "#2a3f5f"
            },
            "baxis": {
             "endlinecolor": "#2a3f5f",
             "gridcolor": "#C8D4E3",
             "linecolor": "#C8D4E3",
             "minorgridcolor": "#C8D4E3",
             "startlinecolor": "#2a3f5f"
            },
            "type": "carpet"
           }
          ],
          "choropleth": [
           {
            "colorbar": {
             "outlinewidth": 0,
             "ticks": ""
            },
            "type": "choropleth"
           }
          ],
          "contour": [
           {
            "colorbar": {
             "outlinewidth": 0,
             "ticks": ""
            },
            "colorscale": [
             [
              0,
              "#0d0887"
             ],
             [
              0.1111111111111111,
              "#46039f"
             ],
             [
              0.2222222222222222,
              "#7201a8"
             ],
             [
              0.3333333333333333,
              "#9c179e"
             ],
             [
              0.4444444444444444,
              "#bd3786"
             ],
             [
              0.5555555555555556,
              "#d8576b"
             ],
             [
              0.6666666666666666,
              "#ed7953"
             ],
             [
              0.7777777777777778,
              "#fb9f3a"
             ],
             [
              0.8888888888888888,
              "#fdca26"
             ],
             [
              1,
              "#f0f921"
             ]
            ],
            "type": "contour"
           }
          ],
          "contourcarpet": [
           {
            "colorbar": {
             "outlinewidth": 0,
             "ticks": ""
            },
            "type": "contourcarpet"
           }
          ],
          "heatmap": [
           {
            "colorbar": {
             "outlinewidth": 0,
             "ticks": ""
            },
            "colorscale": [
             [
              0,
              "#0d0887"
             ],
             [
              0.1111111111111111,
              "#46039f"
             ],
             [
              0.2222222222222222,
              "#7201a8"
             ],
             [
              0.3333333333333333,
              "#9c179e"
             ],
             [
              0.4444444444444444,
              "#bd3786"
             ],
             [
              0.5555555555555556,
              "#d8576b"
             ],
             [
              0.6666666666666666,
              "#ed7953"
             ],
             [
              0.7777777777777778,
              "#fb9f3a"
             ],
             [
              0.8888888888888888,
              "#fdca26"
             ],
             [
              1,
              "#f0f921"
             ]
            ],
            "type": "heatmap"
           }
          ],
          "heatmapgl": [
           {
            "colorbar": {
             "outlinewidth": 0,
             "ticks": ""
            },
            "colorscale": [
             [
              0,
              "#0d0887"
             ],
             [
              0.1111111111111111,
              "#46039f"
             ],
             [
              0.2222222222222222,
              "#7201a8"
             ],
             [
              0.3333333333333333,
              "#9c179e"
             ],
             [
              0.4444444444444444,
              "#bd3786"
             ],
             [
              0.5555555555555556,
              "#d8576b"
             ],
             [
              0.6666666666666666,
              "#ed7953"
             ],
             [
              0.7777777777777778,
              "#fb9f3a"
             ],
             [
              0.8888888888888888,
              "#fdca26"
             ],
             [
              1,
              "#f0f921"
             ]
            ],
            "type": "heatmapgl"
           }
          ],
          "histogram": [
           {
            "marker": {
             "pattern": {
              "fillmode": "overlay",
              "size": 10,
              "solidity": 0.2
             }
            },
            "type": "histogram"
           }
          ],
          "histogram2d": [
           {
            "colorbar": {
             "outlinewidth": 0,
             "ticks": ""
            },
            "colorscale": [
             [
              0,
              "#0d0887"
             ],
             [
              0.1111111111111111,
              "#46039f"
             ],
             [
              0.2222222222222222,
              "#7201a8"
             ],
             [
              0.3333333333333333,
              "#9c179e"
             ],
             [
              0.4444444444444444,
              "#bd3786"
             ],
             [
              0.5555555555555556,
              "#d8576b"
             ],
             [
              0.6666666666666666,
              "#ed7953"
             ],
             [
              0.7777777777777778,
              "#fb9f3a"
             ],
             [
              0.8888888888888888,
              "#fdca26"
             ],
             [
              1,
              "#f0f921"
             ]
            ],
            "type": "histogram2d"
           }
          ],
          "histogram2dcontour": [
           {
            "colorbar": {
             "outlinewidth": 0,
             "ticks": ""
            },
            "colorscale": [
             [
              0,
              "#0d0887"
             ],
             [
              0.1111111111111111,
              "#46039f"
             ],
             [
              0.2222222222222222,
              "#7201a8"
             ],
             [
              0.3333333333333333,
              "#9c179e"
             ],
             [
              0.4444444444444444,
              "#bd3786"
             ],
             [
              0.5555555555555556,
              "#d8576b"
             ],
             [
              0.6666666666666666,
              "#ed7953"
             ],
             [
              0.7777777777777778,
              "#fb9f3a"
             ],
             [
              0.8888888888888888,
              "#fdca26"
             ],
             [
              1,
              "#f0f921"
             ]
            ],
            "type": "histogram2dcontour"
           }
          ],
          "mesh3d": [
           {
            "colorbar": {
             "outlinewidth": 0,
             "ticks": ""
            },
            "type": "mesh3d"
           }
          ],
          "parcoords": [
           {
            "line": {
             "colorbar": {
              "outlinewidth": 0,
              "ticks": ""
             }
            },
            "type": "parcoords"
           }
          ],
          "pie": [
           {
            "automargin": true,
            "type": "pie"
           }
          ],
          "scatter": [
           {
            "fillpattern": {
             "fillmode": "overlay",
             "size": 10,
             "solidity": 0.2
            },
            "type": "scatter"
           }
          ],
          "scatter3d": [
           {
            "line": {
             "colorbar": {
              "outlinewidth": 0,
              "ticks": ""
             }
            },
            "marker": {
             "colorbar": {
              "outlinewidth": 0,
              "ticks": ""
             }
            },
            "type": "scatter3d"
           }
          ],
          "scattercarpet": [
           {
            "marker": {
             "colorbar": {
              "outlinewidth": 0,
              "ticks": ""
             }
            },
            "type": "scattercarpet"
           }
          ],
          "scattergeo": [
           {
            "marker": {
             "colorbar": {
              "outlinewidth": 0,
              "ticks": ""
             }
            },
            "type": "scattergeo"
           }
          ],
          "scattergl": [
           {
            "marker": {
             "colorbar": {
              "outlinewidth": 0,
              "ticks": ""
             }
            },
            "type": "scattergl"
           }
          ],
          "scattermapbox": [
           {
            "marker": {
             "colorbar": {
              "outlinewidth": 0,
              "ticks": ""
             }
            },
            "type": "scattermapbox"
           }
          ],
          "scatterpolar": [
           {
            "marker": {
             "colorbar": {
              "outlinewidth": 0,
              "ticks": ""
             }
            },
            "type": "scatterpolar"
           }
          ],
          "scatterpolargl": [
           {
            "marker": {
             "colorbar": {
              "outlinewidth": 0,
              "ticks": ""
             }
            },
            "type": "scatterpolargl"
           }
          ],
          "scatterternary": [
           {
            "marker": {
             "colorbar": {
              "outlinewidth": 0,
              "ticks": ""
             }
            },
            "type": "scatterternary"
           }
          ],
          "surface": [
           {
            "colorbar": {
             "outlinewidth": 0,
             "ticks": ""
            },
            "colorscale": [
             [
              0,
              "#0d0887"
             ],
             [
              0.1111111111111111,
              "#46039f"
             ],
             [
              0.2222222222222222,
              "#7201a8"
             ],
             [
              0.3333333333333333,
              "#9c179e"
             ],
             [
              0.4444444444444444,
              "#bd3786"
             ],
             [
              0.5555555555555556,
              "#d8576b"
             ],
             [
              0.6666666666666666,
              "#ed7953"
             ],
             [
              0.7777777777777778,
              "#fb9f3a"
             ],
             [
              0.8888888888888888,
              "#fdca26"
             ],
             [
              1,
              "#f0f921"
             ]
            ],
            "type": "surface"
           }
          ],
          "table": [
           {
            "cells": {
             "fill": {
              "color": "#EBF0F8"
             },
             "line": {
              "color": "white"
             }
            },
            "header": {
             "fill": {
              "color": "#C8D4E3"
             },
             "line": {
              "color": "white"
             }
            },
            "type": "table"
           }
          ]
         },
         "layout": {
          "annotationdefaults": {
           "arrowcolor": "#2a3f5f",
           "arrowhead": 0,
           "arrowwidth": 1
          },
          "autotypenumbers": "strict",
          "coloraxis": {
           "colorbar": {
            "outlinewidth": 0,
            "ticks": ""
           }
          },
          "colorscale": {
           "diverging": [
            [
             0,
             "#8e0152"
            ],
            [
             0.1,
             "#c51b7d"
            ],
            [
             0.2,
             "#de77ae"
            ],
            [
             0.3,
             "#f1b6da"
            ],
            [
             0.4,
             "#fde0ef"
            ],
            [
             0.5,
             "#f7f7f7"
            ],
            [
             0.6,
             "#e6f5d0"
            ],
            [
             0.7,
             "#b8e186"
            ],
            [
             0.8,
             "#7fbc41"
            ],
            [
             0.9,
             "#4d9221"
            ],
            [
             1,
             "#276419"
            ]
           ],
           "sequential": [
            [
             0,
             "#0d0887"
            ],
            [
             0.1111111111111111,
             "#46039f"
            ],
            [
             0.2222222222222222,
             "#7201a8"
            ],
            [
             0.3333333333333333,
             "#9c179e"
            ],
            [
             0.4444444444444444,
             "#bd3786"
            ],
            [
             0.5555555555555556,
             "#d8576b"
            ],
            [
             0.6666666666666666,
             "#ed7953"
            ],
            [
             0.7777777777777778,
             "#fb9f3a"
            ],
            [
             0.8888888888888888,
             "#fdca26"
            ],
            [
             1,
             "#f0f921"
            ]
           ],
           "sequentialminus": [
            [
             0,
             "#0d0887"
            ],
            [
             0.1111111111111111,
             "#46039f"
            ],
            [
             0.2222222222222222,
             "#7201a8"
            ],
            [
             0.3333333333333333,
             "#9c179e"
            ],
            [
             0.4444444444444444,
             "#bd3786"
            ],
            [
             0.5555555555555556,
             "#d8576b"
            ],
            [
             0.6666666666666666,
             "#ed7953"
            ],
            [
             0.7777777777777778,
             "#fb9f3a"
            ],
            [
             0.8888888888888888,
             "#fdca26"
            ],
            [
             1,
             "#f0f921"
            ]
           ]
          },
          "colorway": [
           "#636efa",
           "#EF553B",
           "#00cc96",
           "#ab63fa",
           "#FFA15A",
           "#19d3f3",
           "#FF6692",
           "#B6E880",
           "#FF97FF",
           "#FECB52"
          ],
          "font": {
           "color": "#2a3f5f"
          },
          "geo": {
           "bgcolor": "white",
           "lakecolor": "white",
           "landcolor": "white",
           "showlakes": true,
           "showland": true,
           "subunitcolor": "#C8D4E3"
          },
          "hoverlabel": {
           "align": "left"
          },
          "hovermode": "closest",
          "mapbox": {
           "style": "light"
          },
          "paper_bgcolor": "white",
          "plot_bgcolor": "white",
          "polar": {
           "angularaxis": {
            "gridcolor": "#EBF0F8",
            "linecolor": "#EBF0F8",
            "ticks": ""
           },
           "bgcolor": "white",
           "radialaxis": {
            "gridcolor": "#EBF0F8",
            "linecolor": "#EBF0F8",
            "ticks": ""
           }
          },
          "scene": {
           "xaxis": {
            "backgroundcolor": "white",
            "gridcolor": "#DFE8F3",
            "gridwidth": 2,
            "linecolor": "#EBF0F8",
            "showbackground": true,
            "ticks": "",
            "zerolinecolor": "#EBF0F8"
           },
           "yaxis": {
            "backgroundcolor": "white",
            "gridcolor": "#DFE8F3",
            "gridwidth": 2,
            "linecolor": "#EBF0F8",
            "showbackground": true,
            "ticks": "",
            "zerolinecolor": "#EBF0F8"
           },
           "zaxis": {
            "backgroundcolor": "white",
            "gridcolor": "#DFE8F3",
            "gridwidth": 2,
            "linecolor": "#EBF0F8",
            "showbackground": true,
            "ticks": "",
            "zerolinecolor": "#EBF0F8"
           }
          },
          "shapedefaults": {
           "line": {
            "color": "#2a3f5f"
           }
          },
          "ternary": {
           "aaxis": {
            "gridcolor": "#DFE8F3",
            "linecolor": "#A2B1C6",
            "ticks": ""
           },
           "baxis": {
            "gridcolor": "#DFE8F3",
            "linecolor": "#A2B1C6",
            "ticks": ""
           },
           "bgcolor": "white",
           "caxis": {
            "gridcolor": "#DFE8F3",
            "linecolor": "#A2B1C6",
            "ticks": ""
           }
          },
          "title": {
           "x": 0.05
          },
          "xaxis": {
           "automargin": true,
           "gridcolor": "#EBF0F8",
           "linecolor": "#EBF0F8",
           "ticks": "",
           "title": {
            "standoff": 15
           },
           "zerolinecolor": "#EBF0F8",
           "zerolinewidth": 2
          },
          "yaxis": {
           "automargin": true,
           "gridcolor": "#EBF0F8",
           "linecolor": "#EBF0F8",
           "ticks": "",
           "title": {
            "standoff": 15
           },
           "zerolinecolor": "#EBF0F8",
           "zerolinewidth": 2
          }
         }
        },
        "title": {
         "font": {
          "color": "Black",
          "size": 22
         },
         "text": "Topic Word Scores",
         "x": 0.5,
         "xanchor": "center",
         "yanchor": "top"
        },
        "width": 1000,
        "xaxis": {
         "anchor": "y",
         "domain": [
          0,
          0.175
         ],
         "showgrid": true
        },
        "xaxis2": {
         "anchor": "y2",
         "domain": [
          0.275,
          0.45
         ],
         "showgrid": true
        },
        "xaxis3": {
         "anchor": "y3",
         "domain": [
          0.55,
          0.7250000000000001
         ],
         "showgrid": true
        },
        "xaxis4": {
         "anchor": "y4",
         "domain": [
          0.825,
          1
         ],
         "showgrid": true
        },
        "yaxis": {
         "anchor": "x",
         "domain": [
          0,
          1
         ],
         "showgrid": true
        },
        "yaxis2": {
         "anchor": "x2",
         "domain": [
          0,
          1
         ],
         "showgrid": true
        },
        "yaxis3": {
         "anchor": "x3",
         "domain": [
          0,
          1
         ],
         "showgrid": true
        },
        "yaxis4": {
         "anchor": "x4",
         "domain": [
          0,
          1
         ],
         "showgrid": true
        }
       }
      }
     },
     "metadata": {},
     "output_type": "display_data"
    }
   ],
   "source": [
    "model.visualize_barchart(top_n_topics=10) #Visualize the top 10 topics"
   ]
  },
  {
   "cell_type": "code",
   "execution_count": 182,
   "metadata": {},
   "outputs": [
    {
     "data": {
      "application/vnd.plotly.v1+json": {
       "config": {
        "plotlyServerURL": "https://plot.ly"
       },
       "data": [
        {
         "hoverinfo": "text",
         "hovertext": [
          "almost transformative lights started gradually built moved states mindfullness distracted everyday thoughts sometimes wrestling two crescendoed cacophony sound light reached state full awareness arms weightless parts body distant unrecognisable",
          "anotherworld",
          "yourefrom university sussex need stand reality believe souls gendered ogherwise",
          "falling snow peaceful lost cornfield staring tunnel scared",
          "various flashing images memories random events people life kept popping nothing lingered lots individual things happened memories also numb tingly throughout different points body light fuzzy wasnt sitting anything",
          "pleasure & intrigue",
          "brain oscar worthy director",
          "looking across universe beyond realm deep connection humankind overwhelming sense peace left feeling profoundly moved tearful",
          "spoke 8 year old self 80 year old self happy",
          "moment i'll die want feel",
          "acid",
          "immense comfort even much frantic towards saw deep blue snow incredibly peaceful",
          "life retired",
          "sensory rollercoaster",
          "healing part realise decayed entirely",
          "awesome expected sometimes verging oppressive never scary well lead",
          "euphoric healing",
          "dreaming dream little",
          "nothingness complete",
          "thought throughout visualising body specifically head",
          "pulled vortex time waiting awake different dimension",
          "helped meditation journey",
          "riding willie wonka's boat crazy tunnels charlie chocolate factory",
          "entry another univerise",
          "woman next sniffing move difficult get back",
          "range emotions patterns colour movement sense really beingbinside head",
          "possible generate full images demand - elephant made upwards flowing oil rivulets",
          "initially spiral spool old film running projector figures standing though dance starfields reminiscent 2001 stargate oddly robbie williams",
          "rollercoaster sun make get",
          "hope that's death feels x",
          "llama intro credit scene monty python holy grail points",
          "sense time",
          "dream movie one even mind flying lot shape light space moment feel draw back body environment thought somewhere one cant realise long quick dont feel time",
          "thought alot rands journey rhudian experiencing history aiel eyes ancestors",
          "noxtalgia andpdace optimism escapism ive visited three timesand different wearing contacts geometric last timei saw lot white geomtricforms mixed smoke times saw hyperspace style visuals red blue",
          "trying remember patterns",
          "began violent falling away darkness",
          "taking hallucinogenic drugs younger",
          "found thoughts developing stories images eyes closed vast colours brain generated impressive art gallerty",
          "dreamt harbinger new planet shaping world life equity wish belong someone really loved missed",
          "calming sounds rising elation curiosity connection acceptance stressful time self jubilation inspiration",
          "visual abit flat sa focused eyes head much would rather engage body work somatic aspect dropped body feel flat survace lie canvas face painting images appeared beautiful thanks",
          "time place seem happened yet come",
          "deep relaxation deep tissue massage mind safe healthy groovy drug-free trip long last afterwards deepest deepest sleep worried might give headache didnt great peace soothed tired",
          "deep relaxation close falling asleep",
          "direct infinite creativity much beauty vivid colours patterns travelling dimensions imagine would go similar journey transition realms",
          "resistance gone bliss saw colourful mandalas keeping pace beats perfect synchronicity amazed never experienced something equal beyond words",
          "complete journey closest sober (and honest better) psychedelics",
          "life death rebirth",
          "kaleidascopic 'be guest' beauty & beast kept seeing happy spinning teapots",
          "breathing hard",
          "loved would try couple hours",
          "physical discomfort amazing patterns intense colours yearning desire see questions",
          "unique teach us simple could recconnect primitive way feel emotions trough sounds colours",
          "sound inside body",
          "vertigo",
          "euphoric",
          "brains neurons veins elephants",
          "saw past experiences reflected choices saw new scenes reflected opportunities",
          "fabulous didnt wantit eyesopen throughoutand yet totally enveloped sound",
          "saw map london walked new york floating space star angel floating past memories forgiving ever sad numb",
          "intense connection body surroundings",
          "amazing sense harmony balance oneness visually moving mandala",
          "times concern would soon",
          "past memories people really life anymore",
          "loss sense time images images feeling transported moving",
          "absolutely tripped away good came n experienced u set",
          "sense expansion moving towards something forward motion motivation progress purposes",
          "incredible technicolour",
          "boat charlie chocolate factory",
          "awake whole time could relax switch",
          "earth falling sun least nineties rave visuals cycle death rebirth envisaged eighties d&d summer meadow lot diamond ripples",
          "incredibly small weight exsistence heavy blanket rather negative relief comforted",
          "something ever experienced something wish could week",
          "wish george created",
          "good loads ket still decent",
          "sound created visuals created pattern energy movement across body",
          "wentback many hard mostly beautiful memories without prompting",
          "pleasant seeim something unexpected",
          "doorway",
          "breathing exercize: would help staff could show us could copy way delivered fast long rythm found eye mask uncomfortable forehead took would prefer use hands shield light abit cold especially moving quite echoy could hear someone snoring staff openin & shutting thedoor near beginning might idea box tissues reflection room",
          "outerspace experiencing transition death comforting whilst small insignificant also free powerful",
          "wild ride",
          "similar mri also unsuccesfully trying fall asleep insomnia period",
          "wondered would die calm serene frightening isaw lots warmcolours black crosses-no green",
          "incredible sensory huge feeling calm peace times l back womb",
          "2nd time 1st one better coz relaxed got ideas time someone kept coughing disrupted thought process feel anything ban people cough",
          "geometrical rythmic pulsating cosmos front eyes infinently varied beutiful return time without help dream",
          "acid dmt safer everyone try",
          "alot memories",
          "dreaming dreamingly",
          "overwhelming sense euphoria love everyone room journeying together hopeful",
          "many different things little afraid thinking gas chambers overwheming feeling love connection everyone room became white egret dream last week flew around room touching everyone heart expanded opened wings hold room typeof death decended underworld felyt go layers earth moss land abeing call eveleryn things changed became pink clouds met long blue much defined form told francis assisi asked husband told important work destiny became mantaray drifted",
          "profihnd sense 9f relaxation neved experienced came pure connectivity body slight floating sensation",
          "saw serene beach scene people text subtitled movie set south france",
          "love feling amazing would come back fell aslep wake fresh mindset",
          "devtest trevor onsite 2",
          "experienced lot physical sensations stomach face inside head still feel brain massaged",
          "remembered beautiful joyful memories moments family asif waswith beach",
          "exactly rember lsd without scary parts",
          "euphoria",
          "seeing hearing deceased relatives smiled could hear distinctive voices",
          "kept seeing images og peope",
          "busy airport waiting area landing egypt",
          "would love continual stimulation without breaks see images evolve",
          "interesting definitely easy moment reminded used get bored school assemblies press eyes watch patterns unfold visuals kaleidoscopic although saw moroccan landscape dolphin swimming away cave various points",
          "confusion difficult make note seeing i've never experienced also happy smiledat certain points quite weird",
          "wish could remindedme child",
          "collection keyholes could see paintingthrough animals merpeople morphing intoeach wireframe structures 'up' (the animated movie)-style montage future",
          "good surprise sensation play mind emotions thanks",
          "thus available everyone time",
          "deep memories emotive reflections images ive seen",
          "would next make artwork",
          "euphoric",
          "experienc time travelling imagine",
          "struggled let go though amazing mind make colours shapes images tried think living fear live",
          "thought fluffy speech writtenhealth safetyaspect broke sense adventure departure really ecessary meditive part nice perhaps take intro time brief overview histiry pursuits aybea bit science lose faux hand holding lovely overall",
          "devtest trev site",
          "similar stuff normally",
          "closest thing i'll ever drugs",
          "quite honest think fell asleep dont really rememberwhat saw",
          "varying journey speed awareness times rapid though thr body brain able process moments calm soothing desire retain recall shapes colours andfeelings envoked strong understanding may lost coming",
          "feel amazed saw afriend past free field green hill made weep joy saw poverty forebears loved thanked",
          "stop thinking process trying memorise visuals trying disconnect wish meditated point started experimenting trying recall images liked successful 50% time reminded 2001: space odyssey",
          "devtest",
          "new form art individual host unique",
          "scary pointy laughing clown face test period came later able control turned pecking bird zooming space someone wanted show planet far away flew cities deserts one point wasflyingclose ground herd elephants met god one eye middle theirforehead great sense ofadventure wellbeing traveller welcome ontheir peaceful world",
          "intensity connectionvastnessspaciousnesslovi ngawareness",
          "submission fun mild euphoric moments",
          "confusing sense place familiar place grandmother's basement train station place sensation strong struggled find memory matched feeling knew strong pull familiar place beyond remembering sure glad drugs",
          "psychedelic colours",
          null
         ],
         "marker": {
          "color": "#CFD8DC",
          "opacity": 0.5,
          "size": 5
         },
         "mode": "markers+text",
         "name": "other",
         "showlegend": false,
         "type": "scattergl",
         "x": [
          5.950983047485352,
          6.4484028816223145,
          6.336662769317627,
          7.435263156890869,
          6.099824905395508,
          4.6161041259765625,
          6.419591903686523,
          6.169090270996094,
          4.9817914962768555,
          5.9844183921813965,
          5.518223762512207,
          5.149923801422119,
          6.5918731689453125,
          8.01182746887207,
          6.129964351654053,
          5.211163520812988,
          6.109806537628174,
          6.827481269836426,
          4.812096118927002,
          6.1327948570251465,
          8.274961471557617,
          4.534890651702881,
          7.986862659454346,
          6.413414478302002,
          4.565855979919434,
          5.4715070724487305,
          6.649163722991943,
          7.169144630432129,
          8.055381774902344,
          6.074592590332031,
          7.684618949890137,
          8.622736930847168,
          7.449105262756348,
          6.359753131866455,
          6.064519882202148,
          6.922948837280273,
          7.399435997009277,
          4.086803436279297,
          6.48651647567749,
          6.499256610870361,
          4.61943244934082,
          6.172503471374512,
          8.57718563079834,
          4.217766284942627,
          4.2118330001831055,
          6.6964921951293945,
          4.877579689025879,
          4.188528537750244,
          6.523978233337402,
          8.413925170898438,
          4.579671382904053,
          8.382416725158691,
          5.509232044219971,
          5.545422077178955,
          4.507760047912598,
          7.0562591552734375,
          6.0992841720581055,
          6.534574031829834,
          7.212597846984863,
          5.350629806518555,
          7.69105863571167,
          5.634374141693115,
          4.827469825744629,
          8.58507251739502,
          7.266282558441162,
          8.622633934020996,
          6.30889892578125,
          8.654333114624023,
          6.785825252532959,
          7.955850124359131,
          4.153090953826904,
          7.366750240325928,
          5.101860523223877,
          6.076103210449219,
          6.422293663024902,
          3.9788095951080322,
          4.550144672393799,
          7.274072170257568,
          5.26924467086792,
          5.914971828460693,
          4.510093688964844,
          6.575530052185059,
          7.95460319519043,
          6.643042087554932,
          5.490639686584473,
          5.138033866882324,
          4.514786720275879,
          8.401644706726074,
          4.092947006225586,
          7.260613441467285,
          6.877114772796631,
          6.116511821746826,
          5.413578987121582,
          5.756951332092285,
          7.654360771179199,
          5.24697732925415,
          7.65520715713501,
          5.973352432250977,
          7.512333393096924,
          4.200184345245361,
          6.094615936279297,
          4.901551246643066,
          6.593196868896484,
          7.728179454803467,
          6.353896141052246,
          7.319169998168945,
          5.210387706756592,
          6.417080402374268,
          6.976428031921387,
          5.120143890380859,
          8.5691556930542,
          7.189980983734131,
          6.784539699554443,
          6.085745811462402,
          8.554421424865723,
          6.446711540222168,
          5.084112167358398,
          7.654919147491455,
          4.11944580078125,
          4.1033830642700195,
          7.3563761711120605,
          5.442609786987305,
          5.193215847015381,
          6.732543468475342,
          7.652424335479736,
          6.711664199829102,
          7.371181488037109,
          5.659997940063477,
          6.070696830749512,
          5.537760257720947,
          5.437471389770508,
          6.266308784484863
         ],
         "y": [
          8.727452278137207,
          6.566455364227295,
          6.416181564331055,
          9.25100326538086,
          9.301416397094727,
          6.5258469581604,
          8.819683074951172,
          6.38661527633667,
          6.3902177810668945,
          6.934891223907471,
          5.463281631469727,
          6.928168296813965,
          6.8394455909729,
          8.604072570800781,
          5.525569438934326,
          7.737657070159912,
          5.488940238952637,
          7.201346397399902,
          5.414499759674072,
          8.721209526062012,
          10.968323707580566,
          7.894681930541992,
          8.659156799316406,
          6.513341903686523,
          7.374312400817871,
          9.810948371887207,
          9.044037818908691,
          9.366471290588379,
          8.65325927734375,
          6.965768337249756,
          8.795291900634766,
          7.796167850494385,
          7.792536735534668,
          8.955398559570312,
          9.39713191986084,
          8.492631912231445,
          9.203770637512207,
          7.968696594238281,
          9.021385192871094,
          6.779918193817139,
          7.755828380584717,
          8.954305648803711,
          7.6903815269470215,
          6.922157287597656,
          6.916574001312256,
          9.395515441894531,
          9.094623565673828,
          8.031668663024902,
          6.883727550506592,
          10.51816463470459,
          7.308864116668701,
          7.453440189361572,
          9.819452285766602,
          9.937396049499512,
          9.330615997314453,
          9.935494422912598,
          5.473762512207031,
          8.912839889526367,
          8.366371154785156,
          8.63385009765625,
          8.078043937683105,
          9.128427505493164,
          9.196051597595215,
          7.6969075202941895,
          8.128976821899414,
          7.852418422698975,
          9.748595237731934,
          7.88395881652832,
          9.351097106933594,
          8.645286560058594,
          6.973545551300049,
          9.809782028198242,
          6.979045867919922,
          7.626983642578125,
          7.10482120513916,
          5.739929676055908,
          9.388908386230469,
          8.246861457824707,
          7.371209621429443,
          6.500626087188721,
          7.513033390045166,
          6.758946895599365,
          8.615821838378906,
          7.49495792388916,
          10.019671440124512,
          7.13604736328125,
          7.403369903564453,
          10.468618392944336,
          7.83257532119751,
          8.280263900756836,
          7.335265636444092,
          5.5448222160339355,
          8.40835189819336,
          9.01336669921875,
          8.533324241638184,
          8.494582176208496,
          6.478597640991211,
          8.62932300567627,
          8.396665573120117,
          8.05467414855957,
          5.472822189331055,
          9.407190322875977,
          8.896683692932129,
          7.9154372215271,
          9.137551307678223,
          8.899028778076172,
          7.434070110321045,
          7.162806034088135,
          9.21373462677002,
          7.8271379470825195,
          7.6291937828063965,
          8.350602149963379,
          9.280149459838867,
          5.469701290130615,
          7.875405788421631,
          9.07275676727295,
          8.34062671661377,
          6.476894378662109,
          5.893615245819092,
          7.968778133392334,
          8.036661148071289,
          8.884384155273438,
          8.282796859741211,
          8.571575164794922,
          6.478837490081787,
          9.262995719909668,
          8.865087509155273,
          9.093263626098633,
          5.472385406494141,
          7.9329633712768555,
          9.911373138427734,
          8.018416404724121
         ]
        },
        {
         "hoverinfo": "text",
         "hovertext": [
          "everywhere saw partner's nose eyes glasses everything molecule air given eyes saw everything universe multiverse time emerged someone's sleeve everything packed tiny insignificant thing",
          "lot kaleidoscope flowers falling blossoms snow flakes ripples rain drops water",
          "swivelling vortex sound loneliness moon jacuzzi lightness",
          "saw vasarely artworks motion sense time weird really short bright light bit hurting overall amazing",
          "intense geometric shapes spiralling deep ocean blue circle vivid memories dad carrying shoulders young girl back short dream unforgettable magical life-affirming",
          "changing colours interlocking diamond triangles faintly distinct light appear grow shrink",
          "saw starry night blue warm water blue butterfly",
          "saw shapes waves azulejo tiles patchwork blurry landscapes vague outlines animals shapes stag running saw past love wedding dress another swimming ocean",
          "v�sarely flying brain space warm sunset",
          "red red shapes travel tbrough time",
          "thoughts mundane everyday things work mainly relaxed ansd able float dreamlike place visuals ofspace deep ocean",
          "deep ocean dark also brilliant blue drowning instead that's meant sense place akin home almost calling draw submerged away world space could float simply exist without interruptions",
          "blue red cross initially dots various colours one point got quite animated bounced around fair bit dozed",
          "strange lights sense relaxation interested see would happen next",
          "sense moving portal transported 2001 viewed kaleidoscope wearing kaleidogoggles immense",
          "moving tunnel branches green see green start finish",
          "fractals intense colours sometimes mix memories single short scenes beautiful situations past",
          "one point light darkened vision shifted field blue - one recognised deep shade derek jarman's film",
          "visuals trees heatsun likeexperience",
          "saw lot animals ones used rreptiles time liked seemed adorable also dreaming random objects started create stories dreamingit drug trip points also inside ocean",
          "flying coourful vortex overwhelming vast spaceand insignificant",
          "outside kelidoscope colour rotating universe stars beyond everything one point looking buildings white curved modernist futuristic city",
          "saw different landscapes",
          "saw many shapes colours usually swirling falling around moving vortex tunnel often red orange sometimes bluey green underwater",
          "mind jellyfish suspended space",
          "colours made patterns eyes closed - almost weave colours woollen fabric",
          "vca fuzz patterns",
          "aware started follow train thought maybe going deeoer didnt see much imagery whdn concentratingon colours shapes spent lot timethunjing aboutthe way world sesoriky whether 'normal' compaired people",
          "began see source light come connection everything could see little sensory machines moving relm bumping sounds colours emotions colours behind closed eyes swapped opposite colour colour spectrum screen",
          "floating space",
          "portal moving towards away fractaling everything",
          "col0urs shapes stars ac inecoce",
          "journey cosmos travelling speed light galaxies wizz past",
          "interested different darkness different colours projected",
          "often connected space floating weightless surrounded millions stars travelling great speed time sometimes looked wormholes elated completely peaceful found smiling broadly moments",
          "visual doesnt look anything whst saw much geometric kaledoscopic sky",
          "web gold dark universe saw energy connection things domed tower full stars mountains arches appeared surrendered geometry falling lifted tunnels ascending warmth sun saw waters moving face earth covering deepness outside time close religious profoundly moving elating",
          "saw different colour lights centre closed eyes",
          "one point saw someone leave room (like dream) also lifted spiralled waltzer saw many kinds patterns sparks geometric shapes contrarotating spirals feet feel bit floaty",
          "though experiencing formation solar system eartha place warmth light arising dust spinning chaos suspended infinite void",
          "pattern red white lights thatflashed andbecame intensewhen lights flashed intensely alsofelt sleep abit thinkingof partner could visualise",
          "thought drifting space quite enjoyed opened eyesbut thought centrelights mild impressive colors sawwhen eyes shut brief fleeting hues nebulous specific patterns",
          "intense fast movement sound shapes colour aand light 100% immersive anticipated",
          "mass moving shapes vivid colours continually changing evolving enveloping",
          "sea 0f green stars moving oil water wading fading glimspe something disappearing shifting sharp angled reds bold lines intersectoring gate black swirling spheres orange turning spiral sense happening seems arrive vision virbates sense leaves",
          "saw concave convex thehot orange os cillating insice avolcano",
          "intense visual clarity \"hyper-resolution\" extremely rich 3d",
          "jouney forward maybe backwards slow fast really fast really sloooow many fractals colours",
          "kalsczscope colours",
          "land (not anywhere earth) another plannet animals usual colours - yellow elephant blue gorilla started gently running towards sea turned mermaid watched land swam away turtles fishes beautiful love peace harmony togetherness freedom much love",
          "told atthe start could keep eyes open lot thought light show didnt get whole idea impact impact flickering lights closed eyes",
          "thought universe moving moving centre drawn saw honeycomb shapes thought bees saw blocks colour red yellow dramatic",
          "bizarre lots observing others giant bubble people coming protected others control dome",
          "blue bird flying coming closer calm peace baby smiling relative thought working dream another place",
          "bright blue skies waterfall flowing backwards flock birds universe",
          "light shapes emerging receding patterns folding ofeash kaleidescope effects wasalso interesting image stabilised scan field vision side fo side explore periphery",
          "lights colours sense calm joy",
          "though moving tunnel towards darkness wrapped metal strips",
          "near impossible keep eyes open",
          "incredible colours patterns tended shift focusing sound colours difficult hold equally present",
          "moved wild tide atomic energy converging around us",
          "clouds holding breath",
          "floating air travelling universe flowers blooming",
          "lots colors",
          "got many vivid visions saw lots colours bedroom old tv shows videogames cities",
          "mostly saw grey geometric shapes",
          "saw vertical tree branches green leaves towards though moving sleep state point",
          "saw insideof eyelids whole new way",
          "water womb birth light world also point bees panel",
          "colourful patterns",
          "many different visuals experiences one ocean house grass fields near cliffs next ocean approaching heaven one last ones walworth road",
          "riding ray sort flying barren icelandic desert spinning universe",
          "towards went space take intense scary floating peacefully orbit glow earth could see stars",
          "thatgod's light shone upon going back beginning universe big bang andseeing creatures microcosm - cellular level- well planets stars also depths ocean",
          "desert figures moving across dunes underwater among whales viewing london sky line one point followed helicopter saw lot orange blue bubbly patterns",
          "hope colour",
          "bit weird know mybrain trying create something different things based colour",
          "body - fact planet earth - took trip space",
          "colours testcard lightly muted called pink mind saw wash deep pink also saw text almost ancient runes one point iwas flying remembered difficult experiences afterwards euphoric",
          "whole spectrum colors shapes colors never seen moving many directions pircing thorough body mind ecstatic wished would never home deep sense warm loving embrace mothers wumb",
          "colour fields varying colours changed rapidly moving patterns sometimes patterns appeared move downwards front eyes sometimes across vision sometimes towards point infinity",
          "body kept sinking dropping another level seat",
          "changing temperature body lights changes intensity focussed compared light across whole peripheral vision",
          "saw film strips sons lips giant wooshing manga dragon focussed grass slate little windows stained glass",
          "huge 3d landscapes flashing backgrounds undulating foreground quuckly becoming new perspective",
          "one central heart shape kept returning every colour rainbow one point sky immersed skydiving went space saw galaxies stars lots kaleidoscope shapes",
          "ajourney space riding kaleidoscope body occasion spinning sensastion could see glaxies star clusters around invisibke kaleidsospascecraft body lifted tracvelling theuniverse profound throughout calm exalted",
          "geometric paterns 2 colour mainly sometimes white dots moved rapidly direcion shape centre sometimes moved opposite direction towards centre point calledoscope linear helicopter sound could see 2 rotors geometrical shapes one front eye",
          "wild could stayed day complete disconnection body strong desire turn intensity explore visual phases kaleidoscope swirls geometric patterns oranges reds blues green suddenly black/white phases feeling motion floating looking sky looking beneath flying forwards backwards tunnel",
          "saw x3 distinct images: 1 staircase/escalator 2 treasure chests (x2 opening x1 closed/locked 3 bookmark symbol",
          "unsettling lights flashing kalediscope front eyes even thouh eyes closed didnt feel control wondered would positive found could shut wanted able relax -almost falling asleep times colours changed patterns sometimes sunrise othertimes something science fiction blue backgrounds white linked rectangles",
          "saw lot imagery colours especially images water ripples water snowscapes drops water falling also abstract forms pink red colours",
          "kaleidoscope light patterns",
          "saw incredible kaleidescopes patterns made solid stripes colour edges kaleidescopes started see corridors gardens though doorways imagined world inside patterns one moment darker saw deep mass blue green sparks pulsed almost jelly fish wanted stay space see worlds",
          "totally immersive inside kaleidescope saw bright yellow thesun took myhappy place",
          "hurtling space time speed determine experienced big bang everything since really hard put finger shedding different layers connected life forms much energy pulsating body",
          "towards slowly floating upwards",
          "saw flaring whirling water air becoming one withwhat floated",
          "spirals pulsing",
          "relaxed also stimulated brightness frequency flickering attacked yet never scared weak",
          "eyes shut time aware colours changing",
          "l flower slowly unfurling sunlight trippy mickey mouse 1940s disney animation seen kalaidescope",
          "towards washing spin going helicopter moving different possitions",
          "thousansds fluttering butterfly wings flying space incredible speed phosporescence water welsh blanket mothers blue handmade patchwork quilt tesselations hexagons overwhelming beauty spinning planet childhood memory staring glittering eyelashes rainbow bright sun",
          "hard focus single pattern wanted focus one would become less focused let pass would able see clearer",
          "numerous random shapes sometimes geometric sometimes dots feeling things comings sense travelling along galaxy highway towards",
          "st time seperate front vision 2nd time around vast difference happen bigger profound akmost intense",
          "surprised time (4th high sensory) seeing peripheral live structures - pyramidal shapes another thing found strange seeing clearly pentagram centre spiral - normal one well reversed rotating",
          "points intense chaos broke clear defined counter clockwise spiralling tunnel two small semi circles centre going opposite way",
          "saw hexagons blue tunnel thought bees generativity pure full electricity",
          "colours lines spheres twirls",
          "space even ive never physically",
          "fun fare spinning ride two next spinning opposite directions light lot mottled reds greens",
          "towardsthe maybe quarter started really intense visual ripples looking tower",
          "perception various geometric constructs dyson speheres mobius strips rippling water etc",
          "dissolved light",
          "intro red spiralsalmost cyclone",
          "saw kaleidoscope childhood toy abstract space dunes sunshine",
          "geometric kaleidescope shapes overlayed moving cosmos/night sky slow exposure different pulling directions moving portal time space",
          "can't recognise color actually feel light dimming",
          "wasmy second time experance black white cold bluues grids fractials previous pink tones vortexes sensation flyingin wormhole",
          "places waves animal",
          "travelling space",
          "particles star emiting light space",
          "lots pulsating spiralling images take specific forms",
          "peacefull contemplation vivid mandelbrot type kaladescopic patterns",
          "varirtyof lights colours movinginward outwards",
          null
         ],
         "marker": {
          "opacity": 0.5,
          "size": 5
         },
         "mode": "markers+text",
         "name": "0_saw_colours_shapes",
         "text": [
          "",
          "",
          "",
          "",
          "",
          "",
          "",
          "",
          "",
          "",
          "",
          "",
          "",
          "",
          "",
          "",
          "",
          "",
          "",
          "",
          "",
          "",
          "",
          "",
          "",
          "",
          "",
          "",
          "",
          "",
          "",
          "",
          "",
          "",
          "",
          "",
          "",
          "",
          "",
          "",
          "",
          "",
          "",
          "",
          "",
          "",
          "",
          "",
          "",
          "",
          "",
          "",
          "",
          "",
          "",
          "",
          "",
          "",
          "",
          "",
          "",
          "",
          "",
          "",
          "",
          "",
          "",
          "",
          "",
          "",
          "",
          "",
          "",
          "",
          "",
          "",
          "",
          "",
          "",
          "",
          "",
          "",
          "",
          "",
          "",
          "",
          "",
          "",
          "",
          "",
          "",
          "",
          "",
          "",
          "",
          "",
          "",
          "",
          "",
          "",
          "",
          "",
          "",
          "",
          "",
          "",
          "",
          "",
          "",
          "",
          "",
          "",
          "",
          "",
          "",
          "",
          "",
          "",
          "",
          "",
          "",
          "",
          "",
          "",
          "",
          "",
          "",
          "0_saw_colours_shapes"
         ],
         "textfont": {
          "size": 12
         },
         "type": "scattergl",
         "x": [
          8.460502624511719,
          8.343079566955566,
          7.1859846115112305,
          6.307678699493408,
          7.666438102722168,
          6.288184642791748,
          7.7728142738342285,
          8.048075675964355,
          8.702759742736816,
          7.026050090789795,
          7.759811878204346,
          7.99744176864624,
          7.080546855926514,
          6.068757057189941,
          7.91320276260376,
          7.883736610412598,
          6.7744598388671875,
          6.298943996429443,
          7.524916172027588,
          7.54711389541626,
          8.350518226623535,
          8.5559663772583,
          8.045083045959473,
          7.03858757019043,
          9.202630996704102,
          6.2276997566223145,
          6.859894752502441,
          5.99179744720459,
          6.346044540405273,
          9.228531837463379,
          7.935404300689697,
          8.518918991088867,
          9.251105308532715,
          5.953249931335449,
          9.055441856384277,
          7.79042911529541,
          8.562952995300293,
          6.263913631439209,
          7.509220600128174,
          8.662271499633789,
          6.316257953643799,
          6.6115946769714355,
          4.750646114349365,
          6.671356201171875,
          7.673253059387207,
          7.820830821990967,
          7.416904926300049,
          7.004336357116699,
          6.574963092803955,
          7.930618762969971,
          6.3027262687683105,
          8.189322471618652,
          7.392029762268066,
          8.794384956359863,
          8.734796524047852,
          7.772345066070557,
          5.751444339752197,
          7.901496887207031,
          6.1515703201293945,
          6.322565078735352,
          8.697896957397461,
          8.614486694335938,
          8.577290534973145,
          5.829148769378662,
          6.80448579788208,
          7.9829182624816895,
          7.7590651512146,
          6.119958400726318,
          8.24658203125,
          6.080967903137207,
          7.924102306365967,
          8.2687349319458,
          8.794693946838379,
          8.677876472473145,
          7.671350002288818,
          5.644346237182617,
          5.852221488952637,
          9.35710620880127,
          5.996651649475098,
          5.556299686431885,
          6.6902899742126465,
          9.118559837341309,
          6.048962116241455,
          7.987229347229004,
          7.395054340362549,
          8.367185592651367,
          8.623335838317871,
          6.976871967315674,
          7.440136909484863,
          8.320175170898438,
          6.075364112854004,
          7.092158794403076,
          7.8048529624938965,
          8.108017921447754,
          7.9579758644104,
          9.234903335571289,
          9.092145919799805,
          8.647281646728516,
          7.236908435821533,
          6.062839031219482,
          6.284937381744385,
          8.39316463470459,
          7.213183879852295,
          7.967234134674072,
          6.49469518661499,
          7.726337909698486,
          7.879091739654541,
          7.167037487030029,
          7.364075183868408,
          8.213820457458496,
          6.531276226043701,
          9.319239616394043,
          7.216586112976074,
          7.416758060455322,
          8.038771629333496,
          6.056190013885498,
          7.306193828582764,
          8.059252738952637,
          8.007135391235352,
          6.218080043792725,
          7.132134437561035,
          8.01646614074707,
          9.383550643920898,
          8.663565635681152,
          7.222325801849365,
          8.157700538635254,
          6.3854899406433105,
          7.501215934753418
         ],
         "y": [
          9.696887969970703,
          10.712550163269043,
          10.676833152770996,
          9.793924331665039,
          9.181447982788086,
          10.631856918334961,
          10.089578628540039,
          9.44376277923584,
          10.244563102722168,
          10.660468101501465,
          8.98186206817627,
          9.218477249145508,
          10.709833145141602,
          10.01461410522461,
          10.757580757141113,
          9.951303482055664,
          10.16280460357666,
          10.19300365447998,
          9.93423843383789,
          9.046588897705078,
          10.974123001098633,
          10.208199501037598,
          9.34377384185791,
          10.697412490844727,
          10.292228698730469,
          10.36548137664795,
          10.712751388549805,
          8.902633666992188,
          10.10356330871582,
          10.469970703125,
          10.747381210327148,
          10.29051399230957,
          10.097192764282227,
          10.596553802490234,
          10.055426597595215,
          10.883553504943848,
          9.67596435546875,
          10.14821720123291,
          9.832067489624023,
          10.199687957763672,
          9.821216583251953,
          9.877151489257812,
          9.664576530456543,
          10.645391464233398,
          10.375884056091309,
          10.570430755615234,
          10.963817596435547,
          10.41981029510498,
          10.952021598815918,
          9.215191841125488,
          9.854475021362305,
          9.78228759765625,
          10.689653396606445,
          10.835012435913086,
          10.848340034484863,
          10.850173950195312,
          10.167586326599121,
          9.886058807373047,
          9.882566452026367,
          10.628876686096191,
          9.806432723999023,
          10.854248046875,
          10.801756858825684,
          10.564181327819824,
          9.594891548156738,
          9.566831588745117,
          9.954504013061523,
          9.909561157226562,
          9.767256736755371,
          10.635751724243164,
          9.08159351348877,
          10.867120742797852,
          10.16474437713623,
          9.802122116088867,
          10.269098281860352,
          10.393678665161133,
          10.601485252380371,
          10.19063663482666,
          9.46285629272461,
          9.89688491821289,
          10.714112281799316,
          10.621729850769043,
          10.383147239685059,
          9.514192581176758,
          10.93863582611084,
          10.02163028717041,
          10.21268081665039,
          10.608203887939453,
          9.885327339172363,
          9.480416297912598,
          9.658244132995605,
          10.73319149017334,
          10.80592155456543,
          9.87646770477295,
          10.401769638061523,
          10.08078670501709,
          10.60854721069336,
          10.862655639648438,
          10.199736595153809,
          9.890399932861328,
          10.51072883605957,
          10.632122993469238,
          10.409072875976562,
          10.165711402893066,
          10.502654075622559,
          10.515835762023926,
          10.886871337890625,
          10.111062049865723,
          10.1482515335083,
          9.791084289550781,
          10.846952438354492,
          10.135679244995117,
          10.44819450378418,
          10.699511528015137,
          9.611869812011719,
          10.126237869262695,
          10.4967041015625,
          10.293828964233398,
          10.82839298248291,
          10.4138765335083,
          10.332613945007324,
          9.342957496643066,
          10.186745643615723,
          10.291974067687988,
          10.096187591552734,
          10.202954292297363,
          10.745063781738281,
          10.213277816772461
         ]
        },
        {
         "hoverinfo": "text",
         "hovertext": [
          "",
          "interesting one",
          "relaxed comfortable",
          "peaceful euphoric sense wonder awe",
          "insane",
          "complete relaxationpeace mind ready face whatever happens",
          "want fo",
          "calm",
          "calm",
          "x",
          "relaxing",
          "nice snooze thank",
          "nothing",
          "everything",
          "atei feel really relaxed would j try meditate beforehand still racing thoughts interrupting couldnt totally immersed suffer tinnitus matter always distraction",
          "great sense calm belonging",
          "calm",
          "overall amazing",
          "sparked much curiosity really understand",
          "good vibes",
          "",
          "much",
          "part something bigger",
          "experienced calmness almost nothingness relaxed peacefull soothing almost womb",
          "happiness joy adventure",
          "interesting",
          "want one home",
          "wonderfull peacefull",
          "relaxing reflective worries stopped / put porportion",
          "joy",
          "perfectly cromulent",
          "relaxation calm curiosity",
          "bliss",
          "coming home",
          "ajourney relaxedand abit worried iknewi would safe",
          "good stuff",
          "calm serenity flashback emotions",
          "joy relaxation",
          "sen se comfort connection anin inner peace clam safe",
          "interesting relaxed",
          "calm peaceful state blissful even vastness poetic beautiful",
          "peaceful",
          "peace",
          "being: immersed calm thrilled",
          "feeling peace tranquillity",
          "zeen",
          "utter peace happiness",
          "something wonderful",
          "warm",
          "amazing sense peace positivity",
          "peace contentment",
          "scope mentally acceptance peace",
          "warm cold sensations hands one point relaxed sleepy found flashing lights little intense eye mask worked well times overall enjoyable relaxing",
          "intrigued excited",
          "peacefulness guidance",
          null
         ],
         "marker": {
          "opacity": 0.5,
          "size": 5
         },
         "mode": "markers+text",
         "name": "1_calm_peace_relaxed",
         "text": [
          "",
          "",
          "",
          "",
          "",
          "",
          "",
          "",
          "",
          "",
          "",
          "",
          "",
          "",
          "",
          "",
          "",
          "",
          "",
          "",
          "",
          "",
          "",
          "",
          "",
          "",
          "",
          "",
          "",
          "",
          "",
          "",
          "",
          "",
          "",
          "",
          "",
          "",
          "",
          "",
          "",
          "",
          "",
          "",
          "",
          "",
          "",
          "",
          "",
          "",
          "",
          "",
          "",
          "",
          "",
          "1_calm_peace_relaxed"
         ],
         "textfont": {
          "size": 12
         },
         "type": "scattergl",
         "x": [
          4.465353012084961,
          4.296661853790283,
          4.219429969787598,
          5.7034196853637695,
          4.433915615081787,
          4.2229461669921875,
          4.549078941345215,
          5.006279468536377,
          5.090274333953857,
          4.319171905517578,
          4.224886894226074,
          4.0412278175354,
          4.654008388519287,
          4.6856279373168945,
          4.260564804077148,
          5.208813667297363,
          5.060239791870117,
          3.9384403228759766,
          4.404452323913574,
          3.985856771469116,
          4.430873394012451,
          4.464967250823975,
          4.767246723175049,
          4.853373050689697,
          4.816694736480713,
          4.272438049316406,
          4.687326908111572,
          5.35355281829834,
          4.172935485839844,
          4.761624336242676,
          5.458797931671143,
          4.242142200469971,
          4.8074631690979,
          4.70640754699707,
          4.416304588317871,
          4.0626959800720215,
          5.299734115600586,
          4.645779132843018,
          4.6900129318237305,
          4.160884380340576,
          5.438912391662598,
          5.230556964874268,
          5.3824591636657715,
          4.690227508544922,
          5.410552024841309,
          4.237118244171143,
          5.348724365234375,
          5.434018135070801,
          4.483689308166504,
          5.434676170349121,
          5.358599662780762,
          5.38871955871582,
          4.160135269165039,
          4.329644203186035,
          5.375108242034912,
          4.719000816345215
         ],
         "y": [
          5.349154472351074,
          5.737111568450928,
          6.651366710662842,
          5.897982597351074,
          5.411751747131348,
          6.95577335357666,
          5.5565032958984375,
          5.492979049682617,
          5.5081000328063965,
          5.233891487121582,
          6.671608924865723,
          5.860752582550049,
          5.194129943847656,
          5.200406551361084,
          7.022246837615967,
          5.705691337585449,
          5.5275750160217285,
          5.694703578948975,
          6.016176223754883,
          5.755527019500732,
          5.290291786193848,
          5.251673698425293,
          5.2308573722839355,
          6.872922897338867,
          6.462803840637207,
          5.764819622039795,
          5.683863639831543,
          5.96108341217041,
          7.026551246643066,
          6.403234958648682,
          6.282090187072754,
          6.889334678649902,
          6.33555269241333,
          5.67206335067749,
          6.901402950286865,
          5.750835418701172,
          7.305084228515625,
          6.548444747924805,
          6.8361945152282715,
          6.430809020996094,
          6.087521076202393,
          5.660643100738525,
          5.775734901428223,
          6.465468406677246,
          5.917590618133545,
          5.186391830444336,
          5.900434494018555,
          6.664743900299072,
          6.247826099395752,
          5.8531975746154785,
          5.781330585479736,
          5.822486877441406,
          6.987459659576416,
          5.982947826385498,
          5.801509857177734,
          6.026885032653809
         ]
        },
        {
         "hoverinfo": "text",
         "hovertext": [
          "stimulation relaxation within music light",
          "really enjoyed music zen",
          "musicis calming surreal sensory overwhelming powerful scared ar calmed feels sympolism acceptance self fear life isvan unique wont forget",
          "windows busy life flashes past seeing lovely mum partner dad sister niece nephew friends punctuated audio heightened loud point i'd left body - fully immersed sound light",
          "really pleasant relaxing sensation erotic make think sex sense struck enjoyable could sexual (alone others) conjunction sensation also wanted intenlse - much louder music intense part lighting pattern repeated longer",
          "vibration visuals centered body aware sounds mind realty quietened",
          "music",
          "thouhht really intense went phases rush taking journey colour beautiful calmingor rigid uncomfortable ididnt know look sudden disembodied huge wave eurphoria took totally free itsthe comfort ive ever magical",
          "thought fluffy speech writtenhealth safetyaspect broke sense adventure departure really ecessary meditive part nice perhaps take intro time brief overview histiry pursuits aybea bit science lose faux hand holding lovely overall",
          "sharp music connected sound helicopters smell burning associated war majority experienced heart shapes cosmic lights galaxies",
          "initially interested others reacting around began relax changing colours made feel safe happy music conjured images buddists spiritual people",
          "good beats leading helpful positive ambient sounds",
          "saw stars hexagons tesselating twisting zooming left right reds blues greens galactic bacground wanted engage annoyed started ands topped brain developing themes louder music better would liked slight difusion light something keep eyes shut intensity demanding open eyes concious mind thinking stopping thinking funny couldnt help thinking would happen drum beat maybe allow non euro music much love john hopkins",
          "sure puroose except muxic certainly inuced sleep dream state bpm high otherwise interesting co fusing much visions either think lights sy c go music well",
          "loneliness inner chikd screaming love screeching intensely anxious bit suffocated also knowing i've got embraced inner child allowed sulk scream cry coming mix intense feelings knowing could handle music took whole journey completrly surrounded music space space thick hot air saturated soundwaves inhaling drowning sound learning swim enjoy heal",
          "physically music especially percussion bass still feeling",
          "aware music tgroughout changing rythms tones",
          "hearing gongs saw sammi ling's buddhist retreat ans imagined totally relaxing peace music pace volume increased saw horses galloping increasing speed zt point horse pace gathefed train speed ing tgrough countryside time space muic reach climax found returning world countryside gradually getting back normal everyday life sense tge grating sounds towards exceot colour turquoise gradualky turned black nothingness",
          "relaxing patterened music",
          "unease",
          "music gentle powerful",
          "feeling freedom time space watched room rise fall music weight people room connected",
          "emptiness mind consumed power music filled mind",
          "relaxed sleep music colour chqnged",
          "journey unknown beautiful quest oblivion",
          "memories meditationswimming weightlessnessspace",
          "heard various music patterns different speeds high low notes music seemed build crescendo near session move slower calming sequence enhanced patterns made feel journey",
          "visual expirence would change lot music became relaxed music progressed journey",
          "put quite strange amazing mood want catch still sensitizing feeling one afterglow wonderful seeing deep textures powdery lights arise vision best bit taking feelingss music gliding morphing visions according feel music memory childhood spending lots time staring windows media player audio visualiser listening songs liked seemed amazing time made think synesthetic experiences they're precious worth seeking appreciating - music visual thing",
          "relaxed peaceful beats music",
          "awesome much expected diolch yn fawr tess calming",
          "pareidolia unnerving sometimes amazing though",
          "many psychecik lic experiences many years tame interezted potential taki g co mbining substzncex",
          "starting fee lfar significant/interesting emotions stopped",
          null
         ],
         "marker": {
          "opacity": 0.5,
          "size": 5
         },
         "mode": "markers+text",
         "name": "2_music_journey_time",
         "text": [
          "",
          "",
          "",
          "",
          "",
          "",
          "",
          "",
          "",
          "",
          "",
          "",
          "",
          "",
          "",
          "",
          "",
          "",
          "",
          "",
          "",
          "",
          "",
          "",
          "",
          "",
          "",
          "",
          "",
          "",
          "",
          "",
          "",
          "",
          "2_music_journey_time"
         ],
         "textfont": {
          "size": 12
         },
         "type": "scattergl",
         "x": [
          4.318077087402344,
          3.908839225769043,
          4.923315525054932,
          4.7277069091796875,
          4.667575359344482,
          4.506141662597656,
          3.9247560501098633,
          5.094324588775635,
          5.078080177307129,
          4.991802215576172,
          5.185542583465576,
          4.056751251220703,
          4.767360210418701,
          4.48410701751709,
          4.711503982543945,
          4.020674228668213,
          4.2658514976501465,
          4.8629841804504395,
          4.03256368637085,
          5.284455299377441,
          3.9997143745422363,
          4.69265079498291,
          4.2956671714782715,
          4.16682767868042,
          4.7351274490356445,
          4.685764312744141,
          4.527688026428223,
          4.404338836669922,
          4.774820327758789,
          4.03115177154541,
          5.12063455581665,
          5.066092014312744,
          4.783143997192383,
          5.180227756500244,
          4.596360683441162
         ],
         "y": [
          8.937283515930176,
          8.74134349822998,
          8.04875373840332,
          9.435074806213379,
          8.585089683532715,
          9.299347877502441,
          8.835163116455078,
          8.252079010009766,
          8.303473472595215,
          8.993720054626465,
          9.565710067749023,
          9.027410507202148,
          8.646673202514648,
          8.665414810180664,
          8.29804515838623,
          8.93667221069336,
          8.97905158996582,
          8.656996726989746,
          8.89835262298584,
          7.8283610343933105,
          8.920799255371094,
          8.7018404006958,
          8.630526542663574,
          8.894838333129883,
          8.108146667480469,
          8.713372230529785,
          8.798160552978516,
          8.825298309326172,
          8.527663230895996,
          8.952617645263672,
          8.005608558654785,
          7.880939960479736,
          8.386726379394531,
          8.012115478515625,
          8.65566635131836
         ]
        },
        {
         "hoverinfo": "text",
         "hovertext": [
          "different thoughts perception light manner human descernment develops towards something",
          "thoughts safe fun gives odd feeling wanting keep feeling types thing",
          "thoughts connecting others",
          "thought god",
          "something familiar soul experienced several emotions numb",
          "saw grey pulsing heart float across mind",
          "86 billion neurons wonder psychedelic experiences complexity brain produce limitless spectrum depression enlightenment thought anyway dream",
          "wanting thoughts overtake",
          "really thoughts day things need forgotten",
          "tried hard immerse dreamstate failed see anything except flickering lights think ought see changes",
          "brain massaged sometimes overwhelming think became overwhelming brain would cut normal thoughts eg need buy tge shop dinner sometimes would see clips eg film interdespersed everyniw",
          "also experienced ghost people purifferal verison sometimes fleeting walkjng around room whispy milky apperence also dyslexic itwasinteresting experence nuero divergent brained person",
          "constant thoughts coming towards batted away sky",
          "struggling mind would go back stringof thoughts andtoget take avery deep breath went past blank set thoughts occured thrice andiinhaled really deep get past",
          "people talking made see people walking towards really creepy",
          "peace tranquility joy stimulation arousal swirling patterns geometricshapes shifting changing got lost body disappeared cam eback short dreams",
          "brief - thinking death could look decided assume go near ddath check thoughts could build smth thzn visual thing cannot say totally useless expecting",
          "sleepy bit anxious times due speed flashing lights profound thoughts rather almost fell asleep dreamlike way",
          "parents house figure room old house (shared ex) walking daily comute towards old front door walking dog normal experiences usually time everything scary people things surroundings closing sides made jump grab chest",
          "random thoughts connected people close others events journeys",
          "kept thinking game football played tuesdayand hyper aware eyes something something might pull awzy",
          "put dreamlike semiconcious state sensation quite asleep coming wakefulness dreaming real things conversations",
          "dreaming awake- flashes random places maybe dead",
          "helicopter busy mind rest relentless stuck",
          "found lost thought near stopped aware visual thought stuff similar stuff normally think wonder work tall chair",
          "intense chaos mind checked subconscious took started talking imagine looking back life die",
          "detachment though body one box mind another anxjety came thst lack control",
          "thought feeling people around made feel vulnrable",
          "mind began wander reflect dreams goals relaxed way whereas usually anxious",
          "someone sleep paralysis regularly quite interesting brain automatically reached details prove \"real\" much present meditate either even though tried visuals pretty fun though",
          null
         ],
         "marker": {
          "opacity": 0.5,
          "size": 5
         },
         "mode": "markers+text",
         "name": "3_thoughts_people_mind",
         "text": [
          "",
          "",
          "",
          "",
          "",
          "",
          "",
          "",
          "",
          "",
          "",
          "",
          "",
          "",
          "",
          "",
          "",
          "",
          "",
          "",
          "",
          "",
          "",
          "",
          "",
          "",
          "",
          "",
          "",
          "",
          "3_thoughts_people_mind"
         ],
         "textfont": {
          "size": 12
         },
         "type": "scattergl",
         "x": [
          6.159450531005859,
          5.801961421966553,
          6.066704750061035,
          5.962738513946533,
          5.550037860870361,
          5.561766624450684,
          6.369412899017334,
          6.098027229309082,
          6.209951877593994,
          6.948044776916504,
          5.991491317749023,
          6.067618370056152,
          6.518426895141602,
          6.038872241973877,
          6.017218112945557,
          6.756652355194092,
          6.391141414642334,
          6.7066264152526855,
          5.887074947357178,
          6.1118292808532715,
          6.501171112060547,
          6.805764198303223,
          6.909887790679932,
          6.692627429962158,
          6.274137496948242,
          6.359190940856934,
          5.935725212097168,
          5.849015712738037,
          6.576876163482666,
          6.472773551940918,
          6.2530741691589355
         ],
         "y": [
          8.123991966247559,
          7.7964863777160645,
          7.907270431518555,
          7.732691287994385,
          7.889840602874756,
          7.968242645263672,
          7.421477794647217,
          7.9528608322143555,
          7.902390003204346,
          7.4173479080200195,
          8.09295654296875,
          7.645168781280518,
          7.999677658081055,
          8.064810752868652,
          7.700761318206787,
          7.430257320404053,
          7.221031665802002,
          7.522333145141602,
          7.517037391662598,
          7.895212173461914,
          7.977365016937256,
          7.394327163696289,
          7.376729488372803,
          7.909797191619873,
          8.331282615661621,
          7.528925895690918,
          8.160103797912598,
          7.824265003204346,
          7.65802526473999,
          7.455470561981201,
          7.760605335235596
         ]
        }
       ],
       "layout": {
        "annotations": [
         {
          "showarrow": false,
          "text": "D1",
          "x": 3.3225133419036865,
          "y": 8.514337253570556,
          "yshift": 10
         },
         {
          "showarrow": false,
          "text": "D2",
          "x": 7.05679829120636,
          "xshift": 10,
          "y": 12.620241451263428
         }
        ],
        "height": 750,
        "shapes": [
         {
          "line": {
           "color": "#CFD8DC",
           "width": 2
          },
          "type": "line",
          "x0": 7.05679829120636,
          "x1": 7.05679829120636,
          "y0": 4.408433055877685,
          "y1": 12.620241451263428
         },
         {
          "line": {
           "color": "#9E9E9E",
           "width": 2
          },
          "type": "line",
          "x0": 3.3225133419036865,
          "x1": 10.791083240509034,
          "y0": 8.514337253570556,
          "y1": 8.514337253570556
         }
        ],
        "template": {
         "data": {
          "bar": [
           {
            "error_x": {
             "color": "rgb(36,36,36)"
            },
            "error_y": {
             "color": "rgb(36,36,36)"
            },
            "marker": {
             "line": {
              "color": "white",
              "width": 0.5
             },
             "pattern": {
              "fillmode": "overlay",
              "size": 10,
              "solidity": 0.2
             }
            },
            "type": "bar"
           }
          ],
          "barpolar": [
           {
            "marker": {
             "line": {
              "color": "white",
              "width": 0.5
             },
             "pattern": {
              "fillmode": "overlay",
              "size": 10,
              "solidity": 0.2
             }
            },
            "type": "barpolar"
           }
          ],
          "carpet": [
           {
            "aaxis": {
             "endlinecolor": "rgb(36,36,36)",
             "gridcolor": "white",
             "linecolor": "white",
             "minorgridcolor": "white",
             "startlinecolor": "rgb(36,36,36)"
            },
            "baxis": {
             "endlinecolor": "rgb(36,36,36)",
             "gridcolor": "white",
             "linecolor": "white",
             "minorgridcolor": "white",
             "startlinecolor": "rgb(36,36,36)"
            },
            "type": "carpet"
           }
          ],
          "choropleth": [
           {
            "colorbar": {
             "outlinewidth": 1,
             "tickcolor": "rgb(36,36,36)",
             "ticks": "outside"
            },
            "type": "choropleth"
           }
          ],
          "contour": [
           {
            "colorbar": {
             "outlinewidth": 1,
             "tickcolor": "rgb(36,36,36)",
             "ticks": "outside"
            },
            "colorscale": [
             [
              0,
              "#440154"
             ],
             [
              0.1111111111111111,
              "#482878"
             ],
             [
              0.2222222222222222,
              "#3e4989"
             ],
             [
              0.3333333333333333,
              "#31688e"
             ],
             [
              0.4444444444444444,
              "#26828e"
             ],
             [
              0.5555555555555556,
              "#1f9e89"
             ],
             [
              0.6666666666666666,
              "#35b779"
             ],
             [
              0.7777777777777778,
              "#6ece58"
             ],
             [
              0.8888888888888888,
              "#b5de2b"
             ],
             [
              1,
              "#fde725"
             ]
            ],
            "type": "contour"
           }
          ],
          "contourcarpet": [
           {
            "colorbar": {
             "outlinewidth": 1,
             "tickcolor": "rgb(36,36,36)",
             "ticks": "outside"
            },
            "type": "contourcarpet"
           }
          ],
          "heatmap": [
           {
            "colorbar": {
             "outlinewidth": 1,
             "tickcolor": "rgb(36,36,36)",
             "ticks": "outside"
            },
            "colorscale": [
             [
              0,
              "#440154"
             ],
             [
              0.1111111111111111,
              "#482878"
             ],
             [
              0.2222222222222222,
              "#3e4989"
             ],
             [
              0.3333333333333333,
              "#31688e"
             ],
             [
              0.4444444444444444,
              "#26828e"
             ],
             [
              0.5555555555555556,
              "#1f9e89"
             ],
             [
              0.6666666666666666,
              "#35b779"
             ],
             [
              0.7777777777777778,
              "#6ece58"
             ],
             [
              0.8888888888888888,
              "#b5de2b"
             ],
             [
              1,
              "#fde725"
             ]
            ],
            "type": "heatmap"
           }
          ],
          "heatmapgl": [
           {
            "colorbar": {
             "outlinewidth": 1,
             "tickcolor": "rgb(36,36,36)",
             "ticks": "outside"
            },
            "colorscale": [
             [
              0,
              "#440154"
             ],
             [
              0.1111111111111111,
              "#482878"
             ],
             [
              0.2222222222222222,
              "#3e4989"
             ],
             [
              0.3333333333333333,
              "#31688e"
             ],
             [
              0.4444444444444444,
              "#26828e"
             ],
             [
              0.5555555555555556,
              "#1f9e89"
             ],
             [
              0.6666666666666666,
              "#35b779"
             ],
             [
              0.7777777777777778,
              "#6ece58"
             ],
             [
              0.8888888888888888,
              "#b5de2b"
             ],
             [
              1,
              "#fde725"
             ]
            ],
            "type": "heatmapgl"
           }
          ],
          "histogram": [
           {
            "marker": {
             "line": {
              "color": "white",
              "width": 0.6
             }
            },
            "type": "histogram"
           }
          ],
          "histogram2d": [
           {
            "colorbar": {
             "outlinewidth": 1,
             "tickcolor": "rgb(36,36,36)",
             "ticks": "outside"
            },
            "colorscale": [
             [
              0,
              "#440154"
             ],
             [
              0.1111111111111111,
              "#482878"
             ],
             [
              0.2222222222222222,
              "#3e4989"
             ],
             [
              0.3333333333333333,
              "#31688e"
             ],
             [
              0.4444444444444444,
              "#26828e"
             ],
             [
              0.5555555555555556,
              "#1f9e89"
             ],
             [
              0.6666666666666666,
              "#35b779"
             ],
             [
              0.7777777777777778,
              "#6ece58"
             ],
             [
              0.8888888888888888,
              "#b5de2b"
             ],
             [
              1,
              "#fde725"
             ]
            ],
            "type": "histogram2d"
           }
          ],
          "histogram2dcontour": [
           {
            "colorbar": {
             "outlinewidth": 1,
             "tickcolor": "rgb(36,36,36)",
             "ticks": "outside"
            },
            "colorscale": [
             [
              0,
              "#440154"
             ],
             [
              0.1111111111111111,
              "#482878"
             ],
             [
              0.2222222222222222,
              "#3e4989"
             ],
             [
              0.3333333333333333,
              "#31688e"
             ],
             [
              0.4444444444444444,
              "#26828e"
             ],
             [
              0.5555555555555556,
              "#1f9e89"
             ],
             [
              0.6666666666666666,
              "#35b779"
             ],
             [
              0.7777777777777778,
              "#6ece58"
             ],
             [
              0.8888888888888888,
              "#b5de2b"
             ],
             [
              1,
              "#fde725"
             ]
            ],
            "type": "histogram2dcontour"
           }
          ],
          "mesh3d": [
           {
            "colorbar": {
             "outlinewidth": 1,
             "tickcolor": "rgb(36,36,36)",
             "ticks": "outside"
            },
            "type": "mesh3d"
           }
          ],
          "parcoords": [
           {
            "line": {
             "colorbar": {
              "outlinewidth": 1,
              "tickcolor": "rgb(36,36,36)",
              "ticks": "outside"
             }
            },
            "type": "parcoords"
           }
          ],
          "pie": [
           {
            "automargin": true,
            "type": "pie"
           }
          ],
          "scatter": [
           {
            "fillpattern": {
             "fillmode": "overlay",
             "size": 10,
             "solidity": 0.2
            },
            "type": "scatter"
           }
          ],
          "scatter3d": [
           {
            "line": {
             "colorbar": {
              "outlinewidth": 1,
              "tickcolor": "rgb(36,36,36)",
              "ticks": "outside"
             }
            },
            "marker": {
             "colorbar": {
              "outlinewidth": 1,
              "tickcolor": "rgb(36,36,36)",
              "ticks": "outside"
             }
            },
            "type": "scatter3d"
           }
          ],
          "scattercarpet": [
           {
            "marker": {
             "colorbar": {
              "outlinewidth": 1,
              "tickcolor": "rgb(36,36,36)",
              "ticks": "outside"
             }
            },
            "type": "scattercarpet"
           }
          ],
          "scattergeo": [
           {
            "marker": {
             "colorbar": {
              "outlinewidth": 1,
              "tickcolor": "rgb(36,36,36)",
              "ticks": "outside"
             }
            },
            "type": "scattergeo"
           }
          ],
          "scattergl": [
           {
            "marker": {
             "colorbar": {
              "outlinewidth": 1,
              "tickcolor": "rgb(36,36,36)",
              "ticks": "outside"
             }
            },
            "type": "scattergl"
           }
          ],
          "scattermapbox": [
           {
            "marker": {
             "colorbar": {
              "outlinewidth": 1,
              "tickcolor": "rgb(36,36,36)",
              "ticks": "outside"
             }
            },
            "type": "scattermapbox"
           }
          ],
          "scatterpolar": [
           {
            "marker": {
             "colorbar": {
              "outlinewidth": 1,
              "tickcolor": "rgb(36,36,36)",
              "ticks": "outside"
             }
            },
            "type": "scatterpolar"
           }
          ],
          "scatterpolargl": [
           {
            "marker": {
             "colorbar": {
              "outlinewidth": 1,
              "tickcolor": "rgb(36,36,36)",
              "ticks": "outside"
             }
            },
            "type": "scatterpolargl"
           }
          ],
          "scatterternary": [
           {
            "marker": {
             "colorbar": {
              "outlinewidth": 1,
              "tickcolor": "rgb(36,36,36)",
              "ticks": "outside"
             }
            },
            "type": "scatterternary"
           }
          ],
          "surface": [
           {
            "colorbar": {
             "outlinewidth": 1,
             "tickcolor": "rgb(36,36,36)",
             "ticks": "outside"
            },
            "colorscale": [
             [
              0,
              "#440154"
             ],
             [
              0.1111111111111111,
              "#482878"
             ],
             [
              0.2222222222222222,
              "#3e4989"
             ],
             [
              0.3333333333333333,
              "#31688e"
             ],
             [
              0.4444444444444444,
              "#26828e"
             ],
             [
              0.5555555555555556,
              "#1f9e89"
             ],
             [
              0.6666666666666666,
              "#35b779"
             ],
             [
              0.7777777777777778,
              "#6ece58"
             ],
             [
              0.8888888888888888,
              "#b5de2b"
             ],
             [
              1,
              "#fde725"
             ]
            ],
            "type": "surface"
           }
          ],
          "table": [
           {
            "cells": {
             "fill": {
              "color": "rgb(237,237,237)"
             },
             "line": {
              "color": "white"
             }
            },
            "header": {
             "fill": {
              "color": "rgb(217,217,217)"
             },
             "line": {
              "color": "white"
             }
            },
            "type": "table"
           }
          ]
         },
         "layout": {
          "annotationdefaults": {
           "arrowhead": 0,
           "arrowwidth": 1
          },
          "autotypenumbers": "strict",
          "coloraxis": {
           "colorbar": {
            "outlinewidth": 1,
            "tickcolor": "rgb(36,36,36)",
            "ticks": "outside"
           }
          },
          "colorscale": {
           "diverging": [
            [
             0,
             "rgb(103,0,31)"
            ],
            [
             0.1,
             "rgb(178,24,43)"
            ],
            [
             0.2,
             "rgb(214,96,77)"
            ],
            [
             0.3,
             "rgb(244,165,130)"
            ],
            [
             0.4,
             "rgb(253,219,199)"
            ],
            [
             0.5,
             "rgb(247,247,247)"
            ],
            [
             0.6,
             "rgb(209,229,240)"
            ],
            [
             0.7,
             "rgb(146,197,222)"
            ],
            [
             0.8,
             "rgb(67,147,195)"
            ],
            [
             0.9,
             "rgb(33,102,172)"
            ],
            [
             1,
             "rgb(5,48,97)"
            ]
           ],
           "sequential": [
            [
             0,
             "#440154"
            ],
            [
             0.1111111111111111,
             "#482878"
            ],
            [
             0.2222222222222222,
             "#3e4989"
            ],
            [
             0.3333333333333333,
             "#31688e"
            ],
            [
             0.4444444444444444,
             "#26828e"
            ],
            [
             0.5555555555555556,
             "#1f9e89"
            ],
            [
             0.6666666666666666,
             "#35b779"
            ],
            [
             0.7777777777777778,
             "#6ece58"
            ],
            [
             0.8888888888888888,
             "#b5de2b"
            ],
            [
             1,
             "#fde725"
            ]
           ],
           "sequentialminus": [
            [
             0,
             "#440154"
            ],
            [
             0.1111111111111111,
             "#482878"
            ],
            [
             0.2222222222222222,
             "#3e4989"
            ],
            [
             0.3333333333333333,
             "#31688e"
            ],
            [
             0.4444444444444444,
             "#26828e"
            ],
            [
             0.5555555555555556,
             "#1f9e89"
            ],
            [
             0.6666666666666666,
             "#35b779"
            ],
            [
             0.7777777777777778,
             "#6ece58"
            ],
            [
             0.8888888888888888,
             "#b5de2b"
            ],
            [
             1,
             "#fde725"
            ]
           ]
          },
          "colorway": [
           "#1F77B4",
           "#FF7F0E",
           "#2CA02C",
           "#D62728",
           "#9467BD",
           "#8C564B",
           "#E377C2",
           "#7F7F7F",
           "#BCBD22",
           "#17BECF"
          ],
          "font": {
           "color": "rgb(36,36,36)"
          },
          "geo": {
           "bgcolor": "white",
           "lakecolor": "white",
           "landcolor": "white",
           "showlakes": true,
           "showland": true,
           "subunitcolor": "white"
          },
          "hoverlabel": {
           "align": "left"
          },
          "hovermode": "closest",
          "mapbox": {
           "style": "light"
          },
          "paper_bgcolor": "white",
          "plot_bgcolor": "white",
          "polar": {
           "angularaxis": {
            "gridcolor": "rgb(232,232,232)",
            "linecolor": "rgb(36,36,36)",
            "showgrid": false,
            "showline": true,
            "ticks": "outside"
           },
           "bgcolor": "white",
           "radialaxis": {
            "gridcolor": "rgb(232,232,232)",
            "linecolor": "rgb(36,36,36)",
            "showgrid": false,
            "showline": true,
            "ticks": "outside"
           }
          },
          "scene": {
           "xaxis": {
            "backgroundcolor": "white",
            "gridcolor": "rgb(232,232,232)",
            "gridwidth": 2,
            "linecolor": "rgb(36,36,36)",
            "showbackground": true,
            "showgrid": false,
            "showline": true,
            "ticks": "outside",
            "zeroline": false,
            "zerolinecolor": "rgb(36,36,36)"
           },
           "yaxis": {
            "backgroundcolor": "white",
            "gridcolor": "rgb(232,232,232)",
            "gridwidth": 2,
            "linecolor": "rgb(36,36,36)",
            "showbackground": true,
            "showgrid": false,
            "showline": true,
            "ticks": "outside",
            "zeroline": false,
            "zerolinecolor": "rgb(36,36,36)"
           },
           "zaxis": {
            "backgroundcolor": "white",
            "gridcolor": "rgb(232,232,232)",
            "gridwidth": 2,
            "linecolor": "rgb(36,36,36)",
            "showbackground": true,
            "showgrid": false,
            "showline": true,
            "ticks": "outside",
            "zeroline": false,
            "zerolinecolor": "rgb(36,36,36)"
           }
          },
          "shapedefaults": {
           "fillcolor": "black",
           "line": {
            "width": 0
           },
           "opacity": 0.3
          },
          "ternary": {
           "aaxis": {
            "gridcolor": "rgb(232,232,232)",
            "linecolor": "rgb(36,36,36)",
            "showgrid": false,
            "showline": true,
            "ticks": "outside"
           },
           "baxis": {
            "gridcolor": "rgb(232,232,232)",
            "linecolor": "rgb(36,36,36)",
            "showgrid": false,
            "showline": true,
            "ticks": "outside"
           },
           "bgcolor": "white",
           "caxis": {
            "gridcolor": "rgb(232,232,232)",
            "linecolor": "rgb(36,36,36)",
            "showgrid": false,
            "showline": true,
            "ticks": "outside"
           }
          },
          "title": {
           "x": 0.05
          },
          "xaxis": {
           "automargin": true,
           "gridcolor": "rgb(232,232,232)",
           "linecolor": "rgb(36,36,36)",
           "showgrid": false,
           "showline": true,
           "ticks": "outside",
           "title": {
            "standoff": 15
           },
           "zeroline": false,
           "zerolinecolor": "rgb(36,36,36)"
          },
          "yaxis": {
           "automargin": true,
           "gridcolor": "rgb(232,232,232)",
           "linecolor": "rgb(36,36,36)",
           "showgrid": false,
           "showline": true,
           "ticks": "outside",
           "title": {
            "standoff": 15
           },
           "zeroline": false,
           "zerolinecolor": "rgb(36,36,36)"
          }
         }
        },
        "title": {
         "font": {
          "color": "Black",
          "size": 22
         },
         "text": "<b>Documents and Topics</b>",
         "x": 0.5,
         "xanchor": "center",
         "yanchor": "top"
        },
        "width": 1200,
        "xaxis": {
         "visible": false
        },
        "yaxis": {
         "visible": false
        }
       }
      }
     },
     "metadata": {},
     "output_type": "display_data"
    }
   ],
   "source": [
    "model.visualize_documents(reports['text_processed'])"
   ]
  },
  {
   "cell_type": "code",
   "execution_count": 170,
   "metadata": {},
   "outputs": [
    {
     "data": {
      "application/vnd.plotly.v1+json": {
       "config": {
        "plotlyServerURL": "https://plot.ly"
       },
       "data": [
        {
         "coloraxis": "coloraxis",
         "hovertemplate": "x: %{x}<br>y: %{y}<br>Similarity Score: %{z}<extra></extra>",
         "name": "0",
         "type": "heatmap",
         "x": [
          "0_saw_colours_moving",
          "1_calm_peace_interesting",
          "2_music_journey_calming",
          "3_thoughts_mind_people"
         ],
         "xaxis": "x",
         "y": [
          "0_saw_colours_moving",
          "1_calm_peace_interesting",
          "2_music_journey_calming",
          "3_thoughts_mind_people"
         ],
         "yaxis": "y",
         "z": [
          [
           1.0000001192092896,
           0.3849116563796997,
           0.519686222076416,
           0.5966870784759521
          ],
          [
           0.3849116563796997,
           0.9999997615814209,
           0.5969098806381226,
           0.49614793062210083
          ],
          [
           0.519686222076416,
           0.5969098806381226,
           1,
           0.6681277751922607
          ],
          [
           0.5966870784759521,
           0.49614793062210083,
           0.6681277751922607,
           0.9999999403953552
          ]
         ]
        }
       ],
       "layout": {
        "coloraxis": {
         "colorbar": {
          "title": {
           "text": "Similarity Score"
          }
         },
         "colorscale": [
          [
           0,
           "rgb(247,252,240)"
          ],
          [
           0.125,
           "rgb(224,243,219)"
          ],
          [
           0.25,
           "rgb(204,235,197)"
          ],
          [
           0.375,
           "rgb(168,221,181)"
          ],
          [
           0.5,
           "rgb(123,204,196)"
          ],
          [
           0.625,
           "rgb(78,179,211)"
          ],
          [
           0.75,
           "rgb(43,140,190)"
          ],
          [
           0.875,
           "rgb(8,104,172)"
          ],
          [
           1,
           "rgb(8,64,129)"
          ]
         ]
        },
        "height": 800,
        "hoverlabel": {
         "bgcolor": "white",
         "font": {
          "family": "Rockwell",
          "size": 16
         }
        },
        "legend": {
         "title": {
          "text": "Trend"
         }
        },
        "margin": {
         "t": 60
        },
        "showlegend": true,
        "template": {
         "data": {
          "bar": [
           {
            "error_x": {
             "color": "#2a3f5f"
            },
            "error_y": {
             "color": "#2a3f5f"
            },
            "marker": {
             "line": {
              "color": "#E5ECF6",
              "width": 0.5
             },
             "pattern": {
              "fillmode": "overlay",
              "size": 10,
              "solidity": 0.2
             }
            },
            "type": "bar"
           }
          ],
          "barpolar": [
           {
            "marker": {
             "line": {
              "color": "#E5ECF6",
              "width": 0.5
             },
             "pattern": {
              "fillmode": "overlay",
              "size": 10,
              "solidity": 0.2
             }
            },
            "type": "barpolar"
           }
          ],
          "carpet": [
           {
            "aaxis": {
             "endlinecolor": "#2a3f5f",
             "gridcolor": "white",
             "linecolor": "white",
             "minorgridcolor": "white",
             "startlinecolor": "#2a3f5f"
            },
            "baxis": {
             "endlinecolor": "#2a3f5f",
             "gridcolor": "white",
             "linecolor": "white",
             "minorgridcolor": "white",
             "startlinecolor": "#2a3f5f"
            },
            "type": "carpet"
           }
          ],
          "choropleth": [
           {
            "colorbar": {
             "outlinewidth": 0,
             "ticks": ""
            },
            "type": "choropleth"
           }
          ],
          "contour": [
           {
            "colorbar": {
             "outlinewidth": 0,
             "ticks": ""
            },
            "colorscale": [
             [
              0,
              "#0d0887"
             ],
             [
              0.1111111111111111,
              "#46039f"
             ],
             [
              0.2222222222222222,
              "#7201a8"
             ],
             [
              0.3333333333333333,
              "#9c179e"
             ],
             [
              0.4444444444444444,
              "#bd3786"
             ],
             [
              0.5555555555555556,
              "#d8576b"
             ],
             [
              0.6666666666666666,
              "#ed7953"
             ],
             [
              0.7777777777777778,
              "#fb9f3a"
             ],
             [
              0.8888888888888888,
              "#fdca26"
             ],
             [
              1,
              "#f0f921"
             ]
            ],
            "type": "contour"
           }
          ],
          "contourcarpet": [
           {
            "colorbar": {
             "outlinewidth": 0,
             "ticks": ""
            },
            "type": "contourcarpet"
           }
          ],
          "heatmap": [
           {
            "colorbar": {
             "outlinewidth": 0,
             "ticks": ""
            },
            "colorscale": [
             [
              0,
              "#0d0887"
             ],
             [
              0.1111111111111111,
              "#46039f"
             ],
             [
              0.2222222222222222,
              "#7201a8"
             ],
             [
              0.3333333333333333,
              "#9c179e"
             ],
             [
              0.4444444444444444,
              "#bd3786"
             ],
             [
              0.5555555555555556,
              "#d8576b"
             ],
             [
              0.6666666666666666,
              "#ed7953"
             ],
             [
              0.7777777777777778,
              "#fb9f3a"
             ],
             [
              0.8888888888888888,
              "#fdca26"
             ],
             [
              1,
              "#f0f921"
             ]
            ],
            "type": "heatmap"
           }
          ],
          "heatmapgl": [
           {
            "colorbar": {
             "outlinewidth": 0,
             "ticks": ""
            },
            "colorscale": [
             [
              0,
              "#0d0887"
             ],
             [
              0.1111111111111111,
              "#46039f"
             ],
             [
              0.2222222222222222,
              "#7201a8"
             ],
             [
              0.3333333333333333,
              "#9c179e"
             ],
             [
              0.4444444444444444,
              "#bd3786"
             ],
             [
              0.5555555555555556,
              "#d8576b"
             ],
             [
              0.6666666666666666,
              "#ed7953"
             ],
             [
              0.7777777777777778,
              "#fb9f3a"
             ],
             [
              0.8888888888888888,
              "#fdca26"
             ],
             [
              1,
              "#f0f921"
             ]
            ],
            "type": "heatmapgl"
           }
          ],
          "histogram": [
           {
            "marker": {
             "pattern": {
              "fillmode": "overlay",
              "size": 10,
              "solidity": 0.2
             }
            },
            "type": "histogram"
           }
          ],
          "histogram2d": [
           {
            "colorbar": {
             "outlinewidth": 0,
             "ticks": ""
            },
            "colorscale": [
             [
              0,
              "#0d0887"
             ],
             [
              0.1111111111111111,
              "#46039f"
             ],
             [
              0.2222222222222222,
              "#7201a8"
             ],
             [
              0.3333333333333333,
              "#9c179e"
             ],
             [
              0.4444444444444444,
              "#bd3786"
             ],
             [
              0.5555555555555556,
              "#d8576b"
             ],
             [
              0.6666666666666666,
              "#ed7953"
             ],
             [
              0.7777777777777778,
              "#fb9f3a"
             ],
             [
              0.8888888888888888,
              "#fdca26"
             ],
             [
              1,
              "#f0f921"
             ]
            ],
            "type": "histogram2d"
           }
          ],
          "histogram2dcontour": [
           {
            "colorbar": {
             "outlinewidth": 0,
             "ticks": ""
            },
            "colorscale": [
             [
              0,
              "#0d0887"
             ],
             [
              0.1111111111111111,
              "#46039f"
             ],
             [
              0.2222222222222222,
              "#7201a8"
             ],
             [
              0.3333333333333333,
              "#9c179e"
             ],
             [
              0.4444444444444444,
              "#bd3786"
             ],
             [
              0.5555555555555556,
              "#d8576b"
             ],
             [
              0.6666666666666666,
              "#ed7953"
             ],
             [
              0.7777777777777778,
              "#fb9f3a"
             ],
             [
              0.8888888888888888,
              "#fdca26"
             ],
             [
              1,
              "#f0f921"
             ]
            ],
            "type": "histogram2dcontour"
           }
          ],
          "mesh3d": [
           {
            "colorbar": {
             "outlinewidth": 0,
             "ticks": ""
            },
            "type": "mesh3d"
           }
          ],
          "parcoords": [
           {
            "line": {
             "colorbar": {
              "outlinewidth": 0,
              "ticks": ""
             }
            },
            "type": "parcoords"
           }
          ],
          "pie": [
           {
            "automargin": true,
            "type": "pie"
           }
          ],
          "scatter": [
           {
            "fillpattern": {
             "fillmode": "overlay",
             "size": 10,
             "solidity": 0.2
            },
            "type": "scatter"
           }
          ],
          "scatter3d": [
           {
            "line": {
             "colorbar": {
              "outlinewidth": 0,
              "ticks": ""
             }
            },
            "marker": {
             "colorbar": {
              "outlinewidth": 0,
              "ticks": ""
             }
            },
            "type": "scatter3d"
           }
          ],
          "scattercarpet": [
           {
            "marker": {
             "colorbar": {
              "outlinewidth": 0,
              "ticks": ""
             }
            },
            "type": "scattercarpet"
           }
          ],
          "scattergeo": [
           {
            "marker": {
             "colorbar": {
              "outlinewidth": 0,
              "ticks": ""
             }
            },
            "type": "scattergeo"
           }
          ],
          "scattergl": [
           {
            "marker": {
             "colorbar": {
              "outlinewidth": 0,
              "ticks": ""
             }
            },
            "type": "scattergl"
           }
          ],
          "scattermapbox": [
           {
            "marker": {
             "colorbar": {
              "outlinewidth": 0,
              "ticks": ""
             }
            },
            "type": "scattermapbox"
           }
          ],
          "scatterpolar": [
           {
            "marker": {
             "colorbar": {
              "outlinewidth": 0,
              "ticks": ""
             }
            },
            "type": "scatterpolar"
           }
          ],
          "scatterpolargl": [
           {
            "marker": {
             "colorbar": {
              "outlinewidth": 0,
              "ticks": ""
             }
            },
            "type": "scatterpolargl"
           }
          ],
          "scatterternary": [
           {
            "marker": {
             "colorbar": {
              "outlinewidth": 0,
              "ticks": ""
             }
            },
            "type": "scatterternary"
           }
          ],
          "surface": [
           {
            "colorbar": {
             "outlinewidth": 0,
             "ticks": ""
            },
            "colorscale": [
             [
              0,
              "#0d0887"
             ],
             [
              0.1111111111111111,
              "#46039f"
             ],
             [
              0.2222222222222222,
              "#7201a8"
             ],
             [
              0.3333333333333333,
              "#9c179e"
             ],
             [
              0.4444444444444444,
              "#bd3786"
             ],
             [
              0.5555555555555556,
              "#d8576b"
             ],
             [
              0.6666666666666666,
              "#ed7953"
             ],
             [
              0.7777777777777778,
              "#fb9f3a"
             ],
             [
              0.8888888888888888,
              "#fdca26"
             ],
             [
              1,
              "#f0f921"
             ]
            ],
            "type": "surface"
           }
          ],
          "table": [
           {
            "cells": {
             "fill": {
              "color": "#EBF0F8"
             },
             "line": {
              "color": "white"
             }
            },
            "header": {
             "fill": {
              "color": "#C8D4E3"
             },
             "line": {
              "color": "white"
             }
            },
            "type": "table"
           }
          ]
         },
         "layout": {
          "annotationdefaults": {
           "arrowcolor": "#2a3f5f",
           "arrowhead": 0,
           "arrowwidth": 1
          },
          "autotypenumbers": "strict",
          "coloraxis": {
           "colorbar": {
            "outlinewidth": 0,
            "ticks": ""
           }
          },
          "colorscale": {
           "diverging": [
            [
             0,
             "#8e0152"
            ],
            [
             0.1,
             "#c51b7d"
            ],
            [
             0.2,
             "#de77ae"
            ],
            [
             0.3,
             "#f1b6da"
            ],
            [
             0.4,
             "#fde0ef"
            ],
            [
             0.5,
             "#f7f7f7"
            ],
            [
             0.6,
             "#e6f5d0"
            ],
            [
             0.7,
             "#b8e186"
            ],
            [
             0.8,
             "#7fbc41"
            ],
            [
             0.9,
             "#4d9221"
            ],
            [
             1,
             "#276419"
            ]
           ],
           "sequential": [
            [
             0,
             "#0d0887"
            ],
            [
             0.1111111111111111,
             "#46039f"
            ],
            [
             0.2222222222222222,
             "#7201a8"
            ],
            [
             0.3333333333333333,
             "#9c179e"
            ],
            [
             0.4444444444444444,
             "#bd3786"
            ],
            [
             0.5555555555555556,
             "#d8576b"
            ],
            [
             0.6666666666666666,
             "#ed7953"
            ],
            [
             0.7777777777777778,
             "#fb9f3a"
            ],
            [
             0.8888888888888888,
             "#fdca26"
            ],
            [
             1,
             "#f0f921"
            ]
           ],
           "sequentialminus": [
            [
             0,
             "#0d0887"
            ],
            [
             0.1111111111111111,
             "#46039f"
            ],
            [
             0.2222222222222222,
             "#7201a8"
            ],
            [
             0.3333333333333333,
             "#9c179e"
            ],
            [
             0.4444444444444444,
             "#bd3786"
            ],
            [
             0.5555555555555556,
             "#d8576b"
            ],
            [
             0.6666666666666666,
             "#ed7953"
            ],
            [
             0.7777777777777778,
             "#fb9f3a"
            ],
            [
             0.8888888888888888,
             "#fdca26"
            ],
            [
             1,
             "#f0f921"
            ]
           ]
          },
          "colorway": [
           "#636efa",
           "#EF553B",
           "#00cc96",
           "#ab63fa",
           "#FFA15A",
           "#19d3f3",
           "#FF6692",
           "#B6E880",
           "#FF97FF",
           "#FECB52"
          ],
          "font": {
           "color": "#2a3f5f"
          },
          "geo": {
           "bgcolor": "white",
           "lakecolor": "white",
           "landcolor": "#E5ECF6",
           "showlakes": true,
           "showland": true,
           "subunitcolor": "white"
          },
          "hoverlabel": {
           "align": "left"
          },
          "hovermode": "closest",
          "mapbox": {
           "style": "light"
          },
          "paper_bgcolor": "white",
          "plot_bgcolor": "#E5ECF6",
          "polar": {
           "angularaxis": {
            "gridcolor": "white",
            "linecolor": "white",
            "ticks": ""
           },
           "bgcolor": "#E5ECF6",
           "radialaxis": {
            "gridcolor": "white",
            "linecolor": "white",
            "ticks": ""
           }
          },
          "scene": {
           "xaxis": {
            "backgroundcolor": "#E5ECF6",
            "gridcolor": "white",
            "gridwidth": 2,
            "linecolor": "white",
            "showbackground": true,
            "ticks": "",
            "zerolinecolor": "white"
           },
           "yaxis": {
            "backgroundcolor": "#E5ECF6",
            "gridcolor": "white",
            "gridwidth": 2,
            "linecolor": "white",
            "showbackground": true,
            "ticks": "",
            "zerolinecolor": "white"
           },
           "zaxis": {
            "backgroundcolor": "#E5ECF6",
            "gridcolor": "white",
            "gridwidth": 2,
            "linecolor": "white",
            "showbackground": true,
            "ticks": "",
            "zerolinecolor": "white"
           }
          },
          "shapedefaults": {
           "line": {
            "color": "#2a3f5f"
           }
          },
          "ternary": {
           "aaxis": {
            "gridcolor": "white",
            "linecolor": "white",
            "ticks": ""
           },
           "baxis": {
            "gridcolor": "white",
            "linecolor": "white",
            "ticks": ""
           },
           "bgcolor": "#E5ECF6",
           "caxis": {
            "gridcolor": "white",
            "linecolor": "white",
            "ticks": ""
           }
          },
          "title": {
           "x": 0.05
          },
          "xaxis": {
           "automargin": true,
           "gridcolor": "white",
           "linecolor": "white",
           "ticks": "",
           "title": {
            "standoff": 15
           },
           "zerolinecolor": "white",
           "zerolinewidth": 2
          },
          "yaxis": {
           "automargin": true,
           "gridcolor": "white",
           "linecolor": "white",
           "ticks": "",
           "title": {
            "standoff": 15
           },
           "zerolinecolor": "white",
           "zerolinewidth": 2
          }
         }
        },
        "title": {
         "font": {
          "color": "Black",
          "size": 22
         },
         "text": "<b>Similarity Matrix</b>",
         "x": 0.55,
         "xanchor": "center",
         "y": 0.95,
         "yanchor": "top"
        },
        "width": 800,
        "xaxis": {
         "anchor": "y",
         "constrain": "domain",
         "domain": [
          0,
          1
         ],
         "scaleanchor": "y"
        },
        "yaxis": {
         "anchor": "x",
         "autorange": "reversed",
         "constrain": "domain",
         "domain": [
          0,
          1
         ]
        }
       }
      }
     },
     "metadata": {},
     "output_type": "display_data"
    }
   ],
   "source": [
    "model.visualize_heatmap(top_n_topics=10) #Visualize the top 10 topics as a heatmap"
   ]
  },
  {
   "cell_type": "code",
   "execution_count": 171,
   "metadata": {},
   "outputs": [
    {
     "data": {
      "application/vnd.plotly.v1+json": {
       "config": {
        "plotlyServerURL": "https://plot.ly"
       },
       "data": [
        {
         "customdata": [
          [
           0,
           "saw | colours | moving | shapes | space",
           137
          ],
          [
           1,
           "calm | peace | interesting | peaceful | curiosity",
           41
          ],
          [
           2,
           "music | journey | calming | relaxed | anxiety",
           34
          ],
          [
           3,
           "thoughts | mind | people | something | thought",
           29
          ]
         ],
         "hovertemplate": "<b>Topic %{customdata[0]}</b><br>%{customdata[1]}<br>Size: %{customdata[2]}",
         "legendgroup": "",
         "marker": {
          "color": "#B0BEC5",
          "line": {
           "color": "DarkSlateGrey",
           "width": 2
          },
          "size": [
           137,
           41,
           34,
           29
          ],
          "sizemode": "area",
          "sizeref": 0.085625,
          "symbol": "circle"
         },
         "mode": "markers",
         "name": "",
         "orientation": "v",
         "showlegend": false,
         "type": "scatter",
         "x": [
          1.1998578310012817,
          2.555996894836426,
          2.7794532775878906,
          2.0376334190368652
         ],
         "xaxis": "x",
         "y": [
          12.176426887512207,
          10.776982307434082,
          11.576684951782227,
          12.248862266540527
         ],
         "yaxis": "y"
        }
       ],
       "layout": {
        "annotations": [
         {
          "showarrow": false,
          "text": "D1",
          "x": 1.0198791563510894,
          "y": 11.623313283920288,
          "yshift": 10
         },
         {
          "showarrow": false,
          "text": "D2",
          "x": 2.1081252127885817,
          "xshift": 10,
          "y": 14.086191606521606
         }
        ],
        "height": 650,
        "hoverlabel": {
         "bgcolor": "white",
         "font": {
          "family": "Rockwell",
          "size": 16
         }
        },
        "legend": {
         "itemsizing": "constant",
         "tracegroupgap": 0
        },
        "margin": {
         "t": 60
        },
        "shapes": [
         {
          "line": {
           "color": "#CFD8DC",
           "width": 2
          },
          "type": "line",
          "x0": 2.1081252127885817,
          "x1": 2.1081252127885817,
          "y0": 9.16043496131897,
          "y1": 14.086191606521606
         },
         {
          "line": {
           "color": "#9E9E9E",
           "width": 2
          },
          "type": "line",
          "x0": 1.0198791563510894,
          "x1": 3.1963712692260744,
          "y0": 11.623313283920288,
          "y1": 11.623313283920288
         }
        ],
        "sliders": [
         {
          "active": 0,
          "pad": {
           "t": 50
          },
          "steps": [
           {
            "args": [
             {
              "marker.color": [
               [
                "red",
                "#B0BEC5",
                "#B0BEC5",
                "#B0BEC5"
               ]
              ]
             }
            ],
            "label": "Topic 0",
            "method": "update"
           },
           {
            "args": [
             {
              "marker.color": [
               [
                "#B0BEC5",
                "red",
                "#B0BEC5",
                "#B0BEC5"
               ]
              ]
             }
            ],
            "label": "Topic 1",
            "method": "update"
           },
           {
            "args": [
             {
              "marker.color": [
               [
                "#B0BEC5",
                "#B0BEC5",
                "red",
                "#B0BEC5"
               ]
              ]
             }
            ],
            "label": "Topic 2",
            "method": "update"
           },
           {
            "args": [
             {
              "marker.color": [
               [
                "#B0BEC5",
                "#B0BEC5",
                "#B0BEC5",
                "red"
               ]
              ]
             }
            ],
            "label": "Topic 3",
            "method": "update"
           }
          ]
         }
        ],
        "template": {
         "data": {
          "bar": [
           {
            "error_x": {
             "color": "rgb(36,36,36)"
            },
            "error_y": {
             "color": "rgb(36,36,36)"
            },
            "marker": {
             "line": {
              "color": "white",
              "width": 0.5
             },
             "pattern": {
              "fillmode": "overlay",
              "size": 10,
              "solidity": 0.2
             }
            },
            "type": "bar"
           }
          ],
          "barpolar": [
           {
            "marker": {
             "line": {
              "color": "white",
              "width": 0.5
             },
             "pattern": {
              "fillmode": "overlay",
              "size": 10,
              "solidity": 0.2
             }
            },
            "type": "barpolar"
           }
          ],
          "carpet": [
           {
            "aaxis": {
             "endlinecolor": "rgb(36,36,36)",
             "gridcolor": "white",
             "linecolor": "white",
             "minorgridcolor": "white",
             "startlinecolor": "rgb(36,36,36)"
            },
            "baxis": {
             "endlinecolor": "rgb(36,36,36)",
             "gridcolor": "white",
             "linecolor": "white",
             "minorgridcolor": "white",
             "startlinecolor": "rgb(36,36,36)"
            },
            "type": "carpet"
           }
          ],
          "choropleth": [
           {
            "colorbar": {
             "outlinewidth": 1,
             "tickcolor": "rgb(36,36,36)",
             "ticks": "outside"
            },
            "type": "choropleth"
           }
          ],
          "contour": [
           {
            "colorbar": {
             "outlinewidth": 1,
             "tickcolor": "rgb(36,36,36)",
             "ticks": "outside"
            },
            "colorscale": [
             [
              0,
              "#440154"
             ],
             [
              0.1111111111111111,
              "#482878"
             ],
             [
              0.2222222222222222,
              "#3e4989"
             ],
             [
              0.3333333333333333,
              "#31688e"
             ],
             [
              0.4444444444444444,
              "#26828e"
             ],
             [
              0.5555555555555556,
              "#1f9e89"
             ],
             [
              0.6666666666666666,
              "#35b779"
             ],
             [
              0.7777777777777778,
              "#6ece58"
             ],
             [
              0.8888888888888888,
              "#b5de2b"
             ],
             [
              1,
              "#fde725"
             ]
            ],
            "type": "contour"
           }
          ],
          "contourcarpet": [
           {
            "colorbar": {
             "outlinewidth": 1,
             "tickcolor": "rgb(36,36,36)",
             "ticks": "outside"
            },
            "type": "contourcarpet"
           }
          ],
          "heatmap": [
           {
            "colorbar": {
             "outlinewidth": 1,
             "tickcolor": "rgb(36,36,36)",
             "ticks": "outside"
            },
            "colorscale": [
             [
              0,
              "#440154"
             ],
             [
              0.1111111111111111,
              "#482878"
             ],
             [
              0.2222222222222222,
              "#3e4989"
             ],
             [
              0.3333333333333333,
              "#31688e"
             ],
             [
              0.4444444444444444,
              "#26828e"
             ],
             [
              0.5555555555555556,
              "#1f9e89"
             ],
             [
              0.6666666666666666,
              "#35b779"
             ],
             [
              0.7777777777777778,
              "#6ece58"
             ],
             [
              0.8888888888888888,
              "#b5de2b"
             ],
             [
              1,
              "#fde725"
             ]
            ],
            "type": "heatmap"
           }
          ],
          "heatmapgl": [
           {
            "colorbar": {
             "outlinewidth": 1,
             "tickcolor": "rgb(36,36,36)",
             "ticks": "outside"
            },
            "colorscale": [
             [
              0,
              "#440154"
             ],
             [
              0.1111111111111111,
              "#482878"
             ],
             [
              0.2222222222222222,
              "#3e4989"
             ],
             [
              0.3333333333333333,
              "#31688e"
             ],
             [
              0.4444444444444444,
              "#26828e"
             ],
             [
              0.5555555555555556,
              "#1f9e89"
             ],
             [
              0.6666666666666666,
              "#35b779"
             ],
             [
              0.7777777777777778,
              "#6ece58"
             ],
             [
              0.8888888888888888,
              "#b5de2b"
             ],
             [
              1,
              "#fde725"
             ]
            ],
            "type": "heatmapgl"
           }
          ],
          "histogram": [
           {
            "marker": {
             "line": {
              "color": "white",
              "width": 0.6
             }
            },
            "type": "histogram"
           }
          ],
          "histogram2d": [
           {
            "colorbar": {
             "outlinewidth": 1,
             "tickcolor": "rgb(36,36,36)",
             "ticks": "outside"
            },
            "colorscale": [
             [
              0,
              "#440154"
             ],
             [
              0.1111111111111111,
              "#482878"
             ],
             [
              0.2222222222222222,
              "#3e4989"
             ],
             [
              0.3333333333333333,
              "#31688e"
             ],
             [
              0.4444444444444444,
              "#26828e"
             ],
             [
              0.5555555555555556,
              "#1f9e89"
             ],
             [
              0.6666666666666666,
              "#35b779"
             ],
             [
              0.7777777777777778,
              "#6ece58"
             ],
             [
              0.8888888888888888,
              "#b5de2b"
             ],
             [
              1,
              "#fde725"
             ]
            ],
            "type": "histogram2d"
           }
          ],
          "histogram2dcontour": [
           {
            "colorbar": {
             "outlinewidth": 1,
             "tickcolor": "rgb(36,36,36)",
             "ticks": "outside"
            },
            "colorscale": [
             [
              0,
              "#440154"
             ],
             [
              0.1111111111111111,
              "#482878"
             ],
             [
              0.2222222222222222,
              "#3e4989"
             ],
             [
              0.3333333333333333,
              "#31688e"
             ],
             [
              0.4444444444444444,
              "#26828e"
             ],
             [
              0.5555555555555556,
              "#1f9e89"
             ],
             [
              0.6666666666666666,
              "#35b779"
             ],
             [
              0.7777777777777778,
              "#6ece58"
             ],
             [
              0.8888888888888888,
              "#b5de2b"
             ],
             [
              1,
              "#fde725"
             ]
            ],
            "type": "histogram2dcontour"
           }
          ],
          "mesh3d": [
           {
            "colorbar": {
             "outlinewidth": 1,
             "tickcolor": "rgb(36,36,36)",
             "ticks": "outside"
            },
            "type": "mesh3d"
           }
          ],
          "parcoords": [
           {
            "line": {
             "colorbar": {
              "outlinewidth": 1,
              "tickcolor": "rgb(36,36,36)",
              "ticks": "outside"
             }
            },
            "type": "parcoords"
           }
          ],
          "pie": [
           {
            "automargin": true,
            "type": "pie"
           }
          ],
          "scatter": [
           {
            "fillpattern": {
             "fillmode": "overlay",
             "size": 10,
             "solidity": 0.2
            },
            "type": "scatter"
           }
          ],
          "scatter3d": [
           {
            "line": {
             "colorbar": {
              "outlinewidth": 1,
              "tickcolor": "rgb(36,36,36)",
              "ticks": "outside"
             }
            },
            "marker": {
             "colorbar": {
              "outlinewidth": 1,
              "tickcolor": "rgb(36,36,36)",
              "ticks": "outside"
             }
            },
            "type": "scatter3d"
           }
          ],
          "scattercarpet": [
           {
            "marker": {
             "colorbar": {
              "outlinewidth": 1,
              "tickcolor": "rgb(36,36,36)",
              "ticks": "outside"
             }
            },
            "type": "scattercarpet"
           }
          ],
          "scattergeo": [
           {
            "marker": {
             "colorbar": {
              "outlinewidth": 1,
              "tickcolor": "rgb(36,36,36)",
              "ticks": "outside"
             }
            },
            "type": "scattergeo"
           }
          ],
          "scattergl": [
           {
            "marker": {
             "colorbar": {
              "outlinewidth": 1,
              "tickcolor": "rgb(36,36,36)",
              "ticks": "outside"
             }
            },
            "type": "scattergl"
           }
          ],
          "scattermapbox": [
           {
            "marker": {
             "colorbar": {
              "outlinewidth": 1,
              "tickcolor": "rgb(36,36,36)",
              "ticks": "outside"
             }
            },
            "type": "scattermapbox"
           }
          ],
          "scatterpolar": [
           {
            "marker": {
             "colorbar": {
              "outlinewidth": 1,
              "tickcolor": "rgb(36,36,36)",
              "ticks": "outside"
             }
            },
            "type": "scatterpolar"
           }
          ],
          "scatterpolargl": [
           {
            "marker": {
             "colorbar": {
              "outlinewidth": 1,
              "tickcolor": "rgb(36,36,36)",
              "ticks": "outside"
             }
            },
            "type": "scatterpolargl"
           }
          ],
          "scatterternary": [
           {
            "marker": {
             "colorbar": {
              "outlinewidth": 1,
              "tickcolor": "rgb(36,36,36)",
              "ticks": "outside"
             }
            },
            "type": "scatterternary"
           }
          ],
          "surface": [
           {
            "colorbar": {
             "outlinewidth": 1,
             "tickcolor": "rgb(36,36,36)",
             "ticks": "outside"
            },
            "colorscale": [
             [
              0,
              "#440154"
             ],
             [
              0.1111111111111111,
              "#482878"
             ],
             [
              0.2222222222222222,
              "#3e4989"
             ],
             [
              0.3333333333333333,
              "#31688e"
             ],
             [
              0.4444444444444444,
              "#26828e"
             ],
             [
              0.5555555555555556,
              "#1f9e89"
             ],
             [
              0.6666666666666666,
              "#35b779"
             ],
             [
              0.7777777777777778,
              "#6ece58"
             ],
             [
              0.8888888888888888,
              "#b5de2b"
             ],
             [
              1,
              "#fde725"
             ]
            ],
            "type": "surface"
           }
          ],
          "table": [
           {
            "cells": {
             "fill": {
              "color": "rgb(237,237,237)"
             },
             "line": {
              "color": "white"
             }
            },
            "header": {
             "fill": {
              "color": "rgb(217,217,217)"
             },
             "line": {
              "color": "white"
             }
            },
            "type": "table"
           }
          ]
         },
         "layout": {
          "annotationdefaults": {
           "arrowhead": 0,
           "arrowwidth": 1
          },
          "autotypenumbers": "strict",
          "coloraxis": {
           "colorbar": {
            "outlinewidth": 1,
            "tickcolor": "rgb(36,36,36)",
            "ticks": "outside"
           }
          },
          "colorscale": {
           "diverging": [
            [
             0,
             "rgb(103,0,31)"
            ],
            [
             0.1,
             "rgb(178,24,43)"
            ],
            [
             0.2,
             "rgb(214,96,77)"
            ],
            [
             0.3,
             "rgb(244,165,130)"
            ],
            [
             0.4,
             "rgb(253,219,199)"
            ],
            [
             0.5,
             "rgb(247,247,247)"
            ],
            [
             0.6,
             "rgb(209,229,240)"
            ],
            [
             0.7,
             "rgb(146,197,222)"
            ],
            [
             0.8,
             "rgb(67,147,195)"
            ],
            [
             0.9,
             "rgb(33,102,172)"
            ],
            [
             1,
             "rgb(5,48,97)"
            ]
           ],
           "sequential": [
            [
             0,
             "#440154"
            ],
            [
             0.1111111111111111,
             "#482878"
            ],
            [
             0.2222222222222222,
             "#3e4989"
            ],
            [
             0.3333333333333333,
             "#31688e"
            ],
            [
             0.4444444444444444,
             "#26828e"
            ],
            [
             0.5555555555555556,
             "#1f9e89"
            ],
            [
             0.6666666666666666,
             "#35b779"
            ],
            [
             0.7777777777777778,
             "#6ece58"
            ],
            [
             0.8888888888888888,
             "#b5de2b"
            ],
            [
             1,
             "#fde725"
            ]
           ],
           "sequentialminus": [
            [
             0,
             "#440154"
            ],
            [
             0.1111111111111111,
             "#482878"
            ],
            [
             0.2222222222222222,
             "#3e4989"
            ],
            [
             0.3333333333333333,
             "#31688e"
            ],
            [
             0.4444444444444444,
             "#26828e"
            ],
            [
             0.5555555555555556,
             "#1f9e89"
            ],
            [
             0.6666666666666666,
             "#35b779"
            ],
            [
             0.7777777777777778,
             "#6ece58"
            ],
            [
             0.8888888888888888,
             "#b5de2b"
            ],
            [
             1,
             "#fde725"
            ]
           ]
          },
          "colorway": [
           "#1F77B4",
           "#FF7F0E",
           "#2CA02C",
           "#D62728",
           "#9467BD",
           "#8C564B",
           "#E377C2",
           "#7F7F7F",
           "#BCBD22",
           "#17BECF"
          ],
          "font": {
           "color": "rgb(36,36,36)"
          },
          "geo": {
           "bgcolor": "white",
           "lakecolor": "white",
           "landcolor": "white",
           "showlakes": true,
           "showland": true,
           "subunitcolor": "white"
          },
          "hoverlabel": {
           "align": "left"
          },
          "hovermode": "closest",
          "mapbox": {
           "style": "light"
          },
          "paper_bgcolor": "white",
          "plot_bgcolor": "white",
          "polar": {
           "angularaxis": {
            "gridcolor": "rgb(232,232,232)",
            "linecolor": "rgb(36,36,36)",
            "showgrid": false,
            "showline": true,
            "ticks": "outside"
           },
           "bgcolor": "white",
           "radialaxis": {
            "gridcolor": "rgb(232,232,232)",
            "linecolor": "rgb(36,36,36)",
            "showgrid": false,
            "showline": true,
            "ticks": "outside"
           }
          },
          "scene": {
           "xaxis": {
            "backgroundcolor": "white",
            "gridcolor": "rgb(232,232,232)",
            "gridwidth": 2,
            "linecolor": "rgb(36,36,36)",
            "showbackground": true,
            "showgrid": false,
            "showline": true,
            "ticks": "outside",
            "zeroline": false,
            "zerolinecolor": "rgb(36,36,36)"
           },
           "yaxis": {
            "backgroundcolor": "white",
            "gridcolor": "rgb(232,232,232)",
            "gridwidth": 2,
            "linecolor": "rgb(36,36,36)",
            "showbackground": true,
            "showgrid": false,
            "showline": true,
            "ticks": "outside",
            "zeroline": false,
            "zerolinecolor": "rgb(36,36,36)"
           },
           "zaxis": {
            "backgroundcolor": "white",
            "gridcolor": "rgb(232,232,232)",
            "gridwidth": 2,
            "linecolor": "rgb(36,36,36)",
            "showbackground": true,
            "showgrid": false,
            "showline": true,
            "ticks": "outside",
            "zeroline": false,
            "zerolinecolor": "rgb(36,36,36)"
           }
          },
          "shapedefaults": {
           "fillcolor": "black",
           "line": {
            "width": 0
           },
           "opacity": 0.3
          },
          "ternary": {
           "aaxis": {
            "gridcolor": "rgb(232,232,232)",
            "linecolor": "rgb(36,36,36)",
            "showgrid": false,
            "showline": true,
            "ticks": "outside"
           },
           "baxis": {
            "gridcolor": "rgb(232,232,232)",
            "linecolor": "rgb(36,36,36)",
            "showgrid": false,
            "showline": true,
            "ticks": "outside"
           },
           "bgcolor": "white",
           "caxis": {
            "gridcolor": "rgb(232,232,232)",
            "linecolor": "rgb(36,36,36)",
            "showgrid": false,
            "showline": true,
            "ticks": "outside"
           }
          },
          "title": {
           "x": 0.05
          },
          "xaxis": {
           "automargin": true,
           "gridcolor": "rgb(232,232,232)",
           "linecolor": "rgb(36,36,36)",
           "showgrid": false,
           "showline": true,
           "ticks": "outside",
           "title": {
            "standoff": 15
           },
           "zeroline": false,
           "zerolinecolor": "rgb(36,36,36)"
          },
          "yaxis": {
           "automargin": true,
           "gridcolor": "rgb(232,232,232)",
           "linecolor": "rgb(36,36,36)",
           "showgrid": false,
           "showline": true,
           "ticks": "outside",
           "title": {
            "standoff": 15
           },
           "zeroline": false,
           "zerolinecolor": "rgb(36,36,36)"
          }
         }
        },
        "title": {
         "font": {
          "color": "Black",
          "size": 22
         },
         "text": "<b>Intertopic Distance Map</b>",
         "x": 0.5,
         "xanchor": "center",
         "y": 0.95,
         "yanchor": "top"
        },
        "width": 650,
        "xaxis": {
         "anchor": "y",
         "domain": [
          0,
          1
         ],
         "range": [
          1.0198791563510894,
          3.1963712692260744
         ],
         "title": {
          "text": ""
         },
         "visible": false
        },
        "yaxis": {
         "anchor": "x",
         "domain": [
          0,
          1
         ],
         "range": [
          9.16043496131897,
          14.086191606521606
         ],
         "title": {
          "text": ""
         },
         "visible": false
        }
       }
      }
     },
     "metadata": {},
     "output_type": "display_data"
    }
   ],
   "source": [
    "model.visualize_topics() #Visualize topics (similar to LDA visualization representation)"
   ]
  },
  {
   "cell_type": "code",
   "execution_count": 142,
   "metadata": {},
   "outputs": [
    {
     "data": {
      "application/vnd.plotly.v1+json": {
       "config": {
        "plotlyServerURL": "https://plot.ly"
       },
       "data": [
        {
         "hoverinfo": "text",
         "marker": {
          "color": "rgb(61,153,112)"
         },
         "mode": "lines",
         "type": "scatter",
         "x": [
          0,
          0.9507004702331606,
          0.9507004702331606,
          0
         ],
         "xaxis": "x",
         "y": [
          -5,
          -5,
          -15,
          -15
         ],
         "yaxis": "y"
        },
        {
         "hoverinfo": "text",
         "marker": {
          "color": "rgb(61,153,112)"
         },
         "mode": "lines",
         "type": "scatter",
         "x": [
          0,
          0.7206451805307426,
          0.7206451805307426,
          0
         ],
         "xaxis": "x",
         "y": [
          -25,
          -25,
          -35,
          -35
         ],
         "yaxis": "y"
        },
        {
         "hoverinfo": "text",
         "marker": {
          "color": "rgb(61,153,112)"
         },
         "mode": "lines",
         "type": "scatter",
         "x": [
          0.7206451805307426,
          0.8322948178492956,
          0.8322948178492956,
          0
         ],
         "xaxis": "x",
         "y": [
          -30,
          -30,
          -45,
          -45
         ],
         "yaxis": "y"
        },
        {
         "hoverinfo": "text",
         "marker": {
          "color": "rgb(61,153,112)"
         },
         "mode": "lines",
         "type": "scatter",
         "x": [
          0.9507004702331606,
          0.9901361563450076,
          0.9901361563450076,
          0.8322948178492956
         ],
         "xaxis": "x",
         "y": [
          -10,
          -10,
          -37.5,
          -37.5
         ],
         "yaxis": "y"
        },
        {
         "hoverinfo": "text",
         "marker": {
          "color": "rgb(255,65,54)"
         },
         "mode": "lines",
         "type": "scatter",
         "x": [
          0,
          0.8600401577728468,
          0.8600401577728468,
          0
         ],
         "xaxis": "x",
         "y": [
          -55,
          -55,
          -65,
          -65
         ],
         "yaxis": "y"
        },
        {
         "hoverinfo": "text",
         "marker": {
          "color": "rgb(0,116,217)"
         },
         "mode": "lines",
         "type": "scatter",
         "x": [
          0.8600401577728468,
          1.0108993538359703,
          1.0108993538359703,
          0
         ],
         "xaxis": "x",
         "y": [
          -60,
          -60,
          -75,
          -75
         ],
         "yaxis": "y"
        },
        {
         "hoverinfo": "text",
         "marker": {
          "color": "rgb(0,116,217)"
         },
         "mode": "lines",
         "type": "scatter",
         "x": [
          0.9901361563450076,
          1.0166678174530444,
          1.0166678174530444,
          1.0108993538359703
         ],
         "xaxis": "x",
         "y": [
          -23.75,
          -23.75,
          -67.5,
          -67.5
         ],
         "yaxis": "y"
        }
       ],
       "layout": {
        "autosize": false,
        "height": 320,
        "hoverlabel": {
         "bgcolor": "white",
         "font": {
          "family": "Rockwell",
          "size": 16
         }
        },
        "hovermode": "closest",
        "plot_bgcolor": "#ECEFF1",
        "showlegend": false,
        "template": {
         "data": {
          "bar": [
           {
            "error_x": {
             "color": "#2a3f5f"
            },
            "error_y": {
             "color": "#2a3f5f"
            },
            "marker": {
             "line": {
              "color": "white",
              "width": 0.5
             },
             "pattern": {
              "fillmode": "overlay",
              "size": 10,
              "solidity": 0.2
             }
            },
            "type": "bar"
           }
          ],
          "barpolar": [
           {
            "marker": {
             "line": {
              "color": "white",
              "width": 0.5
             },
             "pattern": {
              "fillmode": "overlay",
              "size": 10,
              "solidity": 0.2
             }
            },
            "type": "barpolar"
           }
          ],
          "carpet": [
           {
            "aaxis": {
             "endlinecolor": "#2a3f5f",
             "gridcolor": "#C8D4E3",
             "linecolor": "#C8D4E3",
             "minorgridcolor": "#C8D4E3",
             "startlinecolor": "#2a3f5f"
            },
            "baxis": {
             "endlinecolor": "#2a3f5f",
             "gridcolor": "#C8D4E3",
             "linecolor": "#C8D4E3",
             "minorgridcolor": "#C8D4E3",
             "startlinecolor": "#2a3f5f"
            },
            "type": "carpet"
           }
          ],
          "choropleth": [
           {
            "colorbar": {
             "outlinewidth": 0,
             "ticks": ""
            },
            "type": "choropleth"
           }
          ],
          "contour": [
           {
            "colorbar": {
             "outlinewidth": 0,
             "ticks": ""
            },
            "colorscale": [
             [
              0,
              "#0d0887"
             ],
             [
              0.1111111111111111,
              "#46039f"
             ],
             [
              0.2222222222222222,
              "#7201a8"
             ],
             [
              0.3333333333333333,
              "#9c179e"
             ],
             [
              0.4444444444444444,
              "#bd3786"
             ],
             [
              0.5555555555555556,
              "#d8576b"
             ],
             [
              0.6666666666666666,
              "#ed7953"
             ],
             [
              0.7777777777777778,
              "#fb9f3a"
             ],
             [
              0.8888888888888888,
              "#fdca26"
             ],
             [
              1,
              "#f0f921"
             ]
            ],
            "type": "contour"
           }
          ],
          "contourcarpet": [
           {
            "colorbar": {
             "outlinewidth": 0,
             "ticks": ""
            },
            "type": "contourcarpet"
           }
          ],
          "heatmap": [
           {
            "colorbar": {
             "outlinewidth": 0,
             "ticks": ""
            },
            "colorscale": [
             [
              0,
              "#0d0887"
             ],
             [
              0.1111111111111111,
              "#46039f"
             ],
             [
              0.2222222222222222,
              "#7201a8"
             ],
             [
              0.3333333333333333,
              "#9c179e"
             ],
             [
              0.4444444444444444,
              "#bd3786"
             ],
             [
              0.5555555555555556,
              "#d8576b"
             ],
             [
              0.6666666666666666,
              "#ed7953"
             ],
             [
              0.7777777777777778,
              "#fb9f3a"
             ],
             [
              0.8888888888888888,
              "#fdca26"
             ],
             [
              1,
              "#f0f921"
             ]
            ],
            "type": "heatmap"
           }
          ],
          "heatmapgl": [
           {
            "colorbar": {
             "outlinewidth": 0,
             "ticks": ""
            },
            "colorscale": [
             [
              0,
              "#0d0887"
             ],
             [
              0.1111111111111111,
              "#46039f"
             ],
             [
              0.2222222222222222,
              "#7201a8"
             ],
             [
              0.3333333333333333,
              "#9c179e"
             ],
             [
              0.4444444444444444,
              "#bd3786"
             ],
             [
              0.5555555555555556,
              "#d8576b"
             ],
             [
              0.6666666666666666,
              "#ed7953"
             ],
             [
              0.7777777777777778,
              "#fb9f3a"
             ],
             [
              0.8888888888888888,
              "#fdca26"
             ],
             [
              1,
              "#f0f921"
             ]
            ],
            "type": "heatmapgl"
           }
          ],
          "histogram": [
           {
            "marker": {
             "pattern": {
              "fillmode": "overlay",
              "size": 10,
              "solidity": 0.2
             }
            },
            "type": "histogram"
           }
          ],
          "histogram2d": [
           {
            "colorbar": {
             "outlinewidth": 0,
             "ticks": ""
            },
            "colorscale": [
             [
              0,
              "#0d0887"
             ],
             [
              0.1111111111111111,
              "#46039f"
             ],
             [
              0.2222222222222222,
              "#7201a8"
             ],
             [
              0.3333333333333333,
              "#9c179e"
             ],
             [
              0.4444444444444444,
              "#bd3786"
             ],
             [
              0.5555555555555556,
              "#d8576b"
             ],
             [
              0.6666666666666666,
              "#ed7953"
             ],
             [
              0.7777777777777778,
              "#fb9f3a"
             ],
             [
              0.8888888888888888,
              "#fdca26"
             ],
             [
              1,
              "#f0f921"
             ]
            ],
            "type": "histogram2d"
           }
          ],
          "histogram2dcontour": [
           {
            "colorbar": {
             "outlinewidth": 0,
             "ticks": ""
            },
            "colorscale": [
             [
              0,
              "#0d0887"
             ],
             [
              0.1111111111111111,
              "#46039f"
             ],
             [
              0.2222222222222222,
              "#7201a8"
             ],
             [
              0.3333333333333333,
              "#9c179e"
             ],
             [
              0.4444444444444444,
              "#bd3786"
             ],
             [
              0.5555555555555556,
              "#d8576b"
             ],
             [
              0.6666666666666666,
              "#ed7953"
             ],
             [
              0.7777777777777778,
              "#fb9f3a"
             ],
             [
              0.8888888888888888,
              "#fdca26"
             ],
             [
              1,
              "#f0f921"
             ]
            ],
            "type": "histogram2dcontour"
           }
          ],
          "mesh3d": [
           {
            "colorbar": {
             "outlinewidth": 0,
             "ticks": ""
            },
            "type": "mesh3d"
           }
          ],
          "parcoords": [
           {
            "line": {
             "colorbar": {
              "outlinewidth": 0,
              "ticks": ""
             }
            },
            "type": "parcoords"
           }
          ],
          "pie": [
           {
            "automargin": true,
            "type": "pie"
           }
          ],
          "scatter": [
           {
            "fillpattern": {
             "fillmode": "overlay",
             "size": 10,
             "solidity": 0.2
            },
            "type": "scatter"
           }
          ],
          "scatter3d": [
           {
            "line": {
             "colorbar": {
              "outlinewidth": 0,
              "ticks": ""
             }
            },
            "marker": {
             "colorbar": {
              "outlinewidth": 0,
              "ticks": ""
             }
            },
            "type": "scatter3d"
           }
          ],
          "scattercarpet": [
           {
            "marker": {
             "colorbar": {
              "outlinewidth": 0,
              "ticks": ""
             }
            },
            "type": "scattercarpet"
           }
          ],
          "scattergeo": [
           {
            "marker": {
             "colorbar": {
              "outlinewidth": 0,
              "ticks": ""
             }
            },
            "type": "scattergeo"
           }
          ],
          "scattergl": [
           {
            "marker": {
             "colorbar": {
              "outlinewidth": 0,
              "ticks": ""
             }
            },
            "type": "scattergl"
           }
          ],
          "scattermapbox": [
           {
            "marker": {
             "colorbar": {
              "outlinewidth": 0,
              "ticks": ""
             }
            },
            "type": "scattermapbox"
           }
          ],
          "scatterpolar": [
           {
            "marker": {
             "colorbar": {
              "outlinewidth": 0,
              "ticks": ""
             }
            },
            "type": "scatterpolar"
           }
          ],
          "scatterpolargl": [
           {
            "marker": {
             "colorbar": {
              "outlinewidth": 0,
              "ticks": ""
             }
            },
            "type": "scatterpolargl"
           }
          ],
          "scatterternary": [
           {
            "marker": {
             "colorbar": {
              "outlinewidth": 0,
              "ticks": ""
             }
            },
            "type": "scatterternary"
           }
          ],
          "surface": [
           {
            "colorbar": {
             "outlinewidth": 0,
             "ticks": ""
            },
            "colorscale": [
             [
              0,
              "#0d0887"
             ],
             [
              0.1111111111111111,
              "#46039f"
             ],
             [
              0.2222222222222222,
              "#7201a8"
             ],
             [
              0.3333333333333333,
              "#9c179e"
             ],
             [
              0.4444444444444444,
              "#bd3786"
             ],
             [
              0.5555555555555556,
              "#d8576b"
             ],
             [
              0.6666666666666666,
              "#ed7953"
             ],
             [
              0.7777777777777778,
              "#fb9f3a"
             ],
             [
              0.8888888888888888,
              "#fdca26"
             ],
             [
              1,
              "#f0f921"
             ]
            ],
            "type": "surface"
           }
          ],
          "table": [
           {
            "cells": {
             "fill": {
              "color": "#EBF0F8"
             },
             "line": {
              "color": "white"
             }
            },
            "header": {
             "fill": {
              "color": "#C8D4E3"
             },
             "line": {
              "color": "white"
             }
            },
            "type": "table"
           }
          ]
         },
         "layout": {
          "annotationdefaults": {
           "arrowcolor": "#2a3f5f",
           "arrowhead": 0,
           "arrowwidth": 1
          },
          "autotypenumbers": "strict",
          "coloraxis": {
           "colorbar": {
            "outlinewidth": 0,
            "ticks": ""
           }
          },
          "colorscale": {
           "diverging": [
            [
             0,
             "#8e0152"
            ],
            [
             0.1,
             "#c51b7d"
            ],
            [
             0.2,
             "#de77ae"
            ],
            [
             0.3,
             "#f1b6da"
            ],
            [
             0.4,
             "#fde0ef"
            ],
            [
             0.5,
             "#f7f7f7"
            ],
            [
             0.6,
             "#e6f5d0"
            ],
            [
             0.7,
             "#b8e186"
            ],
            [
             0.8,
             "#7fbc41"
            ],
            [
             0.9,
             "#4d9221"
            ],
            [
             1,
             "#276419"
            ]
           ],
           "sequential": [
            [
             0,
             "#0d0887"
            ],
            [
             0.1111111111111111,
             "#46039f"
            ],
            [
             0.2222222222222222,
             "#7201a8"
            ],
            [
             0.3333333333333333,
             "#9c179e"
            ],
            [
             0.4444444444444444,
             "#bd3786"
            ],
            [
             0.5555555555555556,
             "#d8576b"
            ],
            [
             0.6666666666666666,
             "#ed7953"
            ],
            [
             0.7777777777777778,
             "#fb9f3a"
            ],
            [
             0.8888888888888888,
             "#fdca26"
            ],
            [
             1,
             "#f0f921"
            ]
           ],
           "sequentialminus": [
            [
             0,
             "#0d0887"
            ],
            [
             0.1111111111111111,
             "#46039f"
            ],
            [
             0.2222222222222222,
             "#7201a8"
            ],
            [
             0.3333333333333333,
             "#9c179e"
            ],
            [
             0.4444444444444444,
             "#bd3786"
            ],
            [
             0.5555555555555556,
             "#d8576b"
            ],
            [
             0.6666666666666666,
             "#ed7953"
            ],
            [
             0.7777777777777778,
             "#fb9f3a"
            ],
            [
             0.8888888888888888,
             "#fdca26"
            ],
            [
             1,
             "#f0f921"
            ]
           ]
          },
          "colorway": [
           "#636efa",
           "#EF553B",
           "#00cc96",
           "#ab63fa",
           "#FFA15A",
           "#19d3f3",
           "#FF6692",
           "#B6E880",
           "#FF97FF",
           "#FECB52"
          ],
          "font": {
           "color": "#2a3f5f"
          },
          "geo": {
           "bgcolor": "white",
           "lakecolor": "white",
           "landcolor": "white",
           "showlakes": true,
           "showland": true,
           "subunitcolor": "#C8D4E3"
          },
          "hoverlabel": {
           "align": "left"
          },
          "hovermode": "closest",
          "mapbox": {
           "style": "light"
          },
          "paper_bgcolor": "white",
          "plot_bgcolor": "white",
          "polar": {
           "angularaxis": {
            "gridcolor": "#EBF0F8",
            "linecolor": "#EBF0F8",
            "ticks": ""
           },
           "bgcolor": "white",
           "radialaxis": {
            "gridcolor": "#EBF0F8",
            "linecolor": "#EBF0F8",
            "ticks": ""
           }
          },
          "scene": {
           "xaxis": {
            "backgroundcolor": "white",
            "gridcolor": "#DFE8F3",
            "gridwidth": 2,
            "linecolor": "#EBF0F8",
            "showbackground": true,
            "ticks": "",
            "zerolinecolor": "#EBF0F8"
           },
           "yaxis": {
            "backgroundcolor": "white",
            "gridcolor": "#DFE8F3",
            "gridwidth": 2,
            "linecolor": "#EBF0F8",
            "showbackground": true,
            "ticks": "",
            "zerolinecolor": "#EBF0F8"
           },
           "zaxis": {
            "backgroundcolor": "white",
            "gridcolor": "#DFE8F3",
            "gridwidth": 2,
            "linecolor": "#EBF0F8",
            "showbackground": true,
            "ticks": "",
            "zerolinecolor": "#EBF0F8"
           }
          },
          "shapedefaults": {
           "line": {
            "color": "#2a3f5f"
           }
          },
          "ternary": {
           "aaxis": {
            "gridcolor": "#DFE8F3",
            "linecolor": "#A2B1C6",
            "ticks": ""
           },
           "baxis": {
            "gridcolor": "#DFE8F3",
            "linecolor": "#A2B1C6",
            "ticks": ""
           },
           "bgcolor": "white",
           "caxis": {
            "gridcolor": "#DFE8F3",
            "linecolor": "#A2B1C6",
            "ticks": ""
           }
          },
          "title": {
           "x": 0.05
          },
          "xaxis": {
           "automargin": true,
           "gridcolor": "#EBF0F8",
           "linecolor": "#EBF0F8",
           "ticks": "",
           "title": {
            "standoff": 15
           },
           "zerolinecolor": "#EBF0F8",
           "zerolinewidth": 2
          },
          "yaxis": {
           "automargin": true,
           "gridcolor": "#EBF0F8",
           "linecolor": "#EBF0F8",
           "ticks": "",
           "title": {
            "standoff": 15
           },
           "zerolinecolor": "#EBF0F8",
           "zerolinewidth": 2
          }
         }
        },
        "title": {
         "font": {
          "color": "Black",
          "size": 22
         },
         "text": "<b>Hierarchical Clustering</b>",
         "x": 0.5,
         "xanchor": "center",
         "yanchor": "top"
        },
        "width": 1000,
        "xaxis": {
         "mirror": "allticks",
         "rangemode": "tozero",
         "showgrid": false,
         "showline": true,
         "showticklabels": true,
         "ticks": "outside",
         "type": "linear",
         "zeroline": false
        },
        "yaxis": {
         "mirror": "allticks",
         "range": [
          -80,
          0
         ],
         "rangemode": "tozero",
         "showgrid": false,
         "showline": true,
         "showticklabels": true,
         "tickmode": "array",
         "ticks": "outside",
         "ticktext": [
          "7_want_home_life",
          "4_relaxation_immersed_joy",
          "1_thoughts_mind_dreaming",
          "0_like_saw_colours",
          "2_music_end_would",
          "6_interesting_insane_nothing",
          "3_experience_felt_awesome",
          "5_peace_peaceful_calm"
         ],
         "tickvals": [
          -5,
          -15,
          -25,
          -35,
          -45,
          -55,
          -65,
          -75
         ],
         "type": "linear",
         "zeroline": false
        }
       }
      }
     },
     "metadata": {},
     "output_type": "display_data"
    }
   ],
   "source": [
    "model.visualize_hierarchy(top_n_topics=10)"
   ]
  },
  {
   "attachments": {},
   "cell_type": "markdown",
   "metadata": {},
   "source": [
    "### Get the top 3 topics"
   ]
  },
  {
   "cell_type": "code",
   "execution_count": 143,
   "metadata": {},
   "outputs": [
    {
     "data": {
      "text/plain": [
       "([-1, 2, 6, 1, 4], [0.4361922, 0.36843252, 0.36117524, 0.33049715, 0.3192075])"
      ]
     },
     "execution_count": 143,
     "metadata": {},
     "output_type": "execute_result"
    }
   ],
   "source": [
    "similarities = model.find_topics(\"lsd\") #Find topics similar to the word \"lsd\"\n",
    "similarities"
   ]
  },
  {
   "cell_type": "code",
   "execution_count": 144,
   "metadata": {},
   "outputs": [
    {
     "name": "stdout",
     "output_type": "stream",
     "text": [
      "[1, -1, 0]\n",
      "1\n",
      "Similarity score:  0.49469608\n",
      "Most similar topic:  [('thoughts', 0.11978622849406886), ('mind', 0.06950767198221473), ('dreaming', 0.06371167035733451), ('asleep', 0.04591192348644432), ('felt', 0.041800562977554016), ('brain', 0.04069194991429747), ('though', 0.03972314695304833), ('real', 0.03815521623643586), ('eg', 0.03815521623643586), ('dreams', 0.03815521623643586)]\n"
     ]
    }
   ],
   "source": [
    "# Select the 3 most similar topics\n",
    "similar_topics, similarity = model.find_topics(\"hallucination\", top_n=3) #Find the 5 most similar topics to the word \"lsd\"\n",
    "print(similar_topics) #Print the 3 most similar topics : index from the most similar to the least similar\n",
    "\n",
    "\n",
    "most_similar_topics = similar_topics[0] #Get the most similar topic\n",
    "print(most_similar_topics) #Print the most similar topic\n",
    "print(\"Similarity score: \", similarity[0]) #Print the similarity score\n",
    "print(\"Most similar topic: \", model.get_topic(most_similar_topics)) #Print the most similar topic"
   ]
  },
  {
   "cell_type": "code",
   "execution_count": 145,
   "metadata": {},
   "outputs": [
    {
     "name": "stdout",
     "output_type": "stream",
     "text": [
      "huggingface/tokenizers: The current process just got forked, after parallelism has already been used. Disabling parallelism to avoid deadlocks...\n",
      "To disable this warning, you can either:\n",
      "\t- Avoid using `tokenizers` before the fork if possible\n",
      "\t- Explicitly set the environment variable TOKENIZERS_PARALLELISM=(true | false)\n"
     ]
    }
   ],
   "source": [
    "%%bash\n",
    "mkdir -p ~/projects/TopicModelling_META/TopMod_pipeline/BERT_outputs"
   ]
  },
  {
   "cell_type": "code",
   "execution_count": 146,
   "metadata": {},
   "outputs": [
    {
     "data": {
      "text/plain": [
       "<bertopic._bertopic.BERTopic at 0x2c1eba1d0>"
      ]
     },
     "execution_count": 146,
     "metadata": {},
     "output_type": "execute_result"
    }
   ],
   "source": [
    "\n",
    "\n",
    "BERT_model_name = f\"BERT_model_{condition}\"\n",
    "model.save(os.path.join(\"BERT_outputs\",BERT_model_name)) #Save model\n",
    "\n",
    "BERT_model = BERTopic.load(BERT_model_name)\n",
    "BERT_model"
   ]
  }
 ],
 "metadata": {
  "kernelspec": {
   "display_name": "topmodvenv",
   "language": "python",
   "name": "python3"
  },
  "language_info": {
   "codemirror_mode": {
    "name": "ipython",
    "version": 3
   },
   "file_extension": ".py",
   "mimetype": "text/x-python",
   "name": "python",
   "nbconvert_exporter": "python",
   "pygments_lexer": "ipython3",
   "version": "3.11.3"
  },
  "orig_nbformat": 4
 },
 "nbformat": 4,
 "nbformat_minor": 2
}
