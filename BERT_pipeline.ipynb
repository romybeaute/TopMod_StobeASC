{
 "cells": [
  {
   "cell_type": "code",
   "execution_count": 1,
   "metadata": {},
   "outputs": [
    {
     "name": "stderr",
     "output_type": "stream",
     "text": [
      "/Users/rb666/projects/TopicModelling_META/topmodvenv/lib/python3.11/site-packages/umap/distances.py:1063: NumbaDeprecationWarning: The 'nopython' keyword argument was not supplied to the 'numba.jit' decorator. The implicit default value for this argument is currently False, but it will be changed to True in Numba 0.59.0. See https://numba.readthedocs.io/en/stable/reference/deprecation.html#deprecation-of-object-mode-fall-back-behaviour-when-using-jit for details.\n",
      "  @numba.jit()\n",
      "/Users/rb666/projects/TopicModelling_META/topmodvenv/lib/python3.11/site-packages/umap/distances.py:1071: NumbaDeprecationWarning: The 'nopython' keyword argument was not supplied to the 'numba.jit' decorator. The implicit default value for this argument is currently False, but it will be changed to True in Numba 0.59.0. See https://numba.readthedocs.io/en/stable/reference/deprecation.html#deprecation-of-object-mode-fall-back-behaviour-when-using-jit for details.\n",
      "  @numba.jit()\n",
      "/Users/rb666/projects/TopicModelling_META/topmodvenv/lib/python3.11/site-packages/umap/distances.py:1086: NumbaDeprecationWarning: The 'nopython' keyword argument was not supplied to the 'numba.jit' decorator. The implicit default value for this argument is currently False, but it will be changed to True in Numba 0.59.0. See https://numba.readthedocs.io/en/stable/reference/deprecation.html#deprecation-of-object-mode-fall-back-behaviour-when-using-jit for details.\n",
      "  @numba.jit()\n",
      "/Users/rb666/projects/TopicModelling_META/topmodvenv/lib/python3.11/site-packages/umap/umap_.py:660: NumbaDeprecationWarning: The 'nopython' keyword argument was not supplied to the 'numba.jit' decorator. The implicit default value for this argument is currently False, but it will be changed to True in Numba 0.59.0. See https://numba.readthedocs.io/en/stable/reference/deprecation.html#deprecation-of-object-mode-fall-back-behaviour-when-using-jit for details.\n",
      "  @numba.jit()\n"
     ]
    }
   ],
   "source": [
    "import pandas as pd\n",
    "import os \n",
    "from pathlib import Path\n",
    "from bertopic import BERTopic\n",
    "import re \n",
    "from nltk.corpus import stopwords\n",
    "import matplotlib.pyplot as plt\n",
    "import seaborn as sns\n",
    "from IPython.display import Image, display\n",
    "\n",
    "\n",
    "\n",
    "\n",
    "condition = \"Dreamachine\"\n",
    "remove_stopwords = True\n",
    "extended_stopwords = True\n",
    "\n",
    "metaproject_name = 'TopicModelling_META'\n",
    "subproject_name = 'TopMod_pipeline'\n",
    "dataset_name = f'{condition}_dataset.csv'\n",
    "\n",
    "\n",
    "PROJDIR = os.path.expanduser(f\"~/projects/{metaproject_name}\")\n",
    "DATADIR = os.path.join(PROJDIR,f'DATA/{dataset_name}')\n",
    "CODEDIR = os.path.join(PROJDIR,f'{subproject_name}')\n",
    "\n",
    "reports = pd.read_csv(DATADIR,usecols=['text']).dropna()\n",
    "reports.head()\n",
    "\n",
    "\n",
    "%matplotlib inline"
   ]
  },
  {
   "cell_type": "code",
   "execution_count": 2,
   "metadata": {},
   "outputs": [
    {
     "name": "stdout",
     "output_type": "stream",
     "text": [
      "0    the colours made patterns when i had my eyes c...\n",
      "1    intense chaos and then my mind checked out and...\n",
      "2                                       good stuff\\r\\n\n",
      "3    a pattern of red and white lights thatflashed ...\n",
      "4    i wentback to many hard and mostly beautiful m...\n",
      "Name: text_processed, dtype: object\n",
      "N = 377 reports\n"
     ]
    }
   ],
   "source": [
    "# Remove punctuation\n",
    "def process_text(x):\n",
    "    if isinstance(x, str):  # check if x is of type string\n",
    "        x = re.sub('[,\\.!?;]', '', x)  # if it is, do the replacement\n",
    "        x = re.sub('^[0-9]+', '', x)  # remove initial numbers\n",
    "        return x.lower()\n",
    "    else:\n",
    "        return \"\"  # otherwise, return an empty string or you can convert it to string by using `return str(x)`\n",
    "\n",
    "reports['text_processed'] = reports['text'].map(process_text)\n",
    "\n",
    "# Convert the titles to lowercase\n",
    "reports['text_processed'] = reports['text_processed'].map(lambda x: x.lower())\n",
    "\n",
    "# Print out the first rows of papers\n",
    "print(reports['text_processed'].head())\n",
    "\n",
    "print('N = {} reports'.format(len(reports)))"
   ]
  },
  {
   "cell_type": "code",
   "execution_count": 3,
   "metadata": {},
   "outputs": [
    {
     "name": "stdout",
     "output_type": "stream",
     "text": [
      "Removing extended list of stopwords (N = 8 extended stopwords) ...\n",
      "Removing stopwords (N=187 stopwords) ...\n"
     ]
    }
   ],
   "source": [
    "\n",
    "stop_words = stopwords.words('english')\n",
    "# print(len(stop_words))\n",
    "\n",
    "extended_stopwords_list = ['dreamachine','machine','end','felt','experience','like','first','anxiety']\n",
    "if extended_stopwords:\n",
    "    stop_words.extend(extended_stopwords_list)\n",
    "    print('Removing extended list of stopwords (N = {} extended stopwords) ...'.format(len(extended_stopwords_list)))\n",
    "\n",
    "reports['text_without_stopwords'] = reports['text_processed'].apply(lambda x: ' '.join([word for word in x.split() if word not in (stop_words)]))\n",
    "\n",
    "if remove_stopwords:\n",
    "    print('Removing stopwords (N={} stopwords) ...'.format(len(stop_words)))\n",
    "    reports['text_processed'] = reports['text_without_stopwords']"
   ]
  },
  {
   "cell_type": "code",
   "execution_count": 4,
   "metadata": {},
   "outputs": [
    {
     "name": "stdout",
     "output_type": "stream",
     "text": [
      "count    377.000000\n",
      "mean      11.021220\n",
      "std       10.453777\n",
      "min        1.000000\n",
      "25%        4.000000\n",
      "50%        8.000000\n",
      "75%       15.000000\n",
      "max       67.000000\n",
      "Name: report_length, dtype: float64\n",
      "The mean report length is 11 words.\n",
      "The longest report has 67 words.\n"
     ]
    },
    {
     "data": {
      "image/png": "[encoded data removed]",
      "text/plain": [
       "<Figure size 640x480 with 1 Axes>"
      ]
     },
     "metadata": {},
     "output_type": "display_data"
    }
   ],
   "source": [
    "reports[\"report_length\"] = reports[\"text_processed\"].apply(lambda x: len(x.split(\" \")))   # count words in each report\n",
    "\n",
    "#Visualize the distribution of report lengths\n",
    "sns.set_style('whitegrid')\n",
    "# get_ipython().run_line_magic('matplotlib', 'inline')\n",
    "sns.distplot(reports['report_length'], kde=False, color='blue', bins=100)\n",
    "\n",
    "print(reports['report_length'].describe())\n",
    "print(\"The mean report length is {} words.\".format(round(reports['report_length'].mean())))\n",
    "print(\"The longest report has {} words.\".format(max(reports['report_length'])))"
   ]
  },
  {
   "attachments": {},
   "cell_type": "markdown",
   "metadata": {},
   "source": [
    "## BERTopic\n",
    "\n",
    "https://miro.medium.com/v2/resize:fit:4800/format:webp/0*DxAqCqx6dzg0KQlg.png"
   ]
  },
  {
   "attachments": {},
   "cell_type": "markdown",
   "metadata": {},
   "source": [
    "### Training the BERT model"
   ]
  },
  {
   "cell_type": "code",
   "execution_count": 5,
   "metadata": {},
   "outputs": [
    {
     "data": {
      "application/vnd.jupyter.widget-view+json": {
       "model_id": "0b35b4a541934637a6e4d3d2b9a76af9",
       "version_major": 2,
       "version_minor": 0
      },
      "text/plain": [
       "Batches:   0%|          | 0/12 [00:00<?, ?it/s]"
      ]
     },
     "metadata": {},
     "output_type": "display_data"
    },
    {
     "name": "stderr",
     "output_type": "stream",
     "text": [
      "2023-08-11 11:46:52,725 - BERTopic - Transformed documents to Embeddings\n",
      "OMP: Info #276: omp_set_nested routine deprecated, please use omp_set_max_active_levels instead.\n",
      "2023-08-11 11:46:55,555 - BERTopic - Reduced dimensionality\n",
      "2023-08-11 11:46:55,565 - BERTopic - Clustered reduced embeddings\n"
     ]
    },
    {
     "data": {
      "application/vnd.plotly.v1+json": {
       "config": {
        "plotlyServerURL": "https://plot.ly"
       },
       "data": [
        {
         "customdata": [
          [
           0,
           "saw | colours | shapes | moving | patterns",
           140
          ],
          [
           1,
           "calm | peace | peaceful | interesting | relaxed",
           48
          ],
          [
           2,
           "music | journey | time | really | bit",
           37
          ],
          [
           3,
           "thoughts | people | mind | brain | dreaming",
           34
          ]
         ],
         "hovertemplate": "<b>Topic %{customdata[0]}</b><br>%{customdata[1]}<br>Size: %{customdata[2]}",
         "legendgroup": "",
         "marker": {
          "color": "#B0BEC5",
          "line": {
           "color": "DarkSlateGrey",
           "width": 2
          },
          "size": [
           140,
           48,
           37,
           34
          ],
          "sizemode": "area",
          "sizeref": 0.0875,
          "symbol": "circle"
         },
         "mode": "markers",
         "name": "",
         "orientation": "v",
         "showlegend": false,
         "type": "scatter",
         "x": [
          10.343957901000977,
          9.118440628051758,
          8.967367172241211,
          9.512979507446289
         ],
         "xaxis": "x",
         "y": [
          15.577096939086914,
          17.183073043823242,
          16.373056411743164,
          15.556392669677734
         ],
         "yaxis": "y"
        }
       ],
       "layout": {
        "annotations": [
         {
          "showarrow": false,
          "text": "D1",
          "x": 7.622262096405029,
          "y": 16.491733884811403,
          "yshift": 10
         },
         {
          "showarrow": false,
          "text": "D2",
          "x": 9.758906841278076,
          "xshift": 10,
          "y": 19.760534000396728
         }
        ],
        "height": 650,
        "hoverlabel": {
         "bgcolor": "white",
         "font": {
          "family": "Rockwell",
          "size": 16
         }
        },
        "legend": {
         "itemsizing": "constant",
         "tracegroupgap": 0
        },
        "margin": {
         "t": 60
        },
        "shapes": [
         {
          "line": {
           "color": "#CFD8DC",
           "width": 2
          },
          "type": "line",
          "x0": 9.758906841278076,
          "x1": 9.758906841278076,
          "y0": 13.222933769226074,
          "y1": 19.760534000396728
         },
         {
          "line": {
           "color": "#9E9E9E",
           "width": 2
          },
          "type": "line",
          "x0": 7.622262096405029,
          "x1": 11.895551586151123,
          "y0": 16.491733884811403,
          "y1": 16.491733884811403
         }
        ],
        "sliders": [
         {
          "active": 0,
          "pad": {
           "t": 50
          },
          "steps": [
           {
            "args": [
             {
              "marker.color": [
               [
                "red",
                "#B0BEC5",
                "#B0BEC5",
                "#B0BEC5"
               ]
              ]
             }
            ],
            "label": "Topic 0",
            "method": "update"
           },
           {
            "args": [
             {
              "marker.color": [
               [
                "#B0BEC5",
                "red",
                "#B0BEC5",
                "#B0BEC5"
               ]
              ]
             }
            ],
            "label": "Topic 1",
            "method": "update"
           },
           {
            "args": [
             {
              "marker.color": [
               [
                "#B0BEC5",
                "#B0BEC5",
                "red",
                "#B0BEC5"
               ]
              ]
             }
            ],
            "label": "Topic 2",
            "method": "update"
           },
           {
            "args": [
             {
              "marker.color": [
               [
                "#B0BEC5",
                "#B0BEC5",
                "#B0BEC5",
                "red"
               ]
              ]
             }
            ],
            "label": "Topic 3",
            "method": "update"
           }
          ]
         }
        ],
        "template": {
         "data": {
          "bar": [
           {
            "error_x": {
             "color": "rgb(36,36,36)"
            },
            "error_y": {
             "color": "rgb(36,36,36)"
            },
            "marker": {
             "line": {
              "color": "white",
              "width": 0.5
             },
             "pattern": {
              "fillmode": "overlay",
              "size": 10,
              "solidity": 0.2
             }
            },
            "type": "bar"
           }
          ],
          "barpolar": [
           {
            "marker": {
             "line": {
              "color": "white",
              "width": 0.5
             },
             "pattern": {
              "fillmode": "overlay",
              "size": 10,
              "solidity": 0.2
             }
            },
            "type": "barpolar"
           }
          ],
          "carpet": [
           {
            "aaxis": {
             "endlinecolor": "rgb(36,36,36)",
             "gridcolor": "white",
             "linecolor": "white",
             "minorgridcolor": "white",
             "startlinecolor": "rgb(36,36,36)"
            },
            "baxis": {
             "endlinecolor": "rgb(36,36,36)",
             "gridcolor": "white",
             "linecolor": "white",
             "minorgridcolor": "white",
             "startlinecolor": "rgb(36,36,36)"
            },
            "type": "carpet"
           }
          ],
          "choropleth": [
           {
            "colorbar": {
             "outlinewidth": 1,
             "tickcolor": "rgb(36,36,36)",
             "ticks": "outside"
            },
            "type": "choropleth"
           }
          ],
          "contour": [
           {
            "colorbar": {
             "outlinewidth": 1,
             "tickcolor": "rgb(36,36,36)",
             "ticks": "outside"
            },
            "colorscale": [
             [
              0,
              "#440154"
             ],
             [
              0.1111111111111111,
              "#482878"
             ],
             [
              0.2222222222222222,
              "#3e4989"
             ],
             [
              0.3333333333333333,
              "#31688e"
             ],
             [
              0.4444444444444444,
              "#26828e"
             ],
             [
              0.5555555555555556,
              "#1f9e89"
             ],
             [
              0.6666666666666666,
              "#35b779"
             ],
             [
              0.7777777777777778,
              "#6ece58"
             ],
             [
              0.8888888888888888,
              "#b5de2b"
             ],
             [
              1,
              "#fde725"
             ]
            ],
            "type": "contour"
           }
          ],
          "contourcarpet": [
           {
            "colorbar": {
             "outlinewidth": 1,
             "tickcolor": "rgb(36,36,36)",
             "ticks": "outside"
            },
            "type": "contourcarpet"
           }
          ],
          "heatmap": [
           {
            "colorbar": {
             "outlinewidth": 1,
             "tickcolor": "rgb(36,36,36)",
             "ticks": "outside"
            },
            "colorscale": [
             [
              0,
              "#440154"
             ],
             [
              0.1111111111111111,
              "#482878"
             ],
             [
              0.2222222222222222,
              "#3e4989"
             ],
             [
              0.3333333333333333,
              "#31688e"
             ],
             [
              0.4444444444444444,
              "#26828e"
             ],
             [
              0.5555555555555556,
              "#1f9e89"
             ],
             [
              0.6666666666666666,
              "#35b779"
             ],
             [
              0.7777777777777778,
              "#6ece58"
             ],
             [
              0.8888888888888888,
              "#b5de2b"
             ],
             [
              1,
              "#fde725"
             ]
            ],
            "type": "heatmap"
           }
          ],
          "heatmapgl": [
           {
            "colorbar": {
             "outlinewidth": 1,
             "tickcolor": "rgb(36,36,36)",
             "ticks": "outside"
            },
            "colorscale": [
             [
              0,
              "#440154"
             ],
             [
              0.1111111111111111,
              "#482878"
             ],
             [
              0.2222222222222222,
              "#3e4989"
             ],
             [
              0.3333333333333333,
              "#31688e"
             ],
             [
              0.4444444444444444,
              "#26828e"
             ],
             [
              0.5555555555555556,
              "#1f9e89"
             ],
             [
              0.6666666666666666,
              "#35b779"
             ],
             [
              0.7777777777777778,
              "#6ece58"
             ],
             [
              0.8888888888888888,
              "#b5de2b"
             ],
             [
              1,
              "#fde725"
             ]
            ],
            "type": "heatmapgl"
           }
          ],
          "histogram": [
           {
            "marker": {
             "line": {
              "color": "white",
              "width": 0.6
             }
            },
            "type": "histogram"
           }
          ],
          "histogram2d": [
           {
            "colorbar": {
             "outlinewidth": 1,
             "tickcolor": "rgb(36,36,36)",
             "ticks": "outside"
            },
            "colorscale": [
             [
              0,
              "#440154"
             ],
             [
              0.1111111111111111,
              "#482878"
             ],
             [
              0.2222222222222222,
              "#3e4989"
             ],
             [
              0.3333333333333333,
              "#31688e"
             ],
             [
              0.4444444444444444,
              "#26828e"
             ],
             [
              0.5555555555555556,
              "#1f9e89"
             ],
             [
              0.6666666666666666,
              "#35b779"
             ],
             [
              0.7777777777777778,
              "#6ece58"
             ],
             [
              0.8888888888888888,
              "#b5de2b"
             ],
             [
              1,
              "#fde725"
             ]
            ],
            "type": "histogram2d"
           }
          ],
          "histogram2dcontour": [
           {
            "colorbar": {
             "outlinewidth": 1,
             "tickcolor": "rgb(36,36,36)",
             "ticks": "outside"
            },
            "colorscale": [
             [
              0,
              "#440154"
             ],
             [
              0.1111111111111111,
              "#482878"
             ],
             [
              0.2222222222222222,
              "#3e4989"
             ],
             [
              0.3333333333333333,
              "#31688e"
             ],
             [
              0.4444444444444444,
              "#26828e"
             ],
             [
              0.5555555555555556,
              "#1f9e89"
             ],
             [
              0.6666666666666666,
              "#35b779"
             ],
             [
              0.7777777777777778,
              "#6ece58"
             ],
             [
              0.8888888888888888,
              "#b5de2b"
             ],
             [
              1,
              "#fde725"
             ]
            ],
            "type": "histogram2dcontour"
           }
          ],
          "mesh3d": [
           {
            "colorbar": {
             "outlinewidth": 1,
             "tickcolor": "rgb(36,36,36)",
             "ticks": "outside"
            },
            "type": "mesh3d"
           }
          ],
          "parcoords": [
           {
            "line": {
             "colorbar": {
              "outlinewidth": 1,
              "tickcolor": "rgb(36,36,36)",
              "ticks": "outside"
             }
            },
            "type": "parcoords"
           }
          ],
          "pie": [
           {
            "automargin": true,
            "type": "pie"
           }
          ],
          "scatter": [
           {
            "fillpattern": {
             "fillmode": "overlay",
             "size": 10,
             "solidity": 0.2
            },
            "type": "scatter"
           }
          ],
          "scatter3d": [
           {
            "line": {
             "colorbar": {
              "outlinewidth": 1,
              "tickcolor": "rgb(36,36,36)",
              "ticks": "outside"
             }
            },
            "marker": {
             "colorbar": {
              "outlinewidth": 1,
              "tickcolor": "rgb(36,36,36)",
              "ticks": "outside"
             }
            },
            "type": "scatter3d"
           }
          ],
          "scattercarpet": [
           {
            "marker": {
             "colorbar": {
              "outlinewidth": 1,
              "tickcolor": "rgb(36,36,36)",
              "ticks": "outside"
             }
            },
            "type": "scattercarpet"
           }
          ],
          "scattergeo": [
           {
            "marker": {
             "colorbar": {
              "outlinewidth": 1,
              "tickcolor": "rgb(36,36,36)",
              "ticks": "outside"
             }
            },
            "type": "scattergeo"
           }
          ],
          "scattergl": [
           {
            "marker": {
             "colorbar": {
              "outlinewidth": 1,
              "tickcolor": "rgb(36,36,36)",
              "ticks": "outside"
             }
            },
            "type": "scattergl"
           }
          ],
          "scattermapbox": [
           {
            "marker": {
             "colorbar": {
              "outlinewidth": 1,
              "tickcolor": "rgb(36,36,36)",
              "ticks": "outside"
             }
            },
            "type": "scattermapbox"
           }
          ],
          "scatterpolar": [
           {
            "marker": {
             "colorbar": {
              "outlinewidth": 1,
              "tickcolor": "rgb(36,36,36)",
              "ticks": "outside"
             }
            },
            "type": "scatterpolar"
           }
          ],
          "scatterpolargl": [
           {
            "marker": {
             "colorbar": {
              "outlinewidth": 1,
              "tickcolor": "rgb(36,36,36)",
              "ticks": "outside"
             }
            },
            "type": "scatterpolargl"
           }
          ],
          "scatterternary": [
           {
            "marker": {
             "colorbar": {
              "outlinewidth": 1,
              "tickcolor": "rgb(36,36,36)",
              "ticks": "outside"
             }
            },
            "type": "scatterternary"
           }
          ],
          "surface": [
           {
            "colorbar": {
             "outlinewidth": 1,
             "tickcolor": "rgb(36,36,36)",
             "ticks": "outside"
            },
            "colorscale": [
             [
              0,
              "#440154"
             ],
             [
              0.1111111111111111,
              "#482878"
             ],
             [
              0.2222222222222222,
              "#3e4989"
             ],
             [
              0.3333333333333333,
              "#31688e"
             ],
             [
              0.4444444444444444,
              "#26828e"
             ],
             [
              0.5555555555555556,
              "#1f9e89"
             ],
             [
              0.6666666666666666,
              "#35b779"
             ],
             [
              0.7777777777777778,
              "#6ece58"
             ],
             [
              0.8888888888888888,
              "#b5de2b"
             ],
             [
              1,
              "#fde725"
             ]
            ],
            "type": "surface"
           }
          ],
          "table": [
           {
            "cells": {
             "fill": {
              "color": "rgb(237,237,237)"
             },
             "line": {
              "color": "white"
             }
            },
            "header": {
             "fill": {
              "color": "rgb(217,217,217)"
             },
             "line": {
              "color": "white"
             }
            },
            "type": "table"
           }
          ]
         },
         "layout": {
          "annotationdefaults": {
           "arrowhead": 0,
           "arrowwidth": 1
          },
          "autotypenumbers": "strict",
          "coloraxis": {
           "colorbar": {
            "outlinewidth": 1,
            "tickcolor": "rgb(36,36,36)",
            "ticks": "outside"
           }
          },
          "colorscale": {
           "diverging": [
            [
             0,
             "rgb(103,0,31)"
            ],
            [
             0.1,
             "rgb(178,24,43)"
            ],
            [
             0.2,
             "rgb(214,96,77)"
            ],
            [
             0.3,
             "rgb(244,165,130)"
            ],
            [
             0.4,
             "rgb(253,219,199)"
            ],
            [
             0.5,
             "rgb(247,247,247)"
            ],
            [
             0.6,
             "rgb(209,229,240)"
            ],
            [
             0.7,
             "rgb(146,197,222)"
            ],
            [
             0.8,
             "rgb(67,147,195)"
            ],
            [
             0.9,
             "rgb(33,102,172)"
            ],
            [
             1,
             "rgb(5,48,97)"
            ]
           ],
           "sequential": [
            [
             0,
             "#440154"
            ],
            [
             0.1111111111111111,
             "#482878"
            ],
            [
             0.2222222222222222,
             "#3e4989"
            ],
            [
             0.3333333333333333,
             "#31688e"
            ],
            [
             0.4444444444444444,
             "#26828e"
            ],
            [
             0.5555555555555556,
             "#1f9e89"
            ],
            [
             0.6666666666666666,
             "#35b779"
            ],
            [
             0.7777777777777778,
             "#6ece58"
            ],
            [
             0.8888888888888888,
             "#b5de2b"
            ],
            [
             1,
             "#fde725"
            ]
           ],
           "sequentialminus": [
            [
             0,
             "#440154"
            ],
            [
             0.1111111111111111,
             "#482878"
            ],
            [
             0.2222222222222222,
             "#3e4989"
            ],
            [
             0.3333333333333333,
             "#31688e"
            ],
            [
             0.4444444444444444,
             "#26828e"
            ],
            [
             0.5555555555555556,
             "#1f9e89"
            ],
            [
             0.6666666666666666,
             "#35b779"
            ],
            [
             0.7777777777777778,
             "#6ece58"
            ],
            [
             0.8888888888888888,
             "#b5de2b"
            ],
            [
             1,
             "#fde725"
            ]
           ]
          },
          "colorway": [
           "#1F77B4",
           "#FF7F0E",
           "#2CA02C",
           "#D62728",
           "#9467BD",
           "#8C564B",
           "#E377C2",
           "#7F7F7F",
           "#BCBD22",
           "#17BECF"
          ],
          "font": {
           "color": "rgb(36,36,36)"
          },
          "geo": {
           "bgcolor": "white",
           "lakecolor": "white",
           "landcolor": "white",
           "showlakes": true,
           "showland": true,
           "subunitcolor": "white"
          },
          "hoverlabel": {
           "align": "left"
          },
          "hovermode": "closest",
          "mapbox": {
           "style": "light"
          },
          "paper_bgcolor": "white",
          "plot_bgcolor": "white",
          "polar": {
           "angularaxis": {
            "gridcolor": "rgb(232,232,232)",
            "linecolor": "rgb(36,36,36)",
            "showgrid": false,
            "showline": true,
            "ticks": "outside"
           },
           "bgcolor": "white",
           "radialaxis": {
            "gridcolor": "rgb(232,232,232)",
            "linecolor": "rgb(36,36,36)",
            "showgrid": false,
            "showline": true,
            "ticks": "outside"
           }
          },
          "scene": {
           "xaxis": {
            "backgroundcolor": "white",
            "gridcolor": "rgb(232,232,232)",
            "gridwidth": 2,
            "linecolor": "rgb(36,36,36)",
            "showbackground": true,
            "showgrid": false,
            "showline": true,
            "ticks": "outside",
            "zeroline": false,
            "zerolinecolor": "rgb(36,36,36)"
           },
           "yaxis": {
            "backgroundcolor": "white",
            "gridcolor": "rgb(232,232,232)",
            "gridwidth": 2,
            "linecolor": "rgb(36,36,36)",
            "showbackground": true,
            "showgrid": false,
            "showline": true,
            "ticks": "outside",
            "zeroline": false,
            "zerolinecolor": "rgb(36,36,36)"
           },
           "zaxis": {
            "backgroundcolor": "white",
            "gridcolor": "rgb(232,232,232)",
            "gridwidth": 2,
            "linecolor": "rgb(36,36,36)",
            "showbackground": true,
            "showgrid": false,
            "showline": true,
            "ticks": "outside",
            "zeroline": false,
            "zerolinecolor": "rgb(36,36,36)"
           }
          },
          "shapedefaults": {
           "fillcolor": "black",
           "line": {
            "width": 0
           },
           "opacity": 0.3
          },
          "ternary": {
           "aaxis": {
            "gridcolor": "rgb(232,232,232)",
            "linecolor": "rgb(36,36,36)",
            "showgrid": false,
            "showline": true,
            "ticks": "outside"
           },
           "baxis": {
            "gridcolor": "rgb(232,232,232)",
            "linecolor": "rgb(36,36,36)",
            "showgrid": false,
            "showline": true,
            "ticks": "outside"
           },
           "bgcolor": "white",
           "caxis": {
            "gridcolor": "rgb(232,232,232)",
            "linecolor": "rgb(36,36,36)",
            "showgrid": false,
            "showline": true,
            "ticks": "outside"
           }
          },
          "title": {
           "x": 0.05
          },
          "xaxis": {
           "automargin": true,
           "gridcolor": "rgb(232,232,232)",
           "linecolor": "rgb(36,36,36)",
           "showgrid": false,
           "showline": true,
           "ticks": "outside",
           "title": {
            "standoff": 15
           },
           "zeroline": false,
           "zerolinecolor": "rgb(36,36,36)"
          },
          "yaxis": {
           "automargin": true,
           "gridcolor": "rgb(232,232,232)",
           "linecolor": "rgb(36,36,36)",
           "showgrid": false,
           "showline": true,
           "ticks": "outside",
           "title": {
            "standoff": 15
           },
           "zeroline": false,
           "zerolinecolor": "rgb(36,36,36)"
          }
         }
        },
        "title": {
         "font": {
          "color": "Black",
          "size": 22
         },
         "text": "<b>Intertopic Distance Map</b>",
         "x": 0.5,
         "xanchor": "center",
         "y": 0.95,
         "yanchor": "top"
        },
        "width": 650,
        "xaxis": {
         "anchor": "y",
         "domain": [
          0,
          1
         ],
         "range": [
          7.622262096405029,
          11.895551586151123
         ],
         "title": {
          "text": ""
         },
         "visible": false
        },
        "yaxis": {
         "anchor": "x",
         "domain": [
          0,
          1
         ],
         "range": [
          13.222933769226074,
          19.760534000396728
         ],
         "title": {
          "text": ""
         },
         "visible": false
        }
       }
      }
     },
     "metadata": {},
     "output_type": "display_data"
    }
   ],
   "source": [
    "from bertopic import BERTopic\n",
    "\n",
    "model = BERTopic(language=\"english\", calculate_probabilities=True, verbose=True,embedding_model=\"all-MiniLM-L6-v2\",min_topic_size=11) #The higher the value of min_topic_size, the more specific the topics will be\n",
    "topics, probs = model.fit_transform(reports['text_processed']) #Fit model to data : topics are the topic labels for each document, probs are the probabilities of each topic for each document\n",
    "model.visualize_topics() #Visualize topics"
   ]
  },
  {
   "attachments": {},
   "cell_type": "markdown",
   "metadata": {},
   "source": [
    "### Topic extraction and representation"
   ]
  },
  {
   "cell_type": "code",
   "execution_count": 6,
   "metadata": {},
   "outputs": [
    {
     "name": "stdout",
     "output_type": "stream",
     "text": [
      "N number of topics:  5\n",
      "   Topic  Count                               Name  \\\n",
      "0     -1    118        -1_body_time_memories_sense   \n",
      "1      0    140        0_saw_colours_shapes_moving   \n",
      "2      1     48  1_calm_peace_peaceful_interesting   \n",
      "3      2     37        2_music_journey_time_really   \n",
      "4      3     34       3_thoughts_people_mind_brain   \n",
      "\n",
      "                                      Representation  \\\n",
      "0  [body, time, memories, sense, would, feel, cou...   \n",
      "1  [saw, colours, shapes, moving, patterns, space...   \n",
      "2  [calm, peace, peaceful, interesting, relaxed, ...   \n",
      "3  [music, journey, time, really, bit, pace, beat...   \n",
      "4  [thoughts, people, mind, brain, dreaming, thou...   \n",
      "\n",
      "                                 Representative_Docs  \n",
      "0  [breathing exercize: would help staff could sh...  \n",
      "1  [thought universe moving moving centre drawn s...  \n",
      "2                                 [calm, calm, calm]  \n",
      "3  [thought fluffy speech writtenhealth safetyasp...  \n",
      "4  [struggling mind would go back stringof though...  \n"
     ]
    }
   ],
   "source": [
    "topic_freq = model.get_topic_freq().head() #Get the frequency of each topic\n",
    "freq = model.get_topic_info() #Get the frequency of each topic\n",
    "print(\"N number of topics: \",len(freq))\n",
    "print(freq.head())\n"
   ]
  },
  {
   "cell_type": "code",
   "execution_count": 7,
   "metadata": {},
   "outputs": [
    {
     "data": {
      "text/plain": [
       "[('saw', 0.05755524997475187),\n",
       " ('colours', 0.051232408929800174),\n",
       " ('shapes', 0.037944478437954614),\n",
       " ('moving', 0.035521310480048994),\n",
       " ('patterns', 0.03511383829723262),\n",
       " ('space', 0.03434884060718493),\n",
       " ('light', 0.03279438124643039),\n",
       " ('eyes', 0.032350082467245515),\n",
       " ('one', 0.03053230276194216),\n",
       " ('blue', 0.027753482884255713)]"
      ]
     },
     "execution_count": 7,
     "metadata": {},
     "output_type": "execute_result"
    }
   ],
   "source": [
    "model.get_topic(0) #Get the most frequent words of the first topic (the words and their probabilities, ie TF-IDF scores)"
   ]
  },
  {
   "attachments": {},
   "cell_type": "markdown",
   "metadata": {},
   "source": [
    "## Prileminary visualisation"
   ]
  },
  {
   "cell_type": "code",
   "execution_count": 8,
   "metadata": {},
   "outputs": [
    {
     "data": {
      "application/vnd.plotly.v1+json": {
       "config": {
        "plotlyServerURL": "https://plot.ly"
       },
       "data": [
        {
         "marker": {
          "color": "#D55E00"
         },
         "orientation": "h",
         "type": "bar",
         "x": [
          0.03511383829723262,
          0.035521310480048994,
          0.037944478437954614,
          0.051232408929800174,
          0.05755524997475187
         ],
         "xaxis": "x",
         "y": [
          "patterns  ",
          "moving  ",
          "shapes  ",
          "colours  ",
          "saw  "
         ],
         "yaxis": "y"
        },
        {
         "marker": {
          "color": "#0072B2"
         },
         "orientation": "h",
         "type": "bar",
         "x": [
          0.10027363985908995,
          0.10973839607449623,
          0.10973839607449623,
          0.19337732489064322,
          0.22560687903908375
         ],
         "xaxis": "x2",
         "y": [
          "relaxed  ",
          "interesting  ",
          "peaceful  ",
          "peace  ",
          "calm  "
         ],
         "yaxis": "y2"
        },
        {
         "marker": {
          "color": "#CC79A7"
         },
         "orientation": "h",
         "type": "bar",
         "x": [
          0.028619329068072845,
          0.02996614151208149,
          0.03088243164001405,
          0.03420800426766454,
          0.14723102818684777
         ],
         "xaxis": "x3",
         "y": [
          "bit  ",
          "really  ",
          "time  ",
          "journey  ",
          "music  "
         ],
         "yaxis": "y3"
        },
        {
         "marker": {
          "color": "#E69F00"
         },
         "orientation": "h",
         "type": "bar",
         "x": [
          0.049510777611201394,
          0.0535695718142471,
          0.05588273898458631,
          0.05946469796879344,
          0.11511872942566102
         ],
         "xaxis": "x4",
         "y": [
          "dreaming  ",
          "brain  ",
          "mind  ",
          "people  ",
          "thoughts  "
         ],
         "yaxis": "y4"
        }
       ],
       "layout": {
        "annotations": [
         {
          "font": {
           "size": 16
          },
          "showarrow": false,
          "text": "Topic 0",
          "x": 0.0875,
          "xanchor": "center",
          "xref": "paper",
          "y": 1,
          "yanchor": "bottom",
          "yref": "paper"
         },
         {
          "font": {
           "size": 16
          },
          "showarrow": false,
          "text": "Topic 1",
          "x": 0.36250000000000004,
          "xanchor": "center",
          "xref": "paper",
          "y": 1,
          "yanchor": "bottom",
          "yref": "paper"
         },
         {
          "font": {
           "size": 16
          },
          "showarrow": false,
          "text": "Topic 2",
          "x": 0.6375000000000001,
          "xanchor": "center",
          "xref": "paper",
          "y": 1,
          "yanchor": "bottom",
          "yref": "paper"
         },
         {
          "font": {
           "size": 16
          },
          "showarrow": false,
          "text": "Topic 3",
          "x": 0.9125,
          "xanchor": "center",
          "xref": "paper",
          "y": 1,
          "yanchor": "bottom",
          "yref": "paper"
         }
        ],
        "height": 325,
        "hoverlabel": {
         "bgcolor": "white",
         "font": {
          "family": "Rockwell",
          "size": 16
         }
        },
        "showlegend": false,
        "template": {
         "data": {
          "bar": [
           {
            "error_x": {
             "color": "#2a3f5f"
            },
            "error_y": {
             "color": "#2a3f5f"
            },
            "marker": {
             "line": {
              "color": "white",
              "width": 0.5
             },
             "pattern": {
              "fillmode": "overlay",
              "size": 10,
              "solidity": 0.2
             }
            },
            "type": "bar"
           }
          ],
          "barpolar": [
           {
            "marker": {
             "line": {
              "color": "white",
              "width": 0.5
             },
             "pattern": {
              "fillmode": "overlay",
              "size": 10,
              "solidity": 0.2
             }
            },
            "type": "barpolar"
           }
          ],
          "carpet": [
           {
            "aaxis": {
             "endlinecolor": "#2a3f5f",
             "gridcolor": "#C8D4E3",
             "linecolor": "#C8D4E3",
             "minorgridcolor": "#C8D4E3",
             "startlinecolor": "#2a3f5f"
            },
            "baxis": {
             "endlinecolor": "#2a3f5f",
             "gridcolor": "#C8D4E3",
             "linecolor": "#C8D4E3",
             "minorgridcolor": "#C8D4E3",
             "startlinecolor": "#2a3f5f"
            },
            "type": "carpet"
           }
          ],
          "choropleth": [
           {
            "colorbar": {
             "outlinewidth": 0,
             "ticks": ""
            },
            "type": "choropleth"
           }
          ],
          "contour": [
           {
            "colorbar": {
             "outlinewidth": 0,
             "ticks": ""
            },
            "colorscale": [
             [
              0,
              "#0d0887"
             ],
             [
              0.1111111111111111,
              "#46039f"
             ],
             [
              0.2222222222222222,
              "#7201a8"
             ],
             [
              0.3333333333333333,
              "#9c179e"
             ],
             [
              0.4444444444444444,
              "#bd3786"
             ],
             [
              0.5555555555555556,
              "#d8576b"
             ],
             [
              0.6666666666666666,
              "#ed7953"
             ],
             [
              0.7777777777777778,
              "#fb9f3a"
             ],
             [
              0.8888888888888888,
              "#fdca26"
             ],
             [
              1,
              "#f0f921"
             ]
            ],
            "type": "contour"
           }
          ],
          "contourcarpet": [
           {
            "colorbar": {
             "outlinewidth": 0,
             "ticks": ""
            },
            "type": "contourcarpet"
           }
          ],
          "heatmap": [
           {
            "colorbar": {
             "outlinewidth": 0,
             "ticks": ""
            },
            "colorscale": [
             [
              0,
              "#0d0887"
             ],
             [
              0.1111111111111111,
              "#46039f"
             ],
             [
              0.2222222222222222,
              "#7201a8"
             ],
             [
              0.3333333333333333,
              "#9c179e"
             ],
             [
              0.4444444444444444,
              "#bd3786"
             ],
             [
              0.5555555555555556,
              "#d8576b"
             ],
             [
              0.6666666666666666,
              "#ed7953"
             ],
             [
              0.7777777777777778,
              "#fb9f3a"
             ],
             [
              0.8888888888888888,
              "#fdca26"
             ],
             [
              1,
              "#f0f921"
             ]
            ],
            "type": "heatmap"
           }
          ],
          "heatmapgl": [
           {
            "colorbar": {
             "outlinewidth": 0,
             "ticks": ""
            },
            "colorscale": [
             [
              0,
              "#0d0887"
             ],
             [
              0.1111111111111111,
              "#46039f"
             ],
             [
              0.2222222222222222,
              "#7201a8"
             ],
             [
              0.3333333333333333,
              "#9c179e"
             ],
             [
              0.4444444444444444,
              "#bd3786"
             ],
             [
              0.5555555555555556,
              "#d8576b"
             ],
             [
              0.6666666666666666,
              "#ed7953"
             ],
             [
              0.7777777777777778,
              "#fb9f3a"
             ],
             [
              0.8888888888888888,
              "#fdca26"
             ],
             [
              1,
              "#f0f921"
             ]
            ],
            "type": "heatmapgl"
           }
          ],
          "histogram": [
           {
            "marker": {
             "pattern": {
              "fillmode": "overlay",
              "size": 10,
              "solidity": 0.2
             }
            },
            "type": "histogram"
           }
          ],
          "histogram2d": [
           {
            "colorbar": {
             "outlinewidth": 0,
             "ticks": ""
            },
            "colorscale": [
             [
              0,
              "#0d0887"
             ],
             [
              0.1111111111111111,
              "#46039f"
             ],
             [
              0.2222222222222222,
              "#7201a8"
             ],
             [
              0.3333333333333333,
              "#9c179e"
             ],
             [
              0.4444444444444444,
              "#bd3786"
             ],
             [
              0.5555555555555556,
              "#d8576b"
             ],
             [
              0.6666666666666666,
              "#ed7953"
             ],
             [
              0.7777777777777778,
              "#fb9f3a"
             ],
             [
              0.8888888888888888,
              "#fdca26"
             ],
             [
              1,
              "#f0f921"
             ]
            ],
            "type": "histogram2d"
           }
          ],
          "histogram2dcontour": [
           {
            "colorbar": {
             "outlinewidth": 0,
             "ticks": ""
            },
            "colorscale": [
             [
              0,
              "#0d0887"
             ],
             [
              0.1111111111111111,
              "#46039f"
             ],
             [
              0.2222222222222222,
              "#7201a8"
             ],
             [
              0.3333333333333333,
              "#9c179e"
             ],
             [
              0.4444444444444444,
              "#bd3786"
             ],
             [
              0.5555555555555556,
              "#d8576b"
             ],
             [
              0.6666666666666666,
              "#ed7953"
             ],
             [
              0.7777777777777778,
              "#fb9f3a"
             ],
             [
              0.8888888888888888,
              "#fdca26"
             ],
             [
              1,
              "#f0f921"
             ]
            ],
            "type": "histogram2dcontour"
           }
          ],
          "mesh3d": [
           {
            "colorbar": {
             "outlinewidth": 0,
             "ticks": ""
            },
            "type": "mesh3d"
           }
          ],
          "parcoords": [
           {
            "line": {
             "colorbar": {
              "outlinewidth": 0,
              "ticks": ""
             }
            },
            "type": "parcoords"
           }
          ],
          "pie": [
           {
            "automargin": true,
            "type": "pie"
           }
          ],
          "scatter": [
           {
            "fillpattern": {
             "fillmode": "overlay",
             "size": 10,
             "solidity": 0.2
            },
            "type": "scatter"
           }
          ],
          "scatter3d": [
           {
            "line": {
             "colorbar": {
              "outlinewidth": 0,
              "ticks": ""
             }
            },
            "marker": {
             "colorbar": {
              "outlinewidth": 0,
              "ticks": ""
             }
            },
            "type": "scatter3d"
           }
          ],
          "scattercarpet": [
           {
            "marker": {
             "colorbar": {
              "outlinewidth": 0,
              "ticks": ""
             }
            },
            "type": "scattercarpet"
           }
          ],
          "scattergeo": [
           {
            "marker": {
             "colorbar": {
              "outlinewidth": 0,
              "ticks": ""
             }
            },
            "type": "scattergeo"
           }
          ],
          "scattergl": [
           {
            "marker": {
             "colorbar": {
              "outlinewidth": 0,
              "ticks": ""
             }
            },
            "type": "scattergl"
           }
          ],
          "scattermapbox": [
           {
            "marker": {
             "colorbar": {
              "outlinewidth": 0,
              "ticks": ""
             }
            },
            "type": "scattermapbox"
           }
          ],
          "scatterpolar": [
           {
            "marker": {
             "colorbar": {
              "outlinewidth": 0,
              "ticks": ""
             }
            },
            "type": "scatterpolar"
           }
          ],
          "scatterpolargl": [
           {
            "marker": {
             "colorbar": {
              "outlinewidth": 0,
              "ticks": ""
             }
            },
            "type": "scatterpolargl"
           }
          ],
          "scatterternary": [
           {
            "marker": {
             "colorbar": {
              "outlinewidth": 0,
              "ticks": ""
             }
            },
            "type": "scatterternary"
           }
          ],
          "surface": [
           {
            "colorbar": {
             "outlinewidth": 0,
             "ticks": ""
            },
            "colorscale": [
             [
              0,
              "#0d0887"
             ],
             [
              0.1111111111111111,
              "#46039f"
             ],
             [
              0.2222222222222222,
              "#7201a8"
             ],
             [
              0.3333333333333333,
              "#9c179e"
             ],
             [
              0.4444444444444444,
              "#bd3786"
             ],
             [
              0.5555555555555556,
              "#d8576b"
             ],
             [
              0.6666666666666666,
              "#ed7953"
             ],
             [
              0.7777777777777778,
              "#fb9f3a"
             ],
             [
              0.8888888888888888,
              "#fdca26"
             ],
             [
              1,
              "#f0f921"
             ]
            ],
            "type": "surface"
           }
          ],
          "table": [
           {
            "cells": {
             "fill": {
              "color": "#EBF0F8"
             },
             "line": {
              "color": "white"
             }
            },
            "header": {
             "fill": {
              "color": "#C8D4E3"
             },
             "line": {
              "color": "white"
             }
            },
            "type": "table"
           }
          ]
         },
         "layout": {
          "annotationdefaults": {
           "arrowcolor": "#2a3f5f",
           "arrowhead": 0,
           "arrowwidth": 1
          },
          "autotypenumbers": "strict",
          "coloraxis": {
           "colorbar": {
            "outlinewidth": 0,
            "ticks": ""
           }
          },
          "colorscale": {
           "diverging": [
            [
             0,
             "#8e0152"
            ],
            [
             0.1,
             "#c51b7d"
            ],
            [
             0.2,
             "#de77ae"
            ],
            [
             0.3,
             "#f1b6da"
            ],
            [
             0.4,
             "#fde0ef"
            ],
            [
             0.5,
             "#f7f7f7"
            ],
            [
             0.6,
             "#e6f5d0"
            ],
            [
             0.7,
             "#b8e186"
            ],
            [
             0.8,
             "#7fbc41"
            ],
            [
             0.9,
             "#4d9221"
            ],
            [
             1,
             "#276419"
            ]
           ],
           "sequential": [
            [
             0,
             "#0d0887"
            ],
            [
             0.1111111111111111,
             "#46039f"
            ],
            [
             0.2222222222222222,
             "#7201a8"
            ],
            [
             0.3333333333333333,
             "#9c179e"
            ],
            [
             0.4444444444444444,
             "#bd3786"
            ],
            [
             0.5555555555555556,
             "#d8576b"
            ],
            [
             0.6666666666666666,
             "#ed7953"
            ],
            [
             0.7777777777777778,
             "#fb9f3a"
            ],
            [
             0.8888888888888888,
             "#fdca26"
            ],
            [
             1,
             "#f0f921"
            ]
           ],
           "sequentialminus": [
            [
             0,
             "#0d0887"
            ],
            [
             0.1111111111111111,
             "#46039f"
            ],
            [
             0.2222222222222222,
             "#7201a8"
            ],
            [
             0.3333333333333333,
             "#9c179e"
            ],
            [
             0.4444444444444444,
             "#bd3786"
            ],
            [
             0.5555555555555556,
             "#d8576b"
            ],
            [
             0.6666666666666666,
             "#ed7953"
            ],
            [
             0.7777777777777778,
             "#fb9f3a"
            ],
            [
             0.8888888888888888,
             "#fdca26"
            ],
            [
             1,
             "#f0f921"
            ]
           ]
          },
          "colorway": [
           "#636efa",
           "#EF553B",
           "#00cc96",
           "#ab63fa",
           "#FFA15A",
           "#19d3f3",
           "#FF6692",
           "#B6E880",
           "#FF97FF",
           "#FECB52"
          ],
          "font": {
           "color": "#2a3f5f"
          },
          "geo": {
           "bgcolor": "white",
           "lakecolor": "white",
           "landcolor": "white",
           "showlakes": true,
           "showland": true,
           "subunitcolor": "#C8D4E3"
          },
          "hoverlabel": {
           "align": "left"
          },
          "hovermode": "closest",
          "mapbox": {
           "style": "light"
          },
          "paper_bgcolor": "white",
          "plot_bgcolor": "white",
          "polar": {
           "angularaxis": {
            "gridcolor": "#EBF0F8",
            "linecolor": "#EBF0F8",
            "ticks": ""
           },
           "bgcolor": "white",
           "radialaxis": {
            "gridcolor": "#EBF0F8",
            "linecolor": "#EBF0F8",
            "ticks": ""
           }
          },
          "scene": {
           "xaxis": {
            "backgroundcolor": "white",
            "gridcolor": "#DFE8F3",
            "gridwidth": 2,
            "linecolor": "#EBF0F8",
            "showbackground": true,
            "ticks": "",
            "zerolinecolor": "#EBF0F8"
           },
           "yaxis": {
            "backgroundcolor": "white",
            "gridcolor": "#DFE8F3",
            "gridwidth": 2,
            "linecolor": "#EBF0F8",
            "showbackground": true,
            "ticks": "",
            "zerolinecolor": "#EBF0F8"
           },
           "zaxis": {
            "backgroundcolor": "white",
            "gridcolor": "#DFE8F3",
            "gridwidth": 2,
            "linecolor": "#EBF0F8",
            "showbackground": true,
            "ticks": "",
            "zerolinecolor": "#EBF0F8"
           }
          },
          "shapedefaults": {
           "line": {
            "color": "#2a3f5f"
           }
          },
          "ternary": {
           "aaxis": {
            "gridcolor": "#DFE8F3",
            "linecolor": "#A2B1C6",
            "ticks": ""
           },
           "baxis": {
            "gridcolor": "#DFE8F3",
            "linecolor": "#A2B1C6",
            "ticks": ""
           },
           "bgcolor": "white",
           "caxis": {
            "gridcolor": "#DFE8F3",
            "linecolor": "#A2B1C6",
            "ticks": ""
           }
          },
          "title": {
           "x": 0.05
          },
          "xaxis": {
           "automargin": true,
           "gridcolor": "#EBF0F8",
           "linecolor": "#EBF0F8",
           "ticks": "",
           "title": {
            "standoff": 15
           },
           "zerolinecolor": "#EBF0F8",
           "zerolinewidth": 2
          },
          "yaxis": {
           "automargin": true,
           "gridcolor": "#EBF0F8",
           "linecolor": "#EBF0F8",
           "ticks": "",
           "title": {
            "standoff": 15
           },
           "zerolinecolor": "#EBF0F8",
           "zerolinewidth": 2
          }
         }
        },
        "title": {
         "font": {
          "color": "Black",
          "size": 22
         },
         "text": "Topic Word Scores",
         "x": 0.5,
         "xanchor": "center",
         "yanchor": "top"
        },
        "width": 1000,
        "xaxis": {
         "anchor": "y",
         "domain": [
          0,
          0.175
         ],
         "showgrid": true
        },
        "xaxis2": {
         "anchor": "y2",
         "domain": [
          0.275,
          0.45
         ],
         "showgrid": true
        },
        "xaxis3": {
         "anchor": "y3",
         "domain": [
          0.55,
          0.7250000000000001
         ],
         "showgrid": true
        },
        "xaxis4": {
         "anchor": "y4",
         "domain": [
          0.825,
          1
         ],
         "showgrid": true
        },
        "yaxis": {
         "anchor": "x",
         "domain": [
          0,
          1
         ],
         "showgrid": true
        },
        "yaxis2": {
         "anchor": "x2",
         "domain": [
          0,
          1
         ],
         "showgrid": true
        },
        "yaxis3": {
         "anchor": "x3",
         "domain": [
          0,
          1
         ],
         "showgrid": true
        },
        "yaxis4": {
         "anchor": "x4",
         "domain": [
          0,
          1
         ],
         "showgrid": true
        }
       }
      }
     },
     "metadata": {},
     "output_type": "display_data"
    }
   ],
   "source": [
    "model.visualize_barchart(top_n_topics=10) #Visualize the top 10 topics"
   ]
  },
  {
   "cell_type": "code",
   "execution_count": 9,
   "metadata": {},
   "outputs": [
    {
     "data": {
      "application/vnd.plotly.v1+json": {
       "config": {
        "plotlyServerURL": "https://plot.ly"
       },
       "data": [
        {
         "hoverinfo": "text",
         "hovertext": [
          "devtest trev site",
          "good loads ket still decent",
          "began violent falling away darkness",
          "yourefrom university sussex need stand reality believe souls gendered ogherwise",
          "complete journey closest sober (and honest better) psychedelics",
          "quite honest think fell asleep dont really rememberwhat saw",
          "trying remember patterns",
          "memories meditationswimming weightlessnessspace",
          "complete relaxationpeace mind ready face whatever happens",
          "overwhelming sense euphoria love everyone room journeying together hopeful",
          "confusing sense place familiar place grandmother's basement train station place sensation strong struggled find memory matched feeling knew strong pull familiar place beyond remembering sure glad drugs",
          "new form art individual host unique",
          "2nd time 1st one better coz relaxed got ideas time someone kept coughing disrupted thought process feel anything ban people cough",
          "psychedelic colours",
          "wentback many hard mostly beautiful memories without prompting",
          "many different things little afraid thinking gas chambers overwheming feeling love connection everyone room became white egret dream last week flew around room touching everyone heart expanded opened wings hold room typeof death decended underworld felyt go layers earth moss land abeing call eveleryn things changed became pink clouds met long blue much defined form told francis assisi asked husband told important work destiny became mantaray drifted",
          "doorway",
          "exactly rember lsd without scary parts",
          "sense time",
          "wish george created",
          "hope colour",
          "thus available everyone time",
          "acid dmt safer everyone try",
          "wondered would die calm serene frightening isaw lots warmcolours black crosses-no green",
          "range emotions patterns colour movement sense really beingbinside head",
          "various flashing images memories random events people life kept popping nothing lingered lots individual things happened memories also numb tingly throughout different points body light fuzzy wasnt sitting anything",
          "wish could remindedme child",
          "llama intro credit scene monty python holy grail points",
          "incredible sensory huge feeling calm peace times l back womb",
          "remembered beautiful joyful memories moments family asif waswith beach",
          "vibration visuals centered body aware sounds mind realty quietened",
          "deep relaxation close falling asleep",
          "experienc time travelling imagine",
          "loved would try couple hours",
          "alot memories",
          "entry another univerise",
          "euphoric healing",
          "boat charlie chocolate factory",
          "anotherworld",
          "helped meditation journey",
          "love feling amazing would come back fell aslep wake fresh mindset",
          "immense comfort even much frantic towards saw deep blue snow incredibly peaceful",
          "profihnd sense 9f relaxation neved experienced came pure connectivity body slight floating sensation",
          "wild ride",
          "euphoric",
          "relaxing reflective worries stopped / put porportion",
          "dreamt harbinger new planet shaping world life equity wish belong someone really loved missed",
          "outerspace experiencing transition death comforting whilst small insignificant also free powerful",
          "sound created visuals created pattern energy movement across body",
          "saw past experiences reflected choices saw new scenes reflected opportunities",
          "busy airport waiting area landing egypt",
          "visual abit flat sa focused eyes head much would rather engage body work somatic aspect dropped body feel flat survace lie canvas face painting images appeared beautiful thanks",
          "pleasure & intrigue",
          "breathing exercize: would help staff could show us could copy way delivered fast long rythm found eye mask uncomfortable forehead took would prefer use hands shield light abit cold especially moving quite echoy could hear someone snoring staff openin & shutting thedoor near beginning might idea box tissues reflection room",
          "scary pointy laughing clown face test period came later able control turned pecking bird zooming space someone wanted show planet far away flew cities deserts one point wasflyingclose ground herd elephants met god one eye middle theirforehead great sense ofadventure wellbeing traveller welcome ontheir peaceful world",
          "looking across universe beyond realm deep connection humankind overwhelming sense peace left feeling profoundly moved tearful",
          "intense connection body surroundings",
          "woman next sniffing move difficult get back",
          "feel amazed saw afriend past free field green hill made weep joy saw poverty forebears loved thanked",
          "something ever experienced something wish could week",
          "brain oscar worthy director",
          "life death rebirth",
          "stop thinking process trying memorise visuals trying disconnect wish meditated point started experimenting trying recall images liked successful 50% time reminded 2001: space odyssey",
          "noxtalgia andpdace optimism escapism ive visited three timesand different wearing contacts geometric last timei saw lot white geomtricforms mixed smoke times saw hyperspace style visuals red blue",
          "intensity connectionvastnessspaciousnesslovi ngawareness",
          "taking hallucinogenic drugs younger",
          "collection keyholes could see paintingthrough animals merpeople morphing intoeach wireframe structures 'up' (the animated movie)-style montage future",
          "something wonderful",
          "breathing hard",
          "spoke 8 year old self 80 year old self happy",
          "euphoria",
          "dream movie one even mind flying lot shape light space moment feel draw back body environment thought somewhere one cant realise long quick dont feel time",
          "thought throughout visualising body specifically head",
          "devtest trevor onsite 2",
          "calming sounds rising elation curiosity connection acceptance stressful time self jubilation inspiration",
          "happiness joy adventure",
          "good vibes",
          "life retired",
          "devtest",
          "sense expansion moving towards something forward motion motivation progress purposes",
          "sound inside body",
          "sensory rollercoaster",
          "fabulous didnt wantit eyesopen throughoutand yet totally enveloped sound",
          "unique teach us simple could recconnect primitive way feel emotions trough sounds colours",
          "riding willie wonka's boat crazy tunnels charlie chocolate factory",
          "sen se comfort connection anin inner peace clam safe",
          "deep memories emotive reflections images ive seen",
          "submission fun mild euphoric moments",
          "closest thing i'll ever drugs",
          "varying journey speed awareness times rapid though thr body brain able process moments calm soothing desire retain recall shapes colours andfeelings envoked strong understanding may lost coming",
          "geometrical rythmic pulsating cosmos front eyes infinently varied beutiful return time without help dream",
          "deep relaxation deep tissue massage mind safe healthy groovy drug-free trip long last afterwards deepest deepest sleep worried might give headache didnt great peace soothed tired",
          "healing part realise decayed entirely",
          "almost transformative lights started gradually built moved states mindfullness distracted everyday thoughts sometimes wrestling two crescendoed cacophony sound light reached state full awareness arms weightless parts body distant unrecognisable",
          "calm serenity flashback emotions",
          "incredibly small weight exsistence heavy blanket rather negative relief comforted",
          "blue bird flying coming closer calm peace baby smiling relative thought working dream another place",
          "acid",
          "time place seem happened yet come",
          "past memories people really life anymore",
          "warm cold sensations hands one point relaxed sleepy found flashing lights little intense eye mask worked well times overall enjoyable relaxing",
          "amazing sense harmony balance oneness visually moving mandala",
          "awake whole time could relax switch",
          "hope that's death feels x",
          "moment i'll die want feel",
          "whole spectrum colors shapes colors never seen moving many directions pircing thorough body mind ecstatic wished would never home deep sense warm loving embrace mothers wumb",
          "falling snow peaceful lost cornfield staring tunnel scared",
          "physical discomfort amazing patterns intense colours yearning desire see questions",
          "atei feel really relaxed would j try meditate beforehand still racing thoughts interrupting couldnt totally immersed suffer tinnitus matter always distraction",
          "vertigo",
          "rollercoaster sun make get",
          "loss sense time images images feeling transported moving",
          "overall amazing",
          "euphoric",
          "pleasant seeim something unexpected",
          "times concern would soon",
          "brains neurons veins elephants",
          "saw map london walked new york floating space star angel floating past memories forgiving ever sad numb",
          null
         ],
         "marker": {
          "color": "#CFD8DC",
          "opacity": 0.5,
          "size": 5
         },
         "mode": "markers+text",
         "name": "other",
         "showlegend": false,
         "type": "scattergl",
         "x": [
          4.522950649261475,
          2.402616262435913,
          5.767575263977051,
          3.9135854244232178,
          2.7101383209228516,
          5.683120250701904,
          5.349244117736816,
          3.3731420040130615,
          3.067450761795044,
          1.6460245847702026,
          3.7894129753112793,
          5.445151329040527,
          3.577958106994629,
          4.682252883911133,
          5.675536632537842,
          3.7703280448913574,
          2.849407196044922,
          2.708460807800293,
          5.353261947631836,
          4.354902744293213,
          5.0669660568237305,
          5.13331937789917,
          2.3673858642578125,
          4.629329204559326,
          4.612998008728027,
          5.087370872497559,
          4.39387845993042,
          6.254552364349365,
          2.8830573558807373,
          5.787694454193115,
          3.6807432174682617,
          3.3045318126678467,
          5.459835529327393,
          4.889977931976318,
          5.57130765914917,
          3.8458023071289062,
          1.7020641565322876,
          6.319103240966797,
          4.007270812988281,
          3.054082155227661,
          3.5990121364593506,
          2.730466365814209,
          4.315417289733887,
          6.317163467407227,
          1.6294050216674805,
          3.1342508792877197,
          4.16847038269043,
          3.9730212688446045,
          3.752671480178833,
          5.681807518005371,
          5.402504920959473,
          4.690296649932861,
          2.257822275161743,
          3.6116979122161865,
          6.246532917022705,
          3.916428565979004,
          4.331456661224365,
          3.4920592308044434,
          3.5435497760772705,
          4.057417392730713,
          4.74254035949707,
          3.9270412921905518,
          5.2640910148620605,
          4.938846111297607,
          4.312307834625244,
          2.6470284461975098,
          5.751706123352051,
          1.8940556049346924,
          3.4205095767974854,
          2.3731157779693604,
          1.6679925918579102,
          5.289147853851318,
          4.558292388916016,
          4.533722400665283,
          2.8133435249328613,
          2.3214192390441895,
          2.2571375370025635,
          3.8880457878112793,
          4.524533748626709,
          5.319187164306641,
          3.743757724761963,
          6.251583099365234,
          3.6082541942596436,
          4.639934539794922,
          6.284545421600342,
          2.628532648086548,
          5.645724773406982,
          1.6944775581359863,
          2.579646587371826,
          4.267078399658203,
          7.3792405128479,
          3.1023125648498535,
          1.9643840789794922,
          4.5708794593811035,
          3.1542694568634033,
          2.797111749649048,
          7.661074161529541,
          2.07692289352417,
          5.269125461578369,
          5.615712642669678,
          3.049041271209717,
          3.9100568294525146,
          3.3750829696655273,
          3.915095329284668,
          3.847033739089966,
          4.782405853271484,
          5.884741306304932,
          4.790810585021973,
          3.1523685455322266,
          6.07760763168335,
          6.293940544128418,
          5.433952331542969,
          2.2179453372955322,
          1.646568775177002,
          2.6721646785736084,
          5.22943115234375,
          4.703348159790039,
          5.961630344390869,
          4.134467124938965
         ],
         "y": [
          13.451211929321289,
          14.01117992401123,
          16.42731285095215,
          13.869696617126465,
          16.446365356445312,
          15.059215545654297,
          15.47677993774414,
          16.698951721191406,
          14.600068092346191,
          15.696809768676758,
          15.794916152954102,
          16.067073822021484,
          15.126729011535645,
          17.42633819580078,
          15.162755012512207,
          16.340526580810547,
          13.508411407470703,
          16.446760177612305,
          13.894850730895996,
          14.358710289001465,
          17.59591293334961,
          13.750835418701172,
          16.287599563598633,
          17.46316909790039,
          17.13715362548828,
          16.51659393310547,
          14.434464454650879,
          15.401826858520508,
          15.19973087310791,
          15.169330596923828,
          17.32422637939453,
          14.382162094116211,
          14.04039478302002,
          13.68642807006836,
          15.196834564208984,
          13.809893608093262,
          15.795248985290527,
          15.720518112182617,
          14.086746215820312,
          16.342748641967773,
          16.153234481811523,
          15.211204528808594,
          16.347158432006836,
          16.170188903808594,
          15.795975685119629,
          14.506929397583008,
          14.237567901611328,
          14.46496868133545,
          17.390392303466797,
          15.357796669006348,
          14.614373207092285,
          16.156452178955078,
          14.85767936706543,
          15.23408317565918,
          15.354324340820312,
          14.231728553771973,
          16.53058624267578,
          15.119072914123535,
          16.490291595458984,
          15.119315147399902,
          15.957902908325195,
          14.533382415771484,
          15.508906364440918,
          16.58635139465332,
          16.49635887145996,
          16.451702117919922,
          15.908408164978027,
          14.71440601348877,
          15.040803909301758,
          14.955598831176758,
          15.751289367675781,
          14.577404975891113,
          16.170503616333008,
          13.45801830291748,
          15.282110214233398,
          14.923847198486328,
          14.006587982177734,
          14.497896194458008,
          13.461700439453125,
          13.880131721496582,
          17.39794158935547,
          16.13393783569336,
          16.153884887695312,
          17.17926597595215,
          15.816798210144043,
          14.787846565246582,
          15.3606595993042,
          15.772958755493164,
          16.424854278564453,
          16.457393646240234,
          17.41166114807129,
          14.523141860961914,
          15.740180969238281,
          15.857403755187988,
          15.3074369430542,
          15.137414932250977,
          16.191509246826172,
          16.132213592529297,
          13.81823444366455,
          15.160601615905762,
          14.559260368347168,
          16.925216674804688,
          14.33924388885498,
          14.570365905761719,
          14.586360931396484,
          17.133197784423828,
          16.38178253173828,
          17.128355026245117,
          14.554631233215332,
          16.87505531311035,
          16.17823600769043,
          14.005620002746582,
          14.131648063659668,
          15.762762069702148,
          15.688301086425781,
          13.798558235168457,
          16.062894821166992,
          14.896039009094238,
          15.43267822265625
         ]
        },
        {
         "hoverinfo": "text",
         "hovertext": [
          "towards washing spin going helicopter moving different possitions",
          "thought alot rands journey rhudian experiencing history aiel eyes ancestors",
          "can't recognise color actually feel light dimming",
          "water womb birth light world also point bees panel",
          "colours testcard lightly muted called pink mind saw wash deep pink also saw text almost ancient runes one point iwas flying remembered difficult experiences afterwards euphoric",
          "body - fact planet earth - took trip space",
          "initially spiral spool old film running projector figures standing though dance starfields reminiscent 2001 stargate oddly robbie williams",
          "got many vivid visions saw lots colours bedroom old tv shows videogames cities",
          "saw different colour lights centre closed eyes",
          "blue red cross initially dots various colours one point got quite animated bounced around fair bit dozed",
          "would next make artwork",
          "intense geometric shapes spiralling deep ocean blue circle vivid memories dad carrying shoulders young girl back short dream unforgettable magical life-affirming",
          "geometric paterns 2 colour mainly sometimes white dots moved rapidly direcion shape centre sometimes moved opposite direction towards centre point calledoscope linear helicopter sound could see 2 rotors geometrical shapes one front eye",
          "pulled vortex time waiting awake different dimension",
          "flying coourful vortex overwhelming vast spaceand insignificant",
          "moved wild tide atomic energy converging around us",
          "saw concave convex thehot orange os cillating insice avolcano",
          "thoughts mundane everyday things work mainly relaxed ansd able float dreamlike place visuals ofspace deep ocean",
          "places waves animal",
          "wasmy second time experance black white cold bluues grids fractials previous pink tones vortexes sensation flyingin wormhole",
          "l flower slowly unfurling sunlight trippy mickey mouse 1940s disney animation seen kalaidescope",
          "lots colors",
          "kalsczscope colours",
          "body kept sinking dropping another level seat",
          "numerous random shapes sometimes geometric sometimes dots feeling things comings sense travelling along galaxy highway towards",
          "near impossible keep eyes open",
          "one point light darkened vision shifted field blue - one recognised deep shade derek jarman's film",
          "saw starry night blue warm water blue butterfly",
          "travelling space",
          "thought universe moving moving centre drawn saw honeycomb shapes thought bees saw blocks colour red yellow dramatic",
          "bizarre lots observing others giant bubble people coming protected others control dome",
          "towards went space take intense scary floating peacefully orbit glow earth could see stars",
          "huge 3d landscapes flashing backgrounds undulating foreground quuckly becoming new perspective",
          "dissolved light",
          "though moving tunnel towards darkness wrapped metal strips",
          "told atthe start could keep eyes open lot thought light show didnt get whole idea impact impact flickering lights closed eyes",
          "spirals pulsing",
          "vca fuzz patterns",
          "moving tunnel branches green see green start finish",
          "changing colours interlocking diamond triangles faintly distinct light appear grow shrink",
          "aware started follow train thought maybe going deeoer didnt see much imagery whdn concentratingon colours shapes spent lot timethunjing aboutthe way world sesoriky whether 'normal' compaired people",
          "incredible technicolour",
          "intense visual clarity \"hyper-resolution\" extremely rich 3d",
          "journey cosmos travelling speed light galaxies wizz past",
          "swivelling vortex sound loneliness moon jacuzzi lightness",
          "v�sarely flying brain space warm sunset",
          "visuals trees heatsun likeexperience",
          "unsettling lights flashing kalediscope front eyes even thouh eyes closed didnt feel control wondered would positive found could shut wanted able relax -almost falling asleep times colours changed patterns sometimes sunrise othertimes something science fiction blue backgrounds white linked rectangles",
          "saw different landscapes",
          "kaleidascopic 'be guest' beauty & beast kept seeing happy spinning teapots",
          "lot kaleidoscope flowers falling blossoms snow flakes ripples rain drops water",
          "earth falling sun least nineties rave visuals cycle death rebirth envisaged eighties d&d summer meadow lot diamond ripples",
          "space even ive never physically",
          "saw insideof eyelids whole new way",
          "jouney forward maybe backwards slow fast really fast really sloooow many fractals colours",
          "riding ray sort flying barren icelandic desert spinning universe",
          "totally immersive inside kaleidescope saw bright yellow thesun took myhappy place",
          "colours made patterns eyes closed - almost weave colours woollen fabric",
          "fractals intense colours sometimes mix memories single short scenes beautiful situations past",
          "absolutely tripped away good came n experienced u set",
          "saw serene beach scene people text subtitled movie set south france",
          "sense moving portal transported 2001 viewed kaleidoscope wearing kaleidogoggles immense",
          "light shapes emerging receding patterns folding ofeash kaleidescope effects wasalso interesting image stabilised scan field vision side fo side explore periphery",
          "relaxed also stimulated brightness frequency flickering attacked yet never scared weak",
          "interesting definitely easy moment reminded used get bored school assemblies press eyes watch patterns unfold visuals kaleidoscopic although saw moroccan landscape dolphin swimming away cave various points",
          "red red shapes travel tbrough time",
          "would love continual stimulation without breaks see images evolve",
          "saw shapes waves azulejo tiles patchwork blurry landscapes vague outlines animals shapes stag running saw past love wedding dress another swimming ocean",
          "saw x3 distinct images: 1 staircase/escalator 2 treasure chests (x2 opening x1 closed/locked 3 bookmark symbol",
          "possible generate full images demand - elephant made upwards flowing oil rivulets",
          "saw flaring whirling water air becoming one withwhat floated",
          "web gold dark universe saw energy connection things domed tower full stars mountains arches appeared surrendered geometry falling lifted tunnels ascending warmth sun saw waters moving face earth covering deepness outside time close religious profoundly moving elating",
          "st time seperate front vision 2nd time around vast difference happen bigger profound akmost intense",
          "kaleidoscope light patterns",
          "desert figures moving across dunes underwater among whales viewing london sky line one point followed helicopter saw lot orange blue bubbly patterns",
          "bright blue skies waterfall flowing backwards flock birds universe",
          "land (not anywhere earth) another plannet animals usual colours - yellow elephant blue gorilla started gently running towards sea turned mermaid watched land swam away turtles fishes beautiful love peace harmony togetherness freedom much love",
          "saw many shapes colours usually swirling falling around moving vortex tunnel often red orange sometimes bluey green underwater",
          "struggled let go though amazing mind make colours shapes images tried think living fear live",
          "thatgod's light shone upon going back beginning universe big bang andseeing creatures microcosm - cellular level- well planets stars also depths ocean",
          "towardsthe maybe quarter started really intense visual ripples looking tower",
          "one point saw someone leave room (like dream) also lifted spiralled waltzer saw many kinds patterns sparks geometric shapes contrarotating spirals feet feel bit floaty",
          "mostly saw grey geometric shapes",
          "colourful patterns",
          "intro red spiralsalmost cyclone",
          "everywhere saw partner's nose eyes glasses everything molecule air given eyes saw everything universe multiverse time emerged someone's sleeve everything packed tiny insignificant thing",
          "saw vertical tree branches green leaves towards though moving sleep state point",
          "began see source light come connection everything could see little sensory machines moving relm bumping sounds colours emotions colours behind closed eyes swapped opposite colour colour spectrum screen",
          "many different visuals experiences one ocean house grass fields near cliffs next ocean approaching heaven one last ones walworth road",
          "one central heart shape kept returning every colour rainbow one point sky immersed skydiving went space saw galaxies stars lots kaleidoscope shapes",
          "intense fast movement sound shapes colour aand light 100% immersive anticipated",
          "pattern red white lights thatflashed andbecame intensewhen lights flashed intensely alsofelt sleep abit thinkingof partner could visualise",
          "mind jellyfish suspended space",
          "varirtyof lights colours movinginward outwards",
          "saw lot animals ones used rreptiles time liked seemed adorable also dreaming random objects started create stories dreamingit drug trip points also inside ocean",
          "geometric kaleidescope shapes overlayed moving cosmos/night sky slow exposure different pulling directions moving portal time space",
          "deep ocean dark also brilliant blue drowning instead that's meant sense place akin home almost calling draw submerged away world space could float simply exist without interruptions",
          "visual doesnt look anything whst saw much geometric kaledoscopic sky",
          "found thoughts developing stories images eyes closed vast colours brain generated impressive art gallerty",
          "hard focus single pattern wanted focus one would become less focused let pass would able see clearer",
          "portal moving towards away fractaling everything",
          "fun fare spinning ride two next spinning opposite directions light lot mottled reds greens",
          "thought drifting space quite enjoyed opened eyesbut thought centrelights mild impressive colors sawwhen eyes shut brief fleeting hues nebulous specific patterns",
          "wild could stayed day complete disconnection body strong desire turn intensity explore visual phases kaleidoscope swirls geometric patterns oranges reds blues green suddenly black/white phases feeling motion floating looking sky looking beneath flying forwards backwards tunnel",
          "lights colours sense calm joy",
          "col0urs shapes stars ac inecoce",
          "lots pulsating spiralling images take specific forms",
          "changing temperature body lights changes intensity focussed compared light across whole peripheral vision",
          "floating space",
          "mass moving shapes vivid colours continually changing evolving enveloping",
          "surprised time (4th high sensory) seeing peripheral live structures - pyramidal shapes another thing found strange seeing clearly pentagram centre spiral - normal one well reversed rotating",
          "saw film strips sons lips giant wooshing manga dragon focussed grass slate little windows stained glass",
          "kept seeing images og peope",
          "peacefull contemplation vivid mandelbrot type kaladescopic patterns",
          "ajourney space riding kaleidoscope body occasion spinning sensastion could see glaxies star clusters around invisibke kaleidsospascecraft body lifted tracvelling theuniverse profound throughout calm exalted",
          "points intense chaos broke clear defined counter clockwise spiralling tunnel two small semi circles centre going opposite way",
          "saw incredible kaleidescopes patterns made solid stripes colour edges kaleidescopes started see corridors gardens though doorways imagined world inside patterns one moment darker saw deep mass blue green sparks pulsed almost jelly fish wanted stay space see worlds",
          "saw kaleidoscope childhood toy abstract space dunes sunshine",
          "saw lot imagery colours especially images water ripples water snowscapes drops water falling also abstract forms pink red colours",
          "sea 0f green stars moving oil water wading fading glimspe something disappearing shifting sharp angled reds bold lines intersectoring gate black swirling spheres orange turning spiral sense happening seems arrive vision virbates sense leaves",
          "direct infinite creativity much beauty vivid colours patterns travelling dimensions imagine would go similar journey transition realms",
          "saw hexagons blue tunnel thought bees generativity pure full electricity",
          "towards slowly floating upwards",
          "colours lines spheres twirls",
          "colour fields varying colours changed rapidly moving patterns sometimes patterns appeared move downwards front eyes sometimes across vision sometimes towards point infinity",
          "saw vasarely artworks motion sense time weird really short bright light bit hurting overall amazing",
          "hurtling space time speed determine experienced big bang everything since really hard put finger shedding different layers connected life forms much energy pulsating body",
          "thousansds fluttering butterfly wings flying space incredible speed phosporescence water welsh blanket mothers blue handmade patchwork quilt tesselations hexagons overwhelming beauty spinning planet childhood memory staring glittering eyelashes rainbow bright sun",
          "interested different darkness different colours projected",
          "strange lights sense relaxation interested see would happen next",
          "clouds holding breath",
          "outside kelidoscope colour rotating universe stars beyond everything one point looking buildings white curved modernist futuristic city",
          "incredible colours patterns tended shift focusing sound colours difficult hold equally present",
          "eyes shut time aware colours changing",
          "though experiencing formation solar system eartha place warmth light arising dust spinning chaos suspended infinite void",
          "bit weird know mybrain trying create something different things based colour",
          "floating air travelling universe flowers blooming",
          "particles star emiting light space",
          "perception various geometric constructs dyson speheres mobius strips rippling water etc",
          "often connected space floating weightless surrounded millions stars travelling great speed time sometimes looked wormholes elated completely peaceful found smiling broadly moments",
          null
         ],
         "marker": {
          "opacity": 0.5,
          "size": 5
         },
         "mode": "markers+text",
         "name": "0_saw_colours_shapes",
         "text": [
          "",
          "",
          "",
          "",
          "",
          "",
          "",
          "",
          "",
          "",
          "",
          "",
          "",
          "",
          "",
          "",
          "",
          "",
          "",
          "",
          "",
          "",
          "",
          "",
          "",
          "",
          "",
          "",
          "",
          "",
          "",
          "",
          "",
          "",
          "",
          "",
          "",
          "",
          "",
          "",
          "",
          "",
          "",
          "",
          "",
          "",
          "",
          "",
          "",
          "",
          "",
          "",
          "",
          "",
          "",
          "",
          "",
          "",
          "",
          "",
          "",
          "",
          "",
          "",
          "",
          "",
          "",
          "",
          "",
          "",
          "",
          "",
          "",
          "",
          "",
          "",
          "",
          "",
          "",
          "",
          "",
          "",
          "",
          "",
          "",
          "",
          "",
          "",
          "",
          "",
          "",
          "",
          "",
          "",
          "",
          "",
          "",
          "",
          "",
          "",
          "",
          "",
          "",
          "",
          "",
          "",
          "",
          "",
          "",
          "",
          "",
          "",
          "",
          "",
          "",
          "",
          "",
          "",
          "",
          "",
          "",
          "",
          "",
          "",
          "",
          "",
          "",
          "",
          "",
          "",
          "",
          "",
          "",
          "",
          "",
          "",
          "",
          "",
          "",
          "",
          "0_saw_colours_shapes"
         ],
         "textfont": {
          "size": 12
         },
         "type": "scattergl",
         "x": [
          6.211580276489258,
          5.053321361541748,
          5.41982364654541,
          7.119604110717773,
          4.862170219421387,
          7.983504772186279,
          5.860438823699951,
          5.593532562255859,
          5.610339641571045,
          6.4391398429870605,
          5.477450847625732,
          6.5616960525512695,
          6.273210525512695,
          7.660006999969482,
          7.8377203941345215,
          7.392441272735596,
          7.201061248779297,
          6.606478691101074,
          6.776311874389648,
          6.149508476257324,
          7.778809547424316,
          5.213541030883789,
          6.231729507446289,
          8.182644844055176,
          7.08506965637207,
          5.454078197479248,
          5.583767890930176,
          6.876429557800293,
          7.969062805175781,
          7.025058269500732,
          6.69308614730835,
          7.638367652893066,
          6.7927656173706055,
          5.502132892608643,
          6.664880752563477,
          5.467152118682861,
          6.32067346572876,
          5.986361503601074,
          6.771172046661377,
          5.7233357429504395,
          4.764035701751709,
          2.156527042388916,
          6.786070346832275,
          7.868663787841797,
          4.282820224761963,
          7.562751770019531,
          6.802159786224365,
          5.2026872634887695,
          6.615871429443359,
          7.6892266273498535,
          7.767426013946533,
          6.523632049560547,
          7.911149501800537,
          5.394316673278809,
          6.146770000457764,
          7.733601093292236,
          7.269481182098389,
          5.6558308601379395,
          5.855827808380127,
          5.165848731994629,
          6.128923416137695,
          7.312195301055908,
          7.129441738128662,
          5.241617202758789,
          6.303084373474121,
          6.308132648468018,
          4.983631610870361,
          6.807608604431152,
          7.1550612449646,
          4.969058513641357,
          8.058260917663574,
          7.196484565734863,
          7.283268928527832,
          7.044733047485352,
          6.980621814727783,
          7.913437843322754,
          6.776306629180908,
          6.323333740234375,
          5.150822162628174,
          7.368405342102051,
          6.703357219696045,
          6.640448570251465,
          6.806270122528076,
          5.543407440185547,
          6.502791881561279,
          7.114397048950195,
          6.83291482925415,
          5.682455539703369,
          6.641896724700928,
          7.15858793258667,
          4.077568531036377,
          5.424075603485107,
          8.007914543151855,
          5.939689636230469,
          6.538344860076904,
          7.354393005371094,
          6.82150936126709,
          7.1829514503479,
          5.100286483764648,
          5.970112323760986,
          7.368045330047607,
          6.487496852874756,
          5.619344711303711,
          6.661625862121582,
          5.050990581512451,
          7.431326866149902,
          6.3660569190979,
          5.6222453117370605,
          8.108376502990723,
          6.268136501312256,
          6.3112640380859375,
          6.722934722900391,
          5.221765041351318,
          7.0946044921875,
          7.4852399826049805,
          6.4015350341796875,
          6.937900543212891,
          7.24616813659668,
          6.36539363861084,
          6.858763217926025,
          5.621878147125244,
          7.030709266662598,
          8.16775894165039,
          6.167668342590332,
          6.164344310760498,
          5.1777849197387695,
          7.803969860076904,
          7.143404960632324,
          5.457883834838867,
          5.274037837982178,
          7.9647955894470215,
          7.510887622833252,
          5.792449474334717,
          5.797397136688232,
          7.599854469299316,
          5.234501838684082,
          7.927022457122803,
          7.605068683624268,
          6.905825614929199,
          7.760715484619141,
          6.502993106842041
         ],
         "y": [
          16.5876522064209,
          16.156179428100586,
          17.49443244934082,
          16.25501823425293,
          16.73578453063965,
          15.707341194152832,
          15.991314888000488,
          16.525625228881836,
          17.21905517578125,
          17.490219116210938,
          16.00216293334961,
          15.440622329711914,
          17.3199405670166,
          17.22213363647461,
          17.036699295043945,
          15.838183403015137,
          17.301679611206055,
          15.363923072814941,
          15.573993682861328,
          16.914670944213867,
          16.739187240600586,
          17.659849166870117,
          17.645933151245117,
          16.175182342529297,
          16.872472763061523,
          16.96306610107422,
          17.331186294555664,
          16.378719329833984,
          15.681318283081055,
          16.20427131652832,
          17.489879608154297,
          16.1027889251709,
          17.592437744140625,
          17.13856315612793,
          16.837631225585938,
          16.960187911987305,
          16.9575252532959,
          17.453861236572266,
          16.83635711669922,
          17.595407485961914,
          16.288700103759766,
          14.206771850585938,
          17.625167846679688,
          15.81302261352539,
          17.61362075805664,
          16.059911727905273,
          16.87018585205078,
          16.67914581298828,
          15.579752922058105,
          16.85040283203125,
          16.760770797729492,
          16.373489379882812,
          15.650162696838379,
          17.03181266784668,
          17.24126434326172,
          17.000816345214844,
          17.002227783203125,
          17.250186920166016,
          17.073293685913086,
          16.826738357543945,
          15.234979629516602,
          17.202964782714844,
          17.324026107788086,
          16.765892028808594,
          15.368815422058105,
          17.37842559814453,
          15.963409423828125,
          15.748530387878418,
          15.859803199768066,
          15.949823379516602,
          16.6490535736084,
          16.024080276489258,
          17.501840591430664,
          17.216432571411133,
          16.625314712524414,
          16.431299209594727,
          15.529057502746582,
          17.41767692565918,
          15.982824325561523,
          15.843530654907227,
          17.522167205810547,
          16.667943954467773,
          15.932416915893555,
          17.72437286376953,
          16.864952087402344,
          16.0323429107666,
          16.86708641052246,
          17.10441780090332,
          15.478815078735352,
          16.34485626220703,
          17.512081146240234,
          16.78823471069336,
          15.883960723876953,
          17.663990020751953,
          15.441537857055664,
          17.222379684448242,
          15.486635208129883,
          17.361801147460938,
          15.980839729309082,
          17.726306915283203,
          17.18077278137207,
          16.37395477294922,
          16.81601905822754,
          16.440961837768555,
          17.272968292236328,
          16.544525146484375,
          16.915128707885742,
          17.485424041748047,
          15.902520179748535,
          17.51545524597168,
          17.053434371948242,
          15.782474517822266,
          15.87806510925293,
          16.79166603088379,
          16.468017578125,
          16.990764617919922,
          16.14398765563965,
          16.685871124267578,
          17.268369674682617,
          16.65455436706543,
          16.104450225830078,
          16.268352508544922,
          16.148893356323242,
          17.65897560119629,
          17.586021423339844,
          16.854286193847656,
          15.699541091918945,
          16.517330169677734,
          17.654760360717773,
          16.86250114440918,
          16.595754623413086,
          16.43335723876953,
          17.718677520751953,
          17.47897720336914,
          16.249723434448242,
          17.71485710144043,
          16.660144805908203,
          16.37322235107422,
          16.290790557861328,
          15.846479415893555,
          16.65069007873535
         ]
        },
        {
         "hoverinfo": "text",
         "hovertext": [
          "coming home",
          "ajourney relaxedand abit worried iknewi would safe",
          "",
          "insane",
          "zeen",
          "x",
          "peace",
          "everything",
          "nothing",
          "confusion difficult make note seeing i've never experienced also happy smiledat certain points quite weird",
          "joy relaxation",
          "joy",
          "relaxation calm curiosity",
          "want fo",
          "nice snooze thank",
          "peace contentment",
          "much",
          "being: immersed calm thrilled",
          "feeling peace tranquillity",
          "nothingness complete",
          "good stuff",
          "relaxing",
          "calm",
          "calm",
          "interesting one",
          "sparked much curiosity really understand",
          "interesting relaxed",
          "interesting",
          "experienced calmness almost nothingness relaxed peacefull soothing almost womb",
          "scope mentally acceptance peace",
          "similar stuff normally",
          "part something bigger",
          "great sense calm belonging",
          "wonderfull peacefull",
          "intrigued excited",
          "bliss",
          "peaceful",
          "peacefulness guidance",
          "warm",
          "calm peaceful state blissful even vastness poetic beautiful",
          "relaxed comfortable",
          "utter peace happiness",
          "calm",
          "want one home",
          "",
          "perfectly cromulent",
          "amazing sense peace positivity",
          "peaceful euphoric sense wonder awe",
          null
         ],
         "marker": {
          "opacity": 0.5,
          "size": 5
         },
         "mode": "markers+text",
         "name": "1_calm_peace_peaceful",
         "text": [
          "",
          "",
          "",
          "",
          "",
          "",
          "",
          "",
          "",
          "",
          "",
          "",
          "",
          "",
          "",
          "",
          "",
          "",
          "",
          "",
          "",
          "",
          "",
          "",
          "",
          "",
          "",
          "",
          "",
          "",
          "",
          "",
          "",
          "",
          "",
          "",
          "",
          "",
          "",
          "",
          "",
          "",
          "",
          "",
          "",
          "",
          "",
          "",
          "1_calm_peace_peaceful"
         ],
         "textfont": {
          "size": 12
         },
         "type": "scattergl",
         "x": [
          2.750213146209717,
          2.6875364780426025,
          2.1165101528167725,
          1.899308443069458,
          2.074713706970215,
          2.1968367099761963,
          1.3961386680603027,
          2.359286308288574,
          2.274244785308838,
          2.8524670600891113,
          2.3602187633514404,
          2.156533718109131,
          2.9649171829223633,
          2.5857350826263428,
          2.5665974617004395,
          1.3680455684661865,
          2.1920340061187744,
          2.3246445655822754,
          1.4002814292907715,
          2.7080814838409424,
          2.2483294010162354,
          2.7242684364318848,
          1.3838436603546143,
          1.3720062971115112,
          2.011505126953125,
          2.060541868209839,
          2.532088279724121,
          2.029465913772583,
          2.804633378982544,
          1.3788328170776367,
          2.2710680961608887,
          2.3578221797943115,
          1.55039381980896,
          1.5202183723449707,
          2.1133036613464355,
          2.131521463394165,
          1.3663055896759033,
          1.3973066806793213,
          2.652838945388794,
          1.7500845193862915,
          2.7541019916534424,
          1.4586259126663208,
          1.3715167045593262,
          2.725351095199585,
          2.134237766265869,
          1.8031671047210693,
          1.4508253335952759,
          1.680377721786499,
          2.0889360904693604
         ],
         "y": [
          13.497379302978516,
          14.487116813659668,
          13.373104095458984,
          13.918487548828125,
          13.325092315673828,
          13.408368110656738,
          14.729355812072754,
          13.542244911193848,
          13.521392822265625,
          15.561281204223633,
          14.8897705078125,
          14.809856414794922,
          14.634366989135742,
          13.394038200378418,
          13.98879623413086,
          14.795300483703613,
          13.411370277404785,
          14.781096458435059,
          14.757966995239258,
          13.912907600402832,
          13.84860897064209,
          14.426323890686035,
          14.335554122924805,
          14.323857307434082,
          13.931751251220703,
          14.290166854858398,
          14.384835243225098,
          13.967399597167969,
          15.043041229248047,
          14.746742248535156,
          13.924049377441406,
          13.551466941833496,
          14.529455184936523,
          14.72575855255127,
          14.228325843811035,
          14.765523910522461,
          14.521949768066406,
          14.740452766418457,
          14.415133476257324,
          14.956811904907227,
          14.510558128356934,
          14.793679237365723,
          14.30788516998291,
          13.462264060974121,
          13.390652656555176,
          14.6810941696167,
          14.793618202209473,
          15.152503967285156,
          14.28101634979248
         ]
        },
        {
         "hoverinfo": "text",
         "hovertext": [
          "thought fluffy speech writtenhealth safetyaspect broke sense adventure departure really ecessary meditive part nice perhaps take intro time brief overview histiry pursuits aybea bit science lose faux hand holding lovely overall",
          "loneliness inner chikd screaming love screeching intensely anxious bit suffocated also knowing i've got embraced inner child allowed sulk scream cry coming mix intense feelings knowing could handle music took whole journey completrly surrounded music space space thick hot air saturated soundwaves inhaling drowning sound learning swim enjoy heal",
          "awesome expected sometimes verging oppressive never scary well lead",
          "good surprise sensation play mind emotions thanks",
          "unease",
          "sure puroose except muxic certainly inuced sleep dream state bpm high otherwise interesting co fusing much visions either think lights sy c go music well",
          "hearing gongs saw sammi ling's buddhist retreat ans imagined totally relaxing peace music pace volume increased saw horses galloping increasing speed zt point horse pace gathefed train speed ing tgrough countryside time space muic reach climax found returning world countryside gradually getting back normal everyday life sense tge grating sounds towards exceot colour turquoise gradualky turned black nothingness",
          "aware music tgroughout changing rythms tones",
          "really enjoyed music zen",
          "music gentle powerful",
          "heard various music patterns different speeds high low notes music seemed build crescendo near session move slower calming sequence enhanced patterns made feel journey",
          "emptiness mind consumed power music filled mind",
          "saw stars hexagons tesselating twisting zooming left right reds blues greens galactic bacground wanted engage annoyed started ands topped brain developing themes louder music better would liked slight difusion light something keep eyes shut intensity demanding open eyes concious mind thinking stopping thinking funny couldnt help thinking would happen drum beat maybe allow non euro music much love john hopkins",
          "visual expirence would change lot music became relaxed music progressed journey",
          "starting fee lfar significant/interesting emotions stopped",
          "really pleasant relaxing sensation erotic make think sex sense struck enjoyable could sexual (alone others) conjunction sensation also wanted intenlse - much louder music intense part lighting pattern repeated longer",
          "relaxing patterened music",
          "thouhht really intense went phases rush taking journey colour beautiful calmingor rigid uncomfortable ididnt know look sudden disembodied huge wave eurphoria took totally free itsthe comfort ive ever magical",
          "pareidolia unnerving sometimes amazing though",
          "relaxed sleep music colour chqnged",
          "physically music especially percussion bass still feeling",
          "put quite strange amazing mood want catch still sensitizing feeling one afterglow wonderful seeing deep textures powdery lights arise vision best bit taking feelingss music gliding morphing visions according feel music memory childhood spending lots time staring windows media player audio visualiser listening songs liked seemed amazing time made think synesthetic experiences they're precious worth seeking appreciating - music visual thing",
          "windows busy life flashes past seeing lovely mum partner dad sister niece nephew friends punctuated audio heightened loud point i'd left body - fully immersed sound light",
          "relaxed peaceful beats music",
          "journey unknown beautiful quest oblivion",
          "musicis calming surreal sensory overwhelming powerful scared ar calmed feels sympolism acceptance self fear life isvan unique wont forget",
          "awesome much expected diolch yn fawr tess calming",
          "feeling freedom time space watched room rise fall music weight people room connected",
          "thought fluffy speech writtenhealth safetyaspect broke sense adventure departure really ecessary meditive part nice perhaps take intro time brief overview histiry pursuits aybea bit science lose faux hand holding lovely overall",
          "sharp music connected sound helicopters smell burning associated war majority experienced heart shapes cosmic lights galaxies",
          "resistance gone bliss saw colourful mandalas keeping pace beats perfect synchronicity amazed never experienced something equal beyond words",
          "stimulation relaxation within music light",
          "music",
          "initially interested others reacting around began relax changing colours made feel safe happy music conjured images buddists spiritual people",
          "seeing hearing deceased relatives smiled could hear distinctive voices",
          "good beats leading helpful positive ambient sounds",
          "many psychecik lic experiences many years tame interezted potential taki g co mbining substzncex",
          null
         ],
         "marker": {
          "opacity": 0.5,
          "size": 5
         },
         "mode": "markers+text",
         "name": "2_music_journey_time",
         "text": [
          "",
          "",
          "",
          "",
          "",
          "",
          "",
          "",
          "",
          "",
          "",
          "",
          "",
          "",
          "",
          "",
          "",
          "",
          "",
          "",
          "",
          "",
          "",
          "",
          "",
          "",
          "",
          "",
          "",
          "",
          "",
          "",
          "",
          "",
          "",
          "",
          "",
          "2_music_journey_time"
         ],
         "textfont": {
          "size": 12
         },
         "type": "scattergl",
         "x": [
          3.499955415725708,
          3.2038333415985107,
          2.8754239082336426,
          3.3416457176208496,
          3.161059617996216,
          3.3008642196655273,
          3.6834843158721924,
          3.206782341003418,
          2.8344595432281494,
          2.909409284591675,
          3.404526710510254,
          3.1129140853881836,
          3.5962493419647217,
          3.241464376449585,
          3.4798641204833984,
          3.4796552658081055,
          2.989523410797119,
          3.27730131149292,
          2.97841477394104,
          3.079840898513794,
          2.984945297241211,
          3.4027774333953857,
          3.988461494445801,
          2.9483203887939453,
          2.9977900981903076,
          3.179492712020874,
          3.048410177230835,
          3.376129150390625,
          3.426727056503296,
          6.370843887329102,
          3.7956888675689697,
          3.230006456375122,
          2.83870005607605,
          4.404446125030518,
          4.260211944580078,
          2.9817426204681396,
          3.1655635833740234,
          3.3799171447753906
         ],
         "y": [
          16.233299255371094,
          16.583240509033203,
          15.802786827087402,
          15.921035766601562,
          15.76562786102295,
          16.78697967529297,
          16.80852508544922,
          17.239208221435547,
          17.207975387573242,
          17.333486557006836,
          16.88146209716797,
          17.07231903076172,
          16.597177505493164,
          16.975046157836914,
          16.000524520874023,
          16.76268196105957,
          17.370384216308594,
          16.103412628173828,
          15.946877479553223,
          17.339778900146484,
          17.369274139404297,
          16.68939971923828,
          17.23511505126953,
          17.400787353515625,
          16.297473907470703,
          16.116212844848633,
          15.961113929748535,
          16.778322219848633,
          16.254575729370117,
          16.5924072265625,
          16.844362258911133,
          17.298561096191406,
          17.25344467163086,
          17.228965759277344,
          17.073074340820312,
          17.386995315551758,
          16.45338249206543,
          16.728790283203125
         ]
        },
        {
         "hoverinfo": "text",
         "hovertext": [
          "parents house figure room old house (shared ex) walking daily comute towards old front door walking dog normal experiences usually time everything scary people things surroundings closing sides made jump grab chest",
          "dreaming dreamingly",
          "86 billion neurons wonder psychedelic experiences complexity brain produce limitless spectrum depression enlightenment thought anyway dream",
          "saw grey pulsing heart float across mind",
          "put dreamlike semiconcious state sensation quite asleep coming wakefulness dreaming real things conversations",
          "different thoughts perception light manner human descernment develops towards something",
          "struggling mind would go back stringof thoughts andtoget take avery deep breath went past blank set thoughts occured thrice andiinhaled really deep get past",
          "brief - thinking death could look decided assume go near ddath check thoughts could build smth thzn visual thing cannot say totally useless expecting",
          "dreaming dream little",
          "really thoughts day things need forgotten",
          "similar mri also unsuccesfully trying fall asleep insomnia period",
          "something familiar soul experienced several emotions numb",
          "mind began wander reflect dreams goals relaxed way whereas usually anxious",
          "detachment though body one box mind another anxjety came thst lack control",
          "random thoughts connected people close others events journeys",
          "peace tranquility joy stimulation arousal swirling patterns geometricshapes shifting changing got lost body disappeared cam eback short dreams",
          "tried hard immerse dreamstate failed see anything except flickering lights think ought see changes",
          "sleepy bit anxious times due speed flashing lights profound thoughts rather almost fell asleep dreamlike way",
          "brain massaged sometimes overwhelming think became overwhelming brain would cut normal thoughts eg need buy tge shop dinner sometimes would see clips eg film interdespersed everyniw",
          "people talking made see people walking towards really creepy",
          "thought feeling people around made feel vulnrable",
          "thought god",
          "constant thoughts coming towards batted away sky",
          "dreaming awake- flashes random places maybe dead",
          "also experienced ghost people purifferal verison sometimes fleeting walkjng around room whispy milky apperence also dyslexic itwasinteresting experence nuero divergent brained person",
          "thoughts safe fun gives odd feeling wanting keep feeling types thing",
          "thoughts connecting others",
          "helicopter busy mind rest relentless stuck",
          "experienced lot physical sensations stomach face inside head still feel brain massaged",
          "someone sleep paralysis regularly quite interesting brain automatically reached details prove \"real\" much present meditate either even though tried visuals pretty fun though",
          "intense chaos mind checked subconscious took started talking imagine looking back life die",
          "kept thinking game football played tuesdayand hyper aware eyes something something might pull awzy",
          "found lost thought near stopped aware visual thought stuff similar stuff normally think wonder work tall chair",
          "wanting thoughts overtake",
          null
         ],
         "marker": {
          "opacity": 0.5,
          "size": 5
         },
         "mode": "markers+text",
         "name": "3_thoughts_people_mind",
         "text": [
          "",
          "",
          "",
          "",
          "",
          "",
          "",
          "",
          "",
          "",
          "",
          "",
          "",
          "",
          "",
          "",
          "",
          "",
          "",
          "",
          "",
          "",
          "",
          "",
          "",
          "",
          "",
          "",
          "",
          "",
          "",
          "",
          "",
          "",
          "3_thoughts_people_mind"
         ],
         "textfont": {
          "size": 12
         },
         "type": "scattergl",
         "x": [
          3.874790906906128,
          4.684539794921875,
          4.452235221862793,
          3.750427722930908,
          4.698818206787109,
          4.355221271514893,
          4.1302080154418945,
          4.0961737632751465,
          4.646381855010986,
          4.216878890991211,
          4.563406467437744,
          3.6381983757019043,
          4.556425094604492,
          3.78204345703125,
          4.263751983642578,
          4.654811382293701,
          4.804588794708252,
          4.640205383300781,
          4.069693088531494,
          4.00758171081543,
          3.999814033508301,
          4.228485584259033,
          4.693474769592285,
          4.73788595199585,
          4.107914924621582,
          3.987840175628662,
          4.246555328369141,
          4.788684844970703,
          4.341450214385986,
          4.456271171569824,
          4.382441520690918,
          4.727859973907471,
          4.416048049926758,
          4.254035472869873,
          4.331033229827881
         ],
         "y": [
          15.339561462402344,
          14.539350509643555,
          14.946667671203613,
          15.6265230178833,
          14.617679595947266,
          15.484977722167969,
          15.239191055297852,
          14.74532699584961,
          14.487421035766602,
          15.202178955078125,
          14.740795135498047,
          15.711446762084961,
          14.835755348205566,
          15.246227264404297,
          15.286787986755371,
          14.726170539855957,
          14.68630599975586,
          14.776800155639648,
          15.339324951171875,
          15.448509216308594,
          15.490961074829102,
          15.176122665405273,
          15.222769737243652,
          14.705623626708984,
          15.529197692871094,
          15.535983085632324,
          15.275372505187988,
          15.075818061828613,
          16.059396743774414,
          14.907072067260742,
          14.857600212097168,
          15.280699729919434,
          15.547651290893555,
          15.293745040893555,
          15.14661693572998
         ]
        }
       ],
       "layout": {
        "annotations": [
         {
          "showarrow": false,
          "text": "D1",
          "x": 1.1613597512245177,
          "y": 15.855790710449218,
          "yshift": 10
         },
         {
          "showarrow": false,
          "text": "D2",
          "x": 5.285700660943985,
          "xshift": 10,
          "y": 20.385252952575684
         }
        ],
        "height": 750,
        "shapes": [
         {
          "line": {
           "color": "#CFD8DC",
           "width": 2
          },
          "type": "line",
          "x0": 5.285700660943985,
          "x1": 5.285700660943985,
          "y0": 11.326328468322753,
          "y1": 20.385252952575684
         },
         {
          "line": {
           "color": "#9E9E9E",
           "width": 2
          },
          "type": "line",
          "x0": 1.1613597512245177,
          "x1": 9.410041570663452,
          "y0": 15.855790710449218,
          "y1": 15.855790710449218
         }
        ],
        "template": {
         "data": {
          "bar": [
           {
            "error_x": {
             "color": "rgb(36,36,36)"
            },
            "error_y": {
             "color": "rgb(36,36,36)"
            },
            "marker": {
             "line": {
              "color": "white",
              "width": 0.5
             },
             "pattern": {
              "fillmode": "overlay",
              "size": 10,
              "solidity": 0.2
             }
            },
            "type": "bar"
           }
          ],
          "barpolar": [
           {
            "marker": {
             "line": {
              "color": "white",
              "width": 0.5
             },
             "pattern": {
              "fillmode": "overlay",
              "size": 10,
              "solidity": 0.2
             }
            },
            "type": "barpolar"
           }
          ],
          "carpet": [
           {
            "aaxis": {
             "endlinecolor": "rgb(36,36,36)",
             "gridcolor": "white",
             "linecolor": "white",
             "minorgridcolor": "white",
             "startlinecolor": "rgb(36,36,36)"
            },
            "baxis": {
             "endlinecolor": "rgb(36,36,36)",
             "gridcolor": "white",
             "linecolor": "white",
             "minorgridcolor": "white",
             "startlinecolor": "rgb(36,36,36)"
            },
            "type": "carpet"
           }
          ],
          "choropleth": [
           {
            "colorbar": {
             "outlinewidth": 1,
             "tickcolor": "rgb(36,36,36)",
             "ticks": "outside"
            },
            "type": "choropleth"
           }
          ],
          "contour": [
           {
            "colorbar": {
             "outlinewidth": 1,
             "tickcolor": "rgb(36,36,36)",
             "ticks": "outside"
            },
            "colorscale": [
             [
              0,
              "#440154"
             ],
             [
              0.1111111111111111,
              "#482878"
             ],
             [
              0.2222222222222222,
              "#3e4989"
             ],
             [
              0.3333333333333333,
              "#31688e"
             ],
             [
              0.4444444444444444,
              "#26828e"
             ],
             [
              0.5555555555555556,
              "#1f9e89"
             ],
             [
              0.6666666666666666,
              "#35b779"
             ],
             [
              0.7777777777777778,
              "#6ece58"
             ],
             [
              0.8888888888888888,
              "#b5de2b"
             ],
             [
              1,
              "#fde725"
             ]
            ],
            "type": "contour"
           }
          ],
          "contourcarpet": [
           {
            "colorbar": {
             "outlinewidth": 1,
             "tickcolor": "rgb(36,36,36)",
             "ticks": "outside"
            },
            "type": "contourcarpet"
           }
          ],
          "heatmap": [
           {
            "colorbar": {
             "outlinewidth": 1,
             "tickcolor": "rgb(36,36,36)",
             "ticks": "outside"
            },
            "colorscale": [
             [
              0,
              "#440154"
             ],
             [
              0.1111111111111111,
              "#482878"
             ],
             [
              0.2222222222222222,
              "#3e4989"
             ],
             [
              0.3333333333333333,
              "#31688e"
             ],
             [
              0.4444444444444444,
              "#26828e"
             ],
             [
              0.5555555555555556,
              "#1f9e89"
             ],
             [
              0.6666666666666666,
              "#35b779"
             ],
             [
              0.7777777777777778,
              "#6ece58"
             ],
             [
              0.8888888888888888,
              "#b5de2b"
             ],
             [
              1,
              "#fde725"
             ]
            ],
            "type": "heatmap"
           }
          ],
          "heatmapgl": [
           {
            "colorbar": {
             "outlinewidth": 1,
             "tickcolor": "rgb(36,36,36)",
             "ticks": "outside"
            },
            "colorscale": [
             [
              0,
              "#440154"
             ],
             [
              0.1111111111111111,
              "#482878"
             ],
             [
              0.2222222222222222,
              "#3e4989"
             ],
             [
              0.3333333333333333,
              "#31688e"
             ],
             [
              0.4444444444444444,
              "#26828e"
             ],
             [
              0.5555555555555556,
              "#1f9e89"
             ],
             [
              0.6666666666666666,
              "#35b779"
             ],
             [
              0.7777777777777778,
              "#6ece58"
             ],
             [
              0.8888888888888888,
              "#b5de2b"
             ],
             [
              1,
              "#fde725"
             ]
            ],
            "type": "heatmapgl"
           }
          ],
          "histogram": [
           {
            "marker": {
             "line": {
              "color": "white",
              "width": 0.6
             }
            },
            "type": "histogram"
           }
          ],
          "histogram2d": [
           {
            "colorbar": {
             "outlinewidth": 1,
             "tickcolor": "rgb(36,36,36)",
             "ticks": "outside"
            },
            "colorscale": [
             [
              0,
              "#440154"
             ],
             [
              0.1111111111111111,
              "#482878"
             ],
             [
              0.2222222222222222,
              "#3e4989"
             ],
             [
              0.3333333333333333,
              "#31688e"
             ],
             [
              0.4444444444444444,
              "#26828e"
             ],
             [
              0.5555555555555556,
              "#1f9e89"
             ],
             [
              0.6666666666666666,
              "#35b779"
             ],
             [
              0.7777777777777778,
              "#6ece58"
             ],
             [
              0.8888888888888888,
              "#b5de2b"
             ],
             [
              1,
              "#fde725"
             ]
            ],
            "type": "histogram2d"
           }
          ],
          "histogram2dcontour": [
           {
            "colorbar": {
             "outlinewidth": 1,
             "tickcolor": "rgb(36,36,36)",
             "ticks": "outside"
            },
            "colorscale": [
             [
              0,
              "#440154"
             ],
             [
              0.1111111111111111,
              "#482878"
             ],
             [
              0.2222222222222222,
              "#3e4989"
             ],
             [
              0.3333333333333333,
              "#31688e"
             ],
             [
              0.4444444444444444,
              "#26828e"
             ],
             [
              0.5555555555555556,
              "#1f9e89"
             ],
             [
              0.6666666666666666,
              "#35b779"
             ],
             [
              0.7777777777777778,
              "#6ece58"
             ],
             [
              0.8888888888888888,
              "#b5de2b"
             ],
             [
              1,
              "#fde725"
             ]
            ],
            "type": "histogram2dcontour"
           }
          ],
          "mesh3d": [
           {
            "colorbar": {
             "outlinewidth": 1,
             "tickcolor": "rgb(36,36,36)",
             "ticks": "outside"
            },
            "type": "mesh3d"
           }
          ],
          "parcoords": [
           {
            "line": {
             "colorbar": {
              "outlinewidth": 1,
              "tickcolor": "rgb(36,36,36)",
              "ticks": "outside"
             }
            },
            "type": "parcoords"
           }
          ],
          "pie": [
           {
            "automargin": true,
            "type": "pie"
           }
          ],
          "scatter": [
           {
            "fillpattern": {
             "fillmode": "overlay",
             "size": 10,
             "solidity": 0.2
            },
            "type": "scatter"
           }
          ],
          "scatter3d": [
           {
            "line": {
             "colorbar": {
              "outlinewidth": 1,
              "tickcolor": "rgb(36,36,36)",
              "ticks": "outside"
             }
            },
            "marker": {
             "colorbar": {
              "outlinewidth": 1,
              "tickcolor": "rgb(36,36,36)",
              "ticks": "outside"
             }
            },
            "type": "scatter3d"
           }
          ],
          "scattercarpet": [
           {
            "marker": {
             "colorbar": {
              "outlinewidth": 1,
              "tickcolor": "rgb(36,36,36)",
              "ticks": "outside"
             }
            },
            "type": "scattercarpet"
           }
          ],
          "scattergeo": [
           {
            "marker": {
             "colorbar": {
              "outlinewidth": 1,
              "tickcolor": "rgb(36,36,36)",
              "ticks": "outside"
             }
            },
            "type": "scattergeo"
           }
          ],
          "scattergl": [
           {
            "marker": {
             "colorbar": {
              "outlinewidth": 1,
              "tickcolor": "rgb(36,36,36)",
              "ticks": "outside"
             }
            },
            "type": "scattergl"
           }
          ],
          "scattermapbox": [
           {
            "marker": {
             "colorbar": {
              "outlinewidth": 1,
              "tickcolor": "rgb(36,36,36)",
              "ticks": "outside"
             }
            },
            "type": "scattermapbox"
           }
          ],
          "scatterpolar": [
           {
            "marker": {
             "colorbar": {
              "outlinewidth": 1,
              "tickcolor": "rgb(36,36,36)",
              "ticks": "outside"
             }
            },
            "type": "scatterpolar"
           }
          ],
          "scatterpolargl": [
           {
            "marker": {
             "colorbar": {
              "outlinewidth": 1,
              "tickcolor": "rgb(36,36,36)",
              "ticks": "outside"
             }
            },
            "type": "scatterpolargl"
           }
          ],
          "scatterternary": [
           {
            "marker": {
             "colorbar": {
              "outlinewidth": 1,
              "tickcolor": "rgb(36,36,36)",
              "ticks": "outside"
             }
            },
            "type": "scatterternary"
           }
          ],
          "surface": [
           {
            "colorbar": {
             "outlinewidth": 1,
             "tickcolor": "rgb(36,36,36)",
             "ticks": "outside"
            },
            "colorscale": [
             [
              0,
              "#440154"
             ],
             [
              0.1111111111111111,
              "#482878"
             ],
             [
              0.2222222222222222,
              "#3e4989"
             ],
             [
              0.3333333333333333,
              "#31688e"
             ],
             [
              0.4444444444444444,
              "#26828e"
             ],
             [
              0.5555555555555556,
              "#1f9e89"
             ],
             [
              0.6666666666666666,
              "#35b779"
             ],
             [
              0.7777777777777778,
              "#6ece58"
             ],
             [
              0.8888888888888888,
              "#b5de2b"
             ],
             [
              1,
              "#fde725"
             ]
            ],
            "type": "surface"
           }
          ],
          "table": [
           {
            "cells": {
             "fill": {
              "color": "rgb(237,237,237)"
             },
             "line": {
              "color": "white"
             }
            },
            "header": {
             "fill": {
              "color": "rgb(217,217,217)"
             },
             "line": {
              "color": "white"
             }
            },
            "type": "table"
           }
          ]
         },
         "layout": {
          "annotationdefaults": {
           "arrowhead": 0,
           "arrowwidth": 1
          },
          "autotypenumbers": "strict",
          "coloraxis": {
           "colorbar": {
            "outlinewidth": 1,
            "tickcolor": "rgb(36,36,36)",
            "ticks": "outside"
           }
          },
          "colorscale": {
           "diverging": [
            [
             0,
             "rgb(103,0,31)"
            ],
            [
             0.1,
             "rgb(178,24,43)"
            ],
            [
             0.2,
             "rgb(214,96,77)"
            ],
            [
             0.3,
             "rgb(244,165,130)"
            ],
            [
             0.4,
             "rgb(253,219,199)"
            ],
            [
             0.5,
             "rgb(247,247,247)"
            ],
            [
             0.6,
             "rgb(209,229,240)"
            ],
            [
             0.7,
             "rgb(146,197,222)"
            ],
            [
             0.8,
             "rgb(67,147,195)"
            ],
            [
             0.9,
             "rgb(33,102,172)"
            ],
            [
             1,
             "rgb(5,48,97)"
            ]
           ],
           "sequential": [
            [
             0,
             "#440154"
            ],
            [
             0.1111111111111111,
             "#482878"
            ],
            [
             0.2222222222222222,
             "#3e4989"
            ],
            [
             0.3333333333333333,
             "#31688e"
            ],
            [
             0.4444444444444444,
             "#26828e"
            ],
            [
             0.5555555555555556,
             "#1f9e89"
            ],
            [
             0.6666666666666666,
             "#35b779"
            ],
            [
             0.7777777777777778,
             "#6ece58"
            ],
            [
             0.8888888888888888,
             "#b5de2b"
            ],
            [
             1,
             "#fde725"
            ]
           ],
           "sequentialminus": [
            [
             0,
             "#440154"
            ],
            [
             0.1111111111111111,
             "#482878"
            ],
            [
             0.2222222222222222,
             "#3e4989"
            ],
            [
             0.3333333333333333,
             "#31688e"
            ],
            [
             0.4444444444444444,
             "#26828e"
            ],
            [
             0.5555555555555556,
             "#1f9e89"
            ],
            [
             0.6666666666666666,
             "#35b779"
            ],
            [
             0.7777777777777778,
             "#6ece58"
            ],
            [
             0.8888888888888888,
             "#b5de2b"
            ],
            [
             1,
             "#fde725"
            ]
           ]
          },
          "colorway": [
           "#1F77B4",
           "#FF7F0E",
           "#2CA02C",
           "#D62728",
           "#9467BD",
           "#8C564B",
           "#E377C2",
           "#7F7F7F",
           "#BCBD22",
           "#17BECF"
          ],
          "font": {
           "color": "rgb(36,36,36)"
          },
          "geo": {
           "bgcolor": "white",
           "lakecolor": "white",
           "landcolor": "white",
           "showlakes": true,
           "showland": true,
           "subunitcolor": "white"
          },
          "hoverlabel": {
           "align": "left"
          },
          "hovermode": "closest",
          "mapbox": {
           "style": "light"
          },
          "paper_bgcolor": "white",
          "plot_bgcolor": "white",
          "polar": {
           "angularaxis": {
            "gridcolor": "rgb(232,232,232)",
            "linecolor": "rgb(36,36,36)",
            "showgrid": false,
            "showline": true,
            "ticks": "outside"
           },
           "bgcolor": "white",
           "radialaxis": {
            "gridcolor": "rgb(232,232,232)",
            "linecolor": "rgb(36,36,36)",
            "showgrid": false,
            "showline": true,
            "ticks": "outside"
           }
          },
          "scene": {
           "xaxis": {
            "backgroundcolor": "white",
            "gridcolor": "rgb(232,232,232)",
            "gridwidth": 2,
            "linecolor": "rgb(36,36,36)",
            "showbackground": true,
            "showgrid": false,
            "showline": true,
            "ticks": "outside",
            "zeroline": false,
            "zerolinecolor": "rgb(36,36,36)"
           },
           "yaxis": {
            "backgroundcolor": "white",
            "gridcolor": "rgb(232,232,232)",
            "gridwidth": 2,
            "linecolor": "rgb(36,36,36)",
            "showbackground": true,
            "showgrid": false,
            "showline": true,
            "ticks": "outside",
            "zeroline": false,
            "zerolinecolor": "rgb(36,36,36)"
           },
           "zaxis": {
            "backgroundcolor": "white",
            "gridcolor": "rgb(232,232,232)",
            "gridwidth": 2,
            "linecolor": "rgb(36,36,36)",
            "showbackground": true,
            "showgrid": false,
            "showline": true,
            "ticks": "outside",
            "zeroline": false,
            "zerolinecolor": "rgb(36,36,36)"
           }
          },
          "shapedefaults": {
           "fillcolor": "black",
           "line": {
            "width": 0
           },
           "opacity": 0.3
          },
          "ternary": {
           "aaxis": {
            "gridcolor": "rgb(232,232,232)",
            "linecolor": "rgb(36,36,36)",
            "showgrid": false,
            "showline": true,
            "ticks": "outside"
           },
           "baxis": {
            "gridcolor": "rgb(232,232,232)",
            "linecolor": "rgb(36,36,36)",
            "showgrid": false,
            "showline": true,
            "ticks": "outside"
           },
           "bgcolor": "white",
           "caxis": {
            "gridcolor": "rgb(232,232,232)",
            "linecolor": "rgb(36,36,36)",
            "showgrid": false,
            "showline": true,
            "ticks": "outside"
           }
          },
          "title": {
           "x": 0.05
          },
          "xaxis": {
           "automargin": true,
           "gridcolor": "rgb(232,232,232)",
           "linecolor": "rgb(36,36,36)",
           "showgrid": false,
           "showline": true,
           "ticks": "outside",
           "title": {
            "standoff": 15
           },
           "zeroline": false,
           "zerolinecolor": "rgb(36,36,36)"
          },
          "yaxis": {
           "automargin": true,
           "gridcolor": "rgb(232,232,232)",
           "linecolor": "rgb(36,36,36)",
           "showgrid": false,
           "showline": true,
           "ticks": "outside",
           "title": {
            "standoff": 15
           },
           "zeroline": false,
           "zerolinecolor": "rgb(36,36,36)"
          }
         }
        },
        "title": {
         "font": {
          "color": "Black",
          "size": 22
         },
         "text": "<b>Documents and Topics</b>",
         "x": 0.5,
         "xanchor": "center",
         "yanchor": "top"
        },
        "width": 1200,
        "xaxis": {
         "visible": false
        },
        "yaxis": {
         "visible": false
        }
       }
      }
     },
     "metadata": {},
     "output_type": "display_data"
    }
   ],
   "source": [
    "model.visualize_documents(reports['text_processed'])"
   ]
  },
  {
   "cell_type": "code",
   "execution_count": 10,
   "metadata": {},
   "outputs": [
    {
     "data": {
      "application/vnd.plotly.v1+json": {
       "config": {
        "plotlyServerURL": "https://plot.ly"
       },
       "data": [
        {
         "coloraxis": "coloraxis",
         "hovertemplate": "x: %{x}<br>y: %{y}<br>Similarity Score: %{z}<extra></extra>",
         "name": "0",
         "type": "heatmap",
         "x": [
          "0_saw_colours_shapes",
          "1_calm_peace_peaceful",
          "2_music_journey_time",
          "3_thoughts_people_mind"
         ],
         "xaxis": "x",
         "y": [
          "0_saw_colours_shapes",
          "1_calm_peace_peaceful",
          "2_music_journey_time",
          "3_thoughts_people_mind"
         ],
         "yaxis": "y",
         "z": [
          [
           1.000000238418579,
           0.40061312913894653,
           0.5479358434677124,
           0.5957392454147339
          ],
          [
           0.40061312913894653,
           1,
           0.5952688455581665,
           0.5097119212150574
          ],
          [
           0.5479358434677124,
           0.5952688455581665,
           1.0000001192092896,
           0.6663250923156738
          ],
          [
           0.5957392454147339,
           0.5097119212150574,
           0.6663250923156738,
           0.9999998807907104
          ]
         ]
        }
       ],
       "layout": {
        "coloraxis": {
         "colorbar": {
          "title": {
           "text": "Similarity Score"
          }
         },
         "colorscale": [
          [
           0,
           "rgb(247,252,240)"
          ],
          [
           0.125,
           "rgb(224,243,219)"
          ],
          [
           0.25,
           "rgb(204,235,197)"
          ],
          [
           0.375,
           "rgb(168,221,181)"
          ],
          [
           0.5,
           "rgb(123,204,196)"
          ],
          [
           0.625,
           "rgb(78,179,211)"
          ],
          [
           0.75,
           "rgb(43,140,190)"
          ],
          [
           0.875,
           "rgb(8,104,172)"
          ],
          [
           1,
           "rgb(8,64,129)"
          ]
         ]
        },
        "height": 800,
        "hoverlabel": {
         "bgcolor": "white",
         "font": {
          "family": "Rockwell",
          "size": 16
         }
        },
        "legend": {
         "title": {
          "text": "Trend"
         }
        },
        "margin": {
         "t": 60
        },
        "showlegend": true,
        "template": {
         "data": {
          "bar": [
           {
            "error_x": {
             "color": "#2a3f5f"
            },
            "error_y": {
             "color": "#2a3f5f"
            },
            "marker": {
             "line": {
              "color": "#E5ECF6",
              "width": 0.5
             },
             "pattern": {
              "fillmode": "overlay",
              "size": 10,
              "solidity": 0.2
             }
            },
            "type": "bar"
           }
          ],
          "barpolar": [
           {
            "marker": {
             "line": {
              "color": "#E5ECF6",
              "width": 0.5
             },
             "pattern": {
              "fillmode": "overlay",
              "size": 10,
              "solidity": 0.2
             }
            },
            "type": "barpolar"
           }
          ],
          "carpet": [
           {
            "aaxis": {
             "endlinecolor": "#2a3f5f",
             "gridcolor": "white",
             "linecolor": "white",
             "minorgridcolor": "white",
             "startlinecolor": "#2a3f5f"
            },
            "baxis": {
             "endlinecolor": "#2a3f5f",
             "gridcolor": "white",
             "linecolor": "white",
             "minorgridcolor": "white",
             "startlinecolor": "#2a3f5f"
            },
            "type": "carpet"
           }
          ],
          "choropleth": [
           {
            "colorbar": {
             "outlinewidth": 0,
             "ticks": ""
            },
            "type": "choropleth"
           }
          ],
          "contour": [
           {
            "colorbar": {
             "outlinewidth": 0,
             "ticks": ""
            },
            "colorscale": [
             [
              0,
              "#0d0887"
             ],
             [
              0.1111111111111111,
              "#46039f"
             ],
             [
              0.2222222222222222,
              "#7201a8"
             ],
             [
              0.3333333333333333,
              "#9c179e"
             ],
             [
              0.4444444444444444,
              "#bd3786"
             ],
             [
              0.5555555555555556,
              "#d8576b"
             ],
             [
              0.6666666666666666,
              "#ed7953"
             ],
             [
              0.7777777777777778,
              "#fb9f3a"
             ],
             [
              0.8888888888888888,
              "#fdca26"
             ],
             [
              1,
              "#f0f921"
             ]
            ],
            "type": "contour"
           }
          ],
          "contourcarpet": [
           {
            "colorbar": {
             "outlinewidth": 0,
             "ticks": ""
            },
            "type": "contourcarpet"
           }
          ],
          "heatmap": [
           {
            "colorbar": {
             "outlinewidth": 0,
             "ticks": ""
            },
            "colorscale": [
             [
              0,
              "#0d0887"
             ],
             [
              0.1111111111111111,
              "#46039f"
             ],
             [
              0.2222222222222222,
              "#7201a8"
             ],
             [
              0.3333333333333333,
              "#9c179e"
             ],
             [
              0.4444444444444444,
              "#bd3786"
             ],
             [
              0.5555555555555556,
              "#d8576b"
             ],
             [
              0.6666666666666666,
              "#ed7953"
             ],
             [
              0.7777777777777778,
              "#fb9f3a"
             ],
             [
              0.8888888888888888,
              "#fdca26"
             ],
             [
              1,
              "#f0f921"
             ]
            ],
            "type": "heatmap"
           }
          ],
          "heatmapgl": [
           {
            "colorbar": {
             "outlinewidth": 0,
             "ticks": ""
            },
            "colorscale": [
             [
              0,
              "#0d0887"
             ],
             [
              0.1111111111111111,
              "#46039f"
             ],
             [
              0.2222222222222222,
              "#7201a8"
             ],
             [
              0.3333333333333333,
              "#9c179e"
             ],
             [
              0.4444444444444444,
              "#bd3786"
             ],
             [
              0.5555555555555556,
              "#d8576b"
             ],
             [
              0.6666666666666666,
              "#ed7953"
             ],
             [
              0.7777777777777778,
              "#fb9f3a"
             ],
             [
              0.8888888888888888,
              "#fdca26"
             ],
             [
              1,
              "#f0f921"
             ]
            ],
            "type": "heatmapgl"
           }
          ],
          "histogram": [
           {
            "marker": {
             "pattern": {
              "fillmode": "overlay",
              "size": 10,
              "solidity": 0.2
             }
            },
            "type": "histogram"
           }
          ],
          "histogram2d": [
           {
            "colorbar": {
             "outlinewidth": 0,
             "ticks": ""
            },
            "colorscale": [
             [
              0,
              "#0d0887"
             ],
             [
              0.1111111111111111,
              "#46039f"
             ],
             [
              0.2222222222222222,
              "#7201a8"
             ],
             [
              0.3333333333333333,
              "#9c179e"
             ],
             [
              0.4444444444444444,
              "#bd3786"
             ],
             [
              0.5555555555555556,
              "#d8576b"
             ],
             [
              0.6666666666666666,
              "#ed7953"
             ],
             [
              0.7777777777777778,
              "#fb9f3a"
             ],
             [
              0.8888888888888888,
              "#fdca26"
             ],
             [
              1,
              "#f0f921"
             ]
            ],
            "type": "histogram2d"
           }
          ],
          "histogram2dcontour": [
           {
            "colorbar": {
             "outlinewidth": 0,
             "ticks": ""
            },
            "colorscale": [
             [
              0,
              "#0d0887"
             ],
             [
              0.1111111111111111,
              "#46039f"
             ],
             [
              0.2222222222222222,
              "#7201a8"
             ],
             [
              0.3333333333333333,
              "#9c179e"
             ],
             [
              0.4444444444444444,
              "#bd3786"
             ],
             [
              0.5555555555555556,
              "#d8576b"
             ],
             [
              0.6666666666666666,
              "#ed7953"
             ],
             [
              0.7777777777777778,
              "#fb9f3a"
             ],
             [
              0.8888888888888888,
              "#fdca26"
             ],
             [
              1,
              "#f0f921"
             ]
            ],
            "type": "histogram2dcontour"
           }
          ],
          "mesh3d": [
           {
            "colorbar": {
             "outlinewidth": 0,
             "ticks": ""
            },
            "type": "mesh3d"
           }
          ],
          "parcoords": [
           {
            "line": {
             "colorbar": {
              "outlinewidth": 0,
              "ticks": ""
             }
            },
            "type": "parcoords"
           }
          ],
          "pie": [
           {
            "automargin": true,
            "type": "pie"
           }
          ],
          "scatter": [
           {
            "fillpattern": {
             "fillmode": "overlay",
             "size": 10,
             "solidity": 0.2
            },
            "type": "scatter"
           }
          ],
          "scatter3d": [
           {
            "line": {
             "colorbar": {
              "outlinewidth": 0,
              "ticks": ""
             }
            },
            "marker": {
             "colorbar": {
              "outlinewidth": 0,
              "ticks": ""
             }
            },
            "type": "scatter3d"
           }
          ],
          "scattercarpet": [
           {
            "marker": {
             "colorbar": {
              "outlinewidth": 0,
              "ticks": ""
             }
            },
            "type": "scattercarpet"
           }
          ],
          "scattergeo": [
           {
            "marker": {
             "colorbar": {
              "outlinewidth": 0,
              "ticks": ""
             }
            },
            "type": "scattergeo"
           }
          ],
          "scattergl": [
           {
            "marker": {
             "colorbar": {
              "outlinewidth": 0,
              "ticks": ""
             }
            },
            "type": "scattergl"
           }
          ],
          "scattermapbox": [
           {
            "marker": {
             "colorbar": {
              "outlinewidth": 0,
              "ticks": ""
             }
            },
            "type": "scattermapbox"
           }
          ],
          "scatterpolar": [
           {
            "marker": {
             "colorbar": {
              "outlinewidth": 0,
              "ticks": ""
             }
            },
            "type": "scatterpolar"
           }
          ],
          "scatterpolargl": [
           {
            "marker": {
             "colorbar": {
              "outlinewidth": 0,
              "ticks": ""
             }
            },
            "type": "scatterpolargl"
           }
          ],
          "scatterternary": [
           {
            "marker": {
             "colorbar": {
              "outlinewidth": 0,
              "ticks": ""
             }
            },
            "type": "scatterternary"
           }
          ],
          "surface": [
           {
            "colorbar": {
             "outlinewidth": 0,
             "ticks": ""
            },
            "colorscale": [
             [
              0,
              "#0d0887"
             ],
             [
              0.1111111111111111,
              "#46039f"
             ],
             [
              0.2222222222222222,
              "#7201a8"
             ],
             [
              0.3333333333333333,
              "#9c179e"
             ],
             [
              0.4444444444444444,
              "#bd3786"
             ],
             [
              0.5555555555555556,
              "#d8576b"
             ],
             [
              0.6666666666666666,
              "#ed7953"
             ],
             [
              0.7777777777777778,
              "#fb9f3a"
             ],
             [
              0.8888888888888888,
              "#fdca26"
             ],
             [
              1,
              "#f0f921"
             ]
            ],
            "type": "surface"
           }
          ],
          "table": [
           {
            "cells": {
             "fill": {
              "color": "#EBF0F8"
             },
             "line": {
              "color": "white"
             }
            },
            "header": {
             "fill": {
              "color": "#C8D4E3"
             },
             "line": {
              "color": "white"
             }
            },
            "type": "table"
           }
          ]
         },
         "layout": {
          "annotationdefaults": {
           "arrowcolor": "#2a3f5f",
           "arrowhead": 0,
           "arrowwidth": 1
          },
          "autotypenumbers": "strict",
          "coloraxis": {
           "colorbar": {
            "outlinewidth": 0,
            "ticks": ""
           }
          },
          "colorscale": {
           "diverging": [
            [
             0,
             "#8e0152"
            ],
            [
             0.1,
             "#c51b7d"
            ],
            [
             0.2,
             "#de77ae"
            ],
            [
             0.3,
             "#f1b6da"
            ],
            [
             0.4,
             "#fde0ef"
            ],
            [
             0.5,
             "#f7f7f7"
            ],
            [
             0.6,
             "#e6f5d0"
            ],
            [
             0.7,
             "#b8e186"
            ],
            [
             0.8,
             "#7fbc41"
            ],
            [
             0.9,
             "#4d9221"
            ],
            [
             1,
             "#276419"
            ]
           ],
           "sequential": [
            [
             0,
             "#0d0887"
            ],
            [
             0.1111111111111111,
             "#46039f"
            ],
            [
             0.2222222222222222,
             "#7201a8"
            ],
            [
             0.3333333333333333,
             "#9c179e"
            ],
            [
             0.4444444444444444,
             "#bd3786"
            ],
            [
             0.5555555555555556,
             "#d8576b"
            ],
            [
             0.6666666666666666,
             "#ed7953"
            ],
            [
             0.7777777777777778,
             "#fb9f3a"
            ],
            [
             0.8888888888888888,
             "#fdca26"
            ],
            [
             1,
             "#f0f921"
            ]
           ],
           "sequentialminus": [
            [
             0,
             "#0d0887"
            ],
            [
             0.1111111111111111,
             "#46039f"
            ],
            [
             0.2222222222222222,
             "#7201a8"
            ],
            [
             0.3333333333333333,
             "#9c179e"
            ],
            [
             0.4444444444444444,
             "#bd3786"
            ],
            [
             0.5555555555555556,
             "#d8576b"
            ],
            [
             0.6666666666666666,
             "#ed7953"
            ],
            [
             0.7777777777777778,
             "#fb9f3a"
            ],
            [
             0.8888888888888888,
             "#fdca26"
            ],
            [
             1,
             "#f0f921"
            ]
           ]
          },
          "colorway": [
           "#636efa",
           "#EF553B",
           "#00cc96",
           "#ab63fa",
           "#FFA15A",
           "#19d3f3",
           "#FF6692",
           "#B6E880",
           "#FF97FF",
           "#FECB52"
          ],
          "font": {
           "color": "#2a3f5f"
          },
          "geo": {
           "bgcolor": "white",
           "lakecolor": "white",
           "landcolor": "#E5ECF6",
           "showlakes": true,
           "showland": true,
           "subunitcolor": "white"
          },
          "hoverlabel": {
           "align": "left"
          },
          "hovermode": "closest",
          "mapbox": {
           "style": "light"
          },
          "paper_bgcolor": "white",
          "plot_bgcolor": "#E5ECF6",
          "polar": {
           "angularaxis": {
            "gridcolor": "white",
            "linecolor": "white",
            "ticks": ""
           },
           "bgcolor": "#E5ECF6",
           "radialaxis": {
            "gridcolor": "white",
            "linecolor": "white",
            "ticks": ""
           }
          },
          "scene": {
           "xaxis": {
            "backgroundcolor": "#E5ECF6",
            "gridcolor": "white",
            "gridwidth": 2,
            "linecolor": "white",
            "showbackground": true,
            "ticks": "",
            "zerolinecolor": "white"
           },
           "yaxis": {
            "backgroundcolor": "#E5ECF6",
            "gridcolor": "white",
            "gridwidth": 2,
            "linecolor": "white",
            "showbackground": true,
            "ticks": "",
            "zerolinecolor": "white"
           },
           "zaxis": {
            "backgroundcolor": "#E5ECF6",
            "gridcolor": "white",
            "gridwidth": 2,
            "linecolor": "white",
            "showbackground": true,
            "ticks": "",
            "zerolinecolor": "white"
           }
          },
          "shapedefaults": {
           "line": {
            "color": "#2a3f5f"
           }
          },
          "ternary": {
           "aaxis": {
            "gridcolor": "white",
            "linecolor": "white",
            "ticks": ""
           },
           "baxis": {
            "gridcolor": "white",
            "linecolor": "white",
            "ticks": ""
           },
           "bgcolor": "#E5ECF6",
           "caxis": {
            "gridcolor": "white",
            "linecolor": "white",
            "ticks": ""
           }
          },
          "title": {
           "x": 0.05
          },
          "xaxis": {
           "automargin": true,
           "gridcolor": "white",
           "linecolor": "white",
           "ticks": "",
           "title": {
            "standoff": 15
           },
           "zerolinecolor": "white",
           "zerolinewidth": 2
          },
          "yaxis": {
           "automargin": true,
           "gridcolor": "white",
           "linecolor": "white",
           "ticks": "",
           "title": {
            "standoff": 15
           },
           "zerolinecolor": "white",
           "zerolinewidth": 2
          }
         }
        },
        "title": {
         "font": {
          "color": "Black",
          "size": 22
         },
         "text": "<b>Similarity Matrix</b>",
         "x": 0.55,
         "xanchor": "center",
         "y": 0.95,
         "yanchor": "top"
        },
        "width": 800,
        "xaxis": {
         "anchor": "y",
         "constrain": "domain",
         "domain": [
          0,
          1
         ],
         "scaleanchor": "y"
        },
        "yaxis": {
         "anchor": "x",
         "autorange": "reversed",
         "constrain": "domain",
         "domain": [
          0,
          1
         ]
        }
       }
      }
     },
     "metadata": {},
     "output_type": "display_data"
    }
   ],
   "source": [
    "model.visualize_heatmap(top_n_topics=10) #Visualize the top 10 topics as a heatmap"
   ]
  },
  {
   "cell_type": "code",
   "execution_count": 11,
   "metadata": {},
   "outputs": [
    {
     "data": {
      "application/vnd.plotly.v1+json": {
       "config": {
        "plotlyServerURL": "https://plot.ly"
       },
       "data": [
        {
         "customdata": [
          [
           0,
           "saw | colours | shapes | moving | patterns",
           140
          ],
          [
           1,
           "calm | peace | peaceful | interesting | relaxed",
           48
          ],
          [
           2,
           "music | journey | time | really | bit",
           37
          ],
          [
           3,
           "thoughts | people | mind | brain | dreaming",
           34
          ]
         ],
         "hovertemplate": "<b>Topic %{customdata[0]}</b><br>%{customdata[1]}<br>Size: %{customdata[2]}",
         "legendgroup": "",
         "marker": {
          "color": "#B0BEC5",
          "line": {
           "color": "DarkSlateGrey",
           "width": 2
          },
          "size": [
           140,
           48,
           37,
           34
          ],
          "sizemode": "area",
          "sizeref": 0.0875,
          "symbol": "circle"
         },
         "mode": "markers",
         "name": "",
         "orientation": "v",
         "showlegend": false,
         "type": "scatter",
         "x": [
          10.744150161743164,
          9.12467098236084,
          9.081645965576172,
          9.950472831726074
         ],
         "xaxis": "x",
         "y": [
          -2.8390235900878906,
          -3.8944509029388428,
          -3.063770055770874,
          -2.5594680309295654
         ],
         "yaxis": "y"
        }
       ],
       "layout": {
        "annotations": [
         {
          "showarrow": false,
          "text": "D1",
          "x": 7.719399070739746,
          "y": -3.3270831823348996,
          "yshift": 10
         },
         {
          "showarrow": false,
          "text": "D2",
          "x": 10.037585878372191,
          "xshift": 10,
          "y": -2.1755478262901304
         }
        ],
        "height": 650,
        "hoverlabel": {
         "bgcolor": "white",
         "font": {
          "family": "Rockwell",
          "size": 16
         }
        },
        "legend": {
         "itemsizing": "constant",
         "tracegroupgap": 0
        },
        "margin": {
         "t": 60
        },
        "shapes": [
         {
          "line": {
           "color": "#CFD8DC",
           "width": 2
          },
          "type": "line",
          "x0": 10.037585878372191,
          "x1": 10.037585878372191,
          "y0": -4.478618538379669,
          "y1": -2.1755478262901304
         },
         {
          "line": {
           "color": "#9E9E9E",
           "width": 2
          },
          "type": "line",
          "x0": 7.719399070739746,
          "x1": 12.355772686004638,
          "y0": -3.3270831823348996,
          "y1": -3.3270831823348996
         }
        ],
        "sliders": [
         {
          "active": 0,
          "pad": {
           "t": 50
          },
          "steps": [
           {
            "args": [
             {
              "marker.color": [
               [
                "red",
                "#B0BEC5",
                "#B0BEC5",
                "#B0BEC5"
               ]
              ]
             }
            ],
            "label": "Topic 0",
            "method": "update"
           },
           {
            "args": [
             {
              "marker.color": [
               [
                "#B0BEC5",
                "red",
                "#B0BEC5",
                "#B0BEC5"
               ]
              ]
             }
            ],
            "label": "Topic 1",
            "method": "update"
           },
           {
            "args": [
             {
              "marker.color": [
               [
                "#B0BEC5",
                "#B0BEC5",
                "red",
                "#B0BEC5"
               ]
              ]
             }
            ],
            "label": "Topic 2",
            "method": "update"
           },
           {
            "args": [
             {
              "marker.color": [
               [
                "#B0BEC5",
                "#B0BEC5",
                "#B0BEC5",
                "red"
               ]
              ]
             }
            ],
            "label": "Topic 3",
            "method": "update"
           }
          ]
         }
        ],
        "template": {
         "data": {
          "bar": [
           {
            "error_x": {
             "color": "rgb(36,36,36)"
            },
            "error_y": {
             "color": "rgb(36,36,36)"
            },
            "marker": {
             "line": {
              "color": "white",
              "width": 0.5
             },
             "pattern": {
              "fillmode": "overlay",
              "size": 10,
              "solidity": 0.2
             }
            },
            "type": "bar"
           }
          ],
          "barpolar": [
           {
            "marker": {
             "line": {
              "color": "white",
              "width": 0.5
             },
             "pattern": {
              "fillmode": "overlay",
              "size": 10,
              "solidity": 0.2
             }
            },
            "type": "barpolar"
           }
          ],
          "carpet": [
           {
            "aaxis": {
             "endlinecolor": "rgb(36,36,36)",
             "gridcolor": "white",
             "linecolor": "white",
             "minorgridcolor": "white",
             "startlinecolor": "rgb(36,36,36)"
            },
            "baxis": {
             "endlinecolor": "rgb(36,36,36)",
             "gridcolor": "white",
             "linecolor": "white",
             "minorgridcolor": "white",
             "startlinecolor": "rgb(36,36,36)"
            },
            "type": "carpet"
           }
          ],
          "choropleth": [
           {
            "colorbar": {
             "outlinewidth": 1,
             "tickcolor": "rgb(36,36,36)",
             "ticks": "outside"
            },
            "type": "choropleth"
           }
          ],
          "contour": [
           {
            "colorbar": {
             "outlinewidth": 1,
             "tickcolor": "rgb(36,36,36)",
             "ticks": "outside"
            },
            "colorscale": [
             [
              0,
              "#440154"
             ],
             [
              0.1111111111111111,
              "#482878"
             ],
             [
              0.2222222222222222,
              "#3e4989"
             ],
             [
              0.3333333333333333,
              "#31688e"
             ],
             [
              0.4444444444444444,
              "#26828e"
             ],
             [
              0.5555555555555556,
              "#1f9e89"
             ],
             [
              0.6666666666666666,
              "#35b779"
             ],
             [
              0.7777777777777778,
              "#6ece58"
             ],
             [
              0.8888888888888888,
              "#b5de2b"
             ],
             [
              1,
              "#fde725"
             ]
            ],
            "type": "contour"
           }
          ],
          "contourcarpet": [
           {
            "colorbar": {
             "outlinewidth": 1,
             "tickcolor": "rgb(36,36,36)",
             "ticks": "outside"
            },
            "type": "contourcarpet"
           }
          ],
          "heatmap": [
           {
            "colorbar": {
             "outlinewidth": 1,
             "tickcolor": "rgb(36,36,36)",
             "ticks": "outside"
            },
            "colorscale": [
             [
              0,
              "#440154"
             ],
             [
              0.1111111111111111,
              "#482878"
             ],
             [
              0.2222222222222222,
              "#3e4989"
             ],
             [
              0.3333333333333333,
              "#31688e"
             ],
             [
              0.4444444444444444,
              "#26828e"
             ],
             [
              0.5555555555555556,
              "#1f9e89"
             ],
             [
              0.6666666666666666,
              "#35b779"
             ],
             [
              0.7777777777777778,
              "#6ece58"
             ],
             [
              0.8888888888888888,
              "#b5de2b"
             ],
             [
              1,
              "#fde725"
             ]
            ],
            "type": "heatmap"
           }
          ],
          "heatmapgl": [
           {
            "colorbar": {
             "outlinewidth": 1,
             "tickcolor": "rgb(36,36,36)",
             "ticks": "outside"
            },
            "colorscale": [
             [
              0,
              "#440154"
             ],
             [
              0.1111111111111111,
              "#482878"
             ],
             [
              0.2222222222222222,
              "#3e4989"
             ],
             [
              0.3333333333333333,
              "#31688e"
             ],
             [
              0.4444444444444444,
              "#26828e"
             ],
             [
              0.5555555555555556,
              "#1f9e89"
             ],
             [
              0.6666666666666666,
              "#35b779"
             ],
             [
              0.7777777777777778,
              "#6ece58"
             ],
             [
              0.8888888888888888,
              "#b5de2b"
             ],
             [
              1,
              "#fde725"
             ]
            ],
            "type": "heatmapgl"
           }
          ],
          "histogram": [
           {
            "marker": {
             "line": {
              "color": "white",
              "width": 0.6
             }
            },
            "type": "histogram"
           }
          ],
          "histogram2d": [
           {
            "colorbar": {
             "outlinewidth": 1,
             "tickcolor": "rgb(36,36,36)",
             "ticks": "outside"
            },
            "colorscale": [
             [
              0,
              "#440154"
             ],
             [
              0.1111111111111111,
              "#482878"
             ],
             [
              0.2222222222222222,
              "#3e4989"
             ],
             [
              0.3333333333333333,
              "#31688e"
             ],
             [
              0.4444444444444444,
              "#26828e"
             ],
             [
              0.5555555555555556,
              "#1f9e89"
             ],
             [
              0.6666666666666666,
              "#35b779"
             ],
             [
              0.7777777777777778,
              "#6ece58"
             ],
             [
              0.8888888888888888,
              "#b5de2b"
             ],
             [
              1,
              "#fde725"
             ]
            ],
            "type": "histogram2d"
           }
          ],
          "histogram2dcontour": [
           {
            "colorbar": {
             "outlinewidth": 1,
             "tickcolor": "rgb(36,36,36)",
             "ticks": "outside"
            },
            "colorscale": [
             [
              0,
              "#440154"
             ],
             [
              0.1111111111111111,
              "#482878"
             ],
             [
              0.2222222222222222,
              "#3e4989"
             ],
             [
              0.3333333333333333,
              "#31688e"
             ],
             [
              0.4444444444444444,
              "#26828e"
             ],
             [
              0.5555555555555556,
              "#1f9e89"
             ],
             [
              0.6666666666666666,
              "#35b779"
             ],
             [
              0.7777777777777778,
              "#6ece58"
             ],
             [
              0.8888888888888888,
              "#b5de2b"
             ],
             [
              1,
              "#fde725"
             ]
            ],
            "type": "histogram2dcontour"
           }
          ],
          "mesh3d": [
           {
            "colorbar": {
             "outlinewidth": 1,
             "tickcolor": "rgb(36,36,36)",
             "ticks": "outside"
            },
            "type": "mesh3d"
           }
          ],
          "parcoords": [
           {
            "line": {
             "colorbar": {
              "outlinewidth": 1,
              "tickcolor": "rgb(36,36,36)",
              "ticks": "outside"
             }
            },
            "type": "parcoords"
           }
          ],
          "pie": [
           {
            "automargin": true,
            "type": "pie"
           }
          ],
          "scatter": [
           {
            "fillpattern": {
             "fillmode": "overlay",
             "size": 10,
             "solidity": 0.2
            },
            "type": "scatter"
           }
          ],
          "scatter3d": [
           {
            "line": {
             "colorbar": {
              "outlinewidth": 1,
              "tickcolor": "rgb(36,36,36)",
              "ticks": "outside"
             }
            },
            "marker": {
             "colorbar": {
              "outlinewidth": 1,
              "tickcolor": "rgb(36,36,36)",
              "ticks": "outside"
             }
            },
            "type": "scatter3d"
           }
          ],
          "scattercarpet": [
           {
            "marker": {
             "colorbar": {
              "outlinewidth": 1,
              "tickcolor": "rgb(36,36,36)",
              "ticks": "outside"
             }
            },
            "type": "scattercarpet"
           }
          ],
          "scattergeo": [
           {
            "marker": {
             "colorbar": {
              "outlinewidth": 1,
              "tickcolor": "rgb(36,36,36)",
              "ticks": "outside"
             }
            },
            "type": "scattergeo"
           }
          ],
          "scattergl": [
           {
            "marker": {
             "colorbar": {
              "outlinewidth": 1,
              "tickcolor": "rgb(36,36,36)",
              "ticks": "outside"
             }
            },
            "type": "scattergl"
           }
          ],
          "scattermapbox": [
           {
            "marker": {
             "colorbar": {
              "outlinewidth": 1,
              "tickcolor": "rgb(36,36,36)",
              "ticks": "outside"
             }
            },
            "type": "scattermapbox"
           }
          ],
          "scatterpolar": [
           {
            "marker": {
             "colorbar": {
              "outlinewidth": 1,
              "tickcolor": "rgb(36,36,36)",
              "ticks": "outside"
             }
            },
            "type": "scatterpolar"
           }
          ],
          "scatterpolargl": [
           {
            "marker": {
             "colorbar": {
              "outlinewidth": 1,
              "tickcolor": "rgb(36,36,36)",
              "ticks": "outside"
             }
            },
            "type": "scatterpolargl"
           }
          ],
          "scatterternary": [
           {
            "marker": {
             "colorbar": {
              "outlinewidth": 1,
              "tickcolor": "rgb(36,36,36)",
              "ticks": "outside"
             }
            },
            "type": "scatterternary"
           }
          ],
          "surface": [
           {
            "colorbar": {
             "outlinewidth": 1,
             "tickcolor": "rgb(36,36,36)",
             "ticks": "outside"
            },
            "colorscale": [
             [
              0,
              "#440154"
             ],
             [
              0.1111111111111111,
              "#482878"
             ],
             [
              0.2222222222222222,
              "#3e4989"
             ],
             [
              0.3333333333333333,
              "#31688e"
             ],
             [
              0.4444444444444444,
              "#26828e"
             ],
             [
              0.5555555555555556,
              "#1f9e89"
             ],
             [
              0.6666666666666666,
              "#35b779"
             ],
             [
              0.7777777777777778,
              "#6ece58"
             ],
             [
              0.8888888888888888,
              "#b5de2b"
             ],
             [
              1,
              "#fde725"
             ]
            ],
            "type": "surface"
           }
          ],
          "table": [
           {
            "cells": {
             "fill": {
              "color": "rgb(237,237,237)"
             },
             "line": {
              "color": "white"
             }
            },
            "header": {
             "fill": {
              "color": "rgb(217,217,217)"
             },
             "line": {
              "color": "white"
             }
            },
            "type": "table"
           }
          ]
         },
         "layout": {
          "annotationdefaults": {
           "arrowhead": 0,
           "arrowwidth": 1
          },
          "autotypenumbers": "strict",
          "coloraxis": {
           "colorbar": {
            "outlinewidth": 1,
            "tickcolor": "rgb(36,36,36)",
            "ticks": "outside"
           }
          },
          "colorscale": {
           "diverging": [
            [
             0,
             "rgb(103,0,31)"
            ],
            [
             0.1,
             "rgb(178,24,43)"
            ],
            [
             0.2,
             "rgb(214,96,77)"
            ],
            [
             0.3,
             "rgb(244,165,130)"
            ],
            [
             0.4,
             "rgb(253,219,199)"
            ],
            [
             0.5,
             "rgb(247,247,247)"
            ],
            [
             0.6,
             "rgb(209,229,240)"
            ],
            [
             0.7,
             "rgb(146,197,222)"
            ],
            [
             0.8,
             "rgb(67,147,195)"
            ],
            [
             0.9,
             "rgb(33,102,172)"
            ],
            [
             1,
             "rgb(5,48,97)"
            ]
           ],
           "sequential": [
            [
             0,
             "#440154"
            ],
            [
             0.1111111111111111,
             "#482878"
            ],
            [
             0.2222222222222222,
             "#3e4989"
            ],
            [
             0.3333333333333333,
             "#31688e"
            ],
            [
             0.4444444444444444,
             "#26828e"
            ],
            [
             0.5555555555555556,
             "#1f9e89"
            ],
            [
             0.6666666666666666,
             "#35b779"
            ],
            [
             0.7777777777777778,
             "#6ece58"
            ],
            [
             0.8888888888888888,
             "#b5de2b"
            ],
            [
             1,
             "#fde725"
            ]
           ],
           "sequentialminus": [
            [
             0,
             "#440154"
            ],
            [
             0.1111111111111111,
             "#482878"
            ],
            [
             0.2222222222222222,
             "#3e4989"
            ],
            [
             0.3333333333333333,
             "#31688e"
            ],
            [
             0.4444444444444444,
             "#26828e"
            ],
            [
             0.5555555555555556,
             "#1f9e89"
            ],
            [
             0.6666666666666666,
             "#35b779"
            ],
            [
             0.7777777777777778,
             "#6ece58"
            ],
            [
             0.8888888888888888,
             "#b5de2b"
            ],
            [
             1,
             "#fde725"
            ]
           ]
          },
          "colorway": [
           "#1F77B4",
           "#FF7F0E",
           "#2CA02C",
           "#D62728",
           "#9467BD",
           "#8C564B",
           "#E377C2",
           "#7F7F7F",
           "#BCBD22",
           "#17BECF"
          ],
          "font": {
           "color": "rgb(36,36,36)"
          },
          "geo": {
           "bgcolor": "white",
           "lakecolor": "white",
           "landcolor": "white",
           "showlakes": true,
           "showland": true,
           "subunitcolor": "white"
          },
          "hoverlabel": {
           "align": "left"
          },
          "hovermode": "closest",
          "mapbox": {
           "style": "light"
          },
          "paper_bgcolor": "white",
          "plot_bgcolor": "white",
          "polar": {
           "angularaxis": {
            "gridcolor": "rgb(232,232,232)",
            "linecolor": "rgb(36,36,36)",
            "showgrid": false,
            "showline": true,
            "ticks": "outside"
           },
           "bgcolor": "white",
           "radialaxis": {
            "gridcolor": "rgb(232,232,232)",
            "linecolor": "rgb(36,36,36)",
            "showgrid": false,
            "showline": true,
            "ticks": "outside"
           }
          },
          "scene": {
           "xaxis": {
            "backgroundcolor": "white",
            "gridcolor": "rgb(232,232,232)",
            "gridwidth": 2,
            "linecolor": "rgb(36,36,36)",
            "showbackground": true,
            "showgrid": false,
            "showline": true,
            "ticks": "outside",
            "zeroline": false,
            "zerolinecolor": "rgb(36,36,36)"
           },
           "yaxis": {
            "backgroundcolor": "white",
            "gridcolor": "rgb(232,232,232)",
            "gridwidth": 2,
            "linecolor": "rgb(36,36,36)",
            "showbackground": true,
            "showgrid": false,
            "showline": true,
            "ticks": "outside",
            "zeroline": false,
            "zerolinecolor": "rgb(36,36,36)"
           },
           "zaxis": {
            "backgroundcolor": "white",
            "gridcolor": "rgb(232,232,232)",
            "gridwidth": 2,
            "linecolor": "rgb(36,36,36)",
            "showbackground": true,
            "showgrid": false,
            "showline": true,
            "ticks": "outside",
            "zeroline": false,
            "zerolinecolor": "rgb(36,36,36)"
           }
          },
          "shapedefaults": {
           "fillcolor": "black",
           "line": {
            "width": 0
           },
           "opacity": 0.3
          },
          "ternary": {
           "aaxis": {
            "gridcolor": "rgb(232,232,232)",
            "linecolor": "rgb(36,36,36)",
            "showgrid": false,
            "showline": true,
            "ticks": "outside"
           },
           "baxis": {
            "gridcolor": "rgb(232,232,232)",
            "linecolor": "rgb(36,36,36)",
            "showgrid": false,
            "showline": true,
            "ticks": "outside"
           },
           "bgcolor": "white",
           "caxis": {
            "gridcolor": "rgb(232,232,232)",
            "linecolor": "rgb(36,36,36)",
            "showgrid": false,
            "showline": true,
            "ticks": "outside"
           }
          },
          "title": {
           "x": 0.05
          },
          "xaxis": {
           "automargin": true,
           "gridcolor": "rgb(232,232,232)",
           "linecolor": "rgb(36,36,36)",
           "showgrid": false,
           "showline": true,
           "ticks": "outside",
           "title": {
            "standoff": 15
           },
           "zeroline": false,
           "zerolinecolor": "rgb(36,36,36)"
          },
          "yaxis": {
           "automargin": true,
           "gridcolor": "rgb(232,232,232)",
           "linecolor": "rgb(36,36,36)",
           "showgrid": false,
           "showline": true,
           "ticks": "outside",
           "title": {
            "standoff": 15
           },
           "zeroline": false,
           "zerolinecolor": "rgb(36,36,36)"
          }
         }
        },
        "title": {
         "font": {
          "color": "Black",
          "size": 22
         },
         "text": "<b>Intertopic Distance Map</b>",
         "x": 0.5,
         "xanchor": "center",
         "y": 0.95,
         "yanchor": "top"
        },
        "width": 650,
        "xaxis": {
         "anchor": "y",
         "domain": [
          0,
          1
         ],
         "range": [
          7.719399070739746,
          12.355772686004638
         ],
         "title": {
          "text": ""
         },
         "visible": false
        },
        "yaxis": {
         "anchor": "x",
         "domain": [
          0,
          1
         ],
         "range": [
          -4.478618538379669,
          -2.1755478262901304
         ],
         "title": {
          "text": ""
         },
         "visible": false
        }
       }
      }
     },
     "metadata": {},
     "output_type": "display_data"
    }
   ],
   "source": [
    "model.visualize_topics() #Visualize topics (similar to LDA visualization representation)"
   ]
  },
  {
   "cell_type": "code",
   "execution_count": 12,
   "metadata": {},
   "outputs": [
    {
     "data": {
      "application/vnd.plotly.v1+json": {
       "config": {
        "plotlyServerURL": "https://plot.ly"
       },
       "data": [
        {
         "hoverinfo": "text",
         "marker": {
          "color": "rgb(61,153,112)"
         },
         "mode": "lines",
         "type": "scatter",
         "x": [
          0,
          0.7455889835529659,
          0.7455889835529659,
          0
         ],
         "xaxis": "x",
         "y": [
          -25,
          -25,
          -35,
          -35
         ],
         "yaxis": "y"
        },
        {
         "hoverinfo": "text",
         "marker": {
          "color": "rgb(61,153,112)"
         },
         "mode": "lines",
         "type": "scatter",
         "x": [
          0,
          0.7867569331103357,
          0.7867569331103357,
          0.7455889835529659
         ],
         "xaxis": "x",
         "y": [
          -15,
          -15,
          -30,
          -30
         ],
         "yaxis": "y"
        },
        {
         "hoverinfo": "text",
         "marker": {
          "color": "rgb(61,153,112)"
         },
         "mode": "lines",
         "type": "scatter",
         "x": [
          0,
          0.9373974954866704,
          0.9373974954866704,
          0.7867569331103357
         ],
         "xaxis": "x",
         "y": [
          -5,
          -5,
          -22.5,
          -22.5
         ],
         "yaxis": "y"
        }
       ],
       "layout": {
        "autosize": false,
        "height": 260,
        "hoverlabel": {
         "bgcolor": "white",
         "font": {
          "family": "Rockwell",
          "size": 16
         }
        },
        "hovermode": "closest",
        "plot_bgcolor": "#ECEFF1",
        "showlegend": false,
        "template": {
         "data": {
          "bar": [
           {
            "error_x": {
             "color": "#2a3f5f"
            },
            "error_y": {
             "color": "#2a3f5f"
            },
            "marker": {
             "line": {
              "color": "white",
              "width": 0.5
             },
             "pattern": {
              "fillmode": "overlay",
              "size": 10,
              "solidity": 0.2
             }
            },
            "type": "bar"
           }
          ],
          "barpolar": [
           {
            "marker": {
             "line": {
              "color": "white",
              "width": 0.5
             },
             "pattern": {
              "fillmode": "overlay",
              "size": 10,
              "solidity": 0.2
             }
            },
            "type": "barpolar"
           }
          ],
          "carpet": [
           {
            "aaxis": {
             "endlinecolor": "#2a3f5f",
             "gridcolor": "#C8D4E3",
             "linecolor": "#C8D4E3",
             "minorgridcolor": "#C8D4E3",
             "startlinecolor": "#2a3f5f"
            },
            "baxis": {
             "endlinecolor": "#2a3f5f",
             "gridcolor": "#C8D4E3",
             "linecolor": "#C8D4E3",
             "minorgridcolor": "#C8D4E3",
             "startlinecolor": "#2a3f5f"
            },
            "type": "carpet"
           }
          ],
          "choropleth": [
           {
            "colorbar": {
             "outlinewidth": 0,
             "ticks": ""
            },
            "type": "choropleth"
           }
          ],
          "contour": [
           {
            "colorbar": {
             "outlinewidth": 0,
             "ticks": ""
            },
            "colorscale": [
             [
              0,
              "#0d0887"
             ],
             [
              0.1111111111111111,
              "#46039f"
             ],
             [
              0.2222222222222222,
              "#7201a8"
             ],
             [
              0.3333333333333333,
              "#9c179e"
             ],
             [
              0.4444444444444444,
              "#bd3786"
             ],
             [
              0.5555555555555556,
              "#d8576b"
             ],
             [
              0.6666666666666666,
              "#ed7953"
             ],
             [
              0.7777777777777778,
              "#fb9f3a"
             ],
             [
              0.8888888888888888,
              "#fdca26"
             ],
             [
              1,
              "#f0f921"
             ]
            ],
            "type": "contour"
           }
          ],
          "contourcarpet": [
           {
            "colorbar": {
             "outlinewidth": 0,
             "ticks": ""
            },
            "type": "contourcarpet"
           }
          ],
          "heatmap": [
           {
            "colorbar": {
             "outlinewidth": 0,
             "ticks": ""
            },
            "colorscale": [
             [
              0,
              "#0d0887"
             ],
             [
              0.1111111111111111,
              "#46039f"
             ],
             [
              0.2222222222222222,
              "#7201a8"
             ],
             [
              0.3333333333333333,
              "#9c179e"
             ],
             [
              0.4444444444444444,
              "#bd3786"
             ],
             [
              0.5555555555555556,
              "#d8576b"
             ],
             [
              0.6666666666666666,
              "#ed7953"
             ],
             [
              0.7777777777777778,
              "#fb9f3a"
             ],
             [
              0.8888888888888888,
              "#fdca26"
             ],
             [
              1,
              "#f0f921"
             ]
            ],
            "type": "heatmap"
           }
          ],
          "heatmapgl": [
           {
            "colorbar": {
             "outlinewidth": 0,
             "ticks": ""
            },
            "colorscale": [
             [
              0,
              "#0d0887"
             ],
             [
              0.1111111111111111,
              "#46039f"
             ],
             [
              0.2222222222222222,
              "#7201a8"
             ],
             [
              0.3333333333333333,
              "#9c179e"
             ],
             [
              0.4444444444444444,
              "#bd3786"
             ],
             [
              0.5555555555555556,
              "#d8576b"
             ],
             [
              0.6666666666666666,
              "#ed7953"
             ],
             [
              0.7777777777777778,
              "#fb9f3a"
             ],
             [
              0.8888888888888888,
              "#fdca26"
             ],
             [
              1,
              "#f0f921"
             ]
            ],
            "type": "heatmapgl"
           }
          ],
          "histogram": [
           {
            "marker": {
             "pattern": {
              "fillmode": "overlay",
              "size": 10,
              "solidity": 0.2
             }
            },
            "type": "histogram"
           }
          ],
          "histogram2d": [
           {
            "colorbar": {
             "outlinewidth": 0,
             "ticks": ""
            },
            "colorscale": [
             [
              0,
              "#0d0887"
             ],
             [
              0.1111111111111111,
              "#46039f"
             ],
             [
              0.2222222222222222,
              "#7201a8"
             ],
             [
              0.3333333333333333,
              "#9c179e"
             ],
             [
              0.4444444444444444,
              "#bd3786"
             ],
             [
              0.5555555555555556,
              "#d8576b"
             ],
             [
              0.6666666666666666,
              "#ed7953"
             ],
             [
              0.7777777777777778,
              "#fb9f3a"
             ],
             [
              0.8888888888888888,
              "#fdca26"
             ],
             [
              1,
              "#f0f921"
             ]
            ],
            "type": "histogram2d"
           }
          ],
          "histogram2dcontour": [
           {
            "colorbar": {
             "outlinewidth": 0,
             "ticks": ""
            },
            "colorscale": [
             [
              0,
              "#0d0887"
             ],
             [
              0.1111111111111111,
              "#46039f"
             ],
             [
              0.2222222222222222,
              "#7201a8"
             ],
             [
              0.3333333333333333,
              "#9c179e"
             ],
             [
              0.4444444444444444,
              "#bd3786"
             ],
             [
              0.5555555555555556,
              "#d8576b"
             ],
             [
              0.6666666666666666,
              "#ed7953"
             ],
             [
              0.7777777777777778,
              "#fb9f3a"
             ],
             [
              0.8888888888888888,
              "#fdca26"
             ],
             [
              1,
              "#f0f921"
             ]
            ],
            "type": "histogram2dcontour"
           }
          ],
          "mesh3d": [
           {
            "colorbar": {
             "outlinewidth": 0,
             "ticks": ""
            },
            "type": "mesh3d"
           }
          ],
          "parcoords": [
           {
            "line": {
             "colorbar": {
              "outlinewidth": 0,
              "ticks": ""
             }
            },
            "type": "parcoords"
           }
          ],
          "pie": [
           {
            "automargin": true,
            "type": "pie"
           }
          ],
          "scatter": [
           {
            "fillpattern": {
             "fillmode": "overlay",
             "size": 10,
             "solidity": 0.2
            },
            "type": "scatter"
           }
          ],
          "scatter3d": [
           {
            "line": {
             "colorbar": {
              "outlinewidth": 0,
              "ticks": ""
             }
            },
            "marker": {
             "colorbar": {
              "outlinewidth": 0,
              "ticks": ""
             }
            },
            "type": "scatter3d"
           }
          ],
          "scattercarpet": [
           {
            "marker": {
             "colorbar": {
              "outlinewidth": 0,
              "ticks": ""
             }
            },
            "type": "scattercarpet"
           }
          ],
          "scattergeo": [
           {
            "marker": {
             "colorbar": {
              "outlinewidth": 0,
              "ticks": ""
             }
            },
            "type": "scattergeo"
           }
          ],
          "scattergl": [
           {
            "marker": {
             "colorbar": {
              "outlinewidth": 0,
              "ticks": ""
             }
            },
            "type": "scattergl"
           }
          ],
          "scattermapbox": [
           {
            "marker": {
             "colorbar": {
              "outlinewidth": 0,
              "ticks": ""
             }
            },
            "type": "scattermapbox"
           }
          ],
          "scatterpolar": [
           {
            "marker": {
             "colorbar": {
              "outlinewidth": 0,
              "ticks": ""
             }
            },
            "type": "scatterpolar"
           }
          ],
          "scatterpolargl": [
           {
            "marker": {
             "colorbar": {
              "outlinewidth": 0,
              "ticks": ""
             }
            },
            "type": "scatterpolargl"
           }
          ],
          "scatterternary": [
           {
            "marker": {
             "colorbar": {
              "outlinewidth": 0,
              "ticks": ""
             }
            },
            "type": "scatterternary"
           }
          ],
          "surface": [
           {
            "colorbar": {
             "outlinewidth": 0,
             "ticks": ""
            },
            "colorscale": [
             [
              0,
              "#0d0887"
             ],
             [
              0.1111111111111111,
              "#46039f"
             ],
             [
              0.2222222222222222,
              "#7201a8"
             ],
             [
              0.3333333333333333,
              "#9c179e"
             ],
             [
              0.4444444444444444,
              "#bd3786"
             ],
             [
              0.5555555555555556,
              "#d8576b"
             ],
             [
              0.6666666666666666,
              "#ed7953"
             ],
             [
              0.7777777777777778,
              "#fb9f3a"
             ],
             [
              0.8888888888888888,
              "#fdca26"
             ],
             [
              1,
              "#f0f921"
             ]
            ],
            "type": "surface"
           }
          ],
          "table": [
           {
            "cells": {
             "fill": {
              "color": "#EBF0F8"
             },
             "line": {
              "color": "white"
             }
            },
            "header": {
             "fill": {
              "color": "#C8D4E3"
             },
             "line": {
              "color": "white"
             }
            },
            "type": "table"
           }
          ]
         },
         "layout": {
          "annotationdefaults": {
           "arrowcolor": "#2a3f5f",
           "arrowhead": 0,
           "arrowwidth": 1
          },
          "autotypenumbers": "strict",
          "coloraxis": {
           "colorbar": {
            "outlinewidth": 0,
            "ticks": ""
           }
          },
          "colorscale": {
           "diverging": [
            [
             0,
             "#8e0152"
            ],
            [
             0.1,
             "#c51b7d"
            ],
            [
             0.2,
             "#de77ae"
            ],
            [
             0.3,
             "#f1b6da"
            ],
            [
             0.4,
             "#fde0ef"
            ],
            [
             0.5,
             "#f7f7f7"
            ],
            [
             0.6,
             "#e6f5d0"
            ],
            [
             0.7,
             "#b8e186"
            ],
            [
             0.8,
             "#7fbc41"
            ],
            [
             0.9,
             "#4d9221"
            ],
            [
             1,
             "#276419"
            ]
           ],
           "sequential": [
            [
             0,
             "#0d0887"
            ],
            [
             0.1111111111111111,
             "#46039f"
            ],
            [
             0.2222222222222222,
             "#7201a8"
            ],
            [
             0.3333333333333333,
             "#9c179e"
            ],
            [
             0.4444444444444444,
             "#bd3786"
            ],
            [
             0.5555555555555556,
             "#d8576b"
            ],
            [
             0.6666666666666666,
             "#ed7953"
            ],
            [
             0.7777777777777778,
             "#fb9f3a"
            ],
            [
             0.8888888888888888,
             "#fdca26"
            ],
            [
             1,
             "#f0f921"
            ]
           ],
           "sequentialminus": [
            [
             0,
             "#0d0887"
            ],
            [
             0.1111111111111111,
             "#46039f"
            ],
            [
             0.2222222222222222,
             "#7201a8"
            ],
            [
             0.3333333333333333,
             "#9c179e"
            ],
            [
             0.4444444444444444,
             "#bd3786"
            ],
            [
             0.5555555555555556,
             "#d8576b"
            ],
            [
             0.6666666666666666,
             "#ed7953"
            ],
            [
             0.7777777777777778,
             "#fb9f3a"
            ],
            [
             0.8888888888888888,
             "#fdca26"
            ],
            [
             1,
             "#f0f921"
            ]
           ]
          },
          "colorway": [
           "#636efa",
           "#EF553B",
           "#00cc96",
           "#ab63fa",
           "#FFA15A",
           "#19d3f3",
           "#FF6692",
           "#B6E880",
           "#FF97FF",
           "#FECB52"
          ],
          "font": {
           "color": "#2a3f5f"
          },
          "geo": {
           "bgcolor": "white",
           "lakecolor": "white",
           "landcolor": "white",
           "showlakes": true,
           "showland": true,
           "subunitcolor": "#C8D4E3"
          },
          "hoverlabel": {
           "align": "left"
          },
          "hovermode": "closest",
          "mapbox": {
           "style": "light"
          },
          "paper_bgcolor": "white",
          "plot_bgcolor": "white",
          "polar": {
           "angularaxis": {
            "gridcolor": "#EBF0F8",
            "linecolor": "#EBF0F8",
            "ticks": ""
           },
           "bgcolor": "white",
           "radialaxis": {
            "gridcolor": "#EBF0F8",
            "linecolor": "#EBF0F8",
            "ticks": ""
           }
          },
          "scene": {
           "xaxis": {
            "backgroundcolor": "white",
            "gridcolor": "#DFE8F3",
            "gridwidth": 2,
            "linecolor": "#EBF0F8",
            "showbackground": true,
            "ticks": "",
            "zerolinecolor": "#EBF0F8"
           },
           "yaxis": {
            "backgroundcolor": "white",
            "gridcolor": "#DFE8F3",
            "gridwidth": 2,
            "linecolor": "#EBF0F8",
            "showbackground": true,
            "ticks": "",
            "zerolinecolor": "#EBF0F8"
           },
           "zaxis": {
            "backgroundcolor": "white",
            "gridcolor": "#DFE8F3",
            "gridwidth": 2,
            "linecolor": "#EBF0F8",
            "showbackground": true,
            "ticks": "",
            "zerolinecolor": "#EBF0F8"
           }
          },
          "shapedefaults": {
           "line": {
            "color": "#2a3f5f"
           }
          },
          "ternary": {
           "aaxis": {
            "gridcolor": "#DFE8F3",
            "linecolor": "#A2B1C6",
            "ticks": ""
           },
           "baxis": {
            "gridcolor": "#DFE8F3",
            "linecolor": "#A2B1C6",
            "ticks": ""
           },
           "bgcolor": "white",
           "caxis": {
            "gridcolor": "#DFE8F3",
            "linecolor": "#A2B1C6",
            "ticks": ""
           }
          },
          "title": {
           "x": 0.05
          },
          "xaxis": {
           "automargin": true,
           "gridcolor": "#EBF0F8",
           "linecolor": "#EBF0F8",
           "ticks": "",
           "title": {
            "standoff": 15
           },
           "zerolinecolor": "#EBF0F8",
           "zerolinewidth": 2
          },
          "yaxis": {
           "automargin": true,
           "gridcolor": "#EBF0F8",
           "linecolor": "#EBF0F8",
           "ticks": "",
           "title": {
            "standoff": 15
           },
           "zerolinecolor": "#EBF0F8",
           "zerolinewidth": 2
          }
         }
        },
        "title": {
         "font": {
          "color": "Black",
          "size": 22
         },
         "text": "<b>Hierarchical Clustering</b>",
         "x": 0.5,
         "xanchor": "center",
         "yanchor": "top"
        },
        "width": 1000,
        "xaxis": {
         "mirror": "allticks",
         "rangemode": "tozero",
         "showgrid": false,
         "showline": true,
         "showticklabels": true,
         "ticks": "outside",
         "type": "linear",
         "zeroline": false
        },
        "yaxis": {
         "mirror": "allticks",
         "range": [
          -40,
          0
         ],
         "rangemode": "tozero",
         "showgrid": false,
         "showline": true,
         "showticklabels": true,
         "tickmode": "array",
         "ticks": "outside",
         "ticktext": [
          "1_calm_peace_peaceful",
          "2_music_journey_time",
          "0_saw_colours_shapes",
          "3_thoughts_people_mind"
         ],
         "tickvals": [
          -5,
          -15,
          -25,
          -35
         ],
         "type": "linear",
         "zeroline": false
        }
       }
      }
     },
     "metadata": {},
     "output_type": "display_data"
    }
   ],
   "source": [
    "model.visualize_hierarchy(top_n_topics=10)"
   ]
  },
  {
   "attachments": {},
   "cell_type": "markdown",
   "metadata": {},
   "source": [
    "### Get the top 3 topics"
   ]
  },
  {
   "cell_type": "code",
   "execution_count": 13,
   "metadata": {},
   "outputs": [
    {
     "data": {
      "text/plain": [
       "([-1, 2, 1, 3, 0], [0.44342372, 0.40855578, 0.3522855, 0.3458519, 0.27525026])"
      ]
     },
     "execution_count": 13,
     "metadata": {},
     "output_type": "execute_result"
    }
   ],
   "source": [
    "similarities = model.find_topics(\"lsd\") #Find topics similar to the word \"lsd\"\n",
    "similarities"
   ]
  },
  {
   "cell_type": "code",
   "execution_count": 14,
   "metadata": {},
   "outputs": [
    {
     "name": "stdout",
     "output_type": "stream",
     "text": [
      "[3, -1, 2]\n",
      "3\n",
      "Similarity score:  0.50117236\n",
      "Most similar topic:  [('thoughts', 0.11511872942566102), ('people', 0.05946469796879344), ('mind', 0.05588273898458631), ('brain', 0.0535695718142471), ('dreaming', 0.049510777611201394), ('thought', 0.04592873505362611), ('walking', 0.040826156409567674), ('something', 0.03898645705312494), ('towards', 0.037797255885579764), ('see', 0.03725515932305754)]\n"
     ]
    }
   ],
   "source": [
    "# Select the 3 most similar topics\n",
    "similar_topics, similarity = model.find_topics(\"hallucination\", top_n=3) #Find the 5 most similar topics to the word \"lsd\"\n",
    "print(similar_topics) #Print the 3 most similar topics : index from the most similar to the least similar\n",
    "\n",
    "\n",
    "most_similar_topics = similar_topics[0] #Get the most similar topic\n",
    "print(most_similar_topics) #Print the most similar topic\n",
    "print(\"Similarity score: \", similarity[0]) #Print the similarity score\n",
    "print(\"Most similar topic: \", model.get_topic(most_similar_topics)) #Print the most similar topic"
   ]
  },
  {
   "cell_type": "code",
   "execution_count": 15,
   "metadata": {},
   "outputs": [],
   "source": [
    "# %%bash\n",
    "# mkdir -p ~/projects/TopicModelling_META/TopMod_pipeline/BERT_outputs"
   ]
  },
  {
   "cell_type": "code",
   "execution_count": 16,
   "metadata": {},
   "outputs": [],
   "source": [
    "\n",
    "\n",
    "# BERT_model_name = f\"BERT_model_{condition}\"\n",
    "# model.save(os.path.join(\"BERT_outputs\",BERT_model_name)) #Save model\n",
    "\n",
    "# BERT_model = BERTopic.load(BERT_model_name)\n",
    "# BERT_model"
   ]
  }
 ],
 "metadata": {
  "kernelspec": {
   "display_name": "topmodvenv",
   "language": "python",
   "name": "python3"
  },
  "language_info": {
   "codemirror_mode": {
    "name": "ipython",
    "version": 3
   },
   "file_extension": ".py",
   "mimetype": "text/x-python",
   "name": "python",
   "nbconvert_exporter": "python",
   "pygments_lexer": "ipython3",
   "version": "3.11.3"
  },
  "orig_nbformat": 4
 },
 "nbformat": 4,
 "nbformat_minor": 2
}
