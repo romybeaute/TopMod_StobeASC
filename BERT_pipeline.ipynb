{
 "cells": [
  {
   "cell_type": "code",
   "execution_count": 18,
   "metadata": {},
   "outputs": [],
   "source": [
    "\n",
    "\n",
    "import pandas as pd\n",
    "import os \n",
    "from pathlib import Path\n",
    "from bertopic import BERTopic\n",
    "import re \n",
    "from nltk.corpus import stopwords\n",
    "\n",
    "\n",
    "\n",
    "condition = \"Dreamachine\"\n",
    "remove_stopwords = True\n",
    "extended_stopwords = True\n",
    "\n",
    "metaproject_name = 'TopicModelling_META'\n",
    "subproject_name = 'TopMod_pipeline'\n",
    "dataset_name = f'{condition}_dataset.csv'\n",
    "\n",
    "\n",
    "PROJDIR = os.path.expanduser(f\"~/projects/{metaproject_name}\")\n",
    "DATADIR = os.path.join(PROJDIR,f'DATA/{dataset_name}')\n",
    "CODEDIR = os.path.join(PROJDIR,f'{subproject_name}')\n",
    "\n",
    "reports = pd.read_csv(DATADIR,usecols=['text']).dropna()\n",
    "reports.head()\n",
    "\n",
    "\n",
    "%matplotlib inline"
   ]
  },
  {
   "cell_type": "code",
   "execution_count": 19,
   "metadata": {},
   "outputs": [
    {
     "data": {
      "text/plain": [
       "377"
      ]
     },
     "execution_count": 19,
     "metadata": {},
     "output_type": "execute_result"
    }
   ],
   "source": [
    "len(reports)"
   ]
  },
  {
   "cell_type": "code",
   "execution_count": 20,
   "metadata": {},
   "outputs": [
    {
     "data": {
      "text/plain": [
       "0    the colours made patterns when i had my eyes c...\n",
       "1    intense chaos and then my mind checked out and...\n",
       "2                                       good stuff\\r\\n\n",
       "3    a pattern of red and white lights thatflashed ...\n",
       "4    i wentback to many hard and mostly beautiful m...\n",
       "Name: text_processed, dtype: object"
      ]
     },
     "execution_count": 20,
     "metadata": {},
     "output_type": "execute_result"
    }
   ],
   "source": [
    "# Remove punctuation\n",
    "def process_text(x):\n",
    "    if isinstance(x, str):  # check if x is of type string\n",
    "        x = re.sub('[,\\.!?;]', '', x)  # if it is, do the replacement\n",
    "        x = re.sub('^[0-9]+', '', x)  # remove initial numbers\n",
    "        return x.lower()\n",
    "    else:\n",
    "        return \"\"  # otherwise, return an empty string or you can convert it to string by using `return str(x)`\n",
    "\n",
    "reports['text_processed'] = reports['text'].map(process_text)\n",
    "\n",
    "# Convert the titles to lowercase\n",
    "reports['text_processed'] = reports['text_processed'].map(lambda x: x.lower())\n",
    "\n",
    "# Print out the first rows of papers\n",
    "reports['text_processed'].head()"
   ]
  },
  {
   "cell_type": "code",
   "execution_count": 21,
   "metadata": {},
   "outputs": [
    {
     "name": "stdout",
     "output_type": "stream",
     "text": [
      "179\n",
      "187\n",
      "Removing stopwords\n"
     ]
    }
   ],
   "source": [
    "from nltk.corpus import stopwords\n",
    "stop_words = stopwords.words('english')\n",
    "print(len(stop_words))\n",
    "\n",
    "extended_stopwords_list = ['dreamachine','machine','end','felt','experience','like','first','anxiety']\n",
    "if extended_stopwords:\n",
    "    stop_words.extend(extended_stopwords_list)\n",
    "    print(len(stop_words))\n",
    "\n",
    "reports['text_without_stopwords'] = reports['text_processed'].apply(lambda x: ' '.join([word for word in x.split() if word not in (stop_words)]))\n",
    "\n",
    "if remove_stopwords:\n",
    "    print('Removing stopwords')\n",
    "    reports['text_processed'] = reports['text_without_stopwords']"
   ]
  },
  {
   "cell_type": "code",
   "execution_count": 22,
   "metadata": {},
   "outputs": [
    {
     "name": "stdout",
     "output_type": "stream",
     "text": [
      "count    377.000000\n",
      "mean      11.021220\n",
      "std       10.453777\n",
      "min        1.000000\n",
      "25%        4.000000\n",
      "50%        8.000000\n",
      "75%       15.000000\n",
      "max       67.000000\n",
      "Name: report_length, dtype: float64\n",
      "The mean report length is 11 words.\n",
      "The longest report has 67 words.\n"
     ]
    },
    {
     "data": {
      "image/png": "[encoded data removed]",
      "text/plain": [
       "<Figure size 640x480 with 1 Axes>"
      ]
     },
     "metadata": {},
     "output_type": "display_data"
    }
   ],
   "source": [
    "reports[\"report_length\"] = reports[\"text_processed\"].apply(lambda x: len(x.split(\" \")))   # count words in each report\n",
    "\n",
    "#Visualize the distribution of report lengths\n",
    "import matplotlib.pyplot as plt\n",
    "import seaborn as sns\n",
    "sns.set_style('whitegrid')\n",
    "# get_ipython().run_line_magic('matplotlib', 'inline')\n",
    "sns.distplot(reports['report_length'], kde=False, color='blue', bins=100)\n",
    "\n",
    "print(reports['report_length'].describe())\n",
    "print(\"The mean report length is {} words.\".format(round(reports['report_length'].mean())))\n",
    "print(\"The longest report has {} words.\".format(max(reports['report_length'])))"
   ]
  },
  {
   "attachments": {},
   "cell_type": "markdown",
   "metadata": {},
   "source": [
    "## BERTopic\n",
    "\n",
    "https://miro.medium.com/v2/resize:fit:4800/format:webp/0*DxAqCqx6dzg0KQlg.png"
   ]
  },
  {
   "attachments": {},
   "cell_type": "markdown",
   "metadata": {},
   "source": [
    "### Training the BERT model"
   ]
  },
  {
   "cell_type": "code",
   "execution_count": 23,
   "metadata": {},
   "outputs": [
    {
     "data": {
      "application/vnd.jupyter.widget-view+json": {
       "model_id": "23dd6bcceddf4ad1930d3b7a993a4c1b",
       "version_major": 2,
       "version_minor": 0
      },
      "text/plain": [
       "Batches:   0%|          | 0/12 [00:00<?, ?it/s]"
      ]
     },
     "metadata": {},
     "output_type": "display_data"
    },
    {
     "name": "stderr",
     "output_type": "stream",
     "text": [
      "2023-08-11 11:33:59,816 - BERTopic - Transformed documents to Embeddings\n",
      "2023-08-11 11:34:00,855 - BERTopic - Reduced dimensionality\n",
      "2023-08-11 11:34:00,866 - BERTopic - Clustered reduced embeddings\n"
     ]
    },
    {
     "data": {
      "application/vnd.plotly.v1+json": {
       "config": {
        "plotlyServerURL": "https://plot.ly"
       },
       "data": [
        {
         "customdata": [
          [
           0,
           "saw | colours | moving | shapes | space",
           133
          ],
          [
           1,
           "calm | peace | relaxed | joy | interesting",
           52
          ],
          [
           2,
           "music | journey | much | calming | mind",
           34
          ],
          [
           3,
           "thoughts | people | mind | thought | brain",
           29
          ]
         ],
         "hovertemplate": "<b>Topic %{customdata[0]}</b><br>%{customdata[1]}<br>Size: %{customdata[2]}",
         "legendgroup": "",
         "marker": {
          "color": "#B0BEC5",
          "line": {
           "color": "DarkSlateGrey",
           "width": 2
          },
          "size": [
           133,
           52,
           34,
           29
          ],
          "sizemode": "area",
          "sizeref": 0.083125,
          "symbol": "circle"
         },
         "mode": "markers",
         "name": "",
         "orientation": "v",
         "showlegend": false,
         "type": "scatter",
         "x": [
          10.343957901000977,
          9.118440628051758,
          8.967367172241211,
          9.512979507446289
         ],
         "xaxis": "x",
         "y": [
          15.577096939086914,
          17.183073043823242,
          16.373056411743164,
          15.556392669677734
         ],
         "yaxis": "y"
        }
       ],
       "layout": {
        "annotations": [
         {
          "showarrow": false,
          "text": "D1",
          "x": 7.622262096405029,
          "y": 16.491733884811403,
          "yshift": 10
         },
         {
          "showarrow": false,
          "text": "D2",
          "x": 9.758906841278076,
          "xshift": 10,
          "y": 19.760534000396728
         }
        ],
        "height": 650,
        "hoverlabel": {
         "bgcolor": "white",
         "font": {
          "family": "Rockwell",
          "size": 16
         }
        },
        "legend": {
         "itemsizing": "constant",
         "tracegroupgap": 0
        },
        "margin": {
         "t": 60
        },
        "shapes": [
         {
          "line": {
           "color": "#CFD8DC",
           "width": 2
          },
          "type": "line",
          "x0": 9.758906841278076,
          "x1": 9.758906841278076,
          "y0": 13.222933769226074,
          "y1": 19.760534000396728
         },
         {
          "line": {
           "color": "#9E9E9E",
           "width": 2
          },
          "type": "line",
          "x0": 7.622262096405029,
          "x1": 11.895551586151123,
          "y0": 16.491733884811403,
          "y1": 16.491733884811403
         }
        ],
        "sliders": [
         {
          "active": 0,
          "pad": {
           "t": 50
          },
          "steps": [
           {
            "args": [
             {
              "marker.color": [
               [
                "red",
                "#B0BEC5",
                "#B0BEC5",
                "#B0BEC5"
               ]
              ]
             }
            ],
            "label": "Topic 0",
            "method": "update"
           },
           {
            "args": [
             {
              "marker.color": [
               [
                "#B0BEC5",
                "red",
                "#B0BEC5",
                "#B0BEC5"
               ]
              ]
             }
            ],
            "label": "Topic 1",
            "method": "update"
           },
           {
            "args": [
             {
              "marker.color": [
               [
                "#B0BEC5",
                "#B0BEC5",
                "red",
                "#B0BEC5"
               ]
              ]
             }
            ],
            "label": "Topic 2",
            "method": "update"
           },
           {
            "args": [
             {
              "marker.color": [
               [
                "#B0BEC5",
                "#B0BEC5",
                "#B0BEC5",
                "red"
               ]
              ]
             }
            ],
            "label": "Topic 3",
            "method": "update"
           }
          ]
         }
        ],
        "template": {
         "data": {
          "bar": [
           {
            "error_x": {
             "color": "rgb(36,36,36)"
            },
            "error_y": {
             "color": "rgb(36,36,36)"
            },
            "marker": {
             "line": {
              "color": "white",
              "width": 0.5
             },
             "pattern": {
              "fillmode": "overlay",
              "size": 10,
              "solidity": 0.2
             }
            },
            "type": "bar"
           }
          ],
          "barpolar": [
           {
            "marker": {
             "line": {
              "color": "white",
              "width": 0.5
             },
             "pattern": {
              "fillmode": "overlay",
              "size": 10,
              "solidity": 0.2
             }
            },
            "type": "barpolar"
           }
          ],
          "carpet": [
           {
            "aaxis": {
             "endlinecolor": "rgb(36,36,36)",
             "gridcolor": "white",
             "linecolor": "white",
             "minorgridcolor": "white",
             "startlinecolor": "rgb(36,36,36)"
            },
            "baxis": {
             "endlinecolor": "rgb(36,36,36)",
             "gridcolor": "white",
             "linecolor": "white",
             "minorgridcolor": "white",
             "startlinecolor": "rgb(36,36,36)"
            },
            "type": "carpet"
           }
          ],
          "choropleth": [
           {
            "colorbar": {
             "outlinewidth": 1,
             "tickcolor": "rgb(36,36,36)",
             "ticks": "outside"
            },
            "type": "choropleth"
           }
          ],
          "contour": [
           {
            "colorbar": {
             "outlinewidth": 1,
             "tickcolor": "rgb(36,36,36)",
             "ticks": "outside"
            },
            "colorscale": [
             [
              0,
              "#440154"
             ],
             [
              0.1111111111111111,
              "#482878"
             ],
             [
              0.2222222222222222,
              "#3e4989"
             ],
             [
              0.3333333333333333,
              "#31688e"
             ],
             [
              0.4444444444444444,
              "#26828e"
             ],
             [
              0.5555555555555556,
              "#1f9e89"
             ],
             [
              0.6666666666666666,
              "#35b779"
             ],
             [
              0.7777777777777778,
              "#6ece58"
             ],
             [
              0.8888888888888888,
              "#b5de2b"
             ],
             [
              1,
              "#fde725"
             ]
            ],
            "type": "contour"
           }
          ],
          "contourcarpet": [
           {
            "colorbar": {
             "outlinewidth": 1,
             "tickcolor": "rgb(36,36,36)",
             "ticks": "outside"
            },
            "type": "contourcarpet"
           }
          ],
          "heatmap": [
           {
            "colorbar": {
             "outlinewidth": 1,
             "tickcolor": "rgb(36,36,36)",
             "ticks": "outside"
            },
            "colorscale": [
             [
              0,
              "#440154"
             ],
             [
              0.1111111111111111,
              "#482878"
             ],
             [
              0.2222222222222222,
              "#3e4989"
             ],
             [
              0.3333333333333333,
              "#31688e"
             ],
             [
              0.4444444444444444,
              "#26828e"
             ],
             [
              0.5555555555555556,
              "#1f9e89"
             ],
             [
              0.6666666666666666,
              "#35b779"
             ],
             [
              0.7777777777777778,
              "#6ece58"
             ],
             [
              0.8888888888888888,
              "#b5de2b"
             ],
             [
              1,
              "#fde725"
             ]
            ],
            "type": "heatmap"
           }
          ],
          "heatmapgl": [
           {
            "colorbar": {
             "outlinewidth": 1,
             "tickcolor": "rgb(36,36,36)",
             "ticks": "outside"
            },
            "colorscale": [
             [
              0,
              "#440154"
             ],
             [
              0.1111111111111111,
              "#482878"
             ],
             [
              0.2222222222222222,
              "#3e4989"
             ],
             [
              0.3333333333333333,
              "#31688e"
             ],
             [
              0.4444444444444444,
              "#26828e"
             ],
             [
              0.5555555555555556,
              "#1f9e89"
             ],
             [
              0.6666666666666666,
              "#35b779"
             ],
             [
              0.7777777777777778,
              "#6ece58"
             ],
             [
              0.8888888888888888,
              "#b5de2b"
             ],
             [
              1,
              "#fde725"
             ]
            ],
            "type": "heatmapgl"
           }
          ],
          "histogram": [
           {
            "marker": {
             "line": {
              "color": "white",
              "width": 0.6
             }
            },
            "type": "histogram"
           }
          ],
          "histogram2d": [
           {
            "colorbar": {
             "outlinewidth": 1,
             "tickcolor": "rgb(36,36,36)",
             "ticks": "outside"
            },
            "colorscale": [
             [
              0,
              "#440154"
             ],
             [
              0.1111111111111111,
              "#482878"
             ],
             [
              0.2222222222222222,
              "#3e4989"
             ],
             [
              0.3333333333333333,
              "#31688e"
             ],
             [
              0.4444444444444444,
              "#26828e"
             ],
             [
              0.5555555555555556,
              "#1f9e89"
             ],
             [
              0.6666666666666666,
              "#35b779"
             ],
             [
              0.7777777777777778,
              "#6ece58"
             ],
             [
              0.8888888888888888,
              "#b5de2b"
             ],
             [
              1,
              "#fde725"
             ]
            ],
            "type": "histogram2d"
           }
          ],
          "histogram2dcontour": [
           {
            "colorbar": {
             "outlinewidth": 1,
             "tickcolor": "rgb(36,36,36)",
             "ticks": "outside"
            },
            "colorscale": [
             [
              0,
              "#440154"
             ],
             [
              0.1111111111111111,
              "#482878"
             ],
             [
              0.2222222222222222,
              "#3e4989"
             ],
             [
              0.3333333333333333,
              "#31688e"
             ],
             [
              0.4444444444444444,
              "#26828e"
             ],
             [
              0.5555555555555556,
              "#1f9e89"
             ],
             [
              0.6666666666666666,
              "#35b779"
             ],
             [
              0.7777777777777778,
              "#6ece58"
             ],
             [
              0.8888888888888888,
              "#b5de2b"
             ],
             [
              1,
              "#fde725"
             ]
            ],
            "type": "histogram2dcontour"
           }
          ],
          "mesh3d": [
           {
            "colorbar": {
             "outlinewidth": 1,
             "tickcolor": "rgb(36,36,36)",
             "ticks": "outside"
            },
            "type": "mesh3d"
           }
          ],
          "parcoords": [
           {
            "line": {
             "colorbar": {
              "outlinewidth": 1,
              "tickcolor": "rgb(36,36,36)",
              "ticks": "outside"
             }
            },
            "type": "parcoords"
           }
          ],
          "pie": [
           {
            "automargin": true,
            "type": "pie"
           }
          ],
          "scatter": [
           {
            "fillpattern": {
             "fillmode": "overlay",
             "size": 10,
             "solidity": 0.2
            },
            "type": "scatter"
           }
          ],
          "scatter3d": [
           {
            "line": {
             "colorbar": {
              "outlinewidth": 1,
              "tickcolor": "rgb(36,36,36)",
              "ticks": "outside"
             }
            },
            "marker": {
             "colorbar": {
              "outlinewidth": 1,
              "tickcolor": "rgb(36,36,36)",
              "ticks": "outside"
             }
            },
            "type": "scatter3d"
           }
          ],
          "scattercarpet": [
           {
            "marker": {
             "colorbar": {
              "outlinewidth": 1,
              "tickcolor": "rgb(36,36,36)",
              "ticks": "outside"
             }
            },
            "type": "scattercarpet"
           }
          ],
          "scattergeo": [
           {
            "marker": {
             "colorbar": {
              "outlinewidth": 1,
              "tickcolor": "rgb(36,36,36)",
              "ticks": "outside"
             }
            },
            "type": "scattergeo"
           }
          ],
          "scattergl": [
           {
            "marker": {
             "colorbar": {
              "outlinewidth": 1,
              "tickcolor": "rgb(36,36,36)",
              "ticks": "outside"
             }
            },
            "type": "scattergl"
           }
          ],
          "scattermapbox": [
           {
            "marker": {
             "colorbar": {
              "outlinewidth": 1,
              "tickcolor": "rgb(36,36,36)",
              "ticks": "outside"
             }
            },
            "type": "scattermapbox"
           }
          ],
          "scatterpolar": [
           {
            "marker": {
             "colorbar": {
              "outlinewidth": 1,
              "tickcolor": "rgb(36,36,36)",
              "ticks": "outside"
             }
            },
            "type": "scatterpolar"
           }
          ],
          "scatterpolargl": [
           {
            "marker": {
             "colorbar": {
              "outlinewidth": 1,
              "tickcolor": "rgb(36,36,36)",
              "ticks": "outside"
             }
            },
            "type": "scatterpolargl"
           }
          ],
          "scatterternary": [
           {
            "marker": {
             "colorbar": {
              "outlinewidth": 1,
              "tickcolor": "rgb(36,36,36)",
              "ticks": "outside"
             }
            },
            "type": "scatterternary"
           }
          ],
          "surface": [
           {
            "colorbar": {
             "outlinewidth": 1,
             "tickcolor": "rgb(36,36,36)",
             "ticks": "outside"
            },
            "colorscale": [
             [
              0,
              "#440154"
             ],
             [
              0.1111111111111111,
              "#482878"
             ],
             [
              0.2222222222222222,
              "#3e4989"
             ],
             [
              0.3333333333333333,
              "#31688e"
             ],
             [
              0.4444444444444444,
              "#26828e"
             ],
             [
              0.5555555555555556,
              "#1f9e89"
             ],
             [
              0.6666666666666666,
              "#35b779"
             ],
             [
              0.7777777777777778,
              "#6ece58"
             ],
             [
              0.8888888888888888,
              "#b5de2b"
             ],
             [
              1,
              "#fde725"
             ]
            ],
            "type": "surface"
           }
          ],
          "table": [
           {
            "cells": {
             "fill": {
              "color": "rgb(237,237,237)"
             },
             "line": {
              "color": "white"
             }
            },
            "header": {
             "fill": {
              "color": "rgb(217,217,217)"
             },
             "line": {
              "color": "white"
             }
            },
            "type": "table"
           }
          ]
         },
         "layout": {
          "annotationdefaults": {
           "arrowhead": 0,
           "arrowwidth": 1
          },
          "autotypenumbers": "strict",
          "coloraxis": {
           "colorbar": {
            "outlinewidth": 1,
            "tickcolor": "rgb(36,36,36)",
            "ticks": "outside"
           }
          },
          "colorscale": {
           "diverging": [
            [
             0,
             "rgb(103,0,31)"
            ],
            [
             0.1,
             "rgb(178,24,43)"
            ],
            [
             0.2,
             "rgb(214,96,77)"
            ],
            [
             0.3,
             "rgb(244,165,130)"
            ],
            [
             0.4,
             "rgb(253,219,199)"
            ],
            [
             0.5,
             "rgb(247,247,247)"
            ],
            [
             0.6,
             "rgb(209,229,240)"
            ],
            [
             0.7,
             "rgb(146,197,222)"
            ],
            [
             0.8,
             "rgb(67,147,195)"
            ],
            [
             0.9,
             "rgb(33,102,172)"
            ],
            [
             1,
             "rgb(5,48,97)"
            ]
           ],
           "sequential": [
            [
             0,
             "#440154"
            ],
            [
             0.1111111111111111,
             "#482878"
            ],
            [
             0.2222222222222222,
             "#3e4989"
            ],
            [
             0.3333333333333333,
             "#31688e"
            ],
            [
             0.4444444444444444,
             "#26828e"
            ],
            [
             0.5555555555555556,
             "#1f9e89"
            ],
            [
             0.6666666666666666,
             "#35b779"
            ],
            [
             0.7777777777777778,
             "#6ece58"
            ],
            [
             0.8888888888888888,
             "#b5de2b"
            ],
            [
             1,
             "#fde725"
            ]
           ],
           "sequentialminus": [
            [
             0,
             "#440154"
            ],
            [
             0.1111111111111111,
             "#482878"
            ],
            [
             0.2222222222222222,
             "#3e4989"
            ],
            [
             0.3333333333333333,
             "#31688e"
            ],
            [
             0.4444444444444444,
             "#26828e"
            ],
            [
             0.5555555555555556,
             "#1f9e89"
            ],
            [
             0.6666666666666666,
             "#35b779"
            ],
            [
             0.7777777777777778,
             "#6ece58"
            ],
            [
             0.8888888888888888,
             "#b5de2b"
            ],
            [
             1,
             "#fde725"
            ]
           ]
          },
          "colorway": [
           "#1F77B4",
           "#FF7F0E",
           "#2CA02C",
           "#D62728",
           "#9467BD",
           "#8C564B",
           "#E377C2",
           "#7F7F7F",
           "#BCBD22",
           "#17BECF"
          ],
          "font": {
           "color": "rgb(36,36,36)"
          },
          "geo": {
           "bgcolor": "white",
           "lakecolor": "white",
           "landcolor": "white",
           "showlakes": true,
           "showland": true,
           "subunitcolor": "white"
          },
          "hoverlabel": {
           "align": "left"
          },
          "hovermode": "closest",
          "mapbox": {
           "style": "light"
          },
          "paper_bgcolor": "white",
          "plot_bgcolor": "white",
          "polar": {
           "angularaxis": {
            "gridcolor": "rgb(232,232,232)",
            "linecolor": "rgb(36,36,36)",
            "showgrid": false,
            "showline": true,
            "ticks": "outside"
           },
           "bgcolor": "white",
           "radialaxis": {
            "gridcolor": "rgb(232,232,232)",
            "linecolor": "rgb(36,36,36)",
            "showgrid": false,
            "showline": true,
            "ticks": "outside"
           }
          },
          "scene": {
           "xaxis": {
            "backgroundcolor": "white",
            "gridcolor": "rgb(232,232,232)",
            "gridwidth": 2,
            "linecolor": "rgb(36,36,36)",
            "showbackground": true,
            "showgrid": false,
            "showline": true,
            "ticks": "outside",
            "zeroline": false,
            "zerolinecolor": "rgb(36,36,36)"
           },
           "yaxis": {
            "backgroundcolor": "white",
            "gridcolor": "rgb(232,232,232)",
            "gridwidth": 2,
            "linecolor": "rgb(36,36,36)",
            "showbackground": true,
            "showgrid": false,
            "showline": true,
            "ticks": "outside",
            "zeroline": false,
            "zerolinecolor": "rgb(36,36,36)"
           },
           "zaxis": {
            "backgroundcolor": "white",
            "gridcolor": "rgb(232,232,232)",
            "gridwidth": 2,
            "linecolor": "rgb(36,36,36)",
            "showbackground": true,
            "showgrid": false,
            "showline": true,
            "ticks": "outside",
            "zeroline": false,
            "zerolinecolor": "rgb(36,36,36)"
           }
          },
          "shapedefaults": {
           "fillcolor": "black",
           "line": {
            "width": 0
           },
           "opacity": 0.3
          },
          "ternary": {
           "aaxis": {
            "gridcolor": "rgb(232,232,232)",
            "linecolor": "rgb(36,36,36)",
            "showgrid": false,
            "showline": true,
            "ticks": "outside"
           },
           "baxis": {
            "gridcolor": "rgb(232,232,232)",
            "linecolor": "rgb(36,36,36)",
            "showgrid": false,
            "showline": true,
            "ticks": "outside"
           },
           "bgcolor": "white",
           "caxis": {
            "gridcolor": "rgb(232,232,232)",
            "linecolor": "rgb(36,36,36)",
            "showgrid": false,
            "showline": true,
            "ticks": "outside"
           }
          },
          "title": {
           "x": 0.05
          },
          "xaxis": {
           "automargin": true,
           "gridcolor": "rgb(232,232,232)",
           "linecolor": "rgb(36,36,36)",
           "showgrid": false,
           "showline": true,
           "ticks": "outside",
           "title": {
            "standoff": 15
           },
           "zeroline": false,
           "zerolinecolor": "rgb(36,36,36)"
          },
          "yaxis": {
           "automargin": true,
           "gridcolor": "rgb(232,232,232)",
           "linecolor": "rgb(36,36,36)",
           "showgrid": false,
           "showline": true,
           "ticks": "outside",
           "title": {
            "standoff": 15
           },
           "zeroline": false,
           "zerolinecolor": "rgb(36,36,36)"
          }
         }
        },
        "title": {
         "font": {
          "color": "Black",
          "size": 22
         },
         "text": "<b>Intertopic Distance Map</b>",
         "x": 0.5,
         "xanchor": "center",
         "y": 0.95,
         "yanchor": "top"
        },
        "width": 650,
        "xaxis": {
         "anchor": "y",
         "domain": [
          0,
          1
         ],
         "range": [
          7.622262096405029,
          11.895551586151123
         ],
         "title": {
          "text": ""
         },
         "visible": false
        },
        "yaxis": {
         "anchor": "x",
         "domain": [
          0,
          1
         ],
         "range": [
          13.222933769226074,
          19.760534000396728
         ],
         "title": {
          "text": ""
         },
         "visible": false
        }
       }
      }
     },
     "metadata": {},
     "output_type": "display_data"
    }
   ],
   "source": [
    "from bertopic import BERTopic\n",
    "\n",
    "model = BERTopic(language=\"english\", calculate_probabilities=True, verbose=True,embedding_model=\"all-MiniLM-L6-v2\",min_topic_size=11) #The higher the value of min_topic_size, the more specific the topics will be\n",
    "topics, probs = model.fit_transform(reports['text_processed']) #Fit model to data : topics are the topic labels for each document, probs are the probabilities of each topic for each document\n",
    "model.visualize_topics() #Visualize topics"
   ]
  },
  {
   "attachments": {},
   "cell_type": "markdown",
   "metadata": {},
   "source": [
    "### Topic extraction and representation"
   ]
  },
  {
   "cell_type": "code",
   "execution_count": 24,
   "metadata": {},
   "outputs": [
    {
     "name": "stdout",
     "output_type": "stream",
     "text": [
      "N number of topics:  5\n",
      "   Topic  Count                            Name  \\\n",
      "0     -1    129       -1_images_time_sense_body   \n",
      "1      0    133     0_saw_colours_moving_shapes   \n",
      "2      1     52        1_calm_peace_relaxed_joy   \n",
      "3      2     34    2_music_journey_much_calming   \n",
      "4      3     29  3_thoughts_people_mind_thought   \n",
      "\n",
      "                                      Representation  \\\n",
      "0  [images, time, sense, body, would, feel, memor...   \n",
      "1  [saw, colours, moving, shapes, space, patterns...   \n",
      "2  [calm, peace, relaxed, joy, interesting, peace...   \n",
      "3  [music, journey, much, calming, mind, relaxing...   \n",
      "4  [thoughts, people, mind, thought, brain, walki...   \n",
      "\n",
      "                                 Representative_Docs  \n",
      "0  [thought fluffy speech writtenhealth safetyasp...  \n",
      "1  [saw different colour lights centre closed eye...  \n",
      "2  [calm, atei feel really relaxed would j try me...  \n",
      "3  [saw stars hexagons tesselating twisting zoomi...  \n",
      "4  [parents house figure room old house (shared e...  \n"
     ]
    }
   ],
   "source": [
    "topic_freq = model.get_topic_freq().head() #Get the frequency of each topic\n",
    "freq = model.get_topic_info() #Get the frequency of each topic\n",
    "print(\"N number of topics: \",len(freq))\n",
    "print(freq.head())\n"
   ]
  },
  {
   "cell_type": "code",
   "execution_count": 25,
   "metadata": {},
   "outputs": [
    {
     "data": {
      "text/plain": [
       "[('saw', 0.0629387502101422),\n",
       " ('colours', 0.043987401553254396),\n",
       " ('moving', 0.03889917251838383),\n",
       " ('shapes', 0.03729389803818802),\n",
       " ('space', 0.03563546006239163),\n",
       " ('patterns', 0.034405273014402854),\n",
       " ('light', 0.03402277464158612),\n",
       " ('blue', 0.033222758259246116),\n",
       " ('one', 0.03167596449990367),\n",
       " ('eyes', 0.029366604373643135)]"
      ]
     },
     "execution_count": 25,
     "metadata": {},
     "output_type": "execute_result"
    }
   ],
   "source": [
    "model.get_topic(0) #Get the most frequent words of the first topic (the words and their probabilities, ie TF-IDF scores)"
   ]
  },
  {
   "attachments": {},
   "cell_type": "markdown",
   "metadata": {},
   "source": [
    "## Prileminary visualisation"
   ]
  },
  {
   "cell_type": "code",
   "execution_count": 26,
   "metadata": {},
   "outputs": [
    {
     "data": {
      "application/vnd.plotly.v1+json": {
       "config": {
        "plotlyServerURL": "https://plot.ly"
       },
       "data": [
        {
         "marker": {
          "color": "#D55E00"
         },
         "orientation": "h",
         "type": "bar",
         "x": [
          0.03563546006239163,
          0.03729389803818802,
          0.03889917251838383,
          0.043987401553254396,
          0.0629387502101422
         ],
         "xaxis": "x",
         "y": [
          "space  ",
          "shapes  ",
          "moving  ",
          "colours  ",
          "saw  "
         ],
         "yaxis": "y"
        },
        {
         "marker": {
          "color": "#0072B2"
         },
         "orientation": "h",
         "type": "bar",
         "x": [
          0.08295700179441083,
          0.08805125581477487,
          0.1263368279970677,
          0.14618404917328384,
          0.17054805736883116
         ],
         "xaxis": "x2",
         "y": [
          "interesting  ",
          "joy  ",
          "relaxed  ",
          "peace  ",
          "calm  "
         ],
         "yaxis": "y2"
        },
        {
         "marker": {
          "color": "#CC79A7"
         },
         "orientation": "h",
         "type": "bar",
         "x": [
          0.028128666911193353,
          0.029253706365715195,
          0.029435844173565994,
          0.039586227973366826,
          0.17037886808459715
         ],
         "xaxis": "x3",
         "y": [
          "mind  ",
          "calming  ",
          "much  ",
          "journey  ",
          "music  "
         ],
         "yaxis": "y3"
        },
        {
         "marker": {
          "color": "#E69F00"
         },
         "orientation": "h",
         "type": "bar",
         "x": [
          0.04480857348715757,
          0.04802169006872806,
          0.05842929417882062,
          0.062174481673700474,
          0.1303950333937498
         ],
         "xaxis": "x4",
         "y": [
          "brain  ",
          "thought  ",
          "mind  ",
          "people  ",
          "thoughts  "
         ],
         "yaxis": "y4"
        }
       ],
       "layout": {
        "annotations": [
         {
          "font": {
           "size": 16
          },
          "showarrow": false,
          "text": "Topic 0",
          "x": 0.0875,
          "xanchor": "center",
          "xref": "paper",
          "y": 1,
          "yanchor": "bottom",
          "yref": "paper"
         },
         {
          "font": {
           "size": 16
          },
          "showarrow": false,
          "text": "Topic 1",
          "x": 0.36250000000000004,
          "xanchor": "center",
          "xref": "paper",
          "y": 1,
          "yanchor": "bottom",
          "yref": "paper"
         },
         {
          "font": {
           "size": 16
          },
          "showarrow": false,
          "text": "Topic 2",
          "x": 0.6375000000000001,
          "xanchor": "center",
          "xref": "paper",
          "y": 1,
          "yanchor": "bottom",
          "yref": "paper"
         },
         {
          "font": {
           "size": 16
          },
          "showarrow": false,
          "text": "Topic 3",
          "x": 0.9125,
          "xanchor": "center",
          "xref": "paper",
          "y": 1,
          "yanchor": "bottom",
          "yref": "paper"
         }
        ],
        "height": 325,
        "hoverlabel": {
         "bgcolor": "white",
         "font": {
          "family": "Rockwell",
          "size": 16
         }
        },
        "showlegend": false,
        "template": {
         "data": {
          "bar": [
           {
            "error_x": {
             "color": "#2a3f5f"
            },
            "error_y": {
             "color": "#2a3f5f"
            },
            "marker": {
             "line": {
              "color": "white",
              "width": 0.5
             },
             "pattern": {
              "fillmode": "overlay",
              "size": 10,
              "solidity": 0.2
             }
            },
            "type": "bar"
           }
          ],
          "barpolar": [
           {
            "marker": {
             "line": {
              "color": "white",
              "width": 0.5
             },
             "pattern": {
              "fillmode": "overlay",
              "size": 10,
              "solidity": 0.2
             }
            },
            "type": "barpolar"
           }
          ],
          "carpet": [
           {
            "aaxis": {
             "endlinecolor": "#2a3f5f",
             "gridcolor": "#C8D4E3",
             "linecolor": "#C8D4E3",
             "minorgridcolor": "#C8D4E3",
             "startlinecolor": "#2a3f5f"
            },
            "baxis": {
             "endlinecolor": "#2a3f5f",
             "gridcolor": "#C8D4E3",
             "linecolor": "#C8D4E3",
             "minorgridcolor": "#C8D4E3",
             "startlinecolor": "#2a3f5f"
            },
            "type": "carpet"
           }
          ],
          "choropleth": [
           {
            "colorbar": {
             "outlinewidth": 0,
             "ticks": ""
            },
            "type": "choropleth"
           }
          ],
          "contour": [
           {
            "colorbar": {
             "outlinewidth": 0,
             "ticks": ""
            },
            "colorscale": [
             [
              0,
              "#0d0887"
             ],
             [
              0.1111111111111111,
              "#46039f"
             ],
             [
              0.2222222222222222,
              "#7201a8"
             ],
             [
              0.3333333333333333,
              "#9c179e"
             ],
             [
              0.4444444444444444,
              "#bd3786"
             ],
             [
              0.5555555555555556,
              "#d8576b"
             ],
             [
              0.6666666666666666,
              "#ed7953"
             ],
             [
              0.7777777777777778,
              "#fb9f3a"
             ],
             [
              0.8888888888888888,
              "#fdca26"
             ],
             [
              1,
              "#f0f921"
             ]
            ],
            "type": "contour"
           }
          ],
          "contourcarpet": [
           {
            "colorbar": {
             "outlinewidth": 0,
             "ticks": ""
            },
            "type": "contourcarpet"
           }
          ],
          "heatmap": [
           {
            "colorbar": {
             "outlinewidth": 0,
             "ticks": ""
            },
            "colorscale": [
             [
              0,
              "#0d0887"
             ],
             [
              0.1111111111111111,
              "#46039f"
             ],
             [
              0.2222222222222222,
              "#7201a8"
             ],
             [
              0.3333333333333333,
              "#9c179e"
             ],
             [
              0.4444444444444444,
              "#bd3786"
             ],
             [
              0.5555555555555556,
              "#d8576b"
             ],
             [
              0.6666666666666666,
              "#ed7953"
             ],
             [
              0.7777777777777778,
              "#fb9f3a"
             ],
             [
              0.8888888888888888,
              "#fdca26"
             ],
             [
              1,
              "#f0f921"
             ]
            ],
            "type": "heatmap"
           }
          ],
          "heatmapgl": [
           {
            "colorbar": {
             "outlinewidth": 0,
             "ticks": ""
            },
            "colorscale": [
             [
              0,
              "#0d0887"
             ],
             [
              0.1111111111111111,
              "#46039f"
             ],
             [
              0.2222222222222222,
              "#7201a8"
             ],
             [
              0.3333333333333333,
              "#9c179e"
             ],
             [
              0.4444444444444444,
              "#bd3786"
             ],
             [
              0.5555555555555556,
              "#d8576b"
             ],
             [
              0.6666666666666666,
              "#ed7953"
             ],
             [
              0.7777777777777778,
              "#fb9f3a"
             ],
             [
              0.8888888888888888,
              "#fdca26"
             ],
             [
              1,
              "#f0f921"
             ]
            ],
            "type": "heatmapgl"
           }
          ],
          "histogram": [
           {
            "marker": {
             "pattern": {
              "fillmode": "overlay",
              "size": 10,
              "solidity": 0.2
             }
            },
            "type": "histogram"
           }
          ],
          "histogram2d": [
           {
            "colorbar": {
             "outlinewidth": 0,
             "ticks": ""
            },
            "colorscale": [
             [
              0,
              "#0d0887"
             ],
             [
              0.1111111111111111,
              "#46039f"
             ],
             [
              0.2222222222222222,
              "#7201a8"
             ],
             [
              0.3333333333333333,
              "#9c179e"
             ],
             [
              0.4444444444444444,
              "#bd3786"
             ],
             [
              0.5555555555555556,
              "#d8576b"
             ],
             [
              0.6666666666666666,
              "#ed7953"
             ],
             [
              0.7777777777777778,
              "#fb9f3a"
             ],
             [
              0.8888888888888888,
              "#fdca26"
             ],
             [
              1,
              "#f0f921"
             ]
            ],
            "type": "histogram2d"
           }
          ],
          "histogram2dcontour": [
           {
            "colorbar": {
             "outlinewidth": 0,
             "ticks": ""
            },
            "colorscale": [
             [
              0,
              "#0d0887"
             ],
             [
              0.1111111111111111,
              "#46039f"
             ],
             [
              0.2222222222222222,
              "#7201a8"
             ],
             [
              0.3333333333333333,
              "#9c179e"
             ],
             [
              0.4444444444444444,
              "#bd3786"
             ],
             [
              0.5555555555555556,
              "#d8576b"
             ],
             [
              0.6666666666666666,
              "#ed7953"
             ],
             [
              0.7777777777777778,
              "#fb9f3a"
             ],
             [
              0.8888888888888888,
              "#fdca26"
             ],
             [
              1,
              "#f0f921"
             ]
            ],
            "type": "histogram2dcontour"
           }
          ],
          "mesh3d": [
           {
            "colorbar": {
             "outlinewidth": 0,
             "ticks": ""
            },
            "type": "mesh3d"
           }
          ],
          "parcoords": [
           {
            "line": {
             "colorbar": {
              "outlinewidth": 0,
              "ticks": ""
             }
            },
            "type": "parcoords"
           }
          ],
          "pie": [
           {
            "automargin": true,
            "type": "pie"
           }
          ],
          "scatter": [
           {
            "fillpattern": {
             "fillmode": "overlay",
             "size": 10,
             "solidity": 0.2
            },
            "type": "scatter"
           }
          ],
          "scatter3d": [
           {
            "line": {
             "colorbar": {
              "outlinewidth": 0,
              "ticks": ""
             }
            },
            "marker": {
             "colorbar": {
              "outlinewidth": 0,
              "ticks": ""
             }
            },
            "type": "scatter3d"
           }
          ],
          "scattercarpet": [
           {
            "marker": {
             "colorbar": {
              "outlinewidth": 0,
              "ticks": ""
             }
            },
            "type": "scattercarpet"
           }
          ],
          "scattergeo": [
           {
            "marker": {
             "colorbar": {
              "outlinewidth": 0,
              "ticks": ""
             }
            },
            "type": "scattergeo"
           }
          ],
          "scattergl": [
           {
            "marker": {
             "colorbar": {
              "outlinewidth": 0,
              "ticks": ""
             }
            },
            "type": "scattergl"
           }
          ],
          "scattermapbox": [
           {
            "marker": {
             "colorbar": {
              "outlinewidth": 0,
              "ticks": ""
             }
            },
            "type": "scattermapbox"
           }
          ],
          "scatterpolar": [
           {
            "marker": {
             "colorbar": {
              "outlinewidth": 0,
              "ticks": ""
             }
            },
            "type": "scatterpolar"
           }
          ],
          "scatterpolargl": [
           {
            "marker": {
             "colorbar": {
              "outlinewidth": 0,
              "ticks": ""
             }
            },
            "type": "scatterpolargl"
           }
          ],
          "scatterternary": [
           {
            "marker": {
             "colorbar": {
              "outlinewidth": 0,
              "ticks": ""
             }
            },
            "type": "scatterternary"
           }
          ],
          "surface": [
           {
            "colorbar": {
             "outlinewidth": 0,
             "ticks": ""
            },
            "colorscale": [
             [
              0,
              "#0d0887"
             ],
             [
              0.1111111111111111,
              "#46039f"
             ],
             [
              0.2222222222222222,
              "#7201a8"
             ],
             [
              0.3333333333333333,
              "#9c179e"
             ],
             [
              0.4444444444444444,
              "#bd3786"
             ],
             [
              0.5555555555555556,
              "#d8576b"
             ],
             [
              0.6666666666666666,
              "#ed7953"
             ],
             [
              0.7777777777777778,
              "#fb9f3a"
             ],
             [
              0.8888888888888888,
              "#fdca26"
             ],
             [
              1,
              "#f0f921"
             ]
            ],
            "type": "surface"
           }
          ],
          "table": [
           {
            "cells": {
             "fill": {
              "color": "#EBF0F8"
             },
             "line": {
              "color": "white"
             }
            },
            "header": {
             "fill": {
              "color": "#C8D4E3"
             },
             "line": {
              "color": "white"
             }
            },
            "type": "table"
           }
          ]
         },
         "layout": {
          "annotationdefaults": {
           "arrowcolor": "#2a3f5f",
           "arrowhead": 0,
           "arrowwidth": 1
          },
          "autotypenumbers": "strict",
          "coloraxis": {
           "colorbar": {
            "outlinewidth": 0,
            "ticks": ""
           }
          },
          "colorscale": {
           "diverging": [
            [
             0,
             "#8e0152"
            ],
            [
             0.1,
             "#c51b7d"
            ],
            [
             0.2,
             "#de77ae"
            ],
            [
             0.3,
             "#f1b6da"
            ],
            [
             0.4,
             "#fde0ef"
            ],
            [
             0.5,
             "#f7f7f7"
            ],
            [
             0.6,
             "#e6f5d0"
            ],
            [
             0.7,
             "#b8e186"
            ],
            [
             0.8,
             "#7fbc41"
            ],
            [
             0.9,
             "#4d9221"
            ],
            [
             1,
             "#276419"
            ]
           ],
           "sequential": [
            [
             0,
             "#0d0887"
            ],
            [
             0.1111111111111111,
             "#46039f"
            ],
            [
             0.2222222222222222,
             "#7201a8"
            ],
            [
             0.3333333333333333,
             "#9c179e"
            ],
            [
             0.4444444444444444,
             "#bd3786"
            ],
            [
             0.5555555555555556,
             "#d8576b"
            ],
            [
             0.6666666666666666,
             "#ed7953"
            ],
            [
             0.7777777777777778,
             "#fb9f3a"
            ],
            [
             0.8888888888888888,
             "#fdca26"
            ],
            [
             1,
             "#f0f921"
            ]
           ],
           "sequentialminus": [
            [
             0,
             "#0d0887"
            ],
            [
             0.1111111111111111,
             "#46039f"
            ],
            [
             0.2222222222222222,
             "#7201a8"
            ],
            [
             0.3333333333333333,
             "#9c179e"
            ],
            [
             0.4444444444444444,
             "#bd3786"
            ],
            [
             0.5555555555555556,
             "#d8576b"
            ],
            [
             0.6666666666666666,
             "#ed7953"
            ],
            [
             0.7777777777777778,
             "#fb9f3a"
            ],
            [
             0.8888888888888888,
             "#fdca26"
            ],
            [
             1,
             "#f0f921"
            ]
           ]
          },
          "colorway": [
           "#636efa",
           "#EF553B",
           "#00cc96",
           "#ab63fa",
           "#FFA15A",
           "#19d3f3",
           "#FF6692",
           "#B6E880",
           "#FF97FF",
           "#FECB52"
          ],
          "font": {
           "color": "#2a3f5f"
          },
          "geo": {
           "bgcolor": "white",
           "lakecolor": "white",
           "landcolor": "white",
           "showlakes": true,
           "showland": true,
           "subunitcolor": "#C8D4E3"
          },
          "hoverlabel": {
           "align": "left"
          },
          "hovermode": "closest",
          "mapbox": {
           "style": "light"
          },
          "paper_bgcolor": "white",
          "plot_bgcolor": "white",
          "polar": {
           "angularaxis": {
            "gridcolor": "#EBF0F8",
            "linecolor": "#EBF0F8",
            "ticks": ""
           },
           "bgcolor": "white",
           "radialaxis": {
            "gridcolor": "#EBF0F8",
            "linecolor": "#EBF0F8",
            "ticks": ""
           }
          },
          "scene": {
           "xaxis": {
            "backgroundcolor": "white",
            "gridcolor": "#DFE8F3",
            "gridwidth": 2,
            "linecolor": "#EBF0F8",
            "showbackground": true,
            "ticks": "",
            "zerolinecolor": "#EBF0F8"
           },
           "yaxis": {
            "backgroundcolor": "white",
            "gridcolor": "#DFE8F3",
            "gridwidth": 2,
            "linecolor": "#EBF0F8",
            "showbackground": true,
            "ticks": "",
            "zerolinecolor": "#EBF0F8"
           },
           "zaxis": {
            "backgroundcolor": "white",
            "gridcolor": "#DFE8F3",
            "gridwidth": 2,
            "linecolor": "#EBF0F8",
            "showbackground": true,
            "ticks": "",
            "zerolinecolor": "#EBF0F8"
           }
          },
          "shapedefaults": {
           "line": {
            "color": "#2a3f5f"
           }
          },
          "ternary": {
           "aaxis": {
            "gridcolor": "#DFE8F3",
            "linecolor": "#A2B1C6",
            "ticks": ""
           },
           "baxis": {
            "gridcolor": "#DFE8F3",
            "linecolor": "#A2B1C6",
            "ticks": ""
           },
           "bgcolor": "white",
           "caxis": {
            "gridcolor": "#DFE8F3",
            "linecolor": "#A2B1C6",
            "ticks": ""
           }
          },
          "title": {
           "x": 0.05
          },
          "xaxis": {
           "automargin": true,
           "gridcolor": "#EBF0F8",
           "linecolor": "#EBF0F8",
           "ticks": "",
           "title": {
            "standoff": 15
           },
           "zerolinecolor": "#EBF0F8",
           "zerolinewidth": 2
          },
          "yaxis": {
           "automargin": true,
           "gridcolor": "#EBF0F8",
           "linecolor": "#EBF0F8",
           "ticks": "",
           "title": {
            "standoff": 15
           },
           "zerolinecolor": "#EBF0F8",
           "zerolinewidth": 2
          }
         }
        },
        "title": {
         "font": {
          "color": "Black",
          "size": 22
         },
         "text": "Topic Word Scores",
         "x": 0.5,
         "xanchor": "center",
         "yanchor": "top"
        },
        "width": 1000,
        "xaxis": {
         "anchor": "y",
         "domain": [
          0,
          0.175
         ],
         "showgrid": true
        },
        "xaxis2": {
         "anchor": "y2",
         "domain": [
          0.275,
          0.45
         ],
         "showgrid": true
        },
        "xaxis3": {
         "anchor": "y3",
         "domain": [
          0.55,
          0.7250000000000001
         ],
         "showgrid": true
        },
        "xaxis4": {
         "anchor": "y4",
         "domain": [
          0.825,
          1
         ],
         "showgrid": true
        },
        "yaxis": {
         "anchor": "x",
         "domain": [
          0,
          1
         ],
         "showgrid": true
        },
        "yaxis2": {
         "anchor": "x2",
         "domain": [
          0,
          1
         ],
         "showgrid": true
        },
        "yaxis3": {
         "anchor": "x3",
         "domain": [
          0,
          1
         ],
         "showgrid": true
        },
        "yaxis4": {
         "anchor": "x4",
         "domain": [
          0,
          1
         ],
         "showgrid": true
        }
       }
      }
     },
     "metadata": {},
     "output_type": "display_data"
    }
   ],
   "source": [
    "model.visualize_barchart(top_n_topics=10) #Visualize the top 10 topics"
   ]
  },
  {
   "cell_type": "code",
   "execution_count": 27,
   "metadata": {},
   "outputs": [
    {
     "data": {
      "application/vnd.plotly.v1+json": {
       "config": {
        "plotlyServerURL": "https://plot.ly"
       },
       "data": [
        {
         "hoverinfo": "text",
         "hovertext": [
          "tried hard immerse dreamstate failed see anything except flickering lights think ought see changes",
          "sound created visuals created pattern energy movement across body",
          "collection keyholes could see paintingthrough animals merpeople morphing intoeach wireframe structures 'up' (the animated movie)-style montage future",
          "similar mri also unsuccesfully trying fall asleep insomnia period",
          "submission fun mild euphoric moments",
          "deep memories emotive reflections images ive seen",
          "geometrical rythmic pulsating cosmos front eyes infinently varied beutiful return time without help dream",
          "llama intro credit scene monty python holy grail points",
          "calm serenity flashback emotions",
          "wentback many hard mostly beautiful memories without prompting",
          "wild ride",
          "feel amazed saw afriend past free field green hill made weep joy saw poverty forebears loved thanked",
          "riding willie wonka's boat crazy tunnels charlie chocolate factory",
          "kept seeing images og peope",
          "yourefrom university sussex need stand reality believe souls gendered ogherwise",
          "sound inside body",
          "sensory rollercoaster",
          "entry another univerise",
          "experienced lot physical sensations stomach face inside head still feel brain massaged",
          "taking hallucinogenic drugs younger",
          "anotherworld",
          "breathing exercize: would help staff could show us could copy way delivered fast long rythm found eye mask uncomfortable forehead took would prefer use hands shield light abit cold especially moving quite echoy could hear someone snoring staff openin & shutting thedoor near beginning might idea box tissues reflection room",
          "thought fluffy speech writtenhealth safetyaspect broke sense adventure departure really ecessary meditive part nice perhaps take intro time brief overview histiry pursuits aybea bit science lose faux hand holding lovely overall",
          "got many vivid visions saw lots colours bedroom old tv shows videogames cities",
          "healing part realise decayed entirely",
          "earth falling sun least nineties rave visuals cycle death rebirth envisaged eighties d&d summer meadow lot diamond ripples",
          "sense time",
          "good loads ket still decent",
          "fabulous didnt wantit eyesopen throughoutand yet totally enveloped sound",
          "woman next sniffing move difficult get back",
          "falling snow peaceful lost cornfield staring tunnel scared",
          "breathing hard",
          "sen se comfort connection anin inner peace clam safe",
          "scary pointy laughing clown face test period came later able control turned pecking bird zooming space someone wanted show planet far away flew cities deserts one point wasflyingclose ground herd elephants met god one eye middle theirforehead great sense ofadventure wellbeing traveller welcome ontheir peaceful world",
          "euphoric",
          "direct infinite creativity much beauty vivid colours patterns travelling dimensions imagine would go similar journey transition realms",
          "calming sounds rising elation curiosity connection acceptance stressful time self jubilation inspiration",
          "2nd time 1st one better coz relaxed got ideas time someone kept coughing disrupted thought process feel anything ban people cough",
          "euphoria",
          "life death rebirth",
          "wish could remindedme child",
          "intensity connectionvastnessspaciousnesslovi ngawareness",
          "incredible sensory huge feeling calm peace times l back womb",
          "nothingness complete",
          "complete journey closest sober (and honest better) psychedelics",
          "life retired",
          "euphoric",
          "boat charlie chocolate factory",
          "quite honest think fell asleep dont really rememberwhat saw",
          "loss sense time images images feeling transported moving",
          "began violent falling away darkness",
          "relaxing reflective worries stopped / put porportion",
          "spoke 8 year old self 80 year old self happy",
          "looking across universe beyond realm deep connection humankind overwhelming sense peace left feeling profoundly moved tearful",
          "times concern would soon",
          "psychedelic colours",
          "stop thinking process trying memorise visuals trying disconnect wish meditated point started experimenting trying recall images liked successful 50% time reminded 2001: space odyssey",
          "intense connection body surroundings",
          "thought alot rands journey rhudian experiencing history aiel eyes ancestors",
          "thus available everyone time",
          "helped meditation journey",
          "struggled let go though amazing mind make colours shapes images tried think living fear live",
          "euphoric healing",
          "wondered would die calm serene frightening isaw lots warmcolours black crosses-no green",
          "time place seem happened yet come",
          "deep relaxation close falling asleep",
          "visual abit flat sa focused eyes head much would rather engage body work somatic aspect dropped body feel flat survace lie canvas face painting images appeared beautiful thanks",
          "unique teach us simple could recconnect primitive way feel emotions trough sounds colours",
          "physical discomfort amazing patterns intense colours yearning desire see questions",
          "new form art individual host unique",
          "sense expansion moving towards something forward motion motivation progress purposes",
          "dreaming awake- flashes random places maybe dead",
          "range emotions patterns colour movement sense really beingbinside head",
          "dreaming dreamingly",
          "confusing sense place familiar place grandmother's basement train station place sensation strong struggled find memory matched feeling knew strong pull familiar place beyond remembering sure glad drugs",
          "immense comfort even much frantic towards saw deep blue snow incredibly peaceful",
          "closest thing i'll ever drugs",
          "similar stuff normally",
          "profihnd sense 9f relaxation neved experienced came pure connectivity body slight floating sensation",
          "brains neurons veins elephants",
          "devtest",
          "dream movie one even mind flying lot shape light space moment feel draw back body environment thought somewhere one cant realise long quick dont feel time",
          "devtest trevor onsite 2",
          "love feling amazing would come back fell aslep wake fresh mindset",
          "something ever experienced something wish could week",
          "vibration visuals centered body aware sounds mind realty quietened",
          "varying journey speed awareness times rapid though thr body brain able process moments calm soothing desire retain recall shapes colours andfeelings envoked strong understanding may lost coming",
          "saw serene beach scene people text subtitled movie set south france",
          "experienc time travelling imagine",
          "thought throughout visualising body specifically head",
          "hope that's death feels x",
          "resistance gone bliss saw colourful mandalas keeping pace beats perfect synchronicity amazed never experienced something equal beyond words",
          "would love continual stimulation without breaks see images evolve",
          "rollercoaster sun make get",
          "doorway",
          "saw map london walked new york floating space star angel floating past memories forgiving ever sad numb",
          "dreamt harbinger new planet shaping world life equity wish belong someone really loved missed",
          "alot memories",
          "exactly rember lsd without scary parts",
          "something wonderful",
          "possible generate full images demand - elephant made upwards flowing oil rivulets",
          "perfectly cromulent",
          "overwhelming sense euphoria love everyone room journeying together hopeful",
          "pleasant seeim something unexpected",
          "acid dmt safer everyone try",
          "acid",
          "vertigo",
          "busy airport waiting area landing egypt",
          "incredibly small weight exsistence heavy blanket rather negative relief comforted",
          "hope colour",
          "amazing sense harmony balance oneness visually moving mandala",
          "outerspace experiencing transition death comforting whilst small insignificant also free powerful",
          "found thoughts developing stories images eyes closed vast colours brain generated impressive art gallerty",
          "many different things little afraid thinking gas chambers overwheming feeling love connection everyone room became white egret dream last week flew around room touching everyone heart expanded opened wings hold room typeof death decended underworld felyt go layers earth moss land abeing call eveleryn things changed became pink clouds met long blue much defined form told francis assisi asked husband told important work destiny became mantaray drifted",
          "thought fluffy speech writtenhealth safetyaspect broke sense adventure departure really ecessary meditive part nice perhaps take intro time brief overview histiry pursuits aybea bit science lose faux hand holding lovely overall",
          "loved would try couple hours",
          "trying remember patterns",
          "confusion difficult make note seeing i've never experienced also happy smiledat certain points quite weird",
          "wish george created",
          "dreaming dream little",
          "seeing hearing deceased relatives smiled could hear distinctive voices",
          "various flashing images memories random events people life kept popping nothing lingered lots individual things happened memories also numb tingly throughout different points body light fuzzy wasnt sitting anything",
          "past memories people really life anymore",
          "moment i'll die want feel",
          "aware started follow train thought maybe going deeoer didnt see much imagery whdn concentratingon colours shapes spent lot timethunjing aboutthe way world sesoriky whether 'normal' compaired people",
          "would next make artwork",
          "devtest trev site",
          "brain oscar worthy director",
          "deep relaxation deep tissue massage mind safe healthy groovy drug-free trip long last afterwards deepest deepest sleep worried might give headache didnt great peace soothed tired",
          null
         ],
         "marker": {
          "color": "#CFD8DC",
          "opacity": 0.5,
          "size": 5
         },
         "mode": "markers+text",
         "name": "other",
         "showlegend": false,
         "type": "scattergl",
         "x": [
          10.082659721374512,
          9.302874565124512,
          11.527833938598633,
          9.580875396728516,
          7.160712242126465,
          11.120909690856934,
          13.238442420959473,
          11.77442455291748,
          8.748442649841309,
          11.188122749328613,
          12.072903633117676,
          11.045919418334961,
          11.858638763427734,
          10.91061782836914,
          9.825876235961914,
          9.316983222961426,
          11.818485260009766,
          9.849870681762695,
          10.180642127990723,
          8.101265907287598,
          9.939626693725586,
          9.14492416381836,
          9.11113166809082,
          11.609689712524414,
          7.209052085876465,
          12.187535285949707,
          10.720353126525879,
          7.74945068359375,
          10.238432884216309,
          9.100759506225586,
          11.262724876403809,
          8.987439155578613,
          8.061644554138184,
          11.68719482421875,
          7.135076522827148,
          11.375027656555176,
          8.595869064331055,
          9.11479663848877,
          7.138476371765137,
          9.534415245056152,
          10.059678077697754,
          9.97744369506836,
          8.54340934753418,
          8.178495407104492,
          8.159337997436523,
          9.407761573791504,
          7.141349792480469,
          11.875334739685059,
          11.066193580627441,
          10.7977876663208,
          11.196221351623535,
          8.726120948791504,
          8.074003219604492,
          9.813169479370117,
          10.665777206420898,
          10.159667015075684,
          10.893610000610352,
          10.020225524902344,
          10.78243350982666,
          10.646653175354004,
          8.561797142028809,
          10.97014045715332,
          7.14038610458374,
          10.172027587890625,
          10.659933090209961,
          8.823420524597168,
          10.550491333007812,
          10.606706619262695,
          10.448958396911621,
          11.359251976013184,
          10.794235229492188,
          10.09047794342041,
          10.544188499450684,
          10.167106628417969,
          9.28753662109375,
          8.278596878051758,
          8.085209846496582,
          7.785281181335449,
          10.072364807128906,
          10.793756484985352,
          9.383342742919922,
          10.617206573486328,
          9.419893264770508,
          9.507242202758789,
          9.578621864318848,
          9.16608715057373,
          10.072284698486328,
          11.602301597595215,
          10.77468204498291,
          10.494787216186523,
          9.452601432800293,
          9.212200164794922,
          10.969575881958008,
          11.981290817260742,
          8.403199195861816,
          11.020965576171875,
          9.970325469970703,
          11.246695518493652,
          8.117555618286133,
          7.544569969177246,
          11.060108184814453,
          7.263338088989258,
          7.179349422454834,
          8.179396629333496,
          7.859050273895264,
          7.619131565093994,
          11.814544677734375,
          10.85951042175293,
          8.431052207946777,
          11.030457496643066,
          9.249947547912598,
          9.753974914550781,
          11.0458984375,
          9.375604629516602,
          9.106389045715332,
          10.337326049804688,
          11.108552932739258,
          8.443037986755371,
          9.979657173156738,
          10.118783950805664,
          9.703630447387695,
          10.621098518371582,
          11.142711639404297,
          9.376646995544434,
          10.470524787902832,
          11.286690711975098,
          9.37546157836914,
          10.79809856414795,
          8.69350814819336,
          9.843453407287598
         ],
         "y": [
          10.255193710327148,
          13.051396369934082,
          11.183574676513672,
          10.3462495803833,
          11.524079322814941,
          10.619229316711426,
          11.9404296875,
          10.663997650146484,
          11.159280776977539,
          10.334671020507812,
          11.405695915222168,
          10.461518287658691,
          10.81606388092041,
          11.241316795349121,
          9.297061920166016,
          12.998859405517578,
          11.562054634094238,
          9.33039665222168,
          11.618071556091309,
          12.245170593261719,
          9.580824851989746,
          10.844322204589844,
          12.008400917053223,
          11.808292388916016,
          11.521350860595703,
          11.609298706054688,
          9.220174789428711,
          9.865039825439453,
          12.228836059570312,
          10.812740325927734,
          11.805883407592773,
          10.702662467956543,
          10.63210391998291,
          10.665570259094238,
          11.492202758789062,
          11.440054893493652,
          11.921225547790527,
          10.791378021240234,
          11.479576110839844,
          10.093425750732422,
          9.914485931396484,
          12.21990966796875,
          11.135377883911133,
          9.601203918457031,
          12.217581748962402,
          9.996142387390137,
          11.505210876464844,
          10.815200805664062,
          10.147994995117188,
          9.309893608093262,
          11.95276927947998,
          10.35214614868164,
          10.923483848571777,
          9.669195175170898,
          9.169845581054688,
          12.869482040405273,
          10.853740692138672,
          12.195029258728027,
          11.521387100219727,
          9.169363021850586,
          12.075247764587402,
          11.289761543273926,
          11.51473617553711,
          12.854230880737305,
          9.177268981933594,
          10.256670951843262,
          11.640889167785645,
          12.856075286865234,
          12.734823226928711,
          11.332414627075195,
          9.316802978515625,
          10.183381080627441,
          12.802653312683105,
          10.08559513092041,
          11.569156646728516,
          11.094461441040039,
          12.24496841430664,
          9.988493919372559,
          12.081497192382812,
          11.597495079040527,
          8.90588092803955,
          9.931550025939941,
          8.9085054397583,
          12.072824478149414,
          11.12678337097168,
          12.928902626037598,
          12.017057418823242,
          10.362161636352539,
          9.30327320098877,
          11.64656925201416,
          10.240094184875488,
          12.566144943237305,
          11.441478729248047,
          11.489432334899902,
          9.292072296142578,
          10.0633544921875,
          9.652083396911621,
          10.400634765625,
          12.220537185668945,
          10.772825241088867,
          11.505708694458008,
          10.73995304107666,
          11.317355155944824,
          11.465800285339355,
          12.043648719787598,
          11.918851852416992,
          12.02001953125,
          10.014081001281738,
          11.01331901550293,
          13.165790557861328,
          12.593517303466797,
          9.903000831604004,
          11.399324417114258,
          11.994486808776855,
          12.007637977600098,
          9.112333297729492,
          10.674592018127441,
          11.403258323669434,
          9.872766494750977,
          9.979156494140625,
          12.725014686584473,
          11.991538047790527,
          10.293500900268555,
          10.24075698852539,
          11.885777473449707,
          11.338797569274902,
          8.888776779174805,
          11.433431625366211,
          10.350305557250977,
          11.03448486328125
         ]
        },
        {
         "hoverinfo": "text",
         "hovertext": [
          "swivelling vortex sound loneliness moon jacuzzi lightness",
          "st time seperate front vision 2nd time around vast difference happen bigger profound akmost intense",
          "whole spectrum colors shapes colors never seen moving many directions pircing thorough body mind ecstatic wished would never home deep sense warm loving embrace mothers wumb",
          "sense moving portal transported 2001 viewed kaleidoscope wearing kaleidogoggles immense",
          "mind jellyfish suspended space",
          "saw film strips sons lips giant wooshing manga dragon focussed grass slate little windows stained glass",
          "colour fields varying colours changed rapidly moving patterns sometimes patterns appeared move downwards front eyes sometimes across vision sometimes towards point infinity",
          "saw shapes waves azulejo tiles patchwork blurry landscapes vague outlines animals shapes stag running saw past love wedding dress another swimming ocean",
          "though moving tunnel towards darkness wrapped metal strips",
          "changing temperature body lights changes intensity focussed compared light across whole peripheral vision",
          "desert figures moving across dunes underwater among whales viewing london sky line one point followed helicopter saw lot orange blue bubbly patterns",
          "land (not anywhere earth) another plannet animals usual colours - yellow elephant blue gorilla started gently running towards sea turned mermaid watched land swam away turtles fishes beautiful love peace harmony togetherness freedom much love",
          "body - fact planet earth - took trip space",
          "saw past experiences reflected choices saw new scenes reflected opportunities",
          "numerous random shapes sometimes geometric sometimes dots feeling things comings sense travelling along galaxy highway towards",
          "colours testcard lightly muted called pink mind saw wash deep pink also saw text almost ancient runes one point iwas flying remembered difficult experiences afterwards euphoric",
          "places waves animal",
          "space even ive never physically",
          "vca fuzz patterns",
          "saw flaring whirling water air becoming one withwhat floated",
          "spirals pulsing",
          "kaleidascopic 'be guest' beauty & beast kept seeing happy spinning teapots",
          "huge 3d landscapes flashing backgrounds undulating foreground quuckly becoming new perspective",
          "intense fast movement sound shapes colour aand light 100% immersive anticipated",
          "v�sarely flying brain space warm sunset",
          "towards went space take intense scary floating peacefully orbit glow earth could see stars",
          "saw many shapes colours usually swirling falling around moving vortex tunnel often red orange sometimes bluey green underwater",
          "kalsczscope colours",
          "l flower slowly unfurling sunlight trippy mickey mouse 1940s disney animation seen kalaidescope",
          "thoughts mundane everyday things work mainly relaxed ansd able float dreamlike place visuals ofspace deep ocean",
          "thousansds fluttering butterfly wings flying space incredible speed phosporescence water welsh blanket mothers blue handmade patchwork quilt tesselations hexagons overwhelming beauty spinning planet childhood memory staring glittering eyelashes rainbow bright sun",
          "initially spiral spool old film running projector figures standing though dance starfields reminiscent 2001 stargate oddly robbie williams",
          "col0urs shapes stars ac inecoce",
          "jouney forward maybe backwards slow fast really fast really sloooow many fractals colours",
          "web gold dark universe saw energy connection things domed tower full stars mountains arches appeared surrendered geometry falling lifted tunnels ascending warmth sun saw waters moving face earth covering deepness outside time close religious profoundly moving elating",
          "hurtling space time speed determine experienced big bang everything since really hard put finger shedding different layers connected life forms much energy pulsating body",
          "bizarre lots observing others giant bubble people coming protected others control dome",
          "bright blue skies waterfall flowing backwards flock birds universe",
          "dissolved light",
          "towards washing spin going helicopter moving different possitions",
          "water womb birth light world also point bees panel",
          "lights colours sense calm joy",
          "body kept sinking dropping another level seat",
          "light shapes emerging receding patterns folding ofeash kaleidescope effects wasalso interesting image stabilised scan field vision side fo side explore periphery",
          "colours lines spheres twirls",
          "geometric kaleidescope shapes overlayed moving cosmos/night sky slow exposure different pulling directions moving portal time space",
          "pulled vortex time waiting awake different dimension",
          "saw lot imagery colours especially images water ripples water snowscapes drops water falling also abstract forms pink red colours",
          "moving tunnel branches green see green start finish",
          "saw kaleidoscope childhood toy abstract space dunes sunshine",
          "remembered beautiful joyful memories moments family asif waswith beach",
          "incredible colours patterns tended shift focusing sound colours difficult hold equally present",
          "noxtalgia andpdace optimism escapism ive visited three timesand different wearing contacts geometric last timei saw lot white geomtricforms mixed smoke times saw hyperspace style visuals red blue",
          "deep ocean dark also brilliant blue drowning instead that's meant sense place akin home almost calling draw submerged away world space could float simply exist without interruptions",
          "peacefull contemplation vivid mandelbrot type kaladescopic patterns",
          "colourful patterns",
          "relaxed also stimulated brightness frequency flickering attacked yet never scared weak",
          "wasmy second time experance black white cold bluues grids fractials previous pink tones vortexes sensation flyingin wormhole",
          "interesting definitely easy moment reminded used get bored school assemblies press eyes watch patterns unfold visuals kaleidoscopic although saw moroccan landscape dolphin swimming away cave various points",
          "strange lights sense relaxation interested see would happen next",
          "saw different colour lights centre closed eyes",
          "changing colours interlocking diamond triangles faintly distinct light appear grow shrink",
          "surprised time (4th high sensory) seeing peripheral live structures - pyramidal shapes another thing found strange seeing clearly pentagram centre spiral - normal one well reversed rotating",
          "mostly saw grey geometric shapes",
          "totally immersive inside kaleidescope saw bright yellow thesun took myhappy place",
          "can't recognise color actually feel light dimming",
          "blue red cross initially dots various colours one point got quite animated bounced around fair bit dozed",
          "portal moving towards away fractaling everything",
          "saw hexagons blue tunnel thought bees generativity pure full electricity",
          "ajourney space riding kaleidoscope body occasion spinning sensastion could see glaxies star clusters around invisibke kaleidsospascecraft body lifted tracvelling theuniverse profound throughout calm exalted",
          "began see source light come connection everything could see little sensory machines moving relm bumping sounds colours emotions colours behind closed eyes swapped opposite colour colour spectrum screen",
          "one point saw someone leave room (like dream) also lifted spiralled waltzer saw many kinds patterns sparks geometric shapes contrarotating spirals feet feel bit floaty",
          "clouds holding breath",
          "blue bird flying coming closer calm peace baby smiling relative thought working dream another place",
          "saw vertical tree branches green leaves towards though moving sleep state point",
          "colours made patterns eyes closed - almost weave colours woollen fabric",
          "saw insideof eyelids whole new way",
          "lots colors",
          "hard focus single pattern wanted focus one would become less focused let pass would able see clearer",
          "fractals intense colours sometimes mix memories single short scenes beautiful situations past",
          "one central heart shape kept returning every colour rainbow one point sky immersed skydiving went space saw galaxies stars lots kaleidoscope shapes",
          "pattern red white lights thatflashed andbecame intensewhen lights flashed intensely alsofelt sleep abit thinkingof partner could visualise",
          "geometric paterns 2 colour mainly sometimes white dots moved rapidly direcion shape centre sometimes moved opposite direction towards centre point calledoscope linear helicopter sound could see 2 rotors geometrical shapes one front eye",
          "though experiencing formation solar system eartha place warmth light arising dust spinning chaos suspended infinite void",
          "unsettling lights flashing kalediscope front eyes even thouh eyes closed didnt feel control wondered would positive found could shut wanted able relax -almost falling asleep times colours changed patterns sometimes sunrise othertimes something science fiction blue backgrounds white linked rectangles",
          "many different visuals experiences one ocean house grass fields near cliffs next ocean approaching heaven one last ones walworth road",
          "one point light darkened vision shifted field blue - one recognised deep shade derek jarman's film",
          "saw starry night blue warm water blue butterfly",
          "saw lot animals ones used rreptiles time liked seemed adorable also dreaming random objects started create stories dreamingit drug trip points also inside ocean",
          "incredible technicolour",
          "thought universe moving moving centre drawn saw honeycomb shapes thought bees saw blocks colour red yellow dramatic",
          "absolutely tripped away good came n experienced u set",
          "intro red spiralsalmost cyclone",
          "red red shapes travel tbrough time",
          "flying coourful vortex overwhelming vast spaceand insignificant",
          "points intense chaos broke clear defined counter clockwise spiralling tunnel two small semi circles centre going opposite way",
          "saw vasarely artworks motion sense time weird really short bright light bit hurting overall amazing",
          "towards slowly floating upwards",
          "everywhere saw partner's nose eyes glasses everything molecule air given eyes saw everything universe multiverse time emerged someone's sleeve everything packed tiny insignificant thing",
          "floating space",
          "saw incredible kaleidescopes patterns made solid stripes colour edges kaleidescopes started see corridors gardens though doorways imagined world inside patterns one moment darker saw deep mass blue green sparks pulsed almost jelly fish wanted stay space see worlds",
          "near impossible keep eyes open",
          "thought drifting space quite enjoyed opened eyesbut thought centrelights mild impressive colors sawwhen eyes shut brief fleeting hues nebulous specific patterns",
          "mass moving shapes vivid colours continually changing evolving enveloping",
          "intense geometric shapes spiralling deep ocean blue circle vivid memories dad carrying shoulders young girl back short dream unforgettable magical life-affirming",
          "intense visual clarity \"hyper-resolution\" extremely rich 3d",
          "bit weird know mybrain trying create something different things based colour",
          "outside kelidoscope colour rotating universe stars beyond everything one point looking buildings white curved modernist futuristic city",
          "fun fare spinning ride two next spinning opposite directions light lot mottled reds greens",
          "saw different landscapes",
          "thatgod's light shone upon going back beginning universe big bang andseeing creatures microcosm - cellular level- well planets stars also depths ocean",
          "interested different darkness different colours projected",
          "wild could stayed day complete disconnection body strong desire turn intensity explore visual phases kaleidoscope swirls geometric patterns oranges reds blues green suddenly black/white phases feeling motion floating looking sky looking beneath flying forwards backwards tunnel",
          "lots pulsating spiralling images take specific forms",
          "travelling space",
          "sea 0f green stars moving oil water wading fading glimspe something disappearing shifting sharp angled reds bold lines intersectoring gate black swirling spheres orange turning spiral sense happening seems arrive vision virbates sense leaves",
          "journey cosmos travelling speed light galaxies wizz past",
          "often connected space floating weightless surrounded millions stars travelling great speed time sometimes looked wormholes elated completely peaceful found smiling broadly moments",
          "lot kaleidoscope flowers falling blossoms snow flakes ripples rain drops water",
          "eyes shut time aware colours changing",
          "floating air travelling universe flowers blooming",
          "told atthe start could keep eyes open lot thought light show didnt get whole idea impact impact flickering lights closed eyes",
          "saw x3 distinct images: 1 staircase/escalator 2 treasure chests (x2 opening x1 closed/locked 3 bookmark symbol",
          "varirtyof lights colours movinginward outwards",
          "towardsthe maybe quarter started really intense visual ripples looking tower",
          "kaleidoscope light patterns",
          "moved wild tide atomic energy converging around us",
          "particles star emiting light space",
          "visual doesnt look anything whst saw much geometric kaledoscopic sky",
          "perception various geometric constructs dyson speheres mobius strips rippling water etc",
          "saw concave convex thehot orange os cillating insice avolcano",
          "visuals trees heatsun likeexperience",
          "riding ray sort flying barren icelandic desert spinning universe",
          null
         ],
         "marker": {
          "opacity": 0.5,
          "size": 5
         },
         "mode": "markers+text",
         "name": "0_saw_colours_moving",
         "text": [
          "",
          "",
          "",
          "",
          "",
          "",
          "",
          "",
          "",
          "",
          "",
          "",
          "",
          "",
          "",
          "",
          "",
          "",
          "",
          "",
          "",
          "",
          "",
          "",
          "",
          "",
          "",
          "",
          "",
          "",
          "",
          "",
          "",
          "",
          "",
          "",
          "",
          "",
          "",
          "",
          "",
          "",
          "",
          "",
          "",
          "",
          "",
          "",
          "",
          "",
          "",
          "",
          "",
          "",
          "",
          "",
          "",
          "",
          "",
          "",
          "",
          "",
          "",
          "",
          "",
          "",
          "",
          "",
          "",
          "",
          "",
          "",
          "",
          "",
          "",
          "",
          "",
          "",
          "",
          "",
          "",
          "",
          "",
          "",
          "",
          "",
          "",
          "",
          "",
          "",
          "",
          "",
          "",
          "",
          "",
          "",
          "",
          "",
          "",
          "",
          "",
          "",
          "",
          "",
          "",
          "",
          "",
          "",
          "",
          "",
          "",
          "",
          "",
          "",
          "",
          "",
          "",
          "",
          "",
          "",
          "",
          "",
          "",
          "",
          "",
          "",
          "",
          "",
          "",
          "",
          "",
          "",
          "",
          "0_saw_colours_moving"
         ],
         "textfont": {
          "size": 12
         },
         "type": "scattergl",
         "x": [
          12.042226791381836,
          13.133916854858398,
          10.548794746398926,
          13.141144752502441,
          13.765345573425293,
          12.353967666625977,
          11.961545944213867,
          12.42194938659668,
          12.51144790649414,
          11.568583488464355,
          12.610300064086914,
          12.432466506958008,
          13.65703010559082,
          11.228545188903809,
          12.84852409362793,
          10.643210411071777,
          12.378503799438477,
          13.67931842803955,
          11.842913627624512,
          13.927422523498535,
          12.225522994995117,
          13.461872100830078,
          12.738282203674316,
          9.729799270629883,
          13.398612022399902,
          13.415611267089844,
          12.290523529052734,
          12.161227226257324,
          13.548551559448242,
          12.06204891204834,
          13.009881019592285,
          11.823034286499023,
          13.273614883422852,
          12.076949119567871,
          12.982144355773926,
          13.544598579406738,
          12.562848091125488,
          13.570534706115723,
          11.261800765991211,
          12.325222969055176,
          12.891114234924316,
          10.906203269958496,
          13.989933013916016,
          13.084644317626953,
          11.995884895324707,
          13.2345609664917,
          13.598700523376465,
          12.246143341064453,
          12.5764741897583,
          13.063395500183105,
          11.39173412322998,
          11.706216812133789,
          10.692513465881348,
          12.429300308227539,
          12.958893775939941,
          11.569168090820312,
          11.057917594909668,
          12.380936622619629,
          11.742037773132324,
          11.119392395019531,
          11.386123657226562,
          11.542657852172852,
          12.095027923583984,
          12.397643089294434,
          12.985418319702148,
          11.300370216369629,
          12.381793975830078,
          13.191664695739746,
          12.800881385803223,
          13.319977760314941,
          11.269389152526855,
          12.233638763427734,
          13.7803316116333,
          13.521907806396484,
          12.552340507507324,
          11.502464294433594,
          11.336631774902344,
          11.218074798583984,
          11.781923294067383,
          11.823457717895508,
          13.032873153686523,
          11.13840389251709,
          12.223852157592773,
          13.372831344604492,
          10.974390983581543,
          12.209993362426758,
          11.54904842376709,
          12.801162719726562,
          12.026508331298828,
          7.544265270233154,
          12.838019371032715,
          10.84082317352295,
          12.4869384765625,
          12.393397331237793,
          13.687527656555176,
          12.242569923400879,
          11.025076866149902,
          13.962393760681152,
          12.975006103515625,
          13.893590927124023,
          12.807472229003906,
          11.392130851745605,
          11.394819259643555,
          12.150615692138672,
          12.182863235473633,
          12.75875473022461,
          11.216326713562012,
          13.27388858795166,
          12.269781112670898,
          12.256542205810547,
          13.087239265441895,
          11.355935096740723,
          12.385581016540527,
          12.235786437988281,
          13.676925659179688,
          12.668627738952637,
          13.52484130859375,
          13.413037300109863,
          13.66147232055664,
          11.599358558654785,
          13.704294204711914,
          11.335871696472168,
          12.812787055969238,
          11.919140815734863,
          12.563663482666016,
          13.075779914855957,
          13.094843864440918,
          13.376280784606934,
          13.01810359954834,
          12.646870613098145,
          12.935190200805664,
          12.494447708129883,
          13.57111644744873,
          12.393200874328613
         ],
         "y": [
          12.74084186553955,
          12.127734184265137,
          12.805027961730957,
          11.788602828979492,
          10.740072250366211,
          10.857383728027344,
          12.763718605041504,
          10.696494102478027,
          11.1591796875,
          12.713302612304688,
          11.530425071716309,
          10.643558502197266,
          10.363636016845703,
          10.366206169128418,
          11.73110580444336,
          12.243246078491211,
          10.615339279174805,
          10.436527252197266,
          12.993488311767578,
          11.167635917663574,
          12.113834381103516,
          11.317238807678223,
          12.283641815185547,
          13.123512268066406,
          10.899681091308594,
          10.789477348327637,
          12.495841979980469,
          13.008790969848633,
          11.37911319732666,
          10.371057510375977,
          11.296133041381836,
          11.38372802734375,
          11.162129402160645,
          12.500964164733887,
          10.540779113769531,
          10.38140869140625,
          12.345322608947754,
          11.076204299926758,
          12.487557411193848,
          12.186184883117676,
          10.881827354431152,
          12.794319152832031,
          10.825783729553223,
          11.928253173828125,
          12.849737167358398,
          11.875240325927734,
          11.747858047485352,
          12.780913352966309,
          11.193073272705078,
          11.532247543334961,
          10.328715324401855,
          12.918596267700195,
          12.10489273071289,
          10.480450630187988,
          11.346234321594238,
          13.054624557495117,
          12.469460487365723,
          12.018818855285645,
          10.66761589050293,
          12.379959106445312,
          12.517385482788086,
          12.823299407958984,
          12.175071716308594,
          10.971375465393066,
          11.662099838256836,
          12.727423667907715,
          12.612866401672363,
          11.847235679626465,
          10.991339683532715,
          11.152901649475098,
          12.508233070373535,
          11.556045532226562,
          11.242600440979004,
          10.949057579040527,
          11.298315048217773,
          12.75672435760498,
          12.16352653503418,
          13.222783088684082,
          12.670702934265137,
          12.33664608001709,
          11.121541976928711,
          12.347352981567383,
          12.477243423461914,
          10.97310733795166,
          12.206324577331543,
          10.518983840942383,
          12.470744132995605,
          11.423490524291992,
          10.566839218139648,
          10.374899864196777,
          10.924181938171387,
          12.506721496582031,
          11.956445693969727,
          12.598122596740723,
          11.592041969299316,
          12.174757957458496,
          12.454824447631836,
          10.816400527954102,
          10.69797134399414,
          10.648770332336426,
          11.009771347045898,
          12.124361991882324,
          12.139361381530762,
          12.644696235656738,
          10.568248748779297,
          12.273202896118164,
          13.233338356018066,
          11.223623275756836,
          11.79126262664795,
          10.653111457824707,
          10.535650253295898,
          13.236374855041504,
          11.489822387695312,
          11.998880386352539,
          10.4379243850708,
          11.633806228637695,
          10.584372520446777,
          10.519923210144043,
          11.506729125976562,
          12.749673843383789,
          11.311217308044434,
          12.294401168823242,
          10.480792999267578,
          12.850076675415039,
          12.39462947845459,
          11.714554786682129,
          10.521323204040527,
          10.991018295288086,
          11.985103607177734,
          10.84562873840332,
          11.792442321777344,
          11.467572212219238,
          11.662880897521973,
          11.680503845214844
         ]
        },
        {
         "hoverinfo": "text",
         "hovertext": [
          "happiness joy adventure",
          "zeen",
          "pleasure & intrigue",
          "relaxation calm curiosity",
          "peace",
          "insane",
          "experienced calmness almost nothingness relaxed peacefull soothing almost womb",
          "everything",
          "",
          "calm",
          "amazing sense peace positivity",
          "wonderfull peacefull",
          "peace contentment",
          "joy relaxation",
          "nice snooze thank",
          "warm",
          "interesting relaxed",
          "awake whole time could relax switch",
          "",
          "being: immersed calm thrilled",
          "x",
          "relaxing",
          "overall amazing",
          "joy",
          "ajourney relaxedand abit worried iknewi would safe",
          "intrigued excited",
          "want one home",
          "good vibes",
          "relaxed comfortable",
          "peaceful",
          "warm cold sensations hands one point relaxed sleepy found flashing lights little intense eye mask worked well times overall enjoyable relaxing",
          "calm",
          "calm",
          "peacefulness guidance",
          "good stuff",
          "feeling peace tranquillity",
          "calm peaceful state blissful even vastness poetic beautiful",
          "great sense calm belonging",
          "part something bigger",
          "scope mentally acceptance peace",
          "peaceful euphoric sense wonder awe",
          "atei feel really relaxed would j try meditate beforehand still racing thoughts interrupting couldnt totally immersed suffer tinnitus matter always distraction",
          "much",
          "want fo",
          "utter peace happiness",
          "interesting",
          "nothing",
          "complete relaxationpeace mind ready face whatever happens",
          "coming home",
          "bliss",
          "sparked much curiosity really understand",
          "interesting one",
          null
         ],
         "marker": {
          "opacity": 0.5,
          "size": 5
         },
         "mode": "markers+text",
         "name": "1_calm_peace_relaxed",
         "text": [
          "",
          "",
          "",
          "",
          "",
          "",
          "",
          "",
          "",
          "",
          "",
          "",
          "",
          "",
          "",
          "",
          "",
          "",
          "",
          "",
          "",
          "",
          "",
          "",
          "",
          "",
          "",
          "",
          "",
          "",
          "",
          "",
          "",
          "",
          "",
          "",
          "",
          "",
          "",
          "",
          "",
          "",
          "",
          "",
          "",
          "",
          "",
          "",
          "",
          "",
          "",
          "",
          "1_calm_peace_relaxed"
         ],
         "textfont": {
          "size": 12
         },
         "type": "scattergl",
         "x": [
          7.955074787139893,
          7.500133514404297,
          7.906477928161621,
          8.483320236206055,
          6.7739973068237305,
          7.325551986694336,
          8.429198265075684,
          7.695041656494141,
          7.516302585601807,
          6.915726184844971,
          6.838268756866455,
          6.974606990814209,
          6.747808933258057,
          7.995551109313965,
          7.871400356292725,
          8.089109420776367,
          8.124077796936035,
          8.882145881652832,
          7.4984025955200195,
          8.070446968078613,
          7.505000591278076,
          8.53569221496582,
          7.569578170776367,
          7.9125261306762695,
          8.196100234985352,
          7.488633632659912,
          8.071500778198242,
          7.694814205169678,
          8.356989860534668,
          6.821194648742676,
          8.744112968444824,
          6.9149041175842285,
          6.924091815948486,
          6.798908233642578,
          7.7151103019714355,
          6.955480575561523,
          7.164149284362793,
          6.980429649353027,
          7.770500183105469,
          6.806009769439697,
          7.1011247634887695,
          8.75965690612793,
          7.589175224304199,
          7.902182579040527,
          6.851065635681152,
          7.511083602905273,
          7.6795334815979,
          8.771240234375,
          8.098065376281738,
          7.697696208953857,
          7.414800643920898,
          7.450935363769531,
          7.641247749328613
         ],
         "y": [
          10.865705490112305,
          9.22473430633545,
          10.765983581542969,
          10.428227424621582,
          10.68990707397461,
          9.786008834838867,
          10.964690208435059,
          9.492691040039062,
          9.233080863952637,
          10.210260391235352,
          10.738527297973633,
          10.771055221557617,
          10.699755668640137,
          10.851024627685547,
          9.90328598022461,
          10.289827346801758,
          10.237247467041016,
          10.212173461914062,
          9.266408920288086,
          10.74283218383789,
          9.20351505279541,
          10.327644348144531,
          10.028034210205078,
          10.766090393066406,
          10.53641414642334,
          10.14474105834961,
          9.196416854858398,
          9.895938873291016,
          10.347862243652344,
          10.606001853942871,
          10.374797821044922,
          10.226895332336426,
          10.228809356689453,
          10.689030647277832,
          9.886055946350098,
          10.816385269165039,
          10.88366985321045,
          10.410884857177734,
          9.490893363952637,
          10.744325637817383,
          11.014005661010742,
          10.361191749572754,
          9.347955703735352,
          9.206223487854004,
          10.733000755310059,
          9.885436058044434,
          9.49299430847168,
          10.378804206848145,
          9.226808547973633,
          10.596561431884766,
          10.237580299377441,
          9.82934856414795,
          10.201688766479492
         ]
        },
        {
         "hoverinfo": "text",
         "hovertext": [
          "really enjoyed music zen",
          "sharp music connected sound helicopters smell burning associated war majority experienced heart shapes cosmic lights galaxies",
          "awesome much expected diolch yn fawr tess calming",
          "good beats leading helpful positive ambient sounds",
          "music gentle powerful",
          "put quite strange amazing mood want catch still sensitizing feeling one afterglow wonderful seeing deep textures powdery lights arise vision best bit taking feelingss music gliding morphing visions according feel music memory childhood spending lots time staring windows media player audio visualiser listening songs liked seemed amazing time made think synesthetic experiences they're precious worth seeking appreciating - music visual thing",
          "feeling freedom time space watched room rise fall music weight people room connected",
          "awesome expected sometimes verging oppressive never scary well lead",
          "pareidolia unnerving sometimes amazing though",
          "thouhht really intense went phases rush taking journey colour beautiful calmingor rigid uncomfortable ididnt know look sudden disembodied huge wave eurphoria took totally free itsthe comfort ive ever magical",
          "good surprise sensation play mind emotions thanks",
          "saw stars hexagons tesselating twisting zooming left right reds blues greens galactic bacground wanted engage annoyed started ands topped brain developing themes louder music better would liked slight difusion light something keep eyes shut intensity demanding open eyes concious mind thinking stopping thinking funny couldnt help thinking would happen drum beat maybe allow non euro music much love john hopkins",
          "visual expirence would change lot music became relaxed music progressed journey",
          "memories meditationswimming weightlessnessspace",
          "physically music especially percussion bass still feeling",
          "relaxed peaceful beats music",
          "sure puroose except muxic certainly inuced sleep dream state bpm high otherwise interesting co fusing much visions either think lights sy c go music well",
          "emptiness mind consumed power music filled mind",
          "aware music tgroughout changing rythms tones",
          "relaxed sleep music colour chqnged",
          "initially interested others reacting around began relax changing colours made feel safe happy music conjured images buddists spiritual people",
          "stimulation relaxation within music light",
          "musicis calming surreal sensory overwhelming powerful scared ar calmed feels sympolism acceptance self fear life isvan unique wont forget",
          "really pleasant relaxing sensation erotic make think sex sense struck enjoyable could sexual (alone others) conjunction sensation also wanted intenlse - much louder music intense part lighting pattern repeated longer",
          "unease",
          "hearing gongs saw sammi ling's buddhist retreat ans imagined totally relaxing peace music pace volume increased saw horses galloping increasing speed zt point horse pace gathefed train speed ing tgrough countryside time space muic reach climax found returning world countryside gradually getting back normal everyday life sense tge grating sounds towards exceot colour turquoise gradualky turned black nothingness",
          "journey unknown beautiful quest oblivion",
          "relaxing patterened music",
          "many psychecik lic experiences many years tame interezted potential taki g co mbining substzncex",
          "music",
          "starting fee lfar significant/interesting emotions stopped",
          "windows busy life flashes past seeing lovely mum partner dad sister niece nephew friends punctuated audio heightened loud point i'd left body - fully immersed sound light",
          "loneliness inner chikd screaming love screeching intensely anxious bit suffocated also knowing i've got embraced inner child allowed sulk scream cry coming mix intense feelings knowing could handle music took whole journey completrly surrounded music space space thick hot air saturated soundwaves inhaling drowning sound learning swim enjoy heal",
          "heard various music patterns different speeds high low notes music seemed build crescendo near session move slower calming sequence enhanced patterns made feel journey",
          null
         ],
         "marker": {
          "opacity": 0.5,
          "size": 5
         },
         "mode": "markers+text",
         "name": "2_music_journey_much",
         "text": [
          "",
          "",
          "",
          "",
          "",
          "",
          "",
          "",
          "",
          "",
          "",
          "",
          "",
          "",
          "",
          "",
          "",
          "",
          "",
          "",
          "",
          "",
          "",
          "",
          "",
          "",
          "",
          "",
          "",
          "",
          "",
          "",
          "",
          "",
          "2_music_journey_much"
         ],
         "textfont": {
          "size": 12
         },
         "type": "scattergl",
         "x": [
          8.618746757507324,
          9.339250564575195,
          8.795104026794434,
          8.57344913482666,
          8.566670417785645,
          8.831316947937012,
          8.912726402282715,
          8.449203491210938,
          8.579320907592773,
          8.973248481750488,
          8.542916297912598,
          9.121660232543945,
          8.84292221069336,
          8.919746398925781,
          8.601962089538574,
          8.600361824035645,
          8.653342247009277,
          8.766984939575195,
          8.786443710327148,
          8.71003246307373,
          9.857255935668945,
          8.771394729614258,
          8.771615028381348,
          8.874695777893066,
          8.812729835510254,
          9.094188690185547,
          8.598114967346191,
          8.642145156860352,
          8.941027641296387,
          8.55051326751709,
          8.657732009887695,
          9.456194877624512,
          8.7370023727417,
          8.915157318115234,
          8.819563865661621
         ],
         "y": [
          13.01305103302002,
          12.416641235351562,
          11.833372116088867,
          13.164351463317871,
          13.147226333618164,
          12.381044387817383,
          12.457647323608398,
          11.698404312133789,
          11.719518661499023,
          11.983901023864746,
          11.530056953430176,
          12.412864685058594,
          12.810320854187012,
          12.390830039978027,
          13.154943466186523,
          13.158557891845703,
          12.658015251159668,
          12.656929969787598,
          12.994755744934082,
          13.135340690612793,
          12.715107917785645,
          13.092785835266113,
          11.92042064666748,
          12.550636291503906,
          11.702234268188477,
          12.384990692138672,
          12.018393516540527,
          13.171412467956543,
          12.583874702453613,
          13.12628173828125,
          11.50328254699707,
          12.853172302246094,
          12.138723373413086,
          12.717926025390625,
          12.505794525146484
         ]
        },
        {
         "hoverinfo": "text",
         "hovertext": [
          "mind began wander reflect dreams goals relaxed way whereas usually anxious",
          "struggling mind would go back stringof thoughts andtoget take avery deep breath went past blank set thoughts occured thrice andiinhaled really deep get past",
          "found lost thought near stopped aware visual thought stuff similar stuff normally think wonder work tall chair",
          "sleepy bit anxious times due speed flashing lights profound thoughts rather almost fell asleep dreamlike way",
          "brain massaged sometimes overwhelming think became overwhelming brain would cut normal thoughts eg need buy tge shop dinner sometimes would see clips eg film interdespersed everyniw",
          "someone sleep paralysis regularly quite interesting brain automatically reached details prove \"real\" much present meditate either even though tried visuals pretty fun though",
          "something familiar soul experienced several emotions numb",
          "thought feeling people around made feel vulnrable",
          "put dreamlike semiconcious state sensation quite asleep coming wakefulness dreaming real things conversations",
          "constant thoughts coming towards batted away sky",
          "random thoughts connected people close others events journeys",
          "saw grey pulsing heart float across mind",
          "parents house figure room old house (shared ex) walking daily comute towards old front door walking dog normal experiences usually time everything scary people things surroundings closing sides made jump grab chest",
          "thoughts connecting others",
          "brief - thinking death could look decided assume go near ddath check thoughts could build smth thzn visual thing cannot say totally useless expecting",
          "almost transformative lights started gradually built moved states mindfullness distracted everyday thoughts sometimes wrestling two crescendoed cacophony sound light reached state full awareness arms weightless parts body distant unrecognisable",
          "also experienced ghost people purifferal verison sometimes fleeting walkjng around room whispy milky apperence also dyslexic itwasinteresting experence nuero divergent brained person",
          "detachment though body one box mind another anxjety came thst lack control",
          "peace tranquility joy stimulation arousal swirling patterns geometricshapes shifting changing got lost body disappeared cam eback short dreams",
          "kept thinking game football played tuesdayand hyper aware eyes something something might pull awzy",
          "thought god",
          "helicopter busy mind rest relentless stuck",
          "thoughts safe fun gives odd feeling wanting keep feeling types thing",
          "intense chaos mind checked subconscious took started talking imagine looking back life die",
          "people talking made see people walking towards really creepy",
          "different thoughts perception light manner human descernment develops towards something",
          "wanting thoughts overtake",
          "really thoughts day things need forgotten",
          "86 billion neurons wonder psychedelic experiences complexity brain produce limitless spectrum depression enlightenment thought anyway dream",
          null
         ],
         "marker": {
          "opacity": 0.5,
          "size": 5
         },
         "mode": "markers+text",
         "name": "3_thoughts_people_mind",
         "text": [
          "",
          "",
          "",
          "",
          "",
          "",
          "",
          "",
          "",
          "",
          "",
          "",
          "",
          "",
          "",
          "",
          "",
          "",
          "",
          "",
          "",
          "",
          "",
          "",
          "",
          "",
          "",
          "",
          "",
          "3_thoughts_people_mind"
         ],
         "textfont": {
          "size": 12
         },
         "type": "scattergl",
         "x": [
          9.941414833068848,
          9.784258842468262,
          10.177922248840332,
          9.978204727172852,
          9.855055809020996,
          9.814566612243652,
          9.12251091003418,
          9.6614990234375,
          9.984898567199707,
          10.179414749145508,
          9.932570457458496,
          9.484840393066406,
          9.310336112976074,
          9.934494018554688,
          9.685999870300293,
          10.270275115966797,
          9.537684440612793,
          9.951681137084961,
          10.006416320800781,
          10.191752433776855,
          9.8336820602417,
          10.298369407653809,
          9.590949058532715,
          9.836321830749512,
          9.49790096282959,
          10.031960487365723,
          9.912491798400879,
          9.976967811584473,
          9.851678848266602,
          9.849520683288574
         ],
         "y": [
          10.43610668182373,
          10.804791450500488,
          11.094680786132812,
          10.357253074645996,
          11.120366096496582,
          10.526023864746094,
          11.445246696472168,
          11.229791641235352,
          10.321025848388672,
          10.750815391540527,
          10.996054649353027,
          11.320579528808594,
          11.088577270507812,
          11.040969848632812,
          10.345648765563965,
          11.484097480773926,
          11.224977493286133,
          11.129408836364746,
          10.318907737731934,
          10.839316368103027,
          11.011609077453613,
          10.57706356048584,
          11.136590003967285,
          10.426970481872559,
          11.190311431884766,
          11.257546424865723,
          11.006996154785156,
          11.01309871673584,
          10.578924179077148,
          10.899094581604004
         ]
        }
       ],
       "layout": {
        "annotations": [
         {
          "showarrow": false,
          "text": "D1",
          "x": 5.735637593269348,
          "y": 11.388645672798157,
          "yshift": 10
         },
         {
          "showarrow": false,
          "text": "D2",
          "x": 10.912030279636383,
          "xshift": 10,
          "y": 15.22183108329773
         }
        ],
        "height": 750,
        "shapes": [
         {
          "line": {
           "color": "#CFD8DC",
           "width": 2
          },
          "type": "line",
          "x0": 10.912030279636383,
          "x1": 10.912030279636383,
          "y0": 7.555460262298584,
          "y1": 15.22183108329773
         },
         {
          "line": {
           "color": "#9E9E9E",
           "width": 2
          },
          "type": "line",
          "x0": 5.735637593269348,
          "x1": 16.088422966003417,
          "y0": 11.388645672798157,
          "y1": 11.388645672798157
         }
        ],
        "template": {
         "data": {
          "bar": [
           {
            "error_x": {
             "color": "rgb(36,36,36)"
            },
            "error_y": {
             "color": "rgb(36,36,36)"
            },
            "marker": {
             "line": {
              "color": "white",
              "width": 0.5
             },
             "pattern": {
              "fillmode": "overlay",
              "size": 10,
              "solidity": 0.2
             }
            },
            "type": "bar"
           }
          ],
          "barpolar": [
           {
            "marker": {
             "line": {
              "color": "white",
              "width": 0.5
             },
             "pattern": {
              "fillmode": "overlay",
              "size": 10,
              "solidity": 0.2
             }
            },
            "type": "barpolar"
           }
          ],
          "carpet": [
           {
            "aaxis": {
             "endlinecolor": "rgb(36,36,36)",
             "gridcolor": "white",
             "linecolor": "white",
             "minorgridcolor": "white",
             "startlinecolor": "rgb(36,36,36)"
            },
            "baxis": {
             "endlinecolor": "rgb(36,36,36)",
             "gridcolor": "white",
             "linecolor": "white",
             "minorgridcolor": "white",
             "startlinecolor": "rgb(36,36,36)"
            },
            "type": "carpet"
           }
          ],
          "choropleth": [
           {
            "colorbar": {
             "outlinewidth": 1,
             "tickcolor": "rgb(36,36,36)",
             "ticks": "outside"
            },
            "type": "choropleth"
           }
          ],
          "contour": [
           {
            "colorbar": {
             "outlinewidth": 1,
             "tickcolor": "rgb(36,36,36)",
             "ticks": "outside"
            },
            "colorscale": [
             [
              0,
              "#440154"
             ],
             [
              0.1111111111111111,
              "#482878"
             ],
             [
              0.2222222222222222,
              "#3e4989"
             ],
             [
              0.3333333333333333,
              "#31688e"
             ],
             [
              0.4444444444444444,
              "#26828e"
             ],
             [
              0.5555555555555556,
              "#1f9e89"
             ],
             [
              0.6666666666666666,
              "#35b779"
             ],
             [
              0.7777777777777778,
              "#6ece58"
             ],
             [
              0.8888888888888888,
              "#b5de2b"
             ],
             [
              1,
              "#fde725"
             ]
            ],
            "type": "contour"
           }
          ],
          "contourcarpet": [
           {
            "colorbar": {
             "outlinewidth": 1,
             "tickcolor": "rgb(36,36,36)",
             "ticks": "outside"
            },
            "type": "contourcarpet"
           }
          ],
          "heatmap": [
           {
            "colorbar": {
             "outlinewidth": 1,
             "tickcolor": "rgb(36,36,36)",
             "ticks": "outside"
            },
            "colorscale": [
             [
              0,
              "#440154"
             ],
             [
              0.1111111111111111,
              "#482878"
             ],
             [
              0.2222222222222222,
              "#3e4989"
             ],
             [
              0.3333333333333333,
              "#31688e"
             ],
             [
              0.4444444444444444,
              "#26828e"
             ],
             [
              0.5555555555555556,
              "#1f9e89"
             ],
             [
              0.6666666666666666,
              "#35b779"
             ],
             [
              0.7777777777777778,
              "#6ece58"
             ],
             [
              0.8888888888888888,
              "#b5de2b"
             ],
             [
              1,
              "#fde725"
             ]
            ],
            "type": "heatmap"
           }
          ],
          "heatmapgl": [
           {
            "colorbar": {
             "outlinewidth": 1,
             "tickcolor": "rgb(36,36,36)",
             "ticks": "outside"
            },
            "colorscale": [
             [
              0,
              "#440154"
             ],
             [
              0.1111111111111111,
              "#482878"
             ],
             [
              0.2222222222222222,
              "#3e4989"
             ],
             [
              0.3333333333333333,
              "#31688e"
             ],
             [
              0.4444444444444444,
              "#26828e"
             ],
             [
              0.5555555555555556,
              "#1f9e89"
             ],
             [
              0.6666666666666666,
              "#35b779"
             ],
             [
              0.7777777777777778,
              "#6ece58"
             ],
             [
              0.8888888888888888,
              "#b5de2b"
             ],
             [
              1,
              "#fde725"
             ]
            ],
            "type": "heatmapgl"
           }
          ],
          "histogram": [
           {
            "marker": {
             "line": {
              "color": "white",
              "width": 0.6
             }
            },
            "type": "histogram"
           }
          ],
          "histogram2d": [
           {
            "colorbar": {
             "outlinewidth": 1,
             "tickcolor": "rgb(36,36,36)",
             "ticks": "outside"
            },
            "colorscale": [
             [
              0,
              "#440154"
             ],
             [
              0.1111111111111111,
              "#482878"
             ],
             [
              0.2222222222222222,
              "#3e4989"
             ],
             [
              0.3333333333333333,
              "#31688e"
             ],
             [
              0.4444444444444444,
              "#26828e"
             ],
             [
              0.5555555555555556,
              "#1f9e89"
             ],
             [
              0.6666666666666666,
              "#35b779"
             ],
             [
              0.7777777777777778,
              "#6ece58"
             ],
             [
              0.8888888888888888,
              "#b5de2b"
             ],
             [
              1,
              "#fde725"
             ]
            ],
            "type": "histogram2d"
           }
          ],
          "histogram2dcontour": [
           {
            "colorbar": {
             "outlinewidth": 1,
             "tickcolor": "rgb(36,36,36)",
             "ticks": "outside"
            },
            "colorscale": [
             [
              0,
              "#440154"
             ],
             [
              0.1111111111111111,
              "#482878"
             ],
             [
              0.2222222222222222,
              "#3e4989"
             ],
             [
              0.3333333333333333,
              "#31688e"
             ],
             [
              0.4444444444444444,
              "#26828e"
             ],
             [
              0.5555555555555556,
              "#1f9e89"
             ],
             [
              0.6666666666666666,
              "#35b779"
             ],
             [
              0.7777777777777778,
              "#6ece58"
             ],
             [
              0.8888888888888888,
              "#b5de2b"
             ],
             [
              1,
              "#fde725"
             ]
            ],
            "type": "histogram2dcontour"
           }
          ],
          "mesh3d": [
           {
            "colorbar": {
             "outlinewidth": 1,
             "tickcolor": "rgb(36,36,36)",
             "ticks": "outside"
            },
            "type": "mesh3d"
           }
          ],
          "parcoords": [
           {
            "line": {
             "colorbar": {
              "outlinewidth": 1,
              "tickcolor": "rgb(36,36,36)",
              "ticks": "outside"
             }
            },
            "type": "parcoords"
           }
          ],
          "pie": [
           {
            "automargin": true,
            "type": "pie"
           }
          ],
          "scatter": [
           {
            "fillpattern": {
             "fillmode": "overlay",
             "size": 10,
             "solidity": 0.2
            },
            "type": "scatter"
           }
          ],
          "scatter3d": [
           {
            "line": {
             "colorbar": {
              "outlinewidth": 1,
              "tickcolor": "rgb(36,36,36)",
              "ticks": "outside"
             }
            },
            "marker": {
             "colorbar": {
              "outlinewidth": 1,
              "tickcolor": "rgb(36,36,36)",
              "ticks": "outside"
             }
            },
            "type": "scatter3d"
           }
          ],
          "scattercarpet": [
           {
            "marker": {
             "colorbar": {
              "outlinewidth": 1,
              "tickcolor": "rgb(36,36,36)",
              "ticks": "outside"
             }
            },
            "type": "scattercarpet"
           }
          ],
          "scattergeo": [
           {
            "marker": {
             "colorbar": {
              "outlinewidth": 1,
              "tickcolor": "rgb(36,36,36)",
              "ticks": "outside"
             }
            },
            "type": "scattergeo"
           }
          ],
          "scattergl": [
           {
            "marker": {
             "colorbar": {
              "outlinewidth": 1,
              "tickcolor": "rgb(36,36,36)",
              "ticks": "outside"
             }
            },
            "type": "scattergl"
           }
          ],
          "scattermapbox": [
           {
            "marker": {
             "colorbar": {
              "outlinewidth": 1,
              "tickcolor": "rgb(36,36,36)",
              "ticks": "outside"
             }
            },
            "type": "scattermapbox"
           }
          ],
          "scatterpolar": [
           {
            "marker": {
             "colorbar": {
              "outlinewidth": 1,
              "tickcolor": "rgb(36,36,36)",
              "ticks": "outside"
             }
            },
            "type": "scatterpolar"
           }
          ],
          "scatterpolargl": [
           {
            "marker": {
             "colorbar": {
              "outlinewidth": 1,
              "tickcolor": "rgb(36,36,36)",
              "ticks": "outside"
             }
            },
            "type": "scatterpolargl"
           }
          ],
          "scatterternary": [
           {
            "marker": {
             "colorbar": {
              "outlinewidth": 1,
              "tickcolor": "rgb(36,36,36)",
              "ticks": "outside"
             }
            },
            "type": "scatterternary"
           }
          ],
          "surface": [
           {
            "colorbar": {
             "outlinewidth": 1,
             "tickcolor": "rgb(36,36,36)",
             "ticks": "outside"
            },
            "colorscale": [
             [
              0,
              "#440154"
             ],
             [
              0.1111111111111111,
              "#482878"
             ],
             [
              0.2222222222222222,
              "#3e4989"
             ],
             [
              0.3333333333333333,
              "#31688e"
             ],
             [
              0.4444444444444444,
              "#26828e"
             ],
             [
              0.5555555555555556,
              "#1f9e89"
             ],
             [
              0.6666666666666666,
              "#35b779"
             ],
             [
              0.7777777777777778,
              "#6ece58"
             ],
             [
              0.8888888888888888,
              "#b5de2b"
             ],
             [
              1,
              "#fde725"
             ]
            ],
            "type": "surface"
           }
          ],
          "table": [
           {
            "cells": {
             "fill": {
              "color": "rgb(237,237,237)"
             },
             "line": {
              "color": "white"
             }
            },
            "header": {
             "fill": {
              "color": "rgb(217,217,217)"
             },
             "line": {
              "color": "white"
             }
            },
            "type": "table"
           }
          ]
         },
         "layout": {
          "annotationdefaults": {
           "arrowhead": 0,
           "arrowwidth": 1
          },
          "autotypenumbers": "strict",
          "coloraxis": {
           "colorbar": {
            "outlinewidth": 1,
            "tickcolor": "rgb(36,36,36)",
            "ticks": "outside"
           }
          },
          "colorscale": {
           "diverging": [
            [
             0,
             "rgb(103,0,31)"
            ],
            [
             0.1,
             "rgb(178,24,43)"
            ],
            [
             0.2,
             "rgb(214,96,77)"
            ],
            [
             0.3,
             "rgb(244,165,130)"
            ],
            [
             0.4,
             "rgb(253,219,199)"
            ],
            [
             0.5,
             "rgb(247,247,247)"
            ],
            [
             0.6,
             "rgb(209,229,240)"
            ],
            [
             0.7,
             "rgb(146,197,222)"
            ],
            [
             0.8,
             "rgb(67,147,195)"
            ],
            [
             0.9,
             "rgb(33,102,172)"
            ],
            [
             1,
             "rgb(5,48,97)"
            ]
           ],
           "sequential": [
            [
             0,
             "#440154"
            ],
            [
             0.1111111111111111,
             "#482878"
            ],
            [
             0.2222222222222222,
             "#3e4989"
            ],
            [
             0.3333333333333333,
             "#31688e"
            ],
            [
             0.4444444444444444,
             "#26828e"
            ],
            [
             0.5555555555555556,
             "#1f9e89"
            ],
            [
             0.6666666666666666,
             "#35b779"
            ],
            [
             0.7777777777777778,
             "#6ece58"
            ],
            [
             0.8888888888888888,
             "#b5de2b"
            ],
            [
             1,
             "#fde725"
            ]
           ],
           "sequentialminus": [
            [
             0,
             "#440154"
            ],
            [
             0.1111111111111111,
             "#482878"
            ],
            [
             0.2222222222222222,
             "#3e4989"
            ],
            [
             0.3333333333333333,
             "#31688e"
            ],
            [
             0.4444444444444444,
             "#26828e"
            ],
            [
             0.5555555555555556,
             "#1f9e89"
            ],
            [
             0.6666666666666666,
             "#35b779"
            ],
            [
             0.7777777777777778,
             "#6ece58"
            ],
            [
             0.8888888888888888,
             "#b5de2b"
            ],
            [
             1,
             "#fde725"
            ]
           ]
          },
          "colorway": [
           "#1F77B4",
           "#FF7F0E",
           "#2CA02C",
           "#D62728",
           "#9467BD",
           "#8C564B",
           "#E377C2",
           "#7F7F7F",
           "#BCBD22",
           "#17BECF"
          ],
          "font": {
           "color": "rgb(36,36,36)"
          },
          "geo": {
           "bgcolor": "white",
           "lakecolor": "white",
           "landcolor": "white",
           "showlakes": true,
           "showland": true,
           "subunitcolor": "white"
          },
          "hoverlabel": {
           "align": "left"
          },
          "hovermode": "closest",
          "mapbox": {
           "style": "light"
          },
          "paper_bgcolor": "white",
          "plot_bgcolor": "white",
          "polar": {
           "angularaxis": {
            "gridcolor": "rgb(232,232,232)",
            "linecolor": "rgb(36,36,36)",
            "showgrid": false,
            "showline": true,
            "ticks": "outside"
           },
           "bgcolor": "white",
           "radialaxis": {
            "gridcolor": "rgb(232,232,232)",
            "linecolor": "rgb(36,36,36)",
            "showgrid": false,
            "showline": true,
            "ticks": "outside"
           }
          },
          "scene": {
           "xaxis": {
            "backgroundcolor": "white",
            "gridcolor": "rgb(232,232,232)",
            "gridwidth": 2,
            "linecolor": "rgb(36,36,36)",
            "showbackground": true,
            "showgrid": false,
            "showline": true,
            "ticks": "outside",
            "zeroline": false,
            "zerolinecolor": "rgb(36,36,36)"
           },
           "yaxis": {
            "backgroundcolor": "white",
            "gridcolor": "rgb(232,232,232)",
            "gridwidth": 2,
            "linecolor": "rgb(36,36,36)",
            "showbackground": true,
            "showgrid": false,
            "showline": true,
            "ticks": "outside",
            "zeroline": false,
            "zerolinecolor": "rgb(36,36,36)"
           },
           "zaxis": {
            "backgroundcolor": "white",
            "gridcolor": "rgb(232,232,232)",
            "gridwidth": 2,
            "linecolor": "rgb(36,36,36)",
            "showbackground": true,
            "showgrid": false,
            "showline": true,
            "ticks": "outside",
            "zeroline": false,
            "zerolinecolor": "rgb(36,36,36)"
           }
          },
          "shapedefaults": {
           "fillcolor": "black",
           "line": {
            "width": 0
           },
           "opacity": 0.3
          },
          "ternary": {
           "aaxis": {
            "gridcolor": "rgb(232,232,232)",
            "linecolor": "rgb(36,36,36)",
            "showgrid": false,
            "showline": true,
            "ticks": "outside"
           },
           "baxis": {
            "gridcolor": "rgb(232,232,232)",
            "linecolor": "rgb(36,36,36)",
            "showgrid": false,
            "showline": true,
            "ticks": "outside"
           },
           "bgcolor": "white",
           "caxis": {
            "gridcolor": "rgb(232,232,232)",
            "linecolor": "rgb(36,36,36)",
            "showgrid": false,
            "showline": true,
            "ticks": "outside"
           }
          },
          "title": {
           "x": 0.05
          },
          "xaxis": {
           "automargin": true,
           "gridcolor": "rgb(232,232,232)",
           "linecolor": "rgb(36,36,36)",
           "showgrid": false,
           "showline": true,
           "ticks": "outside",
           "title": {
            "standoff": 15
           },
           "zeroline": false,
           "zerolinecolor": "rgb(36,36,36)"
          },
          "yaxis": {
           "automargin": true,
           "gridcolor": "rgb(232,232,232)",
           "linecolor": "rgb(36,36,36)",
           "showgrid": false,
           "showline": true,
           "ticks": "outside",
           "title": {
            "standoff": 15
           },
           "zeroline": false,
           "zerolinecolor": "rgb(36,36,36)"
          }
         }
        },
        "title": {
         "font": {
          "color": "Black",
          "size": 22
         },
         "text": "<b>Documents and Topics</b>",
         "x": 0.5,
         "xanchor": "center",
         "yanchor": "top"
        },
        "width": 1200,
        "xaxis": {
         "visible": false
        },
        "yaxis": {
         "visible": false
        }
       }
      }
     },
     "metadata": {},
     "output_type": "display_data"
    }
   ],
   "source": [
    "model.visualize_documents(reports['text_processed'])"
   ]
  },
  {
   "cell_type": "code",
   "execution_count": 28,
   "metadata": {},
   "outputs": [
    {
     "data": {
      "application/vnd.plotly.v1+json": {
       "config": {
        "plotlyServerURL": "https://plot.ly"
       },
       "data": [
        {
         "coloraxis": "coloraxis",
         "hovertemplate": "x: %{x}<br>y: %{y}<br>Similarity Score: %{z}<extra></extra>",
         "name": "0",
         "type": "heatmap",
         "x": [
          "0_saw_colours_moving",
          "1_calm_peace_relaxed",
          "2_music_journey_much",
          "3_thoughts_people_mind"
         ],
         "xaxis": "x",
         "y": [
          "0_saw_colours_moving",
          "1_calm_peace_relaxed",
          "2_music_journey_much",
          "3_thoughts_people_mind"
         ],
         "yaxis": "y",
         "z": [
          [
           0.9999997615814209,
           0.40979862213134766,
           0.5400566458702087,
           0.5838124752044678
          ],
          [
           0.40979862213134766,
           1,
           0.6158676147460938,
           0.5507907867431641
          ],
          [
           0.5400566458702087,
           0.6158676147460938,
           0.9999998807907104,
           0.6767594814300537
          ],
          [
           0.5838124752044678,
           0.5507907867431641,
           0.6767594814300537,
           1.0000003576278687
          ]
         ]
        }
       ],
       "layout": {
        "coloraxis": {
         "colorbar": {
          "title": {
           "text": "Similarity Score"
          }
         },
         "colorscale": [
          [
           0,
           "rgb(247,252,240)"
          ],
          [
           0.125,
           "rgb(224,243,219)"
          ],
          [
           0.25,
           "rgb(204,235,197)"
          ],
          [
           0.375,
           "rgb(168,221,181)"
          ],
          [
           0.5,
           "rgb(123,204,196)"
          ],
          [
           0.625,
           "rgb(78,179,211)"
          ],
          [
           0.75,
           "rgb(43,140,190)"
          ],
          [
           0.875,
           "rgb(8,104,172)"
          ],
          [
           1,
           "rgb(8,64,129)"
          ]
         ]
        },
        "height": 800,
        "hoverlabel": {
         "bgcolor": "white",
         "font": {
          "family": "Rockwell",
          "size": 16
         }
        },
        "legend": {
         "title": {
          "text": "Trend"
         }
        },
        "margin": {
         "t": 60
        },
        "showlegend": true,
        "template": {
         "data": {
          "bar": [
           {
            "error_x": {
             "color": "#2a3f5f"
            },
            "error_y": {
             "color": "#2a3f5f"
            },
            "marker": {
             "line": {
              "color": "#E5ECF6",
              "width": 0.5
             },
             "pattern": {
              "fillmode": "overlay",
              "size": 10,
              "solidity": 0.2
             }
            },
            "type": "bar"
           }
          ],
          "barpolar": [
           {
            "marker": {
             "line": {
              "color": "#E5ECF6",
              "width": 0.5
             },
             "pattern": {
              "fillmode": "overlay",
              "size": 10,
              "solidity": 0.2
             }
            },
            "type": "barpolar"
           }
          ],
          "carpet": [
           {
            "aaxis": {
             "endlinecolor": "#2a3f5f",
             "gridcolor": "white",
             "linecolor": "white",
             "minorgridcolor": "white",
             "startlinecolor": "#2a3f5f"
            },
            "baxis": {
             "endlinecolor": "#2a3f5f",
             "gridcolor": "white",
             "linecolor": "white",
             "minorgridcolor": "white",
             "startlinecolor": "#2a3f5f"
            },
            "type": "carpet"
           }
          ],
          "choropleth": [
           {
            "colorbar": {
             "outlinewidth": 0,
             "ticks": ""
            },
            "type": "choropleth"
           }
          ],
          "contour": [
           {
            "colorbar": {
             "outlinewidth": 0,
             "ticks": ""
            },
            "colorscale": [
             [
              0,
              "#0d0887"
             ],
             [
              0.1111111111111111,
              "#46039f"
             ],
             [
              0.2222222222222222,
              "#7201a8"
             ],
             [
              0.3333333333333333,
              "#9c179e"
             ],
             [
              0.4444444444444444,
              "#bd3786"
             ],
             [
              0.5555555555555556,
              "#d8576b"
             ],
             [
              0.6666666666666666,
              "#ed7953"
             ],
             [
              0.7777777777777778,
              "#fb9f3a"
             ],
             [
              0.8888888888888888,
              "#fdca26"
             ],
             [
              1,
              "#f0f921"
             ]
            ],
            "type": "contour"
           }
          ],
          "contourcarpet": [
           {
            "colorbar": {
             "outlinewidth": 0,
             "ticks": ""
            },
            "type": "contourcarpet"
           }
          ],
          "heatmap": [
           {
            "colorbar": {
             "outlinewidth": 0,
             "ticks": ""
            },
            "colorscale": [
             [
              0,
              "#0d0887"
             ],
             [
              0.1111111111111111,
              "#46039f"
             ],
             [
              0.2222222222222222,
              "#7201a8"
             ],
             [
              0.3333333333333333,
              "#9c179e"
             ],
             [
              0.4444444444444444,
              "#bd3786"
             ],
             [
              0.5555555555555556,
              "#d8576b"
             ],
             [
              0.6666666666666666,
              "#ed7953"
             ],
             [
              0.7777777777777778,
              "#fb9f3a"
             ],
             [
              0.8888888888888888,
              "#fdca26"
             ],
             [
              1,
              "#f0f921"
             ]
            ],
            "type": "heatmap"
           }
          ],
          "heatmapgl": [
           {
            "colorbar": {
             "outlinewidth": 0,
             "ticks": ""
            },
            "colorscale": [
             [
              0,
              "#0d0887"
             ],
             [
              0.1111111111111111,
              "#46039f"
             ],
             [
              0.2222222222222222,
              "#7201a8"
             ],
             [
              0.3333333333333333,
              "#9c179e"
             ],
             [
              0.4444444444444444,
              "#bd3786"
             ],
             [
              0.5555555555555556,
              "#d8576b"
             ],
             [
              0.6666666666666666,
              "#ed7953"
             ],
             [
              0.7777777777777778,
              "#fb9f3a"
             ],
             [
              0.8888888888888888,
              "#fdca26"
             ],
             [
              1,
              "#f0f921"
             ]
            ],
            "type": "heatmapgl"
           }
          ],
          "histogram": [
           {
            "marker": {
             "pattern": {
              "fillmode": "overlay",
              "size": 10,
              "solidity": 0.2
             }
            },
            "type": "histogram"
           }
          ],
          "histogram2d": [
           {
            "colorbar": {
             "outlinewidth": 0,
             "ticks": ""
            },
            "colorscale": [
             [
              0,
              "#0d0887"
             ],
             [
              0.1111111111111111,
              "#46039f"
             ],
             [
              0.2222222222222222,
              "#7201a8"
             ],
             [
              0.3333333333333333,
              "#9c179e"
             ],
             [
              0.4444444444444444,
              "#bd3786"
             ],
             [
              0.5555555555555556,
              "#d8576b"
             ],
             [
              0.6666666666666666,
              "#ed7953"
             ],
             [
              0.7777777777777778,
              "#fb9f3a"
             ],
             [
              0.8888888888888888,
              "#fdca26"
             ],
             [
              1,
              "#f0f921"
             ]
            ],
            "type": "histogram2d"
           }
          ],
          "histogram2dcontour": [
           {
            "colorbar": {
             "outlinewidth": 0,
             "ticks": ""
            },
            "colorscale": [
             [
              0,
              "#0d0887"
             ],
             [
              0.1111111111111111,
              "#46039f"
             ],
             [
              0.2222222222222222,
              "#7201a8"
             ],
             [
              0.3333333333333333,
              "#9c179e"
             ],
             [
              0.4444444444444444,
              "#bd3786"
             ],
             [
              0.5555555555555556,
              "#d8576b"
             ],
             [
              0.6666666666666666,
              "#ed7953"
             ],
             [
              0.7777777777777778,
              "#fb9f3a"
             ],
             [
              0.8888888888888888,
              "#fdca26"
             ],
             [
              1,
              "#f0f921"
             ]
            ],
            "type": "histogram2dcontour"
           }
          ],
          "mesh3d": [
           {
            "colorbar": {
             "outlinewidth": 0,
             "ticks": ""
            },
            "type": "mesh3d"
           }
          ],
          "parcoords": [
           {
            "line": {
             "colorbar": {
              "outlinewidth": 0,
              "ticks": ""
             }
            },
            "type": "parcoords"
           }
          ],
          "pie": [
           {
            "automargin": true,
            "type": "pie"
           }
          ],
          "scatter": [
           {
            "fillpattern": {
             "fillmode": "overlay",
             "size": 10,
             "solidity": 0.2
            },
            "type": "scatter"
           }
          ],
          "scatter3d": [
           {
            "line": {
             "colorbar": {
              "outlinewidth": 0,
              "ticks": ""
             }
            },
            "marker": {
             "colorbar": {
              "outlinewidth": 0,
              "ticks": ""
             }
            },
            "type": "scatter3d"
           }
          ],
          "scattercarpet": [
           {
            "marker": {
             "colorbar": {
              "outlinewidth": 0,
              "ticks": ""
             }
            },
            "type": "scattercarpet"
           }
          ],
          "scattergeo": [
           {
            "marker": {
             "colorbar": {
              "outlinewidth": 0,
              "ticks": ""
             }
            },
            "type": "scattergeo"
           }
          ],
          "scattergl": [
           {
            "marker": {
             "colorbar": {
              "outlinewidth": 0,
              "ticks": ""
             }
            },
            "type": "scattergl"
           }
          ],
          "scattermapbox": [
           {
            "marker": {
             "colorbar": {
              "outlinewidth": 0,
              "ticks": ""
             }
            },
            "type": "scattermapbox"
           }
          ],
          "scatterpolar": [
           {
            "marker": {
             "colorbar": {
              "outlinewidth": 0,
              "ticks": ""
             }
            },
            "type": "scatterpolar"
           }
          ],
          "scatterpolargl": [
           {
            "marker": {
             "colorbar": {
              "outlinewidth": 0,
              "ticks": ""
             }
            },
            "type": "scatterpolargl"
           }
          ],
          "scatterternary": [
           {
            "marker": {
             "colorbar": {
              "outlinewidth": 0,
              "ticks": ""
             }
            },
            "type": "scatterternary"
           }
          ],
          "surface": [
           {
            "colorbar": {
             "outlinewidth": 0,
             "ticks": ""
            },
            "colorscale": [
             [
              0,
              "#0d0887"
             ],
             [
              0.1111111111111111,
              "#46039f"
             ],
             [
              0.2222222222222222,
              "#7201a8"
             ],
             [
              0.3333333333333333,
              "#9c179e"
             ],
             [
              0.4444444444444444,
              "#bd3786"
             ],
             [
              0.5555555555555556,
              "#d8576b"
             ],
             [
              0.6666666666666666,
              "#ed7953"
             ],
             [
              0.7777777777777778,
              "#fb9f3a"
             ],
             [
              0.8888888888888888,
              "#fdca26"
             ],
             [
              1,
              "#f0f921"
             ]
            ],
            "type": "surface"
           }
          ],
          "table": [
           {
            "cells": {
             "fill": {
              "color": "#EBF0F8"
             },
             "line": {
              "color": "white"
             }
            },
            "header": {
             "fill": {
              "color": "#C8D4E3"
             },
             "line": {
              "color": "white"
             }
            },
            "type": "table"
           }
          ]
         },
         "layout": {
          "annotationdefaults": {
           "arrowcolor": "#2a3f5f",
           "arrowhead": 0,
           "arrowwidth": 1
          },
          "autotypenumbers": "strict",
          "coloraxis": {
           "colorbar": {
            "outlinewidth": 0,
            "ticks": ""
           }
          },
          "colorscale": {
           "diverging": [
            [
             0,
             "#8e0152"
            ],
            [
             0.1,
             "#c51b7d"
            ],
            [
             0.2,
             "#de77ae"
            ],
            [
             0.3,
             "#f1b6da"
            ],
            [
             0.4,
             "#fde0ef"
            ],
            [
             0.5,
             "#f7f7f7"
            ],
            [
             0.6,
             "#e6f5d0"
            ],
            [
             0.7,
             "#b8e186"
            ],
            [
             0.8,
             "#7fbc41"
            ],
            [
             0.9,
             "#4d9221"
            ],
            [
             1,
             "#276419"
            ]
           ],
           "sequential": [
            [
             0,
             "#0d0887"
            ],
            [
             0.1111111111111111,
             "#46039f"
            ],
            [
             0.2222222222222222,
             "#7201a8"
            ],
            [
             0.3333333333333333,
             "#9c179e"
            ],
            [
             0.4444444444444444,
             "#bd3786"
            ],
            [
             0.5555555555555556,
             "#d8576b"
            ],
            [
             0.6666666666666666,
             "#ed7953"
            ],
            [
             0.7777777777777778,
             "#fb9f3a"
            ],
            [
             0.8888888888888888,
             "#fdca26"
            ],
            [
             1,
             "#f0f921"
            ]
           ],
           "sequentialminus": [
            [
             0,
             "#0d0887"
            ],
            [
             0.1111111111111111,
             "#46039f"
            ],
            [
             0.2222222222222222,
             "#7201a8"
            ],
            [
             0.3333333333333333,
             "#9c179e"
            ],
            [
             0.4444444444444444,
             "#bd3786"
            ],
            [
             0.5555555555555556,
             "#d8576b"
            ],
            [
             0.6666666666666666,
             "#ed7953"
            ],
            [
             0.7777777777777778,
             "#fb9f3a"
            ],
            [
             0.8888888888888888,
             "#fdca26"
            ],
            [
             1,
             "#f0f921"
            ]
           ]
          },
          "colorway": [
           "#636efa",
           "#EF553B",
           "#00cc96",
           "#ab63fa",
           "#FFA15A",
           "#19d3f3",
           "#FF6692",
           "#B6E880",
           "#FF97FF",
           "#FECB52"
          ],
          "font": {
           "color": "#2a3f5f"
          },
          "geo": {
           "bgcolor": "white",
           "lakecolor": "white",
           "landcolor": "#E5ECF6",
           "showlakes": true,
           "showland": true,
           "subunitcolor": "white"
          },
          "hoverlabel": {
           "align": "left"
          },
          "hovermode": "closest",
          "mapbox": {
           "style": "light"
          },
          "paper_bgcolor": "white",
          "plot_bgcolor": "#E5ECF6",
          "polar": {
           "angularaxis": {
            "gridcolor": "white",
            "linecolor": "white",
            "ticks": ""
           },
           "bgcolor": "#E5ECF6",
           "radialaxis": {
            "gridcolor": "white",
            "linecolor": "white",
            "ticks": ""
           }
          },
          "scene": {
           "xaxis": {
            "backgroundcolor": "#E5ECF6",
            "gridcolor": "white",
            "gridwidth": 2,
            "linecolor": "white",
            "showbackground": true,
            "ticks": "",
            "zerolinecolor": "white"
           },
           "yaxis": {
            "backgroundcolor": "#E5ECF6",
            "gridcolor": "white",
            "gridwidth": 2,
            "linecolor": "white",
            "showbackground": true,
            "ticks": "",
            "zerolinecolor": "white"
           },
           "zaxis": {
            "backgroundcolor": "#E5ECF6",
            "gridcolor": "white",
            "gridwidth": 2,
            "linecolor": "white",
            "showbackground": true,
            "ticks": "",
            "zerolinecolor": "white"
           }
          },
          "shapedefaults": {
           "line": {
            "color": "#2a3f5f"
           }
          },
          "ternary": {
           "aaxis": {
            "gridcolor": "white",
            "linecolor": "white",
            "ticks": ""
           },
           "baxis": {
            "gridcolor": "white",
            "linecolor": "white",
            "ticks": ""
           },
           "bgcolor": "#E5ECF6",
           "caxis": {
            "gridcolor": "white",
            "linecolor": "white",
            "ticks": ""
           }
          },
          "title": {
           "x": 0.05
          },
          "xaxis": {
           "automargin": true,
           "gridcolor": "white",
           "linecolor": "white",
           "ticks": "",
           "title": {
            "standoff": 15
           },
           "zerolinecolor": "white",
           "zerolinewidth": 2
          },
          "yaxis": {
           "automargin": true,
           "gridcolor": "white",
           "linecolor": "white",
           "ticks": "",
           "title": {
            "standoff": 15
           },
           "zerolinecolor": "white",
           "zerolinewidth": 2
          }
         }
        },
        "title": {
         "font": {
          "color": "Black",
          "size": 22
         },
         "text": "<b>Similarity Matrix</b>",
         "x": 0.55,
         "xanchor": "center",
         "y": 0.95,
         "yanchor": "top"
        },
        "width": 800,
        "xaxis": {
         "anchor": "y",
         "constrain": "domain",
         "domain": [
          0,
          1
         ],
         "scaleanchor": "y"
        },
        "yaxis": {
         "anchor": "x",
         "autorange": "reversed",
         "constrain": "domain",
         "domain": [
          0,
          1
         ]
        }
       }
      }
     },
     "metadata": {},
     "output_type": "display_data"
    }
   ],
   "source": [
    "model.visualize_heatmap(top_n_topics=10) #Visualize the top 10 topics as a heatmap"
   ]
  },
  {
   "cell_type": "code",
   "execution_count": 29,
   "metadata": {},
   "outputs": [
    {
     "data": {
      "application/vnd.plotly.v1+json": {
       "config": {
        "plotlyServerURL": "https://plot.ly"
       },
       "data": [
        {
         "customdata": [
          [
           0,
           "saw | colours | moving | shapes | space",
           133
          ],
          [
           1,
           "calm | peace | relaxed | joy | interesting",
           52
          ],
          [
           2,
           "music | journey | much | calming | mind",
           34
          ],
          [
           3,
           "thoughts | people | mind | thought | brain",
           29
          ]
         ],
         "hovertemplate": "<b>Topic %{customdata[0]}</b><br>%{customdata[1]}<br>Size: %{customdata[2]}",
         "legendgroup": "",
         "marker": {
          "color": "#B0BEC5",
          "line": {
           "color": "DarkSlateGrey",
           "width": 2
          },
          "size": [
           133,
           52,
           34,
           29
          ],
          "sizemode": "area",
          "sizeref": 0.083125,
          "symbol": "circle"
         },
         "mode": "markers",
         "name": "",
         "orientation": "v",
         "showlegend": false,
         "type": "scatter",
         "x": [
          1.1998578310012817,
          2.555996894836426,
          2.7794532775878906,
          2.0376334190368652
         ],
         "xaxis": "x",
         "y": [
          12.176426887512207,
          10.776982307434082,
          11.576684951782227,
          12.248862266540527
         ],
         "yaxis": "y"
        }
       ],
       "layout": {
        "annotations": [
         {
          "showarrow": false,
          "text": "D1",
          "x": 1.0198791563510894,
          "y": 11.623313283920288,
          "yshift": 10
         },
         {
          "showarrow": false,
          "text": "D2",
          "x": 2.1081252127885817,
          "xshift": 10,
          "y": 14.086191606521606
         }
        ],
        "height": 650,
        "hoverlabel": {
         "bgcolor": "white",
         "font": {
          "family": "Rockwell",
          "size": 16
         }
        },
        "legend": {
         "itemsizing": "constant",
         "tracegroupgap": 0
        },
        "margin": {
         "t": 60
        },
        "shapes": [
         {
          "line": {
           "color": "#CFD8DC",
           "width": 2
          },
          "type": "line",
          "x0": 2.1081252127885817,
          "x1": 2.1081252127885817,
          "y0": 9.16043496131897,
          "y1": 14.086191606521606
         },
         {
          "line": {
           "color": "#9E9E9E",
           "width": 2
          },
          "type": "line",
          "x0": 1.0198791563510894,
          "x1": 3.1963712692260744,
          "y0": 11.623313283920288,
          "y1": 11.623313283920288
         }
        ],
        "sliders": [
         {
          "active": 0,
          "pad": {
           "t": 50
          },
          "steps": [
           {
            "args": [
             {
              "marker.color": [
               [
                "red",
                "#B0BEC5",
                "#B0BEC5",
                "#B0BEC5"
               ]
              ]
             }
            ],
            "label": "Topic 0",
            "method": "update"
           },
           {
            "args": [
             {
              "marker.color": [
               [
                "#B0BEC5",
                "red",
                "#B0BEC5",
                "#B0BEC5"
               ]
              ]
             }
            ],
            "label": "Topic 1",
            "method": "update"
           },
           {
            "args": [
             {
              "marker.color": [
               [
                "#B0BEC5",
                "#B0BEC5",
                "red",
                "#B0BEC5"
               ]
              ]
             }
            ],
            "label": "Topic 2",
            "method": "update"
           },
           {
            "args": [
             {
              "marker.color": [
               [
                "#B0BEC5",
                "#B0BEC5",
                "#B0BEC5",
                "red"
               ]
              ]
             }
            ],
            "label": "Topic 3",
            "method": "update"
           }
          ]
         }
        ],
        "template": {
         "data": {
          "bar": [
           {
            "error_x": {
             "color": "rgb(36,36,36)"
            },
            "error_y": {
             "color": "rgb(36,36,36)"
            },
            "marker": {
             "line": {
              "color": "white",
              "width": 0.5
             },
             "pattern": {
              "fillmode": "overlay",
              "size": 10,
              "solidity": 0.2
             }
            },
            "type": "bar"
           }
          ],
          "barpolar": [
           {
            "marker": {
             "line": {
              "color": "white",
              "width": 0.5
             },
             "pattern": {
              "fillmode": "overlay",
              "size": 10,
              "solidity": 0.2
             }
            },
            "type": "barpolar"
           }
          ],
          "carpet": [
           {
            "aaxis": {
             "endlinecolor": "rgb(36,36,36)",
             "gridcolor": "white",
             "linecolor": "white",
             "minorgridcolor": "white",
             "startlinecolor": "rgb(36,36,36)"
            },
            "baxis": {
             "endlinecolor": "rgb(36,36,36)",
             "gridcolor": "white",
             "linecolor": "white",
             "minorgridcolor": "white",
             "startlinecolor": "rgb(36,36,36)"
            },
            "type": "carpet"
           }
          ],
          "choropleth": [
           {
            "colorbar": {
             "outlinewidth": 1,
             "tickcolor": "rgb(36,36,36)",
             "ticks": "outside"
            },
            "type": "choropleth"
           }
          ],
          "contour": [
           {
            "colorbar": {
             "outlinewidth": 1,
             "tickcolor": "rgb(36,36,36)",
             "ticks": "outside"
            },
            "colorscale": [
             [
              0,
              "#440154"
             ],
             [
              0.1111111111111111,
              "#482878"
             ],
             [
              0.2222222222222222,
              "#3e4989"
             ],
             [
              0.3333333333333333,
              "#31688e"
             ],
             [
              0.4444444444444444,
              "#26828e"
             ],
             [
              0.5555555555555556,
              "#1f9e89"
             ],
             [
              0.6666666666666666,
              "#35b779"
             ],
             [
              0.7777777777777778,
              "#6ece58"
             ],
             [
              0.8888888888888888,
              "#b5de2b"
             ],
             [
              1,
              "#fde725"
             ]
            ],
            "type": "contour"
           }
          ],
          "contourcarpet": [
           {
            "colorbar": {
             "outlinewidth": 1,
             "tickcolor": "rgb(36,36,36)",
             "ticks": "outside"
            },
            "type": "contourcarpet"
           }
          ],
          "heatmap": [
           {
            "colorbar": {
             "outlinewidth": 1,
             "tickcolor": "rgb(36,36,36)",
             "ticks": "outside"
            },
            "colorscale": [
             [
              0,
              "#440154"
             ],
             [
              0.1111111111111111,
              "#482878"
             ],
             [
              0.2222222222222222,
              "#3e4989"
             ],
             [
              0.3333333333333333,
              "#31688e"
             ],
             [
              0.4444444444444444,
              "#26828e"
             ],
             [
              0.5555555555555556,
              "#1f9e89"
             ],
             [
              0.6666666666666666,
              "#35b779"
             ],
             [
              0.7777777777777778,
              "#6ece58"
             ],
             [
              0.8888888888888888,
              "#b5de2b"
             ],
             [
              1,
              "#fde725"
             ]
            ],
            "type": "heatmap"
           }
          ],
          "heatmapgl": [
           {
            "colorbar": {
             "outlinewidth": 1,
             "tickcolor": "rgb(36,36,36)",
             "ticks": "outside"
            },
            "colorscale": [
             [
              0,
              "#440154"
             ],
             [
              0.1111111111111111,
              "#482878"
             ],
             [
              0.2222222222222222,
              "#3e4989"
             ],
             [
              0.3333333333333333,
              "#31688e"
             ],
             [
              0.4444444444444444,
              "#26828e"
             ],
             [
              0.5555555555555556,
              "#1f9e89"
             ],
             [
              0.6666666666666666,
              "#35b779"
             ],
             [
              0.7777777777777778,
              "#6ece58"
             ],
             [
              0.8888888888888888,
              "#b5de2b"
             ],
             [
              1,
              "#fde725"
             ]
            ],
            "type": "heatmapgl"
           }
          ],
          "histogram": [
           {
            "marker": {
             "line": {
              "color": "white",
              "width": 0.6
             }
            },
            "type": "histogram"
           }
          ],
          "histogram2d": [
           {
            "colorbar": {
             "outlinewidth": 1,
             "tickcolor": "rgb(36,36,36)",
             "ticks": "outside"
            },
            "colorscale": [
             [
              0,
              "#440154"
             ],
             [
              0.1111111111111111,
              "#482878"
             ],
             [
              0.2222222222222222,
              "#3e4989"
             ],
             [
              0.3333333333333333,
              "#31688e"
             ],
             [
              0.4444444444444444,
              "#26828e"
             ],
             [
              0.5555555555555556,
              "#1f9e89"
             ],
             [
              0.6666666666666666,
              "#35b779"
             ],
             [
              0.7777777777777778,
              "#6ece58"
             ],
             [
              0.8888888888888888,
              "#b5de2b"
             ],
             [
              1,
              "#fde725"
             ]
            ],
            "type": "histogram2d"
           }
          ],
          "histogram2dcontour": [
           {
            "colorbar": {
             "outlinewidth": 1,
             "tickcolor": "rgb(36,36,36)",
             "ticks": "outside"
            },
            "colorscale": [
             [
              0,
              "#440154"
             ],
             [
              0.1111111111111111,
              "#482878"
             ],
             [
              0.2222222222222222,
              "#3e4989"
             ],
             [
              0.3333333333333333,
              "#31688e"
             ],
             [
              0.4444444444444444,
              "#26828e"
             ],
             [
              0.5555555555555556,
              "#1f9e89"
             ],
             [
              0.6666666666666666,
              "#35b779"
             ],
             [
              0.7777777777777778,
              "#6ece58"
             ],
             [
              0.8888888888888888,
              "#b5de2b"
             ],
             [
              1,
              "#fde725"
             ]
            ],
            "type": "histogram2dcontour"
           }
          ],
          "mesh3d": [
           {
            "colorbar": {
             "outlinewidth": 1,
             "tickcolor": "rgb(36,36,36)",
             "ticks": "outside"
            },
            "type": "mesh3d"
           }
          ],
          "parcoords": [
           {
            "line": {
             "colorbar": {
              "outlinewidth": 1,
              "tickcolor": "rgb(36,36,36)",
              "ticks": "outside"
             }
            },
            "type": "parcoords"
           }
          ],
          "pie": [
           {
            "automargin": true,
            "type": "pie"
           }
          ],
          "scatter": [
           {
            "fillpattern": {
             "fillmode": "overlay",
             "size": 10,
             "solidity": 0.2
            },
            "type": "scatter"
           }
          ],
          "scatter3d": [
           {
            "line": {
             "colorbar": {
              "outlinewidth": 1,
              "tickcolor": "rgb(36,36,36)",
              "ticks": "outside"
             }
            },
            "marker": {
             "colorbar": {
              "outlinewidth": 1,
              "tickcolor": "rgb(36,36,36)",
              "ticks": "outside"
             }
            },
            "type": "scatter3d"
           }
          ],
          "scattercarpet": [
           {
            "marker": {
             "colorbar": {
              "outlinewidth": 1,
              "tickcolor": "rgb(36,36,36)",
              "ticks": "outside"
             }
            },
            "type": "scattercarpet"
           }
          ],
          "scattergeo": [
           {
            "marker": {
             "colorbar": {
              "outlinewidth": 1,
              "tickcolor": "rgb(36,36,36)",
              "ticks": "outside"
             }
            },
            "type": "scattergeo"
           }
          ],
          "scattergl": [
           {
            "marker": {
             "colorbar": {
              "outlinewidth": 1,
              "tickcolor": "rgb(36,36,36)",
              "ticks": "outside"
             }
            },
            "type": "scattergl"
           }
          ],
          "scattermapbox": [
           {
            "marker": {
             "colorbar": {
              "outlinewidth": 1,
              "tickcolor": "rgb(36,36,36)",
              "ticks": "outside"
             }
            },
            "type": "scattermapbox"
           }
          ],
          "scatterpolar": [
           {
            "marker": {
             "colorbar": {
              "outlinewidth": 1,
              "tickcolor": "rgb(36,36,36)",
              "ticks": "outside"
             }
            },
            "type": "scatterpolar"
           }
          ],
          "scatterpolargl": [
           {
            "marker": {
             "colorbar": {
              "outlinewidth": 1,
              "tickcolor": "rgb(36,36,36)",
              "ticks": "outside"
             }
            },
            "type": "scatterpolargl"
           }
          ],
          "scatterternary": [
           {
            "marker": {
             "colorbar": {
              "outlinewidth": 1,
              "tickcolor": "rgb(36,36,36)",
              "ticks": "outside"
             }
            },
            "type": "scatterternary"
           }
          ],
          "surface": [
           {
            "colorbar": {
             "outlinewidth": 1,
             "tickcolor": "rgb(36,36,36)",
             "ticks": "outside"
            },
            "colorscale": [
             [
              0,
              "#440154"
             ],
             [
              0.1111111111111111,
              "#482878"
             ],
             [
              0.2222222222222222,
              "#3e4989"
             ],
             [
              0.3333333333333333,
              "#31688e"
             ],
             [
              0.4444444444444444,
              "#26828e"
             ],
             [
              0.5555555555555556,
              "#1f9e89"
             ],
             [
              0.6666666666666666,
              "#35b779"
             ],
             [
              0.7777777777777778,
              "#6ece58"
             ],
             [
              0.8888888888888888,
              "#b5de2b"
             ],
             [
              1,
              "#fde725"
             ]
            ],
            "type": "surface"
           }
          ],
          "table": [
           {
            "cells": {
             "fill": {
              "color": "rgb(237,237,237)"
             },
             "line": {
              "color": "white"
             }
            },
            "header": {
             "fill": {
              "color": "rgb(217,217,217)"
             },
             "line": {
              "color": "white"
             }
            },
            "type": "table"
           }
          ]
         },
         "layout": {
          "annotationdefaults": {
           "arrowhead": 0,
           "arrowwidth": 1
          },
          "autotypenumbers": "strict",
          "coloraxis": {
           "colorbar": {
            "outlinewidth": 1,
            "tickcolor": "rgb(36,36,36)",
            "ticks": "outside"
           }
          },
          "colorscale": {
           "diverging": [
            [
             0,
             "rgb(103,0,31)"
            ],
            [
             0.1,
             "rgb(178,24,43)"
            ],
            [
             0.2,
             "rgb(214,96,77)"
            ],
            [
             0.3,
             "rgb(244,165,130)"
            ],
            [
             0.4,
             "rgb(253,219,199)"
            ],
            [
             0.5,
             "rgb(247,247,247)"
            ],
            [
             0.6,
             "rgb(209,229,240)"
            ],
            [
             0.7,
             "rgb(146,197,222)"
            ],
            [
             0.8,
             "rgb(67,147,195)"
            ],
            [
             0.9,
             "rgb(33,102,172)"
            ],
            [
             1,
             "rgb(5,48,97)"
            ]
           ],
           "sequential": [
            [
             0,
             "#440154"
            ],
            [
             0.1111111111111111,
             "#482878"
            ],
            [
             0.2222222222222222,
             "#3e4989"
            ],
            [
             0.3333333333333333,
             "#31688e"
            ],
            [
             0.4444444444444444,
             "#26828e"
            ],
            [
             0.5555555555555556,
             "#1f9e89"
            ],
            [
             0.6666666666666666,
             "#35b779"
            ],
            [
             0.7777777777777778,
             "#6ece58"
            ],
            [
             0.8888888888888888,
             "#b5de2b"
            ],
            [
             1,
             "#fde725"
            ]
           ],
           "sequentialminus": [
            [
             0,
             "#440154"
            ],
            [
             0.1111111111111111,
             "#482878"
            ],
            [
             0.2222222222222222,
             "#3e4989"
            ],
            [
             0.3333333333333333,
             "#31688e"
            ],
            [
             0.4444444444444444,
             "#26828e"
            ],
            [
             0.5555555555555556,
             "#1f9e89"
            ],
            [
             0.6666666666666666,
             "#35b779"
            ],
            [
             0.7777777777777778,
             "#6ece58"
            ],
            [
             0.8888888888888888,
             "#b5de2b"
            ],
            [
             1,
             "#fde725"
            ]
           ]
          },
          "colorway": [
           "#1F77B4",
           "#FF7F0E",
           "#2CA02C",
           "#D62728",
           "#9467BD",
           "#8C564B",
           "#E377C2",
           "#7F7F7F",
           "#BCBD22",
           "#17BECF"
          ],
          "font": {
           "color": "rgb(36,36,36)"
          },
          "geo": {
           "bgcolor": "white",
           "lakecolor": "white",
           "landcolor": "white",
           "showlakes": true,
           "showland": true,
           "subunitcolor": "white"
          },
          "hoverlabel": {
           "align": "left"
          },
          "hovermode": "closest",
          "mapbox": {
           "style": "light"
          },
          "paper_bgcolor": "white",
          "plot_bgcolor": "white",
          "polar": {
           "angularaxis": {
            "gridcolor": "rgb(232,232,232)",
            "linecolor": "rgb(36,36,36)",
            "showgrid": false,
            "showline": true,
            "ticks": "outside"
           },
           "bgcolor": "white",
           "radialaxis": {
            "gridcolor": "rgb(232,232,232)",
            "linecolor": "rgb(36,36,36)",
            "showgrid": false,
            "showline": true,
            "ticks": "outside"
           }
          },
          "scene": {
           "xaxis": {
            "backgroundcolor": "white",
            "gridcolor": "rgb(232,232,232)",
            "gridwidth": 2,
            "linecolor": "rgb(36,36,36)",
            "showbackground": true,
            "showgrid": false,
            "showline": true,
            "ticks": "outside",
            "zeroline": false,
            "zerolinecolor": "rgb(36,36,36)"
           },
           "yaxis": {
            "backgroundcolor": "white",
            "gridcolor": "rgb(232,232,232)",
            "gridwidth": 2,
            "linecolor": "rgb(36,36,36)",
            "showbackground": true,
            "showgrid": false,
            "showline": true,
            "ticks": "outside",
            "zeroline": false,
            "zerolinecolor": "rgb(36,36,36)"
           },
           "zaxis": {
            "backgroundcolor": "white",
            "gridcolor": "rgb(232,232,232)",
            "gridwidth": 2,
            "linecolor": "rgb(36,36,36)",
            "showbackground": true,
            "showgrid": false,
            "showline": true,
            "ticks": "outside",
            "zeroline": false,
            "zerolinecolor": "rgb(36,36,36)"
           }
          },
          "shapedefaults": {
           "fillcolor": "black",
           "line": {
            "width": 0
           },
           "opacity": 0.3
          },
          "ternary": {
           "aaxis": {
            "gridcolor": "rgb(232,232,232)",
            "linecolor": "rgb(36,36,36)",
            "showgrid": false,
            "showline": true,
            "ticks": "outside"
           },
           "baxis": {
            "gridcolor": "rgb(232,232,232)",
            "linecolor": "rgb(36,36,36)",
            "showgrid": false,
            "showline": true,
            "ticks": "outside"
           },
           "bgcolor": "white",
           "caxis": {
            "gridcolor": "rgb(232,232,232)",
            "linecolor": "rgb(36,36,36)",
            "showgrid": false,
            "showline": true,
            "ticks": "outside"
           }
          },
          "title": {
           "x": 0.05
          },
          "xaxis": {
           "automargin": true,
           "gridcolor": "rgb(232,232,232)",
           "linecolor": "rgb(36,36,36)",
           "showgrid": false,
           "showline": true,
           "ticks": "outside",
           "title": {
            "standoff": 15
           },
           "zeroline": false,
           "zerolinecolor": "rgb(36,36,36)"
          },
          "yaxis": {
           "automargin": true,
           "gridcolor": "rgb(232,232,232)",
           "linecolor": "rgb(36,36,36)",
           "showgrid": false,
           "showline": true,
           "ticks": "outside",
           "title": {
            "standoff": 15
           },
           "zeroline": false,
           "zerolinecolor": "rgb(36,36,36)"
          }
         }
        },
        "title": {
         "font": {
          "color": "Black",
          "size": 22
         },
         "text": "<b>Intertopic Distance Map</b>",
         "x": 0.5,
         "xanchor": "center",
         "y": 0.95,
         "yanchor": "top"
        },
        "width": 650,
        "xaxis": {
         "anchor": "y",
         "domain": [
          0,
          1
         ],
         "range": [
          1.0198791563510894,
          3.1963712692260744
         ],
         "title": {
          "text": ""
         },
         "visible": false
        },
        "yaxis": {
         "anchor": "x",
         "domain": [
          0,
          1
         ],
         "range": [
          9.16043496131897,
          14.086191606521606
         ],
         "title": {
          "text": ""
         },
         "visible": false
        }
       }
      }
     },
     "metadata": {},
     "output_type": "display_data"
    }
   ],
   "source": [
    "model.visualize_topics() #Visualize topics (similar to LDA visualization representation)"
   ]
  },
  {
   "cell_type": "code",
   "execution_count": 30,
   "metadata": {},
   "outputs": [
    {
     "data": {
      "application/vnd.plotly.v1+json": {
       "config": {
        "plotlyServerURL": "https://plot.ly"
       },
       "data": [
        {
         "hoverinfo": "text",
         "marker": {
          "color": "rgb(61,153,112)"
         },
         "mode": "lines",
         "type": "scatter",
         "x": [
          0,
          0.762490316457273,
          0.762490316457273,
          0
         ],
         "xaxis": "x",
         "y": [
          -25,
          -25,
          -35,
          -35
         ],
         "yaxis": "y"
        },
        {
         "hoverinfo": "text",
         "marker": {
          "color": "rgb(61,153,112)"
         },
         "mode": "lines",
         "type": "scatter",
         "x": [
          0,
          0.7953066799532763,
          0.7953066799532763,
          0.762490316457273
         ],
         "xaxis": "x",
         "y": [
          -15,
          -15,
          -30,
          -30
         ],
         "yaxis": "y"
        },
        {
         "hoverinfo": "text",
         "marker": {
          "color": "rgb(61,153,112)"
         },
         "mode": "lines",
         "type": "scatter",
         "x": [
          0,
          0.894726909484122,
          0.894726909484122,
          0.7953066799532763
         ],
         "xaxis": "x",
         "y": [
          -5,
          -5,
          -22.5,
          -22.5
         ],
         "yaxis": "y"
        }
       ],
       "layout": {
        "autosize": false,
        "height": 260,
        "hoverlabel": {
         "bgcolor": "white",
         "font": {
          "family": "Rockwell",
          "size": 16
         }
        },
        "hovermode": "closest",
        "plot_bgcolor": "#ECEFF1",
        "showlegend": false,
        "template": {
         "data": {
          "bar": [
           {
            "error_x": {
             "color": "#2a3f5f"
            },
            "error_y": {
             "color": "#2a3f5f"
            },
            "marker": {
             "line": {
              "color": "white",
              "width": 0.5
             },
             "pattern": {
              "fillmode": "overlay",
              "size": 10,
              "solidity": 0.2
             }
            },
            "type": "bar"
           }
          ],
          "barpolar": [
           {
            "marker": {
             "line": {
              "color": "white",
              "width": 0.5
             },
             "pattern": {
              "fillmode": "overlay",
              "size": 10,
              "solidity": 0.2
             }
            },
            "type": "barpolar"
           }
          ],
          "carpet": [
           {
            "aaxis": {
             "endlinecolor": "#2a3f5f",
             "gridcolor": "#C8D4E3",
             "linecolor": "#C8D4E3",
             "minorgridcolor": "#C8D4E3",
             "startlinecolor": "#2a3f5f"
            },
            "baxis": {
             "endlinecolor": "#2a3f5f",
             "gridcolor": "#C8D4E3",
             "linecolor": "#C8D4E3",
             "minorgridcolor": "#C8D4E3",
             "startlinecolor": "#2a3f5f"
            },
            "type": "carpet"
           }
          ],
          "choropleth": [
           {
            "colorbar": {
             "outlinewidth": 0,
             "ticks": ""
            },
            "type": "choropleth"
           }
          ],
          "contour": [
           {
            "colorbar": {
             "outlinewidth": 0,
             "ticks": ""
            },
            "colorscale": [
             [
              0,
              "#0d0887"
             ],
             [
              0.1111111111111111,
              "#46039f"
             ],
             [
              0.2222222222222222,
              "#7201a8"
             ],
             [
              0.3333333333333333,
              "#9c179e"
             ],
             [
              0.4444444444444444,
              "#bd3786"
             ],
             [
              0.5555555555555556,
              "#d8576b"
             ],
             [
              0.6666666666666666,
              "#ed7953"
             ],
             [
              0.7777777777777778,
              "#fb9f3a"
             ],
             [
              0.8888888888888888,
              "#fdca26"
             ],
             [
              1,
              "#f0f921"
             ]
            ],
            "type": "contour"
           }
          ],
          "contourcarpet": [
           {
            "colorbar": {
             "outlinewidth": 0,
             "ticks": ""
            },
            "type": "contourcarpet"
           }
          ],
          "heatmap": [
           {
            "colorbar": {
             "outlinewidth": 0,
             "ticks": ""
            },
            "colorscale": [
             [
              0,
              "#0d0887"
             ],
             [
              0.1111111111111111,
              "#46039f"
             ],
             [
              0.2222222222222222,
              "#7201a8"
             ],
             [
              0.3333333333333333,
              "#9c179e"
             ],
             [
              0.4444444444444444,
              "#bd3786"
             ],
             [
              0.5555555555555556,
              "#d8576b"
             ],
             [
              0.6666666666666666,
              "#ed7953"
             ],
             [
              0.7777777777777778,
              "#fb9f3a"
             ],
             [
              0.8888888888888888,
              "#fdca26"
             ],
             [
              1,
              "#f0f921"
             ]
            ],
            "type": "heatmap"
           }
          ],
          "heatmapgl": [
           {
            "colorbar": {
             "outlinewidth": 0,
             "ticks": ""
            },
            "colorscale": [
             [
              0,
              "#0d0887"
             ],
             [
              0.1111111111111111,
              "#46039f"
             ],
             [
              0.2222222222222222,
              "#7201a8"
             ],
             [
              0.3333333333333333,
              "#9c179e"
             ],
             [
              0.4444444444444444,
              "#bd3786"
             ],
             [
              0.5555555555555556,
              "#d8576b"
             ],
             [
              0.6666666666666666,
              "#ed7953"
             ],
             [
              0.7777777777777778,
              "#fb9f3a"
             ],
             [
              0.8888888888888888,
              "#fdca26"
             ],
             [
              1,
              "#f0f921"
             ]
            ],
            "type": "heatmapgl"
           }
          ],
          "histogram": [
           {
            "marker": {
             "pattern": {
              "fillmode": "overlay",
              "size": 10,
              "solidity": 0.2
             }
            },
            "type": "histogram"
           }
          ],
          "histogram2d": [
           {
            "colorbar": {
             "outlinewidth": 0,
             "ticks": ""
            },
            "colorscale": [
             [
              0,
              "#0d0887"
             ],
             [
              0.1111111111111111,
              "#46039f"
             ],
             [
              0.2222222222222222,
              "#7201a8"
             ],
             [
              0.3333333333333333,
              "#9c179e"
             ],
             [
              0.4444444444444444,
              "#bd3786"
             ],
             [
              0.5555555555555556,
              "#d8576b"
             ],
             [
              0.6666666666666666,
              "#ed7953"
             ],
             [
              0.7777777777777778,
              "#fb9f3a"
             ],
             [
              0.8888888888888888,
              "#fdca26"
             ],
             [
              1,
              "#f0f921"
             ]
            ],
            "type": "histogram2d"
           }
          ],
          "histogram2dcontour": [
           {
            "colorbar": {
             "outlinewidth": 0,
             "ticks": ""
            },
            "colorscale": [
             [
              0,
              "#0d0887"
             ],
             [
              0.1111111111111111,
              "#46039f"
             ],
             [
              0.2222222222222222,
              "#7201a8"
             ],
             [
              0.3333333333333333,
              "#9c179e"
             ],
             [
              0.4444444444444444,
              "#bd3786"
             ],
             [
              0.5555555555555556,
              "#d8576b"
             ],
             [
              0.6666666666666666,
              "#ed7953"
             ],
             [
              0.7777777777777778,
              "#fb9f3a"
             ],
             [
              0.8888888888888888,
              "#fdca26"
             ],
             [
              1,
              "#f0f921"
             ]
            ],
            "type": "histogram2dcontour"
           }
          ],
          "mesh3d": [
           {
            "colorbar": {
             "outlinewidth": 0,
             "ticks": ""
            },
            "type": "mesh3d"
           }
          ],
          "parcoords": [
           {
            "line": {
             "colorbar": {
              "outlinewidth": 0,
              "ticks": ""
             }
            },
            "type": "parcoords"
           }
          ],
          "pie": [
           {
            "automargin": true,
            "type": "pie"
           }
          ],
          "scatter": [
           {
            "fillpattern": {
             "fillmode": "overlay",
             "size": 10,
             "solidity": 0.2
            },
            "type": "scatter"
           }
          ],
          "scatter3d": [
           {
            "line": {
             "colorbar": {
              "outlinewidth": 0,
              "ticks": ""
             }
            },
            "marker": {
             "colorbar": {
              "outlinewidth": 0,
              "ticks": ""
             }
            },
            "type": "scatter3d"
           }
          ],
          "scattercarpet": [
           {
            "marker": {
             "colorbar": {
              "outlinewidth": 0,
              "ticks": ""
             }
            },
            "type": "scattercarpet"
           }
          ],
          "scattergeo": [
           {
            "marker": {
             "colorbar": {
              "outlinewidth": 0,
              "ticks": ""
             }
            },
            "type": "scattergeo"
           }
          ],
          "scattergl": [
           {
            "marker": {
             "colorbar": {
              "outlinewidth": 0,
              "ticks": ""
             }
            },
            "type": "scattergl"
           }
          ],
          "scattermapbox": [
           {
            "marker": {
             "colorbar": {
              "outlinewidth": 0,
              "ticks": ""
             }
            },
            "type": "scattermapbox"
           }
          ],
          "scatterpolar": [
           {
            "marker": {
             "colorbar": {
              "outlinewidth": 0,
              "ticks": ""
             }
            },
            "type": "scatterpolar"
           }
          ],
          "scatterpolargl": [
           {
            "marker": {
             "colorbar": {
              "outlinewidth": 0,
              "ticks": ""
             }
            },
            "type": "scatterpolargl"
           }
          ],
          "scatterternary": [
           {
            "marker": {
             "colorbar": {
              "outlinewidth": 0,
              "ticks": ""
             }
            },
            "type": "scatterternary"
           }
          ],
          "surface": [
           {
            "colorbar": {
             "outlinewidth": 0,
             "ticks": ""
            },
            "colorscale": [
             [
              0,
              "#0d0887"
             ],
             [
              0.1111111111111111,
              "#46039f"
             ],
             [
              0.2222222222222222,
              "#7201a8"
             ],
             [
              0.3333333333333333,
              "#9c179e"
             ],
             [
              0.4444444444444444,
              "#bd3786"
             ],
             [
              0.5555555555555556,
              "#d8576b"
             ],
             [
              0.6666666666666666,
              "#ed7953"
             ],
             [
              0.7777777777777778,
              "#fb9f3a"
             ],
             [
              0.8888888888888888,
              "#fdca26"
             ],
             [
              1,
              "#f0f921"
             ]
            ],
            "type": "surface"
           }
          ],
          "table": [
           {
            "cells": {
             "fill": {
              "color": "#EBF0F8"
             },
             "line": {
              "color": "white"
             }
            },
            "header": {
             "fill": {
              "color": "#C8D4E3"
             },
             "line": {
              "color": "white"
             }
            },
            "type": "table"
           }
          ]
         },
         "layout": {
          "annotationdefaults": {
           "arrowcolor": "#2a3f5f",
           "arrowhead": 0,
           "arrowwidth": 1
          },
          "autotypenumbers": "strict",
          "coloraxis": {
           "colorbar": {
            "outlinewidth": 0,
            "ticks": ""
           }
          },
          "colorscale": {
           "diverging": [
            [
             0,
             "#8e0152"
            ],
            [
             0.1,
             "#c51b7d"
            ],
            [
             0.2,
             "#de77ae"
            ],
            [
             0.3,
             "#f1b6da"
            ],
            [
             0.4,
             "#fde0ef"
            ],
            [
             0.5,
             "#f7f7f7"
            ],
            [
             0.6,
             "#e6f5d0"
            ],
            [
             0.7,
             "#b8e186"
            ],
            [
             0.8,
             "#7fbc41"
            ],
            [
             0.9,
             "#4d9221"
            ],
            [
             1,
             "#276419"
            ]
           ],
           "sequential": [
            [
             0,
             "#0d0887"
            ],
            [
             0.1111111111111111,
             "#46039f"
            ],
            [
             0.2222222222222222,
             "#7201a8"
            ],
            [
             0.3333333333333333,
             "#9c179e"
            ],
            [
             0.4444444444444444,
             "#bd3786"
            ],
            [
             0.5555555555555556,
             "#d8576b"
            ],
            [
             0.6666666666666666,
             "#ed7953"
            ],
            [
             0.7777777777777778,
             "#fb9f3a"
            ],
            [
             0.8888888888888888,
             "#fdca26"
            ],
            [
             1,
             "#f0f921"
            ]
           ],
           "sequentialminus": [
            [
             0,
             "#0d0887"
            ],
            [
             0.1111111111111111,
             "#46039f"
            ],
            [
             0.2222222222222222,
             "#7201a8"
            ],
            [
             0.3333333333333333,
             "#9c179e"
            ],
            [
             0.4444444444444444,
             "#bd3786"
            ],
            [
             0.5555555555555556,
             "#d8576b"
            ],
            [
             0.6666666666666666,
             "#ed7953"
            ],
            [
             0.7777777777777778,
             "#fb9f3a"
            ],
            [
             0.8888888888888888,
             "#fdca26"
            ],
            [
             1,
             "#f0f921"
            ]
           ]
          },
          "colorway": [
           "#636efa",
           "#EF553B",
           "#00cc96",
           "#ab63fa",
           "#FFA15A",
           "#19d3f3",
           "#FF6692",
           "#B6E880",
           "#FF97FF",
           "#FECB52"
          ],
          "font": {
           "color": "#2a3f5f"
          },
          "geo": {
           "bgcolor": "white",
           "lakecolor": "white",
           "landcolor": "white",
           "showlakes": true,
           "showland": true,
           "subunitcolor": "#C8D4E3"
          },
          "hoverlabel": {
           "align": "left"
          },
          "hovermode": "closest",
          "mapbox": {
           "style": "light"
          },
          "paper_bgcolor": "white",
          "plot_bgcolor": "white",
          "polar": {
           "angularaxis": {
            "gridcolor": "#EBF0F8",
            "linecolor": "#EBF0F8",
            "ticks": ""
           },
           "bgcolor": "white",
           "radialaxis": {
            "gridcolor": "#EBF0F8",
            "linecolor": "#EBF0F8",
            "ticks": ""
           }
          },
          "scene": {
           "xaxis": {
            "backgroundcolor": "white",
            "gridcolor": "#DFE8F3",
            "gridwidth": 2,
            "linecolor": "#EBF0F8",
            "showbackground": true,
            "ticks": "",
            "zerolinecolor": "#EBF0F8"
           },
           "yaxis": {
            "backgroundcolor": "white",
            "gridcolor": "#DFE8F3",
            "gridwidth": 2,
            "linecolor": "#EBF0F8",
            "showbackground": true,
            "ticks": "",
            "zerolinecolor": "#EBF0F8"
           },
           "zaxis": {
            "backgroundcolor": "white",
            "gridcolor": "#DFE8F3",
            "gridwidth": 2,
            "linecolor": "#EBF0F8",
            "showbackground": true,
            "ticks": "",
            "zerolinecolor": "#EBF0F8"
           }
          },
          "shapedefaults": {
           "line": {
            "color": "#2a3f5f"
           }
          },
          "ternary": {
           "aaxis": {
            "gridcolor": "#DFE8F3",
            "linecolor": "#A2B1C6",
            "ticks": ""
           },
           "baxis": {
            "gridcolor": "#DFE8F3",
            "linecolor": "#A2B1C6",
            "ticks": ""
           },
           "bgcolor": "white",
           "caxis": {
            "gridcolor": "#DFE8F3",
            "linecolor": "#A2B1C6",
            "ticks": ""
           }
          },
          "title": {
           "x": 0.05
          },
          "xaxis": {
           "automargin": true,
           "gridcolor": "#EBF0F8",
           "linecolor": "#EBF0F8",
           "ticks": "",
           "title": {
            "standoff": 15
           },
           "zerolinecolor": "#EBF0F8",
           "zerolinewidth": 2
          },
          "yaxis": {
           "automargin": true,
           "gridcolor": "#EBF0F8",
           "linecolor": "#EBF0F8",
           "ticks": "",
           "title": {
            "standoff": 15
           },
           "zerolinecolor": "#EBF0F8",
           "zerolinewidth": 2
          }
         }
        },
        "title": {
         "font": {
          "color": "Black",
          "size": 22
         },
         "text": "<b>Hierarchical Clustering</b>",
         "x": 0.5,
         "xanchor": "center",
         "yanchor": "top"
        },
        "width": 1000,
        "xaxis": {
         "mirror": "allticks",
         "rangemode": "tozero",
         "showgrid": false,
         "showline": true,
         "showticklabels": true,
         "ticks": "outside",
         "type": "linear",
         "zeroline": false
        },
        "yaxis": {
         "mirror": "allticks",
         "range": [
          -40,
          0
         ],
         "rangemode": "tozero",
         "showgrid": false,
         "showline": true,
         "showticklabels": true,
         "tickmode": "array",
         "ticks": "outside",
         "ticktext": [
          "1_calm_peace_relaxed",
          "2_music_journey_much",
          "0_saw_colours_moving",
          "3_thoughts_people_mind"
         ],
         "tickvals": [
          -5,
          -15,
          -25,
          -35
         ],
         "type": "linear",
         "zeroline": false
        }
       }
      }
     },
     "metadata": {},
     "output_type": "display_data"
    }
   ],
   "source": [
    "model.visualize_hierarchy(top_n_topics=10)"
   ]
  },
  {
   "attachments": {},
   "cell_type": "markdown",
   "metadata": {},
   "source": [
    "### Get the top 3 topics"
   ]
  },
  {
   "cell_type": "code",
   "execution_count": 31,
   "metadata": {},
   "outputs": [
    {
     "data": {
      "text/plain": [
       "([-1, 2, 1, 3, 0],\n",
       " [0.45044997, 0.41086483, 0.35561734, 0.34364337, 0.26374885])"
      ]
     },
     "execution_count": 31,
     "metadata": {},
     "output_type": "execute_result"
    }
   ],
   "source": [
    "similarities = model.find_topics(\"lsd\") #Find topics similar to the word \"lsd\"\n",
    "similarities"
   ]
  },
  {
   "cell_type": "code",
   "execution_count": 32,
   "metadata": {},
   "outputs": [
    {
     "name": "stdout",
     "output_type": "stream",
     "text": [
      "[3, -1, 2]\n",
      "3\n",
      "Similarity score:  0.50457895\n",
      "Most similar topic:  [('thoughts', 0.1303950333937498), ('people', 0.062174481673700474), ('mind', 0.05842929417882062), ('thought', 0.04802169006872806), ('brain', 0.04480857348715757), ('walking', 0.04268658885354797), ('something', 0.04076305509605215), ('sometimes', 0.03951966248289732), ('towards', 0.03951966248289732), ('made', 0.03360643011536817)]\n"
     ]
    }
   ],
   "source": [
    "# Select the 3 most similar topics\n",
    "similar_topics, similarity = model.find_topics(\"hallucination\", top_n=3) #Find the 5 most similar topics to the word \"lsd\"\n",
    "print(similar_topics) #Print the 3 most similar topics : index from the most similar to the least similar\n",
    "\n",
    "\n",
    "most_similar_topics = similar_topics[0] #Get the most similar topic\n",
    "print(most_similar_topics) #Print the most similar topic\n",
    "print(\"Similarity score: \", similarity[0]) #Print the similarity score\n",
    "print(\"Most similar topic: \", model.get_topic(most_similar_topics)) #Print the most similar topic"
   ]
  },
  {
   "cell_type": "code",
   "execution_count": 33,
   "metadata": {},
   "outputs": [
    {
     "name": "stdout",
     "output_type": "stream",
     "text": [
      "huggingface/tokenizers: The current process just got forked, after parallelism has already been used. Disabling parallelism to avoid deadlocks...\n",
      "To disable this warning, you can either:\n",
      "\t- Avoid using `tokenizers` before the fork if possible\n",
      "\t- Explicitly set the environment variable TOKENIZERS_PARALLELISM=(true | false)\n"
     ]
    }
   ],
   "source": [
    "%%bash\n",
    "mkdir -p ~/projects/TopicModelling_META/TopMod_pipeline/BERT_outputs"
   ]
  },
  {
   "cell_type": "code",
   "execution_count": 34,
   "metadata": {},
   "outputs": [
    {
     "data": {
      "text/plain": [
       "<bertopic._bertopic.BERTopic at 0x108559b90>"
      ]
     },
     "execution_count": 34,
     "metadata": {},
     "output_type": "execute_result"
    }
   ],
   "source": [
    "\n",
    "\n",
    "BERT_model_name = f\"BERT_model_{condition}\"\n",
    "model.save(os.path.join(\"BERT_outputs\",BERT_model_name)) #Save model\n",
    "\n",
    "BERT_model = BERTopic.load(BERT_model_name)\n",
    "BERT_model"
   ]
  }
 ],
 "metadata": {
  "kernelspec": {
   "display_name": "topmodvenv",
   "language": "python",
   "name": "python3"
  },
  "language_info": {
   "codemirror_mode": {
    "name": "ipython",
    "version": 3
   },
   "file_extension": ".py",
   "mimetype": "text/x-python",
   "name": "python",
   "nbconvert_exporter": "python",
   "pygments_lexer": "ipython3",
   "version": "3.11.3"
  },
  "orig_nbformat": 4
 },
 "nbformat": 4,
 "nbformat_minor": 2
}
