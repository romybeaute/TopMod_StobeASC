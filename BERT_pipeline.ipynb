{
 "cells": [
  {
   "cell_type": "code",
   "execution_count": 1,
   "metadata": {},
   "outputs": [
    {
     "name": "stderr",
     "output_type": "stream",
     "text": [
      "/Users/rb666/projects/TopicModelling_META/topmodvenv/lib/python3.11/site-packages/umap/distances.py:1063: NumbaDeprecationWarning: The 'nopython' keyword argument was not supplied to the 'numba.jit' decorator. The implicit default value for this argument is currently False, but it will be changed to True in Numba 0.59.0. See https://numba.readthedocs.io/en/stable/reference/deprecation.html#deprecation-of-object-mode-fall-back-behaviour-when-using-jit for details.\n",
      "  @numba.jit()\n",
      "/Users/rb666/projects/TopicModelling_META/topmodvenv/lib/python3.11/site-packages/umap/distances.py:1071: NumbaDeprecationWarning: The 'nopython' keyword argument was not supplied to the 'numba.jit' decorator. The implicit default value for this argument is currently False, but it will be changed to True in Numba 0.59.0. See https://numba.readthedocs.io/en/stable/reference/deprecation.html#deprecation-of-object-mode-fall-back-behaviour-when-using-jit for details.\n",
      "  @numba.jit()\n",
      "/Users/rb666/projects/TopicModelling_META/topmodvenv/lib/python3.11/site-packages/umap/distances.py:1086: NumbaDeprecationWarning: The 'nopython' keyword argument was not supplied to the 'numba.jit' decorator. The implicit default value for this argument is currently False, but it will be changed to True in Numba 0.59.0. See https://numba.readthedocs.io/en/stable/reference/deprecation.html#deprecation-of-object-mode-fall-back-behaviour-when-using-jit for details.\n",
      "  @numba.jit()\n",
      "/Users/rb666/projects/TopicModelling_META/topmodvenv/lib/python3.11/site-packages/umap/umap_.py:660: NumbaDeprecationWarning: The 'nopython' keyword argument was not supplied to the 'numba.jit' decorator. The implicit default value for this argument is currently False, but it will be changed to True in Numba 0.59.0. See https://numba.readthedocs.io/en/stable/reference/deprecation.html#deprecation-of-object-mode-fall-back-behaviour-when-using-jit for details.\n",
      "  @numba.jit()\n"
     ]
    },
    {
     "data": {
      "text/html": [
       "<div>\n",
       "<style scoped>\n",
       "    .dataframe tbody tr th:only-of-type {\n",
       "        vertical-align: middle;\n",
       "    }\n",
       "\n",
       "    .dataframe tbody tr th {\n",
       "        vertical-align: top;\n",
       "    }\n",
       "\n",
       "    .dataframe thead th {\n",
       "        text-align: right;\n",
       "    }\n",
       "</style>\n",
       "<table border=\"1\" class=\"dataframe\">\n",
       "  <thead>\n",
       "    <tr style=\"text-align: right;\">\n",
       "      <th></th>\n",
       "      <th>text</th>\n",
       "    </tr>\n",
       "  </thead>\n",
       "  <tbody>\n",
       "    <tr>\n",
       "      <th>0</th>\n",
       "      <td>the colours made patterns when i had my eyes c...</td>\n",
       "    </tr>\n",
       "    <tr>\n",
       "      <th>1</th>\n",
       "      <td>Intense chaos. And then my mind checked out an...</td>\n",
       "    </tr>\n",
       "    <tr>\n",
       "      <th>2</th>\n",
       "      <td>good stuff.\\r\\n</td>\n",
       "    </tr>\n",
       "    <tr>\n",
       "      <th>3</th>\n",
       "      <td>a pattern of red and white lights thatflashed ...</td>\n",
       "    </tr>\n",
       "    <tr>\n",
       "      <th>4</th>\n",
       "      <td>i wentback to many hard and mostly beautiful m...</td>\n",
       "    </tr>\n",
       "  </tbody>\n",
       "</table>\n",
       "</div>"
      ],
      "text/plain": [
       "                                                text\n",
       "0  the colours made patterns when i had my eyes c...\n",
       "1  Intense chaos. And then my mind checked out an...\n",
       "2                                    good stuff.\\r\\n\n",
       "3  a pattern of red and white lights thatflashed ...\n",
       "4  i wentback to many hard and mostly beautiful m..."
      ]
     },
     "execution_count": 1,
     "metadata": {},
     "output_type": "execute_result"
    }
   ],
   "source": [
    "%matplotlib inline\n",
    "\n",
    "import pandas as pd\n",
    "import os \n",
    "from pathlib import Path\n",
    "from bertopic import BERTopic\n",
    "import re \n",
    "from nltk.corpus import stopwords\n",
    "\n",
    "\n",
    "\n",
    "# 1. Load data\n",
    "condition = \"Dreamachine\"\n",
    "remove_stopwords = True\n",
    "extended_stopwords = True\n",
    "\n",
    "metaproject_name = 'TopicModelling_META'\n",
    "subproject_name = 'TopMod_pipeline'\n",
    "dataset_name = f'{condition}_dataset.csv'\n",
    "\n",
    "\n",
    "PROJDIR = os.path.expanduser(f\"~/projects/{metaproject_name}\")\n",
    "DATADIR = os.path.join(PROJDIR,f'DATA/{dataset_name}')\n",
    "CODEDIR = os.path.join(PROJDIR,f'{subproject_name}')\n",
    "\n",
    "reports = pd.read_csv(DATADIR,usecols=['text']).dropna()\n",
    "reports.head()\n"
   ]
  },
  {
   "cell_type": "code",
   "execution_count": 2,
   "metadata": {},
   "outputs": [
    {
     "data": {
      "text/plain": [
       "377"
      ]
     },
     "execution_count": 2,
     "metadata": {},
     "output_type": "execute_result"
    }
   ],
   "source": [
    "len(reports)"
   ]
  },
  {
   "cell_type": "code",
   "execution_count": 3,
   "metadata": {},
   "outputs": [
    {
     "data": {
      "text/plain": [
       "0    the colours made patterns when i had my eyes c...\n",
       "1    intense chaos and then my mind checked out and...\n",
       "2                                       good stuff\\r\\n\n",
       "3    a pattern of red and white lights thatflashed ...\n",
       "4    i wentback to many hard and mostly beautiful m...\n",
       "Name: text_processed, dtype: object"
      ]
     },
     "execution_count": 3,
     "metadata": {},
     "output_type": "execute_result"
    }
   ],
   "source": [
    "# Remove punctuation\n",
    "def process_text(x):\n",
    "    if isinstance(x, str):  # check if x is of type string\n",
    "        x = re.sub('[,\\.!?;]', '', x)  # if it is, do the replacement\n",
    "        x = re.sub('^[0-9]+', '', x)  # remove initial numbers\n",
    "        return x.lower()\n",
    "    else:\n",
    "        return \"\"  # otherwise, return an empty string or you can convert it to string by using `return str(x)`\n",
    "\n",
    "reports['text_processed'] = reports['text'].map(process_text)\n",
    "\n",
    "# Convert the titles to lowercase\n",
    "reports['text_processed'] = reports['text_processed'].map(lambda x: x.lower())\n",
    "\n",
    "# Print out the first rows of papers\n",
    "reports['text_processed'].head()"
   ]
  },
  {
   "cell_type": "code",
   "execution_count": 4,
   "metadata": {},
   "outputs": [
    {
     "name": "stdout",
     "output_type": "stream",
     "text": [
      "179\n",
      "187\n",
      "Removing stopwords\n"
     ]
    }
   ],
   "source": [
    "from nltk.corpus import stopwords\n",
    "stop_words = stopwords.words('english')\n",
    "print(len(stop_words))\n",
    "\n",
    "extended_stopwords_list = ['dreamachine','machine','end','felt','experience','like','first','anxiety']\n",
    "if extended_stopwords:\n",
    "    stop_words.extend(extended_stopwords_list)\n",
    "    print(len(stop_words))\n",
    "\n",
    "reports['text_without_stopwords'] = reports['text_processed'].apply(lambda x: ' '.join([word for word in x.split() if word not in (stop_words)]))\n",
    "\n",
    "if remove_stopwords:\n",
    "    print('Removing stopwords')\n",
    "    reports['text_processed'] = reports['text_without_stopwords']"
   ]
  },
  {
   "cell_type": "code",
   "execution_count": 5,
   "metadata": {},
   "outputs": [
    {
     "name": "stdout",
     "output_type": "stream",
     "text": [
      "count    377.000000\n",
      "mean      11.021220\n",
      "std       10.453777\n",
      "min        1.000000\n",
      "25%        4.000000\n",
      "50%        8.000000\n",
      "75%       15.000000\n",
      "max       67.000000\n",
      "Name: report_length, dtype: float64\n",
      "The mean report length is 11 words.\n",
      "The longest report has 67 words.\n"
     ]
    },
    {
     "data": {
      "image/png": "[encoded data removed]",
      "text/plain": [
       "<Figure size 640x480 with 1 Axes>"
      ]
     },
     "metadata": {},
     "output_type": "display_data"
    }
   ],
   "source": [
    "reports[\"report_length\"] = reports[\"text_processed\"].apply(lambda x: len(x.split(\" \")))   # count words in each report\n",
    "\n",
    "#Visualize the distribution of report lengths\n",
    "import matplotlib.pyplot as plt\n",
    "import seaborn as sns\n",
    "sns.set_style('whitegrid')\n",
    "get_ipython().run_line_magic('matplotlib', 'inline')\n",
    "sns.distplot(reports['report_length'], kde=False, color='blue', bins=100)\n",
    "\n",
    "print(reports['report_length'].describe())\n",
    "print(\"The mean report length is {} words.\".format(round(reports['report_length'].mean())))\n",
    "print(\"The longest report has {} words.\".format(max(reports['report_length'])))"
   ]
  },
  {
   "attachments": {},
   "cell_type": "markdown",
   "metadata": {},
   "source": [
    "## BERTopic\n",
    "\n",
    "https://miro.medium.com/v2/resize:fit:4800/format:webp/0*DxAqCqx6dzg0KQlg.png"
   ]
  },
  {
   "attachments": {},
   "cell_type": "markdown",
   "metadata": {},
   "source": [
    "### Training the BERT model"
   ]
  },
  {
   "cell_type": "code",
   "execution_count": 6,
   "metadata": {},
   "outputs": [
    {
     "data": {
      "application/vnd.jupyter.widget-view+json": {
       "model_id": "e532634c88164cc2bfaca4549dd4119e",
       "version_major": 2,
       "version_minor": 0
      },
      "text/plain": [
       "Batches:   0%|          | 0/12 [00:00<?, ?it/s]"
      ]
     },
     "metadata": {},
     "output_type": "display_data"
    },
    {
     "name": "stderr",
     "output_type": "stream",
     "text": [
      "2023-08-11 11:29:26,735 - BERTopic - Transformed documents to Embeddings\n",
      "OMP: Info #276: omp_set_nested routine deprecated, please use omp_set_max_active_levels instead.\n",
      "2023-08-11 11:29:29,675 - BERTopic - Reduced dimensionality\n",
      "2023-08-11 11:29:29,685 - BERTopic - Clustered reduced embeddings\n"
     ]
    },
    {
     "data": {
      "application/vnd.plotly.v1+json": {
       "config": {
        "plotlyServerURL": "https://plot.ly"
       },
       "data": [
        {
         "customdata": [
          [
           0,
           "saw | colours | moving | shapes | patterns",
           127
          ],
          [
           1,
           "peace | calm | relaxed | relaxing | good",
           55
          ],
          [
           2,
           "music | journey | much | calming | mind",
           35
          ],
          [
           3,
           "thoughts | mind | people | thought | brain",
           29
          ]
         ],
         "hovertemplate": "<b>Topic %{customdata[0]}</b><br>%{customdata[1]}<br>Size: %{customdata[2]}",
         "legendgroup": "",
         "marker": {
          "color": "#B0BEC5",
          "line": {
           "color": "DarkSlateGrey",
           "width": 2
          },
          "size": [
           127,
           55,
           35,
           29
          ],
          "sizemode": "area",
          "sizeref": 0.079375,
          "symbol": "circle"
         },
         "mode": "markers",
         "name": "",
         "orientation": "v",
         "showlegend": false,
         "type": "scatter",
         "x": [
          10.343957901000977,
          9.118440628051758,
          8.967367172241211,
          9.512979507446289
         ],
         "xaxis": "x",
         "y": [
          15.577096939086914,
          17.183073043823242,
          16.373056411743164,
          15.556392669677734
         ],
         "yaxis": "y"
        }
       ],
       "layout": {
        "annotations": [
         {
          "showarrow": false,
          "text": "D1",
          "x": 7.622262096405029,
          "y": 16.491733884811403,
          "yshift": 10
         },
         {
          "showarrow": false,
          "text": "D2",
          "x": 9.758906841278076,
          "xshift": 10,
          "y": 19.760534000396728
         }
        ],
        "height": 650,
        "hoverlabel": {
         "bgcolor": "white",
         "font": {
          "family": "Rockwell",
          "size": 16
         }
        },
        "legend": {
         "itemsizing": "constant",
         "tracegroupgap": 0
        },
        "margin": {
         "t": 60
        },
        "shapes": [
         {
          "line": {
           "color": "#CFD8DC",
           "width": 2
          },
          "type": "line",
          "x0": 9.758906841278076,
          "x1": 9.758906841278076,
          "y0": 13.222933769226074,
          "y1": 19.760534000396728
         },
         {
          "line": {
           "color": "#9E9E9E",
           "width": 2
          },
          "type": "line",
          "x0": 7.622262096405029,
          "x1": 11.895551586151123,
          "y0": 16.491733884811403,
          "y1": 16.491733884811403
         }
        ],
        "sliders": [
         {
          "active": 0,
          "pad": {
           "t": 50
          },
          "steps": [
           {
            "args": [
             {
              "marker.color": [
               [
                "red",
                "#B0BEC5",
                "#B0BEC5",
                "#B0BEC5"
               ]
              ]
             }
            ],
            "label": "Topic 0",
            "method": "update"
           },
           {
            "args": [
             {
              "marker.color": [
               [
                "#B0BEC5",
                "red",
                "#B0BEC5",
                "#B0BEC5"
               ]
              ]
             }
            ],
            "label": "Topic 1",
            "method": "update"
           },
           {
            "args": [
             {
              "marker.color": [
               [
                "#B0BEC5",
                "#B0BEC5",
                "red",
                "#B0BEC5"
               ]
              ]
             }
            ],
            "label": "Topic 2",
            "method": "update"
           },
           {
            "args": [
             {
              "marker.color": [
               [
                "#B0BEC5",
                "#B0BEC5",
                "#B0BEC5",
                "red"
               ]
              ]
             }
            ],
            "label": "Topic 3",
            "method": "update"
           }
          ]
         }
        ],
        "template": {
         "data": {
          "bar": [
           {
            "error_x": {
             "color": "rgb(36,36,36)"
            },
            "error_y": {
             "color": "rgb(36,36,36)"
            },
            "marker": {
             "line": {
              "color": "white",
              "width": 0.5
             },
             "pattern": {
              "fillmode": "overlay",
              "size": 10,
              "solidity": 0.2
             }
            },
            "type": "bar"
           }
          ],
          "barpolar": [
           {
            "marker": {
             "line": {
              "color": "white",
              "width": 0.5
             },
             "pattern": {
              "fillmode": "overlay",
              "size": 10,
              "solidity": 0.2
             }
            },
            "type": "barpolar"
           }
          ],
          "carpet": [
           {
            "aaxis": {
             "endlinecolor": "rgb(36,36,36)",
             "gridcolor": "white",
             "linecolor": "white",
             "minorgridcolor": "white",
             "startlinecolor": "rgb(36,36,36)"
            },
            "baxis": {
             "endlinecolor": "rgb(36,36,36)",
             "gridcolor": "white",
             "linecolor": "white",
             "minorgridcolor": "white",
             "startlinecolor": "rgb(36,36,36)"
            },
            "type": "carpet"
           }
          ],
          "choropleth": [
           {
            "colorbar": {
             "outlinewidth": 1,
             "tickcolor": "rgb(36,36,36)",
             "ticks": "outside"
            },
            "type": "choropleth"
           }
          ],
          "contour": [
           {
            "colorbar": {
             "outlinewidth": 1,
             "tickcolor": "rgb(36,36,36)",
             "ticks": "outside"
            },
            "colorscale": [
             [
              0,
              "#440154"
             ],
             [
              0.1111111111111111,
              "#482878"
             ],
             [
              0.2222222222222222,
              "#3e4989"
             ],
             [
              0.3333333333333333,
              "#31688e"
             ],
             [
              0.4444444444444444,
              "#26828e"
             ],
             [
              0.5555555555555556,
              "#1f9e89"
             ],
             [
              0.6666666666666666,
              "#35b779"
             ],
             [
              0.7777777777777778,
              "#6ece58"
             ],
             [
              0.8888888888888888,
              "#b5de2b"
             ],
             [
              1,
              "#fde725"
             ]
            ],
            "type": "contour"
           }
          ],
          "contourcarpet": [
           {
            "colorbar": {
             "outlinewidth": 1,
             "tickcolor": "rgb(36,36,36)",
             "ticks": "outside"
            },
            "type": "contourcarpet"
           }
          ],
          "heatmap": [
           {
            "colorbar": {
             "outlinewidth": 1,
             "tickcolor": "rgb(36,36,36)",
             "ticks": "outside"
            },
            "colorscale": [
             [
              0,
              "#440154"
             ],
             [
              0.1111111111111111,
              "#482878"
             ],
             [
              0.2222222222222222,
              "#3e4989"
             ],
             [
              0.3333333333333333,
              "#31688e"
             ],
             [
              0.4444444444444444,
              "#26828e"
             ],
             [
              0.5555555555555556,
              "#1f9e89"
             ],
             [
              0.6666666666666666,
              "#35b779"
             ],
             [
              0.7777777777777778,
              "#6ece58"
             ],
             [
              0.8888888888888888,
              "#b5de2b"
             ],
             [
              1,
              "#fde725"
             ]
            ],
            "type": "heatmap"
           }
          ],
          "heatmapgl": [
           {
            "colorbar": {
             "outlinewidth": 1,
             "tickcolor": "rgb(36,36,36)",
             "ticks": "outside"
            },
            "colorscale": [
             [
              0,
              "#440154"
             ],
             [
              0.1111111111111111,
              "#482878"
             ],
             [
              0.2222222222222222,
              "#3e4989"
             ],
             [
              0.3333333333333333,
              "#31688e"
             ],
             [
              0.4444444444444444,
              "#26828e"
             ],
             [
              0.5555555555555556,
              "#1f9e89"
             ],
             [
              0.6666666666666666,
              "#35b779"
             ],
             [
              0.7777777777777778,
              "#6ece58"
             ],
             [
              0.8888888888888888,
              "#b5de2b"
             ],
             [
              1,
              "#fde725"
             ]
            ],
            "type": "heatmapgl"
           }
          ],
          "histogram": [
           {
            "marker": {
             "line": {
              "color": "white",
              "width": 0.6
             }
            },
            "type": "histogram"
           }
          ],
          "histogram2d": [
           {
            "colorbar": {
             "outlinewidth": 1,
             "tickcolor": "rgb(36,36,36)",
             "ticks": "outside"
            },
            "colorscale": [
             [
              0,
              "#440154"
             ],
             [
              0.1111111111111111,
              "#482878"
             ],
             [
              0.2222222222222222,
              "#3e4989"
             ],
             [
              0.3333333333333333,
              "#31688e"
             ],
             [
              0.4444444444444444,
              "#26828e"
             ],
             [
              0.5555555555555556,
              "#1f9e89"
             ],
             [
              0.6666666666666666,
              "#35b779"
             ],
             [
              0.7777777777777778,
              "#6ece58"
             ],
             [
              0.8888888888888888,
              "#b5de2b"
             ],
             [
              1,
              "#fde725"
             ]
            ],
            "type": "histogram2d"
           }
          ],
          "histogram2dcontour": [
           {
            "colorbar": {
             "outlinewidth": 1,
             "tickcolor": "rgb(36,36,36)",
             "ticks": "outside"
            },
            "colorscale": [
             [
              0,
              "#440154"
             ],
             [
              0.1111111111111111,
              "#482878"
             ],
             [
              0.2222222222222222,
              "#3e4989"
             ],
             [
              0.3333333333333333,
              "#31688e"
             ],
             [
              0.4444444444444444,
              "#26828e"
             ],
             [
              0.5555555555555556,
              "#1f9e89"
             ],
             [
              0.6666666666666666,
              "#35b779"
             ],
             [
              0.7777777777777778,
              "#6ece58"
             ],
             [
              0.8888888888888888,
              "#b5de2b"
             ],
             [
              1,
              "#fde725"
             ]
            ],
            "type": "histogram2dcontour"
           }
          ],
          "mesh3d": [
           {
            "colorbar": {
             "outlinewidth": 1,
             "tickcolor": "rgb(36,36,36)",
             "ticks": "outside"
            },
            "type": "mesh3d"
           }
          ],
          "parcoords": [
           {
            "line": {
             "colorbar": {
              "outlinewidth": 1,
              "tickcolor": "rgb(36,36,36)",
              "ticks": "outside"
             }
            },
            "type": "parcoords"
           }
          ],
          "pie": [
           {
            "automargin": true,
            "type": "pie"
           }
          ],
          "scatter": [
           {
            "fillpattern": {
             "fillmode": "overlay",
             "size": 10,
             "solidity": 0.2
            },
            "type": "scatter"
           }
          ],
          "scatter3d": [
           {
            "line": {
             "colorbar": {
              "outlinewidth": 1,
              "tickcolor": "rgb(36,36,36)",
              "ticks": "outside"
             }
            },
            "marker": {
             "colorbar": {
              "outlinewidth": 1,
              "tickcolor": "rgb(36,36,36)",
              "ticks": "outside"
             }
            },
            "type": "scatter3d"
           }
          ],
          "scattercarpet": [
           {
            "marker": {
             "colorbar": {
              "outlinewidth": 1,
              "tickcolor": "rgb(36,36,36)",
              "ticks": "outside"
             }
            },
            "type": "scattercarpet"
           }
          ],
          "scattergeo": [
           {
            "marker": {
             "colorbar": {
              "outlinewidth": 1,
              "tickcolor": "rgb(36,36,36)",
              "ticks": "outside"
             }
            },
            "type": "scattergeo"
           }
          ],
          "scattergl": [
           {
            "marker": {
             "colorbar": {
              "outlinewidth": 1,
              "tickcolor": "rgb(36,36,36)",
              "ticks": "outside"
             }
            },
            "type": "scattergl"
           }
          ],
          "scattermapbox": [
           {
            "marker": {
             "colorbar": {
              "outlinewidth": 1,
              "tickcolor": "rgb(36,36,36)",
              "ticks": "outside"
             }
            },
            "type": "scattermapbox"
           }
          ],
          "scatterpolar": [
           {
            "marker": {
             "colorbar": {
              "outlinewidth": 1,
              "tickcolor": "rgb(36,36,36)",
              "ticks": "outside"
             }
            },
            "type": "scatterpolar"
           }
          ],
          "scatterpolargl": [
           {
            "marker": {
             "colorbar": {
              "outlinewidth": 1,
              "tickcolor": "rgb(36,36,36)",
              "ticks": "outside"
             }
            },
            "type": "scatterpolargl"
           }
          ],
          "scatterternary": [
           {
            "marker": {
             "colorbar": {
              "outlinewidth": 1,
              "tickcolor": "rgb(36,36,36)",
              "ticks": "outside"
             }
            },
            "type": "scatterternary"
           }
          ],
          "surface": [
           {
            "colorbar": {
             "outlinewidth": 1,
             "tickcolor": "rgb(36,36,36)",
             "ticks": "outside"
            },
            "colorscale": [
             [
              0,
              "#440154"
             ],
             [
              0.1111111111111111,
              "#482878"
             ],
             [
              0.2222222222222222,
              "#3e4989"
             ],
             [
              0.3333333333333333,
              "#31688e"
             ],
             [
              0.4444444444444444,
              "#26828e"
             ],
             [
              0.5555555555555556,
              "#1f9e89"
             ],
             [
              0.6666666666666666,
              "#35b779"
             ],
             [
              0.7777777777777778,
              "#6ece58"
             ],
             [
              0.8888888888888888,
              "#b5de2b"
             ],
             [
              1,
              "#fde725"
             ]
            ],
            "type": "surface"
           }
          ],
          "table": [
           {
            "cells": {
             "fill": {
              "color": "rgb(237,237,237)"
             },
             "line": {
              "color": "white"
             }
            },
            "header": {
             "fill": {
              "color": "rgb(217,217,217)"
             },
             "line": {
              "color": "white"
             }
            },
            "type": "table"
           }
          ]
         },
         "layout": {
          "annotationdefaults": {
           "arrowhead": 0,
           "arrowwidth": 1
          },
          "autotypenumbers": "strict",
          "coloraxis": {
           "colorbar": {
            "outlinewidth": 1,
            "tickcolor": "rgb(36,36,36)",
            "ticks": "outside"
           }
          },
          "colorscale": {
           "diverging": [
            [
             0,
             "rgb(103,0,31)"
            ],
            [
             0.1,
             "rgb(178,24,43)"
            ],
            [
             0.2,
             "rgb(214,96,77)"
            ],
            [
             0.3,
             "rgb(244,165,130)"
            ],
            [
             0.4,
             "rgb(253,219,199)"
            ],
            [
             0.5,
             "rgb(247,247,247)"
            ],
            [
             0.6,
             "rgb(209,229,240)"
            ],
            [
             0.7,
             "rgb(146,197,222)"
            ],
            [
             0.8,
             "rgb(67,147,195)"
            ],
            [
             0.9,
             "rgb(33,102,172)"
            ],
            [
             1,
             "rgb(5,48,97)"
            ]
           ],
           "sequential": [
            [
             0,
             "#440154"
            ],
            [
             0.1111111111111111,
             "#482878"
            ],
            [
             0.2222222222222222,
             "#3e4989"
            ],
            [
             0.3333333333333333,
             "#31688e"
            ],
            [
             0.4444444444444444,
             "#26828e"
            ],
            [
             0.5555555555555556,
             "#1f9e89"
            ],
            [
             0.6666666666666666,
             "#35b779"
            ],
            [
             0.7777777777777778,
             "#6ece58"
            ],
            [
             0.8888888888888888,
             "#b5de2b"
            ],
            [
             1,
             "#fde725"
            ]
           ],
           "sequentialminus": [
            [
             0,
             "#440154"
            ],
            [
             0.1111111111111111,
             "#482878"
            ],
            [
             0.2222222222222222,
             "#3e4989"
            ],
            [
             0.3333333333333333,
             "#31688e"
            ],
            [
             0.4444444444444444,
             "#26828e"
            ],
            [
             0.5555555555555556,
             "#1f9e89"
            ],
            [
             0.6666666666666666,
             "#35b779"
            ],
            [
             0.7777777777777778,
             "#6ece58"
            ],
            [
             0.8888888888888888,
             "#b5de2b"
            ],
            [
             1,
             "#fde725"
            ]
           ]
          },
          "colorway": [
           "#1F77B4",
           "#FF7F0E",
           "#2CA02C",
           "#D62728",
           "#9467BD",
           "#8C564B",
           "#E377C2",
           "#7F7F7F",
           "#BCBD22",
           "#17BECF"
          ],
          "font": {
           "color": "rgb(36,36,36)"
          },
          "geo": {
           "bgcolor": "white",
           "lakecolor": "white",
           "landcolor": "white",
           "showlakes": true,
           "showland": true,
           "subunitcolor": "white"
          },
          "hoverlabel": {
           "align": "left"
          },
          "hovermode": "closest",
          "mapbox": {
           "style": "light"
          },
          "paper_bgcolor": "white",
          "plot_bgcolor": "white",
          "polar": {
           "angularaxis": {
            "gridcolor": "rgb(232,232,232)",
            "linecolor": "rgb(36,36,36)",
            "showgrid": false,
            "showline": true,
            "ticks": "outside"
           },
           "bgcolor": "white",
           "radialaxis": {
            "gridcolor": "rgb(232,232,232)",
            "linecolor": "rgb(36,36,36)",
            "showgrid": false,
            "showline": true,
            "ticks": "outside"
           }
          },
          "scene": {
           "xaxis": {
            "backgroundcolor": "white",
            "gridcolor": "rgb(232,232,232)",
            "gridwidth": 2,
            "linecolor": "rgb(36,36,36)",
            "showbackground": true,
            "showgrid": false,
            "showline": true,
            "ticks": "outside",
            "zeroline": false,
            "zerolinecolor": "rgb(36,36,36)"
           },
           "yaxis": {
            "backgroundcolor": "white",
            "gridcolor": "rgb(232,232,232)",
            "gridwidth": 2,
            "linecolor": "rgb(36,36,36)",
            "showbackground": true,
            "showgrid": false,
            "showline": true,
            "ticks": "outside",
            "zeroline": false,
            "zerolinecolor": "rgb(36,36,36)"
           },
           "zaxis": {
            "backgroundcolor": "white",
            "gridcolor": "rgb(232,232,232)",
            "gridwidth": 2,
            "linecolor": "rgb(36,36,36)",
            "showbackground": true,
            "showgrid": false,
            "showline": true,
            "ticks": "outside",
            "zeroline": false,
            "zerolinecolor": "rgb(36,36,36)"
           }
          },
          "shapedefaults": {
           "fillcolor": "black",
           "line": {
            "width": 0
           },
           "opacity": 0.3
          },
          "ternary": {
           "aaxis": {
            "gridcolor": "rgb(232,232,232)",
            "linecolor": "rgb(36,36,36)",
            "showgrid": false,
            "showline": true,
            "ticks": "outside"
           },
           "baxis": {
            "gridcolor": "rgb(232,232,232)",
            "linecolor": "rgb(36,36,36)",
            "showgrid": false,
            "showline": true,
            "ticks": "outside"
           },
           "bgcolor": "white",
           "caxis": {
            "gridcolor": "rgb(232,232,232)",
            "linecolor": "rgb(36,36,36)",
            "showgrid": false,
            "showline": true,
            "ticks": "outside"
           }
          },
          "title": {
           "x": 0.05
          },
          "xaxis": {
           "automargin": true,
           "gridcolor": "rgb(232,232,232)",
           "linecolor": "rgb(36,36,36)",
           "showgrid": false,
           "showline": true,
           "ticks": "outside",
           "title": {
            "standoff": 15
           },
           "zeroline": false,
           "zerolinecolor": "rgb(36,36,36)"
          },
          "yaxis": {
           "automargin": true,
           "gridcolor": "rgb(232,232,232)",
           "linecolor": "rgb(36,36,36)",
           "showgrid": false,
           "showline": true,
           "ticks": "outside",
           "title": {
            "standoff": 15
           },
           "zeroline": false,
           "zerolinecolor": "rgb(36,36,36)"
          }
         }
        },
        "title": {
         "font": {
          "color": "Black",
          "size": 22
         },
         "text": "<b>Intertopic Distance Map</b>",
         "x": 0.5,
         "xanchor": "center",
         "y": 0.95,
         "yanchor": "top"
        },
        "width": 650,
        "xaxis": {
         "anchor": "y",
         "domain": [
          0,
          1
         ],
         "range": [
          7.622262096405029,
          11.895551586151123
         ],
         "title": {
          "text": ""
         },
         "visible": false
        },
        "yaxis": {
         "anchor": "x",
         "domain": [
          0,
          1
         ],
         "range": [
          13.222933769226074,
          19.760534000396728
         ],
         "title": {
          "text": ""
         },
         "visible": false
        }
       }
      }
     },
     "metadata": {},
     "output_type": "display_data"
    }
   ],
   "source": [
    "from bertopic import BERTopic\n",
    "\n",
    "model = BERTopic(language=\"english\", calculate_probabilities=True, verbose=True,embedding_model=\"all-MiniLM-L6-v2\",min_topic_size=11) #The higher the value of min_topic_size, the more specific the topics will be\n",
    "topics, probs = model.fit_transform(reports['text_processed']) #Fit model to data : topics are the topic labels for each document, probs are the probabilities of each topic for each document\n",
    "model.visualize_topics() #Visualize topics"
   ]
  },
  {
   "attachments": {},
   "cell_type": "markdown",
   "metadata": {},
   "source": [
    "### Topic extraction and representation"
   ]
  },
  {
   "cell_type": "code",
   "execution_count": 7,
   "metadata": {},
   "outputs": [
    {
     "name": "stdout",
     "output_type": "stream",
     "text": [
      "N number of topics:  5\n",
      "   Topic  Count                            Name  \\\n",
      "0     -1    131         -1_time_images_body_saw   \n",
      "1      0    127     0_saw_colours_moving_shapes   \n",
      "2      1     55   1_peace_calm_relaxed_relaxing   \n",
      "3      2     35    2_music_journey_much_calming   \n",
      "4      3     29  3_thoughts_mind_people_thought   \n",
      "\n",
      "                                      Representation  \\\n",
      "0  [time, images, body, saw, sense, would, though...   \n",
      "1  [saw, colours, moving, shapes, patterns, space...   \n",
      "2  [peace, calm, relaxed, relaxing, good, interes...   \n",
      "3  [music, journey, much, calming, mind, relaxing...   \n",
      "4  [thoughts, mind, people, thought, brain, somet...   \n",
      "\n",
      "                                 Representative_Docs  \n",
      "0  [thought fluffy speech writtenhealth safetyasp...  \n",
      "1  [colour fields varying colours changed rapidly...  \n",
      "2  [peace, atei feel really relaxed would j try m...  \n",
      "3  [saw stars hexagons tesselating twisting zoomi...  \n",
      "4  [brief - thinking death could look decided ass...  \n"
     ]
    }
   ],
   "source": [
    "topic_freq = model.get_topic_freq().head() #Get the frequency of each topic\n",
    "freq = model.get_topic_info() #Get the frequency of each topic\n",
    "print(\"N number of topics: \",len(freq))\n",
    "print(freq.head())\n"
   ]
  },
  {
   "cell_type": "code",
   "execution_count": 8,
   "metadata": {},
   "outputs": [
    {
     "data": {
      "text/plain": [
       "[('saw', 0.05646018960348867),\n",
       " ('colours', 0.04857714195800381),\n",
       " ('moving', 0.04123967628001944),\n",
       " ('shapes', 0.03953781488765782),\n",
       " ('patterns', 0.03862099663498269),\n",
       " ('space', 0.03777959123341399),\n",
       " ('light', 0.03606987299547217),\n",
       " ('one', 0.03148299269451166),\n",
       " ('blue', 0.030525491403381136),\n",
       " ('eyes', 0.028909723215689777)]"
      ]
     },
     "execution_count": 8,
     "metadata": {},
     "output_type": "execute_result"
    }
   ],
   "source": [
    "model.get_topic(0) #Get the most frequent words of the first topic (the words and their probabilities, ie TF-IDF scores)"
   ]
  },
  {
   "attachments": {},
   "cell_type": "markdown",
   "metadata": {},
   "source": [
    "## Prileminary visualisation"
   ]
  },
  {
   "cell_type": "code",
   "execution_count": 9,
   "metadata": {},
   "outputs": [
    {
     "data": {
      "application/vnd.plotly.v1+json": {
       "config": {
        "plotlyServerURL": "https://plot.ly"
       },
       "data": [
        {
         "marker": {
          "color": "#D55E00"
         },
         "orientation": "h",
         "type": "bar",
         "x": [
          0.03862099663498269,
          0.03953781488765782,
          0.04123967628001944,
          0.04857714195800381,
          0.05646018960348867
         ],
         "xaxis": "x",
         "y": [
          "patterns  ",
          "shapes  ",
          "moving  ",
          "colours  ",
          "saw  "
         ],
         "yaxis": "y"
        },
        {
         "marker": {
          "color": "#0072B2"
         },
         "orientation": "h",
         "type": "bar",
         "x": [
          0.07785584724674832,
          0.07785584724674832,
          0.1117083531763546,
          0.15080038756822964,
          0.15080038756822964
         ],
         "xaxis": "x2",
         "y": [
          "good  ",
          "relaxing  ",
          "relaxed  ",
          "calm  ",
          "peace  "
         ],
         "yaxis": "y2"
        },
        {
         "marker": {
          "color": "#CC79A7"
         },
         "orientation": "h",
         "type": "bar",
         "x": [
          0.027377901780111676,
          0.02847291349118543,
          0.02865018996964519,
          0.0385296560523695,
          0.1658313893990652
         ],
         "xaxis": "x3",
         "y": [
          "mind  ",
          "calming  ",
          "much  ",
          "journey  ",
          "music  "
         ],
         "yaxis": "y3"
        },
        {
         "marker": {
          "color": "#E69F00"
         },
         "orientation": "h",
         "type": "bar",
         "x": [
          0.05056967579264926,
          0.05419590736327881,
          0.05847361966931354,
          0.06594163200181184,
          0.13584010072228
         ],
         "xaxis": "x4",
         "y": [
          "brain  ",
          "thought  ",
          "people  ",
          "mind  ",
          "thoughts  "
         ],
         "yaxis": "y4"
        }
       ],
       "layout": {
        "annotations": [
         {
          "font": {
           "size": 16
          },
          "showarrow": false,
          "text": "Topic 0",
          "x": 0.0875,
          "xanchor": "center",
          "xref": "paper",
          "y": 1,
          "yanchor": "bottom",
          "yref": "paper"
         },
         {
          "font": {
           "size": 16
          },
          "showarrow": false,
          "text": "Topic 1",
          "x": 0.36250000000000004,
          "xanchor": "center",
          "xref": "paper",
          "y": 1,
          "yanchor": "bottom",
          "yref": "paper"
         },
         {
          "font": {
           "size": 16
          },
          "showarrow": false,
          "text": "Topic 2",
          "x": 0.6375000000000001,
          "xanchor": "center",
          "xref": "paper",
          "y": 1,
          "yanchor": "bottom",
          "yref": "paper"
         },
         {
          "font": {
           "size": 16
          },
          "showarrow": false,
          "text": "Topic 3",
          "x": 0.9125,
          "xanchor": "center",
          "xref": "paper",
          "y": 1,
          "yanchor": "bottom",
          "yref": "paper"
         }
        ],
        "height": 325,
        "hoverlabel": {
         "bgcolor": "white",
         "font": {
          "family": "Rockwell",
          "size": 16
         }
        },
        "showlegend": false,
        "template": {
         "data": {
          "bar": [
           {
            "error_x": {
             "color": "#2a3f5f"
            },
            "error_y": {
             "color": "#2a3f5f"
            },
            "marker": {
             "line": {
              "color": "white",
              "width": 0.5
             },
             "pattern": {
              "fillmode": "overlay",
              "size": 10,
              "solidity": 0.2
             }
            },
            "type": "bar"
           }
          ],
          "barpolar": [
           {
            "marker": {
             "line": {
              "color": "white",
              "width": 0.5
             },
             "pattern": {
              "fillmode": "overlay",
              "size": 10,
              "solidity": 0.2
             }
            },
            "type": "barpolar"
           }
          ],
          "carpet": [
           {
            "aaxis": {
             "endlinecolor": "#2a3f5f",
             "gridcolor": "#C8D4E3",
             "linecolor": "#C8D4E3",
             "minorgridcolor": "#C8D4E3",
             "startlinecolor": "#2a3f5f"
            },
            "baxis": {
             "endlinecolor": "#2a3f5f",
             "gridcolor": "#C8D4E3",
             "linecolor": "#C8D4E3",
             "minorgridcolor": "#C8D4E3",
             "startlinecolor": "#2a3f5f"
            },
            "type": "carpet"
           }
          ],
          "choropleth": [
           {
            "colorbar": {
             "outlinewidth": 0,
             "ticks": ""
            },
            "type": "choropleth"
           }
          ],
          "contour": [
           {
            "colorbar": {
             "outlinewidth": 0,
             "ticks": ""
            },
            "colorscale": [
             [
              0,
              "#0d0887"
             ],
             [
              0.1111111111111111,
              "#46039f"
             ],
             [
              0.2222222222222222,
              "#7201a8"
             ],
             [
              0.3333333333333333,
              "#9c179e"
             ],
             [
              0.4444444444444444,
              "#bd3786"
             ],
             [
              0.5555555555555556,
              "#d8576b"
             ],
             [
              0.6666666666666666,
              "#ed7953"
             ],
             [
              0.7777777777777778,
              "#fb9f3a"
             ],
             [
              0.8888888888888888,
              "#fdca26"
             ],
             [
              1,
              "#f0f921"
             ]
            ],
            "type": "contour"
           }
          ],
          "contourcarpet": [
           {
            "colorbar": {
             "outlinewidth": 0,
             "ticks": ""
            },
            "type": "contourcarpet"
           }
          ],
          "heatmap": [
           {
            "colorbar": {
             "outlinewidth": 0,
             "ticks": ""
            },
            "colorscale": [
             [
              0,
              "#0d0887"
             ],
             [
              0.1111111111111111,
              "#46039f"
             ],
             [
              0.2222222222222222,
              "#7201a8"
             ],
             [
              0.3333333333333333,
              "#9c179e"
             ],
             [
              0.4444444444444444,
              "#bd3786"
             ],
             [
              0.5555555555555556,
              "#d8576b"
             ],
             [
              0.6666666666666666,
              "#ed7953"
             ],
             [
              0.7777777777777778,
              "#fb9f3a"
             ],
             [
              0.8888888888888888,
              "#fdca26"
             ],
             [
              1,
              "#f0f921"
             ]
            ],
            "type": "heatmap"
           }
          ],
          "heatmapgl": [
           {
            "colorbar": {
             "outlinewidth": 0,
             "ticks": ""
            },
            "colorscale": [
             [
              0,
              "#0d0887"
             ],
             [
              0.1111111111111111,
              "#46039f"
             ],
             [
              0.2222222222222222,
              "#7201a8"
             ],
             [
              0.3333333333333333,
              "#9c179e"
             ],
             [
              0.4444444444444444,
              "#bd3786"
             ],
             [
              0.5555555555555556,
              "#d8576b"
             ],
             [
              0.6666666666666666,
              "#ed7953"
             ],
             [
              0.7777777777777778,
              "#fb9f3a"
             ],
             [
              0.8888888888888888,
              "#fdca26"
             ],
             [
              1,
              "#f0f921"
             ]
            ],
            "type": "heatmapgl"
           }
          ],
          "histogram": [
           {
            "marker": {
             "pattern": {
              "fillmode": "overlay",
              "size": 10,
              "solidity": 0.2
             }
            },
            "type": "histogram"
           }
          ],
          "histogram2d": [
           {
            "colorbar": {
             "outlinewidth": 0,
             "ticks": ""
            },
            "colorscale": [
             [
              0,
              "#0d0887"
             ],
             [
              0.1111111111111111,
              "#46039f"
             ],
             [
              0.2222222222222222,
              "#7201a8"
             ],
             [
              0.3333333333333333,
              "#9c179e"
             ],
             [
              0.4444444444444444,
              "#bd3786"
             ],
             [
              0.5555555555555556,
              "#d8576b"
             ],
             [
              0.6666666666666666,
              "#ed7953"
             ],
             [
              0.7777777777777778,
              "#fb9f3a"
             ],
             [
              0.8888888888888888,
              "#fdca26"
             ],
             [
              1,
              "#f0f921"
             ]
            ],
            "type": "histogram2d"
           }
          ],
          "histogram2dcontour": [
           {
            "colorbar": {
             "outlinewidth": 0,
             "ticks": ""
            },
            "colorscale": [
             [
              0,
              "#0d0887"
             ],
             [
              0.1111111111111111,
              "#46039f"
             ],
             [
              0.2222222222222222,
              "#7201a8"
             ],
             [
              0.3333333333333333,
              "#9c179e"
             ],
             [
              0.4444444444444444,
              "#bd3786"
             ],
             [
              0.5555555555555556,
              "#d8576b"
             ],
             [
              0.6666666666666666,
              "#ed7953"
             ],
             [
              0.7777777777777778,
              "#fb9f3a"
             ],
             [
              0.8888888888888888,
              "#fdca26"
             ],
             [
              1,
              "#f0f921"
             ]
            ],
            "type": "histogram2dcontour"
           }
          ],
          "mesh3d": [
           {
            "colorbar": {
             "outlinewidth": 0,
             "ticks": ""
            },
            "type": "mesh3d"
           }
          ],
          "parcoords": [
           {
            "line": {
             "colorbar": {
              "outlinewidth": 0,
              "ticks": ""
             }
            },
            "type": "parcoords"
           }
          ],
          "pie": [
           {
            "automargin": true,
            "type": "pie"
           }
          ],
          "scatter": [
           {
            "fillpattern": {
             "fillmode": "overlay",
             "size": 10,
             "solidity": 0.2
            },
            "type": "scatter"
           }
          ],
          "scatter3d": [
           {
            "line": {
             "colorbar": {
              "outlinewidth": 0,
              "ticks": ""
             }
            },
            "marker": {
             "colorbar": {
              "outlinewidth": 0,
              "ticks": ""
             }
            },
            "type": "scatter3d"
           }
          ],
          "scattercarpet": [
           {
            "marker": {
             "colorbar": {
              "outlinewidth": 0,
              "ticks": ""
             }
            },
            "type": "scattercarpet"
           }
          ],
          "scattergeo": [
           {
            "marker": {
             "colorbar": {
              "outlinewidth": 0,
              "ticks": ""
             }
            },
            "type": "scattergeo"
           }
          ],
          "scattergl": [
           {
            "marker": {
             "colorbar": {
              "outlinewidth": 0,
              "ticks": ""
             }
            },
            "type": "scattergl"
           }
          ],
          "scattermapbox": [
           {
            "marker": {
             "colorbar": {
              "outlinewidth": 0,
              "ticks": ""
             }
            },
            "type": "scattermapbox"
           }
          ],
          "scatterpolar": [
           {
            "marker": {
             "colorbar": {
              "outlinewidth": 0,
              "ticks": ""
             }
            },
            "type": "scatterpolar"
           }
          ],
          "scatterpolargl": [
           {
            "marker": {
             "colorbar": {
              "outlinewidth": 0,
              "ticks": ""
             }
            },
            "type": "scatterpolargl"
           }
          ],
          "scatterternary": [
           {
            "marker": {
             "colorbar": {
              "outlinewidth": 0,
              "ticks": ""
             }
            },
            "type": "scatterternary"
           }
          ],
          "surface": [
           {
            "colorbar": {
             "outlinewidth": 0,
             "ticks": ""
            },
            "colorscale": [
             [
              0,
              "#0d0887"
             ],
             [
              0.1111111111111111,
              "#46039f"
             ],
             [
              0.2222222222222222,
              "#7201a8"
             ],
             [
              0.3333333333333333,
              "#9c179e"
             ],
             [
              0.4444444444444444,
              "#bd3786"
             ],
             [
              0.5555555555555556,
              "#d8576b"
             ],
             [
              0.6666666666666666,
              "#ed7953"
             ],
             [
              0.7777777777777778,
              "#fb9f3a"
             ],
             [
              0.8888888888888888,
              "#fdca26"
             ],
             [
              1,
              "#f0f921"
             ]
            ],
            "type": "surface"
           }
          ],
          "table": [
           {
            "cells": {
             "fill": {
              "color": "#EBF0F8"
             },
             "line": {
              "color": "white"
             }
            },
            "header": {
             "fill": {
              "color": "#C8D4E3"
             },
             "line": {
              "color": "white"
             }
            },
            "type": "table"
           }
          ]
         },
         "layout": {
          "annotationdefaults": {
           "arrowcolor": "#2a3f5f",
           "arrowhead": 0,
           "arrowwidth": 1
          },
          "autotypenumbers": "strict",
          "coloraxis": {
           "colorbar": {
            "outlinewidth": 0,
            "ticks": ""
           }
          },
          "colorscale": {
           "diverging": [
            [
             0,
             "#8e0152"
            ],
            [
             0.1,
             "#c51b7d"
            ],
            [
             0.2,
             "#de77ae"
            ],
            [
             0.3,
             "#f1b6da"
            ],
            [
             0.4,
             "#fde0ef"
            ],
            [
             0.5,
             "#f7f7f7"
            ],
            [
             0.6,
             "#e6f5d0"
            ],
            [
             0.7,
             "#b8e186"
            ],
            [
             0.8,
             "#7fbc41"
            ],
            [
             0.9,
             "#4d9221"
            ],
            [
             1,
             "#276419"
            ]
           ],
           "sequential": [
            [
             0,
             "#0d0887"
            ],
            [
             0.1111111111111111,
             "#46039f"
            ],
            [
             0.2222222222222222,
             "#7201a8"
            ],
            [
             0.3333333333333333,
             "#9c179e"
            ],
            [
             0.4444444444444444,
             "#bd3786"
            ],
            [
             0.5555555555555556,
             "#d8576b"
            ],
            [
             0.6666666666666666,
             "#ed7953"
            ],
            [
             0.7777777777777778,
             "#fb9f3a"
            ],
            [
             0.8888888888888888,
             "#fdca26"
            ],
            [
             1,
             "#f0f921"
            ]
           ],
           "sequentialminus": [
            [
             0,
             "#0d0887"
            ],
            [
             0.1111111111111111,
             "#46039f"
            ],
            [
             0.2222222222222222,
             "#7201a8"
            ],
            [
             0.3333333333333333,
             "#9c179e"
            ],
            [
             0.4444444444444444,
             "#bd3786"
            ],
            [
             0.5555555555555556,
             "#d8576b"
            ],
            [
             0.6666666666666666,
             "#ed7953"
            ],
            [
             0.7777777777777778,
             "#fb9f3a"
            ],
            [
             0.8888888888888888,
             "#fdca26"
            ],
            [
             1,
             "#f0f921"
            ]
           ]
          },
          "colorway": [
           "#636efa",
           "#EF553B",
           "#00cc96",
           "#ab63fa",
           "#FFA15A",
           "#19d3f3",
           "#FF6692",
           "#B6E880",
           "#FF97FF",
           "#FECB52"
          ],
          "font": {
           "color": "#2a3f5f"
          },
          "geo": {
           "bgcolor": "white",
           "lakecolor": "white",
           "landcolor": "white",
           "showlakes": true,
           "showland": true,
           "subunitcolor": "#C8D4E3"
          },
          "hoverlabel": {
           "align": "left"
          },
          "hovermode": "closest",
          "mapbox": {
           "style": "light"
          },
          "paper_bgcolor": "white",
          "plot_bgcolor": "white",
          "polar": {
           "angularaxis": {
            "gridcolor": "#EBF0F8",
            "linecolor": "#EBF0F8",
            "ticks": ""
           },
           "bgcolor": "white",
           "radialaxis": {
            "gridcolor": "#EBF0F8",
            "linecolor": "#EBF0F8",
            "ticks": ""
           }
          },
          "scene": {
           "xaxis": {
            "backgroundcolor": "white",
            "gridcolor": "#DFE8F3",
            "gridwidth": 2,
            "linecolor": "#EBF0F8",
            "showbackground": true,
            "ticks": "",
            "zerolinecolor": "#EBF0F8"
           },
           "yaxis": {
            "backgroundcolor": "white",
            "gridcolor": "#DFE8F3",
            "gridwidth": 2,
            "linecolor": "#EBF0F8",
            "showbackground": true,
            "ticks": "",
            "zerolinecolor": "#EBF0F8"
           },
           "zaxis": {
            "backgroundcolor": "white",
            "gridcolor": "#DFE8F3",
            "gridwidth": 2,
            "linecolor": "#EBF0F8",
            "showbackground": true,
            "ticks": "",
            "zerolinecolor": "#EBF0F8"
           }
          },
          "shapedefaults": {
           "line": {
            "color": "#2a3f5f"
           }
          },
          "ternary": {
           "aaxis": {
            "gridcolor": "#DFE8F3",
            "linecolor": "#A2B1C6",
            "ticks": ""
           },
           "baxis": {
            "gridcolor": "#DFE8F3",
            "linecolor": "#A2B1C6",
            "ticks": ""
           },
           "bgcolor": "white",
           "caxis": {
            "gridcolor": "#DFE8F3",
            "linecolor": "#A2B1C6",
            "ticks": ""
           }
          },
          "title": {
           "x": 0.05
          },
          "xaxis": {
           "automargin": true,
           "gridcolor": "#EBF0F8",
           "linecolor": "#EBF0F8",
           "ticks": "",
           "title": {
            "standoff": 15
           },
           "zerolinecolor": "#EBF0F8",
           "zerolinewidth": 2
          },
          "yaxis": {
           "automargin": true,
           "gridcolor": "#EBF0F8",
           "linecolor": "#EBF0F8",
           "ticks": "",
           "title": {
            "standoff": 15
           },
           "zerolinecolor": "#EBF0F8",
           "zerolinewidth": 2
          }
         }
        },
        "title": {
         "font": {
          "color": "Black",
          "size": 22
         },
         "text": "Topic Word Scores",
         "x": 0.5,
         "xanchor": "center",
         "yanchor": "top"
        },
        "width": 1000,
        "xaxis": {
         "anchor": "y",
         "domain": [
          0,
          0.175
         ],
         "showgrid": true
        },
        "xaxis2": {
         "anchor": "y2",
         "domain": [
          0.275,
          0.45
         ],
         "showgrid": true
        },
        "xaxis3": {
         "anchor": "y3",
         "domain": [
          0.55,
          0.7250000000000001
         ],
         "showgrid": true
        },
        "xaxis4": {
         "anchor": "y4",
         "domain": [
          0.825,
          1
         ],
         "showgrid": true
        },
        "yaxis": {
         "anchor": "x",
         "domain": [
          0,
          1
         ],
         "showgrid": true
        },
        "yaxis2": {
         "anchor": "x2",
         "domain": [
          0,
          1
         ],
         "showgrid": true
        },
        "yaxis3": {
         "anchor": "x3",
         "domain": [
          0,
          1
         ],
         "showgrid": true
        },
        "yaxis4": {
         "anchor": "x4",
         "domain": [
          0,
          1
         ],
         "showgrid": true
        }
       }
      }
     },
     "metadata": {},
     "output_type": "display_data"
    }
   ],
   "source": [
    "model.visualize_barchart(top_n_topics=10) #Visualize the top 10 topics"
   ]
  },
  {
   "cell_type": "code",
   "execution_count": 10,
   "metadata": {},
   "outputs": [
    {
     "data": {
      "application/vnd.plotly.v1+json": {
       "config": {
        "plotlyServerURL": "https://plot.ly"
       },
       "data": [
        {
         "hoverinfo": "text",
         "hovertext": [
          "possible generate full images demand - elephant made upwards flowing oil rivulets",
          "healing part realise decayed entirely",
          "quite honest think fell asleep dont really rememberwhat saw",
          "initially spiral spool old film running projector figures standing though dance starfields reminiscent 2001 stargate oddly robbie williams",
          "visual abit flat sa focused eyes head much would rather engage body work somatic aspect dropped body feel flat survace lie canvas face painting images appeared beautiful thanks",
          "busy airport waiting area landing egypt",
          "breathing exercize: would help staff could show us could copy way delivered fast long rythm found eye mask uncomfortable forehead took would prefer use hands shield light abit cold especially moving quite echoy could hear someone snoring staff openin & shutting thedoor near beginning might idea box tissues reflection room",
          "euphoria",
          "would next make artwork",
          "blue bird flying coming closer calm peace baby smiling relative thought working dream another place",
          "thus available everyone time",
          "life retired",
          "saw map london walked new york floating space star angel floating past memories forgiving ever sad numb",
          "awake whole time could relax switch",
          "closest thing i'll ever drugs",
          "vibration visuals centered body aware sounds mind realty quietened",
          "falling snow peaceful lost cornfield staring tunnel scared",
          "alot memories",
          "calm serenity flashback emotions",
          "many different things little afraid thinking gas chambers overwheming feeling love connection everyone room became white egret dream last week flew around room touching everyone heart expanded opened wings hold room typeof death decended underworld felyt go layers earth moss land abeing call eveleryn things changed became pink clouds met long blue much defined form told francis assisi asked husband told important work destiny became mantaray drifted",
          "brain oscar worthy director",
          "confusing sense place familiar place grandmother's basement train station place sensation strong struggled find memory matched feeling knew strong pull familiar place beyond remembering sure glad drugs",
          "feel amazed saw afriend past free field green hill made weep joy saw poverty forebears loved thanked",
          "intense connection body surroundings",
          "euphoric healing",
          "something wonderful",
          "geometrical rythmic pulsating cosmos front eyes infinently varied beutiful return time without help dream",
          "wish george created",
          "devtest trevor onsite 2",
          "outerspace experiencing transition death comforting whilst small insignificant also free powerful",
          "intensity connectionvastnessspaciousnesslovi ngawareness",
          "yourefrom university sussex need stand reality believe souls gendered ogherwise",
          "immense comfort even much frantic towards saw deep blue snow incredibly peaceful",
          "varying journey speed awareness times rapid though thr body brain able process moments calm soothing desire retain recall shapes colours andfeelings envoked strong understanding may lost coming",
          "psychedelic colours",
          "vertigo",
          "doorway",
          "entry another univerise",
          "struggled let go though amazing mind make colours shapes images tried think living fear live",
          "wild ride",
          "rollercoaster sun make get",
          "exactly rember lsd without scary parts",
          "st time seperate front vision 2nd time around vast difference happen bigger profound akmost intense",
          "collection keyholes could see paintingthrough animals merpeople morphing intoeach wireframe structures 'up' (the animated movie)-style montage future",
          "saw past experiences reflected choices saw new scenes reflected opportunities",
          "breathing hard",
          "noxtalgia andpdace optimism escapism ive visited three timesand different wearing contacts geometric last timei saw lot white geomtricforms mixed smoke times saw hyperspace style visuals red blue",
          "anotherworld",
          "deep relaxation deep tissue massage mind safe healthy groovy drug-free trip long last afterwards deepest deepest sleep worried might give headache didnt great peace soothed tired",
          "scary pointy laughing clown face test period came later able control turned pecking bird zooming space someone wanted show planet far away flew cities deserts one point wasflyingclose ground herd elephants met god one eye middle theirforehead great sense ofadventure wellbeing traveller welcome ontheir peaceful world",
          "nothingness complete",
          "wentback many hard mostly beautiful memories without prompting",
          "something ever experienced something wish could week",
          "thought alot rands journey rhudian experiencing history aiel eyes ancestors",
          "life death rebirth",
          "helped meditation journey",
          "began violent falling away darkness",
          "wish could remindedme child",
          "thought fluffy speech writtenhealth safetyaspect broke sense adventure departure really ecessary meditive part nice perhaps take intro time brief overview histiry pursuits aybea bit science lose faux hand holding lovely overall",
          "various flashing images memories random events people life kept popping nothing lingered lots individual things happened memories also numb tingly throughout different points body light fuzzy wasnt sitting anything",
          "amazing sense harmony balance oneness visually moving mandala",
          "seeing hearing deceased relatives smiled could hear distinctive voices",
          "experienc time travelling imagine",
          "almost transformative lights started gradually built moved states mindfullness distracted everyday thoughts sometimes wrestling two crescendoed cacophony sound light reached state full awareness arms weightless parts body distant unrecognisable",
          "lots colors",
          "happiness joy adventure",
          "wondered would die calm serene frightening isaw lots warmcolours black crosses-no green",
          "similar stuff normally",
          "dream movie one even mind flying lot shape light space moment feel draw back body environment thought somewhere one cant realise long quick dont feel time",
          "sound created visuals created pattern energy movement across body",
          "incredible technicolour",
          "riding willie wonka's boat crazy tunnels charlie chocolate factory",
          "direct infinite creativity much beauty vivid colours patterns travelling dimensions imagine would go similar journey transition realms",
          "loved would try couple hours",
          "incredible sensory huge feeling calm peace times l back womb",
          "hope that's death feels x",
          "sensory rollercoaster",
          "trying remember patterns",
          "devtest",
          "2nd time 1st one better coz relaxed got ideas time someone kept coughing disrupted thought process feel anything ban people cough",
          "interesting definitely easy moment reminded used get bored school assemblies press eyes watch patterns unfold visuals kaleidoscopic although saw moroccan landscape dolphin swimming away cave various points",
          "pulled vortex time waiting awake different dimension",
          "time place seem happened yet come",
          "woman next sniffing move difficult get back",
          "hope colour",
          "deep memories emotive reflections images ive seen",
          "thought throughout visualising body specifically head",
          "new form art individual host unique",
          "thought fluffy speech writtenhealth safetyaspect broke sense adventure departure really ecessary meditive part nice perhaps take intro time brief overview histiry pursuits aybea bit science lose faux hand holding lovely overall",
          "deep relaxation close falling asleep",
          "acid dmt safer everyone try",
          "euphoric",
          "stop thinking process trying memorise visuals trying disconnect wish meditated point started experimenting trying recall images liked successful 50% time reminded 2001: space odyssey",
          "got many vivid visions saw lots colours bedroom old tv shows videogames cities",
          "would love continual stimulation without breaks see images evolve",
          "past memories people really life anymore",
          "sound inside body",
          "moment i'll die want feel",
          "llama intro credit scene monty python holy grail points",
          "profihnd sense 9f relaxation neved experienced came pure connectivity body slight floating sensation",
          "similar mri also unsuccesfully trying fall asleep insomnia period",
          "kept seeing images og peope",
          "pleasant seeim something unexpected",
          "sense time",
          "love feling amazing would come back fell aslep wake fresh mindset",
          "experienced lot physical sensations stomach face inside head still feel brain massaged",
          "aware started follow train thought maybe going deeoer didnt see much imagery whdn concentratingon colours shapes spent lot timethunjing aboutthe way world sesoriky whether 'normal' compaired people",
          "dreaming dream little",
          "parents house figure room old house (shared ex) walking daily comute towards old front door walking dog normal experiences usually time everything scary people things surroundings closing sides made jump grab chest",
          "looking across universe beyond realm deep connection humankind overwhelming sense peace left feeling profoundly moved tearful",
          "dreaming awake- flashes random places maybe dead",
          "brains neurons veins elephants",
          "incredibly small weight exsistence heavy blanket rather negative relief comforted",
          "colours testcard lightly muted called pink mind saw wash deep pink also saw text almost ancient runes one point iwas flying remembered difficult experiences afterwards euphoric",
          "acid",
          "boat charlie chocolate factory",
          "resistance gone bliss saw colourful mandalas keeping pace beats perfect synchronicity amazed never experienced something equal beyond words",
          "overwhelming sense euphoria love everyone room journeying together hopeful",
          "found thoughts developing stories images eyes closed vast colours brain generated impressive art gallerty",
          "loss sense time images images feeling transported moving",
          "euphoric",
          "fabulous didnt wantit eyesopen throughoutand yet totally enveloped sound",
          "devtest trev site",
          "calming sounds rising elation curiosity connection acceptance stressful time self jubilation inspiration",
          "dreamt harbinger new planet shaping world life equity wish belong someone really loved missed",
          "bit weird know mybrain trying create something different things based colour",
          "taking hallucinogenic drugs younger",
          "times concern would soon",
          "submission fun mild euphoric moments",
          "sense expansion moving towards something forward motion motivation progress purposes",
          "complete journey closest sober (and honest better) psychedelics",
          null
         ],
         "marker": {
          "color": "#CFD8DC",
          "opacity": 0.5,
          "size": 5
         },
         "mode": "markers+text",
         "name": "other",
         "showlegend": false,
         "type": "scattergl",
         "x": [
          5.879909992218018,
          2.711820602416992,
          6.577394485473633,
          6.720855712890625,
          5.384851455688477,
          6.63883113861084,
          4.51757287979126,
          2.486177921295166,
          6.082869529724121,
          8.706355094909668,
          6.951955795288086,
          4.974356174468994,
          6.754902362823486,
          4.615179538726807,
          3.2016372680664062,
          4.084465980529785,
          6.930662155151367,
          6.442377090454102,
          4.100608825683594,
          4.464966297149658,
          5.548940181732178,
          4.685534477233887,
          6.1122355461120605,
          4.908848762512207,
          2.5250892639160156,
          3.160054922103882,
          7.804915904998779,
          5.589053630828857,
          5.686437606811523,
          5.077654838562012,
          4.920495986938477,
          5.247174263000488,
          3.652958631515503,
          4.982620716094971,
          5.096035957336426,
          6.639134883880615,
          4.7806854248046875,
          5.256444931030273,
          5.776669502258301,
          6.995262622833252,
          7.027047634124756,
          3.2443809509277344,
          7.5574798583984375,
          6.449274063110352,
          6.543661594390869,
          4.518261909484863,
          5.456723690032959,
          5.448063373565674,
          4.457726955413818,
          7.045226573944092,
          3.098073720932007,
          6.566809177398682,
          5.354350566864014,
          5.609072685241699,
          5.048130035400391,
          3.7041144371032715,
          6.7993927001953125,
          5.639416217803955,
          4.28982400894165,
          5.69503116607666,
          4.210963726043701,
          4.50570011138916,
          7.0168681144714355,
          5.094443321228027,
          5.916752338409424,
          3.7062718868255615,
          5.438623428344727,
          3.7165281772613525,
          6.544160842895508,
          4.1463799476623535,
          6.110174655914307,
          7.099442958831787,
          6.053495407104492,
          6.853731155395508,
          3.8492486476898193,
          4.767922401428223,
          6.929555416107178,
          6.286284923553467,
          5.684558868408203,
          4.561147689819336,
          7.068564414978027,
          8.27757453918457,
          6.969165325164795,
          4.6659321784973145,
          5.839033126831055,
          6.483476161956787,
          5.342321872711182,
          6.087015628814697,
          4.198242664337158,
          4.615105152130127,
          3.111117124557495,
          2.5458805561065674,
          6.048410415649414,
          6.05770206451416,
          5.657905578613281,
          6.530056953430176,
          4.1582932472229,
          4.547776699066162,
          7.110547065734863,
          5.095641613006592,
          5.238638877868652,
          5.69937801361084,
          3.6180527210235596,
          7.031010150909424,
          4.506361961364746,
          5.210536003112793,
          5.356581687927246,
          5.7212114334106445,
          4.901340484619141,
          3.468489170074463,
          5.746395587921143,
          5.571946144104004,
          3.70430064201355,
          5.4459404945373535,
          2.9118971824645996,
          7.101037502288818,
          4.192554950714111,
          2.66310977935791,
          5.802950859069824,
          7.064220428466797,
          2.5442068576812744,
          4.894752502441406,
          5.656786918640137,
          3.9108049869537354,
          5.4637956619262695,
          5.876498699188232,
          3.237780809402466,
          6.967700004577637,
          2.5919718742370605,
          7.081491470336914,
          3.31123948097229,
          5.2948174476623535
         ],
         "y": [
          11.097003936767578,
          9.995105743408203,
          10.099895477294922,
          11.582396507263184,
          10.748495101928711,
          9.683128356933594,
          9.810567855834961,
          9.74847412109375,
          11.375588417053223,
          11.974566459655762,
          9.151863098144531,
          9.166818618774414,
          9.924622535705566,
          8.690263748168945,
          10.478711128234863,
          11.693845748901367,
          11.031084060668945,
          10.422935485839844,
          9.496188163757324,
          10.733242988586426,
          10.97844409942627,
          10.27212905883789,
          10.294243812561035,
          10.945423126220703,
          9.804280281066895,
          8.906627655029297,
          12.470890045166016,
          8.822707176208496,
          7.998814105987549,
          9.377326965332031,
          10.944238662719727,
          8.549790382385254,
          9.457026481628418,
          11.201240539550781,
          11.664945602416992,
          11.833954811096191,
          8.654314041137695,
          8.565436363220215,
          11.31423282623291,
          11.708247184753418,
          11.71996784210205,
          10.498416900634766,
          12.756610870361328,
          11.314778327941895,
          10.491594314575195,
          9.363768577575684,
          11.454280853271484,
          8.67260456085205,
          8.72834300994873,
          10.66081428527832,
          7.783351421356201,
          10.278674125671387,
          9.712069511413574,
          11.311933517456055,
          9.31700325012207,
          10.417852401733398,
          10.981768608093262,
          8.888001441955566,
          10.601426124572754,
          10.701157569885254,
          11.176471710205078,
          11.323040008544922,
          9.276639938354492,
          10.962665557861328,
          12.192021369934082,
          9.061532020568848,
          11.724064826965332,
          7.992666721343994,
          9.60206127166748,
          11.802675247192383,
          11.574699401855469,
          11.078950881958008,
          11.45620059967041,
          9.054084777832031,
          9.384191513061523,
          9.460617065429688,
          11.619027137756348,
          10.496627807617188,
          8.01529312133789,
          9.62185001373291,
          10.664860725402832,
          12.563760757446289,
          9.170818328857422,
          9.606377601623535,
          12.147480964660645,
          10.429890632629395,
          10.683040618896484,
          11.453832626342773,
          10.555132865905762,
          8.712774276733398,
          10.354046821594238,
          9.783249855041504,
          10.587226867675781,
          11.783726692199707,
          11.33790397644043,
          10.305554389953613,
          11.778571128845215,
          9.463525772094727,
          10.731975555419922,
          10.750626564025879,
          9.019319534301758,
          11.22387981414795,
          9.8587007522583,
          9.268392562866211,
          10.946183204650879,
          10.574528694152832,
          11.247682571411133,
          8.921185493469238,
          9.809720039367676,
          9.415106773376465,
          9.022477149963379,
          10.945789337158203,
          9.388653755187988,
          11.547224044799805,
          10.165912628173828,
          11.070127487182617,
          11.085227012634277,
          9.700658798217773,
          11.275425910949707,
          9.359874725341797,
          9.76619815826416,
          11.56546688079834,
          7.992337703704834,
          9.658110618591309,
          8.72862434387207,
          12.254267692565918,
          10.493602752685547,
          9.167684555053711,
          9.723345756530762,
          9.39114761352539,
          10.512938499450684,
          10.298954963684082
         ]
        },
        {
         "hoverinfo": "text",
         "hovertext": [
          "numerous random shapes sometimes geometric sometimes dots feeling things comings sense travelling along galaxy highway towards",
          "physical discomfort amazing patterns intense colours yearning desire see questions",
          "pattern red white lights thatflashed andbecame intensewhen lights flashed intensely alsofelt sleep abit thinkingof partner could visualise",
          "journey cosmos travelling speed light galaxies wizz past",
          "deep ocean dark also brilliant blue drowning instead that's meant sense place akin home almost calling draw submerged away world space could float simply exist without interruptions",
          "portal moving towards away fractaling everything",
          "saw insideof eyelids whole new way",
          "mass moving shapes vivid colours continually changing evolving enveloping",
          "colour fields varying colours changed rapidly moving patterns sometimes patterns appeared move downwards front eyes sometimes across vision sometimes towards point infinity",
          "huge 3d landscapes flashing backgrounds undulating foreground quuckly becoming new perspective",
          "colourful patterns",
          "absolutely tripped away good came n experienced u set",
          "light shapes emerging receding patterns folding ofeash kaleidescope effects wasalso interesting image stabilised scan field vision side fo side explore periphery",
          "towards washing spin going helicopter moving different possitions",
          "moving tunnel branches green see green start finish",
          "saw serene beach scene people text subtitled movie set south france",
          "saw film strips sons lips giant wooshing manga dragon focussed grass slate little windows stained glass",
          "water womb birth light world also point bees panel",
          "blue red cross initially dots various colours one point got quite animated bounced around fair bit dozed",
          "intense visual clarity \"hyper-resolution\" extremely rich 3d",
          "changing temperature body lights changes intensity focussed compared light across whole peripheral vision",
          "saw kaleidoscope childhood toy abstract space dunes sunshine",
          "wasmy second time experance black white cold bluues grids fractials previous pink tones vortexes sensation flyingin wormhole",
          "outside kelidoscope colour rotating universe stars beyond everything one point looking buildings white curved modernist futuristic city",
          "mostly saw grey geometric shapes",
          "saw vertical tree branches green leaves towards though moving sleep state point",
          "though experiencing formation solar system eartha place warmth light arising dust spinning chaos suspended infinite void",
          "lots pulsating spiralling images take specific forms",
          "peacefull contemplation vivid mandelbrot type kaladescopic patterns",
          "flying coourful vortex overwhelming vast spaceand insignificant",
          "intro red spiralsalmost cyclone",
          "visuals trees heatsun likeexperience",
          "saw lot imagery colours especially images water ripples water snowscapes drops water falling also abstract forms pink red colours",
          "changing colours interlocking diamond triangles faintly distinct light appear grow shrink",
          "saw starry night blue warm water blue butterfly",
          "places waves animal",
          "whole spectrum colors shapes colors never seen moving many directions pircing thorough body mind ecstatic wished would never home deep sense warm loving embrace mothers wumb",
          "lot kaleidoscope flowers falling blossoms snow flakes ripples rain drops water",
          "perception various geometric constructs dyson speheres mobius strips rippling water etc",
          "clouds holding breath",
          "saw hexagons blue tunnel thought bees generativity pure full electricity",
          "intense geometric shapes spiralling deep ocean blue circle vivid memories dad carrying shoulders young girl back short dream unforgettable magical life-affirming",
          "towards went space take intense scary floating peacefully orbit glow earth could see stars",
          "interested different darkness different colours projected",
          "geometric paterns 2 colour mainly sometimes white dots moved rapidly direcion shape centre sometimes moved opposite direction towards centre point calledoscope linear helicopter sound could see 2 rotors geometrical shapes one front eye",
          "space even ive never physically",
          "thoughts mundane everyday things work mainly relaxed ansd able float dreamlike place visuals ofspace deep ocean",
          "unsettling lights flashing kalediscope front eyes even thouh eyes closed didnt feel control wondered would positive found could shut wanted able relax -almost falling asleep times colours changed patterns sometimes sunrise othertimes something science fiction blue backgrounds white linked rectangles",
          "hurtling space time speed determine experienced big bang everything since really hard put finger shedding different layers connected life forms much energy pulsating body",
          "colours lines spheres twirls",
          "body kept sinking dropping another level seat",
          "kalsczscope colours",
          "one point light darkened vision shifted field blue - one recognised deep shade derek jarman's film",
          "colours made patterns eyes closed - almost weave colours woollen fabric",
          "desert figures moving across dunes underwater among whales viewing london sky line one point followed helicopter saw lot orange blue bubbly patterns",
          "saw incredible kaleidescopes patterns made solid stripes colour edges kaleidescopes started see corridors gardens though doorways imagined world inside patterns one moment darker saw deep mass blue green sparks pulsed almost jelly fish wanted stay space see worlds",
          "land (not anywhere earth) another plannet animals usual colours - yellow elephant blue gorilla started gently running towards sea turned mermaid watched land swam away turtles fishes beautiful love peace harmony togetherness freedom much love",
          "fun fare spinning ride two next spinning opposite directions light lot mottled reds greens",
          "began see source light come connection everything could see little sensory machines moving relm bumping sounds colours emotions colours behind closed eyes swapped opposite colour colour spectrum screen",
          "everywhere saw partner's nose eyes glasses everything molecule air given eyes saw everything universe multiverse time emerged someone's sleeve everything packed tiny insignificant thing",
          "saw lot animals ones used rreptiles time liked seemed adorable also dreaming random objects started create stories dreamingit drug trip points also inside ocean",
          "spirals pulsing",
          "one central heart shape kept returning every colour rainbow one point sky immersed skydiving went space saw galaxies stars lots kaleidoscope shapes",
          "travelling space",
          "surprised time (4th high sensory) seeing peripheral live structures - pyramidal shapes another thing found strange seeing clearly pentagram centre spiral - normal one well reversed rotating",
          "kaleidascopic 'be guest' beauty & beast kept seeing happy spinning teapots",
          "col0urs shapes stars ac inecoce",
          "incredible colours patterns tended shift focusing sound colours difficult hold equally present",
          "intense fast movement sound shapes colour aand light 100% immersive anticipated",
          "saw flaring whirling water air becoming one withwhat floated",
          "vca fuzz patterns",
          "dissolved light",
          "riding ray sort flying barren icelandic desert spinning universe",
          "saw x3 distinct images: 1 staircase/escalator 2 treasure chests (x2 opening x1 closed/locked 3 bookmark symbol",
          "kaleidoscope light patterns",
          "web gold dark universe saw energy connection things domed tower full stars mountains arches appeared surrendered geometry falling lifted tunnels ascending warmth sun saw waters moving face earth covering deepness outside time close religious profoundly moving elating",
          "remembered beautiful joyful memories moments family asif waswith beach",
          "sense moving portal transported 2001 viewed kaleidoscope wearing kaleidogoggles immense",
          "moved wild tide atomic energy converging around us",
          "eyes shut time aware colours changing",
          "near impossible keep eyes open",
          "saw different landscapes",
          "saw shapes waves azulejo tiles patchwork blurry landscapes vague outlines animals shapes stag running saw past love wedding dress another swimming ocean",
          "red red shapes travel tbrough time",
          "thought drifting space quite enjoyed opened eyesbut thought centrelights mild impressive colors sawwhen eyes shut brief fleeting hues nebulous specific patterns",
          "range emotions patterns colour movement sense really beingbinside head",
          "sea 0f green stars moving oil water wading fading glimspe something disappearing shifting sharp angled reds bold lines intersectoring gate black swirling spheres orange turning spiral sense happening seems arrive vision virbates sense leaves",
          "towardsthe maybe quarter started really intense visual ripples looking tower",
          "thousansds fluttering butterfly wings flying space incredible speed phosporescence water welsh blanket mothers blue handmade patchwork quilt tesselations hexagons overwhelming beauty spinning planet childhood memory staring glittering eyelashes rainbow bright sun",
          "earth falling sun least nineties rave visuals cycle death rebirth envisaged eighties d&d summer meadow lot diamond ripples",
          "thatgod's light shone upon going back beginning universe big bang andseeing creatures microcosm - cellular level- well planets stars also depths ocean",
          "ajourney space riding kaleidoscope body occasion spinning sensastion could see glaxies star clusters around invisibke kaleidsospascecraft body lifted tracvelling theuniverse profound throughout calm exalted",
          "visual doesnt look anything whst saw much geometric kaledoscopic sky",
          "mind jellyfish suspended space",
          "saw vasarely artworks motion sense time weird really short bright light bit hurting overall amazing",
          "body - fact planet earth - took trip space",
          "v�sarely flying brain space warm sunset",
          "often connected space floating weightless surrounded millions stars travelling great speed time sometimes looked wormholes elated completely peaceful found smiling broadly moments",
          "bizarre lots observing others giant bubble people coming protected others control dome",
          "strange lights sense relaxation interested see would happen next",
          "towards slowly floating upwards",
          "saw many shapes colours usually swirling falling around moving vortex tunnel often red orange sometimes bluey green underwater",
          "points intense chaos broke clear defined counter clockwise spiralling tunnel two small semi circles centre going opposite way",
          "varirtyof lights colours movinginward outwards",
          "geometric kaleidescope shapes overlayed moving cosmos/night sky slow exposure different pulling directions moving portal time space",
          "many different visuals experiences one ocean house grass fields near cliffs next ocean approaching heaven one last ones walworth road",
          "saw different colour lights centre closed eyes",
          "l flower slowly unfurling sunlight trippy mickey mouse 1940s disney animation seen kalaidescope",
          "totally immersive inside kaleidescope saw bright yellow thesun took myhappy place",
          "hard focus single pattern wanted focus one would become less focused let pass would able see clearer",
          "one point saw someone leave room (like dream) also lifted spiralled waltzer saw many kinds patterns sparks geometric shapes contrarotating spirals feet feel bit floaty",
          "can't recognise color actually feel light dimming",
          "fractals intense colours sometimes mix memories single short scenes beautiful situations past",
          "swivelling vortex sound loneliness moon jacuzzi lightness",
          "saw concave convex thehot orange os cillating insice avolcano",
          "unique teach us simple could recconnect primitive way feel emotions trough sounds colours",
          "floating space",
          "wild could stayed day complete disconnection body strong desire turn intensity explore visual phases kaleidoscope swirls geometric patterns oranges reds blues green suddenly black/white phases feeling motion floating looking sky looking beneath flying forwards backwards tunnel",
          "though moving tunnel towards darkness wrapped metal strips",
          "floating air travelling universe flowers blooming",
          "lights colours sense calm joy",
          "relaxed also stimulated brightness frequency flickering attacked yet never scared weak",
          "thought universe moving moving centre drawn saw honeycomb shapes thought bees saw blocks colour red yellow dramatic",
          "particles star emiting light space",
          "bright blue skies waterfall flowing backwards flock birds universe",
          "jouney forward maybe backwards slow fast really fast really sloooow many fractals colours",
          "told atthe start could keep eyes open lot thought light show didnt get whole idea impact impact flickering lights closed eyes",
          null
         ],
         "marker": {
          "opacity": 0.5,
          "size": 5
         },
         "mode": "markers+text",
         "name": "0_saw_colours_moving",
         "text": [
          "",
          "",
          "",
          "",
          "",
          "",
          "",
          "",
          "",
          "",
          "",
          "",
          "",
          "",
          "",
          "",
          "",
          "",
          "",
          "",
          "",
          "",
          "",
          "",
          "",
          "",
          "",
          "",
          "",
          "",
          "",
          "",
          "",
          "",
          "",
          "",
          "",
          "",
          "",
          "",
          "",
          "",
          "",
          "",
          "",
          "",
          "",
          "",
          "",
          "",
          "",
          "",
          "",
          "",
          "",
          "",
          "",
          "",
          "",
          "",
          "",
          "",
          "",
          "",
          "",
          "",
          "",
          "",
          "",
          "",
          "",
          "",
          "",
          "",
          "",
          "",
          "",
          "",
          "",
          "",
          "",
          "",
          "",
          "",
          "",
          "",
          "",
          "",
          "",
          "",
          "",
          "",
          "",
          "",
          "",
          "",
          "",
          "",
          "",
          "",
          "",
          "",
          "",
          "",
          "",
          "",
          "",
          "",
          "",
          "",
          "",
          "",
          "",
          "",
          "",
          "",
          "",
          "",
          "",
          "",
          "",
          "",
          "",
          "",
          "",
          "",
          "",
          "0_saw_colours_moving"
         ],
         "textfont": {
          "size": 12
         },
         "type": "scattergl",
         "x": [
          7.520901679992676,
          5.22119140625,
          5.319408416748047,
          8.660324096679688,
          7.702126502990723,
          7.609063148498535,
          5.4426798820495605,
          6.392608165740967,
          6.355062484741211,
          7.167438507080078,
          6.188179016113281,
          5.197035312652588,
          7.5782999992370605,
          7.004234313964844,
          7.553264617919922,
          7.046472549438477,
          7.440582752227783,
          7.838057994842529,
          6.733320713043213,
          7.220081806182861,
          5.814844608306885,
          7.814988613128662,
          7.069467067718506,
          8.234644889831543,
          7.4825968742370605,
          7.550116539001465,
          8.4335355758667,
          6.7380876541137695,
          7.700956344604492,
          8.479530334472656,
          7.087308883666992,
          7.438029766082764,
          6.709455966949463,
          5.859009742736816,
          7.7581658363342285,
          7.630250453948975,
          5.570159912109375,
          8.319235801696777,
          7.459820747375488,
          8.653984069824219,
          7.779204845428467,
          7.446198463439941,
          8.401204109191895,
          5.965346813201904,
          6.741395950317383,
          8.746147155761719,
          7.391046047210693,
          5.42971134185791,
          8.640932083129883,
          6.187727451324463,
          8.812982559204102,
          6.447626113891602,
          5.673543930053711,
          5.791855812072754,
          7.4241862297058105,
          7.766220569610596,
          7.682488918304443,
          7.1077446937561035,
          5.646405220031738,
          7.875687599182129,
          7.3168416023254395,
          6.767225742340088,
          7.975542068481445,
          8.732644081115723,
          6.7437567710876465,
          8.080901145935059,
          8.245854377746582,
          6.154952526092529,
          4.581577301025391,
          8.646873474121094,
          6.409123420715332,
          5.459975242614746,
          8.327523231506348,
          7.7773542404174805,
          7.577051639556885,
          8.021082878112793,
          6.675188064575195,
          7.718875885009766,
          8.181814193725586,
          5.846490383148193,
          5.532060146331787,
          7.475108623504639,
          7.597891330718994,
          6.796992778778076,
          5.865459442138672,
          5.300752639770508,
          7.389349937438965,
          7.03567361831665,
          7.825874328613281,
          7.229374408721924,
          8.115909576416016,
          8.11841869354248,
          7.604949951171875,
          8.389322280883789,
          5.290910720825195,
          8.757722854614258,
          8.302349090576172,
          8.442327499389648,
          7.0430169105529785,
          5.385713577270508,
          8.75446605682373,
          6.754332542419434,
          6.8420233726501465,
          6.074402332305908,
          7.752771377563477,
          7.49975061416626,
          5.651891708374023,
          8.13671875,
          7.846051216125488,
          6.43740701675415,
          7.044003486633301,
          5.693931579589844,
          6.4309868812561035,
          4.781651496887207,
          7.685688018798828,
          5.390751838684082,
          8.748607635498047,
          7.276577949523926,
          7.60004997253418,
          8.551924705505371,
          5.497235298156738,
          5.3969244956970215,
          7.830431938171387,
          8.369329452514648,
          8.674765586853027,
          6.723757743835449,
          5.419855117797852,
          7.130380153656006
         ],
         "y": [
          12.14417839050293,
          11.83734130859375,
          12.38991928100586,
          11.25886058807373,
          10.833288192749023,
          12.467035293579102,
          12.592779159545898,
          12.540590286254883,
          12.638535499572754,
          12.832560539245605,
          12.351318359375,
          12.36708927154541,
          12.79769229888916,
          12.389698028564453,
          12.032180786132812,
          10.460468292236328,
          11.264007568359375,
          11.65957260131836,
          12.662860870361328,
          12.885104179382324,
          12.749397277832031,
          12.224644660949707,
          12.099886894226074,
          11.91576099395752,
          11.272822380065918,
          12.008017539978027,
          11.772125244140625,
          11.949942588806152,
          12.394676208496094,
          12.453204154968262,
          12.11094856262207,
          12.067144393920898,
          12.39095687866211,
          12.773273468017578,
          11.823482513427734,
          10.951957702636719,
          11.696149826049805,
          12.295838356018066,
          11.351727485656738,
          12.267706871032715,
          11.69464111328125,
          10.674703598022461,
          11.657172203063965,
          12.476877212524414,
          12.404154777526855,
          11.30306625366211,
          10.612895965576172,
          12.11977481842041,
          11.260212898254395,
          12.752326011657715,
          11.74942684173584,
          12.839311599731445,
          12.664826393127441,
          12.588457107543945,
          11.920433044433594,
          11.659431457519531,
          10.892553329467773,
          11.961747169494629,
          12.467395782470703,
          11.603034019470215,
          10.713788986206055,
          12.066515922546387,
          11.759331703186035,
          11.247562408447266,
          12.051111221313477,
          12.220903396606445,
          11.95909595489502,
          12.704750061035156,
          12.100774765014648,
          12.295319557189941,
          12.360918998718262,
          12.551921844482422,
          12.437053680419922,
          11.22348403930664,
          12.653569221496582,
          11.391534805297852,
          10.31691837310791,
          12.634845733642578,
          11.362075805664062,
          12.711804389953613,
          12.273213386535645,
          10.977961540222168,
          11.086825370788574,
          12.592721939086914,
          11.947877883911133,
          11.782374382019043,
          11.926412582397461,
          12.736006736755371,
          11.870186805725098,
          11.73283576965332,
          11.41028118133545,
          11.908735275268555,
          12.735915184020996,
          11.646153450012207,
          12.381609916687012,
          11.281981468200684,
          11.762104988098145,
          11.451148986816406,
          12.717499732971191,
          12.382880210876465,
          11.702071189880371,
          12.37906551361084,
          12.049249649047852,
          12.600007057189941,
          12.593527793884277,
          10.846168518066406,
          12.61942195892334,
          12.179656028747559,
          12.583186149597168,
          12.879241943359375,
          11.832344055175781,
          12.65111255645752,
          12.208433151245117,
          12.291619300842285,
          12.685379028320312,
          11.798664093017578,
          11.453824996948242,
          11.827630996704102,
          11.680107116699219,
          12.278145790100098,
          12.122641563415527,
          12.248137474060059,
          11.601688385009766,
          11.870552062988281,
          12.043231964111328,
          12.455343246459961,
          12.426541328430176,
          12.012222290039062
         ]
        },
        {
         "hoverinfo": "text",
         "hovertext": [
          "nice snooze thank",
          "peaceful",
          "ajourney relaxedand abit worried iknewi would safe",
          "calm",
          "calm peaceful state blissful even vastness poetic beautiful",
          "x",
          "spoke 8 year old self 80 year old self happy",
          "want one home",
          "sparked much curiosity really understand",
          "insane",
          "sen se comfort connection anin inner peace clam safe",
          "pleasure & intrigue",
          "amazing sense peace positivity",
          "everything",
          "good loads ket still decent",
          "interesting one",
          "interesting relaxed",
          "peaceful euphoric sense wonder awe",
          "relaxing",
          "overall amazing",
          "good stuff",
          "nothing",
          "much",
          "peace contentment",
          "calm",
          "utter peace happiness",
          "bliss",
          "warm",
          "coming home",
          "scope mentally acceptance peace",
          "interesting",
          "part something bigger",
          "want fo",
          "warm cold sensations hands one point relaxed sleepy found flashing lights little intense eye mask worked well times overall enjoyable relaxing",
          "",
          "peacefulness guidance",
          "relaxation calm curiosity",
          "wonderfull peacefull",
          "perfectly cromulent",
          "relaxing reflective worries stopped / put porportion",
          "experienced calmness almost nothingness relaxed peacefull soothing almost womb",
          "peace",
          "relaxed comfortable",
          "calm",
          "intrigued excited",
          "good vibes",
          "",
          "joy relaxation",
          "joy",
          "atei feel really relaxed would j try meditate beforehand still racing thoughts interrupting couldnt totally immersed suffer tinnitus matter always distraction",
          "great sense calm belonging",
          "zeen",
          "feeling peace tranquillity",
          "being: immersed calm thrilled",
          "complete relaxationpeace mind ready face whatever happens",
          null
         ],
         "marker": {
          "opacity": 0.5,
          "size": 5
         },
         "mode": "markers+text",
         "name": "1_peace_calm_relaxed",
         "text": [
          "",
          "",
          "",
          "",
          "",
          "",
          "",
          "",
          "",
          "",
          "",
          "",
          "",
          "",
          "",
          "",
          "",
          "",
          "",
          "",
          "",
          "",
          "",
          "",
          "",
          "",
          "",
          "",
          "",
          "",
          "",
          "",
          "",
          "",
          "",
          "",
          "",
          "",
          "",
          "",
          "",
          "",
          "",
          "",
          "",
          "",
          "",
          "",
          "",
          "",
          "",
          "",
          "",
          "",
          "",
          "1_peace_calm_relaxed"
         ],
         "textfont": {
          "size": 12
         },
         "type": "scattergl",
         "x": [
          3.857877731323242,
          2.739692449569702,
          3.9863851070404053,
          2.791210412979126,
          3.1519739627838135,
          2.8686747550964355,
          3.759765386581421,
          3.869800090789795,
          3.3689663410186768,
          3.1040401458740234,
          3.7757086753845215,
          3.5152761936187744,
          2.8853468894958496,
          2.976871967315674,
          3.8056371212005615,
          3.304161310195923,
          3.933194637298584,
          2.951146364212036,
          4.092142105102539,
          3.7465579509735107,
          3.6611146926879883,
          2.932997941970825,
          2.967055320739746,
          2.65800404548645,
          2.7831714153289795,
          2.8406918048858643,
          3.4918556213378906,
          3.8064513206481934,
          3.910008668899536,
          2.6172966957092285,
          3.3137552738189697,
          2.958878517150879,
          3.3858487606048584,
          4.433287143707275,
          2.9082908630371094,
          2.7108705043792725,
          4.287256240844727,
          2.8716068267822266,
          3.175990104675293,
          4.4866814613342285,
          3.8594954013824463,
          2.720235586166382,
          4.073104381561279,
          2.7609190940856934,
          3.4378228187561035,
          3.6842377185821533,
          2.924983024597168,
          3.652440071105957,
          3.5346646308898926,
          4.541765213012695,
          2.9979238510131836,
          2.8648605346679688,
          2.9381415843963623,
          3.6746654510498047,
          4.42427921295166,
          3.3959109783172607
         ],
         "y": [
          7.906739711761475,
          8.772075653076172,
          8.79024600982666,
          8.591480255126953,
          9.324006080627441,
          8.093634605407715,
          9.078487396240234,
          8.237106323242188,
          8.437294960021973,
          8.279912948608398,
          8.964517593383789,
          8.972253799438477,
          9.00731086730957,
          7.935239791870117,
          7.819417953491211,
          8.192741394042969,
          8.50440502166748,
          9.380711555480957,
          8.612672805786133,
          7.870952606201172,
          7.839418411254883,
          7.937318801879883,
          8.029745101928711,
          8.930583000183105,
          8.60521411895752,
          8.929681777954102,
          8.853795051574707,
          8.56684398651123,
          8.245413780212402,
          8.844183921813965,
          8.183905601501465,
          7.961321830749512,
          8.121114730834961,
          8.709041595458984,
          8.125410079956055,
          8.891398429870605,
          8.785951614379883,
          8.970412254333496,
          9.342742919921875,
          8.713251113891602,
          9.260040283203125,
          8.859124183654785,
          8.60323715209961,
          8.630295753479004,
          8.37471866607666,
          7.8647613525390625,
          8.12360668182373,
          8.95692253112793,
          8.861502647399902,
          8.805364608764648,
          8.895856857299805,
          8.109674453735352,
          9.067276954650879,
          8.943244934082031,
          8.775317192077637,
          8.572525024414062
         ]
        },
        {
         "hoverinfo": "text",
         "hovertext": [
          "physically music especially percussion bass still feeling",
          "heard various music patterns different speeds high low notes music seemed build crescendo near session move slower calming sequence enhanced patterns made feel journey",
          "music gentle powerful",
          "sure puroose except muxic certainly inuced sleep dream state bpm high otherwise interesting co fusing much visions either think lights sy c go music well",
          "good surprise sensation play mind emotions thanks",
          "hearing gongs saw sammi ling's buddhist retreat ans imagined totally relaxing peace music pace volume increased saw horses galloping increasing speed zt point horse pace gathefed train speed ing tgrough countryside time space muic reach climax found returning world countryside gradually getting back normal everyday life sense tge grating sounds towards exceot colour turquoise gradualky turned black nothingness",
          "put quite strange amazing mood want catch still sensitizing feeling one afterglow wonderful seeing deep textures powdery lights arise vision best bit taking feelingss music gliding morphing visions according feel music memory childhood spending lots time staring windows media player audio visualiser listening songs liked seemed amazing time made think synesthetic experiences they're precious worth seeking appreciating - music visual thing",
          "really enjoyed music zen",
          "relaxing patterened music",
          "musicis calming surreal sensory overwhelming powerful scared ar calmed feels sympolism acceptance self fear life isvan unique wont forget",
          "loneliness inner chikd screaming love screeching intensely anxious bit suffocated also knowing i've got embraced inner child allowed sulk scream cry coming mix intense feelings knowing could handle music took whole journey completrly surrounded music space space thick hot air saturated soundwaves inhaling drowning sound learning swim enjoy heal",
          "relaxed peaceful beats music",
          "thouhht really intense went phases rush taking journey colour beautiful calmingor rigid uncomfortable ididnt know look sudden disembodied huge wave eurphoria took totally free itsthe comfort ive ever magical",
          "confusion difficult make note seeing i've never experienced also happy smiledat certain points quite weird",
          "many psychecik lic experiences many years tame interezted potential taki g co mbining substzncex",
          "unease",
          "awesome expected sometimes verging oppressive never scary well lead",
          "journey unknown beautiful quest oblivion",
          "initially interested others reacting around began relax changing colours made feel safe happy music conjured images buddists spiritual people",
          "visual expirence would change lot music became relaxed music progressed journey",
          "feeling freedom time space watched room rise fall music weight people room connected",
          "starting fee lfar significant/interesting emotions stopped",
          "awesome much expected diolch yn fawr tess calming",
          "relaxed sleep music colour chqnged",
          "aware music tgroughout changing rythms tones",
          "music",
          "good beats leading helpful positive ambient sounds",
          "stimulation relaxation within music light",
          "emptiness mind consumed power music filled mind",
          "pareidolia unnerving sometimes amazing though",
          "memories meditationswimming weightlessnessspace",
          "really pleasant relaxing sensation erotic make think sex sense struck enjoyable could sexual (alone others) conjunction sensation also wanted intenlse - much louder music intense part lighting pattern repeated longer",
          "sharp music connected sound helicopters smell burning associated war majority experienced heart shapes cosmic lights galaxies",
          "windows busy life flashes past seeing lovely mum partner dad sister niece nephew friends punctuated audio heightened loud point i'd left body - fully immersed sound light",
          "saw stars hexagons tesselating twisting zooming left right reds blues greens galactic bacground wanted engage annoyed started ands topped brain developing themes louder music better would liked slight difusion light something keep eyes shut intensity demanding open eyes concious mind thinking stopping thinking funny couldnt help thinking would happen drum beat maybe allow non euro music much love john hopkins",
          null
         ],
         "marker": {
          "opacity": 0.5,
          "size": 5
         },
         "mode": "markers+text",
         "name": "2_music_journey_much",
         "text": [
          "",
          "",
          "",
          "",
          "",
          "",
          "",
          "",
          "",
          "",
          "",
          "",
          "",
          "",
          "",
          "",
          "",
          "",
          "",
          "",
          "",
          "",
          "",
          "",
          "",
          "",
          "",
          "",
          "",
          "",
          "",
          "",
          "",
          "",
          "",
          "2_music_journey_much"
         ],
         "textfont": {
          "size": 12
         },
         "type": "scattergl",
         "x": [
          3.4279398918151855,
          3.920501708984375,
          3.4125003814697266,
          3.6880359649658203,
          3.96773624420166,
          4.147441387176514,
          3.942481756210327,
          3.5161049365997314,
          3.423556327819824,
          4.005513668060303,
          3.9028680324554443,
          3.388016939163208,
          4.130688667297363,
          3.7871270179748535,
          3.9632632732391357,
          4.257800579071045,
          3.918168544769287,
          3.7228469848632812,
          4.110803127288818,
          3.858154058456421,
          3.8988845348358154,
          4.110963344573975,
          4.082708835601807,
          3.530679225921631,
          3.7280964851379395,
          3.354127883911133,
          3.4683518409729004,
          3.5582642555236816,
          3.6840994358062744,
          3.9918456077575684,
          3.9731271266937256,
          3.8887689113616943,
          4.318696022033691,
          4.3990888595581055,
          4.0952959060668945,
          3.844987154006958
         ],
         "y": [
          11.581902503967285,
          11.11121940612793,
          11.547346115112305,
          11.13280963897705,
          9.987669944763184,
          10.99953842163086,
          10.91777515411377,
          11.249853134155273,
          11.48261547088623,
          10.384110450744629,
          10.829936027526855,
          11.587175369262695,
          10.558547973632812,
          9.78596305847168,
          10.835501670837402,
          10.102090835571289,
          10.105825424194336,
          10.47409439086914,
          10.925409317016602,
          11.12706470489502,
          11.038406372070312,
          10.208680152893066,
          10.352887153625488,
          11.475132942199707,
          11.389752388000488,
          11.395222663879395,
          11.567813873291016,
          11.471948623657227,
          11.209793090820312,
          10.165757179260254,
          10.944015502929688,
          11.005796432495117,
          11.385030746459961,
          11.505077362060547,
          11.231148719787598,
          10.944940567016602
         ]
        },
        {
         "hoverinfo": "text",
         "hovertext": [
          "constant thoughts coming towards batted away sky",
          "kept thinking game football played tuesdayand hyper aware eyes something something might pull awzy",
          "really thoughts day things need forgotten",
          "someone sleep paralysis regularly quite interesting brain automatically reached details prove \"real\" much present meditate either even though tried visuals pretty fun though",
          "thoughts safe fun gives odd feeling wanting keep feeling types thing",
          "something familiar soul experienced several emotions numb",
          "helicopter busy mind rest relentless stuck",
          "tried hard immerse dreamstate failed see anything except flickering lights think ought see changes",
          "detachment though body one box mind another anxjety came thst lack control",
          "dreaming dreamingly",
          "different thoughts perception light manner human descernment develops towards something",
          "put dreamlike semiconcious state sensation quite asleep coming wakefulness dreaming real things conversations",
          "people talking made see people walking towards really creepy",
          "thought feeling people around made feel vulnrable",
          "brain massaged sometimes overwhelming think became overwhelming brain would cut normal thoughts eg need buy tge shop dinner sometimes would see clips eg film interdespersed everyniw",
          "86 billion neurons wonder psychedelic experiences complexity brain produce limitless spectrum depression enlightenment thought anyway dream",
          "also experienced ghost people purifferal verison sometimes fleeting walkjng around room whispy milky apperence also dyslexic itwasinteresting experence nuero divergent brained person",
          "found lost thought near stopped aware visual thought stuff similar stuff normally think wonder work tall chair",
          "saw grey pulsing heart float across mind",
          "peace tranquility joy stimulation arousal swirling patterns geometricshapes shifting changing got lost body disappeared cam eback short dreams",
          "brief - thinking death could look decided assume go near ddath check thoughts could build smth thzn visual thing cannot say totally useless expecting",
          "wanting thoughts overtake",
          "mind began wander reflect dreams goals relaxed way whereas usually anxious",
          "thoughts connecting others",
          "thought god",
          "struggling mind would go back stringof thoughts andtoget take avery deep breath went past blank set thoughts occured thrice andiinhaled really deep get past",
          "intense chaos mind checked subconscious took started talking imagine looking back life die",
          "sleepy bit anxious times due speed flashing lights profound thoughts rather almost fell asleep dreamlike way",
          "random thoughts connected people close others events journeys",
          null
         ],
         "marker": {
          "opacity": 0.5,
          "size": 5
         },
         "mode": "markers+text",
         "name": "3_thoughts_mind_people",
         "text": [
          "",
          "",
          "",
          "",
          "",
          "",
          "",
          "",
          "",
          "",
          "",
          "",
          "",
          "",
          "",
          "",
          "",
          "",
          "",
          "",
          "",
          "",
          "",
          "",
          "",
          "",
          "",
          "",
          "",
          "3_thoughts_mind_people"
         ],
         "textfont": {
          "size": 12
         },
         "type": "scattergl",
         "x": [
          5.633809566497803,
          5.659830570220947,
          5.459911346435547,
          5.408722400665283,
          4.931528568267822,
          4.4585862159729,
          5.951423168182373,
          5.861494064331055,
          5.180263996124268,
          5.810863971710205,
          5.306017875671387,
          5.678979873657227,
          5.116077899932861,
          5.048619747161865,
          5.185764789581299,
          5.487001895904541,
          5.007989406585693,
          5.44402551651001,
          4.775267601013184,
          5.69823694229126,
          5.158387184143066,
          5.38372278213501,
          5.565138816833496,
          5.390533447265625,
          5.345558166503906,
          5.215587139129639,
          5.350460052490234,
          5.6272969245910645,
          5.387484073638916,
          5.363055229187012
         ],
         "y": [
          9.736574172973633,
          9.753637313842773,
          9.918349266052246,
          9.27731704711914,
          9.947681427001953,
          10.135663032531738,
          9.666966438293457,
          9.124260902404785,
          9.863752365112305,
          9.003215789794922,
          10.131491661071777,
          9.01866626739502,
          10.012691497802734,
          9.991925239562988,
          9.989460945129395,
          9.355316162109375,
          9.902894020080566,
          10.156425476074219,
          10.190463066101074,
          9.198659896850586,
          9.459754943847656,
          9.845747947692871,
          9.373866081237793,
          9.89116382598877,
          9.798107147216797,
          9.776346206665039,
          9.40219783782959,
          9.329227447509766,
          9.865514755249023,
          9.69370174407959
         ]
        }
       ],
       "layout": {
        "annotations": [
         {
          "showarrow": false,
          "text": "D1",
          "x": 2.113251233100891,
          "y": 10.716859257221222,
          "yshift": 10
         },
         {
          "showarrow": false,
          "text": "D2",
          "x": 6.1240905880928045,
          "xshift": 10,
          "y": 14.817869806289673
         }
        ],
        "height": 750,
        "shapes": [
         {
          "line": {
           "color": "#CFD8DC",
           "width": 2
          },
          "type": "line",
          "x0": 6.1240905880928045,
          "x1": 6.1240905880928045,
          "y0": 6.615848708152771,
          "y1": 14.817869806289673
         },
         {
          "line": {
           "color": "#9E9E9E",
           "width": 2
          },
          "type": "line",
          "x0": 2.113251233100891,
          "x1": 10.134929943084718,
          "y0": 10.716859257221222,
          "y1": 10.716859257221222
         }
        ],
        "template": {
         "data": {
          "bar": [
           {
            "error_x": {
             "color": "rgb(36,36,36)"
            },
            "error_y": {
             "color": "rgb(36,36,36)"
            },
            "marker": {
             "line": {
              "color": "white",
              "width": 0.5
             },
             "pattern": {
              "fillmode": "overlay",
              "size": 10,
              "solidity": 0.2
             }
            },
            "type": "bar"
           }
          ],
          "barpolar": [
           {
            "marker": {
             "line": {
              "color": "white",
              "width": 0.5
             },
             "pattern": {
              "fillmode": "overlay",
              "size": 10,
              "solidity": 0.2
             }
            },
            "type": "barpolar"
           }
          ],
          "carpet": [
           {
            "aaxis": {
             "endlinecolor": "rgb(36,36,36)",
             "gridcolor": "white",
             "linecolor": "white",
             "minorgridcolor": "white",
             "startlinecolor": "rgb(36,36,36)"
            },
            "baxis": {
             "endlinecolor": "rgb(36,36,36)",
             "gridcolor": "white",
             "linecolor": "white",
             "minorgridcolor": "white",
             "startlinecolor": "rgb(36,36,36)"
            },
            "type": "carpet"
           }
          ],
          "choropleth": [
           {
            "colorbar": {
             "outlinewidth": 1,
             "tickcolor": "rgb(36,36,36)",
             "ticks": "outside"
            },
            "type": "choropleth"
           }
          ],
          "contour": [
           {
            "colorbar": {
             "outlinewidth": 1,
             "tickcolor": "rgb(36,36,36)",
             "ticks": "outside"
            },
            "colorscale": [
             [
              0,
              "#440154"
             ],
             [
              0.1111111111111111,
              "#482878"
             ],
             [
              0.2222222222222222,
              "#3e4989"
             ],
             [
              0.3333333333333333,
              "#31688e"
             ],
             [
              0.4444444444444444,
              "#26828e"
             ],
             [
              0.5555555555555556,
              "#1f9e89"
             ],
             [
              0.6666666666666666,
              "#35b779"
             ],
             [
              0.7777777777777778,
              "#6ece58"
             ],
             [
              0.8888888888888888,
              "#b5de2b"
             ],
             [
              1,
              "#fde725"
             ]
            ],
            "type": "contour"
           }
          ],
          "contourcarpet": [
           {
            "colorbar": {
             "outlinewidth": 1,
             "tickcolor": "rgb(36,36,36)",
             "ticks": "outside"
            },
            "type": "contourcarpet"
           }
          ],
          "heatmap": [
           {
            "colorbar": {
             "outlinewidth": 1,
             "tickcolor": "rgb(36,36,36)",
             "ticks": "outside"
            },
            "colorscale": [
             [
              0,
              "#440154"
             ],
             [
              0.1111111111111111,
              "#482878"
             ],
             [
              0.2222222222222222,
              "#3e4989"
             ],
             [
              0.3333333333333333,
              "#31688e"
             ],
             [
              0.4444444444444444,
              "#26828e"
             ],
             [
              0.5555555555555556,
              "#1f9e89"
             ],
             [
              0.6666666666666666,
              "#35b779"
             ],
             [
              0.7777777777777778,
              "#6ece58"
             ],
             [
              0.8888888888888888,
              "#b5de2b"
             ],
             [
              1,
              "#fde725"
             ]
            ],
            "type": "heatmap"
           }
          ],
          "heatmapgl": [
           {
            "colorbar": {
             "outlinewidth": 1,
             "tickcolor": "rgb(36,36,36)",
             "ticks": "outside"
            },
            "colorscale": [
             [
              0,
              "#440154"
             ],
             [
              0.1111111111111111,
              "#482878"
             ],
             [
              0.2222222222222222,
              "#3e4989"
             ],
             [
              0.3333333333333333,
              "#31688e"
             ],
             [
              0.4444444444444444,
              "#26828e"
             ],
             [
              0.5555555555555556,
              "#1f9e89"
             ],
             [
              0.6666666666666666,
              "#35b779"
             ],
             [
              0.7777777777777778,
              "#6ece58"
             ],
             [
              0.8888888888888888,
              "#b5de2b"
             ],
             [
              1,
              "#fde725"
             ]
            ],
            "type": "heatmapgl"
           }
          ],
          "histogram": [
           {
            "marker": {
             "line": {
              "color": "white",
              "width": 0.6
             }
            },
            "type": "histogram"
           }
          ],
          "histogram2d": [
           {
            "colorbar": {
             "outlinewidth": 1,
             "tickcolor": "rgb(36,36,36)",
             "ticks": "outside"
            },
            "colorscale": [
             [
              0,
              "#440154"
             ],
             [
              0.1111111111111111,
              "#482878"
             ],
             [
              0.2222222222222222,
              "#3e4989"
             ],
             [
              0.3333333333333333,
              "#31688e"
             ],
             [
              0.4444444444444444,
              "#26828e"
             ],
             [
              0.5555555555555556,
              "#1f9e89"
             ],
             [
              0.6666666666666666,
              "#35b779"
             ],
             [
              0.7777777777777778,
              "#6ece58"
             ],
             [
              0.8888888888888888,
              "#b5de2b"
             ],
             [
              1,
              "#fde725"
             ]
            ],
            "type": "histogram2d"
           }
          ],
          "histogram2dcontour": [
           {
            "colorbar": {
             "outlinewidth": 1,
             "tickcolor": "rgb(36,36,36)",
             "ticks": "outside"
            },
            "colorscale": [
             [
              0,
              "#440154"
             ],
             [
              0.1111111111111111,
              "#482878"
             ],
             [
              0.2222222222222222,
              "#3e4989"
             ],
             [
              0.3333333333333333,
              "#31688e"
             ],
             [
              0.4444444444444444,
              "#26828e"
             ],
             [
              0.5555555555555556,
              "#1f9e89"
             ],
             [
              0.6666666666666666,
              "#35b779"
             ],
             [
              0.7777777777777778,
              "#6ece58"
             ],
             [
              0.8888888888888888,
              "#b5de2b"
             ],
             [
              1,
              "#fde725"
             ]
            ],
            "type": "histogram2dcontour"
           }
          ],
          "mesh3d": [
           {
            "colorbar": {
             "outlinewidth": 1,
             "tickcolor": "rgb(36,36,36)",
             "ticks": "outside"
            },
            "type": "mesh3d"
           }
          ],
          "parcoords": [
           {
            "line": {
             "colorbar": {
              "outlinewidth": 1,
              "tickcolor": "rgb(36,36,36)",
              "ticks": "outside"
             }
            },
            "type": "parcoords"
           }
          ],
          "pie": [
           {
            "automargin": true,
            "type": "pie"
           }
          ],
          "scatter": [
           {
            "fillpattern": {
             "fillmode": "overlay",
             "size": 10,
             "solidity": 0.2
            },
            "type": "scatter"
           }
          ],
          "scatter3d": [
           {
            "line": {
             "colorbar": {
              "outlinewidth": 1,
              "tickcolor": "rgb(36,36,36)",
              "ticks": "outside"
             }
            },
            "marker": {
             "colorbar": {
              "outlinewidth": 1,
              "tickcolor": "rgb(36,36,36)",
              "ticks": "outside"
             }
            },
            "type": "scatter3d"
           }
          ],
          "scattercarpet": [
           {
            "marker": {
             "colorbar": {
              "outlinewidth": 1,
              "tickcolor": "rgb(36,36,36)",
              "ticks": "outside"
             }
            },
            "type": "scattercarpet"
           }
          ],
          "scattergeo": [
           {
            "marker": {
             "colorbar": {
              "outlinewidth": 1,
              "tickcolor": "rgb(36,36,36)",
              "ticks": "outside"
             }
            },
            "type": "scattergeo"
           }
          ],
          "scattergl": [
           {
            "marker": {
             "colorbar": {
              "outlinewidth": 1,
              "tickcolor": "rgb(36,36,36)",
              "ticks": "outside"
             }
            },
            "type": "scattergl"
           }
          ],
          "scattermapbox": [
           {
            "marker": {
             "colorbar": {
              "outlinewidth": 1,
              "tickcolor": "rgb(36,36,36)",
              "ticks": "outside"
             }
            },
            "type": "scattermapbox"
           }
          ],
          "scatterpolar": [
           {
            "marker": {
             "colorbar": {
              "outlinewidth": 1,
              "tickcolor": "rgb(36,36,36)",
              "ticks": "outside"
             }
            },
            "type": "scatterpolar"
           }
          ],
          "scatterpolargl": [
           {
            "marker": {
             "colorbar": {
              "outlinewidth": 1,
              "tickcolor": "rgb(36,36,36)",
              "ticks": "outside"
             }
            },
            "type": "scatterpolargl"
           }
          ],
          "scatterternary": [
           {
            "marker": {
             "colorbar": {
              "outlinewidth": 1,
              "tickcolor": "rgb(36,36,36)",
              "ticks": "outside"
             }
            },
            "type": "scatterternary"
           }
          ],
          "surface": [
           {
            "colorbar": {
             "outlinewidth": 1,
             "tickcolor": "rgb(36,36,36)",
             "ticks": "outside"
            },
            "colorscale": [
             [
              0,
              "#440154"
             ],
             [
              0.1111111111111111,
              "#482878"
             ],
             [
              0.2222222222222222,
              "#3e4989"
             ],
             [
              0.3333333333333333,
              "#31688e"
             ],
             [
              0.4444444444444444,
              "#26828e"
             ],
             [
              0.5555555555555556,
              "#1f9e89"
             ],
             [
              0.6666666666666666,
              "#35b779"
             ],
             [
              0.7777777777777778,
              "#6ece58"
             ],
             [
              0.8888888888888888,
              "#b5de2b"
             ],
             [
              1,
              "#fde725"
             ]
            ],
            "type": "surface"
           }
          ],
          "table": [
           {
            "cells": {
             "fill": {
              "color": "rgb(237,237,237)"
             },
             "line": {
              "color": "white"
             }
            },
            "header": {
             "fill": {
              "color": "rgb(217,217,217)"
             },
             "line": {
              "color": "white"
             }
            },
            "type": "table"
           }
          ]
         },
         "layout": {
          "annotationdefaults": {
           "arrowhead": 0,
           "arrowwidth": 1
          },
          "autotypenumbers": "strict",
          "coloraxis": {
           "colorbar": {
            "outlinewidth": 1,
            "tickcolor": "rgb(36,36,36)",
            "ticks": "outside"
           }
          },
          "colorscale": {
           "diverging": [
            [
             0,
             "rgb(103,0,31)"
            ],
            [
             0.1,
             "rgb(178,24,43)"
            ],
            [
             0.2,
             "rgb(214,96,77)"
            ],
            [
             0.3,
             "rgb(244,165,130)"
            ],
            [
             0.4,
             "rgb(253,219,199)"
            ],
            [
             0.5,
             "rgb(247,247,247)"
            ],
            [
             0.6,
             "rgb(209,229,240)"
            ],
            [
             0.7,
             "rgb(146,197,222)"
            ],
            [
             0.8,
             "rgb(67,147,195)"
            ],
            [
             0.9,
             "rgb(33,102,172)"
            ],
            [
             1,
             "rgb(5,48,97)"
            ]
           ],
           "sequential": [
            [
             0,
             "#440154"
            ],
            [
             0.1111111111111111,
             "#482878"
            ],
            [
             0.2222222222222222,
             "#3e4989"
            ],
            [
             0.3333333333333333,
             "#31688e"
            ],
            [
             0.4444444444444444,
             "#26828e"
            ],
            [
             0.5555555555555556,
             "#1f9e89"
            ],
            [
             0.6666666666666666,
             "#35b779"
            ],
            [
             0.7777777777777778,
             "#6ece58"
            ],
            [
             0.8888888888888888,
             "#b5de2b"
            ],
            [
             1,
             "#fde725"
            ]
           ],
           "sequentialminus": [
            [
             0,
             "#440154"
            ],
            [
             0.1111111111111111,
             "#482878"
            ],
            [
             0.2222222222222222,
             "#3e4989"
            ],
            [
             0.3333333333333333,
             "#31688e"
            ],
            [
             0.4444444444444444,
             "#26828e"
            ],
            [
             0.5555555555555556,
             "#1f9e89"
            ],
            [
             0.6666666666666666,
             "#35b779"
            ],
            [
             0.7777777777777778,
             "#6ece58"
            ],
            [
             0.8888888888888888,
             "#b5de2b"
            ],
            [
             1,
             "#fde725"
            ]
           ]
          },
          "colorway": [
           "#1F77B4",
           "#FF7F0E",
           "#2CA02C",
           "#D62728",
           "#9467BD",
           "#8C564B",
           "#E377C2",
           "#7F7F7F",
           "#BCBD22",
           "#17BECF"
          ],
          "font": {
           "color": "rgb(36,36,36)"
          },
          "geo": {
           "bgcolor": "white",
           "lakecolor": "white",
           "landcolor": "white",
           "showlakes": true,
           "showland": true,
           "subunitcolor": "white"
          },
          "hoverlabel": {
           "align": "left"
          },
          "hovermode": "closest",
          "mapbox": {
           "style": "light"
          },
          "paper_bgcolor": "white",
          "plot_bgcolor": "white",
          "polar": {
           "angularaxis": {
            "gridcolor": "rgb(232,232,232)",
            "linecolor": "rgb(36,36,36)",
            "showgrid": false,
            "showline": true,
            "ticks": "outside"
           },
           "bgcolor": "white",
           "radialaxis": {
            "gridcolor": "rgb(232,232,232)",
            "linecolor": "rgb(36,36,36)",
            "showgrid": false,
            "showline": true,
            "ticks": "outside"
           }
          },
          "scene": {
           "xaxis": {
            "backgroundcolor": "white",
            "gridcolor": "rgb(232,232,232)",
            "gridwidth": 2,
            "linecolor": "rgb(36,36,36)",
            "showbackground": true,
            "showgrid": false,
            "showline": true,
            "ticks": "outside",
            "zeroline": false,
            "zerolinecolor": "rgb(36,36,36)"
           },
           "yaxis": {
            "backgroundcolor": "white",
            "gridcolor": "rgb(232,232,232)",
            "gridwidth": 2,
            "linecolor": "rgb(36,36,36)",
            "showbackground": true,
            "showgrid": false,
            "showline": true,
            "ticks": "outside",
            "zeroline": false,
            "zerolinecolor": "rgb(36,36,36)"
           },
           "zaxis": {
            "backgroundcolor": "white",
            "gridcolor": "rgb(232,232,232)",
            "gridwidth": 2,
            "linecolor": "rgb(36,36,36)",
            "showbackground": true,
            "showgrid": false,
            "showline": true,
            "ticks": "outside",
            "zeroline": false,
            "zerolinecolor": "rgb(36,36,36)"
           }
          },
          "shapedefaults": {
           "fillcolor": "black",
           "line": {
            "width": 0
           },
           "opacity": 0.3
          },
          "ternary": {
           "aaxis": {
            "gridcolor": "rgb(232,232,232)",
            "linecolor": "rgb(36,36,36)",
            "showgrid": false,
            "showline": true,
            "ticks": "outside"
           },
           "baxis": {
            "gridcolor": "rgb(232,232,232)",
            "linecolor": "rgb(36,36,36)",
            "showgrid": false,
            "showline": true,
            "ticks": "outside"
           },
           "bgcolor": "white",
           "caxis": {
            "gridcolor": "rgb(232,232,232)",
            "linecolor": "rgb(36,36,36)",
            "showgrid": false,
            "showline": true,
            "ticks": "outside"
           }
          },
          "title": {
           "x": 0.05
          },
          "xaxis": {
           "automargin": true,
           "gridcolor": "rgb(232,232,232)",
           "linecolor": "rgb(36,36,36)",
           "showgrid": false,
           "showline": true,
           "ticks": "outside",
           "title": {
            "standoff": 15
           },
           "zeroline": false,
           "zerolinecolor": "rgb(36,36,36)"
          },
          "yaxis": {
           "automargin": true,
           "gridcolor": "rgb(232,232,232)",
           "linecolor": "rgb(36,36,36)",
           "showgrid": false,
           "showline": true,
           "ticks": "outside",
           "title": {
            "standoff": 15
           },
           "zeroline": false,
           "zerolinecolor": "rgb(36,36,36)"
          }
         }
        },
        "title": {
         "font": {
          "color": "Black",
          "size": 22
         },
         "text": "<b>Documents and Topics</b>",
         "x": 0.5,
         "xanchor": "center",
         "yanchor": "top"
        },
        "width": 1200,
        "xaxis": {
         "visible": false
        },
        "yaxis": {
         "visible": false
        }
       }
      }
     },
     "metadata": {},
     "output_type": "display_data"
    }
   ],
   "source": [
    "model.visualize_documents(reports['text_processed'])"
   ]
  },
  {
   "cell_type": "code",
   "execution_count": 11,
   "metadata": {},
   "outputs": [
    {
     "data": {
      "application/vnd.plotly.v1+json": {
       "config": {
        "plotlyServerURL": "https://plot.ly"
       },
       "data": [
        {
         "coloraxis": "coloraxis",
         "hovertemplate": "x: %{x}<br>y: %{y}<br>Similarity Score: %{z}<extra></extra>",
         "name": "0",
         "type": "heatmap",
         "x": [
          "0_saw_colours_moving",
          "1_peace_calm_relaxed",
          "2_music_journey_much",
          "3_thoughts_mind_people"
         ],
         "xaxis": "x",
         "y": [
          "0_saw_colours_moving",
          "1_peace_calm_relaxed",
          "2_music_journey_much",
          "3_thoughts_mind_people"
         ],
         "yaxis": "y",
         "z": [
          [
           0.9999998807907104,
           0.4068121314048767,
           0.5490571856498718,
           0.5808380842208862
          ],
          [
           0.4068121314048767,
           1.0000001192092896,
           0.6257761716842651,
           0.5508521795272827
          ],
          [
           0.5490571856498718,
           0.6257761716842651,
           0.9999998807907104,
           0.6687047481536865
          ],
          [
           0.5808380842208862,
           0.5508521795272827,
           0.6687047481536865,
           1.0000003576278687
          ]
         ]
        }
       ],
       "layout": {
        "coloraxis": {
         "colorbar": {
          "title": {
           "text": "Similarity Score"
          }
         },
         "colorscale": [
          [
           0,
           "rgb(247,252,240)"
          ],
          [
           0.125,
           "rgb(224,243,219)"
          ],
          [
           0.25,
           "rgb(204,235,197)"
          ],
          [
           0.375,
           "rgb(168,221,181)"
          ],
          [
           0.5,
           "rgb(123,204,196)"
          ],
          [
           0.625,
           "rgb(78,179,211)"
          ],
          [
           0.75,
           "rgb(43,140,190)"
          ],
          [
           0.875,
           "rgb(8,104,172)"
          ],
          [
           1,
           "rgb(8,64,129)"
          ]
         ]
        },
        "height": 800,
        "hoverlabel": {
         "bgcolor": "white",
         "font": {
          "family": "Rockwell",
          "size": 16
         }
        },
        "legend": {
         "title": {
          "text": "Trend"
         }
        },
        "margin": {
         "t": 60
        },
        "showlegend": true,
        "template": {
         "data": {
          "bar": [
           {
            "error_x": {
             "color": "#2a3f5f"
            },
            "error_y": {
             "color": "#2a3f5f"
            },
            "marker": {
             "line": {
              "color": "#E5ECF6",
              "width": 0.5
             },
             "pattern": {
              "fillmode": "overlay",
              "size": 10,
              "solidity": 0.2
             }
            },
            "type": "bar"
           }
          ],
          "barpolar": [
           {
            "marker": {
             "line": {
              "color": "#E5ECF6",
              "width": 0.5
             },
             "pattern": {
              "fillmode": "overlay",
              "size": 10,
              "solidity": 0.2
             }
            },
            "type": "barpolar"
           }
          ],
          "carpet": [
           {
            "aaxis": {
             "endlinecolor": "#2a3f5f",
             "gridcolor": "white",
             "linecolor": "white",
             "minorgridcolor": "white",
             "startlinecolor": "#2a3f5f"
            },
            "baxis": {
             "endlinecolor": "#2a3f5f",
             "gridcolor": "white",
             "linecolor": "white",
             "minorgridcolor": "white",
             "startlinecolor": "#2a3f5f"
            },
            "type": "carpet"
           }
          ],
          "choropleth": [
           {
            "colorbar": {
             "outlinewidth": 0,
             "ticks": ""
            },
            "type": "choropleth"
           }
          ],
          "contour": [
           {
            "colorbar": {
             "outlinewidth": 0,
             "ticks": ""
            },
            "colorscale": [
             [
              0,
              "#0d0887"
             ],
             [
              0.1111111111111111,
              "#46039f"
             ],
             [
              0.2222222222222222,
              "#7201a8"
             ],
             [
              0.3333333333333333,
              "#9c179e"
             ],
             [
              0.4444444444444444,
              "#bd3786"
             ],
             [
              0.5555555555555556,
              "#d8576b"
             ],
             [
              0.6666666666666666,
              "#ed7953"
             ],
             [
              0.7777777777777778,
              "#fb9f3a"
             ],
             [
              0.8888888888888888,
              "#fdca26"
             ],
             [
              1,
              "#f0f921"
             ]
            ],
            "type": "contour"
           }
          ],
          "contourcarpet": [
           {
            "colorbar": {
             "outlinewidth": 0,
             "ticks": ""
            },
            "type": "contourcarpet"
           }
          ],
          "heatmap": [
           {
            "colorbar": {
             "outlinewidth": 0,
             "ticks": ""
            },
            "colorscale": [
             [
              0,
              "#0d0887"
             ],
             [
              0.1111111111111111,
              "#46039f"
             ],
             [
              0.2222222222222222,
              "#7201a8"
             ],
             [
              0.3333333333333333,
              "#9c179e"
             ],
             [
              0.4444444444444444,
              "#bd3786"
             ],
             [
              0.5555555555555556,
              "#d8576b"
             ],
             [
              0.6666666666666666,
              "#ed7953"
             ],
             [
              0.7777777777777778,
              "#fb9f3a"
             ],
             [
              0.8888888888888888,
              "#fdca26"
             ],
             [
              1,
              "#f0f921"
             ]
            ],
            "type": "heatmap"
           }
          ],
          "heatmapgl": [
           {
            "colorbar": {
             "outlinewidth": 0,
             "ticks": ""
            },
            "colorscale": [
             [
              0,
              "#0d0887"
             ],
             [
              0.1111111111111111,
              "#46039f"
             ],
             [
              0.2222222222222222,
              "#7201a8"
             ],
             [
              0.3333333333333333,
              "#9c179e"
             ],
             [
              0.4444444444444444,
              "#bd3786"
             ],
             [
              0.5555555555555556,
              "#d8576b"
             ],
             [
              0.6666666666666666,
              "#ed7953"
             ],
             [
              0.7777777777777778,
              "#fb9f3a"
             ],
             [
              0.8888888888888888,
              "#fdca26"
             ],
             [
              1,
              "#f0f921"
             ]
            ],
            "type": "heatmapgl"
           }
          ],
          "histogram": [
           {
            "marker": {
             "pattern": {
              "fillmode": "overlay",
              "size": 10,
              "solidity": 0.2
             }
            },
            "type": "histogram"
           }
          ],
          "histogram2d": [
           {
            "colorbar": {
             "outlinewidth": 0,
             "ticks": ""
            },
            "colorscale": [
             [
              0,
              "#0d0887"
             ],
             [
              0.1111111111111111,
              "#46039f"
             ],
             [
              0.2222222222222222,
              "#7201a8"
             ],
             [
              0.3333333333333333,
              "#9c179e"
             ],
             [
              0.4444444444444444,
              "#bd3786"
             ],
             [
              0.5555555555555556,
              "#d8576b"
             ],
             [
              0.6666666666666666,
              "#ed7953"
             ],
             [
              0.7777777777777778,
              "#fb9f3a"
             ],
             [
              0.8888888888888888,
              "#fdca26"
             ],
             [
              1,
              "#f0f921"
             ]
            ],
            "type": "histogram2d"
           }
          ],
          "histogram2dcontour": [
           {
            "colorbar": {
             "outlinewidth": 0,
             "ticks": ""
            },
            "colorscale": [
             [
              0,
              "#0d0887"
             ],
             [
              0.1111111111111111,
              "#46039f"
             ],
             [
              0.2222222222222222,
              "#7201a8"
             ],
             [
              0.3333333333333333,
              "#9c179e"
             ],
             [
              0.4444444444444444,
              "#bd3786"
             ],
             [
              0.5555555555555556,
              "#d8576b"
             ],
             [
              0.6666666666666666,
              "#ed7953"
             ],
             [
              0.7777777777777778,
              "#fb9f3a"
             ],
             [
              0.8888888888888888,
              "#fdca26"
             ],
             [
              1,
              "#f0f921"
             ]
            ],
            "type": "histogram2dcontour"
           }
          ],
          "mesh3d": [
           {
            "colorbar": {
             "outlinewidth": 0,
             "ticks": ""
            },
            "type": "mesh3d"
           }
          ],
          "parcoords": [
           {
            "line": {
             "colorbar": {
              "outlinewidth": 0,
              "ticks": ""
             }
            },
            "type": "parcoords"
           }
          ],
          "pie": [
           {
            "automargin": true,
            "type": "pie"
           }
          ],
          "scatter": [
           {
            "fillpattern": {
             "fillmode": "overlay",
             "size": 10,
             "solidity": 0.2
            },
            "type": "scatter"
           }
          ],
          "scatter3d": [
           {
            "line": {
             "colorbar": {
              "outlinewidth": 0,
              "ticks": ""
             }
            },
            "marker": {
             "colorbar": {
              "outlinewidth": 0,
              "ticks": ""
             }
            },
            "type": "scatter3d"
           }
          ],
          "scattercarpet": [
           {
            "marker": {
             "colorbar": {
              "outlinewidth": 0,
              "ticks": ""
             }
            },
            "type": "scattercarpet"
           }
          ],
          "scattergeo": [
           {
            "marker": {
             "colorbar": {
              "outlinewidth": 0,
              "ticks": ""
             }
            },
            "type": "scattergeo"
           }
          ],
          "scattergl": [
           {
            "marker": {
             "colorbar": {
              "outlinewidth": 0,
              "ticks": ""
             }
            },
            "type": "scattergl"
           }
          ],
          "scattermapbox": [
           {
            "marker": {
             "colorbar": {
              "outlinewidth": 0,
              "ticks": ""
             }
            },
            "type": "scattermapbox"
           }
          ],
          "scatterpolar": [
           {
            "marker": {
             "colorbar": {
              "outlinewidth": 0,
              "ticks": ""
             }
            },
            "type": "scatterpolar"
           }
          ],
          "scatterpolargl": [
           {
            "marker": {
             "colorbar": {
              "outlinewidth": 0,
              "ticks": ""
             }
            },
            "type": "scatterpolargl"
           }
          ],
          "scatterternary": [
           {
            "marker": {
             "colorbar": {
              "outlinewidth": 0,
              "ticks": ""
             }
            },
            "type": "scatterternary"
           }
          ],
          "surface": [
           {
            "colorbar": {
             "outlinewidth": 0,
             "ticks": ""
            },
            "colorscale": [
             [
              0,
              "#0d0887"
             ],
             [
              0.1111111111111111,
              "#46039f"
             ],
             [
              0.2222222222222222,
              "#7201a8"
             ],
             [
              0.3333333333333333,
              "#9c179e"
             ],
             [
              0.4444444444444444,
              "#bd3786"
             ],
             [
              0.5555555555555556,
              "#d8576b"
             ],
             [
              0.6666666666666666,
              "#ed7953"
             ],
             [
              0.7777777777777778,
              "#fb9f3a"
             ],
             [
              0.8888888888888888,
              "#fdca26"
             ],
             [
              1,
              "#f0f921"
             ]
            ],
            "type": "surface"
           }
          ],
          "table": [
           {
            "cells": {
             "fill": {
              "color": "#EBF0F8"
             },
             "line": {
              "color": "white"
             }
            },
            "header": {
             "fill": {
              "color": "#C8D4E3"
             },
             "line": {
              "color": "white"
             }
            },
            "type": "table"
           }
          ]
         },
         "layout": {
          "annotationdefaults": {
           "arrowcolor": "#2a3f5f",
           "arrowhead": 0,
           "arrowwidth": 1
          },
          "autotypenumbers": "strict",
          "coloraxis": {
           "colorbar": {
            "outlinewidth": 0,
            "ticks": ""
           }
          },
          "colorscale": {
           "diverging": [
            [
             0,
             "#8e0152"
            ],
            [
             0.1,
             "#c51b7d"
            ],
            [
             0.2,
             "#de77ae"
            ],
            [
             0.3,
             "#f1b6da"
            ],
            [
             0.4,
             "#fde0ef"
            ],
            [
             0.5,
             "#f7f7f7"
            ],
            [
             0.6,
             "#e6f5d0"
            ],
            [
             0.7,
             "#b8e186"
            ],
            [
             0.8,
             "#7fbc41"
            ],
            [
             0.9,
             "#4d9221"
            ],
            [
             1,
             "#276419"
            ]
           ],
           "sequential": [
            [
             0,
             "#0d0887"
            ],
            [
             0.1111111111111111,
             "#46039f"
            ],
            [
             0.2222222222222222,
             "#7201a8"
            ],
            [
             0.3333333333333333,
             "#9c179e"
            ],
            [
             0.4444444444444444,
             "#bd3786"
            ],
            [
             0.5555555555555556,
             "#d8576b"
            ],
            [
             0.6666666666666666,
             "#ed7953"
            ],
            [
             0.7777777777777778,
             "#fb9f3a"
            ],
            [
             0.8888888888888888,
             "#fdca26"
            ],
            [
             1,
             "#f0f921"
            ]
           ],
           "sequentialminus": [
            [
             0,
             "#0d0887"
            ],
            [
             0.1111111111111111,
             "#46039f"
            ],
            [
             0.2222222222222222,
             "#7201a8"
            ],
            [
             0.3333333333333333,
             "#9c179e"
            ],
            [
             0.4444444444444444,
             "#bd3786"
            ],
            [
             0.5555555555555556,
             "#d8576b"
            ],
            [
             0.6666666666666666,
             "#ed7953"
            ],
            [
             0.7777777777777778,
             "#fb9f3a"
            ],
            [
             0.8888888888888888,
             "#fdca26"
            ],
            [
             1,
             "#f0f921"
            ]
           ]
          },
          "colorway": [
           "#636efa",
           "#EF553B",
           "#00cc96",
           "#ab63fa",
           "#FFA15A",
           "#19d3f3",
           "#FF6692",
           "#B6E880",
           "#FF97FF",
           "#FECB52"
          ],
          "font": {
           "color": "#2a3f5f"
          },
          "geo": {
           "bgcolor": "white",
           "lakecolor": "white",
           "landcolor": "#E5ECF6",
           "showlakes": true,
           "showland": true,
           "subunitcolor": "white"
          },
          "hoverlabel": {
           "align": "left"
          },
          "hovermode": "closest",
          "mapbox": {
           "style": "light"
          },
          "paper_bgcolor": "white",
          "plot_bgcolor": "#E5ECF6",
          "polar": {
           "angularaxis": {
            "gridcolor": "white",
            "linecolor": "white",
            "ticks": ""
           },
           "bgcolor": "#E5ECF6",
           "radialaxis": {
            "gridcolor": "white",
            "linecolor": "white",
            "ticks": ""
           }
          },
          "scene": {
           "xaxis": {
            "backgroundcolor": "#E5ECF6",
            "gridcolor": "white",
            "gridwidth": 2,
            "linecolor": "white",
            "showbackground": true,
            "ticks": "",
            "zerolinecolor": "white"
           },
           "yaxis": {
            "backgroundcolor": "#E5ECF6",
            "gridcolor": "white",
            "gridwidth": 2,
            "linecolor": "white",
            "showbackground": true,
            "ticks": "",
            "zerolinecolor": "white"
           },
           "zaxis": {
            "backgroundcolor": "#E5ECF6",
            "gridcolor": "white",
            "gridwidth": 2,
            "linecolor": "white",
            "showbackground": true,
            "ticks": "",
            "zerolinecolor": "white"
           }
          },
          "shapedefaults": {
           "line": {
            "color": "#2a3f5f"
           }
          },
          "ternary": {
           "aaxis": {
            "gridcolor": "white",
            "linecolor": "white",
            "ticks": ""
           },
           "baxis": {
            "gridcolor": "white",
            "linecolor": "white",
            "ticks": ""
           },
           "bgcolor": "#E5ECF6",
           "caxis": {
            "gridcolor": "white",
            "linecolor": "white",
            "ticks": ""
           }
          },
          "title": {
           "x": 0.05
          },
          "xaxis": {
           "automargin": true,
           "gridcolor": "white",
           "linecolor": "white",
           "ticks": "",
           "title": {
            "standoff": 15
           },
           "zerolinecolor": "white",
           "zerolinewidth": 2
          },
          "yaxis": {
           "automargin": true,
           "gridcolor": "white",
           "linecolor": "white",
           "ticks": "",
           "title": {
            "standoff": 15
           },
           "zerolinecolor": "white",
           "zerolinewidth": 2
          }
         }
        },
        "title": {
         "font": {
          "color": "Black",
          "size": 22
         },
         "text": "<b>Similarity Matrix</b>",
         "x": 0.55,
         "xanchor": "center",
         "y": 0.95,
         "yanchor": "top"
        },
        "width": 800,
        "xaxis": {
         "anchor": "y",
         "constrain": "domain",
         "domain": [
          0,
          1
         ],
         "scaleanchor": "y"
        },
        "yaxis": {
         "anchor": "x",
         "autorange": "reversed",
         "constrain": "domain",
         "domain": [
          0,
          1
         ]
        }
       }
      }
     },
     "metadata": {},
     "output_type": "display_data"
    }
   ],
   "source": [
    "model.visualize_heatmap(top_n_topics=10) #Visualize the top 10 topics as a heatmap"
   ]
  },
  {
   "cell_type": "code",
   "execution_count": 12,
   "metadata": {},
   "outputs": [
    {
     "data": {
      "application/vnd.plotly.v1+json": {
       "config": {
        "plotlyServerURL": "https://plot.ly"
       },
       "data": [
        {
         "customdata": [
          [
           0,
           "saw | colours | moving | shapes | patterns",
           127
          ],
          [
           1,
           "peace | calm | relaxed | relaxing | good",
           55
          ],
          [
           2,
           "music | journey | much | calming | mind",
           35
          ],
          [
           3,
           "thoughts | mind | people | thought | brain",
           29
          ]
         ],
         "hovertemplate": "<b>Topic %{customdata[0]}</b><br>%{customdata[1]}<br>Size: %{customdata[2]}",
         "legendgroup": "",
         "marker": {
          "color": "#B0BEC5",
          "line": {
           "color": "DarkSlateGrey",
           "width": 2
          },
          "size": [
           127,
           55,
           35,
           29
          ],
          "sizemode": "area",
          "sizeref": 0.079375,
          "symbol": "circle"
         },
         "mode": "markers",
         "name": "",
         "orientation": "v",
         "showlegend": false,
         "type": "scatter",
         "x": [
          10.744150161743164,
          9.12467098236084,
          9.081645965576172,
          9.950472831726074
         ],
         "xaxis": "x",
         "y": [
          -2.8390235900878906,
          -3.8944509029388428,
          -3.063770055770874,
          -2.5594680309295654
         ],
         "yaxis": "y"
        }
       ],
       "layout": {
        "annotations": [
         {
          "showarrow": false,
          "text": "D1",
          "x": 7.719399070739746,
          "y": -3.3270831823348996,
          "yshift": 10
         },
         {
          "showarrow": false,
          "text": "D2",
          "x": 10.037585878372191,
          "xshift": 10,
          "y": -2.1755478262901304
         }
        ],
        "height": 650,
        "hoverlabel": {
         "bgcolor": "white",
         "font": {
          "family": "Rockwell",
          "size": 16
         }
        },
        "legend": {
         "itemsizing": "constant",
         "tracegroupgap": 0
        },
        "margin": {
         "t": 60
        },
        "shapes": [
         {
          "line": {
           "color": "#CFD8DC",
           "width": 2
          },
          "type": "line",
          "x0": 10.037585878372191,
          "x1": 10.037585878372191,
          "y0": -4.478618538379669,
          "y1": -2.1755478262901304
         },
         {
          "line": {
           "color": "#9E9E9E",
           "width": 2
          },
          "type": "line",
          "x0": 7.719399070739746,
          "x1": 12.355772686004638,
          "y0": -3.3270831823348996,
          "y1": -3.3270831823348996
         }
        ],
        "sliders": [
         {
          "active": 0,
          "pad": {
           "t": 50
          },
          "steps": [
           {
            "args": [
             {
              "marker.color": [
               [
                "red",
                "#B0BEC5",
                "#B0BEC5",
                "#B0BEC5"
               ]
              ]
             }
            ],
            "label": "Topic 0",
            "method": "update"
           },
           {
            "args": [
             {
              "marker.color": [
               [
                "#B0BEC5",
                "red",
                "#B0BEC5",
                "#B0BEC5"
               ]
              ]
             }
            ],
            "label": "Topic 1",
            "method": "update"
           },
           {
            "args": [
             {
              "marker.color": [
               [
                "#B0BEC5",
                "#B0BEC5",
                "red",
                "#B0BEC5"
               ]
              ]
             }
            ],
            "label": "Topic 2",
            "method": "update"
           },
           {
            "args": [
             {
              "marker.color": [
               [
                "#B0BEC5",
                "#B0BEC5",
                "#B0BEC5",
                "red"
               ]
              ]
             }
            ],
            "label": "Topic 3",
            "method": "update"
           }
          ]
         }
        ],
        "template": {
         "data": {
          "bar": [
           {
            "error_x": {
             "color": "rgb(36,36,36)"
            },
            "error_y": {
             "color": "rgb(36,36,36)"
            },
            "marker": {
             "line": {
              "color": "white",
              "width": 0.5
             },
             "pattern": {
              "fillmode": "overlay",
              "size": 10,
              "solidity": 0.2
             }
            },
            "type": "bar"
           }
          ],
          "barpolar": [
           {
            "marker": {
             "line": {
              "color": "white",
              "width": 0.5
             },
             "pattern": {
              "fillmode": "overlay",
              "size": 10,
              "solidity": 0.2
             }
            },
            "type": "barpolar"
           }
          ],
          "carpet": [
           {
            "aaxis": {
             "endlinecolor": "rgb(36,36,36)",
             "gridcolor": "white",
             "linecolor": "white",
             "minorgridcolor": "white",
             "startlinecolor": "rgb(36,36,36)"
            },
            "baxis": {
             "endlinecolor": "rgb(36,36,36)",
             "gridcolor": "white",
             "linecolor": "white",
             "minorgridcolor": "white",
             "startlinecolor": "rgb(36,36,36)"
            },
            "type": "carpet"
           }
          ],
          "choropleth": [
           {
            "colorbar": {
             "outlinewidth": 1,
             "tickcolor": "rgb(36,36,36)",
             "ticks": "outside"
            },
            "type": "choropleth"
           }
          ],
          "contour": [
           {
            "colorbar": {
             "outlinewidth": 1,
             "tickcolor": "rgb(36,36,36)",
             "ticks": "outside"
            },
            "colorscale": [
             [
              0,
              "#440154"
             ],
             [
              0.1111111111111111,
              "#482878"
             ],
             [
              0.2222222222222222,
              "#3e4989"
             ],
             [
              0.3333333333333333,
              "#31688e"
             ],
             [
              0.4444444444444444,
              "#26828e"
             ],
             [
              0.5555555555555556,
              "#1f9e89"
             ],
             [
              0.6666666666666666,
              "#35b779"
             ],
             [
              0.7777777777777778,
              "#6ece58"
             ],
             [
              0.8888888888888888,
              "#b5de2b"
             ],
             [
              1,
              "#fde725"
             ]
            ],
            "type": "contour"
           }
          ],
          "contourcarpet": [
           {
            "colorbar": {
             "outlinewidth": 1,
             "tickcolor": "rgb(36,36,36)",
             "ticks": "outside"
            },
            "type": "contourcarpet"
           }
          ],
          "heatmap": [
           {
            "colorbar": {
             "outlinewidth": 1,
             "tickcolor": "rgb(36,36,36)",
             "ticks": "outside"
            },
            "colorscale": [
             [
              0,
              "#440154"
             ],
             [
              0.1111111111111111,
              "#482878"
             ],
             [
              0.2222222222222222,
              "#3e4989"
             ],
             [
              0.3333333333333333,
              "#31688e"
             ],
             [
              0.4444444444444444,
              "#26828e"
             ],
             [
              0.5555555555555556,
              "#1f9e89"
             ],
             [
              0.6666666666666666,
              "#35b779"
             ],
             [
              0.7777777777777778,
              "#6ece58"
             ],
             [
              0.8888888888888888,
              "#b5de2b"
             ],
             [
              1,
              "#fde725"
             ]
            ],
            "type": "heatmap"
           }
          ],
          "heatmapgl": [
           {
            "colorbar": {
             "outlinewidth": 1,
             "tickcolor": "rgb(36,36,36)",
             "ticks": "outside"
            },
            "colorscale": [
             [
              0,
              "#440154"
             ],
             [
              0.1111111111111111,
              "#482878"
             ],
             [
              0.2222222222222222,
              "#3e4989"
             ],
             [
              0.3333333333333333,
              "#31688e"
             ],
             [
              0.4444444444444444,
              "#26828e"
             ],
             [
              0.5555555555555556,
              "#1f9e89"
             ],
             [
              0.6666666666666666,
              "#35b779"
             ],
             [
              0.7777777777777778,
              "#6ece58"
             ],
             [
              0.8888888888888888,
              "#b5de2b"
             ],
             [
              1,
              "#fde725"
             ]
            ],
            "type": "heatmapgl"
           }
          ],
          "histogram": [
           {
            "marker": {
             "line": {
              "color": "white",
              "width": 0.6
             }
            },
            "type": "histogram"
           }
          ],
          "histogram2d": [
           {
            "colorbar": {
             "outlinewidth": 1,
             "tickcolor": "rgb(36,36,36)",
             "ticks": "outside"
            },
            "colorscale": [
             [
              0,
              "#440154"
             ],
             [
              0.1111111111111111,
              "#482878"
             ],
             [
              0.2222222222222222,
              "#3e4989"
             ],
             [
              0.3333333333333333,
              "#31688e"
             ],
             [
              0.4444444444444444,
              "#26828e"
             ],
             [
              0.5555555555555556,
              "#1f9e89"
             ],
             [
              0.6666666666666666,
              "#35b779"
             ],
             [
              0.7777777777777778,
              "#6ece58"
             ],
             [
              0.8888888888888888,
              "#b5de2b"
             ],
             [
              1,
              "#fde725"
             ]
            ],
            "type": "histogram2d"
           }
          ],
          "histogram2dcontour": [
           {
            "colorbar": {
             "outlinewidth": 1,
             "tickcolor": "rgb(36,36,36)",
             "ticks": "outside"
            },
            "colorscale": [
             [
              0,
              "#440154"
             ],
             [
              0.1111111111111111,
              "#482878"
             ],
             [
              0.2222222222222222,
              "#3e4989"
             ],
             [
              0.3333333333333333,
              "#31688e"
             ],
             [
              0.4444444444444444,
              "#26828e"
             ],
             [
              0.5555555555555556,
              "#1f9e89"
             ],
             [
              0.6666666666666666,
              "#35b779"
             ],
             [
              0.7777777777777778,
              "#6ece58"
             ],
             [
              0.8888888888888888,
              "#b5de2b"
             ],
             [
              1,
              "#fde725"
             ]
            ],
            "type": "histogram2dcontour"
           }
          ],
          "mesh3d": [
           {
            "colorbar": {
             "outlinewidth": 1,
             "tickcolor": "rgb(36,36,36)",
             "ticks": "outside"
            },
            "type": "mesh3d"
           }
          ],
          "parcoords": [
           {
            "line": {
             "colorbar": {
              "outlinewidth": 1,
              "tickcolor": "rgb(36,36,36)",
              "ticks": "outside"
             }
            },
            "type": "parcoords"
           }
          ],
          "pie": [
           {
            "automargin": true,
            "type": "pie"
           }
          ],
          "scatter": [
           {
            "fillpattern": {
             "fillmode": "overlay",
             "size": 10,
             "solidity": 0.2
            },
            "type": "scatter"
           }
          ],
          "scatter3d": [
           {
            "line": {
             "colorbar": {
              "outlinewidth": 1,
              "tickcolor": "rgb(36,36,36)",
              "ticks": "outside"
             }
            },
            "marker": {
             "colorbar": {
              "outlinewidth": 1,
              "tickcolor": "rgb(36,36,36)",
              "ticks": "outside"
             }
            },
            "type": "scatter3d"
           }
          ],
          "scattercarpet": [
           {
            "marker": {
             "colorbar": {
              "outlinewidth": 1,
              "tickcolor": "rgb(36,36,36)",
              "ticks": "outside"
             }
            },
            "type": "scattercarpet"
           }
          ],
          "scattergeo": [
           {
            "marker": {
             "colorbar": {
              "outlinewidth": 1,
              "tickcolor": "rgb(36,36,36)",
              "ticks": "outside"
             }
            },
            "type": "scattergeo"
           }
          ],
          "scattergl": [
           {
            "marker": {
             "colorbar": {
              "outlinewidth": 1,
              "tickcolor": "rgb(36,36,36)",
              "ticks": "outside"
             }
            },
            "type": "scattergl"
           }
          ],
          "scattermapbox": [
           {
            "marker": {
             "colorbar": {
              "outlinewidth": 1,
              "tickcolor": "rgb(36,36,36)",
              "ticks": "outside"
             }
            },
            "type": "scattermapbox"
           }
          ],
          "scatterpolar": [
           {
            "marker": {
             "colorbar": {
              "outlinewidth": 1,
              "tickcolor": "rgb(36,36,36)",
              "ticks": "outside"
             }
            },
            "type": "scatterpolar"
           }
          ],
          "scatterpolargl": [
           {
            "marker": {
             "colorbar": {
              "outlinewidth": 1,
              "tickcolor": "rgb(36,36,36)",
              "ticks": "outside"
             }
            },
            "type": "scatterpolargl"
           }
          ],
          "scatterternary": [
           {
            "marker": {
             "colorbar": {
              "outlinewidth": 1,
              "tickcolor": "rgb(36,36,36)",
              "ticks": "outside"
             }
            },
            "type": "scatterternary"
           }
          ],
          "surface": [
           {
            "colorbar": {
             "outlinewidth": 1,
             "tickcolor": "rgb(36,36,36)",
             "ticks": "outside"
            },
            "colorscale": [
             [
              0,
              "#440154"
             ],
             [
              0.1111111111111111,
              "#482878"
             ],
             [
              0.2222222222222222,
              "#3e4989"
             ],
             [
              0.3333333333333333,
              "#31688e"
             ],
             [
              0.4444444444444444,
              "#26828e"
             ],
             [
              0.5555555555555556,
              "#1f9e89"
             ],
             [
              0.6666666666666666,
              "#35b779"
             ],
             [
              0.7777777777777778,
              "#6ece58"
             ],
             [
              0.8888888888888888,
              "#b5de2b"
             ],
             [
              1,
              "#fde725"
             ]
            ],
            "type": "surface"
           }
          ],
          "table": [
           {
            "cells": {
             "fill": {
              "color": "rgb(237,237,237)"
             },
             "line": {
              "color": "white"
             }
            },
            "header": {
             "fill": {
              "color": "rgb(217,217,217)"
             },
             "line": {
              "color": "white"
             }
            },
            "type": "table"
           }
          ]
         },
         "layout": {
          "annotationdefaults": {
           "arrowhead": 0,
           "arrowwidth": 1
          },
          "autotypenumbers": "strict",
          "coloraxis": {
           "colorbar": {
            "outlinewidth": 1,
            "tickcolor": "rgb(36,36,36)",
            "ticks": "outside"
           }
          },
          "colorscale": {
           "diverging": [
            [
             0,
             "rgb(103,0,31)"
            ],
            [
             0.1,
             "rgb(178,24,43)"
            ],
            [
             0.2,
             "rgb(214,96,77)"
            ],
            [
             0.3,
             "rgb(244,165,130)"
            ],
            [
             0.4,
             "rgb(253,219,199)"
            ],
            [
             0.5,
             "rgb(247,247,247)"
            ],
            [
             0.6,
             "rgb(209,229,240)"
            ],
            [
             0.7,
             "rgb(146,197,222)"
            ],
            [
             0.8,
             "rgb(67,147,195)"
            ],
            [
             0.9,
             "rgb(33,102,172)"
            ],
            [
             1,
             "rgb(5,48,97)"
            ]
           ],
           "sequential": [
            [
             0,
             "#440154"
            ],
            [
             0.1111111111111111,
             "#482878"
            ],
            [
             0.2222222222222222,
             "#3e4989"
            ],
            [
             0.3333333333333333,
             "#31688e"
            ],
            [
             0.4444444444444444,
             "#26828e"
            ],
            [
             0.5555555555555556,
             "#1f9e89"
            ],
            [
             0.6666666666666666,
             "#35b779"
            ],
            [
             0.7777777777777778,
             "#6ece58"
            ],
            [
             0.8888888888888888,
             "#b5de2b"
            ],
            [
             1,
             "#fde725"
            ]
           ],
           "sequentialminus": [
            [
             0,
             "#440154"
            ],
            [
             0.1111111111111111,
             "#482878"
            ],
            [
             0.2222222222222222,
             "#3e4989"
            ],
            [
             0.3333333333333333,
             "#31688e"
            ],
            [
             0.4444444444444444,
             "#26828e"
            ],
            [
             0.5555555555555556,
             "#1f9e89"
            ],
            [
             0.6666666666666666,
             "#35b779"
            ],
            [
             0.7777777777777778,
             "#6ece58"
            ],
            [
             0.8888888888888888,
             "#b5de2b"
            ],
            [
             1,
             "#fde725"
            ]
           ]
          },
          "colorway": [
           "#1F77B4",
           "#FF7F0E",
           "#2CA02C",
           "#D62728",
           "#9467BD",
           "#8C564B",
           "#E377C2",
           "#7F7F7F",
           "#BCBD22",
           "#17BECF"
          ],
          "font": {
           "color": "rgb(36,36,36)"
          },
          "geo": {
           "bgcolor": "white",
           "lakecolor": "white",
           "landcolor": "white",
           "showlakes": true,
           "showland": true,
           "subunitcolor": "white"
          },
          "hoverlabel": {
           "align": "left"
          },
          "hovermode": "closest",
          "mapbox": {
           "style": "light"
          },
          "paper_bgcolor": "white",
          "plot_bgcolor": "white",
          "polar": {
           "angularaxis": {
            "gridcolor": "rgb(232,232,232)",
            "linecolor": "rgb(36,36,36)",
            "showgrid": false,
            "showline": true,
            "ticks": "outside"
           },
           "bgcolor": "white",
           "radialaxis": {
            "gridcolor": "rgb(232,232,232)",
            "linecolor": "rgb(36,36,36)",
            "showgrid": false,
            "showline": true,
            "ticks": "outside"
           }
          },
          "scene": {
           "xaxis": {
            "backgroundcolor": "white",
            "gridcolor": "rgb(232,232,232)",
            "gridwidth": 2,
            "linecolor": "rgb(36,36,36)",
            "showbackground": true,
            "showgrid": false,
            "showline": true,
            "ticks": "outside",
            "zeroline": false,
            "zerolinecolor": "rgb(36,36,36)"
           },
           "yaxis": {
            "backgroundcolor": "white",
            "gridcolor": "rgb(232,232,232)",
            "gridwidth": 2,
            "linecolor": "rgb(36,36,36)",
            "showbackground": true,
            "showgrid": false,
            "showline": true,
            "ticks": "outside",
            "zeroline": false,
            "zerolinecolor": "rgb(36,36,36)"
           },
           "zaxis": {
            "backgroundcolor": "white",
            "gridcolor": "rgb(232,232,232)",
            "gridwidth": 2,
            "linecolor": "rgb(36,36,36)",
            "showbackground": true,
            "showgrid": false,
            "showline": true,
            "ticks": "outside",
            "zeroline": false,
            "zerolinecolor": "rgb(36,36,36)"
           }
          },
          "shapedefaults": {
           "fillcolor": "black",
           "line": {
            "width": 0
           },
           "opacity": 0.3
          },
          "ternary": {
           "aaxis": {
            "gridcolor": "rgb(232,232,232)",
            "linecolor": "rgb(36,36,36)",
            "showgrid": false,
            "showline": true,
            "ticks": "outside"
           },
           "baxis": {
            "gridcolor": "rgb(232,232,232)",
            "linecolor": "rgb(36,36,36)",
            "showgrid": false,
            "showline": true,
            "ticks": "outside"
           },
           "bgcolor": "white",
           "caxis": {
            "gridcolor": "rgb(232,232,232)",
            "linecolor": "rgb(36,36,36)",
            "showgrid": false,
            "showline": true,
            "ticks": "outside"
           }
          },
          "title": {
           "x": 0.05
          },
          "xaxis": {
           "automargin": true,
           "gridcolor": "rgb(232,232,232)",
           "linecolor": "rgb(36,36,36)",
           "showgrid": false,
           "showline": true,
           "ticks": "outside",
           "title": {
            "standoff": 15
           },
           "zeroline": false,
           "zerolinecolor": "rgb(36,36,36)"
          },
          "yaxis": {
           "automargin": true,
           "gridcolor": "rgb(232,232,232)",
           "linecolor": "rgb(36,36,36)",
           "showgrid": false,
           "showline": true,
           "ticks": "outside",
           "title": {
            "standoff": 15
           },
           "zeroline": false,
           "zerolinecolor": "rgb(36,36,36)"
          }
         }
        },
        "title": {
         "font": {
          "color": "Black",
          "size": 22
         },
         "text": "<b>Intertopic Distance Map</b>",
         "x": 0.5,
         "xanchor": "center",
         "y": 0.95,
         "yanchor": "top"
        },
        "width": 650,
        "xaxis": {
         "anchor": "y",
         "domain": [
          0,
          1
         ],
         "range": [
          7.719399070739746,
          12.355772686004638
         ],
         "title": {
          "text": ""
         },
         "visible": false
        },
        "yaxis": {
         "anchor": "x",
         "domain": [
          0,
          1
         ],
         "range": [
          -4.478618538379669,
          -2.1755478262901304
         ],
         "title": {
          "text": ""
         },
         "visible": false
        }
       }
      }
     },
     "metadata": {},
     "output_type": "display_data"
    }
   ],
   "source": [
    "model.visualize_topics() #Visualize topics (similar to LDA visualization representation)"
   ]
  },
  {
   "cell_type": "code",
   "execution_count": 13,
   "metadata": {},
   "outputs": [
    {
     "data": {
      "application/vnd.plotly.v1+json": {
       "config": {
        "plotlyServerURL": "https://plot.ly"
       },
       "data": [
        {
         "hoverinfo": "text",
         "marker": {
          "color": "rgb(61,153,112)"
         },
         "mode": "lines",
         "type": "scatter",
         "x": [
          0,
          0.7585672241655093,
          0.7585672241655093,
          0
         ],
         "xaxis": "x",
         "y": [
          -15,
          -15,
          -25,
          -25
         ],
         "yaxis": "y"
        },
        {
         "hoverinfo": "text",
         "marker": {
          "color": "rgb(61,153,112)"
         },
         "mode": "lines",
         "type": "scatter",
         "x": [
          0.7585672241655093,
          0.8027259814345459,
          0.8027259814345459,
          0
         ],
         "xaxis": "x",
         "y": [
          -20,
          -20,
          -35,
          -35
         ],
         "yaxis": "y"
        },
        {
         "hoverinfo": "text",
         "marker": {
          "color": "rgb(61,153,112)"
         },
         "mode": "lines",
         "type": "scatter",
         "x": [
          0,
          0.9040124160921303,
          0.9040124160921303,
          0.8027259814345459
         ],
         "xaxis": "x",
         "y": [
          -5,
          -5,
          -27.5,
          -27.5
         ],
         "yaxis": "y"
        }
       ],
       "layout": {
        "autosize": false,
        "height": 260,
        "hoverlabel": {
         "bgcolor": "white",
         "font": {
          "family": "Rockwell",
          "size": 16
         }
        },
        "hovermode": "closest",
        "plot_bgcolor": "#ECEFF1",
        "showlegend": false,
        "template": {
         "data": {
          "bar": [
           {
            "error_x": {
             "color": "#2a3f5f"
            },
            "error_y": {
             "color": "#2a3f5f"
            },
            "marker": {
             "line": {
              "color": "white",
              "width": 0.5
             },
             "pattern": {
              "fillmode": "overlay",
              "size": 10,
              "solidity": 0.2
             }
            },
            "type": "bar"
           }
          ],
          "barpolar": [
           {
            "marker": {
             "line": {
              "color": "white",
              "width": 0.5
             },
             "pattern": {
              "fillmode": "overlay",
              "size": 10,
              "solidity": 0.2
             }
            },
            "type": "barpolar"
           }
          ],
          "carpet": [
           {
            "aaxis": {
             "endlinecolor": "#2a3f5f",
             "gridcolor": "#C8D4E3",
             "linecolor": "#C8D4E3",
             "minorgridcolor": "#C8D4E3",
             "startlinecolor": "#2a3f5f"
            },
            "baxis": {
             "endlinecolor": "#2a3f5f",
             "gridcolor": "#C8D4E3",
             "linecolor": "#C8D4E3",
             "minorgridcolor": "#C8D4E3",
             "startlinecolor": "#2a3f5f"
            },
            "type": "carpet"
           }
          ],
          "choropleth": [
           {
            "colorbar": {
             "outlinewidth": 0,
             "ticks": ""
            },
            "type": "choropleth"
           }
          ],
          "contour": [
           {
            "colorbar": {
             "outlinewidth": 0,
             "ticks": ""
            },
            "colorscale": [
             [
              0,
              "#0d0887"
             ],
             [
              0.1111111111111111,
              "#46039f"
             ],
             [
              0.2222222222222222,
              "#7201a8"
             ],
             [
              0.3333333333333333,
              "#9c179e"
             ],
             [
              0.4444444444444444,
              "#bd3786"
             ],
             [
              0.5555555555555556,
              "#d8576b"
             ],
             [
              0.6666666666666666,
              "#ed7953"
             ],
             [
              0.7777777777777778,
              "#fb9f3a"
             ],
             [
              0.8888888888888888,
              "#fdca26"
             ],
             [
              1,
              "#f0f921"
             ]
            ],
            "type": "contour"
           }
          ],
          "contourcarpet": [
           {
            "colorbar": {
             "outlinewidth": 0,
             "ticks": ""
            },
            "type": "contourcarpet"
           }
          ],
          "heatmap": [
           {
            "colorbar": {
             "outlinewidth": 0,
             "ticks": ""
            },
            "colorscale": [
             [
              0,
              "#0d0887"
             ],
             [
              0.1111111111111111,
              "#46039f"
             ],
             [
              0.2222222222222222,
              "#7201a8"
             ],
             [
              0.3333333333333333,
              "#9c179e"
             ],
             [
              0.4444444444444444,
              "#bd3786"
             ],
             [
              0.5555555555555556,
              "#d8576b"
             ],
             [
              0.6666666666666666,
              "#ed7953"
             ],
             [
              0.7777777777777778,
              "#fb9f3a"
             ],
             [
              0.8888888888888888,
              "#fdca26"
             ],
             [
              1,
              "#f0f921"
             ]
            ],
            "type": "heatmap"
           }
          ],
          "heatmapgl": [
           {
            "colorbar": {
             "outlinewidth": 0,
             "ticks": ""
            },
            "colorscale": [
             [
              0,
              "#0d0887"
             ],
             [
              0.1111111111111111,
              "#46039f"
             ],
             [
              0.2222222222222222,
              "#7201a8"
             ],
             [
              0.3333333333333333,
              "#9c179e"
             ],
             [
              0.4444444444444444,
              "#bd3786"
             ],
             [
              0.5555555555555556,
              "#d8576b"
             ],
             [
              0.6666666666666666,
              "#ed7953"
             ],
             [
              0.7777777777777778,
              "#fb9f3a"
             ],
             [
              0.8888888888888888,
              "#fdca26"
             ],
             [
              1,
              "#f0f921"
             ]
            ],
            "type": "heatmapgl"
           }
          ],
          "histogram": [
           {
            "marker": {
             "pattern": {
              "fillmode": "overlay",
              "size": 10,
              "solidity": 0.2
             }
            },
            "type": "histogram"
           }
          ],
          "histogram2d": [
           {
            "colorbar": {
             "outlinewidth": 0,
             "ticks": ""
            },
            "colorscale": [
             [
              0,
              "#0d0887"
             ],
             [
              0.1111111111111111,
              "#46039f"
             ],
             [
              0.2222222222222222,
              "#7201a8"
             ],
             [
              0.3333333333333333,
              "#9c179e"
             ],
             [
              0.4444444444444444,
              "#bd3786"
             ],
             [
              0.5555555555555556,
              "#d8576b"
             ],
             [
              0.6666666666666666,
              "#ed7953"
             ],
             [
              0.7777777777777778,
              "#fb9f3a"
             ],
             [
              0.8888888888888888,
              "#fdca26"
             ],
             [
              1,
              "#f0f921"
             ]
            ],
            "type": "histogram2d"
           }
          ],
          "histogram2dcontour": [
           {
            "colorbar": {
             "outlinewidth": 0,
             "ticks": ""
            },
            "colorscale": [
             [
              0,
              "#0d0887"
             ],
             [
              0.1111111111111111,
              "#46039f"
             ],
             [
              0.2222222222222222,
              "#7201a8"
             ],
             [
              0.3333333333333333,
              "#9c179e"
             ],
             [
              0.4444444444444444,
              "#bd3786"
             ],
             [
              0.5555555555555556,
              "#d8576b"
             ],
             [
              0.6666666666666666,
              "#ed7953"
             ],
             [
              0.7777777777777778,
              "#fb9f3a"
             ],
             [
              0.8888888888888888,
              "#fdca26"
             ],
             [
              1,
              "#f0f921"
             ]
            ],
            "type": "histogram2dcontour"
           }
          ],
          "mesh3d": [
           {
            "colorbar": {
             "outlinewidth": 0,
             "ticks": ""
            },
            "type": "mesh3d"
           }
          ],
          "parcoords": [
           {
            "line": {
             "colorbar": {
              "outlinewidth": 0,
              "ticks": ""
             }
            },
            "type": "parcoords"
           }
          ],
          "pie": [
           {
            "automargin": true,
            "type": "pie"
           }
          ],
          "scatter": [
           {
            "fillpattern": {
             "fillmode": "overlay",
             "size": 10,
             "solidity": 0.2
            },
            "type": "scatter"
           }
          ],
          "scatter3d": [
           {
            "line": {
             "colorbar": {
              "outlinewidth": 0,
              "ticks": ""
             }
            },
            "marker": {
             "colorbar": {
              "outlinewidth": 0,
              "ticks": ""
             }
            },
            "type": "scatter3d"
           }
          ],
          "scattercarpet": [
           {
            "marker": {
             "colorbar": {
              "outlinewidth": 0,
              "ticks": ""
             }
            },
            "type": "scattercarpet"
           }
          ],
          "scattergeo": [
           {
            "marker": {
             "colorbar": {
              "outlinewidth": 0,
              "ticks": ""
             }
            },
            "type": "scattergeo"
           }
          ],
          "scattergl": [
           {
            "marker": {
             "colorbar": {
              "outlinewidth": 0,
              "ticks": ""
             }
            },
            "type": "scattergl"
           }
          ],
          "scattermapbox": [
           {
            "marker": {
             "colorbar": {
              "outlinewidth": 0,
              "ticks": ""
             }
            },
            "type": "scattermapbox"
           }
          ],
          "scatterpolar": [
           {
            "marker": {
             "colorbar": {
              "outlinewidth": 0,
              "ticks": ""
             }
            },
            "type": "scatterpolar"
           }
          ],
          "scatterpolargl": [
           {
            "marker": {
             "colorbar": {
              "outlinewidth": 0,
              "ticks": ""
             }
            },
            "type": "scatterpolargl"
           }
          ],
          "scatterternary": [
           {
            "marker": {
             "colorbar": {
              "outlinewidth": 0,
              "ticks": ""
             }
            },
            "type": "scatterternary"
           }
          ],
          "surface": [
           {
            "colorbar": {
             "outlinewidth": 0,
             "ticks": ""
            },
            "colorscale": [
             [
              0,
              "#0d0887"
             ],
             [
              0.1111111111111111,
              "#46039f"
             ],
             [
              0.2222222222222222,
              "#7201a8"
             ],
             [
              0.3333333333333333,
              "#9c179e"
             ],
             [
              0.4444444444444444,
              "#bd3786"
             ],
             [
              0.5555555555555556,
              "#d8576b"
             ],
             [
              0.6666666666666666,
              "#ed7953"
             ],
             [
              0.7777777777777778,
              "#fb9f3a"
             ],
             [
              0.8888888888888888,
              "#fdca26"
             ],
             [
              1,
              "#f0f921"
             ]
            ],
            "type": "surface"
           }
          ],
          "table": [
           {
            "cells": {
             "fill": {
              "color": "#EBF0F8"
             },
             "line": {
              "color": "white"
             }
            },
            "header": {
             "fill": {
              "color": "#C8D4E3"
             },
             "line": {
              "color": "white"
             }
            },
            "type": "table"
           }
          ]
         },
         "layout": {
          "annotationdefaults": {
           "arrowcolor": "#2a3f5f",
           "arrowhead": 0,
           "arrowwidth": 1
          },
          "autotypenumbers": "strict",
          "coloraxis": {
           "colorbar": {
            "outlinewidth": 0,
            "ticks": ""
           }
          },
          "colorscale": {
           "diverging": [
            [
             0,
             "#8e0152"
            ],
            [
             0.1,
             "#c51b7d"
            ],
            [
             0.2,
             "#de77ae"
            ],
            [
             0.3,
             "#f1b6da"
            ],
            [
             0.4,
             "#fde0ef"
            ],
            [
             0.5,
             "#f7f7f7"
            ],
            [
             0.6,
             "#e6f5d0"
            ],
            [
             0.7,
             "#b8e186"
            ],
            [
             0.8,
             "#7fbc41"
            ],
            [
             0.9,
             "#4d9221"
            ],
            [
             1,
             "#276419"
            ]
           ],
           "sequential": [
            [
             0,
             "#0d0887"
            ],
            [
             0.1111111111111111,
             "#46039f"
            ],
            [
             0.2222222222222222,
             "#7201a8"
            ],
            [
             0.3333333333333333,
             "#9c179e"
            ],
            [
             0.4444444444444444,
             "#bd3786"
            ],
            [
             0.5555555555555556,
             "#d8576b"
            ],
            [
             0.6666666666666666,
             "#ed7953"
            ],
            [
             0.7777777777777778,
             "#fb9f3a"
            ],
            [
             0.8888888888888888,
             "#fdca26"
            ],
            [
             1,
             "#f0f921"
            ]
           ],
           "sequentialminus": [
            [
             0,
             "#0d0887"
            ],
            [
             0.1111111111111111,
             "#46039f"
            ],
            [
             0.2222222222222222,
             "#7201a8"
            ],
            [
             0.3333333333333333,
             "#9c179e"
            ],
            [
             0.4444444444444444,
             "#bd3786"
            ],
            [
             0.5555555555555556,
             "#d8576b"
            ],
            [
             0.6666666666666666,
             "#ed7953"
            ],
            [
             0.7777777777777778,
             "#fb9f3a"
            ],
            [
             0.8888888888888888,
             "#fdca26"
            ],
            [
             1,
             "#f0f921"
            ]
           ]
          },
          "colorway": [
           "#636efa",
           "#EF553B",
           "#00cc96",
           "#ab63fa",
           "#FFA15A",
           "#19d3f3",
           "#FF6692",
           "#B6E880",
           "#FF97FF",
           "#FECB52"
          ],
          "font": {
           "color": "#2a3f5f"
          },
          "geo": {
           "bgcolor": "white",
           "lakecolor": "white",
           "landcolor": "white",
           "showlakes": true,
           "showland": true,
           "subunitcolor": "#C8D4E3"
          },
          "hoverlabel": {
           "align": "left"
          },
          "hovermode": "closest",
          "mapbox": {
           "style": "light"
          },
          "paper_bgcolor": "white",
          "plot_bgcolor": "white",
          "polar": {
           "angularaxis": {
            "gridcolor": "#EBF0F8",
            "linecolor": "#EBF0F8",
            "ticks": ""
           },
           "bgcolor": "white",
           "radialaxis": {
            "gridcolor": "#EBF0F8",
            "linecolor": "#EBF0F8",
            "ticks": ""
           }
          },
          "scene": {
           "xaxis": {
            "backgroundcolor": "white",
            "gridcolor": "#DFE8F3",
            "gridwidth": 2,
            "linecolor": "#EBF0F8",
            "showbackground": true,
            "ticks": "",
            "zerolinecolor": "#EBF0F8"
           },
           "yaxis": {
            "backgroundcolor": "white",
            "gridcolor": "#DFE8F3",
            "gridwidth": 2,
            "linecolor": "#EBF0F8",
            "showbackground": true,
            "ticks": "",
            "zerolinecolor": "#EBF0F8"
           },
           "zaxis": {
            "backgroundcolor": "white",
            "gridcolor": "#DFE8F3",
            "gridwidth": 2,
            "linecolor": "#EBF0F8",
            "showbackground": true,
            "ticks": "",
            "zerolinecolor": "#EBF0F8"
           }
          },
          "shapedefaults": {
           "line": {
            "color": "#2a3f5f"
           }
          },
          "ternary": {
           "aaxis": {
            "gridcolor": "#DFE8F3",
            "linecolor": "#A2B1C6",
            "ticks": ""
           },
           "baxis": {
            "gridcolor": "#DFE8F3",
            "linecolor": "#A2B1C6",
            "ticks": ""
           },
           "bgcolor": "white",
           "caxis": {
            "gridcolor": "#DFE8F3",
            "linecolor": "#A2B1C6",
            "ticks": ""
           }
          },
          "title": {
           "x": 0.05
          },
          "xaxis": {
           "automargin": true,
           "gridcolor": "#EBF0F8",
           "linecolor": "#EBF0F8",
           "ticks": "",
           "title": {
            "standoff": 15
           },
           "zerolinecolor": "#EBF0F8",
           "zerolinewidth": 2
          },
          "yaxis": {
           "automargin": true,
           "gridcolor": "#EBF0F8",
           "linecolor": "#EBF0F8",
           "ticks": "",
           "title": {
            "standoff": 15
           },
           "zerolinecolor": "#EBF0F8",
           "zerolinewidth": 2
          }
         }
        },
        "title": {
         "font": {
          "color": "Black",
          "size": 22
         },
         "text": "<b>Hierarchical Clustering</b>",
         "x": 0.5,
         "xanchor": "center",
         "yanchor": "top"
        },
        "width": 1000,
        "xaxis": {
         "mirror": "allticks",
         "rangemode": "tozero",
         "showgrid": false,
         "showline": true,
         "showticklabels": true,
         "ticks": "outside",
         "type": "linear",
         "zeroline": false
        },
        "yaxis": {
         "mirror": "allticks",
         "range": [
          -40,
          0
         ],
         "rangemode": "tozero",
         "showgrid": false,
         "showline": true,
         "showticklabels": true,
         "tickmode": "array",
         "ticks": "outside",
         "ticktext": [
          "1_peace_calm_relaxed",
          "2_music_journey_much",
          "0_saw_colours_moving",
          "3_thoughts_mind_people"
         ],
         "tickvals": [
          -5,
          -15,
          -25,
          -35
         ],
         "type": "linear",
         "zeroline": false
        }
       }
      }
     },
     "metadata": {},
     "output_type": "display_data"
    }
   ],
   "source": [
    "model.visualize_hierarchy(top_n_topics=10)"
   ]
  },
  {
   "attachments": {},
   "cell_type": "markdown",
   "metadata": {},
   "source": [
    "### Get the top 3 topics"
   ]
  },
  {
   "cell_type": "code",
   "execution_count": 14,
   "metadata": {},
   "outputs": [
    {
     "data": {
      "text/plain": [
       "([-1, 2, 1, 3, 0], [0.4470312, 0.40981358, 0.34947276, 0.3429268, 0.2649719])"
      ]
     },
     "execution_count": 14,
     "metadata": {},
     "output_type": "execute_result"
    }
   ],
   "source": [
    "similarities = model.find_topics(\"lsd\") #Find topics similar to the word \"lsd\"\n",
    "similarities"
   ]
  },
  {
   "cell_type": "code",
   "execution_count": 15,
   "metadata": {},
   "outputs": [
    {
     "name": "stdout",
     "output_type": "stream",
     "text": [
      "[3, -1, 2]\n",
      "3\n",
      "Similarity score:  0.49863166\n",
      "Most similar topic:  [('thoughts', 0.13584010072228), ('mind', 0.06594163200181184), ('people', 0.05847361966931354), ('thought', 0.05419590736327881), ('brain', 0.05056967579264926), ('something', 0.046004019322687426), ('see', 0.0439610880012079), ('think', 0.0398193608613172), ('though', 0.03712057148816855), ('feeling', 0.03508417180158813)]\n"
     ]
    }
   ],
   "source": [
    "# Select the 3 most similar topics\n",
    "similar_topics, similarity = model.find_topics(\"hallucination\", top_n=3) #Find the 5 most similar topics to the word \"lsd\"\n",
    "print(similar_topics) #Print the 3 most similar topics : index from the most similar to the least similar\n",
    "\n",
    "\n",
    "most_similar_topics = similar_topics[0] #Get the most similar topic\n",
    "print(most_similar_topics) #Print the most similar topic\n",
    "print(\"Similarity score: \", similarity[0]) #Print the similarity score\n",
    "print(\"Most similar topic: \", model.get_topic(most_similar_topics)) #Print the most similar topic"
   ]
  },
  {
   "cell_type": "code",
   "execution_count": 16,
   "metadata": {},
   "outputs": [
    {
     "name": "stdout",
     "output_type": "stream",
     "text": [
      "huggingface/tokenizers: The current process just got forked, after parallelism has already been used. Disabling parallelism to avoid deadlocks...\n",
      "To disable this warning, you can either:\n",
      "\t- Avoid using `tokenizers` before the fork if possible\n",
      "\t- Explicitly set the environment variable TOKENIZERS_PARALLELISM=(true | false)\n"
     ]
    }
   ],
   "source": [
    "%%bash\n",
    "mkdir -p ~/projects/TopicModelling_META/TopMod_pipeline/BERT_outputs"
   ]
  },
  {
   "cell_type": "code",
   "execution_count": 17,
   "metadata": {},
   "outputs": [
    {
     "data": {
      "text/plain": [
       "<bertopic._bertopic.BERTopic at 0x16ff2cc90>"
      ]
     },
     "execution_count": 17,
     "metadata": {},
     "output_type": "execute_result"
    }
   ],
   "source": [
    "\n",
    "\n",
    "BERT_model_name = f\"BERT_model_{condition}\"\n",
    "model.save(os.path.join(\"BERT_outputs\",BERT_model_name)) #Save model\n",
    "\n",
    "BERT_model = BERTopic.load(BERT_model_name)\n",
    "BERT_model"
   ]
  }
 ],
 "metadata": {
  "kernelspec": {
   "display_name": "topmodvenv",
   "language": "python",
   "name": "python3"
  },
  "language_info": {
   "codemirror_mode": {
    "name": "ipython",
    "version": 3
   },
   "file_extension": ".py",
   "mimetype": "text/x-python",
   "name": "python",
   "nbconvert_exporter": "python",
   "pygments_lexer": "ipython3",
   "version": "3.11.3"
  },
  "orig_nbformat": 4
 },
 "nbformat": 4,
 "nbformat_minor": 2
}
